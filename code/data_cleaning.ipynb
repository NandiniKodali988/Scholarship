{
 "cells": [
  {
   "cell_type": "code",
   "execution_count": 10,
   "metadata": {},
   "outputs": [],
   "source": [
    "import pandas as pd\n",
    "import numpy as np"
   ]
  },
  {
   "cell_type": "code",
   "execution_count": 11,
   "metadata": {},
   "outputs": [],
   "source": [
    "# Load the dataset\n",
    "df = pd.read_csv(\"../data/raw/security_incidents.csv\")"
   ]
  },
  {
   "cell_type": "code",
   "execution_count": 12,
   "metadata": {},
   "outputs": [
    {
     "data": {
      "text/html": [
       "<div>\n",
       "<style scoped>\n",
       "    .dataframe tbody tr th:only-of-type {\n",
       "        vertical-align: middle;\n",
       "    }\n",
       "\n",
       "    .dataframe tbody tr th {\n",
       "        vertical-align: top;\n",
       "    }\n",
       "\n",
       "    .dataframe thead th {\n",
       "        text-align: right;\n",
       "    }\n",
       "</style>\n",
       "<table border=\"1\" class=\"dataframe\">\n",
       "  <thead>\n",
       "    <tr style=\"text-align: right;\">\n",
       "      <th></th>\n",
       "      <th>Incident ID</th>\n",
       "      <th>Year</th>\n",
       "      <th>Month</th>\n",
       "      <th>Day</th>\n",
       "      <th>Country Code</th>\n",
       "      <th>Country</th>\n",
       "      <th>Region</th>\n",
       "      <th>District</th>\n",
       "      <th>City</th>\n",
       "      <th>UN</th>\n",
       "      <th>...</th>\n",
       "      <th>Attack context</th>\n",
       "      <th>Location</th>\n",
       "      <th>Latitude</th>\n",
       "      <th>Longitude</th>\n",
       "      <th>Motive</th>\n",
       "      <th>Actor type</th>\n",
       "      <th>Actor name</th>\n",
       "      <th>Details</th>\n",
       "      <th>Verified</th>\n",
       "      <th>Source</th>\n",
       "    </tr>\n",
       "  </thead>\n",
       "  <tbody>\n",
       "    <tr>\n",
       "      <th>0</th>\n",
       "      <td>1</td>\n",
       "      <td>1997</td>\n",
       "      <td>1.0</td>\n",
       "      <td>NaN</td>\n",
       "      <td>KH</td>\n",
       "      <td>Cambodia</td>\n",
       "      <td>Banteay Meanchey</td>\n",
       "      <td>NaN</td>\n",
       "      <td>NaN</td>\n",
       "      <td>0</td>\n",
       "      <td>...</td>\n",
       "      <td>Unknown</td>\n",
       "      <td>Unknown</td>\n",
       "      <td>14.070929</td>\n",
       "      <td>103.099916</td>\n",
       "      <td>Unknown</td>\n",
       "      <td>Unknown</td>\n",
       "      <td>Unknown</td>\n",
       "      <td>1 ICRC national staff killed while working in ...</td>\n",
       "      <td>Archived</td>\n",
       "      <td>Archived</td>\n",
       "    </tr>\n",
       "    <tr>\n",
       "      <th>1</th>\n",
       "      <td>2</td>\n",
       "      <td>1997</td>\n",
       "      <td>1.0</td>\n",
       "      <td>NaN</td>\n",
       "      <td>RW</td>\n",
       "      <td>Rwanda</td>\n",
       "      <td>Northern</td>\n",
       "      <td>Musanze</td>\n",
       "      <td>Ruhengeri</td>\n",
       "      <td>0</td>\n",
       "      <td>...</td>\n",
       "      <td>Raid</td>\n",
       "      <td>Office/compound</td>\n",
       "      <td>-1.499840</td>\n",
       "      <td>29.634970</td>\n",
       "      <td>Unknown</td>\n",
       "      <td>Unknown</td>\n",
       "      <td>Unknown</td>\n",
       "      <td>3 INGO international (Spanish) staff killed, 1...</td>\n",
       "      <td>Archived</td>\n",
       "      <td>Archived</td>\n",
       "    </tr>\n",
       "    <tr>\n",
       "      <th>2</th>\n",
       "      <td>3</td>\n",
       "      <td>1997</td>\n",
       "      <td>2.0</td>\n",
       "      <td>NaN</td>\n",
       "      <td>TJ</td>\n",
       "      <td>Tajikistan</td>\n",
       "      <td>NaN</td>\n",
       "      <td>NaN</td>\n",
       "      <td>NaN</td>\n",
       "      <td>4</td>\n",
       "      <td>...</td>\n",
       "      <td>Unknown</td>\n",
       "      <td>Unknown</td>\n",
       "      <td>38.628173</td>\n",
       "      <td>70.815654</td>\n",
       "      <td>NaN</td>\n",
       "      <td>Unknown</td>\n",
       "      <td>Unknown</td>\n",
       "      <td>3 UN national staff, 1 UN international (Niger...</td>\n",
       "      <td>Archived</td>\n",
       "      <td>Archived</td>\n",
       "    </tr>\n",
       "    <tr>\n",
       "      <th>3</th>\n",
       "      <td>4</td>\n",
       "      <td>1997</td>\n",
       "      <td>2.0</td>\n",
       "      <td>NaN</td>\n",
       "      <td>SO</td>\n",
       "      <td>Somalia</td>\n",
       "      <td>Lower Juba</td>\n",
       "      <td>Kismayo</td>\n",
       "      <td>Kismayo</td>\n",
       "      <td>0</td>\n",
       "      <td>...</td>\n",
       "      <td>Unknown</td>\n",
       "      <td>Unknown</td>\n",
       "      <td>-0.358216</td>\n",
       "      <td>42.545087</td>\n",
       "      <td>Political</td>\n",
       "      <td>Non-state armed group: Regional</td>\n",
       "      <td>Al-Itihaad al-Islamiya</td>\n",
       "      <td>1 INGO international staff killed by Al ittiha...</td>\n",
       "      <td>Archived</td>\n",
       "      <td>Archived</td>\n",
       "    </tr>\n",
       "    <tr>\n",
       "      <th>4</th>\n",
       "      <td>5</td>\n",
       "      <td>1997</td>\n",
       "      <td>2.0</td>\n",
       "      <td>14.0</td>\n",
       "      <td>RW</td>\n",
       "      <td>Rwanda</td>\n",
       "      <td>Kigali</td>\n",
       "      <td>Kigali</td>\n",
       "      <td>Kigali</td>\n",
       "      <td>1</td>\n",
       "      <td>...</td>\n",
       "      <td>Individual attack</td>\n",
       "      <td>Unknown</td>\n",
       "      <td>-1.950851</td>\n",
       "      <td>30.061508</td>\n",
       "      <td>Political</td>\n",
       "      <td>Unknown</td>\n",
       "      <td>Unknown</td>\n",
       "      <td>1 UN national staff shot and killed in Kigali ...</td>\n",
       "      <td>Archived</td>\n",
       "      <td>Archived</td>\n",
       "    </tr>\n",
       "  </tbody>\n",
       "</table>\n",
       "<p>5 rows × 41 columns</p>\n",
       "</div>"
      ],
      "text/plain": [
       "   Incident ID  Year  Month   Day Country Code     Country            Region  \\\n",
       "0            1  1997    1.0   NaN           KH    Cambodia  Banteay Meanchey   \n",
       "1            2  1997    1.0   NaN           RW      Rwanda          Northern   \n",
       "2            3  1997    2.0   NaN           TJ  Tajikistan               NaN   \n",
       "3            4  1997    2.0   NaN           SO     Somalia        Lower Juba   \n",
       "4            5  1997    2.0  14.0           RW      Rwanda            Kigali   \n",
       "\n",
       "  District       City  UN  ...     Attack context         Location   Latitude  \\\n",
       "0      NaN        NaN   0  ...            Unknown          Unknown  14.070929   \n",
       "1  Musanze  Ruhengeri   0  ...               Raid  Office/compound  -1.499840   \n",
       "2      NaN        NaN   4  ...            Unknown          Unknown  38.628173   \n",
       "3  Kismayo    Kismayo   0  ...            Unknown          Unknown  -0.358216   \n",
       "4   Kigali     Kigali   1  ...  Individual attack          Unknown  -1.950851   \n",
       "\n",
       "    Longitude     Motive                       Actor type  \\\n",
       "0  103.099916    Unknown                          Unknown   \n",
       "1   29.634970    Unknown                          Unknown   \n",
       "2   70.815654        NaN                          Unknown   \n",
       "3   42.545087  Political  Non-state armed group: Regional   \n",
       "4   30.061508  Political                          Unknown   \n",
       "\n",
       "               Actor name                                            Details  \\\n",
       "0                 Unknown  1 ICRC national staff killed while working in ...   \n",
       "1                 Unknown  3 INGO international (Spanish) staff killed, 1...   \n",
       "2                 Unknown  3 UN national staff, 1 UN international (Niger...   \n",
       "3  Al-Itihaad al-Islamiya  1 INGO international staff killed by Al ittiha...   \n",
       "4                 Unknown  1 UN national staff shot and killed in Kigali ...   \n",
       "\n",
       "   Verified    Source  \n",
       "0  Archived  Archived  \n",
       "1  Archived  Archived  \n",
       "2  Archived  Archived  \n",
       "3  Archived  Archived  \n",
       "4  Archived  Archived  \n",
       "\n",
       "[5 rows x 41 columns]"
      ]
     },
     "execution_count": 12,
     "metadata": {},
     "output_type": "execute_result"
    }
   ],
   "source": [
    "df.head()"
   ]
  },
  {
   "cell_type": "code",
   "execution_count": 13,
   "metadata": {},
   "outputs": [
    {
     "name": "stdout",
     "output_type": "stream",
     "text": [
      "<class 'pandas.core.frame.DataFrame'>\n",
      "RangeIndex: 4337 entries, 0 to 4336\n",
      "Data columns (total 41 columns):\n",
      " #   Column                    Non-Null Count  Dtype  \n",
      "---  ------                    --------------  -----  \n",
      " 0   Incident ID               4337 non-null   int64  \n",
      " 1   Year                      4337 non-null   int64  \n",
      " 2   Month                     4289 non-null   float64\n",
      " 3   Day                       3957 non-null   float64\n",
      " 4   Country Code              4304 non-null   object \n",
      " 5   Country                   4332 non-null   object \n",
      " 6   Region                    3970 non-null   object \n",
      " 7   District                  3601 non-null   object \n",
      " 8   City                      3349 non-null   object \n",
      " 9   UN                        4337 non-null   int64  \n",
      " 10  INGO                      4337 non-null   int64  \n",
      " 11  ICRC                      4328 non-null   float64\n",
      " 12  NRCS and IFRC             4328 non-null   float64\n",
      " 13  NNGO                      4328 non-null   float64\n",
      " 14  Other                     4337 non-null   int64  \n",
      " 15  Nationals killed          4337 non-null   int64  \n",
      " 16  Nationals wounded         4337 non-null   int64  \n",
      " 17  Nationals kidnapped       4337 non-null   int64  \n",
      " 18  Total nationals           4337 non-null   int64  \n",
      " 19  Internationals killed     4337 non-null   int64  \n",
      " 20  Internationals wounded    4337 non-null   int64  \n",
      " 21  Internationals kidnapped  4337 non-null   int64  \n",
      " 22  Total internationals      4337 non-null   int64  \n",
      " 23  Total killed              4337 non-null   int64  \n",
      " 24  Total wounded             4337 non-null   int64  \n",
      " 25  Total kidnapped           4337 non-null   int64  \n",
      " 26  Total affected            4337 non-null   int64  \n",
      " 27  Gender Male               4337 non-null   int64  \n",
      " 28  Gender Female             4337 non-null   int64  \n",
      " 29  Gender Unknown            4337 non-null   int64  \n",
      " 30  Means of attack           4337 non-null   object \n",
      " 31  Attack context            4337 non-null   object \n",
      " 32  Location                  4337 non-null   object \n",
      " 33  Latitude                  4324 non-null   float64\n",
      " 34  Longitude                 4324 non-null   float64\n",
      " 35  Motive                    4333 non-null   object \n",
      " 36  Actor type                4337 non-null   object \n",
      " 37  Actor name                4329 non-null   object \n",
      " 38  Details                   4337 non-null   object \n",
      " 39  Verified                  4336 non-null   object \n",
      " 40  Source                    4337 non-null   object \n",
      "dtypes: float64(7), int64(20), object(14)\n",
      "memory usage: 1.4+ MB\n"
     ]
    }
   ],
   "source": [
    "df.info()"
   ]
  },
  {
   "cell_type": "code",
   "execution_count": 14,
   "metadata": {},
   "outputs": [
    {
     "data": {
      "text/plain": [
       "(4337, 41)"
      ]
     },
     "execution_count": 14,
     "metadata": {},
     "output_type": "execute_result"
    }
   ],
   "source": [
    "df.shape"
   ]
  },
  {
   "cell_type": "code",
   "execution_count": 15,
   "metadata": {},
   "outputs": [
    {
     "data": {
      "text/plain": [
       "City             988\n",
       "District         736\n",
       "Day              380\n",
       "Region           367\n",
       "Month             48\n",
       "Country Code      33\n",
       "Latitude          13\n",
       "Longitude         13\n",
       "ICRC               9\n",
       "NRCS and IFRC      9\n",
       "NNGO               9\n",
       "Actor name         8\n",
       "Country            5\n",
       "Motive             4\n",
       "Verified           1\n",
       "dtype: int64"
      ]
     },
     "execution_count": 15,
     "metadata": {},
     "output_type": "execute_result"
    }
   ],
   "source": [
    "# count missing values in each column\n",
    "missing_counts = df.isnull().sum()\n",
    "\n",
    "# dispplay columns with missing values only\n",
    "missing_counts[missing_counts > 0].sort_values(ascending=False)\n"
   ]
  },
  {
   "cell_type": "code",
   "execution_count": 16,
   "metadata": {},
   "outputs": [],
   "source": [
    "# Fill categorical columns with 'Unknown'\n",
    "fill_unknown_cols = ['City', 'District', 'Region', 'Country', 'Country Code', 'Actor name', 'Motive', 'Verified']\n",
    "df[fill_unknown_cols] = df[fill_unknown_cols].fillna('Unknown')\n",
    "\n",
    "# Fill Month/Day with neutral placeholders\n",
    "df['Month'] = df['Month'].fillna(6).astype(int)\n",
    "df['Day'] = df['Day'].fillna(15).astype(int)\n",
    "\n",
    "# Fill 0/1 org involvement flags with 0\n",
    "for org_col in ['ICRC', 'NRCS and IFRC', 'NNGO']:\n",
    "    df[org_col] = df[org_col].fillna(0).astype(int)\n",
    "\n",
    "# Drop rows with missing coordinates\n",
    "df = df.dropna(subset=['Latitude', 'Longitude'])\n",
    "\n"
   ]
  },
  {
   "cell_type": "code",
   "execution_count": 17,
   "metadata": {},
   "outputs": [
    {
     "data": {
      "text/plain": [
       "(4324, 41)"
      ]
     },
     "execution_count": 17,
     "metadata": {},
     "output_type": "execute_result"
    }
   ],
   "source": [
    "df.shape"
   ]
  },
  {
   "cell_type": "code",
   "execution_count": 19,
   "metadata": {},
   "outputs": [
    {
     "data": {
      "text/plain": [
       "Incident ID                   int64\n",
       "Year                          int64\n",
       "Month                         int64\n",
       "Day                           int64\n",
       "Country Code                 object\n",
       "Country                      object\n",
       "Region                       object\n",
       "District                     object\n",
       "City                         object\n",
       "UN                            int64\n",
       "INGO                          int64\n",
       "ICRC                          int64\n",
       "NRCS and IFRC                 int64\n",
       "NNGO                          int64\n",
       "Other                         int64\n",
       "Nationals killed              int64\n",
       "Nationals wounded             int64\n",
       "Nationals kidnapped           int64\n",
       "Total nationals               int64\n",
       "Internationals killed         int64\n",
       "Internationals wounded        int64\n",
       "Internationals kidnapped      int64\n",
       "Total internationals          int64\n",
       "Total killed                  int64\n",
       "Total wounded                 int64\n",
       "Total kidnapped               int64\n",
       "Total affected                int64\n",
       "Gender Male                   int64\n",
       "Gender Female                 int64\n",
       "Gender Unknown                int64\n",
       "Means of attack              object\n",
       "Attack context               object\n",
       "Location                     object\n",
       "Latitude                    float64\n",
       "Longitude                   float64\n",
       "Motive                       object\n",
       "Actor type                   object\n",
       "Actor name                   object\n",
       "Details                      object\n",
       "Verified                     object\n",
       "Source                       object\n",
       "dtype: object"
      ]
     },
     "execution_count": 19,
     "metadata": {},
     "output_type": "execute_result"
    }
   ],
   "source": [
    "df.dtypes"
   ]
  },
  {
   "cell_type": "code",
   "execution_count": 20,
   "metadata": {},
   "outputs": [],
   "source": [
    "df.drop(columns=['Day'], inplace=True)\n"
   ]
  },
  {
   "cell_type": "code",
   "execution_count": 21,
   "metadata": {},
   "outputs": [
    {
     "data": {
      "text/plain": [
       "(4324, 40)"
      ]
     },
     "execution_count": 21,
     "metadata": {},
     "output_type": "execute_result"
    }
   ],
   "source": [
    "df.shape"
   ]
  },
  {
   "cell_type": "code",
   "execution_count": 22,
   "metadata": {},
   "outputs": [],
   "source": [
    "df.drop(columns=['Latitude', 'Longitude'], inplace=True)\n"
   ]
  },
  {
   "cell_type": "code",
   "execution_count": 23,
   "metadata": {},
   "outputs": [
    {
     "name": "stdout",
     "output_type": "stream",
     "text": [
      "['Unknown' 'Shooting' 'Kidnapping' 'Kidnap-killing' 'Aerial bombardment'\n",
      " 'Landmine ' 'Shelling' 'Body-borne IED' 'Bodily assault' 'Roadside IED'\n",
      " 'Vehicle-born IED' 'Other Explosives' 'Rape/sexual assault '\n",
      " 'Complex attack']\n"
     ]
    }
   ],
   "source": [
    "print(df['Means of attack'].unique())"
   ]
  },
  {
   "cell_type": "code",
   "execution_count": 24,
   "metadata": {},
   "outputs": [
    {
     "name": "stdout",
     "output_type": "stream",
     "text": [
      "['Unknown' 'Raid' 'Individual attack' 'Combat/Crossfire' 'Ambush'\n",
      " 'Detention' 'Mob violence']\n"
     ]
    }
   ],
   "source": [
    "print(df['Attack context'].unique())"
   ]
  },
  {
   "cell_type": "code",
   "execution_count": 27,
   "metadata": {},
   "outputs": [
    {
     "name": "stdout",
     "output_type": "stream",
     "text": [
      "['Unknown' 'Political' 'Incidental' 'Economic' 'Disputed' 'Other']\n"
     ]
    }
   ],
   "source": [
    "print(df['Motive'].unique())"
   ]
  },
  {
   "cell_type": "code",
   "execution_count": 28,
   "metadata": {},
   "outputs": [
    {
     "name": "stdout",
     "output_type": "stream",
     "text": [
      "['Unknown' 'Non-state armed group: Regional'\n",
      " 'Non-state armed group: National' 'Non-state armed group: Unknown'\n",
      " 'Staff member' 'Non-state armed group: Subnational' 'Unaffiliated'\n",
      " 'State: unknown' 'Police or paramilitary' 'Host state' 'Aid recipient'\n",
      " 'Non-state armed group: Global' 'Criminal' 'Foreign or coalition forces'\n",
      " 'Host State' 'Non-state armed group: Global ']\n"
     ]
    }
   ],
   "source": [
    "print(df['Actor type'].unique())"
   ]
  },
  {
   "cell_type": "code",
   "execution_count": 30,
   "metadata": {},
   "outputs": [
    {
     "name": "stdout",
     "output_type": "stream",
     "text": [
      "['Unknown' 'Al-Itihaad al-Islamiya'\n",
      " 'Alliance of Democratic Forces for the Liberation of Congo-Zaire (ADFL)'\n",
      " 'Not applicable' 'Security guard' 'Clan'\n",
      " 'Armed Forces Revolutionary Council (AFRC)'\n",
      " 'Uganda National Rescue Front' 'Taliban' 'Armed tribesmen' 'Interahamwe'\n",
      " 'Militia' 'National Union for the Total Independence of Angola'\n",
      " 'Osman Atto Militia' 'Mobile Brigade Corps (Brimod)'\n",
      " 'Indonesian National Police' 'Sudan Liberation Movement/Army (SLA/AW)'\n",
      " 'Provincial Organization of Volunteers of Civil Defence of Angola (OPVDCA)'\n",
      " 'Mai Mai Militia' 'Muse Sudi & Omar Finish militia groups'\n",
      " \"Lord's Resistance Army (LRA)\" 'Al-Qaeda'\n",
      " \"Sudan People's Liberation Army (SPLA)\" 'Israel Defense Forces (IDF)'\n",
      " 'Ninja militia'\n",
      " 'Liberians United for Reconciliation and Democracy (LURD)'\n",
      " 'Al-Ittihad al-Islami' 'Contractor' 'Congolese National Police'\n",
      " 'Jaysh al-Mahdi' 'Janjaweed' 'Maoist rebel group (name unknown)'\n",
      " 'Indonesian National Armed Forces' 'Youths'\n",
      " 'Revolutionary Armed Forces of Colombia'\n",
      " 'Armed Forces of the Democratic Republic of the Congo (FARDC)'\n",
      " 'National Liberation Army' 'Shilluk King police' 'Murle & Didinga'\n",
      " 'Sudan National Security Service' 'Lashkar-e-Qahhar (suspected)'\n",
      " 'Sudanese Armed Forces' 'Special Task Force' 'Sri Lanka Armed Forces'\n",
      " 'Liberation Tigers of Tamil Eelam' 'Security Forces' 'Pirates'\n",
      " 'Transitional Federal Government forces (TFG)' 'Haqqani Network'\n",
      " 'Local government actors' 'Al Shabaab'\n",
      " 'Alliance for the Re-liberation of Somalia (armed faction)'\n",
      " 'International Security Assistance Force (ISAF)' 'Chadian Armed Forces'\n",
      " 'National Congress for the Defence of the People' 'Bani Dhabian tribe'\n",
      " 'Abu Sayyaf' 'Balochistan Liberation United Front' 'Police'\n",
      " 'Falcons for the Liberation of Africa' 'Military Police'\n",
      " 'Ethiopian Defense Forces' 'Oromo clan' 'Mai Mai Yakutumba'\n",
      " 'Al-Qaeda (affiliated)' 'Ogaden National Liberation Front (ONLF)'\n",
      " 'Pashtun and Uzbek anti-government forces' 'Uknown' 'Afghan Armed Forces'\n",
      " 'Murle Tribesman' 'Boko Haram' 'Mayi-Mayi Cheka' 'Conseil des R'\n",
      " 'Nuer clan' 'Democratic Forces for the Liberation of Rwanda (FDLR)'\n",
      " 'Spouse' 'Afghan National Police (ANP)' 'Abide Marabou tribe'\n",
      " 'Ansar al-Sharia' 'Yemeni Armed Forces'\n",
      " 'Somaliland Rapid Response Unit (RRU)' 'Refugees' 'Islamic State (IS)'\n",
      " 'Al-Marakisha tribe' 'Somali Armed Forces'\n",
      " 'District Shadow Governor (DSG)' 'International Military Forces (IMF)'\n",
      " 'Al-Nusra Front' 'National Security Personnel' 'Shareea Court' 'Seleka'\n",
      " 'Community members' 'Moro National Liberation Front (MNLF)'\n",
      " 'Tehrik-i-Taliban Pakistan (TTP)' 'Ex-Seleka' 'Afghan Local Police'\n",
      " 'Internally Displaced People (IDPs)'\n",
      " 'The Movement for Oneness and Jihad in West Africa (MUJAO)' 'Anti-Balaka'\n",
      " 'Mabanese Defense Forces' \"Donetsk People's Republic\"\n",
      " 'Pro-SPLA Shiluk militia' 'Dir Clan' 'Syrian Armed Forces'\n",
      " 'Kokang rebels' 'Al-Murabitoun' 'Russian Syrian Military Coalition'\n",
      " 'Family member' 'United States Armed Forces' 'Ex-employee'\n",
      " 'Ansar al-Islam' \"Sudan People's Liberation Army-in-Opposition (SPLA-IO)\"\n",
      " 'South Sudan Defence Forces (SSDF)' 'Saudi-led Coalition (SLC)'\n",
      " 'Houti Forces' 'Nigerian Armed Forces' 'Airport security'\n",
      " 'Kachin Independence Army (KIA)'\n",
      " 'Popular Front for the Central African Renaissance'\n",
      " 'Mouvement Patriotique pour la Centrafrique / Front Populaire pour la Renaissance de Centrafrique (MPC/FPRC)'\n",
      " 'Front Populaire pour la Renaissance de Centrafrique (FPRC)'\n",
      " 'Administration Police (AP)' 'Misseriya'\n",
      " 'South Sudan National Police Service' 'Hayat Tahrir al-Sham (HTS)'\n",
      " 'Military' 'Group to Support Islam and Muslims (GSIM)' 'MS-13'\n",
      " 'Tuareg tribe' 'Union for Peace in the Central African Republic (UPC)'\n",
      " 'Bandits '\n",
      " 'The Popular Front for the Rebirth of Central African Republic (FPRC)'\n",
      " 'Ebola victim families ' 'Day labourer' 'DR Congo Armed Forces'\n",
      " 'Security guards' 'Anti-Balaka ' 'Afghan National Security Forces'\n",
      " 'Islamic State in West Africa (ISWA)' 'Myanmar Armed Forces'\n",
      " 'Spouse/National Security Services (NSS)' 'Northern Alliance'\n",
      " 'Ethiopian Armed Forces' 'Fulani' 'SPLA/M-IO' 'Turkish Armed Forces'\n",
      " 'The Islamic Emirate of Afghanistan'\n",
      " 'Unite pour la paix en Centrafrique (UPC)' 'National Salvation Front'\n",
      " 'Turkish Armed Forces and Free Syrian Army'\n",
      " 'National Council of Abs District Officer' 'Isreali Defence Forces (IDF)'\n",
      " 'You le Geant' 'Civilians' 'Toronto Boys' 'Unknown '\n",
      " 'Guardians of Religion Organisation' 'Armed Opposition'\n",
      " 'Karamojong Militia' 'Malian Armed Forces (FAMA)'\n",
      " \"Kurdistan Workers' Party (PKK)\" 'Fulanis tribe'\n",
      " 'Islamic State of West Africa Province' 'JNIM Militia'\n",
      " 'Amazonia seperatists' 'Arab Tribesmen' 'Islamic State'\n",
      " 'Dan Na Ambassagou Militia' 'US Coalition' 'Tribes'\n",
      " 'Mayi-Mayi Biloze Bishambuke' 'Syrian Democratic Forces (SDF)'\n",
      " 'Taxi driver'\n",
      " \"Sudan People's Liberation Army-in-Opposition (SPLA-IO) affiliated youth\"\n",
      " 'Tribesmen' 'Marehan-Wagardhac militia'\n",
      " 'Coalition des Patriotes pour le  Changement/Mouvement Patriotique pour la Centrafrique (CPC/MPC)'\n",
      " 'Joint Force' 'Criminal' 'Cameroon Armed Forces' 'Civilian'\n",
      " 'Twigwaneho Militia' 'Mai Mai Buhirwa Militia' 'Malual Mouk Clan'\n",
      " 'Monyumiji Youth' \"People's Defense Force (PDF)\"\n",
      " 'Ambazonian Defense Forces (ADF)' 'Central African Armed Forces (FACA)'\n",
      " 'Herders' \"People's Militia Force\" 'Kurdish Self-management forces'\n",
      " 'Pyu Saw Htee militia' 'Retour, Reclamation et Rehabilitation (3R)'\n",
      " 'Junta Forces' '400 Mawozo' 'Hawadle Clan militia' 'Israeli Settlers'\n",
      " 'Dawlatoun' 'Labour Union' 'Unknwon' 'Russian Armed Forces'\n",
      " 'Commercial motorcyclists' 'Union Parishad' 'Islamic Republic of Iran'\n",
      " 'Beneficiary' 'Rizeigat Militia' 'Kuluna gang' 'Haitian National Police'\n",
      " 'Unite pour la Paix en Centrafique (UPC)' 'Youth' 'Unkown' 'Girlfriend'\n",
      " 'Prison services' 'Body guard of administrative authority'\n",
      " 'Kachin Independence Army' 'Kitgwang Militia' 'Al Fasher Militia'\n",
      " 'Allied Democratic Forces (ADF)'\n",
      " 'Chieng Kuol and Chieng Yaar communities '\n",
      " \"Uganda People's Defence Force\" 'Tigray People’s Liberation Front (TPLF)'\n",
      " 'Saraya Ahl al-Khaf' 'Oromo Liberation Army (OLA)'\n",
      " 'Islamic State (affiliated)' 'Boko Karam'\n",
      " 'Islamic State in the Greater Sahara' 'Bandits'\n",
      " \"Sudan People's Liberation Movement-North\" 'Dinka Bor'\n",
      " 'Lango age-set group' 'Agaar Dinka community members'\n",
      " 'Husband of aid receipient' 'Rapid Support Forces (RSF)' 'CODECO'\n",
      " 'PMC Wagner' 'Sudan Rapid Support Forces (RSF)' 'Aid recipient' 'Workers'\n",
      " 'Community member' 'One Heart gang' 'Jund al-Sham' 'Dhulbahante clan'\n",
      " 'Dulmi-diid clan militia' \"Tariq Saleh's forces\"\n",
      " 'Local Agar Dinka members' 'Dawei Defense Team (PaKaPha)' 'Unaffiliated'\n",
      " 'March 23 Movement (M23)' 'Local resistance forces' 'Hamas' 'Luo youth'\n",
      " 'Israeli Defence Forces (IDF)' 'Spouse of a beneficiary'\n",
      " 'Rek Dinka and the Marial Bai/Wun Bai community' 'Ex-wife'\n",
      " 'UN national staff' 'Not aplicable' 'Zamfara Militia'\n",
      " 'Rapid Support Forces' 'IDP' 'Homeless person' 'Colleague' 'IDPs'\n",
      " 'Southern Transitional Council (STC)' 'QSD militia' 'Non applicable'\n",
      " 'Fellow staff member' 'Myanmar National Democratic Alliance Army (MNDAA)'\n",
      " 'Armed demonstrators' 'Protesters' 'Houthi Forces' 'Criminals' 'Wagner'\n",
      " 'Digil-Jiido clan militia' 'Burkina Faso Armed Forces' 'EIS affiliated'\n",
      " 'Israel Defense Forces' 'Sudan Joint Forces' 'Haitian Police']\n"
     ]
    }
   ],
   "source": [
    "print(df['Actor name'].unique())"
   ]
  },
  {
   "cell_type": "code",
   "execution_count": 32,
   "metadata": {},
   "outputs": [
    {
     "data": {
      "text/plain": [
       "(4324, 38)"
      ]
     },
     "execution_count": 32,
     "metadata": {},
     "output_type": "execute_result"
    }
   ],
   "source": [
    "df.shape"
   ]
  },
  {
   "cell_type": "code",
   "execution_count": 33,
   "metadata": {},
   "outputs": [],
   "source": [
    "df.to_csv(\"../data/processed/security_incidents_clean.csv\", index=False)"
   ]
  },
  {
   "cell_type": "code",
   "execution_count": 34,
   "metadata": {},
   "outputs": [],
   "source": [
    "# Define the mapping\n",
    "actor_group_map = {\n",
    "    'Non-state armed group: Regional': 'Non-state Armed Group',\n",
    "    'Non-state armed group: National': 'Non-state Armed Group',\n",
    "    'Non-state armed group: Unknown': 'Non-state Armed Group',\n",
    "    'Non-state armed group: Subnational': 'Non-state Armed Group',\n",
    "    'Non-state armed group: Global': 'Non-state Armed Group',\n",
    "    'Non-state armed group: Global ': 'Non-state Armed Group',  # trailing space\n",
    "\n",
    "    'Host state': 'State Actor',\n",
    "    'Host State': 'State Actor',\n",
    "    'State: unknown': 'State Actor',\n",
    "    'Police or paramilitary': 'State Actor',\n",
    "    'Foreign or coalition forces': 'State Actor',\n",
    "\n",
    "    'Staff member': 'Individual',\n",
    "    'Unaffiliated': 'Individual',\n",
    "    'Aid recipient': 'Individual',\n",
    "\n",
    "    'Criminal': 'Criminal',\n",
    "    'Unknown': 'Unknown'\n",
    "}\n",
    "\n",
    "# Apply the mapping\n",
    "df['ActorGroup'] = df['Actor type'].map(actor_group_map)\n"
   ]
  },
  {
   "cell_type": "code",
   "execution_count": 35,
   "metadata": {},
   "outputs": [],
   "source": [
    "df.to_csv(\"../data/processed/security_incidents_clean.csv\", index=False)"
   ]
  },
  {
   "cell_type": "code",
   "execution_count": null,
   "metadata": {},
   "outputs": [],
   "source": []
  }
 ],
 "metadata": {
  "kernelspec": {
   "display_name": "base",
   "language": "python",
   "name": "python3"
  },
  "language_info": {
   "codemirror_mode": {
    "name": "ipython",
    "version": 3
   },
   "file_extension": ".py",
   "mimetype": "text/x-python",
   "name": "python",
   "nbconvert_exporter": "python",
   "pygments_lexer": "ipython3",
   "version": "3.10.6"
  }
 },
 "nbformat": 4,
 "nbformat_minor": 2
}
