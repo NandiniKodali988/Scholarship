{
 "cells": [
  {
   "cell_type": "code",
   "execution_count": 69,
   "metadata": {},
   "outputs": [],
   "source": [
    "import pandas as pd\n",
    "import numpy as np\n",
    "import altair as alt\n",
    "import plotly.graph_objects as go\n"
   ]
  },
  {
   "cell_type": "code",
   "execution_count": 7,
   "metadata": {},
   "outputs": [],
   "source": [
    "security_incidents_clean = pd.read_csv(\"../data/processed/security_incidents_clean.csv\")"
   ]
  },
  {
   "cell_type": "code",
   "execution_count": 8,
   "metadata": {},
   "outputs": [
    {
     "data": {
      "text/html": [
       "<div>\n",
       "<style scoped>\n",
       "    .dataframe tbody tr th:only-of-type {\n",
       "        vertical-align: middle;\n",
       "    }\n",
       "\n",
       "    .dataframe tbody tr th {\n",
       "        vertical-align: top;\n",
       "    }\n",
       "\n",
       "    .dataframe thead th {\n",
       "        text-align: right;\n",
       "    }\n",
       "</style>\n",
       "<table border=\"1\" class=\"dataframe\">\n",
       "  <thead>\n",
       "    <tr style=\"text-align: right;\">\n",
       "      <th></th>\n",
       "      <th>Incident ID</th>\n",
       "      <th>Year</th>\n",
       "      <th>Month</th>\n",
       "      <th>Country Code</th>\n",
       "      <th>Country</th>\n",
       "      <th>Region</th>\n",
       "      <th>District</th>\n",
       "      <th>City</th>\n",
       "      <th>UN</th>\n",
       "      <th>INGO</th>\n",
       "      <th>...</th>\n",
       "      <th>Means of attack</th>\n",
       "      <th>Attack context</th>\n",
       "      <th>Location</th>\n",
       "      <th>Motive</th>\n",
       "      <th>Actor type</th>\n",
       "      <th>Actor name</th>\n",
       "      <th>Details</th>\n",
       "      <th>Verified</th>\n",
       "      <th>Source</th>\n",
       "      <th>Group</th>\n",
       "    </tr>\n",
       "  </thead>\n",
       "  <tbody>\n",
       "    <tr>\n",
       "      <th>0</th>\n",
       "      <td>1</td>\n",
       "      <td>1997</td>\n",
       "      <td>1</td>\n",
       "      <td>KH</td>\n",
       "      <td>Cambodia</td>\n",
       "      <td>Banteay Meanchey</td>\n",
       "      <td>Unknown</td>\n",
       "      <td>Unknown</td>\n",
       "      <td>0</td>\n",
       "      <td>0</td>\n",
       "      <td>...</td>\n",
       "      <td>Unknown</td>\n",
       "      <td>Unknown</td>\n",
       "      <td>Unknown</td>\n",
       "      <td>Unknown</td>\n",
       "      <td>Unknown</td>\n",
       "      <td>Unknown</td>\n",
       "      <td>1 ICRC national staff killed while working in ...</td>\n",
       "      <td>Archived</td>\n",
       "      <td>Archived</td>\n",
       "      <td>Asia</td>\n",
       "    </tr>\n",
       "    <tr>\n",
       "      <th>1</th>\n",
       "      <td>2</td>\n",
       "      <td>1997</td>\n",
       "      <td>1</td>\n",
       "      <td>RW</td>\n",
       "      <td>Rwanda</td>\n",
       "      <td>Northern</td>\n",
       "      <td>Musanze</td>\n",
       "      <td>Ruhengeri</td>\n",
       "      <td>0</td>\n",
       "      <td>4</td>\n",
       "      <td>...</td>\n",
       "      <td>Shooting</td>\n",
       "      <td>Raid</td>\n",
       "      <td>Office/compound</td>\n",
       "      <td>Unknown</td>\n",
       "      <td>Unknown</td>\n",
       "      <td>Unknown</td>\n",
       "      <td>3 INGO international (Spanish) staff killed, 1...</td>\n",
       "      <td>Archived</td>\n",
       "      <td>Archived</td>\n",
       "      <td>Africa</td>\n",
       "    </tr>\n",
       "  </tbody>\n",
       "</table>\n",
       "<p>2 rows × 39 columns</p>\n",
       "</div>"
      ],
      "text/plain": [
       "   Incident ID  Year  Month Country Code   Country            Region District  \\\n",
       "0            1  1997      1           KH  Cambodia  Banteay Meanchey  Unknown   \n",
       "1            2  1997      1           RW    Rwanda          Northern  Musanze   \n",
       "\n",
       "        City  UN  INGO  ...  Means of attack  Attack context         Location  \\\n",
       "0    Unknown   0     0  ...          Unknown         Unknown          Unknown   \n",
       "1  Ruhengeri   0     4  ...         Shooting            Raid  Office/compound   \n",
       "\n",
       "    Motive  Actor type  Actor name  \\\n",
       "0  Unknown     Unknown     Unknown   \n",
       "1  Unknown     Unknown     Unknown   \n",
       "\n",
       "                                             Details  Verified    Source  \\\n",
       "0  1 ICRC national staff killed while working in ...  Archived  Archived   \n",
       "1  3 INGO international (Spanish) staff killed, 1...  Archived  Archived   \n",
       "\n",
       "    Group  \n",
       "0    Asia  \n",
       "1  Africa  \n",
       "\n",
       "[2 rows x 39 columns]"
      ]
     },
     "execution_count": 8,
     "metadata": {},
     "output_type": "execute_result"
    }
   ],
   "source": [
    "security_incidents_clean.head(2)"
   ]
  },
  {
   "cell_type": "markdown",
   "metadata": {},
   "source": [
    "# Total affected across the world"
   ]
  },
  {
   "cell_type": "code",
   "execution_count": 17,
   "metadata": {},
   "outputs": [
    {
     "name": "stderr",
     "output_type": "stream",
     "text": [
      "/Users/nandinikodali/miniforge3/lib/python3.10/site-packages/altair/utils/core.py:384: FutureWarning: the convert_dtype parameter is deprecated and will be removed in a future version.  Do ``ser.astype(object).apply()`` instead if you want ``convert_dtype=False``.\n",
      "  col = df[col_name].apply(to_list_if_array, convert_dtype=False)\n",
      "/Users/nandinikodali/miniforge3/lib/python3.10/site-packages/altair/utils/core.py:384: FutureWarning: the convert_dtype parameter is deprecated and will be removed in a future version.  Do ``ser.astype(object).apply()`` instead if you want ``convert_dtype=False``.\n",
      "  col = df[col_name].apply(to_list_if_array, convert_dtype=False)\n"
     ]
    },
    {
     "data": {
      "text/html": [
       "\n",
       "<div id=\"altair-viz-3f707ed013934770a0495eb45ced231e\"></div>\n",
       "<script type=\"text/javascript\">\n",
       "  var VEGA_DEBUG = (typeof VEGA_DEBUG == \"undefined\") ? {} : VEGA_DEBUG;\n",
       "  (function(spec, embedOpt){\n",
       "    let outputDiv = document.currentScript.previousElementSibling;\n",
       "    if (outputDiv.id !== \"altair-viz-3f707ed013934770a0495eb45ced231e\") {\n",
       "      outputDiv = document.getElementById(\"altair-viz-3f707ed013934770a0495eb45ced231e\");\n",
       "    }\n",
       "    const paths = {\n",
       "      \"vega\": \"https://cdn.jsdelivr.net/npm//vega@5?noext\",\n",
       "      \"vega-lib\": \"https://cdn.jsdelivr.net/npm//vega-lib?noext\",\n",
       "      \"vega-lite\": \"https://cdn.jsdelivr.net/npm//vega-lite@4.17.0?noext\",\n",
       "      \"vega-embed\": \"https://cdn.jsdelivr.net/npm//vega-embed@6?noext\",\n",
       "    };\n",
       "\n",
       "    function maybeLoadScript(lib, version) {\n",
       "      var key = `${lib.replace(\"-\", \"\")}_version`;\n",
       "      return (VEGA_DEBUG[key] == version) ?\n",
       "        Promise.resolve(paths[lib]) :\n",
       "        new Promise(function(resolve, reject) {\n",
       "          var s = document.createElement('script');\n",
       "          document.getElementsByTagName(\"head\")[0].appendChild(s);\n",
       "          s.async = true;\n",
       "          s.onload = () => {\n",
       "            VEGA_DEBUG[key] = version;\n",
       "            return resolve(paths[lib]);\n",
       "          };\n",
       "          s.onerror = () => reject(`Error loading script: ${paths[lib]}`);\n",
       "          s.src = paths[lib];\n",
       "        });\n",
       "    }\n",
       "\n",
       "    function showError(err) {\n",
       "      outputDiv.innerHTML = `<div class=\"error\" style=\"color:red;\">${err}</div>`;\n",
       "      throw err;\n",
       "    }\n",
       "\n",
       "    function displayChart(vegaEmbed) {\n",
       "      vegaEmbed(outputDiv, spec, embedOpt)\n",
       "        .catch(err => showError(`Javascript Error: ${err.message}<br>This usually means there's a typo in your chart specification. See the javascript console for the full traceback.`));\n",
       "    }\n",
       "\n",
       "    if(typeof define === \"function\" && define.amd) {\n",
       "      requirejs.config({paths});\n",
       "      require([\"vega-embed\"], displayChart, err => showError(`Error loading script: ${err.message}`));\n",
       "    } else {\n",
       "      maybeLoadScript(\"vega\", \"5\")\n",
       "        .then(() => maybeLoadScript(\"vega-lite\", \"4.17.0\"))\n",
       "        .then(() => maybeLoadScript(\"vega-embed\", \"6\"))\n",
       "        .catch(showError)\n",
       "        .then(() => displayChart(vegaEmbed));\n",
       "    }\n",
       "  })({\"config\": {\"view\": {\"continuousWidth\": 400, \"continuousHeight\": 300, \"stroke\": null}}, \"layer\": [{\"mark\": {\"type\": \"line\", \"color\": \"red\"}, \"encoding\": {\"tooltip\": [{\"field\": \"Year\", \"type\": \"nominal\"}, {\"field\": \"Total affected\", \"type\": \"quantitative\"}], \"x\": {\"axis\": {\"labelAngle\": 0, \"values\": [\"1997\", \"2000\", \"2003\", \"2006\", \"2009\", \"2012\", \"2015\", \"2018\", \"2021\", \"2024\"]}, \"field\": \"Year\", \"title\": \"Year\", \"type\": \"nominal\"}, \"y\": {\"axis\": {\"grid\": false}, \"field\": \"Total affected\", \"title\": \"Total Affected\", \"type\": \"quantitative\"}}, \"height\": 400, \"selection\": {\"selector015\": {\"type\": \"interval\", \"bind\": \"scales\", \"encodings\": [\"x\", \"y\"]}}, \"title\": \"Total Aid Workers Affected Over Time\", \"width\": 700}, {\"mark\": {\"type\": \"point\", \"color\": \"red\", \"filled\": true, \"size\": 80}, \"encoding\": {\"tooltip\": [{\"field\": \"Year\", \"type\": \"nominal\"}, {\"field\": \"Total affected\", \"type\": \"quantitative\"}], \"x\": {\"field\": \"Year\", \"type\": \"nominal\"}, \"y\": {\"field\": \"Total affected\", \"type\": \"quantitative\"}}}], \"data\": {\"name\": \"data-995181508a35faa15cad8948f1dfdfc7\"}, \"$schema\": \"https://vega.github.io/schema/vega-lite/v4.17.0.json\", \"datasets\": {\"data-995181508a35faa15cad8948f1dfdfc7\": [{\"Year\": \"1997\", \"Total affected\": 73}, {\"Year\": \"1998\", \"Total affected\": 62}, {\"Year\": \"1999\", \"Total affected\": 66}, {\"Year\": \"2000\", \"Total affected\": 87}, {\"Year\": \"2001\", \"Total affected\": 86}, {\"Year\": \"2002\", \"Total affected\": 85}, {\"Year\": \"2003\", \"Total affected\": 142}, {\"Year\": \"2004\", \"Total affected\": 127}, {\"Year\": \"2005\", \"Total affected\": 172}, {\"Year\": \"2006\", \"Total affected\": 240}, {\"Year\": \"2007\", \"Total affected\": 221}, {\"Year\": \"2008\", \"Total affected\": 278}, {\"Year\": \"2009\", \"Total affected\": 300}, {\"Year\": \"2010\", \"Total affected\": 252}, {\"Year\": \"2011\", \"Total affected\": 309}, {\"Year\": \"2012\", \"Total affected\": 277}, {\"Year\": \"2013\", \"Total affected\": 474}, {\"Year\": \"2014\", \"Total affected\": 340}, {\"Year\": \"2015\", \"Total affected\": 290}, {\"Year\": \"2016\", \"Total affected\": 296}, {\"Year\": \"2017\", \"Total affected\": 315}, {\"Year\": \"2018\", \"Total affected\": 409}, {\"Year\": \"2019\", \"Total affected\": 481}, {\"Year\": \"2020\", \"Total affected\": 484}, {\"Year\": \"2021\", \"Total affected\": 466}, {\"Year\": \"2022\", \"Total affected\": 449}, {\"Year\": \"2023\", \"Total affected\": 594}, {\"Year\": \"2024\", \"Total affected\": 714}, {\"Year\": \"2025\", \"Total affected\": 68}]}}, {\"mode\": \"vega-lite\"});\n",
       "</script>"
      ],
      "text/plain": [
       "alt.LayerChart(...)"
      ]
     },
     "execution_count": 17,
     "metadata": {},
     "output_type": "execute_result"
    }
   ],
   "source": [
    "# Convert Year to string (Altair handles x-axis better this way)\n",
    "security_incidents_clean['Year'] = security_incidents_clean['Year'].astype(str)\n",
    "\n",
    "# Group by year\n",
    "yearly = security_incidents_clean.groupby('Year')['Total affected'].sum().reset_index()\n",
    "\n",
    "# Get tick labels for every 3rd year\n",
    "tick_values = yearly['Year'][::3].tolist()\n",
    "\n",
    "# Line chart\n",
    "line = alt.Chart(yearly).mark_line(\n",
    "    color='red'\n",
    ").encode(\n",
    "    x=alt.X('Year:N', title='Year', axis=alt.Axis(values=tick_values, labelAngle=0)),\n",
    "    y=alt.Y('Total affected:Q', title='Total Affected', axis=alt.Axis(grid=False)),\n",
    "    tooltip=[\n",
    "        alt.Tooltip('Year:N'),\n",
    "        alt.Tooltip('Total affected:Q')\n",
    "    ]\n",
    ").properties(\n",
    "    title='Total Aid Workers Affected Over Time',\n",
    "    width=700,\n",
    "    height=400\n",
    ")\n",
    "\n",
    "# Red markers\n",
    "points = alt.Chart(yearly).mark_point(\n",
    "    color='red',\n",
    "    filled=True,\n",
    "    size=80\n",
    ").encode(\n",
    "    x='Year:N',\n",
    "    y='Total affected:Q',\n",
    "    tooltip=[\n",
    "        alt.Tooltip('Year:N'),\n",
    "        alt.Tooltip('Total affected:Q')\n",
    "    ]\n",
    ")\n",
    "\n",
    "final_chart = (line + points).interactive().configure_view(\n",
    "    stroke=None\n",
    ")\n",
    "final_chart.save('../plots/total_affected_over_time.html')\n",
    "final_chart\n"
   ]
  },
  {
   "cell_type": "markdown",
   "metadata": {},
   "source": [
    "# Group wise total affected"
   ]
  },
  {
   "cell_type": "code",
   "execution_count": 18,
   "metadata": {},
   "outputs": [],
   "source": [
    "security_incidents_clean['Year'] = security_incidents_clean['Year'].astype(str)"
   ]
  },
  {
   "cell_type": "code",
   "execution_count": 21,
   "metadata": {},
   "outputs": [
    {
     "name": "stderr",
     "output_type": "stream",
     "text": [
      "/Users/nandinikodali/miniforge3/lib/python3.10/site-packages/altair/utils/core.py:384: FutureWarning: the convert_dtype parameter is deprecated and will be removed in a future version.  Do ``ser.astype(object).apply()`` instead if you want ``convert_dtype=False``.\n",
      "  col = df[col_name].apply(to_list_if_array, convert_dtype=False)\n",
      "/Users/nandinikodali/miniforge3/lib/python3.10/site-packages/altair/utils/core.py:384: FutureWarning: the convert_dtype parameter is deprecated and will be removed in a future version.  Do ``ser.astype(object).apply()`` instead if you want ``convert_dtype=False``.\n",
      "  col = df[col_name].apply(to_list_if_array, convert_dtype=False)\n"
     ]
    },
    {
     "data": {
      "text/html": [
       "\n",
       "<div id=\"altair-viz-76b12fe2262949bc8ef5da84255587c2\"></div>\n",
       "<script type=\"text/javascript\">\n",
       "  var VEGA_DEBUG = (typeof VEGA_DEBUG == \"undefined\") ? {} : VEGA_DEBUG;\n",
       "  (function(spec, embedOpt){\n",
       "    let outputDiv = document.currentScript.previousElementSibling;\n",
       "    if (outputDiv.id !== \"altair-viz-76b12fe2262949bc8ef5da84255587c2\") {\n",
       "      outputDiv = document.getElementById(\"altair-viz-76b12fe2262949bc8ef5da84255587c2\");\n",
       "    }\n",
       "    const paths = {\n",
       "      \"vega\": \"https://cdn.jsdelivr.net/npm//vega@5?noext\",\n",
       "      \"vega-lib\": \"https://cdn.jsdelivr.net/npm//vega-lib?noext\",\n",
       "      \"vega-lite\": \"https://cdn.jsdelivr.net/npm//vega-lite@4.17.0?noext\",\n",
       "      \"vega-embed\": \"https://cdn.jsdelivr.net/npm//vega-embed@6?noext\",\n",
       "    };\n",
       "\n",
       "    function maybeLoadScript(lib, version) {\n",
       "      var key = `${lib.replace(\"-\", \"\")}_version`;\n",
       "      return (VEGA_DEBUG[key] == version) ?\n",
       "        Promise.resolve(paths[lib]) :\n",
       "        new Promise(function(resolve, reject) {\n",
       "          var s = document.createElement('script');\n",
       "          document.getElementsByTagName(\"head\")[0].appendChild(s);\n",
       "          s.async = true;\n",
       "          s.onload = () => {\n",
       "            VEGA_DEBUG[key] = version;\n",
       "            return resolve(paths[lib]);\n",
       "          };\n",
       "          s.onerror = () => reject(`Error loading script: ${paths[lib]}`);\n",
       "          s.src = paths[lib];\n",
       "        });\n",
       "    }\n",
       "\n",
       "    function showError(err) {\n",
       "      outputDiv.innerHTML = `<div class=\"error\" style=\"color:red;\">${err}</div>`;\n",
       "      throw err;\n",
       "    }\n",
       "\n",
       "    function displayChart(vegaEmbed) {\n",
       "      vegaEmbed(outputDiv, spec, embedOpt)\n",
       "        .catch(err => showError(`Javascript Error: ${err.message}<br>This usually means there's a typo in your chart specification. See the javascript console for the full traceback.`));\n",
       "    }\n",
       "\n",
       "    if(typeof define === \"function\" && define.amd) {\n",
       "      requirejs.config({paths});\n",
       "      require([\"vega-embed\"], displayChart, err => showError(`Error loading script: ${err.message}`));\n",
       "    } else {\n",
       "      maybeLoadScript(\"vega\", \"5\")\n",
       "        .then(() => maybeLoadScript(\"vega-lite\", \"4.17.0\"))\n",
       "        .then(() => maybeLoadScript(\"vega-embed\", \"6\"))\n",
       "        .catch(showError)\n",
       "        .then(() => displayChart(vegaEmbed));\n",
       "    }\n",
       "  })({\"config\": {\"view\": {\"continuousWidth\": 400, \"continuousHeight\": 300, \"stroke\": null}}, \"layer\": [{\"mark\": {\"type\": \"line\", \"color\": \"red\"}, \"encoding\": {\"tooltip\": [{\"field\": \"Year\", \"type\": \"nominal\"}, {\"field\": \"Total affected\", \"type\": \"quantitative\"}], \"x\": {\"axis\": {\"labelAngle\": 0, \"values\": [\"1997\", \"2000\", \"2003\", \"2006\", \"2009\", \"2012\", \"2015\", \"2018\", \"2021\", \"2024\"]}, \"field\": \"Year\", \"title\": \"Year\", \"type\": \"nominal\"}, \"y\": {\"axis\": {\"grid\": false}, \"field\": \"Total affected\", \"title\": \"Total Affected\", \"type\": \"quantitative\"}}, \"height\": 400, \"selection\": {\"selector018\": {\"type\": \"interval\", \"bind\": \"scales\", \"encodings\": [\"x\", \"y\"]}}, \"title\": \"Africa: Total Aid Workers Affected Over Time\", \"width\": 700}, {\"mark\": {\"type\": \"point\", \"color\": \"red\", \"filled\": true, \"size\": 80}, \"encoding\": {\"tooltip\": [{\"field\": \"Year\", \"type\": \"nominal\"}, {\"field\": \"Total affected\", \"type\": \"quantitative\"}], \"x\": {\"field\": \"Year\", \"type\": \"nominal\"}, \"y\": {\"field\": \"Total affected\", \"type\": \"quantitative\"}}}], \"data\": {\"name\": \"data-e019f9ac722df1e99f38394056d82c32\"}, \"$schema\": \"https://vega.github.io/schema/vega-lite/v4.17.0.json\", \"datasets\": {\"data-e019f9ac722df1e99f38394056d82c32\": [{\"Year\": \"1997\", \"Total affected\": 47}, {\"Year\": \"1998\", \"Total affected\": 49}, {\"Year\": \"1999\", \"Total affected\": 48}, {\"Year\": \"2000\", \"Total affected\": 55}, {\"Year\": \"2001\", \"Total affected\": 56}, {\"Year\": \"2002\", \"Total affected\": 46}, {\"Year\": \"2003\", \"Total affected\": 62}, {\"Year\": \"2004\", \"Total affected\": 46}, {\"Year\": \"2005\", \"Total affected\": 118}, {\"Year\": \"2006\", \"Total affected\": 127}, {\"Year\": \"2007\", \"Total affected\": 95}, {\"Year\": \"2008\", \"Total affected\": 164}, {\"Year\": \"2009\", \"Total affected\": 124}, {\"Year\": \"2010\", \"Total affected\": 75}, {\"Year\": \"2011\", \"Total affected\": 168}, {\"Year\": \"2012\", \"Total affected\": 106}, {\"Year\": \"2013\", \"Total affected\": 155}, {\"Year\": \"2014\", \"Total affected\": 121}, {\"Year\": \"2015\", \"Total affected\": 146}, {\"Year\": \"2016\", \"Total affected\": 166}, {\"Year\": \"2017\", \"Total affected\": 205}, {\"Year\": \"2018\", \"Total affected\": 257}, {\"Year\": \"2019\", \"Total affected\": 281}, {\"Year\": \"2020\", \"Total affected\": 332}, {\"Year\": \"2021\", \"Total affected\": 283}, {\"Year\": \"2022\", \"Total affected\": 270}, {\"Year\": \"2023\", \"Total affected\": 289}, {\"Year\": \"2024\", \"Total affected\": 296}, {\"Year\": \"2025\", \"Total affected\": 34}]}}, {\"mode\": \"vega-lite\"});\n",
       "</script>"
      ],
      "text/plain": [
       "alt.LayerChart(...)"
      ]
     },
     "execution_count": 21,
     "metadata": {},
     "output_type": "execute_result"
    }
   ],
   "source": [
    "# africa\n",
    "africa = security_incidents_clean[security_incidents_clean['Group'] == 'Africa']\n",
    "africa_grouped = africa.groupby('Year')['Total affected'].sum().reset_index()\n",
    "tick_values = africa_grouped['Year'][::3].tolist()\n",
    "\n",
    "africa_chart = (\n",
    "    alt.Chart(africa_grouped).mark_line(color='red')\n",
    "    .encode(\n",
    "        x=alt.X('Year:N', axis=alt.Axis(values=tick_values, labelAngle=0), title='Year'),\n",
    "        y=alt.Y('Total affected:Q', axis=alt.Axis(grid=False), title='Total Affected'),\n",
    "        tooltip=['Year:N', 'Total affected:Q']\n",
    "    )\n",
    "    .properties(title='Africa: Total Aid Workers Affected Over Time', width=700, height=400)\n",
    "    + alt.Chart(africa_grouped).mark_point(color='red', filled=True, size=80)\n",
    "    .encode(x='Year:N', y='Total affected:Q', tooltip=['Year:N', 'Total affected:Q'])\n",
    ").interactive().configure_view(stroke=None)\n",
    "africa_chart.save(\"../plots/africa_total_affected.html\")\n",
    "africa_chart\n",
    "\n"
   ]
  },
  {
   "cell_type": "code",
   "execution_count": 24,
   "metadata": {},
   "outputs": [
    {
     "name": "stderr",
     "output_type": "stream",
     "text": [
      "/Users/nandinikodali/miniforge3/lib/python3.10/site-packages/altair/utils/core.py:384: FutureWarning: the convert_dtype parameter is deprecated and will be removed in a future version.  Do ``ser.astype(object).apply()`` instead if you want ``convert_dtype=False``.\n",
      "  col = df[col_name].apply(to_list_if_array, convert_dtype=False)\n",
      "/Users/nandinikodali/miniforge3/lib/python3.10/site-packages/altair/utils/core.py:384: FutureWarning: the convert_dtype parameter is deprecated and will be removed in a future version.  Do ``ser.astype(object).apply()`` instead if you want ``convert_dtype=False``.\n",
      "  col = df[col_name].apply(to_list_if_array, convert_dtype=False)\n"
     ]
    },
    {
     "data": {
      "text/html": [
       "\n",
       "<div id=\"altair-viz-1ebfec1632504e7a95e8ded82cee4f6b\"></div>\n",
       "<script type=\"text/javascript\">\n",
       "  var VEGA_DEBUG = (typeof VEGA_DEBUG == \"undefined\") ? {} : VEGA_DEBUG;\n",
       "  (function(spec, embedOpt){\n",
       "    let outputDiv = document.currentScript.previousElementSibling;\n",
       "    if (outputDiv.id !== \"altair-viz-1ebfec1632504e7a95e8ded82cee4f6b\") {\n",
       "      outputDiv = document.getElementById(\"altair-viz-1ebfec1632504e7a95e8ded82cee4f6b\");\n",
       "    }\n",
       "    const paths = {\n",
       "      \"vega\": \"https://cdn.jsdelivr.net/npm//vega@5?noext\",\n",
       "      \"vega-lib\": \"https://cdn.jsdelivr.net/npm//vega-lib?noext\",\n",
       "      \"vega-lite\": \"https://cdn.jsdelivr.net/npm//vega-lite@4.17.0?noext\",\n",
       "      \"vega-embed\": \"https://cdn.jsdelivr.net/npm//vega-embed@6?noext\",\n",
       "    };\n",
       "\n",
       "    function maybeLoadScript(lib, version) {\n",
       "      var key = `${lib.replace(\"-\", \"\")}_version`;\n",
       "      return (VEGA_DEBUG[key] == version) ?\n",
       "        Promise.resolve(paths[lib]) :\n",
       "        new Promise(function(resolve, reject) {\n",
       "          var s = document.createElement('script');\n",
       "          document.getElementsByTagName(\"head\")[0].appendChild(s);\n",
       "          s.async = true;\n",
       "          s.onload = () => {\n",
       "            VEGA_DEBUG[key] = version;\n",
       "            return resolve(paths[lib]);\n",
       "          };\n",
       "          s.onerror = () => reject(`Error loading script: ${paths[lib]}`);\n",
       "          s.src = paths[lib];\n",
       "        });\n",
       "    }\n",
       "\n",
       "    function showError(err) {\n",
       "      outputDiv.innerHTML = `<div class=\"error\" style=\"color:red;\">${err}</div>`;\n",
       "      throw err;\n",
       "    }\n",
       "\n",
       "    function displayChart(vegaEmbed) {\n",
       "      vegaEmbed(outputDiv, spec, embedOpt)\n",
       "        .catch(err => showError(`Javascript Error: ${err.message}<br>This usually means there's a typo in your chart specification. See the javascript console for the full traceback.`));\n",
       "    }\n",
       "\n",
       "    if(typeof define === \"function\" && define.amd) {\n",
       "      requirejs.config({paths});\n",
       "      require([\"vega-embed\"], displayChart, err => showError(`Error loading script: ${err.message}`));\n",
       "    } else {\n",
       "      maybeLoadScript(\"vega\", \"5\")\n",
       "        .then(() => maybeLoadScript(\"vega-lite\", \"4.17.0\"))\n",
       "        .then(() => maybeLoadScript(\"vega-embed\", \"6\"))\n",
       "        .catch(showError)\n",
       "        .then(() => displayChart(vegaEmbed));\n",
       "    }\n",
       "  })({\"config\": {\"view\": {\"continuousWidth\": 400, \"continuousHeight\": 300, \"stroke\": null}}, \"layer\": [{\"mark\": {\"type\": \"line\", \"color\": \"red\"}, \"encoding\": {\"tooltip\": [{\"field\": \"Year\", \"type\": \"nominal\"}, {\"field\": \"Total affected\", \"type\": \"quantitative\"}], \"x\": {\"axis\": {\"labelAngle\": 0, \"values\": [\"1997\", \"2000\", \"2003\", \"2006\", \"2009\", \"2012\", \"2015\", \"2018\", \"2021\", \"2024\"]}, \"field\": \"Year\", \"title\": \"Year\", \"type\": \"nominal\"}, \"y\": {\"axis\": {\"grid\": false}, \"field\": \"Total affected\", \"title\": \"Total Affected\", \"type\": \"quantitative\"}}, \"height\": 400, \"selection\": {\"selector020\": {\"type\": \"interval\", \"bind\": \"scales\", \"encodings\": [\"x\", \"y\"]}}, \"title\": \"Asia: Total Aid Workers Affected Over Time\", \"width\": 700}, {\"mark\": {\"type\": \"point\", \"color\": \"red\", \"filled\": true, \"size\": 80}, \"encoding\": {\"tooltip\": [{\"field\": \"Year\", \"type\": \"nominal\"}, {\"field\": \"Total affected\", \"type\": \"quantitative\"}], \"x\": {\"field\": \"Year\", \"type\": \"nominal\"}, \"y\": {\"field\": \"Total affected\", \"type\": \"quantitative\"}}}], \"data\": {\"name\": \"data-5ef52cf65bdead85b3bf793164e0fc73\"}, \"$schema\": \"https://vega.github.io/schema/vega-lite/v4.17.0.json\", \"datasets\": {\"data-5ef52cf65bdead85b3bf793164e0fc73\": [{\"Year\": \"1997\", \"Total affected\": 11}, {\"Year\": \"1998\", \"Total affected\": 4}, {\"Year\": \"1999\", \"Total affected\": 13}, {\"Year\": \"2000\", \"Total affected\": 30}, {\"Year\": \"2001\", \"Total affected\": 23}, {\"Year\": \"2002\", \"Total affected\": 14}, {\"Year\": \"2003\", \"Total affected\": 73}, {\"Year\": \"2004\", \"Total affected\": 74}, {\"Year\": \"2005\", \"Total affected\": 48}, {\"Year\": \"2006\", \"Total affected\": 99}, {\"Year\": \"2007\", \"Total affected\": 115}, {\"Year\": \"2008\", \"Total affected\": 107}, {\"Year\": \"2009\", \"Total affected\": 157}, {\"Year\": \"2010\", \"Total affected\": 164}, {\"Year\": \"2011\", \"Total affected\": 133}, {\"Year\": \"2012\", \"Total affected\": 168}, {\"Year\": \"2013\", \"Total affected\": 314}, {\"Year\": \"2014\", \"Total affected\": 200}, {\"Year\": \"2015\", \"Total affected\": 141}, {\"Year\": \"2016\", \"Total affected\": 124}, {\"Year\": \"2017\", \"Total affected\": 106}, {\"Year\": \"2018\", \"Total affected\": 138}, {\"Year\": \"2019\", \"Total affected\": 180}, {\"Year\": \"2020\", \"Total affected\": 135}, {\"Year\": \"2021\", \"Total affected\": 158}, {\"Year\": \"2022\", \"Total affected\": 91}, {\"Year\": \"2023\", \"Total affected\": 52}, {\"Year\": \"2024\", \"Total affected\": 113}, {\"Year\": \"2025\", \"Total affected\": 12}]}}, {\"mode\": \"vega-lite\"});\n",
       "</script>"
      ],
      "text/plain": [
       "alt.LayerChart(...)"
      ]
     },
     "execution_count": 24,
     "metadata": {},
     "output_type": "execute_result"
    }
   ],
   "source": [
    "# Asia\n",
    "asia = security_incidents_clean[security_incidents_clean['Group'] == 'Asia']\n",
    "asia_grouped = asia.groupby('Year')['Total affected'].sum().reset_index()\n",
    "tick_values = asia_grouped['Year'][::3].tolist()\n",
    "\n",
    "asia_chart = (\n",
    "    alt.Chart(asia_grouped).mark_line(color='red')\n",
    "    .encode(\n",
    "        x=alt.X('Year:N', axis=alt.Axis(values=tick_values, labelAngle=0), title='Year'),\n",
    "        y=alt.Y('Total affected:Q', axis=alt.Axis(grid=False), title='Total Affected'),\n",
    "        tooltip=['Year:N', 'Total affected:Q']\n",
    "    )\n",
    "    .properties(title='Asia: Total Aid Workers Affected Over Time', width=700, height=400)\n",
    "    + alt.Chart(asia_grouped).mark_point(color='red', filled=True, size=80)\n",
    "    .encode(x='Year:N', y='Total affected:Q', tooltip=['Year:N', 'Total affected:Q'])\n",
    ").interactive().configure_view(stroke=None)\n",
    "\n",
    "asia_chart.save(\"../plots/asia_total_affected.html\")\n",
    "asia_chart\n"
   ]
  },
  {
   "cell_type": "code",
   "execution_count": 25,
   "metadata": {},
   "outputs": [
    {
     "name": "stderr",
     "output_type": "stream",
     "text": [
      "/Users/nandinikodali/miniforge3/lib/python3.10/site-packages/altair/utils/core.py:384: FutureWarning: the convert_dtype parameter is deprecated and will be removed in a future version.  Do ``ser.astype(object).apply()`` instead if you want ``convert_dtype=False``.\n",
      "  col = df[col_name].apply(to_list_if_array, convert_dtype=False)\n",
      "/Users/nandinikodali/miniforge3/lib/python3.10/site-packages/altair/utils/core.py:384: FutureWarning: the convert_dtype parameter is deprecated and will be removed in a future version.  Do ``ser.astype(object).apply()`` instead if you want ``convert_dtype=False``.\n",
      "  col = df[col_name].apply(to_list_if_array, convert_dtype=False)\n"
     ]
    },
    {
     "data": {
      "text/html": [
       "\n",
       "<div id=\"altair-viz-defc2652d2954a0d951d44493ccd8194\"></div>\n",
       "<script type=\"text/javascript\">\n",
       "  var VEGA_DEBUG = (typeof VEGA_DEBUG == \"undefined\") ? {} : VEGA_DEBUG;\n",
       "  (function(spec, embedOpt){\n",
       "    let outputDiv = document.currentScript.previousElementSibling;\n",
       "    if (outputDiv.id !== \"altair-viz-defc2652d2954a0d951d44493ccd8194\") {\n",
       "      outputDiv = document.getElementById(\"altair-viz-defc2652d2954a0d951d44493ccd8194\");\n",
       "    }\n",
       "    const paths = {\n",
       "      \"vega\": \"https://cdn.jsdelivr.net/npm//vega@5?noext\",\n",
       "      \"vega-lib\": \"https://cdn.jsdelivr.net/npm//vega-lib?noext\",\n",
       "      \"vega-lite\": \"https://cdn.jsdelivr.net/npm//vega-lite@4.17.0?noext\",\n",
       "      \"vega-embed\": \"https://cdn.jsdelivr.net/npm//vega-embed@6?noext\",\n",
       "    };\n",
       "\n",
       "    function maybeLoadScript(lib, version) {\n",
       "      var key = `${lib.replace(\"-\", \"\")}_version`;\n",
       "      return (VEGA_DEBUG[key] == version) ?\n",
       "        Promise.resolve(paths[lib]) :\n",
       "        new Promise(function(resolve, reject) {\n",
       "          var s = document.createElement('script');\n",
       "          document.getElementsByTagName(\"head\")[0].appendChild(s);\n",
       "          s.async = true;\n",
       "          s.onload = () => {\n",
       "            VEGA_DEBUG[key] = version;\n",
       "            return resolve(paths[lib]);\n",
       "          };\n",
       "          s.onerror = () => reject(`Error loading script: ${paths[lib]}`);\n",
       "          s.src = paths[lib];\n",
       "        });\n",
       "    }\n",
       "\n",
       "    function showError(err) {\n",
       "      outputDiv.innerHTML = `<div class=\"error\" style=\"color:red;\">${err}</div>`;\n",
       "      throw err;\n",
       "    }\n",
       "\n",
       "    function displayChart(vegaEmbed) {\n",
       "      vegaEmbed(outputDiv, spec, embedOpt)\n",
       "        .catch(err => showError(`Javascript Error: ${err.message}<br>This usually means there's a typo in your chart specification. See the javascript console for the full traceback.`));\n",
       "    }\n",
       "\n",
       "    if(typeof define === \"function\" && define.amd) {\n",
       "      requirejs.config({paths});\n",
       "      require([\"vega-embed\"], displayChart, err => showError(`Error loading script: ${err.message}`));\n",
       "    } else {\n",
       "      maybeLoadScript(\"vega\", \"5\")\n",
       "        .then(() => maybeLoadScript(\"vega-lite\", \"4.17.0\"))\n",
       "        .then(() => maybeLoadScript(\"vega-embed\", \"6\"))\n",
       "        .catch(showError)\n",
       "        .then(() => displayChart(vegaEmbed));\n",
       "    }\n",
       "  })({\"config\": {\"view\": {\"continuousWidth\": 400, \"continuousHeight\": 300, \"stroke\": null}}, \"layer\": [{\"mark\": {\"type\": \"line\", \"color\": \"red\"}, \"encoding\": {\"tooltip\": [{\"field\": \"Year\", \"type\": \"nominal\"}, {\"field\": \"Total affected\", \"type\": \"quantitative\"}], \"x\": {\"axis\": {\"labelAngle\": 0, \"values\": [\"2002\", \"2005\", \"2008\", \"2014\", \"2019\", \"2023\"]}, \"field\": \"Year\", \"title\": \"Year\", \"type\": \"nominal\"}, \"y\": {\"axis\": {\"grid\": false}, \"field\": \"Total affected\", \"title\": \"Total Affected\", \"type\": \"quantitative\"}}, \"height\": 400, \"selection\": {\"selector021\": {\"type\": \"interval\", \"bind\": \"scales\", \"encodings\": [\"x\", \"y\"]}}, \"title\": \"Middle East: Total Aid Workers Affected Over Time\", \"width\": 700}, {\"mark\": {\"type\": \"point\", \"color\": \"red\", \"filled\": true, \"size\": 80}, \"encoding\": {\"tooltip\": [{\"field\": \"Year\", \"type\": \"nominal\"}, {\"field\": \"Total affected\", \"type\": \"quantitative\"}], \"x\": {\"field\": \"Year\", \"type\": \"nominal\"}, \"y\": {\"field\": \"Total affected\", \"type\": \"quantitative\"}}}], \"data\": {\"name\": \"data-f74edfe7780bf357c818c05336833c71\"}, \"$schema\": \"https://vega.github.io/schema/vega-lite/v4.17.0.json\", \"datasets\": {\"data-f74edfe7780bf357c818c05336833c71\": [{\"Year\": \"2002\", \"Total affected\": 10}, {\"Year\": \"2003\", \"Total affected\": 3}, {\"Year\": \"2004\", \"Total affected\": 2}, {\"Year\": \"2005\", \"Total affected\": 1}, {\"Year\": \"2006\", \"Total affected\": 6}, {\"Year\": \"2007\", \"Total affected\": 4}, {\"Year\": \"2008\", \"Total affected\": 2}, {\"Year\": \"2009\", \"Total affected\": 17}, {\"Year\": \"2013\", \"Total affected\": 1}, {\"Year\": \"2014\", \"Total affected\": 17}, {\"Year\": \"2016\", \"Total affected\": 1}, {\"Year\": \"2018\", \"Total affected\": 3}, {\"Year\": \"2019\", \"Total affected\": 8}, {\"Year\": \"2021\", \"Total affected\": 3}, {\"Year\": \"2022\", \"Total affected\": 1}, {\"Year\": \"2023\", \"Total affected\": 214}, {\"Year\": \"2024\", \"Total affected\": 265}, {\"Year\": \"2025\", \"Total affected\": 20}]}}, {\"mode\": \"vega-lite\"});\n",
       "</script>"
      ],
      "text/plain": [
       "alt.LayerChart(...)"
      ]
     },
     "execution_count": 25,
     "metadata": {},
     "output_type": "execute_result"
    }
   ],
   "source": [
    "# middle east\n",
    "me = security_incidents_clean[security_incidents_clean['Group'] == 'Middle East']\n",
    "me_grouped = me.groupby('Year')['Total affected'].sum().reset_index()\n",
    "tick_values = me_grouped['Year'][::3].tolist()\n",
    "\n",
    "me_chart = (\n",
    "    alt.Chart(me_grouped).mark_line(color='red')\n",
    "    .encode(\n",
    "        x=alt.X('Year:N', axis=alt.Axis(values=tick_values, labelAngle=0), title='Year'),\n",
    "        y=alt.Y('Total affected:Q', axis=alt.Axis(grid=False), title='Total Affected'),\n",
    "        tooltip=['Year:N', 'Total affected:Q']\n",
    "    )\n",
    "    .properties(title='Middle East: Total Aid Workers Affected Over Time', width=700, height=400)\n",
    "    + alt.Chart(me_grouped).mark_point(color='red', filled=True, size=80)\n",
    "    .encode(x='Year:N', y='Total affected:Q', tooltip=['Year:N', 'Total affected:Q'])\n",
    ").interactive().configure_view(stroke=None)\n",
    "me_chart.save(\"../plots/middle_east_total_affected.html\")\n",
    "\n",
    "me_chart"
   ]
  },
  {
   "cell_type": "code",
   "execution_count": 31,
   "metadata": {},
   "outputs": [
    {
     "name": "stderr",
     "output_type": "stream",
     "text": [
      "/Users/nandinikodali/miniforge3/lib/python3.10/site-packages/altair/utils/core.py:384: FutureWarning: the convert_dtype parameter is deprecated and will be removed in a future version.  Do ``ser.astype(object).apply()`` instead if you want ``convert_dtype=False``.\n",
      "  col = df[col_name].apply(to_list_if_array, convert_dtype=False)\n",
      "/Users/nandinikodali/miniforge3/lib/python3.10/site-packages/altair/utils/core.py:384: FutureWarning: the convert_dtype parameter is deprecated and will be removed in a future version.  Do ``ser.astype(object).apply()`` instead if you want ``convert_dtype=False``.\n",
      "  col = df[col_name].apply(to_list_if_array, convert_dtype=False)\n"
     ]
    },
    {
     "data": {
      "text/html": [
       "\n",
       "<div id=\"altair-viz-6461e859831c49748bfa8fddca1e4087\"></div>\n",
       "<script type=\"text/javascript\">\n",
       "  var VEGA_DEBUG = (typeof VEGA_DEBUG == \"undefined\") ? {} : VEGA_DEBUG;\n",
       "  (function(spec, embedOpt){\n",
       "    let outputDiv = document.currentScript.previousElementSibling;\n",
       "    if (outputDiv.id !== \"altair-viz-6461e859831c49748bfa8fddca1e4087\") {\n",
       "      outputDiv = document.getElementById(\"altair-viz-6461e859831c49748bfa8fddca1e4087\");\n",
       "    }\n",
       "    const paths = {\n",
       "      \"vega\": \"https://cdn.jsdelivr.net/npm//vega@5?noext\",\n",
       "      \"vega-lib\": \"https://cdn.jsdelivr.net/npm//vega-lib?noext\",\n",
       "      \"vega-lite\": \"https://cdn.jsdelivr.net/npm//vega-lite@4.17.0?noext\",\n",
       "      \"vega-embed\": \"https://cdn.jsdelivr.net/npm//vega-embed@6?noext\",\n",
       "    };\n",
       "\n",
       "    function maybeLoadScript(lib, version) {\n",
       "      var key = `${lib.replace(\"-\", \"\")}_version`;\n",
       "      return (VEGA_DEBUG[key] == version) ?\n",
       "        Promise.resolve(paths[lib]) :\n",
       "        new Promise(function(resolve, reject) {\n",
       "          var s = document.createElement('script');\n",
       "          document.getElementsByTagName(\"head\")[0].appendChild(s);\n",
       "          s.async = true;\n",
       "          s.onload = () => {\n",
       "            VEGA_DEBUG[key] = version;\n",
       "            return resolve(paths[lib]);\n",
       "          };\n",
       "          s.onerror = () => reject(`Error loading script: ${paths[lib]}`);\n",
       "          s.src = paths[lib];\n",
       "        });\n",
       "    }\n",
       "\n",
       "    function showError(err) {\n",
       "      outputDiv.innerHTML = `<div class=\"error\" style=\"color:red;\">${err}</div>`;\n",
       "      throw err;\n",
       "    }\n",
       "\n",
       "    function displayChart(vegaEmbed) {\n",
       "      vegaEmbed(outputDiv, spec, embedOpt)\n",
       "        .catch(err => showError(`Javascript Error: ${err.message}<br>This usually means there's a typo in your chart specification. See the javascript console for the full traceback.`));\n",
       "    }\n",
       "\n",
       "    if(typeof define === \"function\" && define.amd) {\n",
       "      requirejs.config({paths});\n",
       "      require([\"vega-embed\"], displayChart, err => showError(`Error loading script: ${err.message}`));\n",
       "    } else {\n",
       "      maybeLoadScript(\"vega\", \"5\")\n",
       "        .then(() => maybeLoadScript(\"vega-lite\", \"4.17.0\"))\n",
       "        .then(() => maybeLoadScript(\"vega-embed\", \"6\"))\n",
       "        .catch(showError)\n",
       "        .then(() => displayChart(vegaEmbed));\n",
       "    }\n",
       "  })({\"config\": {\"view\": {\"continuousWidth\": 400, \"continuousHeight\": 300, \"stroke\": null}}, \"layer\": [{\"mark\": {\"type\": \"line\", \"color\": \"red\"}, \"encoding\": {\"tooltip\": [{\"field\": \"Year\", \"type\": \"nominal\"}, {\"field\": \"Total affected\", \"type\": \"quantitative\"}], \"x\": {\"axis\": {\"labelAngle\": 0, \"values\": [\"2004\", \"2007\", \"2010\", \"2013\", \"2017\", \"2020\", \"2023\"]}, \"field\": \"Year\", \"title\": \"Year\", \"type\": \"nominal\"}, \"y\": {\"axis\": {\"grid\": false}, \"field\": \"Total affected\", \"title\": \"Total Affected\", \"type\": \"quantitative\"}}, \"height\": 400, \"selection\": {\"selector025\": {\"type\": \"interval\", \"bind\": \"scales\", \"encodings\": [\"x\", \"y\"]}}, \"title\": \"North America: Total Aid Workers Affected Over Time\", \"width\": 700}, {\"mark\": {\"type\": \"point\", \"color\": \"red\", \"filled\": true, \"size\": 80}, \"encoding\": {\"tooltip\": [{\"field\": \"Year\", \"type\": \"nominal\"}, {\"field\": \"Total affected\", \"type\": \"quantitative\"}], \"x\": {\"field\": \"Year\", \"type\": \"nominal\"}, \"y\": {\"field\": \"Total affected\", \"type\": \"quantitative\"}}}], \"data\": {\"name\": \"data-bf62148f56a3d039d0738feb822eba1d\"}, \"$schema\": \"https://vega.github.io/schema/vega-lite/v4.17.0.json\", \"datasets\": {\"data-bf62148f56a3d039d0738feb822eba1d\": [{\"Year\": \"2004\", \"Total affected\": 1}, {\"Year\": \"2005\", \"Total affected\": 1}, {\"Year\": \"2006\", \"Total affected\": 6}, {\"Year\": \"2007\", \"Total affected\": 2}, {\"Year\": \"2008\", \"Total affected\": 5}, {\"Year\": \"2009\", \"Total affected\": 1}, {\"Year\": \"2010\", \"Total affected\": 13}, {\"Year\": \"2011\", \"Total affected\": 6}, {\"Year\": \"2012\", \"Total affected\": 3}, {\"Year\": \"2013\", \"Total affected\": 3}, {\"Year\": \"2015\", \"Total affected\": 3}, {\"Year\": \"2016\", \"Total affected\": 5}, {\"Year\": \"2017\", \"Total affected\": 4}, {\"Year\": \"2018\", \"Total affected\": 9}, {\"Year\": \"2019\", \"Total affected\": 8}, {\"Year\": \"2020\", \"Total affected\": 9}, {\"Year\": \"2021\", \"Total affected\": 20}, {\"Year\": \"2022\", \"Total affected\": 20}, {\"Year\": \"2023\", \"Total affected\": 9}, {\"Year\": \"2024\", \"Total affected\": 5}]}}, {\"mode\": \"vega-lite\"});\n",
       "</script>"
      ],
      "text/plain": [
       "alt.LayerChart(...)"
      ]
     },
     "execution_count": 31,
     "metadata": {},
     "output_type": "execute_result"
    }
   ],
   "source": [
    "# North America\n",
    "americas = security_incidents_clean[security_incidents_clean['Group'] == 'North America']\n",
    "americas_grouped = americas.groupby('Year')['Total affected'].sum().reset_index()\n",
    "tick_values = americas_grouped['Year'][::3].tolist()\n",
    "\n",
    "americas_chart = (\n",
    "    alt.Chart(americas_grouped).mark_line(color='red')\n",
    "    .encode(\n",
    "        x=alt.X('Year:N', axis=alt.Axis(values=tick_values, labelAngle=0), title='Year'),\n",
    "        y=alt.Y('Total affected:Q', axis=alt.Axis(grid=False), title='Total Affected'),\n",
    "        tooltip=['Year:N', 'Total affected:Q']\n",
    "    )\n",
    "    .properties(title='North America: Total Aid Workers Affected Over Time', width=700, height=400)\n",
    "    + alt.Chart(americas_grouped).mark_point(color='red', filled=True, size=80)\n",
    "    .encode(x='Year:N', y='Total affected:Q', tooltip=['Year:N', 'Total affected:Q'])\n",
    ").interactive().configure_view(stroke=None)\n",
    "\n",
    "americas_chart.save(\"../plots/northamerica_total_affected.html\")\n",
    "americas_chart\n"
   ]
  },
  {
   "cell_type": "code",
   "execution_count": 33,
   "metadata": {},
   "outputs": [
    {
     "name": "stderr",
     "output_type": "stream",
     "text": [
      "/Users/nandinikodali/miniforge3/lib/python3.10/site-packages/altair/utils/core.py:384: FutureWarning: the convert_dtype parameter is deprecated and will be removed in a future version.  Do ``ser.astype(object).apply()`` instead if you want ``convert_dtype=False``.\n",
      "  col = df[col_name].apply(to_list_if_array, convert_dtype=False)\n",
      "/Users/nandinikodali/miniforge3/lib/python3.10/site-packages/altair/utils/core.py:384: FutureWarning: the convert_dtype parameter is deprecated and will be removed in a future version.  Do ``ser.astype(object).apply()`` instead if you want ``convert_dtype=False``.\n",
      "  col = df[col_name].apply(to_list_if_array, convert_dtype=False)\n"
     ]
    },
    {
     "data": {
      "text/html": [
       "\n",
       "<div id=\"altair-viz-c9ffbd5ddcd24e119f67743d5280c717\"></div>\n",
       "<script type=\"text/javascript\">\n",
       "  var VEGA_DEBUG = (typeof VEGA_DEBUG == \"undefined\") ? {} : VEGA_DEBUG;\n",
       "  (function(spec, embedOpt){\n",
       "    let outputDiv = document.currentScript.previousElementSibling;\n",
       "    if (outputDiv.id !== \"altair-viz-c9ffbd5ddcd24e119f67743d5280c717\") {\n",
       "      outputDiv = document.getElementById(\"altair-viz-c9ffbd5ddcd24e119f67743d5280c717\");\n",
       "    }\n",
       "    const paths = {\n",
       "      \"vega\": \"https://cdn.jsdelivr.net/npm//vega@5?noext\",\n",
       "      \"vega-lib\": \"https://cdn.jsdelivr.net/npm//vega-lib?noext\",\n",
       "      \"vega-lite\": \"https://cdn.jsdelivr.net/npm//vega-lite@4.17.0?noext\",\n",
       "      \"vega-embed\": \"https://cdn.jsdelivr.net/npm//vega-embed@6?noext\",\n",
       "    };\n",
       "\n",
       "    function maybeLoadScript(lib, version) {\n",
       "      var key = `${lib.replace(\"-\", \"\")}_version`;\n",
       "      return (VEGA_DEBUG[key] == version) ?\n",
       "        Promise.resolve(paths[lib]) :\n",
       "        new Promise(function(resolve, reject) {\n",
       "          var s = document.createElement('script');\n",
       "          document.getElementsByTagName(\"head\")[0].appendChild(s);\n",
       "          s.async = true;\n",
       "          s.onload = () => {\n",
       "            VEGA_DEBUG[key] = version;\n",
       "            return resolve(paths[lib]);\n",
       "          };\n",
       "          s.onerror = () => reject(`Error loading script: ${paths[lib]}`);\n",
       "          s.src = paths[lib];\n",
       "        });\n",
       "    }\n",
       "\n",
       "    function showError(err) {\n",
       "      outputDiv.innerHTML = `<div class=\"error\" style=\"color:red;\">${err}</div>`;\n",
       "      throw err;\n",
       "    }\n",
       "\n",
       "    function displayChart(vegaEmbed) {\n",
       "      vegaEmbed(outputDiv, spec, embedOpt)\n",
       "        .catch(err => showError(`Javascript Error: ${err.message}<br>This usually means there's a typo in your chart specification. See the javascript console for the full traceback.`));\n",
       "    }\n",
       "\n",
       "    if(typeof define === \"function\" && define.amd) {\n",
       "      requirejs.config({paths});\n",
       "      require([\"vega-embed\"], displayChart, err => showError(`Error loading script: ${err.message}`));\n",
       "    } else {\n",
       "      maybeLoadScript(\"vega\", \"5\")\n",
       "        .then(() => maybeLoadScript(\"vega-lite\", \"4.17.0\"))\n",
       "        .then(() => maybeLoadScript(\"vega-embed\", \"6\"))\n",
       "        .catch(showError)\n",
       "        .then(() => displayChart(vegaEmbed));\n",
       "    }\n",
       "  })({\"config\": {\"view\": {\"continuousWidth\": 400, \"continuousHeight\": 300, \"stroke\": null}}, \"layer\": [{\"mark\": {\"type\": \"line\", \"color\": \"red\"}, \"encoding\": {\"tooltip\": [{\"field\": \"Year\", \"type\": \"nominal\"}, {\"field\": \"Total affected\", \"type\": \"quantitative\"}], \"x\": {\"axis\": {\"labelAngle\": 0, \"values\": [\"1999\", \"2004\", \"2011\", \"2020\", \"2023\"]}, \"field\": \"Year\", \"title\": \"Year\", \"type\": \"nominal\"}, \"y\": {\"axis\": {\"grid\": false}, \"field\": \"Total affected\", \"title\": \"Total Affected\", \"type\": \"quantitative\"}}, \"height\": 400, \"selection\": {\"selector027\": {\"type\": \"interval\", \"bind\": \"scales\", \"encodings\": [\"x\", \"y\"]}}, \"title\": \"South America: Total Aid Workers Affected Over Time\", \"width\": 700}, {\"mark\": {\"type\": \"point\", \"color\": \"red\", \"filled\": true, \"size\": 80}, \"encoding\": {\"tooltip\": [{\"field\": \"Year\", \"type\": \"nominal\"}, {\"field\": \"Total affected\", \"type\": \"quantitative\"}], \"x\": {\"field\": \"Year\", \"type\": \"nominal\"}, \"y\": {\"field\": \"Total affected\", \"type\": \"quantitative\"}}}], \"data\": {\"name\": \"data-33e2d23465c1675057237057d6a632b4\"}, \"$schema\": \"https://vega.github.io/schema/vega-lite/v4.17.0.json\", \"datasets\": {\"data-33e2d23465c1675057237057d6a632b4\": [{\"Year\": \"1999\", \"Total affected\": 1}, {\"Year\": \"2000\", \"Total affected\": 1}, {\"Year\": \"2002\", \"Total affected\": 4}, {\"Year\": \"2004\", \"Total affected\": 2}, {\"Year\": \"2005\", \"Total affected\": 3}, {\"Year\": \"2006\", \"Total affected\": 2}, {\"Year\": \"2011\", \"Total affected\": 1}, {\"Year\": \"2013\", \"Total affected\": 1}, {\"Year\": \"2019\", \"Total affected\": 2}, {\"Year\": \"2020\", \"Total affected\": 6}, {\"Year\": \"2021\", \"Total affected\": 2}, {\"Year\": \"2022\", \"Total affected\": 3}, {\"Year\": \"2023\", \"Total affected\": 2}, {\"Year\": \"2024\", \"Total affected\": 3}]}}, {\"mode\": \"vega-lite\"});\n",
       "</script>"
      ],
      "text/plain": [
       "alt.LayerChart(...)"
      ]
     },
     "execution_count": 33,
     "metadata": {},
     "output_type": "execute_result"
    }
   ],
   "source": [
    "# South America\n",
    "americas = security_incidents_clean[security_incidents_clean['Group'] == 'South America']\n",
    "americas_grouped = americas.groupby('Year')['Total affected'].sum().reset_index()\n",
    "tick_values = americas_grouped['Year'][::3].tolist()\n",
    "\n",
    "americas_chart = (\n",
    "    alt.Chart(americas_grouped).mark_line(color='red')\n",
    "    .encode(\n",
    "        x=alt.X('Year:N', axis=alt.Axis(values=tick_values, labelAngle=0), title='Year'),\n",
    "        y=alt.Y('Total affected:Q', axis=alt.Axis(grid=False), title='Total Affected'),\n",
    "        tooltip=['Year:N', 'Total affected:Q']\n",
    "    )\n",
    "    .properties(title='South America: Total Aid Workers Affected Over Time', width=700, height=400)\n",
    "    + alt.Chart(americas_grouped).mark_point(color='red', filled=True, size=80)\n",
    "    .encode(x='Year:N', y='Total affected:Q', tooltip=['Year:N', 'Total affected:Q'])\n",
    ").interactive().configure_view(stroke=None)\n",
    "\n",
    "americas_chart.save(\"../plots/southamerica_total_affected.html\")\n",
    "americas_chart\n"
   ]
  },
  {
   "cell_type": "code",
   "execution_count": 35,
   "metadata": {},
   "outputs": [
    {
     "name": "stderr",
     "output_type": "stream",
     "text": [
      "/Users/nandinikodali/miniforge3/lib/python3.10/site-packages/altair/utils/core.py:384: FutureWarning: the convert_dtype parameter is deprecated and will be removed in a future version.  Do ``ser.astype(object).apply()`` instead if you want ``convert_dtype=False``.\n",
      "  col = df[col_name].apply(to_list_if_array, convert_dtype=False)\n",
      "/Users/nandinikodali/miniforge3/lib/python3.10/site-packages/altair/utils/core.py:384: FutureWarning: the convert_dtype parameter is deprecated and will be removed in a future version.  Do ``ser.astype(object).apply()`` instead if you want ``convert_dtype=False``.\n",
      "  col = df[col_name].apply(to_list_if_array, convert_dtype=False)\n"
     ]
    },
    {
     "data": {
      "text/html": [
       "\n",
       "<div id=\"altair-viz-70092acb2f394470860fb1a16ab8558e\"></div>\n",
       "<script type=\"text/javascript\">\n",
       "  var VEGA_DEBUG = (typeof VEGA_DEBUG == \"undefined\") ? {} : VEGA_DEBUG;\n",
       "  (function(spec, embedOpt){\n",
       "    let outputDiv = document.currentScript.previousElementSibling;\n",
       "    if (outputDiv.id !== \"altair-viz-70092acb2f394470860fb1a16ab8558e\") {\n",
       "      outputDiv = document.getElementById(\"altair-viz-70092acb2f394470860fb1a16ab8558e\");\n",
       "    }\n",
       "    const paths = {\n",
       "      \"vega\": \"https://cdn.jsdelivr.net/npm//vega@5?noext\",\n",
       "      \"vega-lib\": \"https://cdn.jsdelivr.net/npm//vega-lib?noext\",\n",
       "      \"vega-lite\": \"https://cdn.jsdelivr.net/npm//vega-lite@4.17.0?noext\",\n",
       "      \"vega-embed\": \"https://cdn.jsdelivr.net/npm//vega-embed@6?noext\",\n",
       "    };\n",
       "\n",
       "    function maybeLoadScript(lib, version) {\n",
       "      var key = `${lib.replace(\"-\", \"\")}_version`;\n",
       "      return (VEGA_DEBUG[key] == version) ?\n",
       "        Promise.resolve(paths[lib]) :\n",
       "        new Promise(function(resolve, reject) {\n",
       "          var s = document.createElement('script');\n",
       "          document.getElementsByTagName(\"head\")[0].appendChild(s);\n",
       "          s.async = true;\n",
       "          s.onload = () => {\n",
       "            VEGA_DEBUG[key] = version;\n",
       "            return resolve(paths[lib]);\n",
       "          };\n",
       "          s.onerror = () => reject(`Error loading script: ${paths[lib]}`);\n",
       "          s.src = paths[lib];\n",
       "        });\n",
       "    }\n",
       "\n",
       "    function showError(err) {\n",
       "      outputDiv.innerHTML = `<div class=\"error\" style=\"color:red;\">${err}</div>`;\n",
       "      throw err;\n",
       "    }\n",
       "\n",
       "    function displayChart(vegaEmbed) {\n",
       "      vegaEmbed(outputDiv, spec, embedOpt)\n",
       "        .catch(err => showError(`Javascript Error: ${err.message}<br>This usually means there's a typo in your chart specification. See the javascript console for the full traceback.`));\n",
       "    }\n",
       "\n",
       "    if(typeof define === \"function\" && define.amd) {\n",
       "      requirejs.config({paths});\n",
       "      require([\"vega-embed\"], displayChart, err => showError(`Error loading script: ${err.message}`));\n",
       "    } else {\n",
       "      maybeLoadScript(\"vega\", \"5\")\n",
       "        .then(() => maybeLoadScript(\"vega-lite\", \"4.17.0\"))\n",
       "        .then(() => maybeLoadScript(\"vega-embed\", \"6\"))\n",
       "        .catch(showError)\n",
       "        .then(() => displayChart(vegaEmbed));\n",
       "    }\n",
       "  })({\"config\": {\"view\": {\"continuousWidth\": 400, \"continuousHeight\": 300, \"stroke\": null}}, \"layer\": [{\"mark\": {\"type\": \"line\", \"color\": \"red\"}, \"encoding\": {\"tooltip\": [{\"field\": \"Year\", \"type\": \"nominal\"}, {\"field\": \"Total affected\", \"type\": \"quantitative\"}], \"x\": {\"axis\": {\"labelAngle\": 0, \"values\": [\"1997\", \"2000\", \"2003\", \"2009\", \"2022\", \"2025\"]}, \"field\": \"Year\", \"title\": \"Year\", \"type\": \"nominal\"}, \"y\": {\"axis\": {\"grid\": false}, \"field\": \"Total affected\", \"title\": \"Total Affected\", \"type\": \"quantitative\"}}, \"height\": 400, \"selection\": {\"selector029\": {\"type\": \"interval\", \"bind\": \"scales\", \"encodings\": [\"x\", \"y\"]}}, \"title\": \"Europe: Total Aid Workers Affected Over Time\", \"width\": 700}, {\"mark\": {\"type\": \"point\", \"color\": \"red\", \"filled\": true, \"size\": 80}, \"encoding\": {\"tooltip\": [{\"field\": \"Year\", \"type\": \"nominal\"}, {\"field\": \"Total affected\", \"type\": \"quantitative\"}], \"x\": {\"field\": \"Year\", \"type\": \"nominal\"}, \"y\": {\"field\": \"Total affected\", \"type\": \"quantitative\"}}}], \"data\": {\"name\": \"data-7448dc8395f6c4f20a74897380dc8bb7\"}, \"$schema\": \"https://vega.github.io/schema/vega-lite/v4.17.0.json\", \"datasets\": {\"data-7448dc8395f6c4f20a74897380dc8bb7\": [{\"Year\": \"1997\", \"Total affected\": 15}, {\"Year\": \"1998\", \"Total affected\": 9}, {\"Year\": \"1999\", \"Total affected\": 4}, {\"Year\": \"2000\", \"Total affected\": 1}, {\"Year\": \"2001\", \"Total affected\": 6}, {\"Year\": \"2002\", \"Total affected\": 11}, {\"Year\": \"2003\", \"Total affected\": 4}, {\"Year\": \"2004\", \"Total affected\": 2}, {\"Year\": \"2005\", \"Total affected\": 1}, {\"Year\": \"2009\", \"Total affected\": 1}, {\"Year\": \"2014\", \"Total affected\": 2}, {\"Year\": \"2019\", \"Total affected\": 1}, {\"Year\": \"2022\", \"Total affected\": 62}, {\"Year\": \"2023\", \"Total affected\": 28}, {\"Year\": \"2024\", \"Total affected\": 32}, {\"Year\": \"2025\", \"Total affected\": 2}]}}, {\"mode\": \"vega-lite\"});\n",
       "</script>"
      ],
      "text/plain": [
       "alt.LayerChart(...)"
      ]
     },
     "execution_count": 35,
     "metadata": {},
     "output_type": "execute_result"
    }
   ],
   "source": [
    "# europe\n",
    "europe = security_incidents_clean[security_incidents_clean['Group'] == 'Europe']\n",
    "europe_grouped = europe.groupby('Year')['Total affected'].sum().reset_index()\n",
    "tick_values = europe_grouped['Year'][::3].tolist()\n",
    "\n",
    "europe_chart = (\n",
    "    alt.Chart(europe_grouped).mark_line(color='red')\n",
    "    .encode(\n",
    "        x=alt.X('Year:N', axis=alt.Axis(values=tick_values, labelAngle=0), title='Year'),\n",
    "        y=alt.Y('Total affected:Q', axis=alt.Axis(grid=False), title='Total Affected'),\n",
    "        tooltip=['Year:N', 'Total affected:Q']\n",
    "    )\n",
    "    .properties(title='Europe: Total Aid Workers Affected Over Time', width=700, height=400)\n",
    "    + alt.Chart(europe_grouped).mark_point(color='red', filled=True, size=80)\n",
    "    .encode(x='Year:N', y='Total affected:Q', tooltip=['Year:N', 'Total affected:Q'])\n",
    ").interactive().configure_view(stroke=None)\n",
    "europe_chart.save(\"../plots/europe_total_affected.html\")\n",
    "europe_chart"
   ]
  },
  {
   "cell_type": "code",
   "execution_count": 36,
   "metadata": {},
   "outputs": [
    {
     "name": "stderr",
     "output_type": "stream",
     "text": [
      "/Users/nandinikodali/miniforge3/lib/python3.10/site-packages/altair/utils/core.py:384: FutureWarning: the convert_dtype parameter is deprecated and will be removed in a future version.  Do ``ser.astype(object).apply()`` instead if you want ``convert_dtype=False``.\n",
      "  col = df[col_name].apply(to_list_if_array, convert_dtype=False)\n",
      "/Users/nandinikodali/miniforge3/lib/python3.10/site-packages/altair/utils/core.py:384: FutureWarning: the convert_dtype parameter is deprecated and will be removed in a future version.  Do ``ser.astype(object).apply()`` instead if you want ``convert_dtype=False``.\n",
      "  col = df[col_name].apply(to_list_if_array, convert_dtype=False)\n"
     ]
    },
    {
     "data": {
      "text/html": [
       "\n",
       "<div id=\"altair-viz-d9a5e77ded994371a7034ce1bfb71339\"></div>\n",
       "<script type=\"text/javascript\">\n",
       "  var VEGA_DEBUG = (typeof VEGA_DEBUG == \"undefined\") ? {} : VEGA_DEBUG;\n",
       "  (function(spec, embedOpt){\n",
       "    let outputDiv = document.currentScript.previousElementSibling;\n",
       "    if (outputDiv.id !== \"altair-viz-d9a5e77ded994371a7034ce1bfb71339\") {\n",
       "      outputDiv = document.getElementById(\"altair-viz-d9a5e77ded994371a7034ce1bfb71339\");\n",
       "    }\n",
       "    const paths = {\n",
       "      \"vega\": \"https://cdn.jsdelivr.net/npm//vega@5?noext\",\n",
       "      \"vega-lib\": \"https://cdn.jsdelivr.net/npm//vega-lib?noext\",\n",
       "      \"vega-lite\": \"https://cdn.jsdelivr.net/npm//vega-lite@4.17.0?noext\",\n",
       "      \"vega-embed\": \"https://cdn.jsdelivr.net/npm//vega-embed@6?noext\",\n",
       "    };\n",
       "\n",
       "    function maybeLoadScript(lib, version) {\n",
       "      var key = `${lib.replace(\"-\", \"\")}_version`;\n",
       "      return (VEGA_DEBUG[key] == version) ?\n",
       "        Promise.resolve(paths[lib]) :\n",
       "        new Promise(function(resolve, reject) {\n",
       "          var s = document.createElement('script');\n",
       "          document.getElementsByTagName(\"head\")[0].appendChild(s);\n",
       "          s.async = true;\n",
       "          s.onload = () => {\n",
       "            VEGA_DEBUG[key] = version;\n",
       "            return resolve(paths[lib]);\n",
       "          };\n",
       "          s.onerror = () => reject(`Error loading script: ${paths[lib]}`);\n",
       "          s.src = paths[lib];\n",
       "        });\n",
       "    }\n",
       "\n",
       "    function showError(err) {\n",
       "      outputDiv.innerHTML = `<div class=\"error\" style=\"color:red;\">${err}</div>`;\n",
       "      throw err;\n",
       "    }\n",
       "\n",
       "    function displayChart(vegaEmbed) {\n",
       "      vegaEmbed(outputDiv, spec, embedOpt)\n",
       "        .catch(err => showError(`Javascript Error: ${err.message}<br>This usually means there's a typo in your chart specification. See the javascript console for the full traceback.`));\n",
       "    }\n",
       "\n",
       "    if(typeof define === \"function\" && define.amd) {\n",
       "      requirejs.config({paths});\n",
       "      require([\"vega-embed\"], displayChart, err => showError(`Error loading script: ${err.message}`));\n",
       "    } else {\n",
       "      maybeLoadScript(\"vega\", \"5\")\n",
       "        .then(() => maybeLoadScript(\"vega-lite\", \"4.17.0\"))\n",
       "        .then(() => maybeLoadScript(\"vega-embed\", \"6\"))\n",
       "        .catch(showError)\n",
       "        .then(() => displayChart(vegaEmbed));\n",
       "    }\n",
       "  })({\"config\": {\"view\": {\"continuousWidth\": 400, \"continuousHeight\": 300, \"stroke\": null}}, \"layer\": [{\"mark\": {\"type\": \"line\", \"color\": \"red\"}, \"encoding\": {\"tooltip\": [{\"field\": \"Year\", \"type\": \"nominal\"}, {\"field\": \"Total affected\", \"type\": \"quantitative\"}], \"x\": {\"axis\": {\"labelAngle\": 0, \"values\": [\"2001\", \"2018\", \"2022\"]}, \"field\": \"Year\", \"title\": \"Year\", \"type\": \"nominal\"}, \"y\": {\"axis\": {\"grid\": false}, \"field\": \"Total affected\", \"title\": \"Total Affected\", \"type\": \"quantitative\"}}, \"height\": 400, \"selection\": {\"selector030\": {\"type\": \"interval\", \"bind\": \"scales\", \"encodings\": [\"x\", \"y\"]}}, \"title\": \"Oceania: Total Aid Workers Affected Over Time\", \"width\": 700}, {\"mark\": {\"type\": \"point\", \"color\": \"red\", \"filled\": true, \"size\": 80}, \"encoding\": {\"tooltip\": [{\"field\": \"Year\", \"type\": \"nominal\"}, {\"field\": \"Total affected\", \"type\": \"quantitative\"}], \"x\": {\"field\": \"Year\", \"type\": \"nominal\"}, \"y\": {\"field\": \"Total affected\", \"type\": \"quantitative\"}}}], \"data\": {\"name\": \"data-cd901c995d04cc06404ca58f997de395\"}, \"$schema\": \"https://vega.github.io/schema/vega-lite/v4.17.0.json\", \"datasets\": {\"data-cd901c995d04cc06404ca58f997de395\": [{\"Year\": \"2001\", \"Total affected\": 1}, {\"Year\": \"2007\", \"Total affected\": 5}, {\"Year\": \"2011\", \"Total affected\": 1}, {\"Year\": \"2018\", \"Total affected\": 2}, {\"Year\": \"2019\", \"Total affected\": 1}, {\"Year\": \"2020\", \"Total affected\": 2}, {\"Year\": \"2022\", \"Total affected\": 2}]}}, {\"mode\": \"vega-lite\"});\n",
       "</script>"
      ],
      "text/plain": [
       "alt.LayerChart(...)"
      ]
     },
     "execution_count": 36,
     "metadata": {},
     "output_type": "execute_result"
    }
   ],
   "source": [
    "# Oceania\n",
    "europe = security_incidents_clean[security_incidents_clean['Group'] == 'Oceania']\n",
    "europe_grouped = europe.groupby('Year')['Total affected'].sum().reset_index()\n",
    "tick_values = europe_grouped['Year'][::3].tolist()\n",
    "\n",
    "europe_chart = (\n",
    "    alt.Chart(europe_grouped).mark_line(color='red')\n",
    "    .encode(\n",
    "        x=alt.X('Year:N', axis=alt.Axis(values=tick_values, labelAngle=0), title='Year'),\n",
    "        y=alt.Y('Total affected:Q', axis=alt.Axis(grid=False), title='Total Affected'),\n",
    "        tooltip=['Year:N', 'Total affected:Q']\n",
    "    )\n",
    "    .properties(title='Oceania: Total Aid Workers Affected Over Time', width=700, height=400)\n",
    "    + alt.Chart(europe_grouped).mark_point(color='red', filled=True, size=80)\n",
    "    .encode(x='Year:N', y='Total affected:Q', tooltip=['Year:N', 'Total affected:Q'])\n",
    ").interactive().configure_view(stroke=None)\n",
    "europe_chart.save(\"../plots/oceania_total_affected.html\")\n",
    "europe_chart"
   ]
  },
  {
   "cell_type": "markdown",
   "metadata": {},
   "source": [
    "# World map with total affected"
   ]
  },
  {
   "cell_type": "code",
   "execution_count": 40,
   "metadata": {},
   "outputs": [],
   "source": [
    "from pycountry_convert import country_alpha2_to_continent_code, country_name_to_country_alpha2\n",
    "import pandas as pd\n",
    "\n",
    "# Function to get country code and continent\n",
    "def get_continent(col):\n",
    "    try:\n",
    "        cn_a2_code = country_name_to_country_alpha2(col)\n",
    "        cn_continent = country_alpha2_to_continent_code(cn_a2_code)\n",
    "        return pd.Series([cn_a2_code, cn_continent])\n",
    "    except:\n",
    "        return pd.Series([None, None])\n"
   ]
  },
  {
   "cell_type": "code",
   "execution_count": 103,
   "metadata": {},
   "outputs": [
    {
     "data": {
      "application/vnd.plotly.v1+json": {
       "config": {
        "plotlyServerURL": "https://plot.ly"
       },
       "data": [
        {
         "customdata": [
          [
           "1997",
           1
          ],
          [
           "1997",
           3
          ],
          [
           "1997",
           1
          ],
          [
           "1997",
           1
          ],
          [
           "1997",
           15
          ],
          [
           "1997",
           3
          ],
          [
           "1997",
           10
          ],
          [
           "1997",
           2
          ],
          [
           "1997",
           10
          ],
          [
           "1997",
           3
          ],
          [
           "1997",
           15
          ],
          [
           "1997",
           1
          ],
          [
           "1997",
           8
          ]
         ],
         "geo": "geo",
         "hovertemplate": "<b>%{hovertext}</b><br><br>Year=%{customdata[0]}<br>TotalAffected=%{customdata[1]}<br>Country=%{location}<extra></extra>",
         "hovertext": [
          "Afghanistan",
          "Angola",
          "Bangladesh",
          "Cambodia",
          "Chechnya",
          "Congo",
          "DR Congo",
          "Ethiopia",
          "Rwanda",
          "Sierra Leone",
          "Somalia",
          "South Sudan",
          "Tajikistan"
         ],
         "legendgroup": "",
         "locationmode": "country names",
         "locations": [
          "Afghanistan",
          "Angola",
          "Bangladesh",
          "Cambodia",
          "Chechnya",
          "Congo",
          "DR Congo",
          "Ethiopia",
          "Rwanda",
          "Sierra Leone",
          "Somalia",
          "South Sudan",
          "Tajikistan"
         ],
         "marker": {
          "color": "red",
          "opacity": 0.5,
          "size": {
           "bdata": "AQMBAQ8DCgIKAw8BCA==",
           "dtype": "i1"
          },
          "sizemode": "area",
          "sizeref": 0.106,
          "symbol": "circle"
         },
         "mode": "markers",
         "name": "",
         "showlegend": false,
         "type": "scattergeo"
        }
       ],
       "frames": [
        {
         "data": [
          {
           "customdata": [
            [
             "1997",
             1
            ],
            [
             "1997",
             3
            ],
            [
             "1997",
             1
            ],
            [
             "1997",
             1
            ],
            [
             "1997",
             15
            ],
            [
             "1997",
             3
            ],
            [
             "1997",
             10
            ],
            [
             "1997",
             2
            ],
            [
             "1997",
             10
            ],
            [
             "1997",
             3
            ],
            [
             "1997",
             15
            ],
            [
             "1997",
             1
            ],
            [
             "1997",
             8
            ]
           ],
           "geo": "geo",
           "hovertemplate": "<b>%{hovertext}</b><br><br>Year=%{customdata[0]}<br>TotalAffected=%{customdata[1]}<br>Country=%{location}<extra></extra>",
           "hovertext": [
            "Afghanistan",
            "Angola",
            "Bangladesh",
            "Cambodia",
            "Chechnya",
            "Congo",
            "DR Congo",
            "Ethiopia",
            "Rwanda",
            "Sierra Leone",
            "Somalia",
            "South Sudan",
            "Tajikistan"
           ],
           "legendgroup": "",
           "locationmode": "country names",
           "locations": [
            "Afghanistan",
            "Angola",
            "Bangladesh",
            "Cambodia",
            "Chechnya",
            "Congo",
            "DR Congo",
            "Ethiopia",
            "Rwanda",
            "Sierra Leone",
            "Somalia",
            "South Sudan",
            "Tajikistan"
           ],
           "marker": {
            "color": "red",
            "opacity": 0.5,
            "size": {
             "bdata": "AQMBAQ8DCgIKAw8BCA==",
             "dtype": "i1"
            },
            "sizemode": "area",
            "sizeref": 0.106,
            "symbol": "circle"
           },
           "mode": "markers",
           "name": "",
           "showlegend": false,
           "type": "scattergeo"
          }
         ],
         "name": "1997"
        },
        {
         "data": [
          {
           "customdata": [
            [
             "1998",
             3
            ],
            [
             "1998",
             5
            ],
            [
             "1998",
             6
            ],
            [
             "1998",
             2
            ],
            [
             "1998",
             1
            ],
            [
             "1998",
             6
            ],
            [
             "1998",
             7
            ],
            [
             "1998",
             3
            ],
            [
             "1998",
             1
            ],
            [
             "1998",
             18
            ],
            [
             "1998",
             1
            ],
            [
             "1998",
             7
            ],
            [
             "1998",
             2
            ]
           ],
           "geo": "geo",
           "hovertemplate": "<b>%{hovertext}</b><br><br>Year=%{customdata[0]}<br>TotalAffected=%{customdata[1]}<br>Country=%{location}<extra></extra>",
           "hovertext": [
            "Afghanistan",
            "Angola",
            "Burundi",
            "Chechnya",
            "DR Congo",
            "Ethiopia",
            "Kosovo",
            "Rwanda",
            "Sierra Leone",
            "Somalia",
            "Sri Lanka",
            "Sudan",
            "Uganda"
           ],
           "legendgroup": "",
           "locationmode": "country names",
           "locations": [
            "Afghanistan",
            "Angola",
            "Burundi",
            "Chechnya",
            "DR Congo",
            "Ethiopia",
            "Kosovo",
            "Rwanda",
            "Sierra Leone",
            "Somalia",
            "Sri Lanka",
            "Sudan",
            "Uganda"
           ],
           "marker": {
            "color": "red",
            "opacity": 0.5,
            "size": {
             "bdata": "AwUGAgEGBwMBEgEHAg==",
             "dtype": "i1"
            },
            "sizemode": "area",
            "sizeref": 0.106,
            "symbol": "circle"
           },
           "mode": "markers",
           "name": "",
           "showlegend": false,
           "type": "scattergeo"
          }
         ],
         "name": "1998"
        },
        {
         "data": [
          {
           "customdata": [
            [
             "1999",
             1
            ],
            [
             "1999",
             13
            ],
            [
             "1999",
             5
            ],
            [
             "1999",
             4
            ],
            [
             "1999",
             1
            ],
            [
             "1999",
             1
            ],
            [
             "1999",
             7
            ],
            [
             "1999",
             1
            ],
            [
             "1999",
             6
            ],
            [
             "1999",
             3
            ],
            [
             "1999",
             10
            ],
            [
             "1999",
             9
            ],
            [
             "1999",
             1
            ],
            [
             "1999",
             4
            ]
           ],
           "geo": "geo",
           "hovertemplate": "<b>%{hovertext}</b><br><br>Year=%{customdata[0]}<br>TotalAffected=%{customdata[1]}<br>Country=%{location}<extra></extra>",
           "hovertext": [
            "Afghanistan",
            "Angola",
            "Burundi",
            "Chechnya",
            "Colombia",
            "Ethiopia",
            "Indonesia",
            "Kenya",
            "Liberia",
            "Sierra Leone",
            "Somalia",
            "Sudan",
            "Tajikistan",
            "Yemen"
           ],
           "legendgroup": "",
           "locationmode": "country names",
           "locations": [
            "Afghanistan",
            "Angola",
            "Burundi",
            "Chechnya",
            "Colombia",
            "Ethiopia",
            "Indonesia",
            "Kenya",
            "Liberia",
            "Sierra Leone",
            "Somalia",
            "Sudan",
            "Tajikistan",
            "Yemen"
           ],
           "marker": {
            "color": "red",
            "opacity": 0.5,
            "size": {
             "bdata": "AQ0FBAEBBwEGAwoJAQQ=",
             "dtype": "i1"
            },
            "sizemode": "area",
            "sizeref": 0.106,
            "symbol": "circle"
           },
           "mode": "markers",
           "name": "",
           "showlegend": false,
           "type": "scattergeo"
          }
         ],
         "name": "1999"
        },
        {
         "data": [
          {
           "customdata": [
            [
             "2000",
             9
            ],
            [
             "2000",
             7
            ],
            [
             "2000",
             1
            ],
            [
             "2000",
             1
            ],
            [
             "2000",
             6
            ],
            [
             "2000",
             2
            ],
            [
             "2000",
             3
            ],
            [
             "2000",
             4
            ],
            [
             "2000",
             10
            ],
            [
             "2000",
             8
            ],
            [
             "2000",
             1
            ],
            [
             "2000",
             1
            ],
            [
             "2000",
             1
            ],
            [
             "2000",
             1
            ],
            [
             "2000",
             1
            ],
            [
             "2000",
             16
            ],
            [
             "2000",
             15
            ]
           ],
           "geo": "geo",
           "hovertemplate": "<b>%{hovertext}</b><br><br>Year=%{customdata[0]}<br>TotalAffected=%{customdata[1]}<br>Country=%{location}<extra></extra>",
           "hovertext": [
            "Afghanistan",
            "Angola",
            "Burundi",
            "Colombia",
            "DR Congo",
            "Ethiopia",
            "Georgia",
            "Guinea",
            "Indonesia",
            "Iraq",
            "Kenya",
            "Kosovo",
            "Mozambique",
            "Rwanda",
            "Sierra Leone",
            "Somalia",
            "Sudan"
           ],
           "legendgroup": "",
           "locationmode": "country names",
           "locations": [
            "Afghanistan",
            "Angola",
            "Burundi",
            "Colombia",
            "DR Congo",
            "Ethiopia",
            "Georgia",
            "Guinea",
            "Indonesia",
            "Iraq",
            "Kenya",
            "Kosovo",
            "Mozambique",
            "Rwanda",
            "Sierra Leone",
            "Somalia",
            "Sudan"
           ],
           "marker": {
            "color": "red",
            "opacity": 0.5,
            "size": {
             "bdata": "CQcBAQYCAwQKCAEBAQEBEA8=",
             "dtype": "i1"
            },
            "sizemode": "area",
            "sizeref": 0.106,
            "symbol": "circle"
           },
           "mode": "markers",
           "name": "",
           "showlegend": false,
           "type": "scattergeo"
          }
         ],
         "name": "2000"
        },
        {
         "data": [
          {
           "customdata": [
            [
             "2001",
             6
            ],
            [
             "2001",
             3
            ],
            [
             "2001",
             15
            ],
            [
             "2001",
             1
            ],
            [
             "2001",
             1
            ],
            [
             "2001",
             4
            ],
            [
             "2001",
             10
            ],
            [
             "2001",
             1
            ],
            [
             "2001",
             1
            ],
            [
             "2001",
             2
            ],
            [
             "2001",
             1
            ],
            [
             "2001",
             1
            ],
            [
             "2001",
             19
            ],
            [
             "2001",
             6
            ],
            [
             "2001",
             15
            ]
           ],
           "geo": "geo",
           "hovertemplate": "<b>%{hovertext}</b><br><br>Year=%{customdata[0]}<br>TotalAffected=%{customdata[1]}<br>Country=%{location}<extra></extra>",
           "hovertext": [
            "Afghanistan",
            "Angola",
            "Burundi",
            "Cameroon",
            "Central African Republic",
            "Chechnya",
            "DR Congo",
            "Fiji",
            "Indonesia",
            "Kosovo",
            "Madagascar",
            "Pakistan",
            "Somalia",
            "Sudan",
            "Tajikistan"
           ],
           "legendgroup": "",
           "locationmode": "country names",
           "locations": [
            "Afghanistan",
            "Angola",
            "Burundi",
            "Cameroon",
            "Central African Republic",
            "Chechnya",
            "DR Congo",
            "Fiji",
            "Indonesia",
            "Kosovo",
            "Madagascar",
            "Pakistan",
            "Somalia",
            "Sudan",
            "Tajikistan"
           ],
           "marker": {
            "color": "red",
            "opacity": 0.5,
            "size": {
             "bdata": "BgMPAQEECgEBAgEBEwYP",
             "dtype": "i1"
            },
            "sizemode": "area",
            "sizeref": 0.106,
            "symbol": "circle"
           },
           "mode": "markers",
           "name": "",
           "showlegend": false,
           "type": "scattergeo"
          }
         ],
         "name": "2001"
        },
        {
         "data": [
          {
           "customdata": [
            [
             "2002",
             8
            ],
            [
             "2002",
             14
            ],
            [
             "2002",
             3
            ],
            [
             "2002",
             11
            ],
            [
             "2002",
             4
            ],
            [
             "2002",
             2
            ],
            [
             "2002",
             4
            ],
            [
             "2002",
             1
            ],
            [
             "2002",
             2
            ],
            [
             "2002",
             1
            ],
            [
             "2002",
             10
            ],
            [
             "2002",
             8
            ],
            [
             "2002",
             1
            ],
            [
             "2002",
             4
            ],
            [
             "2002",
             2
            ],
            [
             "2002",
             7
            ],
            [
             "2002",
             3
            ]
           ],
           "geo": "geo",
           "hovertemplate": "<b>%{hovertext}</b><br><br>Year=%{customdata[0]}<br>TotalAffected=%{customdata[1]}<br>Country=%{location}<extra></extra>",
           "hovertext": [
            "Afghanistan",
            "Angola",
            "Burundi",
            "Chechnya",
            "Colombia",
            "Congo",
            "DR Congo",
            "Iraq",
            "Jordan",
            "Liberia",
            "Occupied Palestinian Territories",
            "Somalia",
            "South Africa",
            "South Sudan",
            "Sudan",
            "Uganda",
            "Yemen"
           ],
           "legendgroup": "",
           "locationmode": "country names",
           "locations": [
            "Afghanistan",
            "Angola",
            "Burundi",
            "Chechnya",
            "Colombia",
            "Congo",
            "DR Congo",
            "Iraq",
            "Jordan",
            "Liberia",
            "Occupied Palestinian Territories",
            "Somalia",
            "South Africa",
            "South Sudan",
            "Sudan",
            "Uganda",
            "Yemen"
           ],
           "marker": {
            "color": "red",
            "opacity": 0.5,
            "size": {
             "bdata": "CA4DCwQCBAECAQoIAQQCBwM=",
             "dtype": "i1"
            },
            "sizemode": "area",
            "sizeref": 0.106,
            "symbol": "circle"
           },
           "mode": "markers",
           "name": "",
           "showlegend": false,
           "type": "scattergeo"
          }
         ],
         "name": "2002"
        },
        {
         "data": [
          {
           "customdata": [
            [
             "2003",
             22
            ],
            [
             "2003",
             7
            ],
            [
             "2003",
             4
            ],
            [
             "2003",
             4
            ],
            [
             "2003",
             5
            ],
            [
             "2003",
             10
            ],
            [
             "2003",
             3
            ],
            [
             "2003",
             49
            ],
            [
             "2003",
             1
            ],
            [
             "2003",
             1
            ],
            [
             "2003",
             7
            ],
            [
             "2003",
             3
            ],
            [
             "2003",
             1
            ],
            [
             "2003",
             2
            ],
            [
             "2003",
             8
            ],
            [
             "2003",
             1
            ],
            [
             "2003",
             1
            ],
            [
             "2003",
             11
            ],
            [
             "2003",
             2
            ]
           ],
           "geo": "geo",
           "hovertemplate": "<b>%{hovertext}</b><br><br>Year=%{customdata[0]}<br>TotalAffected=%{customdata[1]}<br>Country=%{location}<extra></extra>",
           "hovertext": [
            "Afghanistan",
            "Angola",
            "Burundi",
            "Chechnya",
            "Cote D'Ivoire",
            "DR Congo",
            "Eritrea",
            "Iraq",
            "Kashmir",
            "Kenya",
            "Liberia",
            "Occupied Palestinian Territories",
            "Philippines",
            "Senegal",
            "Somalia",
            "South Africa",
            "South Sudan",
            "Sudan",
            "Uganda"
           ],
           "legendgroup": "",
           "locationmode": "country names",
           "locations": [
            "Afghanistan",
            "Angola",
            "Burundi",
            "Chechnya",
            "Cote D'Ivoire",
            "DR Congo",
            "Eritrea",
            "Iraq",
            "Kashmir",
            "Kenya",
            "Liberia",
            "Occupied Palestinian Territories",
            "Philippines",
            "Senegal",
            "Somalia",
            "South Africa",
            "South Sudan",
            "Sudan",
            "Uganda"
           ],
           "marker": {
            "color": "red",
            "opacity": 0.5,
            "size": {
             "bdata": "FgcEBAUKAzEBAQcDAQIIAQELAg==",
             "dtype": "i1"
            },
            "sizemode": "area",
            "sizeref": 0.106,
            "symbol": "circle"
           },
           "mode": "markers",
           "name": "",
           "showlegend": false,
           "type": "scattergeo"
          }
         ],
         "name": "2003"
        },
        {
         "data": [
          {
           "customdata": [
            [
             "2004",
             40
            ],
            [
             "2004",
             2
            ],
            [
             "2004",
             2
            ],
            [
             "2004",
             1
            ],
            [
             "2004",
             6
            ],
            [
             "2004",
             1
            ],
            [
             "2004",
             32
            ],
            [
             "2004",
             3
            ],
            [
             "2004",
             3
            ],
            [
             "2004",
             2
            ],
            [
             "2004",
             2
            ],
            [
             "2004",
             7
            ],
            [
             "2004",
             23
            ],
            [
             "2004",
             3
            ]
           ],
           "geo": "geo",
           "hovertemplate": "<b>%{hovertext}</b><br><br>Year=%{customdata[0]}<br>TotalAffected=%{customdata[1]}<br>Country=%{location}<extra></extra>",
           "hovertext": [
            "Afghanistan",
            "Chechnya",
            "Colombia",
            "Cote D'Ivoire",
            "DR Congo",
            "Haiti",
            "Iraq",
            "Kenya",
            "Nigeria",
            "Occupied Palestinian Territories",
            "Pakistan",
            "Somalia",
            "Sudan",
            "Uganda"
           ],
           "legendgroup": "",
           "locationmode": "country names",
           "locations": [
            "Afghanistan",
            "Chechnya",
            "Colombia",
            "Cote D'Ivoire",
            "DR Congo",
            "Haiti",
            "Iraq",
            "Kenya",
            "Nigeria",
            "Occupied Palestinian Territories",
            "Pakistan",
            "Somalia",
            "Sudan",
            "Uganda"
           ],
           "marker": {
            "color": "red",
            "opacity": 0.5,
            "size": {
             "bdata": "KAICAQYBIAMDAgIHFwM=",
             "dtype": "i1"
            },
            "sizemode": "area",
            "sizeref": 0.106,
            "symbol": "circle"
           },
           "mode": "markers",
           "name": "",
           "showlegend": false,
           "type": "scattergeo"
          }
         ],
         "name": "2004"
        },
        {
         "data": [
          {
           "customdata": [
            [
             "2005",
             35
            ],
            [
             "2005",
             7
            ],
            [
             "2005",
             1
            ],
            [
             "2005",
             2
            ],
            [
             "2005",
             7
            ],
            [
             "2005",
             1
            ],
            [
             "2005",
             1
            ],
            [
             "2005",
             2
            ],
            [
             "2005",
             9
            ],
            [
             "2005",
             3
            ],
            [
             "2005",
             1
            ],
            [
             "2005",
             3
            ],
            [
             "2005",
             2
            ],
            [
             "2005",
             1
            ],
            [
             "2005",
             12
            ],
            [
             "2005",
             3
            ],
            [
             "2005",
             73
            ],
            [
             "2005",
             8
            ],
            [
             "2005",
             1
            ]
           ],
           "geo": "geo",
           "hovertemplate": "<b>%{hovertext}</b><br><br>Year=%{customdata[0]}<br>TotalAffected=%{customdata[1]}<br>Country=%{location}<extra></extra>",
           "hovertext": [
            "Afghanistan",
            "Chad",
            "Chechnya",
            "Colombia",
            "DR Congo",
            "Guyana",
            "Haiti",
            "Indonesia",
            "Iraq",
            "Kenya",
            "Madagascar",
            "Malawi",
            "Nepal",
            "Occupied Palestinian Territories",
            "Somalia",
            "South Sudan",
            "Sudan",
            "Uganda",
            "Zimbabwe"
           ],
           "legendgroup": "",
           "locationmode": "country names",
           "locations": [
            "Afghanistan",
            "Chad",
            "Chechnya",
            "Colombia",
            "DR Congo",
            "Guyana",
            "Haiti",
            "Indonesia",
            "Iraq",
            "Kenya",
            "Madagascar",
            "Malawi",
            "Nepal",
            "Occupied Palestinian Territories",
            "Somalia",
            "South Sudan",
            "Sudan",
            "Uganda",
            "Zimbabwe"
           ],
           "marker": {
            "color": "red",
            "opacity": 0.5,
            "size": {
             "bdata": "IwcBAgcBAQIJAwEDAgEMA0kIAQ==",
             "dtype": "i1"
            },
            "sizemode": "area",
            "sizeref": 0.106,
            "symbol": "circle"
           },
           "mode": "markers",
           "name": "",
           "showlegend": false,
           "type": "scattergeo"
          }
         ],
         "name": "2005"
        },
        {
         "data": [
          {
           "customdata": [
            [
             "2006",
             55
            ],
            [
             "2006",
             3
            ],
            [
             "2006",
             5
            ],
            [
             "2006",
             2
            ],
            [
             "2006",
             7
            ],
            [
             "2006",
             1
            ],
            [
             "2006",
             2
            ],
            [
             "2006",
             2
            ],
            [
             "2006",
             1
            ],
            [
             "2006",
             4
            ],
            [
             "2006",
             1
            ],
            [
             "2006",
             18
            ],
            [
             "2006",
             1
            ],
            [
             "2006",
             1
            ],
            [
             "2006",
             6
            ],
            [
             "2006",
             4
            ],
            [
             "2006",
             14
            ],
            [
             "2006",
             1
            ],
            [
             "2006",
             25
            ],
            [
             "2006",
             87
            ]
           ],
           "geo": "geo",
           "hovertemplate": "<b>%{hovertext}</b><br><br>Year=%{customdata[0]}<br>TotalAffected=%{customdata[1]}<br>Country=%{location}<extra></extra>",
           "hovertext": [
            "Afghanistan",
            "Central African Republic",
            "Chad",
            "Colombia",
            "DR Congo",
            "El Salvador",
            "Eritrea",
            "Ethiopia",
            "Guatemala",
            "Haiti",
            "India",
            "Iraq",
            "Lesotho",
            "Malawi",
            "Occupied Palestinian Territories",
            "Senegal",
            "Somalia",
            "South Africa",
            "Sri Lanka",
            "Sudan"
           ],
           "legendgroup": "",
           "locationmode": "country names",
           "locations": [
            "Afghanistan",
            "Central African Republic",
            "Chad",
            "Colombia",
            "DR Congo",
            "El Salvador",
            "Eritrea",
            "Ethiopia",
            "Guatemala",
            "Haiti",
            "India",
            "Iraq",
            "Lesotho",
            "Malawi",
            "Occupied Palestinian Territories",
            "Senegal",
            "Somalia",
            "South Africa",
            "Sri Lanka",
            "Sudan"
           ],
           "marker": {
            "color": "red",
            "opacity": 0.5,
            "size": {
             "bdata": "NwMFAgcBAgIBBAESAQEGBA4BGVc=",
             "dtype": "i1"
            },
            "sizemode": "area",
            "sizeref": 0.106,
            "symbol": "circle"
           },
           "mode": "markers",
           "name": "",
           "showlegend": false,
           "type": "scattergeo"
          }
         ],
         "name": "2006"
        },
        {
         "data": [
          {
           "customdata": [
            [
             "2007",
             48
            ],
            [
             "2007",
             11
            ],
            [
             "2007",
             2
            ],
            [
             "2007",
             2
            ],
            [
             "2007",
             3
            ],
            [
             "2007",
             10
            ],
            [
             "2007",
             3
            ],
            [
             "2007",
             2
            ],
            [
             "2007",
             3
            ],
            [
             "2007",
             7
            ],
            [
             "2007",
             1
            ],
            [
             "2007",
             2
            ],
            [
             "2007",
             2
            ],
            [
             "2007",
             3
            ],
            [
             "2007",
             4
            ],
            [
             "2007",
             20
            ],
            [
             "2007",
             2
            ],
            [
             "2007",
             20
            ],
            [
             "2007",
             25
            ],
            [
             "2007",
             37
            ],
            [
             "2007",
             1
            ],
            [
             "2007",
             5
            ],
            [
             "2007",
             5
            ],
            [
             "2007",
             1
            ],
            [
             "2007",
             2
            ]
           ],
           "geo": "geo",
           "hovertemplate": "<b>%{hovertext}</b><br><br>Year=%{customdata[0]}<br>TotalAffected=%{customdata[1]}<br>Country=%{location}<extra></extra>",
           "hovertext": [
            "Afghanistan",
            "Algeria",
            "Bangladesh",
            "Burundi",
            "Central African Republic",
            "Chad",
            "Fiji",
            "Haiti",
            "Indonesia",
            "Iraq",
            "Kenya",
            "Lebanon",
            "Malawi",
            "Mali",
            "Occupied Palestinian Territories",
            "Pakistan",
            "Papua New Guinea",
            "Somalia",
            "Sri Lanka",
            "Sudan",
            "Tanzania",
            "Thailand",
            "Uganda",
            "Vietnam",
            "Yemen"
           ],
           "legendgroup": "",
           "locationmode": "country names",
           "locations": [
            "Afghanistan",
            "Algeria",
            "Bangladesh",
            "Burundi",
            "Central African Republic",
            "Chad",
            "Fiji",
            "Haiti",
            "Indonesia",
            "Iraq",
            "Kenya",
            "Lebanon",
            "Malawi",
            "Mali",
            "Occupied Palestinian Territories",
            "Pakistan",
            "Papua New Guinea",
            "Somalia",
            "Sri Lanka",
            "Sudan",
            "Tanzania",
            "Thailand",
            "Uganda",
            "Vietnam",
            "Yemen"
           ],
           "marker": {
            "color": "red",
            "opacity": 0.5,
            "size": {
             "bdata": "MAsCAgMKAwIDBwECAgMEFAIUGSUBBQUBAg==",
             "dtype": "i1"
            },
            "sizemode": "area",
            "sizeref": 0.106,
            "symbol": "circle"
           },
           "mode": "markers",
           "name": "",
           "showlegend": false,
           "type": "scattergeo"
          }
         ],
         "name": "2007"
        },
        {
         "data": [
          {
           "customdata": [
            [
             "2008",
             63
            ],
            [
             "2008",
             3
            ],
            [
             "2008",
             1
            ],
            [
             "2008",
             10
            ],
            [
             "2008",
             9
            ],
            [
             "2008",
             1
            ],
            [
             "2008",
             4
            ],
            [
             "2008",
             3
            ],
            [
             "2008",
             4
            ],
            [
             "2008",
             2
            ],
            [
             "2008",
             2
            ],
            [
             "2008",
             3
            ],
            [
             "2008",
             1
            ],
            [
             "2008",
             1
            ],
            [
             "2008",
             2
            ],
            [
             "2008",
             28
            ],
            [
             "2008",
             3
            ],
            [
             "2008",
             1
            ],
            [
             "2008",
             86
            ],
            [
             "2008",
             7
            ],
            [
             "2008",
             42
            ],
            [
             "2008",
             1
            ],
            [
             "2008",
             1
            ]
           ],
           "geo": "geo",
           "hovertemplate": "<b>%{hovertext}</b><br><br>Year=%{customdata[0]}<br>TotalAffected=%{customdata[1]}<br>Country=%{location}<extra></extra>",
           "hovertext": [
            "Afghanistan",
            "Burundi",
            "Cameroon",
            "Chad",
            "DR Congo",
            "El Salvador",
            "Ethiopia",
            "Haiti",
            "Indonesia",
            "Kenya",
            "Malawi",
            "Mozambique",
            "Nepal",
            "Nicaragua",
            "Occupied Palestinian Territories",
            "Pakistan",
            "Philippines",
            "Sierra Leone",
            "Somalia",
            "Sri Lanka",
            "Sudan",
            "Tanzania",
            "Yemen"
           ],
           "legendgroup": "",
           "locationmode": "country names",
           "locations": [
            "Afghanistan",
            "Burundi",
            "Cameroon",
            "Chad",
            "DR Congo",
            "El Salvador",
            "Ethiopia",
            "Haiti",
            "Indonesia",
            "Kenya",
            "Malawi",
            "Mozambique",
            "Nepal",
            "Nicaragua",
            "Occupied Palestinian Territories",
            "Pakistan",
            "Philippines",
            "Sierra Leone",
            "Somalia",
            "Sri Lanka",
            "Sudan",
            "Tanzania",
            "Yemen"
           ],
           "marker": {
            "color": "red",
            "opacity": 0.5,
            "size": {
             "bdata": "PwMBCgkBBAMEAgIDAQECHAMBVgcqAQE=",
             "dtype": "i1"
            },
            "sizemode": "area",
            "sizeref": 0.106,
            "symbol": "circle"
           },
           "mode": "markers",
           "name": "",
           "showlegend": false,
           "type": "scattergeo"
          }
         ],
         "name": "2008"
        },
        {
         "data": [
          {
           "customdata": [
            [
             "2009",
             62
            ],
            [
             "2009",
             1
            ],
            [
             "2009",
             1
            ],
            [
             "2009",
             11
            ],
            [
             "2009",
             6
            ],
            [
             "2009",
             1
            ],
            [
             "2009",
             18
            ],
            [
             "2009",
             1
            ],
            [
             "2009",
             1
            ],
            [
             "2009",
             2
            ],
            [
             "2009",
             1
            ],
            [
             "2009",
             7
            ],
            [
             "2009",
             1
            ],
            [
             "2009",
             1
            ],
            [
             "2009",
             4
            ],
            [
             "2009",
             3
            ],
            [
             "2009",
             17
            ],
            [
             "2009",
             40
            ],
            [
             "2009",
             4
            ],
            [
             "2009",
             33
            ],
            [
             "2009",
             26
            ],
            [
             "2009",
             35
            ],
            [
             "2009",
             3
            ],
            [
             "2009",
             20
            ],
            [
             "2009",
             1
            ]
           ],
           "geo": "geo",
           "hovertemplate": "<b>%{hovertext}</b><br><br>Year=%{customdata[0]}<br>TotalAffected=%{customdata[1]}<br>Country=%{location}<extra></extra>",
           "hovertext": [
            "Afghanistan",
            "Bangladesh",
            "Cambodia",
            "Central African Republic",
            "Chad",
            "Chechnya",
            "DR Congo",
            "Ethiopia",
            "Haiti",
            "Indonesia",
            "Iraq",
            "Kenya",
            "Liberia",
            "Mali",
            "Mauritania",
            "Mozambique",
            "Occupied Palestinian Territories",
            "Pakistan",
            "Philippines",
            "Somalia",
            "Sri Lanka",
            "Sudan",
            "Uganda",
            "Yemen",
            "Zambia"
           ],
           "legendgroup": "",
           "locationmode": "country names",
           "locations": [
            "Afghanistan",
            "Bangladesh",
            "Cambodia",
            "Central African Republic",
            "Chad",
            "Chechnya",
            "DR Congo",
            "Ethiopia",
            "Haiti",
            "Indonesia",
            "Iraq",
            "Kenya",
            "Liberia",
            "Mali",
            "Mauritania",
            "Mozambique",
            "Occupied Palestinian Territories",
            "Pakistan",
            "Philippines",
            "Somalia",
            "Sri Lanka",
            "Sudan",
            "Uganda",
            "Yemen",
            "Zambia"
           ],
           "marker": {
            "color": "red",
            "opacity": 0.5,
            "size": {
             "bdata": "PgEBCwYBEgEBAgEHAQEEAxEoBCEaIwMUAQ==",
             "dtype": "i1"
            },
            "sizemode": "area",
            "sizeref": 0.106,
            "symbol": "circle"
           },
           "mode": "markers",
           "name": "",
           "showlegend": false,
           "type": "scattergeo"
          }
         ],
         "name": "2009"
        },
        {
         "data": [
          {
           "customdata": [
            [
             "2010",
             120
            ],
            [
             "2010",
             1
            ],
            [
             "2010",
             1
            ],
            [
             "2010",
             2
            ],
            [
             "2010",
             15
            ],
            [
             "2010",
             4
            ],
            [
             "2010",
             12
            ],
            [
             "2010",
             9
            ],
            [
             "2010",
             2
            ],
            [
             "2010",
             1
            ],
            [
             "2010",
             9
            ],
            [
             "2010",
             2
            ],
            [
             "2010",
             3
            ],
            [
             "2010",
             1
            ],
            [
             "2010",
             1
            ],
            [
             "2010",
             29
            ],
            [
             "2010",
             1
            ],
            [
             "2010",
             1
            ],
            [
             "2010",
             11
            ],
            [
             "2010",
             20
            ],
            [
             "2010",
             4
            ],
            [
             "2010",
             3
            ]
           ],
           "geo": "geo",
           "hovertemplate": "<b>%{hovertext}</b><br><br>Year=%{customdata[0]}<br>TotalAffected=%{customdata[1]}<br>Country=%{location}<extra></extra>",
           "hovertext": [
            "Afghanistan",
            "Bangladesh",
            "Cameroon",
            "Chad",
            "DR Congo",
            "Ethiopia",
            "Haiti",
            "Iraq",
            "Kenya",
            "Kyrgyzstan",
            "Libyan Arab Jamahiriya",
            "Madagascar",
            "Malawi",
            "Nicaragua",
            "Niger",
            "Pakistan",
            "Philippines",
            "Sierra Leone",
            "Somalia",
            "Sudan",
            "Uganda",
            "Yemen"
           ],
           "legendgroup": "",
           "locationmode": "country names",
           "locations": [
            "Afghanistan",
            "Bangladesh",
            "Cameroon",
            "Chad",
            "DR Congo",
            "Ethiopia",
            "Haiti",
            "Iraq",
            "Kenya",
            "Kyrgyzstan",
            "Libyan Arab Jamahiriya",
            "Madagascar",
            "Malawi",
            "Nicaragua",
            "Niger",
            "Pakistan",
            "Philippines",
            "Sierra Leone",
            "Somalia",
            "Sudan",
            "Uganda",
            "Yemen"
           ],
           "marker": {
            "color": "red",
            "opacity": 0.5,
            "size": {
             "bdata": "eAEBAg8EDAkCAQkCAwEBHQEBCxQEAw==",
             "dtype": "i1"
            },
            "sizemode": "area",
            "sizeref": 0.106,
            "symbol": "circle"
           },
           "mode": "markers",
           "name": "",
           "showlegend": false,
           "type": "scattergeo"
          }
         ],
         "name": "2010"
        },
        {
         "data": [
          {
           "customdata": [
            [
             "2011",
             92
            ],
            [
             "2011",
             1
            ],
            [
             "2011",
             10
            ],
            [
             "2011",
             1
            ],
            [
             "2011",
             1
            ],
            [
             "2011",
             2
            ],
            [
             "2011",
             17
            ],
            [
             "2011",
             2
            ],
            [
             "2011",
             5
            ],
            [
             "2011",
             2
            ],
            [
             "2011",
             2
            ],
            [
             "2011",
             8
            ],
            [
             "2011",
             2
            ],
            [
             "2011",
             1
            ],
            [
             "2011",
             1
            ],
            [
             "2011",
             46
            ],
            [
             "2011",
             29
            ],
            [
             "2011",
             1
            ],
            [
             "2011",
             1
            ],
            [
             "2011",
             23
            ],
            [
             "2011",
             20
            ],
            [
             "2011",
             25
            ],
            [
             "2011",
             3
            ],
            [
             "2011",
             1
            ],
            [
             "2011",
             2
            ],
            [
             "2011",
             4
            ],
            [
             "2011",
             7
            ]
           ],
           "geo": "geo",
           "hovertemplate": "<b>%{hovertext}</b><br><br>Year=%{customdata[0]}<br>TotalAffected=%{customdata[1]}<br>Country=%{location}<extra></extra>",
           "hovertext": [
            "Afghanistan",
            "Burundi",
            "Central African Republic",
            "Chad",
            "Colombia",
            "Cote D'Ivoire",
            "DR Congo",
            "El Salvador",
            "Ethiopia",
            "Haiti",
            "Honduras",
            "Kenya",
            "Libyan Arab Jamahiriya",
            "Myanmar",
            "Niger",
            "Nigeria",
            "Pakistan",
            "Papua New Guinea",
            "Philippines",
            "Somalia",
            "South Sudan",
            "Sudan",
            "Syrian Arab Republic",
            "Tanzania",
            "Uganda",
            "Western Sahara",
            "Yemen"
           ],
           "legendgroup": "",
           "locationmode": "country names",
           "locations": [
            "Afghanistan",
            "Burundi",
            "Central African Republic",
            "Chad",
            "Colombia",
            "Cote D'Ivoire",
            "DR Congo",
            "El Salvador",
            "Ethiopia",
            "Haiti",
            "Honduras",
            "Kenya",
            "Libyan Arab Jamahiriya",
            "Myanmar",
            "Niger",
            "Nigeria",
            "Pakistan",
            "Papua New Guinea",
            "Philippines",
            "Somalia",
            "South Sudan",
            "Sudan",
            "Syrian Arab Republic",
            "Tanzania",
            "Uganda",
            "Western Sahara",
            "Yemen"
           ],
           "marker": {
            "color": "red",
            "opacity": 0.5,
            "size": {
             "bdata": "XAEKAQECEQIFAgIIAgEBLh0BARcUGQMBAgQH",
             "dtype": "i1"
            },
            "sizemode": "area",
            "sizeref": 0.106,
            "symbol": "circle"
           },
           "mode": "markers",
           "name": "",
           "showlegend": false,
           "type": "scattergeo"
          }
         ],
         "name": "2011"
        },
        {
         "data": [
          {
           "customdata": [
            [
             "2012",
             105
            ],
            [
             "2012",
             2
            ],
            [
             "2012",
             3
            ],
            [
             "2012",
             1
            ],
            [
             "2012",
             1
            ],
            [
             "2012",
             3
            ],
            [
             "2012",
             17
            ],
            [
             "2012",
             9
            ],
            [
             "2012",
             7
            ],
            [
             "2012",
             25
            ],
            [
             "2012",
             1
            ],
            [
             "2012",
             1
            ],
            [
             "2012",
             32
            ],
            [
             "2012",
             25
            ],
            [
             "2012",
             1
            ],
            [
             "2012",
             6
            ],
            [
             "2012",
             25
            ],
            [
             "2012",
             2
            ],
            [
             "2012",
             11
            ]
           ],
           "geo": "geo",
           "hovertemplate": "<b>%{hovertext}</b><br><br>Year=%{customdata[0]}<br>TotalAffected=%{customdata[1]}<br>Country=%{location}<extra></extra>",
           "hovertext": [
            "Afghanistan",
            "Cameroon",
            "Chad",
            "DR Congo",
            "Ethiopia",
            "Haiti",
            "Kenya",
            "Libyan Arab Jamahiriya",
            "Niger",
            "Pakistan",
            "Philippines",
            "Senegal",
            "Somalia",
            "South Sudan",
            "Sri Lanka",
            "Sudan",
            "Syrian Arab Republic",
            "Tunisia",
            "Yemen"
           ],
           "legendgroup": "",
           "locationmode": "country names",
           "locations": [
            "Afghanistan",
            "Cameroon",
            "Chad",
            "DR Congo",
            "Ethiopia",
            "Haiti",
            "Kenya",
            "Libyan Arab Jamahiriya",
            "Niger",
            "Pakistan",
            "Philippines",
            "Senegal",
            "Somalia",
            "South Sudan",
            "Sri Lanka",
            "Sudan",
            "Syrian Arab Republic",
            "Tunisia",
            "Yemen"
           ],
           "marker": {
            "color": "red",
            "opacity": 0.5,
            "size": {
             "bdata": "aQIDAQEDEQkHGQEBIBkBBhkCCw==",
             "dtype": "i1"
            },
            "sizemode": "area",
            "sizeref": 0.106,
            "symbol": "circle"
           },
           "mode": "markers",
           "name": "",
           "showlegend": false,
           "type": "scattergeo"
          }
         ],
         "name": "2012"
        },
        {
         "data": [
          {
           "customdata": [
            [
             "2013",
             167
            ],
            [
             "2013",
             1
            ],
            [
             "2013",
             1
            ],
            [
             "2013",
             7
            ],
            [
             "2013",
             11
            ],
            [
             "2013",
             1
            ],
            [
             "2013",
             2
            ],
            [
             "2013",
             2
            ],
            [
             "2013",
             2
            ],
            [
             "2013",
             1
            ],
            [
             "2013",
             1
            ],
            [
             "2013",
             10
            ],
            [
             "2013",
             10
            ],
            [
             "2013",
             1
            ],
            [
             "2013",
             1
            ],
            [
             "2013",
             1
            ],
            [
             "2013",
             1
            ],
            [
             "2013",
             1
            ],
            [
             "2013",
             9
            ],
            [
             "2013",
             1
            ],
            [
             "2013",
             41
            ],
            [
             "2013",
             6
            ],
            [
             "2013",
             1
            ],
            [
             "2013",
             40
            ],
            [
             "2013",
             46
            ],
            [
             "2013",
             25
            ],
            [
             "2013",
             70
            ],
            [
             "2013",
             2
            ],
            [
             "2013",
             1
            ],
            [
             "2013",
             11
            ]
           ],
           "geo": "geo",
           "hovertemplate": "<b>%{hovertext}</b><br><br>Year=%{customdata[0]}<br>TotalAffected=%{customdata[1]}<br>Country=%{location}<extra></extra>",
           "hovertext": [
            "Afghanistan",
            "Argentina",
            "Armenia",
            "Central African Republic",
            "DR Congo",
            "El Salvador",
            "Ethiopia",
            "Haiti",
            "India",
            "Indonesia",
            "Iraq",
            "Jordan",
            "Kenya",
            "Kyrgyzstan",
            "Libyan Arab Jamahiriya",
            "Mali",
            "Mauritania",
            "Myanmar",
            "Nigeria",
            "Occupied Palestinian Territories",
            "Pakistan",
            "Philippines",
            "Senegal",
            "Somalia",
            "South Sudan",
            "Sudan",
            "Syrian Arab Republic",
            "Turkey",
            "Uganda",
            "Yemen"
           ],
           "legendgroup": "",
           "locationmode": "country names",
           "locations": [
            "Afghanistan",
            "Argentina",
            "Armenia",
            "Central African Republic",
            "DR Congo",
            "El Salvador",
            "Ethiopia",
            "Haiti",
            "India",
            "Indonesia",
            "Iraq",
            "Jordan",
            "Kenya",
            "Kyrgyzstan",
            "Libyan Arab Jamahiriya",
            "Mali",
            "Mauritania",
            "Myanmar",
            "Nigeria",
            "Occupied Palestinian Territories",
            "Pakistan",
            "Philippines",
            "Senegal",
            "Somalia",
            "South Sudan",
            "Sudan",
            "Syrian Arab Republic",
            "Turkey",
            "Uganda",
            "Yemen"
           ],
           "marker": {
            "color": "red",
            "opacity": 0.5,
            "size": {
             "bdata": "pwABAAEABwALAAEAAgACAAIAAQABAAoACgABAAEAAQABAAEACQABACkABgABACgALgAZAEYAAgABAAsA",
             "dtype": "i2"
            },
            "sizemode": "area",
            "sizeref": 0.106,
            "symbol": "circle"
           },
           "mode": "markers",
           "name": "",
           "showlegend": false,
           "type": "scattergeo"
          }
         ],
         "name": "2013"
        },
        {
         "data": [
          {
           "customdata": [
            [
             "2014",
             127
            ],
            [
             "2014",
             1
            ],
            [
             "2014",
             1
            ],
            [
             "2014",
             2
            ],
            [
             "2014",
             25
            ],
            [
             "2014",
             2
            ],
            [
             "2014",
             9
            ],
            [
             "2014",
             4
            ],
            [
             "2014",
             3
            ],
            [
             "2014",
             1
            ],
            [
             "2014",
             1
            ],
            [
             "2014",
             5
            ],
            [
             "2014",
             1
            ],
            [
             "2014",
             1
            ],
            [
             "2014",
             10
            ],
            [
             "2014",
             1
            ],
            [
             "2014",
             1
            ],
            [
             "2014",
             17
            ],
            [
             "2014",
             18
            ],
            [
             "2014",
             2
            ],
            [
             "2014",
             13
            ],
            [
             "2014",
             23
            ],
            [
             "2014",
             21
            ],
            [
             "2014",
             45
            ],
            [
             "2014",
             1
            ],
            [
             "2014",
             1
            ],
            [
             "2014",
             2
            ],
            [
             "2014",
             2
            ]
           ],
           "geo": "geo",
           "hovertemplate": "<b>%{hovertext}</b><br><br>Year=%{customdata[0]}<br>TotalAffected=%{customdata[1]}<br>Country=%{location}<extra></extra>",
           "hovertext": [
            "Afghanistan",
            "Benin",
            "Cambodia",
            "Cameroon",
            "Central African Republic",
            "Chad",
            "DR Congo",
            "Ethiopia",
            "Guinea",
            "Iraq",
            "Israel",
            "Kenya",
            "Lebanon",
            "Libyan Arab Jamahiriya",
            "Mali",
            "Myanmar",
            "Nepal",
            "Occupied Palestinian Territories",
            "Pakistan",
            "Philippines",
            "Somalia",
            "South Sudan",
            "Sudan",
            "Syrian Arab Republic",
            "Tanzania",
            "Uganda",
            "Ukraine",
            "Yemen"
           ],
           "legendgroup": "",
           "locationmode": "country names",
           "locations": [
            "Afghanistan",
            "Benin",
            "Cambodia",
            "Cameroon",
            "Central African Republic",
            "Chad",
            "DR Congo",
            "Ethiopia",
            "Guinea",
            "Iraq",
            "Israel",
            "Kenya",
            "Lebanon",
            "Libyan Arab Jamahiriya",
            "Mali",
            "Myanmar",
            "Nepal",
            "Occupied Palestinian Territories",
            "Pakistan",
            "Philippines",
            "Somalia",
            "South Sudan",
            "Sudan",
            "Syrian Arab Republic",
            "Tanzania",
            "Uganda",
            "Ukraine",
            "Yemen"
           ],
           "marker": {
            "color": "red",
            "opacity": 0.5,
            "size": {
             "bdata": "fwEBAhkCCQQDAQEFAQEKAQEREgINFxUtAQECAg==",
             "dtype": "i1"
            },
            "sizemode": "area",
            "sizeref": 0.106,
            "symbol": "circle"
           },
           "mode": "markers",
           "name": "",
           "showlegend": false,
           "type": "scattergeo"
          }
         ],
         "name": "2014"
        },
        {
         "data": [
          {
           "customdata": [
            [
             "2015",
             101
            ],
            [
             "2015",
             1
            ],
            [
             "2015",
             3
            ],
            [
             "2015",
             3
            ],
            [
             "2015",
             14
            ],
            [
             "2015",
             28
            ],
            [
             "2015",
             2
            ],
            [
             "2015",
             2
            ],
            [
             "2015",
             1
            ],
            [
             "2015",
             1
            ],
            [
             "2015",
             1
            ],
            [
             "2015",
             2
            ],
            [
             "2015",
             3
            ],
            [
             "2015",
             6
            ],
            [
             "2015",
             3
            ],
            [
             "2015",
             1
            ],
            [
             "2015",
             1
            ],
            [
             "2015",
             26
            ],
            [
             "2015",
             1
            ],
            [
             "2015",
             42
            ],
            [
             "2015",
             12
            ],
            [
             "2015",
             14
            ],
            [
             "2015",
             3
            ],
            [
             "2015",
             1
            ],
            [
             "2015",
             17
            ],
            [
             "2015",
             1
            ]
           ],
           "geo": "geo",
           "hovertemplate": "<b>%{hovertext}</b><br><br>Year=%{customdata[0]}<br>TotalAffected=%{customdata[1]}<br>Country=%{location}<extra></extra>",
           "hovertext": [
            "Afghanistan",
            "Bangladesh",
            "Burundi",
            "Cameroon",
            "Central African Republic",
            "DR Congo",
            "Ethiopia",
            "Guatemala",
            "Guinea",
            "Haiti",
            "Iraq",
            "Kenya",
            "Libyan Arab Jamahiriya",
            "Mali",
            "Myanmar",
            "Pakistan",
            "Sierra Leone",
            "Somalia",
            "South Africa",
            "South Sudan",
            "Sudan",
            "Syrian Arab Republic",
            "Turkey",
            "Uganda",
            "Yemen",
            "Zambia"
           ],
           "legendgroup": "",
           "locationmode": "country names",
           "locations": [
            "Afghanistan",
            "Bangladesh",
            "Burundi",
            "Cameroon",
            "Central African Republic",
            "DR Congo",
            "Ethiopia",
            "Guatemala",
            "Guinea",
            "Haiti",
            "Iraq",
            "Kenya",
            "Libyan Arab Jamahiriya",
            "Mali",
            "Myanmar",
            "Pakistan",
            "Sierra Leone",
            "Somalia",
            "South Africa",
            "South Sudan",
            "Sudan",
            "Syrian Arab Republic",
            "Turkey",
            "Uganda",
            "Yemen",
            "Zambia"
           ],
           "marker": {
            "color": "red",
            "opacity": 0.5,
            "size": {
             "bdata": "ZQEDAw4cAgIBAQECAwYDAQEaASoMDgMBEQE=",
             "dtype": "i1"
            },
            "sizemode": "area",
            "sizeref": 0.106,
            "symbol": "circle"
           },
           "mode": "markers",
           "name": "",
           "showlegend": false,
           "type": "scattergeo"
          }
         ],
         "name": "2015"
        },
        {
         "data": [
          {
           "customdata": [
            [
             "2016",
             63
            ],
            [
             "2016",
             1
            ],
            [
             "2016",
             3
            ],
            [
             "2016",
             2
            ],
            [
             "2016",
             7
            ],
            [
             "2016",
             22
            ],
            [
             "2016",
             1
            ],
            [
             "2016",
             1
            ],
            [
             "2016",
             2
            ],
            [
             "2016",
             1
            ],
            [
             "2016",
             2
            ],
            [
             "2016",
             5
            ],
            [
             "2016",
             1
            ],
            [
             "2016",
             2
            ],
            [
             "2016",
             3
            ],
            [
             "2016",
             1
            ],
            [
             "2016",
             1
            ],
            [
             "2016",
             17
            ],
            [
             "2016",
             98
            ],
            [
             "2016",
             7
            ],
            [
             "2016",
             43
            ],
            [
             "2016",
             13
            ]
           ],
           "geo": "geo",
           "hovertemplate": "<b>%{hovertext}</b><br><br>Year=%{customdata[0]}<br>TotalAffected=%{customdata[1]}<br>Country=%{location}<extra></extra>",
           "hovertext": [
            "Afghanistan",
            "Angola",
            "Bangladesh",
            "Burkina Faso",
            "Central African Republic",
            "DR Congo",
            "El Salvador",
            "Haiti",
            "Honduras",
            "Iraq",
            "Kenya",
            "Mali",
            "Nicaragua",
            "Niger",
            "Nigeria",
            "Occupied Palestinian Territories",
            "Pakistan",
            "Somalia",
            "South Sudan",
            "Sudan",
            "Syrian Arab Republic",
            "Yemen"
           ],
           "legendgroup": "",
           "locationmode": "country names",
           "locations": [
            "Afghanistan",
            "Angola",
            "Bangladesh",
            "Burkina Faso",
            "Central African Republic",
            "DR Congo",
            "El Salvador",
            "Haiti",
            "Honduras",
            "Iraq",
            "Kenya",
            "Mali",
            "Nicaragua",
            "Niger",
            "Nigeria",
            "Occupied Palestinian Territories",
            "Pakistan",
            "Somalia",
            "South Sudan",
            "Sudan",
            "Syrian Arab Republic",
            "Yemen"
           ],
           "marker": {
            "color": "red",
            "opacity": 0.5,
            "size": {
             "bdata": "PwEDAgcWAQECAQIFAQIDAQERYgcrDQ==",
             "dtype": "i1"
            },
            "sizemode": "area",
            "sizeref": 0.106,
            "symbol": "circle"
           },
           "mode": "markers",
           "name": "",
           "showlegend": false,
           "type": "scattergeo"
          }
         ],
         "name": "2016"
        },
        {
         "data": [
          {
           "customdata": [
            [
             "2017",
             31
            ],
            [
             "2017",
             23
            ],
            [
             "2017",
             1
            ],
            [
             "2017",
             10
            ],
            [
             "2017",
             1
            ],
            [
             "2017",
             3
            ],
            [
             "2017",
             4
            ],
            [
             "2017",
             3
            ],
            [
             "2017",
             1
            ],
            [
             "2017",
             10
            ],
            [
             "2017",
             1
            ],
            [
             "2017",
             3
            ],
            [
             "2017",
             1
            ],
            [
             "2017",
             31
            ],
            [
             "2017",
             5
            ],
            [
             "2017",
             1
            ],
            [
             "2017",
             36
            ],
            [
             "2017",
             79
            ],
            [
             "2017",
             4
            ],
            [
             "2017",
             53
            ],
            [
             "2017",
             1
            ],
            [
             "2017",
             13
            ]
           ],
           "geo": "geo",
           "hovertemplate": "<b>%{hovertext}</b><br><br>Year=%{customdata[0]}<br>TotalAffected=%{customdata[1]}<br>Country=%{location}<extra></extra>",
           "hovertext": [
            "Afghanistan",
            "Central African Republic",
            "Chad",
            "DR Congo",
            "Haiti",
            "Iraq",
            "Kenya",
            "Libyan Arab Jamahiriya",
            "Madagascar",
            "Mali",
            "Mauritius",
            "Mexico",
            "Myanmar",
            "Nigeria",
            "Pakistan",
            "Sierra Leone",
            "Somalia",
            "South Sudan",
            "Sudan",
            "Syrian Arab Republic",
            "Uganda",
            "Yemen"
           ],
           "legendgroup": "",
           "locationmode": "country names",
           "locations": [
            "Afghanistan",
            "Central African Republic",
            "Chad",
            "DR Congo",
            "Haiti",
            "Iraq",
            "Kenya",
            "Libyan Arab Jamahiriya",
            "Madagascar",
            "Mali",
            "Mauritius",
            "Mexico",
            "Myanmar",
            "Nigeria",
            "Pakistan",
            "Sierra Leone",
            "Somalia",
            "South Sudan",
            "Sudan",
            "Syrian Arab Republic",
            "Uganda",
            "Yemen"
           ],
           "marker": {
            "color": "red",
            "opacity": 0.5,
            "size": {
             "bdata": "HxcBCgEDBAMBCgEDAR8FASRPBDUBDQ==",
             "dtype": "i1"
            },
            "sizemode": "area",
            "sizeref": 0.106,
            "symbol": "circle"
           },
           "mode": "markers",
           "name": "",
           "showlegend": false,
           "type": "scattergeo"
          }
         ],
         "name": "2017"
        },
        {
         "data": [
          {
           "customdata": [
            [
             "2018",
             47
            ],
            [
             "2018",
             1
            ],
            [
             "2018",
             5
            ],
            [
             "2018",
             3
            ],
            [
             "2018",
             2
            ],
            [
             "2018",
             21
            ],
            [
             "2018",
             43
            ],
            [
             "2018",
             1
            ],
            [
             "2018",
             3
            ],
            [
             "2018",
             2
            ],
            [
             "2018",
             1
            ],
            [
             "2018",
             1
            ],
            [
             "2018",
             3
            ],
            [
             "2018",
             6
            ],
            [
             "2018",
             5
            ],
            [
             "2018",
             22
            ],
            [
             "2018",
             4
            ],
            [
             "2018",
             1
            ],
            [
             "2018",
             1
            ],
            [
             "2018",
             1
            ],
            [
             "2018",
             12
            ],
            [
             "2018",
             3
            ],
            [
             "2018",
             1
            ],
            [
             "2018",
             2
            ],
            [
             "2018",
             1
            ],
            [
             "2018",
             1
            ],
            [
             "2018",
             1
            ],
            [
             "2018",
             12
            ],
            [
             "2018",
             111
            ],
            [
             "2018",
             1
            ],
            [
             "2018",
             9
            ],
            [
             "2018",
             68
            ],
            [
             "2018",
             2
            ],
            [
             "2018",
             1
            ],
            [
             "2018",
             4
            ],
            [
             "2018",
             7
            ]
           ],
           "geo": "geo",
           "hovertemplate": "<b>%{hovertext}</b><br><br>Year=%{customdata[0]}<br>TotalAffected=%{customdata[1]}<br>Country=%{location}<extra></extra>",
           "hovertext": [
            "Afghanistan",
            "Algeria",
            "Azerbaijan",
            "Bangladesh",
            "Cameroon",
            "Central African Republic",
            "DR Congo",
            "El Salvador",
            "Ethiopia",
            "Guatemala",
            "Guinea",
            "Haiti",
            "Iraq",
            "Kenya",
            "Libyan Arab Jamahiriya",
            "Mali",
            "Mexico",
            "Myanmar",
            "Nicaragua",
            "Niger",
            "Nigeria",
            "Occupied Palestinian Territories",
            "Pakistan",
            "Papua New Guinea",
            "Philippines",
            "Saudi Arabia",
            "Sierra Leone",
            "Somalia",
            "South Sudan",
            "Sri Lanka",
            "Sudan",
            "Syrian Arab Republic",
            "Tanzania",
            "Tunisia",
            "Uganda",
            "Yemen"
           ],
           "legendgroup": "",
           "locationmode": "country names",
           "locations": [
            "Afghanistan",
            "Algeria",
            "Azerbaijan",
            "Bangladesh",
            "Cameroon",
            "Central African Republic",
            "DR Congo",
            "El Salvador",
            "Ethiopia",
            "Guatemala",
            "Guinea",
            "Haiti",
            "Iraq",
            "Kenya",
            "Libyan Arab Jamahiriya",
            "Mali",
            "Mexico",
            "Myanmar",
            "Nicaragua",
            "Niger",
            "Nigeria",
            "Occupied Palestinian Territories",
            "Pakistan",
            "Papua New Guinea",
            "Philippines",
            "Saudi Arabia",
            "Sierra Leone",
            "Somalia",
            "South Sudan",
            "Sri Lanka",
            "Sudan",
            "Syrian Arab Republic",
            "Tanzania",
            "Tunisia",
            "Uganda",
            "Yemen"
           ],
           "marker": {
            "color": "red",
            "opacity": 0.5,
            "size": {
             "bdata": "LwEFAwIVKwEDAgEBAwYFFgQBAQEMAwECAQEBDG8BCUQCAQQH",
             "dtype": "i1"
            },
            "sizemode": "area",
            "sizeref": 0.106,
            "symbol": "circle"
           },
           "mode": "markers",
           "name": "",
           "showlegend": false,
           "type": "scattergeo"
          }
         ],
         "name": "2018"
        },
        {
         "data": [
          {
           "customdata": [
            [
             "2019",
             50
            ],
            [
             "2019",
             6
            ],
            [
             "2019",
             1
            ],
            [
             "2019",
             8
            ],
            [
             "2019",
             1
            ],
            [
             "2019",
             1
            ],
            [
             "2019",
             19
            ],
            [
             "2019",
             24
            ],
            [
             "2019",
             2
            ],
            [
             "2019",
             1
            ],
            [
             "2019",
             48
            ],
            [
             "2019",
             1
            ],
            [
             "2019",
             13
            ],
            [
             "2019",
             2
            ],
            [
             "2019",
             4
            ],
            [
             "2019",
             1
            ],
            [
             "2019",
             3
            ],
            [
             "2019",
             2
            ],
            [
             "2019",
             2
            ],
            [
             "2019",
             3
            ],
            [
             "2019",
             29
            ],
            [
             "2019",
             2
            ],
            [
             "2019",
             1
            ],
            [
             "2019",
             3
            ],
            [
             "2019",
             4
            ],
            [
             "2019",
             23
            ],
            [
             "2019",
             8
            ],
            [
             "2019",
             5
            ],
            [
             "2019",
             1
            ],
            [
             "2019",
             3
            ],
            [
             "2019",
             1
            ],
            [
             "2019",
             15
            ],
            [
             "2019",
             62
            ],
            [
             "2019",
             3
            ],
            [
             "2019",
             9
            ],
            [
             "2019",
             86
            ],
            [
             "2019",
             3
            ],
            [
             "2019",
             1
            ],
            [
             "2019",
             10
            ],
            [
             "2019",
             1
            ],
            [
             "2019",
             19
            ]
           ],
           "geo": "geo",
           "hovertemplate": "<b>%{hovertext}</b><br><br>Year=%{customdata[0]}<br>TotalAffected=%{customdata[1]}<br>Country=%{location}<extra></extra>",
           "hovertext": [
            "Afghanistan",
            "Bangladesh",
            "Bolivia",
            "Burkina Faso",
            "Burundi",
            "Cambodia",
            "Cameroon",
            "Central African Republic",
            "Chad",
            "Cote D'Ivoire",
            "DR Congo",
            "Ecuador",
            "Ethiopia",
            "Guatemala",
            "Haiti",
            "Iraq",
            "Jordan",
            "Kenya",
            "Libyan Arab Jamahiriya",
            "Malawi",
            "Mali",
            "Mexico",
            "Mozambique",
            "Myanmar",
            "Niger",
            "Nigeria",
            "Occupied Palestinian Territories",
            "Pakistan",
            "Papua New Guinea",
            "Philippines",
            "Senegal",
            "Somalia",
            "South Sudan",
            "Sri Lanka",
            "Sudan",
            "Syrian Arab Republic",
            "Tanzania",
            "Tunisia",
            "Uganda",
            "Ukraine",
            "Yemen"
           ],
           "legendgroup": "",
           "locationmode": "country names",
           "locations": [
            "Afghanistan",
            "Bangladesh",
            "Bolivia",
            "Burkina Faso",
            "Burundi",
            "Cambodia",
            "Cameroon",
            "Central African Republic",
            "Chad",
            "Cote D'Ivoire",
            "DR Congo",
            "Ecuador",
            "Ethiopia",
            "Guatemala",
            "Haiti",
            "Iraq",
            "Jordan",
            "Kenya",
            "Libyan Arab Jamahiriya",
            "Malawi",
            "Mali",
            "Mexico",
            "Mozambique",
            "Myanmar",
            "Niger",
            "Nigeria",
            "Occupied Palestinian Territories",
            "Pakistan",
            "Papua New Guinea",
            "Philippines",
            "Senegal",
            "Somalia",
            "South Sudan",
            "Sri Lanka",
            "Sudan",
            "Syrian Arab Republic",
            "Tanzania",
            "Tunisia",
            "Uganda",
            "Ukraine",
            "Yemen"
           ],
           "marker": {
            "color": "red",
            "opacity": 0.5,
            "size": {
             "bdata": "MgYBCAEBExgCATABDQIEAQMCAgMdAgEDBBcIBQEDAQ8+AwlWAwEKARM=",
             "dtype": "i1"
            },
            "sizemode": "area",
            "sizeref": 0.106,
            "symbol": "circle"
           },
           "mode": "markers",
           "name": "",
           "showlegend": false,
           "type": "scattergeo"
          }
         ],
         "name": "2019"
        },
        {
         "data": [
          {
           "customdata": [
            [
             "2020",
             17
            ],
            [
             "2020",
             2
            ],
            [
             "2020",
             1
            ],
            [
             "2020",
             7
            ],
            [
             "2020",
             1
            ],
            [
             "2020",
             21
            ],
            [
             "2020",
             31
            ],
            [
             "2020",
             1
            ],
            [
             "2020",
             3
            ],
            [
             "2020",
             2
            ],
            [
             "2020",
             1
            ],
            [
             "2020",
             41
            ],
            [
             "2020",
             21
            ],
            [
             "2020",
             1
            ],
            [
             "2020",
             4
            ],
            [
             "2020",
             2
            ],
            [
             "2020",
             9
            ],
            [
             "2020",
             1
            ],
            [
             "2020",
             1
            ],
            [
             "2020",
             1
            ],
            [
             "2020",
             3
            ],
            [
             "2020",
             1
            ],
            [
             "2020",
             39
            ],
            [
             "2020",
             5
            ],
            [
             "2020",
             6
            ],
            [
             "2020",
             1
            ],
            [
             "2020",
             20
            ],
            [
             "2020",
             17
            ],
            [
             "2020",
             3
            ],
            [
             "2020",
             1
            ],
            [
             "2020",
             1
            ],
            [
             "2020",
             25
            ],
            [
             "2020",
             76
            ],
            [
             "2020",
             6
            ],
            [
             "2020",
             85
            ],
            [
             "2020",
             2
            ],
            [
             "2020",
             10
            ],
            [
             "2020",
             1
            ],
            [
             "2020",
             12
            ],
            [
             "2020",
             1
            ],
            [
             "2020",
             1
            ]
           ],
           "geo": "geo",
           "hovertemplate": "<b>%{hovertext}</b><br><br>Year=%{customdata[0]}<br>TotalAffected=%{customdata[1]}<br>Country=%{location}<extra></extra>",
           "hovertext": [
            "Afghanistan",
            "Bangladesh",
            "Botswana",
            "Burkina Faso",
            "Burundi",
            "Cameroon",
            "Central African Republic",
            "Chile",
            "Colombia",
            "Congo",
            "Cote D'Ivoire",
            "DR Congo",
            "Ethiopia",
            "Fiji",
            "Haiti",
            "India",
            "Iraq",
            "Jordan",
            "Kenya",
            "Kyrgyzstan",
            "Libyan Arab Jamahiriya",
            "Madagascar",
            "Mali",
            "Mexico",
            "Mozambique",
            "Myanmar",
            "Niger",
            "Nigeria",
            "Pakistan",
            "Papua New Guinea",
            "Peru",
            "Somalia",
            "South Sudan",
            "Sudan",
            "Syrian Arab Republic",
            "Turkey",
            "Uganda",
            "Uruguay",
            "Yemen",
            "Zambia",
            "Zimbabwe"
           ],
           "legendgroup": "",
           "locationmode": "country names",
           "locations": [
            "Afghanistan",
            "Bangladesh",
            "Botswana",
            "Burkina Faso",
            "Burundi",
            "Cameroon",
            "Central African Republic",
            "Chile",
            "Colombia",
            "Congo",
            "Cote D'Ivoire",
            "DR Congo",
            "Ethiopia",
            "Fiji",
            "Haiti",
            "India",
            "Iraq",
            "Jordan",
            "Kenya",
            "Kyrgyzstan",
            "Libyan Arab Jamahiriya",
            "Madagascar",
            "Mali",
            "Mexico",
            "Mozambique",
            "Myanmar",
            "Niger",
            "Nigeria",
            "Pakistan",
            "Papua New Guinea",
            "Peru",
            "Somalia",
            "South Sudan",
            "Sudan",
            "Syrian Arab Republic",
            "Turkey",
            "Uganda",
            "Uruguay",
            "Yemen",
            "Zambia",
            "Zimbabwe"
           ],
           "marker": {
            "color": "red",
            "opacity": 0.5,
            "size": {
             "bdata": "EQIBBwEVHwEDAgEpFQEEAgkBAQEDAScFBgEUEQMBARlMBlUCCgEMAQE=",
             "dtype": "i1"
            },
            "sizemode": "area",
            "sizeref": 0.106,
            "symbol": "circle"
           },
           "mode": "markers",
           "name": "",
           "showlegend": false,
           "type": "scattergeo"
          }
         ],
         "name": "2020"
        },
        {
         "data": [
          {
           "customdata": [
            [
             "2021",
             61
            ],
            [
             "2021",
             1
            ],
            [
             "2021",
             1
            ],
            [
             "2021",
             6
            ],
            [
             "2021",
             17
            ],
            [
             "2021",
             21
            ],
            [
             "2021",
             1
            ],
            [
             "2021",
             1
            ],
            [
             "2021",
             32
            ],
            [
             "2021",
             2
            ],
            [
             "2021",
             24
            ],
            [
             "2021",
             1
            ],
            [
             "2021",
             18
            ],
            [
             "2021",
             1
            ],
            [
             "2021",
             1
            ],
            [
             "2021",
             2
            ],
            [
             "2021",
             1
            ],
            [
             "2021",
             2
            ],
            [
             "2021",
             47
            ],
            [
             "2021",
             29
            ],
            [
             "2021",
             1
            ],
            [
             "2021",
             1
            ],
            [
             "2021",
             13
            ],
            [
             "2021",
             3
            ],
            [
             "2021",
             5
            ],
            [
             "2021",
             1
            ],
            [
             "2021",
             6
            ],
            [
             "2021",
             93
            ],
            [
             "2021",
             1
            ],
            [
             "2021",
             9
            ],
            [
             "2021",
             1
            ],
            [
             "2021",
             52
            ],
            [
             "2021",
             2
            ],
            [
             "2021",
             9
            ]
           ],
           "geo": "geo",
           "hovertemplate": "<b>%{hovertext}</b><br><br>Year=%{customdata[0]}<br>TotalAffected=%{customdata[1]}<br>Country=%{location}<extra></extra>",
           "hovertext": [
            "Afghanistan",
            "Bangladesh",
            "Bolivia",
            "Burkina Faso",
            "Cameroon",
            "Central African Republic",
            "Chad",
            "Colombia",
            "DR Congo",
            "El Salvador",
            "Ethiopia",
            "Guinea-Bissau",
            "Haiti",
            "Kenya",
            "Lesotho",
            "Liberia",
            "Libyan Arab Jamahiriya",
            "Madagascar",
            "Mali",
            "Myanmar",
            "Namibia",
            "Niger",
            "Nigeria",
            "Occupied Palestinian Territories",
            "Pakistan",
            "Sierra Leone",
            "Somalia",
            "South Sudan",
            "Sri Lanka",
            "Sudan",
            "Swaziland",
            "Syrian Arab Republic",
            "Uganda",
            "Yemen"
           ],
           "legendgroup": "",
           "locationmode": "country names",
           "locations": [
            "Afghanistan",
            "Bangladesh",
            "Bolivia",
            "Burkina Faso",
            "Cameroon",
            "Central African Republic",
            "Chad",
            "Colombia",
            "DR Congo",
            "El Salvador",
            "Ethiopia",
            "Guinea-Bissau",
            "Haiti",
            "Kenya",
            "Lesotho",
            "Liberia",
            "Libyan Arab Jamahiriya",
            "Madagascar",
            "Mali",
            "Myanmar",
            "Namibia",
            "Niger",
            "Nigeria",
            "Occupied Palestinian Territories",
            "Pakistan",
            "Sierra Leone",
            "Somalia",
            "South Sudan",
            "Sri Lanka",
            "Sudan",
            "Swaziland",
            "Syrian Arab Republic",
            "Uganda",
            "Yemen"
           ],
           "marker": {
            "color": "red",
            "opacity": 0.5,
            "size": {
             "bdata": "PQEBBhEVAQEgAhgBEgEBAgECLx0BAQ0DBQEGXQEJATQCCQ==",
             "dtype": "i1"
            },
            "sizemode": "area",
            "sizeref": 0.106,
            "symbol": "circle"
           },
           "mode": "markers",
           "name": "",
           "showlegend": false,
           "type": "scattergeo"
          }
         ],
         "name": "2021"
        },
        {
         "data": [
          {
           "customdata": [
            [
             "2022",
             11
            ],
            [
             "2022",
             8
            ],
            [
             "2022",
             16
            ],
            [
             "2022",
             13
            ],
            [
             "2022",
             27
            ],
            [
             "2022",
             2
            ],
            [
             "2022",
             33
            ],
            [
             "2022",
             1
            ],
            [
             "2022",
             1
            ],
            [
             "2022",
             20
            ],
            [
             "2022",
             19
            ],
            [
             "2022",
             2
            ],
            [
             "2022",
             8
            ],
            [
             "2022",
             1
            ],
            [
             "2022",
             1
            ],
            [
             "2022",
             39
            ],
            [
             "2022",
             4
            ],
            [
             "2022",
             30
            ],
            [
             "2022",
             7
            ],
            [
             "2022",
             15
            ],
            [
             "2022",
             1
            ],
            [
             "2022",
             2
            ],
            [
             "2022",
             2
            ],
            [
             "2022",
             1
            ],
            [
             "2022",
             18
            ],
            [
             "2022",
             62
            ],
            [
             "2022",
             11
            ],
            [
             "2022",
             18
            ],
            [
             "2022",
             1
            ],
            [
             "2022",
             1
            ],
            [
             "2022",
             1
            ],
            [
             "2022",
             61
            ],
            [
             "2022",
             1
            ],
            [
             "2022",
             11
            ]
           ],
           "geo": "geo",
           "hovertemplate": "<b>%{hovertext}</b><br><br>Year=%{customdata[0]}<br>TotalAffected=%{customdata[1]}<br>Country=%{location}<extra></extra>",
           "hovertext": [
            "Afghanistan",
            "Bangladesh",
            "Burkina Faso",
            "Cameroon",
            "Central African Republic",
            "Colombia",
            "DR Congo",
            "Dominican Republic",
            "Egypt",
            "Ethiopia",
            "Haiti",
            "Iran, Islamic Republic of",
            "Iraq",
            "Kenya",
            "Lebanon",
            "Mali",
            "Mozambique",
            "Myanmar",
            "Niger",
            "Nigeria",
            "Occupied Palestinian Territories",
            "Pakistan",
            "Papua New Guinea",
            "Poland",
            "Somalia",
            "South Sudan",
            "Sudan",
            "Syrian Arab Republic",
            "Tanzania",
            "Tunisia",
            "Uganda",
            "Ukraine",
            "Venezuela",
            "Yemen"
           ],
           "legendgroup": "",
           "locationmode": "country names",
           "locations": [
            "Afghanistan",
            "Bangladesh",
            "Burkina Faso",
            "Cameroon",
            "Central African Republic",
            "Colombia",
            "DR Congo",
            "Dominican Republic",
            "Egypt",
            "Ethiopia",
            "Haiti",
            "Iran, Islamic Republic of",
            "Iraq",
            "Kenya",
            "Lebanon",
            "Mali",
            "Mozambique",
            "Myanmar",
            "Niger",
            "Nigeria",
            "Occupied Palestinian Territories",
            "Pakistan",
            "Papua New Guinea",
            "Poland",
            "Somalia",
            "South Sudan",
            "Sudan",
            "Syrian Arab Republic",
            "Tanzania",
            "Tunisia",
            "Uganda",
            "Ukraine",
            "Venezuela",
            "Yemen"
           ],
           "marker": {
            "color": "red",
            "opacity": 0.5,
            "size": {
             "bdata": "CwgQDRsCIQEBFBMCCAEBJwQeBw8BAgIBEj4LEgEBAT0BCw==",
             "dtype": "i1"
            },
            "sizemode": "area",
            "sizeref": 0.106,
            "symbol": "circle"
           },
           "mode": "markers",
           "name": "",
           "showlegend": false,
           "type": "scattergeo"
          }
         ],
         "name": "2022"
        },
        {
         "data": [
          {
           "customdata": [
            [
             "2023",
             3
            ],
            [
             "2023",
             4
            ],
            [
             "2023",
             4
            ],
            [
             "2023",
             9
            ],
            [
             "2023",
             2
            ],
            [
             "2023",
             22
            ],
            [
             "2023",
             22
            ],
            [
             "2023",
             1
            ],
            [
             "2023",
             1
            ],
            [
             "2023",
             8
            ],
            [
             "2023",
             1
            ],
            [
             "2023",
             7
            ],
            [
             "2023",
             1
            ],
            [
             "2023",
             1
            ],
            [
             "2023",
             1
            ],
            [
             "2023",
             28
            ],
            [
             "2023",
             2
            ],
            [
             "2023",
             13
            ],
            [
             "2023",
             1
            ],
            [
             "2023",
             8
            ],
            [
             "2023",
             214
            ],
            [
             "2023",
             1
            ],
            [
             "2023",
             1
            ],
            [
             "2023",
             2
            ],
            [
             "2023",
             26
            ],
            [
             "2023",
             1
            ],
            [
             "2023",
             93
            ],
            [
             "2023",
             1
            ],
            [
             "2023",
             64
            ],
            [
             "2023",
             14
            ],
            [
             "2023",
             3
            ],
            [
             "2023",
             28
            ],
            [
             "2023",
             7
            ]
           ],
           "geo": "geo",
           "hovertemplate": "<b>%{hovertext}</b><br><br>Year=%{customdata[0]}<br>TotalAffected=%{customdata[1]}<br>Country=%{location}<extra></extra>",
           "hovertext": [
            "Afghanistan",
            "Bangladesh",
            "Burkina Faso",
            "Central African Republic",
            "Colombia",
            "DR Congo",
            "Ethiopia",
            "Guatemala",
            "Guinea-Bissau",
            "Haiti",
            "India",
            "Israel",
            "Kenya",
            "Lebanon",
            "Lesotho",
            "Mali",
            "Mozambique",
            "Myanmar",
            "Niger",
            "Nigeria",
            "Occupied Palestinian Territories",
            "Pakistan",
            "Rwanda",
            "Sierra Leone",
            "Somalia",
            "South Africa",
            "South Sudan",
            "Sri Lanka",
            "Sudan",
            "Syrian Arab Republic",
            "Tanzania",
            "Ukraine",
            "Yemen"
           ],
           "legendgroup": "",
           "locationmode": "country names",
           "locations": [
            "Afghanistan",
            "Bangladesh",
            "Burkina Faso",
            "Central African Republic",
            "Colombia",
            "DR Congo",
            "Ethiopia",
            "Guatemala",
            "Guinea-Bissau",
            "Haiti",
            "India",
            "Israel",
            "Kenya",
            "Lebanon",
            "Lesotho",
            "Mali",
            "Mozambique",
            "Myanmar",
            "Niger",
            "Nigeria",
            "Occupied Palestinian Territories",
            "Pakistan",
            "Rwanda",
            "Sierra Leone",
            "Somalia",
            "South Africa",
            "South Sudan",
            "Sri Lanka",
            "Sudan",
            "Syrian Arab Republic",
            "Tanzania",
            "Ukraine",
            "Yemen"
           ],
           "marker": {
            "color": "red",
            "opacity": 0.5,
            "size": {
             "bdata": "AwAEAAQACQACABYAFgABAAEACAABAAcAAQABAAEAHAACAA0AAQAIANYAAQABAAIAGgABAF0AAQBAAA4AAwAcAAcA",
             "dtype": "i2"
            },
            "sizemode": "area",
            "sizeref": 0.106,
            "symbol": "circle"
           },
           "mode": "markers",
           "name": "",
           "showlegend": false,
           "type": "scattergeo"
          }
         ],
         "name": "2023"
        },
        {
         "data": [
          {
           "customdata": [
            [
             "2024",
             4
            ],
            [
             "2024",
             1
            ],
            [
             "2024",
             12
            ],
            [
             "2024",
             1
            ],
            [
             "2024",
             20
            ],
            [
             "2024",
             9
            ],
            [
             "2024",
             4
            ],
            [
             "2024",
             1
            ],
            [
             "2024",
             2
            ],
            [
             "2024",
             21
            ],
            [
             "2024",
             14
            ],
            [
             "2024",
             1
            ],
            [
             "2024",
             4
            ],
            [
             "2024",
             1
            ],
            [
             "2024",
             1
            ],
            [
             "2024",
             3
            ],
            [
             "2024",
             41
            ],
            [
             "2024",
             17
            ],
            [
             "2024",
             5
            ],
            [
             "2024",
             16
            ],
            [
             "2024",
             2
            ],
            [
             "2024",
             44
            ],
            [
             "2024",
             265
            ],
            [
             "2024",
             1
            ],
            [
             "2024",
             1
            ],
            [
             "2024",
             19
            ],
            [
             "2024",
             44
            ],
            [
             "2024",
             79
            ],
            [
             "2024",
             26
            ],
            [
             "2024",
             31
            ],
            [
             "2024",
             24
            ]
           ],
           "geo": "geo",
           "hovertemplate": "<b>%{hovertext}</b><br><br>Year=%{customdata[0]}<br>TotalAffected=%{customdata[1]}<br>Country=%{location}<extra></extra>",
           "hovertext": [
            "Afghanistan",
            "Angola",
            "Burkina Faso",
            "Burundi",
            "Cameroon",
            "Central African Republic",
            "Chad",
            "Chile",
            "Colombia",
            "DR Congo",
            "Ethiopia",
            "Guinea",
            "Haiti",
            "Iraq",
            "Jamaica",
            "Kenya",
            "Lebanon",
            "Mali",
            "Mozambique",
            "Myanmar",
            "Niger",
            "Nigeria",
            "Occupied Palestinian Territories",
            "Pakistan",
            "Poland",
            "Somalia",
            "South Sudan",
            "Sudan",
            "Syrian Arab Republic",
            "Ukraine",
            "Yemen"
           ],
           "legendgroup": "",
           "locationmode": "country names",
           "locations": [
            "Afghanistan",
            "Angola",
            "Burkina Faso",
            "Burundi",
            "Cameroon",
            "Central African Republic",
            "Chad",
            "Chile",
            "Colombia",
            "DR Congo",
            "Ethiopia",
            "Guinea",
            "Haiti",
            "Iraq",
            "Jamaica",
            "Kenya",
            "Lebanon",
            "Mali",
            "Mozambique",
            "Myanmar",
            "Niger",
            "Nigeria",
            "Occupied Palestinian Territories",
            "Pakistan",
            "Poland",
            "Somalia",
            "South Sudan",
            "Sudan",
            "Syrian Arab Republic",
            "Ukraine",
            "Yemen"
           ],
           "marker": {
            "color": "red",
            "opacity": 0.5,
            "size": {
             "bdata": "BAABAAwAAQAUAAkABAABAAIAFQAOAAEABAABAAEAAwApABEABQAQAAIALAAJAQEAAQATACwATwAaAB8AGAA=",
             "dtype": "i2"
            },
            "sizemode": "area",
            "sizeref": 0.106,
            "symbol": "circle"
           },
           "mode": "markers",
           "name": "",
           "showlegend": false,
           "type": "scattergeo"
          }
         ],
         "name": "2024"
        },
        {
         "data": [
          {
           "customdata": [
            [
             "2025",
             1
            ],
            [
             "2025",
             7
            ],
            [
             "2025",
             2
            ],
            [
             "2025",
             3
            ],
            [
             "2025",
             5
            ],
            [
             "2025",
             20
            ],
            [
             "2025",
             1
            ],
            [
             "2025",
             7
            ],
            [
             "2025",
             13
            ],
            [
             "2025",
             6
            ],
            [
             "2025",
             2
            ],
            [
             "2025",
             1
            ]
           ],
           "geo": "geo",
           "hovertemplate": "<b>%{hovertext}</b><br><br>Year=%{customdata[0]}<br>TotalAffected=%{customdata[1]}<br>Country=%{location}<extra></extra>",
           "hovertext": [
            "Afghanistan",
            "DR Congo",
            "Mali",
            "Myanmar",
            "Nigeria",
            "Occupied Palestinian Territories",
            "Pakistan",
            "South Sudan",
            "Sudan",
            "Syrian Arab Republic",
            "Ukraine",
            "Yemen"
           ],
           "legendgroup": "",
           "locationmode": "country names",
           "locations": [
            "Afghanistan",
            "DR Congo",
            "Mali",
            "Myanmar",
            "Nigeria",
            "Occupied Palestinian Territories",
            "Pakistan",
            "South Sudan",
            "Sudan",
            "Syrian Arab Republic",
            "Ukraine",
            "Yemen"
           ],
           "marker": {
            "color": "red",
            "opacity": 0.5,
            "size": {
             "bdata": "AQcCAwUUAQcNBgIB",
             "dtype": "i1"
            },
            "sizemode": "area",
            "sizeref": 0.106,
            "symbol": "circle"
           },
           "mode": "markers",
           "name": "",
           "showlegend": false,
           "type": "scattergeo"
          }
         ],
         "name": "2025"
        }
       ],
       "layout": {
        "geo": {
         "center": {},
         "domain": {
          "x": [
           0,
           1
          ],
          "y": [
           0,
           1
          ]
         },
         "projection": {
          "type": "natural earth"
         },
         "showcoastlines": true,
         "showframe": false
        },
        "legend": {
         "itemsizing": "constant",
         "tracegroupgap": 0
        },
        "margin": {
         "b": 0,
         "l": 0,
         "r": 0,
         "t": 50
        },
        "sliders": [
         {
          "active": 0,
          "currentvalue": {
           "prefix": "Year=",
           "visible": false
          },
          "len": 0.4,
          "pad": {
           "b": 10,
           "t": 60
          },
          "steps": [
           {
            "args": [
             [
              "1997"
             ],
             {
              "frame": {
               "duration": 0,
               "redraw": true
              },
              "mode": "immediate",
              "transition": {
               "duration": 0
              }
             }
            ],
            "label": "1997",
            "method": "animate"
           },
           {
            "args": [
             [
              "1998"
             ],
             {
              "frame": {
               "duration": 0,
               "redraw": true
              },
              "mode": "immediate",
              "transition": {
               "duration": 0
              }
             }
            ],
            "label": "1998",
            "method": "animate"
           },
           {
            "args": [
             [
              "1999"
             ],
             {
              "frame": {
               "duration": 0,
               "redraw": true
              },
              "mode": "immediate",
              "transition": {
               "duration": 0
              }
             }
            ],
            "label": "1999",
            "method": "animate"
           },
           {
            "args": [
             [
              "2000"
             ],
             {
              "frame": {
               "duration": 0,
               "redraw": true
              },
              "mode": "immediate",
              "transition": {
               "duration": 0
              }
             }
            ],
            "label": "2000",
            "method": "animate"
           },
           {
            "args": [
             [
              "2001"
             ],
             {
              "frame": {
               "duration": 0,
               "redraw": true
              },
              "mode": "immediate",
              "transition": {
               "duration": 0
              }
             }
            ],
            "label": "2001",
            "method": "animate"
           },
           {
            "args": [
             [
              "2002"
             ],
             {
              "frame": {
               "duration": 0,
               "redraw": true
              },
              "mode": "immediate",
              "transition": {
               "duration": 0
              }
             }
            ],
            "label": "2002",
            "method": "animate"
           },
           {
            "args": [
             [
              "2003"
             ],
             {
              "frame": {
               "duration": 0,
               "redraw": true
              },
              "mode": "immediate",
              "transition": {
               "duration": 0
              }
             }
            ],
            "label": "2003",
            "method": "animate"
           },
           {
            "args": [
             [
              "2004"
             ],
             {
              "frame": {
               "duration": 0,
               "redraw": true
              },
              "mode": "immediate",
              "transition": {
               "duration": 0
              }
             }
            ],
            "label": "2004",
            "method": "animate"
           },
           {
            "args": [
             [
              "2005"
             ],
             {
              "frame": {
               "duration": 0,
               "redraw": true
              },
              "mode": "immediate",
              "transition": {
               "duration": 0
              }
             }
            ],
            "label": "2005",
            "method": "animate"
           },
           {
            "args": [
             [
              "2006"
             ],
             {
              "frame": {
               "duration": 0,
               "redraw": true
              },
              "mode": "immediate",
              "transition": {
               "duration": 0
              }
             }
            ],
            "label": "2006",
            "method": "animate"
           },
           {
            "args": [
             [
              "2007"
             ],
             {
              "frame": {
               "duration": 0,
               "redraw": true
              },
              "mode": "immediate",
              "transition": {
               "duration": 0
              }
             }
            ],
            "label": "2007",
            "method": "animate"
           },
           {
            "args": [
             [
              "2008"
             ],
             {
              "frame": {
               "duration": 0,
               "redraw": true
              },
              "mode": "immediate",
              "transition": {
               "duration": 0
              }
             }
            ],
            "label": "2008",
            "method": "animate"
           },
           {
            "args": [
             [
              "2009"
             ],
             {
              "frame": {
               "duration": 0,
               "redraw": true
              },
              "mode": "immediate",
              "transition": {
               "duration": 0
              }
             }
            ],
            "label": "2009",
            "method": "animate"
           },
           {
            "args": [
             [
              "2010"
             ],
             {
              "frame": {
               "duration": 0,
               "redraw": true
              },
              "mode": "immediate",
              "transition": {
               "duration": 0
              }
             }
            ],
            "label": "2010",
            "method": "animate"
           },
           {
            "args": [
             [
              "2011"
             ],
             {
              "frame": {
               "duration": 0,
               "redraw": true
              },
              "mode": "immediate",
              "transition": {
               "duration": 0
              }
             }
            ],
            "label": "2011",
            "method": "animate"
           },
           {
            "args": [
             [
              "2012"
             ],
             {
              "frame": {
               "duration": 0,
               "redraw": true
              },
              "mode": "immediate",
              "transition": {
               "duration": 0
              }
             }
            ],
            "label": "2012",
            "method": "animate"
           },
           {
            "args": [
             [
              "2013"
             ],
             {
              "frame": {
               "duration": 0,
               "redraw": true
              },
              "mode": "immediate",
              "transition": {
               "duration": 0
              }
             }
            ],
            "label": "2013",
            "method": "animate"
           },
           {
            "args": [
             [
              "2014"
             ],
             {
              "frame": {
               "duration": 0,
               "redraw": true
              },
              "mode": "immediate",
              "transition": {
               "duration": 0
              }
             }
            ],
            "label": "2014",
            "method": "animate"
           },
           {
            "args": [
             [
              "2015"
             ],
             {
              "frame": {
               "duration": 0,
               "redraw": true
              },
              "mode": "immediate",
              "transition": {
               "duration": 0
              }
             }
            ],
            "label": "2015",
            "method": "animate"
           },
           {
            "args": [
             [
              "2016"
             ],
             {
              "frame": {
               "duration": 0,
               "redraw": true
              },
              "mode": "immediate",
              "transition": {
               "duration": 0
              }
             }
            ],
            "label": "2016",
            "method": "animate"
           },
           {
            "args": [
             [
              "2017"
             ],
             {
              "frame": {
               "duration": 0,
               "redraw": true
              },
              "mode": "immediate",
              "transition": {
               "duration": 0
              }
             }
            ],
            "label": "2017",
            "method": "animate"
           },
           {
            "args": [
             [
              "2018"
             ],
             {
              "frame": {
               "duration": 0,
               "redraw": true
              },
              "mode": "immediate",
              "transition": {
               "duration": 0
              }
             }
            ],
            "label": "2018",
            "method": "animate"
           },
           {
            "args": [
             [
              "2019"
             ],
             {
              "frame": {
               "duration": 0,
               "redraw": true
              },
              "mode": "immediate",
              "transition": {
               "duration": 0
              }
             }
            ],
            "label": "2019",
            "method": "animate"
           },
           {
            "args": [
             [
              "2020"
             ],
             {
              "frame": {
               "duration": 0,
               "redraw": true
              },
              "mode": "immediate",
              "transition": {
               "duration": 0
              }
             }
            ],
            "label": "2020",
            "method": "animate"
           },
           {
            "args": [
             [
              "2021"
             ],
             {
              "frame": {
               "duration": 0,
               "redraw": true
              },
              "mode": "immediate",
              "transition": {
               "duration": 0
              }
             }
            ],
            "label": "2021",
            "method": "animate"
           },
           {
            "args": [
             [
              "2022"
             ],
             {
              "frame": {
               "duration": 0,
               "redraw": true
              },
              "mode": "immediate",
              "transition": {
               "duration": 0
              }
             }
            ],
            "label": "2022",
            "method": "animate"
           },
           {
            "args": [
             [
              "2023"
             ],
             {
              "frame": {
               "duration": 0,
               "redraw": true
              },
              "mode": "immediate",
              "transition": {
               "duration": 0
              }
             }
            ],
            "label": "2023",
            "method": "animate"
           },
           {
            "args": [
             [
              "2024"
             ],
             {
              "frame": {
               "duration": 0,
               "redraw": true
              },
              "mode": "immediate",
              "transition": {
               "duration": 0
              }
             }
            ],
            "label": "2024",
            "method": "animate"
           },
           {
            "args": [
             [
              "2025"
             ],
             {
              "frame": {
               "duration": 0,
               "redraw": true
              },
              "mode": "immediate",
              "transition": {
               "duration": 0
              }
             }
            ],
            "label": "2025",
            "method": "animate"
           }
          ],
          "transition": {
           "duration": 500,
           "easing": "linear"
          },
          "x": 0.3,
          "xanchor": "left",
          "y": 0,
          "yanchor": "top"
         }
        ],
        "template": {
         "data": {
          "bar": [
           {
            "error_x": {
             "color": "#2a3f5f"
            },
            "error_y": {
             "color": "#2a3f5f"
            },
            "marker": {
             "line": {
              "color": "#E5ECF6",
              "width": 0.5
             },
             "pattern": {
              "fillmode": "overlay",
              "size": 10,
              "solidity": 0.2
             }
            },
            "type": "bar"
           }
          ],
          "barpolar": [
           {
            "marker": {
             "line": {
              "color": "#E5ECF6",
              "width": 0.5
             },
             "pattern": {
              "fillmode": "overlay",
              "size": 10,
              "solidity": 0.2
             }
            },
            "type": "barpolar"
           }
          ],
          "carpet": [
           {
            "aaxis": {
             "endlinecolor": "#2a3f5f",
             "gridcolor": "white",
             "linecolor": "white",
             "minorgridcolor": "white",
             "startlinecolor": "#2a3f5f"
            },
            "baxis": {
             "endlinecolor": "#2a3f5f",
             "gridcolor": "white",
             "linecolor": "white",
             "minorgridcolor": "white",
             "startlinecolor": "#2a3f5f"
            },
            "type": "carpet"
           }
          ],
          "choropleth": [
           {
            "colorbar": {
             "outlinewidth": 0,
             "ticks": ""
            },
            "type": "choropleth"
           }
          ],
          "contour": [
           {
            "colorbar": {
             "outlinewidth": 0,
             "ticks": ""
            },
            "colorscale": [
             [
              0,
              "#0d0887"
             ],
             [
              0.1111111111111111,
              "#46039f"
             ],
             [
              0.2222222222222222,
              "#7201a8"
             ],
             [
              0.3333333333333333,
              "#9c179e"
             ],
             [
              0.4444444444444444,
              "#bd3786"
             ],
             [
              0.5555555555555556,
              "#d8576b"
             ],
             [
              0.6666666666666666,
              "#ed7953"
             ],
             [
              0.7777777777777778,
              "#fb9f3a"
             ],
             [
              0.8888888888888888,
              "#fdca26"
             ],
             [
              1,
              "#f0f921"
             ]
            ],
            "type": "contour"
           }
          ],
          "contourcarpet": [
           {
            "colorbar": {
             "outlinewidth": 0,
             "ticks": ""
            },
            "type": "contourcarpet"
           }
          ],
          "heatmap": [
           {
            "colorbar": {
             "outlinewidth": 0,
             "ticks": ""
            },
            "colorscale": [
             [
              0,
              "#0d0887"
             ],
             [
              0.1111111111111111,
              "#46039f"
             ],
             [
              0.2222222222222222,
              "#7201a8"
             ],
             [
              0.3333333333333333,
              "#9c179e"
             ],
             [
              0.4444444444444444,
              "#bd3786"
             ],
             [
              0.5555555555555556,
              "#d8576b"
             ],
             [
              0.6666666666666666,
              "#ed7953"
             ],
             [
              0.7777777777777778,
              "#fb9f3a"
             ],
             [
              0.8888888888888888,
              "#fdca26"
             ],
             [
              1,
              "#f0f921"
             ]
            ],
            "type": "heatmap"
           }
          ],
          "histogram": [
           {
            "marker": {
             "pattern": {
              "fillmode": "overlay",
              "size": 10,
              "solidity": 0.2
             }
            },
            "type": "histogram"
           }
          ],
          "histogram2d": [
           {
            "colorbar": {
             "outlinewidth": 0,
             "ticks": ""
            },
            "colorscale": [
             [
              0,
              "#0d0887"
             ],
             [
              0.1111111111111111,
              "#46039f"
             ],
             [
              0.2222222222222222,
              "#7201a8"
             ],
             [
              0.3333333333333333,
              "#9c179e"
             ],
             [
              0.4444444444444444,
              "#bd3786"
             ],
             [
              0.5555555555555556,
              "#d8576b"
             ],
             [
              0.6666666666666666,
              "#ed7953"
             ],
             [
              0.7777777777777778,
              "#fb9f3a"
             ],
             [
              0.8888888888888888,
              "#fdca26"
             ],
             [
              1,
              "#f0f921"
             ]
            ],
            "type": "histogram2d"
           }
          ],
          "histogram2dcontour": [
           {
            "colorbar": {
             "outlinewidth": 0,
             "ticks": ""
            },
            "colorscale": [
             [
              0,
              "#0d0887"
             ],
             [
              0.1111111111111111,
              "#46039f"
             ],
             [
              0.2222222222222222,
              "#7201a8"
             ],
             [
              0.3333333333333333,
              "#9c179e"
             ],
             [
              0.4444444444444444,
              "#bd3786"
             ],
             [
              0.5555555555555556,
              "#d8576b"
             ],
             [
              0.6666666666666666,
              "#ed7953"
             ],
             [
              0.7777777777777778,
              "#fb9f3a"
             ],
             [
              0.8888888888888888,
              "#fdca26"
             ],
             [
              1,
              "#f0f921"
             ]
            ],
            "type": "histogram2dcontour"
           }
          ],
          "mesh3d": [
           {
            "colorbar": {
             "outlinewidth": 0,
             "ticks": ""
            },
            "type": "mesh3d"
           }
          ],
          "parcoords": [
           {
            "line": {
             "colorbar": {
              "outlinewidth": 0,
              "ticks": ""
             }
            },
            "type": "parcoords"
           }
          ],
          "pie": [
           {
            "automargin": true,
            "type": "pie"
           }
          ],
          "scatter": [
           {
            "fillpattern": {
             "fillmode": "overlay",
             "size": 10,
             "solidity": 0.2
            },
            "type": "scatter"
           }
          ],
          "scatter3d": [
           {
            "line": {
             "colorbar": {
              "outlinewidth": 0,
              "ticks": ""
             }
            },
            "marker": {
             "colorbar": {
              "outlinewidth": 0,
              "ticks": ""
             }
            },
            "type": "scatter3d"
           }
          ],
          "scattercarpet": [
           {
            "marker": {
             "colorbar": {
              "outlinewidth": 0,
              "ticks": ""
             }
            },
            "type": "scattercarpet"
           }
          ],
          "scattergeo": [
           {
            "marker": {
             "colorbar": {
              "outlinewidth": 0,
              "ticks": ""
             }
            },
            "type": "scattergeo"
           }
          ],
          "scattergl": [
           {
            "marker": {
             "colorbar": {
              "outlinewidth": 0,
              "ticks": ""
             }
            },
            "type": "scattergl"
           }
          ],
          "scattermap": [
           {
            "marker": {
             "colorbar": {
              "outlinewidth": 0,
              "ticks": ""
             }
            },
            "type": "scattermap"
           }
          ],
          "scattermapbox": [
           {
            "marker": {
             "colorbar": {
              "outlinewidth": 0,
              "ticks": ""
             }
            },
            "type": "scattermapbox"
           }
          ],
          "scatterpolar": [
           {
            "marker": {
             "colorbar": {
              "outlinewidth": 0,
              "ticks": ""
             }
            },
            "type": "scatterpolar"
           }
          ],
          "scatterpolargl": [
           {
            "marker": {
             "colorbar": {
              "outlinewidth": 0,
              "ticks": ""
             }
            },
            "type": "scatterpolargl"
           }
          ],
          "scatterternary": [
           {
            "marker": {
             "colorbar": {
              "outlinewidth": 0,
              "ticks": ""
             }
            },
            "type": "scatterternary"
           }
          ],
          "surface": [
           {
            "colorbar": {
             "outlinewidth": 0,
             "ticks": ""
            },
            "colorscale": [
             [
              0,
              "#0d0887"
             ],
             [
              0.1111111111111111,
              "#46039f"
             ],
             [
              0.2222222222222222,
              "#7201a8"
             ],
             [
              0.3333333333333333,
              "#9c179e"
             ],
             [
              0.4444444444444444,
              "#bd3786"
             ],
             [
              0.5555555555555556,
              "#d8576b"
             ],
             [
              0.6666666666666666,
              "#ed7953"
             ],
             [
              0.7777777777777778,
              "#fb9f3a"
             ],
             [
              0.8888888888888888,
              "#fdca26"
             ],
             [
              1,
              "#f0f921"
             ]
            ],
            "type": "surface"
           }
          ],
          "table": [
           {
            "cells": {
             "fill": {
              "color": "#EBF0F8"
             },
             "line": {
              "color": "white"
             }
            },
            "header": {
             "fill": {
              "color": "#C8D4E3"
             },
             "line": {
              "color": "white"
             }
            },
            "type": "table"
           }
          ]
         },
         "layout": {
          "annotationdefaults": {
           "arrowcolor": "#2a3f5f",
           "arrowhead": 0,
           "arrowwidth": 1
          },
          "autotypenumbers": "strict",
          "coloraxis": {
           "colorbar": {
            "outlinewidth": 0,
            "ticks": ""
           }
          },
          "colorscale": {
           "diverging": [
            [
             0,
             "#8e0152"
            ],
            [
             0.1,
             "#c51b7d"
            ],
            [
             0.2,
             "#de77ae"
            ],
            [
             0.3,
             "#f1b6da"
            ],
            [
             0.4,
             "#fde0ef"
            ],
            [
             0.5,
             "#f7f7f7"
            ],
            [
             0.6,
             "#e6f5d0"
            ],
            [
             0.7,
             "#b8e186"
            ],
            [
             0.8,
             "#7fbc41"
            ],
            [
             0.9,
             "#4d9221"
            ],
            [
             1,
             "#276419"
            ]
           ],
           "sequential": [
            [
             0,
             "#0d0887"
            ],
            [
             0.1111111111111111,
             "#46039f"
            ],
            [
             0.2222222222222222,
             "#7201a8"
            ],
            [
             0.3333333333333333,
             "#9c179e"
            ],
            [
             0.4444444444444444,
             "#bd3786"
            ],
            [
             0.5555555555555556,
             "#d8576b"
            ],
            [
             0.6666666666666666,
             "#ed7953"
            ],
            [
             0.7777777777777778,
             "#fb9f3a"
            ],
            [
             0.8888888888888888,
             "#fdca26"
            ],
            [
             1,
             "#f0f921"
            ]
           ],
           "sequentialminus": [
            [
             0,
             "#0d0887"
            ],
            [
             0.1111111111111111,
             "#46039f"
            ],
            [
             0.2222222222222222,
             "#7201a8"
            ],
            [
             0.3333333333333333,
             "#9c179e"
            ],
            [
             0.4444444444444444,
             "#bd3786"
            ],
            [
             0.5555555555555556,
             "#d8576b"
            ],
            [
             0.6666666666666666,
             "#ed7953"
            ],
            [
             0.7777777777777778,
             "#fb9f3a"
            ],
            [
             0.8888888888888888,
             "#fdca26"
            ],
            [
             1,
             "#f0f921"
            ]
           ]
          },
          "colorway": [
           "#636efa",
           "#EF553B",
           "#00cc96",
           "#ab63fa",
           "#FFA15A",
           "#19d3f3",
           "#FF6692",
           "#B6E880",
           "#FF97FF",
           "#FECB52"
          ],
          "font": {
           "color": "#2a3f5f"
          },
          "geo": {
           "bgcolor": "white",
           "lakecolor": "white",
           "landcolor": "#E5ECF6",
           "showlakes": true,
           "showland": true,
           "subunitcolor": "white"
          },
          "hoverlabel": {
           "align": "left"
          },
          "hovermode": "closest",
          "mapbox": {
           "style": "light"
          },
          "paper_bgcolor": "white",
          "plot_bgcolor": "#E5ECF6",
          "polar": {
           "angularaxis": {
            "gridcolor": "white",
            "linecolor": "white",
            "ticks": ""
           },
           "bgcolor": "#E5ECF6",
           "radialaxis": {
            "gridcolor": "white",
            "linecolor": "white",
            "ticks": ""
           }
          },
          "scene": {
           "xaxis": {
            "backgroundcolor": "#E5ECF6",
            "gridcolor": "white",
            "gridwidth": 2,
            "linecolor": "white",
            "showbackground": true,
            "ticks": "",
            "zerolinecolor": "white"
           },
           "yaxis": {
            "backgroundcolor": "#E5ECF6",
            "gridcolor": "white",
            "gridwidth": 2,
            "linecolor": "white",
            "showbackground": true,
            "ticks": "",
            "zerolinecolor": "white"
           },
           "zaxis": {
            "backgroundcolor": "#E5ECF6",
            "gridcolor": "white",
            "gridwidth": 2,
            "linecolor": "white",
            "showbackground": true,
            "ticks": "",
            "zerolinecolor": "white"
           }
          },
          "shapedefaults": {
           "line": {
            "color": "#2a3f5f"
           }
          },
          "ternary": {
           "aaxis": {
            "gridcolor": "white",
            "linecolor": "white",
            "ticks": ""
           },
           "baxis": {
            "gridcolor": "white",
            "linecolor": "white",
            "ticks": ""
           },
           "bgcolor": "#E5ECF6",
           "caxis": {
            "gridcolor": "white",
            "linecolor": "white",
            "ticks": ""
           }
          },
          "title": {
           "x": 0.05
          },
          "xaxis": {
           "automargin": true,
           "gridcolor": "white",
           "linecolor": "white",
           "ticks": "",
           "title": {
            "standoff": 15
           },
           "zerolinecolor": "white",
           "zerolinewidth": 2
          },
          "yaxis": {
           "automargin": true,
           "gridcolor": "white",
           "linecolor": "white",
           "ticks": "",
           "title": {
            "standoff": 15
           },
           "zerolinecolor": "white",
           "zerolinewidth": 2
          }
         }
        },
        "updatemenus": [
         {
          "buttons": [
           {
            "args": [
             null,
             {
              "frame": {
               "duration": 800,
               "redraw": true
              },
              "fromcurrent": true,
              "transition": {
               "duration": 500,
               "easing": "linear"
              }
             }
            ],
            "label": "Play",
            "method": "animate"
           },
           {
            "args": [
             null,
             {
              "frame": {
               "duration": 800,
               "redraw": true
              },
              "fromcurrent": true,
              "transition": {
               "duration": 500,
               "easing": "linear"
              }
             }
            ],
            "label": "Play",
            "method": "animate"
           }
          ],
          "direction": "left",
          "pad": {
           "r": 10,
           "t": 87
          },
          "showactive": false,
          "type": "buttons",
          "x": 0.1,
          "xanchor": "right",
          "y": 0,
          "yanchor": "top"
         }
        ]
       }
      }
     },
     "metadata": {},
     "output_type": "display_data"
    }
   ],
   "source": [
    "import pandas as pd\n",
    "import plotly.express as px\n",
    "\n",
    "df = pd.read_csv(\"../data/processed/security_incidents_clean.csv\")\n",
    "\n",
    "# Convert Year to string for animation\n",
    "df['Year'] = df['Year'].astype(str)\n",
    "\n",
    "# Summarize total affected per Country-Year\n",
    "bubble_data = df.groupby(['Country', 'Year'], as_index=False)['Total affected'].sum()\n",
    "\n",
    "# Rename for simplicity\n",
    "bubble_data = bubble_data.rename(columns={'Total affected': 'TotalAffected'})\n",
    "\n",
    "# Create the animated bubble map\n",
    "fig = px.scatter_geo(\n",
    "    bubble_data,\n",
    "    locations='Country',\n",
    "    locationmode='country names',  \n",
    "    size='TotalAffected',\n",
    "    color_discrete_sequence=['red'],\n",
    "    opacity=0.5,\n",
    "    animation_frame='Year',\n",
    "    projection='natural earth',\n",
    "    size_max=50,\n",
    "    hover_name='Country',\n",
    "    hover_data={'Year': True, 'TotalAffected': True}\n",
    ")\n",
    "\n",
    "# Style layout\n",
    "fig.update_layout(\n",
    "    geo=dict(showframe=False, showcoastlines=True),\n",
    "    margin=dict(l=0, r=0, t=50, b=0),\n",
    "\n",
    "    updatemenus=[{\n",
    "        \"buttons\": [{\n",
    "            \"args\": [None, {\n",
    "                \"frame\": {\"duration\": 800, \"redraw\": True},\n",
    "                \"fromcurrent\": True,\n",
    "                \"transition\": {\"duration\": 500, \"easing\": \"linear\"}\n",
    "            }],\n",
    "            \"label\": \"Play\",\n",
    "            \"method\": \"animate\"\n",
    "        }],\n",
    "        \"direction\": \"left\",\n",
    "        \"pad\": {\"r\": 10, \"t\": 87},\n",
    "        \"showactive\": False,\n",
    "        \"type\": \"buttons\",\n",
    "        \"x\": 0.1,\n",
    "        \"xanchor\": \"right\",\n",
    "        \"y\": 0,\n",
    "        \"yanchor\": \"top\"\n",
    "    }],\n",
    "    \n",
    "\n",
    "    sliders=[{\n",
    "        \"active\": 0,\n",
    "        \"x\": 0.3,\n",
    "        \"len\": 0.4,\n",
    "        \"xanchor\": \"left\",\n",
    "        \"yanchor\": \"top\",\n",
    "        \"pad\": {\"b\": 10},\n",
    "        \"transition\": {\"duration\": 500, \"easing\": \"linear\"},\n",
    "        \"currentvalue\": {\n",
    "            \"visible\": False  \n",
    "        },\n",
    "        \"steps\": [\n",
    "            {\n",
    "                \"args\": [[str(year)], {\n",
    "                    \"frame\": {\"duration\": 0, \"redraw\": True},\n",
    "                    \"mode\": \"immediate\",\n",
    "                    \"transition\": {\"duration\": 0}\n",
    "                }],\n",
    "                \"label\": str(year),\n",
    "                \"method\": \"animate\"\n",
    "            }\n",
    "            for year in sorted(df['Year'].unique())\n",
    "        ]\n",
    "    }]\n",
    ")\n",
    "\n",
    "fig.write_html(\"../plots/worldmap_totalaffected.html\")\n",
    "fig.show()\n"
   ]
  },
  {
   "cell_type": "markdown",
   "metadata": {},
   "source": [
    "# Agencies being attacked"
   ]
  },
  {
   "cell_type": "code",
   "execution_count": 72,
   "metadata": {},
   "outputs": [
    {
     "data": {
      "text/html": [
       "<div>\n",
       "<style scoped>\n",
       "    .dataframe tbody tr th:only-of-type {\n",
       "        vertical-align: middle;\n",
       "    }\n",
       "\n",
       "    .dataframe tbody tr th {\n",
       "        vertical-align: top;\n",
       "    }\n",
       "\n",
       "    .dataframe thead th {\n",
       "        text-align: right;\n",
       "    }\n",
       "</style>\n",
       "<table border=\"1\" class=\"dataframe\">\n",
       "  <thead>\n",
       "    <tr style=\"text-align: right;\">\n",
       "      <th></th>\n",
       "      <th>Year</th>\n",
       "      <th>AgencyType</th>\n",
       "      <th>Count</th>\n",
       "      <th>Cumulative</th>\n",
       "      <th>Rank</th>\n",
       "    </tr>\n",
       "  </thead>\n",
       "  <tbody>\n",
       "    <tr>\n",
       "      <th>0</th>\n",
       "      <td>1997</td>\n",
       "      <td>ICRC</td>\n",
       "      <td>7</td>\n",
       "      <td>7</td>\n",
       "      <td>4.0</td>\n",
       "    </tr>\n",
       "    <tr>\n",
       "      <th>6</th>\n",
       "      <td>1998</td>\n",
       "      <td>ICRC</td>\n",
       "      <td>20</td>\n",
       "      <td>27</td>\n",
       "      <td>3.0</td>\n",
       "    </tr>\n",
       "    <tr>\n",
       "      <th>12</th>\n",
       "      <td>1999</td>\n",
       "      <td>ICRC</td>\n",
       "      <td>5</td>\n",
       "      <td>32</td>\n",
       "      <td>3.0</td>\n",
       "    </tr>\n",
       "    <tr>\n",
       "      <th>18</th>\n",
       "      <td>2000</td>\n",
       "      <td>ICRC</td>\n",
       "      <td>5</td>\n",
       "      <td>37</td>\n",
       "      <td>3.0</td>\n",
       "    </tr>\n",
       "    <tr>\n",
       "      <th>24</th>\n",
       "      <td>2001</td>\n",
       "      <td>ICRC</td>\n",
       "      <td>7</td>\n",
       "      <td>44</td>\n",
       "      <td>3.0</td>\n",
       "    </tr>\n",
       "  </tbody>\n",
       "</table>\n",
       "</div>"
      ],
      "text/plain": [
       "    Year AgencyType  Count  Cumulative  Rank\n",
       "0   1997       ICRC      7           7   4.0\n",
       "6   1998       ICRC     20          27   3.0\n",
       "12  1999       ICRC      5          32   3.0\n",
       "18  2000       ICRC      5          37   3.0\n",
       "24  2001       ICRC      7          44   3.0"
      ]
     },
     "execution_count": 72,
     "metadata": {},
     "output_type": "execute_result"
    }
   ],
   "source": [
    "# Step 1: Aggregate counts per year per agency\n",
    "agg_df = long_df.groupby(['Year', 'AgencyType'], as_index=False)['Count'].sum()\n",
    "\n",
    "# Step 2: Calculate cumulative totals\n",
    "agg_df.sort_values(by=['AgencyType', 'Year'], inplace=True)\n",
    "agg_df['Cumulative'] = agg_df.groupby('AgencyType')['Count'].cumsum()\n",
    "\n",
    "# Step 3: Rank by cumulative within each year\n",
    "agg_df['Rank'] = agg_df.groupby('Year')['Cumulative'].rank(method='min', ascending=False)\n",
    "\n",
    "# Optional: convert Year to string for plotting x-axis\n",
    "agg_df['Year'] = agg_df['Year'].astype(str)\n",
    "\n",
    "# Preview clean data\n",
    "agg_df.head()\n"
   ]
  },
  {
   "cell_type": "code",
   "execution_count": 113,
   "metadata": {},
   "outputs": [
    {
     "data": {
      "application/vnd.plotly.v1+json": {
       "config": {
        "plotlyServerURL": "https://plot.ly"
       },
       "data": [
        {
         "customdata": {
          "bdata": "BwAbACAAJQAsADMAOgA7AD4ASABMAFEAWQBjAGgAawB5AIkAjACWAKQAqQCrALMAuAC4AL4AzADMAA==",
          "dtype": "i2",
          "shape": "29, 1"
         },
         "hovertemplate": "<b>%{text}</b><br>Year: %{x}<br>Rank: %{y}<br>Cumulative Affected: %{customdata[0]}<extra></extra>",
         "line": {
          "shape": "spline",
          "width": 2
         },
         "marker": {
          "size": 6
         },
         "mode": "lines+markers",
         "name": "ICRC",
         "text": [
          "ICRC",
          "ICRC",
          "ICRC",
          "ICRC",
          "ICRC",
          "ICRC",
          "ICRC",
          "ICRC",
          "ICRC",
          "ICRC",
          "ICRC",
          "ICRC",
          "ICRC",
          "ICRC",
          "ICRC",
          "ICRC",
          "ICRC",
          "ICRC",
          "ICRC",
          "ICRC",
          "ICRC",
          "ICRC",
          "ICRC",
          "ICRC",
          "ICRC",
          "ICRC",
          "ICRC",
          "ICRC",
          "ICRC"
         ],
         "type": "scatter",
         "x": [
          "1997",
          "1998",
          "1999",
          "2000",
          "2001",
          "2002",
          "2003",
          "2004",
          "2005",
          "2006",
          "2007",
          "2008",
          "2009",
          "2010",
          "2011",
          "2012",
          "2013",
          "2014",
          "2015",
          "2016",
          "2017",
          "2018",
          "2019",
          "2020",
          "2021",
          "2022",
          "2023",
          "2024",
          "2025"
         ],
         "y": {
          "bdata": "AAAAAAAAEEAAAAAAAAAIQAAAAAAAAAhAAAAAAAAACEAAAAAAAAAIQAAAAAAAAAhAAAAAAAAACEAAAAAAAAAUQAAAAAAAABRAAAAAAAAAFEAAAAAAAAAUQAAAAAAAABRAAAAAAAAAFEAAAAAAAAAUQAAAAAAAABRAAAAAAAAAFEAAAAAAAAAUQAAAAAAAABRAAAAAAAAAFEAAAAAAAAAUQAAAAAAAABRAAAAAAAAAFEAAAAAAAAAUQAAAAAAAABRAAAAAAAAAFEAAAAAAAAAUQAAAAAAAABRAAAAAAAAAFEAAAAAAAAAUQA==",
          "dtype": "f8"
         }
        },
        {
         "customdata": {
          "bdata": "IAArAEoAeACoANkAHgFlAdEBQALFAmMD4wN7BAIFYwXxBYkGNgfXB0QI/ggCCuYKsQtYDAoNmw2pDQ==",
          "dtype": "i2",
          "shape": "29, 1"
         },
         "hovertemplate": "<b>%{text}</b><br>Year: %{x}<br>Rank: %{y}<br>Cumulative Affected: %{customdata[0]}<extra></extra>",
         "line": {
          "shape": "spline",
          "width": 2
         },
         "marker": {
          "size": 6
         },
         "mode": "lines+markers",
         "name": "INGO",
         "text": [
          "INGO",
          "INGO",
          "INGO",
          "INGO",
          "INGO",
          "INGO",
          "INGO",
          "INGO",
          "INGO",
          "INGO",
          "INGO",
          "INGO",
          "INGO",
          "INGO",
          "INGO",
          "INGO",
          "INGO",
          "INGO",
          "INGO",
          "INGO",
          "INGO",
          "INGO",
          "INGO",
          "INGO",
          "INGO",
          "INGO",
          "INGO",
          "INGO",
          "INGO"
         ],
         "type": "scatter",
         "x": [
          "1997",
          "1998",
          "1999",
          "2000",
          "2001",
          "2002",
          "2003",
          "2004",
          "2005",
          "2006",
          "2007",
          "2008",
          "2009",
          "2010",
          "2011",
          "2012",
          "2013",
          "2014",
          "2015",
          "2016",
          "2017",
          "2018",
          "2019",
          "2020",
          "2021",
          "2022",
          "2023",
          "2024",
          "2025"
         ],
         "y": {
          "bdata": "AAAAAAAA8D8AAAAAAAAAQAAAAAAAAPA/AAAAAAAA8D8AAAAAAADwPwAAAAAAAPA/AAAAAAAA8D8AAAAAAADwPwAAAAAAAPA/AAAAAAAA8D8AAAAAAADwPwAAAAAAAPA/AAAAAAAA8D8AAAAAAADwPwAAAAAAAPA/AAAAAAAA8D8AAAAAAADwPwAAAAAAAPA/AAAAAAAA8D8AAAAAAADwPwAAAAAAAPA/AAAAAAAA8D8AAAAAAADwPwAAAAAAAPA/AAAAAAAA8D8AAAAAAADwPwAAAAAAAPA/AAAAAAAA8D8AAAAAAADwPw==",
          "dtype": "f8"
         }
        },
        {
         "customdata": {
          "bdata": "AAADAAkADQANABIAIQBBAFwAgQCcAMcA5gATAVYBsgFDAooCsQLaAi4DrgNIBPAEqwVjBtoG5gcHCA==",
          "dtype": "i2",
          "shape": "29, 1"
         },
         "hovertemplate": "<b>%{text}</b><br>Year: %{x}<br>Rank: %{y}<br>Cumulative Affected: %{customdata[0]}<extra></extra>",
         "line": {
          "shape": "spline",
          "width": 2
         },
         "marker": {
          "size": 6
         },
         "mode": "lines+markers",
         "name": "NNGO",
         "text": [
          "NNGO",
          "NNGO",
          "NNGO",
          "NNGO",
          "NNGO",
          "NNGO",
          "NNGO",
          "NNGO",
          "NNGO",
          "NNGO",
          "NNGO",
          "NNGO",
          "NNGO",
          "NNGO",
          "NNGO",
          "NNGO",
          "NNGO",
          "NNGO",
          "NNGO",
          "NNGO",
          "NNGO",
          "NNGO",
          "NNGO",
          "NNGO",
          "NNGO",
          "NNGO",
          "NNGO",
          "NNGO",
          "NNGO"
         ],
         "type": "scatter",
         "x": [
          "1997",
          "1998",
          "1999",
          "2000",
          "2001",
          "2002",
          "2003",
          "2004",
          "2005",
          "2006",
          "2007",
          "2008",
          "2009",
          "2010",
          "2011",
          "2012",
          "2013",
          "2014",
          "2015",
          "2016",
          "2017",
          "2018",
          "2019",
          "2020",
          "2021",
          "2022",
          "2023",
          "2024",
          "2025"
         ],
         "y": {
          "bdata": "AAAAAAAAGEAAAAAAAAAUQAAAAAAAABRAAAAAAAAAFEAAAAAAAAAUQAAAAAAAABRAAAAAAAAAFEAAAAAAAAAIQAAAAAAAAAhAAAAAAAAACEAAAAAAAAAIQAAAAAAAAAhAAAAAAAAACEAAAAAAAAAIQAAAAAAAAAhAAAAAAAAACEAAAAAAAAAIQAAAAAAAAAhAAAAAAAAACEAAAAAAAAAIQAAAAAAAAAhAAAAAAAAACEAAAAAAAAAIQAAAAAAAAABAAAAAAAAAAEAAAAAAAAAAQAAAAAAAAABAAAAAAAAAAEAAAAAAAAAAQA==",
          "dtype": "f8"
         }
        },
        {
         "customdata": {
          "bdata": "CgARABgAGAAbACAANAA/AEQAVQBdAF8AeAB5AIMAmwDHAOIA/gAJAUUBWQFnAXsBgQGKAbcBBQIJAg==",
          "dtype": "i2",
          "shape": "29, 1"
         },
         "hovertemplate": "<b>%{text}</b><br>Year: %{x}<br>Rank: %{y}<br>Cumulative Affected: %{customdata[0]}<extra></extra>",
         "line": {
          "shape": "spline",
          "width": 2
         },
         "marker": {
          "size": 6
         },
         "mode": "lines+markers",
         "name": "NRCS and IFRC",
         "text": [
          "NRCS and IFRC",
          "NRCS and IFRC",
          "NRCS and IFRC",
          "NRCS and IFRC",
          "NRCS and IFRC",
          "NRCS and IFRC",
          "NRCS and IFRC",
          "NRCS and IFRC",
          "NRCS and IFRC",
          "NRCS and IFRC",
          "NRCS and IFRC",
          "NRCS and IFRC",
          "NRCS and IFRC",
          "NRCS and IFRC",
          "NRCS and IFRC",
          "NRCS and IFRC",
          "NRCS and IFRC",
          "NRCS and IFRC",
          "NRCS and IFRC",
          "NRCS and IFRC",
          "NRCS and IFRC",
          "NRCS and IFRC",
          "NRCS and IFRC",
          "NRCS and IFRC",
          "NRCS and IFRC",
          "NRCS and IFRC",
          "NRCS and IFRC",
          "NRCS and IFRC",
          "NRCS and IFRC"
         ],
         "type": "scatter",
         "x": [
          "1997",
          "1998",
          "1999",
          "2000",
          "2001",
          "2002",
          "2003",
          "2004",
          "2005",
          "2006",
          "2007",
          "2008",
          "2009",
          "2010",
          "2011",
          "2012",
          "2013",
          "2014",
          "2015",
          "2016",
          "2017",
          "2018",
          "2019",
          "2020",
          "2021",
          "2022",
          "2023",
          "2024",
          "2025"
         ],
         "y": {
          "bdata": "AAAAAAAACEAAAAAAAAAQQAAAAAAAABBAAAAAAAAAEEAAAAAAAAAQQAAAAAAAABBAAAAAAAAAEEAAAAAAAAAQQAAAAAAAABBAAAAAAAAAEEAAAAAAAAAQQAAAAAAAABBAAAAAAAAAEEAAAAAAAAAQQAAAAAAAABBAAAAAAAAAEEAAAAAAAAAQQAAAAAAAABBAAAAAAAAAEEAAAAAAAAAQQAAAAAAAABBAAAAAAAAAEEAAAAAAAAAQQAAAAAAAABBAAAAAAAAAEEAAAAAAAAAQQAAAAAAAABBAAAAAAAAAEEAAAAAAAAAQQA==",
          "dtype": "f8"
         }
        },
        {
         "customdata": {
          "bdata": "AQEBAgIDAwQGChQZGRkZJjQ3Ojw8PEpMVmNnaWk=",
          "dtype": "i1",
          "shape": "29, 1"
         },
         "hovertemplate": "<b>%{text}</b><br>Year: %{x}<br>Rank: %{y}<br>Cumulative Affected: %{customdata[0]}<extra></extra>",
         "line": {
          "shape": "spline",
          "width": 2
         },
         "marker": {
          "size": 6
         },
         "mode": "lines+markers",
         "name": "Other",
         "text": [
          "Other",
          "Other",
          "Other",
          "Other",
          "Other",
          "Other",
          "Other",
          "Other",
          "Other",
          "Other",
          "Other",
          "Other",
          "Other",
          "Other",
          "Other",
          "Other",
          "Other",
          "Other",
          "Other",
          "Other",
          "Other",
          "Other",
          "Other",
          "Other",
          "Other",
          "Other",
          "Other",
          "Other",
          "Other"
         ],
         "type": "scatter",
         "x": [
          "1997",
          "1998",
          "1999",
          "2000",
          "2001",
          "2002",
          "2003",
          "2004",
          "2005",
          "2006",
          "2007",
          "2008",
          "2009",
          "2010",
          "2011",
          "2012",
          "2013",
          "2014",
          "2015",
          "2016",
          "2017",
          "2018",
          "2019",
          "2020",
          "2021",
          "2022",
          "2023",
          "2024",
          "2025"
         ],
         "y": {
          "bdata": "AAAAAAAAFEAAAAAAAAAYQAAAAAAAABhAAAAAAAAAGEAAAAAAAAAYQAAAAAAAABhAAAAAAAAAGEAAAAAAAAAYQAAAAAAAABhAAAAAAAAAGEAAAAAAAAAYQAAAAAAAABhAAAAAAAAAGEAAAAAAAAAYQAAAAAAAABhAAAAAAAAAGEAAAAAAAAAYQAAAAAAAABhAAAAAAAAAGEAAAAAAAAAYQAAAAAAAABhAAAAAAAAAGEAAAAAAAAAYQAAAAAAAABhAAAAAAAAAGEAAAAAAAAAYQAAAAAAAABhAAAAAAAAAGEAAAAAAAAAYQA==",
          "dtype": "f8"
         }
        },
        {
         "customdata": {
          "bdata": "FwAsAD0AXAB4AIoAqQC0AM8ADAEzAXQB4AEMAmgCmAILA1IDfgPFA/UDOwRgBJoE0QQdBQ8G3wbvBg==",
          "dtype": "i2",
          "shape": "29, 1"
         },
         "hovertemplate": "<b>%{text}</b><br>Year: %{x}<br>Rank: %{y}<br>Cumulative Affected: %{customdata[0]}<extra></extra>",
         "line": {
          "shape": "spline",
          "width": 2
         },
         "marker": {
          "size": 6
         },
         "mode": "lines+markers",
         "name": "UN",
         "text": [
          "UN",
          "UN",
          "UN",
          "UN",
          "UN",
          "UN",
          "UN",
          "UN",
          "UN",
          "UN",
          "UN",
          "UN",
          "UN",
          "UN",
          "UN",
          "UN",
          "UN",
          "UN",
          "UN",
          "UN",
          "UN",
          "UN",
          "UN",
          "UN",
          "UN",
          "UN",
          "UN",
          "UN",
          "UN"
         ],
         "type": "scatter",
         "x": [
          "1997",
          "1998",
          "1999",
          "2000",
          "2001",
          "2002",
          "2003",
          "2004",
          "2005",
          "2006",
          "2007",
          "2008",
          "2009",
          "2010",
          "2011",
          "2012",
          "2013",
          "2014",
          "2015",
          "2016",
          "2017",
          "2018",
          "2019",
          "2020",
          "2021",
          "2022",
          "2023",
          "2024",
          "2025"
         ],
         "y": {
          "bdata": "AAAAAAAAAEAAAAAAAADwPwAAAAAAAABAAAAAAAAAAEAAAAAAAAAAQAAAAAAAAABAAAAAAAAAAEAAAAAAAAAAQAAAAAAAAABAAAAAAAAAAEAAAAAAAAAAQAAAAAAAAABAAAAAAAAAAEAAAAAAAAAAQAAAAAAAAABAAAAAAAAAAEAAAAAAAAAAQAAAAAAAAABAAAAAAAAAAEAAAAAAAAAAQAAAAAAAAABAAAAAAAAAAEAAAAAAAAAAQAAAAAAAAAhAAAAAAAAACEAAAAAAAAAIQAAAAAAAAAhAAAAAAAAACEAAAAAAAAAIQA==",
          "dtype": "f8"
         }
        }
       ],
       "layout": {
        "margin": {
         "b": 40,
         "l": 40,
         "r": 40,
         "t": 60
        },
        "paper_bgcolor": "white",
        "plot_bgcolor": "white",
        "showlegend": true,
        "template": {
         "data": {
          "bar": [
           {
            "error_x": {
             "color": "#2a3f5f"
            },
            "error_y": {
             "color": "#2a3f5f"
            },
            "marker": {
             "line": {
              "color": "#E5ECF6",
              "width": 0.5
             },
             "pattern": {
              "fillmode": "overlay",
              "size": 10,
              "solidity": 0.2
             }
            },
            "type": "bar"
           }
          ],
          "barpolar": [
           {
            "marker": {
             "line": {
              "color": "#E5ECF6",
              "width": 0.5
             },
             "pattern": {
              "fillmode": "overlay",
              "size": 10,
              "solidity": 0.2
             }
            },
            "type": "barpolar"
           }
          ],
          "carpet": [
           {
            "aaxis": {
             "endlinecolor": "#2a3f5f",
             "gridcolor": "white",
             "linecolor": "white",
             "minorgridcolor": "white",
             "startlinecolor": "#2a3f5f"
            },
            "baxis": {
             "endlinecolor": "#2a3f5f",
             "gridcolor": "white",
             "linecolor": "white",
             "minorgridcolor": "white",
             "startlinecolor": "#2a3f5f"
            },
            "type": "carpet"
           }
          ],
          "choropleth": [
           {
            "colorbar": {
             "outlinewidth": 0,
             "ticks": ""
            },
            "type": "choropleth"
           }
          ],
          "contour": [
           {
            "colorbar": {
             "outlinewidth": 0,
             "ticks": ""
            },
            "colorscale": [
             [
              0,
              "#0d0887"
             ],
             [
              0.1111111111111111,
              "#46039f"
             ],
             [
              0.2222222222222222,
              "#7201a8"
             ],
             [
              0.3333333333333333,
              "#9c179e"
             ],
             [
              0.4444444444444444,
              "#bd3786"
             ],
             [
              0.5555555555555556,
              "#d8576b"
             ],
             [
              0.6666666666666666,
              "#ed7953"
             ],
             [
              0.7777777777777778,
              "#fb9f3a"
             ],
             [
              0.8888888888888888,
              "#fdca26"
             ],
             [
              1,
              "#f0f921"
             ]
            ],
            "type": "contour"
           }
          ],
          "contourcarpet": [
           {
            "colorbar": {
             "outlinewidth": 0,
             "ticks": ""
            },
            "type": "contourcarpet"
           }
          ],
          "heatmap": [
           {
            "colorbar": {
             "outlinewidth": 0,
             "ticks": ""
            },
            "colorscale": [
             [
              0,
              "#0d0887"
             ],
             [
              0.1111111111111111,
              "#46039f"
             ],
             [
              0.2222222222222222,
              "#7201a8"
             ],
             [
              0.3333333333333333,
              "#9c179e"
             ],
             [
              0.4444444444444444,
              "#bd3786"
             ],
             [
              0.5555555555555556,
              "#d8576b"
             ],
             [
              0.6666666666666666,
              "#ed7953"
             ],
             [
              0.7777777777777778,
              "#fb9f3a"
             ],
             [
              0.8888888888888888,
              "#fdca26"
             ],
             [
              1,
              "#f0f921"
             ]
            ],
            "type": "heatmap"
           }
          ],
          "histogram": [
           {
            "marker": {
             "pattern": {
              "fillmode": "overlay",
              "size": 10,
              "solidity": 0.2
             }
            },
            "type": "histogram"
           }
          ],
          "histogram2d": [
           {
            "colorbar": {
             "outlinewidth": 0,
             "ticks": ""
            },
            "colorscale": [
             [
              0,
              "#0d0887"
             ],
             [
              0.1111111111111111,
              "#46039f"
             ],
             [
              0.2222222222222222,
              "#7201a8"
             ],
             [
              0.3333333333333333,
              "#9c179e"
             ],
             [
              0.4444444444444444,
              "#bd3786"
             ],
             [
              0.5555555555555556,
              "#d8576b"
             ],
             [
              0.6666666666666666,
              "#ed7953"
             ],
             [
              0.7777777777777778,
              "#fb9f3a"
             ],
             [
              0.8888888888888888,
              "#fdca26"
             ],
             [
              1,
              "#f0f921"
             ]
            ],
            "type": "histogram2d"
           }
          ],
          "histogram2dcontour": [
           {
            "colorbar": {
             "outlinewidth": 0,
             "ticks": ""
            },
            "colorscale": [
             [
              0,
              "#0d0887"
             ],
             [
              0.1111111111111111,
              "#46039f"
             ],
             [
              0.2222222222222222,
              "#7201a8"
             ],
             [
              0.3333333333333333,
              "#9c179e"
             ],
             [
              0.4444444444444444,
              "#bd3786"
             ],
             [
              0.5555555555555556,
              "#d8576b"
             ],
             [
              0.6666666666666666,
              "#ed7953"
             ],
             [
              0.7777777777777778,
              "#fb9f3a"
             ],
             [
              0.8888888888888888,
              "#fdca26"
             ],
             [
              1,
              "#f0f921"
             ]
            ],
            "type": "histogram2dcontour"
           }
          ],
          "mesh3d": [
           {
            "colorbar": {
             "outlinewidth": 0,
             "ticks": ""
            },
            "type": "mesh3d"
           }
          ],
          "parcoords": [
           {
            "line": {
             "colorbar": {
              "outlinewidth": 0,
              "ticks": ""
             }
            },
            "type": "parcoords"
           }
          ],
          "pie": [
           {
            "automargin": true,
            "type": "pie"
           }
          ],
          "scatter": [
           {
            "fillpattern": {
             "fillmode": "overlay",
             "size": 10,
             "solidity": 0.2
            },
            "type": "scatter"
           }
          ],
          "scatter3d": [
           {
            "line": {
             "colorbar": {
              "outlinewidth": 0,
              "ticks": ""
             }
            },
            "marker": {
             "colorbar": {
              "outlinewidth": 0,
              "ticks": ""
             }
            },
            "type": "scatter3d"
           }
          ],
          "scattercarpet": [
           {
            "marker": {
             "colorbar": {
              "outlinewidth": 0,
              "ticks": ""
             }
            },
            "type": "scattercarpet"
           }
          ],
          "scattergeo": [
           {
            "marker": {
             "colorbar": {
              "outlinewidth": 0,
              "ticks": ""
             }
            },
            "type": "scattergeo"
           }
          ],
          "scattergl": [
           {
            "marker": {
             "colorbar": {
              "outlinewidth": 0,
              "ticks": ""
             }
            },
            "type": "scattergl"
           }
          ],
          "scattermap": [
           {
            "marker": {
             "colorbar": {
              "outlinewidth": 0,
              "ticks": ""
             }
            },
            "type": "scattermap"
           }
          ],
          "scattermapbox": [
           {
            "marker": {
             "colorbar": {
              "outlinewidth": 0,
              "ticks": ""
             }
            },
            "type": "scattermapbox"
           }
          ],
          "scatterpolar": [
           {
            "marker": {
             "colorbar": {
              "outlinewidth": 0,
              "ticks": ""
             }
            },
            "type": "scatterpolar"
           }
          ],
          "scatterpolargl": [
           {
            "marker": {
             "colorbar": {
              "outlinewidth": 0,
              "ticks": ""
             }
            },
            "type": "scatterpolargl"
           }
          ],
          "scatterternary": [
           {
            "marker": {
             "colorbar": {
              "outlinewidth": 0,
              "ticks": ""
             }
            },
            "type": "scatterternary"
           }
          ],
          "surface": [
           {
            "colorbar": {
             "outlinewidth": 0,
             "ticks": ""
            },
            "colorscale": [
             [
              0,
              "#0d0887"
             ],
             [
              0.1111111111111111,
              "#46039f"
             ],
             [
              0.2222222222222222,
              "#7201a8"
             ],
             [
              0.3333333333333333,
              "#9c179e"
             ],
             [
              0.4444444444444444,
              "#bd3786"
             ],
             [
              0.5555555555555556,
              "#d8576b"
             ],
             [
              0.6666666666666666,
              "#ed7953"
             ],
             [
              0.7777777777777778,
              "#fb9f3a"
             ],
             [
              0.8888888888888888,
              "#fdca26"
             ],
             [
              1,
              "#f0f921"
             ]
            ],
            "type": "surface"
           }
          ],
          "table": [
           {
            "cells": {
             "fill": {
              "color": "#EBF0F8"
             },
             "line": {
              "color": "white"
             }
            },
            "header": {
             "fill": {
              "color": "#C8D4E3"
             },
             "line": {
              "color": "white"
             }
            },
            "type": "table"
           }
          ]
         },
         "layout": {
          "annotationdefaults": {
           "arrowcolor": "#2a3f5f",
           "arrowhead": 0,
           "arrowwidth": 1
          },
          "autotypenumbers": "strict",
          "coloraxis": {
           "colorbar": {
            "outlinewidth": 0,
            "ticks": ""
           }
          },
          "colorscale": {
           "diverging": [
            [
             0,
             "#8e0152"
            ],
            [
             0.1,
             "#c51b7d"
            ],
            [
             0.2,
             "#de77ae"
            ],
            [
             0.3,
             "#f1b6da"
            ],
            [
             0.4,
             "#fde0ef"
            ],
            [
             0.5,
             "#f7f7f7"
            ],
            [
             0.6,
             "#e6f5d0"
            ],
            [
             0.7,
             "#b8e186"
            ],
            [
             0.8,
             "#7fbc41"
            ],
            [
             0.9,
             "#4d9221"
            ],
            [
             1,
             "#276419"
            ]
           ],
           "sequential": [
            [
             0,
             "#0d0887"
            ],
            [
             0.1111111111111111,
             "#46039f"
            ],
            [
             0.2222222222222222,
             "#7201a8"
            ],
            [
             0.3333333333333333,
             "#9c179e"
            ],
            [
             0.4444444444444444,
             "#bd3786"
            ],
            [
             0.5555555555555556,
             "#d8576b"
            ],
            [
             0.6666666666666666,
             "#ed7953"
            ],
            [
             0.7777777777777778,
             "#fb9f3a"
            ],
            [
             0.8888888888888888,
             "#fdca26"
            ],
            [
             1,
             "#f0f921"
            ]
           ],
           "sequentialminus": [
            [
             0,
             "#0d0887"
            ],
            [
             0.1111111111111111,
             "#46039f"
            ],
            [
             0.2222222222222222,
             "#7201a8"
            ],
            [
             0.3333333333333333,
             "#9c179e"
            ],
            [
             0.4444444444444444,
             "#bd3786"
            ],
            [
             0.5555555555555556,
             "#d8576b"
            ],
            [
             0.6666666666666666,
             "#ed7953"
            ],
            [
             0.7777777777777778,
             "#fb9f3a"
            ],
            [
             0.8888888888888888,
             "#fdca26"
            ],
            [
             1,
             "#f0f921"
            ]
           ]
          },
          "colorway": [
           "#636efa",
           "#EF553B",
           "#00cc96",
           "#ab63fa",
           "#FFA15A",
           "#19d3f3",
           "#FF6692",
           "#B6E880",
           "#FF97FF",
           "#FECB52"
          ],
          "font": {
           "color": "#2a3f5f"
          },
          "geo": {
           "bgcolor": "white",
           "lakecolor": "white",
           "landcolor": "#E5ECF6",
           "showlakes": true,
           "showland": true,
           "subunitcolor": "white"
          },
          "hoverlabel": {
           "align": "left"
          },
          "hovermode": "closest",
          "mapbox": {
           "style": "light"
          },
          "paper_bgcolor": "white",
          "plot_bgcolor": "#E5ECF6",
          "polar": {
           "angularaxis": {
            "gridcolor": "white",
            "linecolor": "white",
            "ticks": ""
           },
           "bgcolor": "#E5ECF6",
           "radialaxis": {
            "gridcolor": "white",
            "linecolor": "white",
            "ticks": ""
           }
          },
          "scene": {
           "xaxis": {
            "backgroundcolor": "#E5ECF6",
            "gridcolor": "white",
            "gridwidth": 2,
            "linecolor": "white",
            "showbackground": true,
            "ticks": "",
            "zerolinecolor": "white"
           },
           "yaxis": {
            "backgroundcolor": "#E5ECF6",
            "gridcolor": "white",
            "gridwidth": 2,
            "linecolor": "white",
            "showbackground": true,
            "ticks": "",
            "zerolinecolor": "white"
           },
           "zaxis": {
            "backgroundcolor": "#E5ECF6",
            "gridcolor": "white",
            "gridwidth": 2,
            "linecolor": "white",
            "showbackground": true,
            "ticks": "",
            "zerolinecolor": "white"
           }
          },
          "shapedefaults": {
           "line": {
            "color": "#2a3f5f"
           }
          },
          "ternary": {
           "aaxis": {
            "gridcolor": "white",
            "linecolor": "white",
            "ticks": ""
           },
           "baxis": {
            "gridcolor": "white",
            "linecolor": "white",
            "ticks": ""
           },
           "bgcolor": "#E5ECF6",
           "caxis": {
            "gridcolor": "white",
            "linecolor": "white",
            "ticks": ""
           }
          },
          "title": {
           "x": 0.05
          },
          "xaxis": {
           "automargin": true,
           "gridcolor": "white",
           "linecolor": "white",
           "ticks": "",
           "title": {
            "standoff": 15
           },
           "zerolinecolor": "white",
           "zerolinewidth": 2
          },
          "yaxis": {
           "automargin": true,
           "gridcolor": "white",
           "linecolor": "white",
           "ticks": "",
           "title": {
            "standoff": 15
           },
           "zerolinecolor": "white",
           "zerolinewidth": 2
          }
         }
        },
        "title": {
         "x": 0.5
        },
        "xaxis": {
         "tickmode": "array",
         "tickvals": [
          "1997",
          "2000",
          "2003",
          "2006",
          "2009",
          "2012",
          "2015",
          "2018",
          "2021",
          "2024"
         ],
         "title": {
          "text": "Year"
         }
        },
        "yaxis": {
         "autorange": "reversed",
         "dtick": 1,
         "title": {
          "text": "Rank (1 = Most Affected)"
         }
        }
       }
      }
     },
     "metadata": {},
     "output_type": "display_data"
    }
   ],
   "source": [
    "fig = go.Figure()\n",
    "\n",
    "\n",
    "for agency in agg_df['AgencyType'].unique():\n",
    "    df_agency = agg_df[agg_df['AgencyType'] == agency]\n",
    "    \n",
    "    fig.add_trace(go.Scatter(\n",
    "        x=df_agency['Year'],\n",
    "        y=df_agency['Rank'],\n",
    "        mode='lines+markers',\n",
    "        name=agency,\n",
    "        line=dict(width=2, shape='spline'),\n",
    "        marker=dict(size=6),\n",
    "        customdata=df_agency[['Cumulative']],\n",
    "        hovertemplate=\n",
    "            \"<b>%{text}</b><br>\" +\n",
    "            \"Year: %{x}<br>\" +\n",
    "            \"Rank: %{y}<br>\" +\n",
    "            \"Cumulative Affected: %{customdata[0]}<extra></extra>\",\n",
    "        text=[agency] * len(df_agency)\n",
    "    ))\n",
    "\n",
    "year_ticks = sorted(agg_df['Year'].unique())[::3]\n",
    "\n",
    "\n",
    "\n",
    "fig.update_yaxes(autorange='reversed', title='Rank (1 = Most Affected)', dtick=1)\n",
    "\n",
    "fig.update_xaxes(\n",
    "    title='Year',\n",
    "    tickmode='array',\n",
    "    tickvals=year_ticks\n",
    ")\n",
    "\n",
    "fig.update_layout(\n",
    "    title_x=0.5,\n",
    "    plot_bgcolor='white',\n",
    "    paper_bgcolor='white',\n",
    "    margin=dict(l=40, r=40, t=60, b=40),\n",
    "    showlegend=True\n",
    ")\n",
    "\n",
    "fig.write_html(\"../plots/bumpchart_totalaffected_agency.html\")\n",
    "fig.show()\n",
    "\n"
   ]
  },
  {
   "cell_type": "markdown",
   "metadata": {},
   "source": [
    "# Attack Context vs Agency Type"
   ]
  },
  {
   "cell_type": "code",
   "execution_count": 112,
   "metadata": {},
   "outputs": [
    {
     "data": {
      "application/vnd.plotly.v1+json": {
       "config": {
        "plotlyServerURL": "https://plot.ly"
       },
       "data": [
        {
         "coloraxis": "coloraxis",
         "histfunc": "sum",
         "hovertemplate": "AgencyType=%{x}<br>Attack context=%{y}<br>sum of Incidents=%{z}<extra></extra>",
         "name": "",
         "texttemplate": "%{z}",
         "type": "histogram2d",
         "x": [
          "ICRC",
          "INGO",
          "NNGO",
          "NRCS and IFRC",
          "Other",
          "UN",
          "ICRC",
          "INGO",
          "NNGO",
          "NRCS and IFRC",
          "Other",
          "UN",
          "INGO",
          "NNGO",
          "NRCS and IFRC",
          "UN",
          "ICRC",
          "INGO",
          "NNGO",
          "NRCS and IFRC",
          "Other",
          "UN",
          "ICRC",
          "INGO",
          "NNGO",
          "NRCS and IFRC",
          "Other",
          "UN",
          "ICRC",
          "INGO",
          "NNGO",
          "NRCS and IFRC",
          "Other",
          "UN",
          "ICRC",
          "INGO",
          "NNGO",
          "NRCS and IFRC",
          "Other",
          "UN"
         ],
         "xaxis": "x",
         "xbingroup": "x",
         "y": [
          "Ambush",
          "Ambush",
          "Ambush",
          "Ambush",
          "Ambush",
          "Ambush",
          "Combat/Crossfire",
          "Combat/Crossfire",
          "Combat/Crossfire",
          "Combat/Crossfire",
          "Combat/Crossfire",
          "Combat/Crossfire",
          "Detention",
          "Detention",
          "Detention",
          "Detention",
          "Individual attack",
          "Individual attack",
          "Individual attack",
          "Individual attack",
          "Individual attack",
          "Individual attack",
          "Mob violence",
          "Mob violence",
          "Mob violence",
          "Mob violence",
          "Mob violence",
          "Mob violence",
          "Raid",
          "Raid",
          "Raid",
          "Raid",
          "Raid",
          "Raid",
          "Unknown",
          "Unknown",
          "Unknown",
          "Unknown",
          "Unknown",
          "Unknown"
         ],
         "yaxis": "y",
         "ybingroup": "y",
         "z": {
          "bdata": "JACHAj8BNwASAGEBEgDjAPYAPgAFAHcAIgAQAAIACgAMALcBpQAjABgAxwABADkACAAJAAMAEwAIABYBgAALAAcAWwAZAC8BzQBOAAoAegA=",
          "dtype": "i2"
         }
        }
       ],
       "layout": {
        "coloraxis": {
         "colorbar": {
          "title": {
           "text": "sum of Incidents"
          }
         },
         "colorscale": [
          [
           0,
           "rgb(255,245,240)"
          ],
          [
           0.125,
           "rgb(254,224,210)"
          ],
          [
           0.25,
           "rgb(252,187,161)"
          ],
          [
           0.375,
           "rgb(252,146,114)"
          ],
          [
           0.5,
           "rgb(251,106,74)"
          ],
          [
           0.625,
           "rgb(239,59,44)"
          ],
          [
           0.75,
           "rgb(203,24,29)"
          ],
          [
           0.875,
           "rgb(165,15,21)"
          ],
          [
           1,
           "rgb(103,0,13)"
          ]
         ]
        },
        "legend": {
         "tracegroupgap": 0
        },
        "margin": {
         "b": 40,
         "l": 40,
         "r": 40,
         "t": 60
        },
        "paper_bgcolor": "white",
        "plot_bgcolor": "white",
        "template": {
         "data": {
          "bar": [
           {
            "error_x": {
             "color": "#2a3f5f"
            },
            "error_y": {
             "color": "#2a3f5f"
            },
            "marker": {
             "line": {
              "color": "#E5ECF6",
              "width": 0.5
             },
             "pattern": {
              "fillmode": "overlay",
              "size": 10,
              "solidity": 0.2
             }
            },
            "type": "bar"
           }
          ],
          "barpolar": [
           {
            "marker": {
             "line": {
              "color": "#E5ECF6",
              "width": 0.5
             },
             "pattern": {
              "fillmode": "overlay",
              "size": 10,
              "solidity": 0.2
             }
            },
            "type": "barpolar"
           }
          ],
          "carpet": [
           {
            "aaxis": {
             "endlinecolor": "#2a3f5f",
             "gridcolor": "white",
             "linecolor": "white",
             "minorgridcolor": "white",
             "startlinecolor": "#2a3f5f"
            },
            "baxis": {
             "endlinecolor": "#2a3f5f",
             "gridcolor": "white",
             "linecolor": "white",
             "minorgridcolor": "white",
             "startlinecolor": "#2a3f5f"
            },
            "type": "carpet"
           }
          ],
          "choropleth": [
           {
            "colorbar": {
             "outlinewidth": 0,
             "ticks": ""
            },
            "type": "choropleth"
           }
          ],
          "contour": [
           {
            "colorbar": {
             "outlinewidth": 0,
             "ticks": ""
            },
            "colorscale": [
             [
              0,
              "#0d0887"
             ],
             [
              0.1111111111111111,
              "#46039f"
             ],
             [
              0.2222222222222222,
              "#7201a8"
             ],
             [
              0.3333333333333333,
              "#9c179e"
             ],
             [
              0.4444444444444444,
              "#bd3786"
             ],
             [
              0.5555555555555556,
              "#d8576b"
             ],
             [
              0.6666666666666666,
              "#ed7953"
             ],
             [
              0.7777777777777778,
              "#fb9f3a"
             ],
             [
              0.8888888888888888,
              "#fdca26"
             ],
             [
              1,
              "#f0f921"
             ]
            ],
            "type": "contour"
           }
          ],
          "contourcarpet": [
           {
            "colorbar": {
             "outlinewidth": 0,
             "ticks": ""
            },
            "type": "contourcarpet"
           }
          ],
          "heatmap": [
           {
            "colorbar": {
             "outlinewidth": 0,
             "ticks": ""
            },
            "colorscale": [
             [
              0,
              "#0d0887"
             ],
             [
              0.1111111111111111,
              "#46039f"
             ],
             [
              0.2222222222222222,
              "#7201a8"
             ],
             [
              0.3333333333333333,
              "#9c179e"
             ],
             [
              0.4444444444444444,
              "#bd3786"
             ],
             [
              0.5555555555555556,
              "#d8576b"
             ],
             [
              0.6666666666666666,
              "#ed7953"
             ],
             [
              0.7777777777777778,
              "#fb9f3a"
             ],
             [
              0.8888888888888888,
              "#fdca26"
             ],
             [
              1,
              "#f0f921"
             ]
            ],
            "type": "heatmap"
           }
          ],
          "histogram": [
           {
            "marker": {
             "pattern": {
              "fillmode": "overlay",
              "size": 10,
              "solidity": 0.2
             }
            },
            "type": "histogram"
           }
          ],
          "histogram2d": [
           {
            "colorbar": {
             "outlinewidth": 0,
             "ticks": ""
            },
            "colorscale": [
             [
              0,
              "#0d0887"
             ],
             [
              0.1111111111111111,
              "#46039f"
             ],
             [
              0.2222222222222222,
              "#7201a8"
             ],
             [
              0.3333333333333333,
              "#9c179e"
             ],
             [
              0.4444444444444444,
              "#bd3786"
             ],
             [
              0.5555555555555556,
              "#d8576b"
             ],
             [
              0.6666666666666666,
              "#ed7953"
             ],
             [
              0.7777777777777778,
              "#fb9f3a"
             ],
             [
              0.8888888888888888,
              "#fdca26"
             ],
             [
              1,
              "#f0f921"
             ]
            ],
            "type": "histogram2d"
           }
          ],
          "histogram2dcontour": [
           {
            "colorbar": {
             "outlinewidth": 0,
             "ticks": ""
            },
            "colorscale": [
             [
              0,
              "#0d0887"
             ],
             [
              0.1111111111111111,
              "#46039f"
             ],
             [
              0.2222222222222222,
              "#7201a8"
             ],
             [
              0.3333333333333333,
              "#9c179e"
             ],
             [
              0.4444444444444444,
              "#bd3786"
             ],
             [
              0.5555555555555556,
              "#d8576b"
             ],
             [
              0.6666666666666666,
              "#ed7953"
             ],
             [
              0.7777777777777778,
              "#fb9f3a"
             ],
             [
              0.8888888888888888,
              "#fdca26"
             ],
             [
              1,
              "#f0f921"
             ]
            ],
            "type": "histogram2dcontour"
           }
          ],
          "mesh3d": [
           {
            "colorbar": {
             "outlinewidth": 0,
             "ticks": ""
            },
            "type": "mesh3d"
           }
          ],
          "parcoords": [
           {
            "line": {
             "colorbar": {
              "outlinewidth": 0,
              "ticks": ""
             }
            },
            "type": "parcoords"
           }
          ],
          "pie": [
           {
            "automargin": true,
            "type": "pie"
           }
          ],
          "scatter": [
           {
            "fillpattern": {
             "fillmode": "overlay",
             "size": 10,
             "solidity": 0.2
            },
            "type": "scatter"
           }
          ],
          "scatter3d": [
           {
            "line": {
             "colorbar": {
              "outlinewidth": 0,
              "ticks": ""
             }
            },
            "marker": {
             "colorbar": {
              "outlinewidth": 0,
              "ticks": ""
             }
            },
            "type": "scatter3d"
           }
          ],
          "scattercarpet": [
           {
            "marker": {
             "colorbar": {
              "outlinewidth": 0,
              "ticks": ""
             }
            },
            "type": "scattercarpet"
           }
          ],
          "scattergeo": [
           {
            "marker": {
             "colorbar": {
              "outlinewidth": 0,
              "ticks": ""
             }
            },
            "type": "scattergeo"
           }
          ],
          "scattergl": [
           {
            "marker": {
             "colorbar": {
              "outlinewidth": 0,
              "ticks": ""
             }
            },
            "type": "scattergl"
           }
          ],
          "scattermap": [
           {
            "marker": {
             "colorbar": {
              "outlinewidth": 0,
              "ticks": ""
             }
            },
            "type": "scattermap"
           }
          ],
          "scattermapbox": [
           {
            "marker": {
             "colorbar": {
              "outlinewidth": 0,
              "ticks": ""
             }
            },
            "type": "scattermapbox"
           }
          ],
          "scatterpolar": [
           {
            "marker": {
             "colorbar": {
              "outlinewidth": 0,
              "ticks": ""
             }
            },
            "type": "scatterpolar"
           }
          ],
          "scatterpolargl": [
           {
            "marker": {
             "colorbar": {
              "outlinewidth": 0,
              "ticks": ""
             }
            },
            "type": "scatterpolargl"
           }
          ],
          "scatterternary": [
           {
            "marker": {
             "colorbar": {
              "outlinewidth": 0,
              "ticks": ""
             }
            },
            "type": "scatterternary"
           }
          ],
          "surface": [
           {
            "colorbar": {
             "outlinewidth": 0,
             "ticks": ""
            },
            "colorscale": [
             [
              0,
              "#0d0887"
             ],
             [
              0.1111111111111111,
              "#46039f"
             ],
             [
              0.2222222222222222,
              "#7201a8"
             ],
             [
              0.3333333333333333,
              "#9c179e"
             ],
             [
              0.4444444444444444,
              "#bd3786"
             ],
             [
              0.5555555555555556,
              "#d8576b"
             ],
             [
              0.6666666666666666,
              "#ed7953"
             ],
             [
              0.7777777777777778,
              "#fb9f3a"
             ],
             [
              0.8888888888888888,
              "#fdca26"
             ],
             [
              1,
              "#f0f921"
             ]
            ],
            "type": "surface"
           }
          ],
          "table": [
           {
            "cells": {
             "fill": {
              "color": "#EBF0F8"
             },
             "line": {
              "color": "white"
             }
            },
            "header": {
             "fill": {
              "color": "#C8D4E3"
             },
             "line": {
              "color": "white"
             }
            },
            "type": "table"
           }
          ]
         },
         "layout": {
          "annotationdefaults": {
           "arrowcolor": "#2a3f5f",
           "arrowhead": 0,
           "arrowwidth": 1
          },
          "autotypenumbers": "strict",
          "coloraxis": {
           "colorbar": {
            "outlinewidth": 0,
            "ticks": ""
           }
          },
          "colorscale": {
           "diverging": [
            [
             0,
             "#8e0152"
            ],
            [
             0.1,
             "#c51b7d"
            ],
            [
             0.2,
             "#de77ae"
            ],
            [
             0.3,
             "#f1b6da"
            ],
            [
             0.4,
             "#fde0ef"
            ],
            [
             0.5,
             "#f7f7f7"
            ],
            [
             0.6,
             "#e6f5d0"
            ],
            [
             0.7,
             "#b8e186"
            ],
            [
             0.8,
             "#7fbc41"
            ],
            [
             0.9,
             "#4d9221"
            ],
            [
             1,
             "#276419"
            ]
           ],
           "sequential": [
            [
             0,
             "#0d0887"
            ],
            [
             0.1111111111111111,
             "#46039f"
            ],
            [
             0.2222222222222222,
             "#7201a8"
            ],
            [
             0.3333333333333333,
             "#9c179e"
            ],
            [
             0.4444444444444444,
             "#bd3786"
            ],
            [
             0.5555555555555556,
             "#d8576b"
            ],
            [
             0.6666666666666666,
             "#ed7953"
            ],
            [
             0.7777777777777778,
             "#fb9f3a"
            ],
            [
             0.8888888888888888,
             "#fdca26"
            ],
            [
             1,
             "#f0f921"
            ]
           ],
           "sequentialminus": [
            [
             0,
             "#0d0887"
            ],
            [
             0.1111111111111111,
             "#46039f"
            ],
            [
             0.2222222222222222,
             "#7201a8"
            ],
            [
             0.3333333333333333,
             "#9c179e"
            ],
            [
             0.4444444444444444,
             "#bd3786"
            ],
            [
             0.5555555555555556,
             "#d8576b"
            ],
            [
             0.6666666666666666,
             "#ed7953"
            ],
            [
             0.7777777777777778,
             "#fb9f3a"
            ],
            [
             0.8888888888888888,
             "#fdca26"
            ],
            [
             1,
             "#f0f921"
            ]
           ]
          },
          "colorway": [
           "#636efa",
           "#EF553B",
           "#00cc96",
           "#ab63fa",
           "#FFA15A",
           "#19d3f3",
           "#FF6692",
           "#B6E880",
           "#FF97FF",
           "#FECB52"
          ],
          "font": {
           "color": "#2a3f5f"
          },
          "geo": {
           "bgcolor": "white",
           "lakecolor": "white",
           "landcolor": "#E5ECF6",
           "showlakes": true,
           "showland": true,
           "subunitcolor": "white"
          },
          "hoverlabel": {
           "align": "left"
          },
          "hovermode": "closest",
          "mapbox": {
           "style": "light"
          },
          "paper_bgcolor": "white",
          "plot_bgcolor": "#E5ECF6",
          "polar": {
           "angularaxis": {
            "gridcolor": "white",
            "linecolor": "white",
            "ticks": ""
           },
           "bgcolor": "#E5ECF6",
           "radialaxis": {
            "gridcolor": "white",
            "linecolor": "white",
            "ticks": ""
           }
          },
          "scene": {
           "xaxis": {
            "backgroundcolor": "#E5ECF6",
            "gridcolor": "white",
            "gridwidth": 2,
            "linecolor": "white",
            "showbackground": true,
            "ticks": "",
            "zerolinecolor": "white"
           },
           "yaxis": {
            "backgroundcolor": "#E5ECF6",
            "gridcolor": "white",
            "gridwidth": 2,
            "linecolor": "white",
            "showbackground": true,
            "ticks": "",
            "zerolinecolor": "white"
           },
           "zaxis": {
            "backgroundcolor": "#E5ECF6",
            "gridcolor": "white",
            "gridwidth": 2,
            "linecolor": "white",
            "showbackground": true,
            "ticks": "",
            "zerolinecolor": "white"
           }
          },
          "shapedefaults": {
           "line": {
            "color": "#2a3f5f"
           }
          },
          "ternary": {
           "aaxis": {
            "gridcolor": "white",
            "linecolor": "white",
            "ticks": ""
           },
           "baxis": {
            "gridcolor": "white",
            "linecolor": "white",
            "ticks": ""
           },
           "bgcolor": "#E5ECF6",
           "caxis": {
            "gridcolor": "white",
            "linecolor": "white",
            "ticks": ""
           }
          },
          "title": {
           "x": 0.05
          },
          "xaxis": {
           "automargin": true,
           "gridcolor": "white",
           "linecolor": "white",
           "ticks": "",
           "title": {
            "standoff": 15
           },
           "zerolinecolor": "white",
           "zerolinewidth": 2
          },
          "yaxis": {
           "automargin": true,
           "gridcolor": "white",
           "linecolor": "white",
           "ticks": "",
           "title": {
            "standoff": 15
           },
           "zerolinecolor": "white",
           "zerolinewidth": 2
          }
         }
        },
        "title": {
         "text": "Who Is Attacking Whom: Attack context vs. Agency Type",
         "x": 0.5
        },
        "xaxis": {
         "anchor": "y",
         "domain": [
          0,
          1
         ],
         "title": {
          "text": "Agency Type"
         }
        },
        "yaxis": {
         "anchor": "x",
         "domain": [
          0,
          1
         ],
         "title": {
          "text": "Attack context"
         }
        }
       }
      }
     },
     "metadata": {},
     "output_type": "display_data"
    }
   ],
   "source": [
    "# Define agency columns\n",
    "agency_cols = ['UN', 'INGO', 'ICRC', 'NRCS and IFRC', 'NNGO', 'Other']\n",
    "\n",
    "# Melt into long format to count affected agencies per actor type\n",
    "long_df = df.melt(\n",
    "    id_vars=['Attack context'],\n",
    "    value_vars=agency_cols,\n",
    "    var_name='AgencyType',\n",
    "    value_name='Affected'\n",
    ")\n",
    "\n",
    "# Filter out zero or missing values\n",
    "long_df = long_df[long_df['Affected'] > 0]\n",
    "\n",
    "heatmap_df = (\n",
    "    long_df.groupby(['Attack context', 'AgencyType'])\n",
    "    .size()\n",
    "    .reset_index(name='Incidents')\n",
    ")\n",
    "\n",
    "import plotly.express as px\n",
    "\n",
    "fig = px.density_heatmap(\n",
    "    heatmap_df,\n",
    "    x='AgencyType',\n",
    "    y='Attack context',\n",
    "    z='Incidents',\n",
    "    color_continuous_scale='Reds',\n",
    "    text_auto=True,\n",
    "    title='Who Is Attacking Whom: Attack context vs. Agency Type'\n",
    ")\n",
    "\n",
    "fig.update_layout(\n",
    "    xaxis_title='Agency Type',\n",
    "    yaxis_title='Attack context',\n",
    "    plot_bgcolor='white',\n",
    "    paper_bgcolor='white',\n",
    "    title_x=0.5,\n",
    "    margin=dict(l=40, r=40, t=60, b=40)\n",
    ")\n",
    "\n",
    "fig.write_html(\"../plots/heatmap_attackcontext_agency.html\")\n",
    "fig.show()\n"
   ]
  },
  {
   "cell_type": "code",
   "execution_count": null,
   "metadata": {},
   "outputs": [],
   "source": []
  }
 ],
 "metadata": {
  "kernelspec": {
   "display_name": "base",
   "language": "python",
   "name": "python3"
  },
  "language_info": {
   "codemirror_mode": {
    "name": "ipython",
    "version": 3
   },
   "file_extension": ".py",
   "mimetype": "text/x-python",
   "name": "python",
   "nbconvert_exporter": "python",
   "pygments_lexer": "ipython3",
   "version": "3.10.6"
  }
 },
 "nbformat": 4,
 "nbformat_minor": 2
}
