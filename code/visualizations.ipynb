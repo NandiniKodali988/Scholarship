{
 "cells": [
  {
   "cell_type": "code",
   "execution_count": 4,
   "metadata": {},
   "outputs": [],
   "source": [
    "import pandas as pd\n",
    "import numpy as np\n",
    "import altair as alt\n",
    "import plotly.graph_objects as go\n",
    "import matplotlib.pyplot as plt\n",
    "from matplotlib import cm\n",
    "import os"
   ]
  },
  {
   "cell_type": "code",
   "execution_count": 7,
   "metadata": {},
   "outputs": [],
   "source": [
    "security_incidents_clean = pd.read_csv(\"../data/processed/security_incidents_clean.csv\")"
   ]
  },
  {
   "cell_type": "code",
   "execution_count": 8,
   "metadata": {},
   "outputs": [
    {
     "data": {
      "text/html": [
       "<div>\n",
       "<style scoped>\n",
       "    .dataframe tbody tr th:only-of-type {\n",
       "        vertical-align: middle;\n",
       "    }\n",
       "\n",
       "    .dataframe tbody tr th {\n",
       "        vertical-align: top;\n",
       "    }\n",
       "\n",
       "    .dataframe thead th {\n",
       "        text-align: right;\n",
       "    }\n",
       "</style>\n",
       "<table border=\"1\" class=\"dataframe\">\n",
       "  <thead>\n",
       "    <tr style=\"text-align: right;\">\n",
       "      <th></th>\n",
       "      <th>Incident ID</th>\n",
       "      <th>Year</th>\n",
       "      <th>Month</th>\n",
       "      <th>Country Code</th>\n",
       "      <th>Country</th>\n",
       "      <th>Region</th>\n",
       "      <th>District</th>\n",
       "      <th>City</th>\n",
       "      <th>UN</th>\n",
       "      <th>INGO</th>\n",
       "      <th>...</th>\n",
       "      <th>Means of attack</th>\n",
       "      <th>Attack context</th>\n",
       "      <th>Location</th>\n",
       "      <th>Motive</th>\n",
       "      <th>Actor type</th>\n",
       "      <th>Actor name</th>\n",
       "      <th>Details</th>\n",
       "      <th>Verified</th>\n",
       "      <th>Source</th>\n",
       "      <th>Group</th>\n",
       "    </tr>\n",
       "  </thead>\n",
       "  <tbody>\n",
       "    <tr>\n",
       "      <th>0</th>\n",
       "      <td>1</td>\n",
       "      <td>1997</td>\n",
       "      <td>1</td>\n",
       "      <td>KH</td>\n",
       "      <td>Cambodia</td>\n",
       "      <td>Banteay Meanchey</td>\n",
       "      <td>Unknown</td>\n",
       "      <td>Unknown</td>\n",
       "      <td>0</td>\n",
       "      <td>0</td>\n",
       "      <td>...</td>\n",
       "      <td>Unknown</td>\n",
       "      <td>Unknown</td>\n",
       "      <td>Unknown</td>\n",
       "      <td>Unknown</td>\n",
       "      <td>Unknown</td>\n",
       "      <td>Unknown</td>\n",
       "      <td>1 ICRC national staff killed while working in ...</td>\n",
       "      <td>Archived</td>\n",
       "      <td>Archived</td>\n",
       "      <td>Asia</td>\n",
       "    </tr>\n",
       "    <tr>\n",
       "      <th>1</th>\n",
       "      <td>2</td>\n",
       "      <td>1997</td>\n",
       "      <td>1</td>\n",
       "      <td>RW</td>\n",
       "      <td>Rwanda</td>\n",
       "      <td>Northern</td>\n",
       "      <td>Musanze</td>\n",
       "      <td>Ruhengeri</td>\n",
       "      <td>0</td>\n",
       "      <td>4</td>\n",
       "      <td>...</td>\n",
       "      <td>Shooting</td>\n",
       "      <td>Raid</td>\n",
       "      <td>Office/compound</td>\n",
       "      <td>Unknown</td>\n",
       "      <td>Unknown</td>\n",
       "      <td>Unknown</td>\n",
       "      <td>3 INGO international (Spanish) staff killed, 1...</td>\n",
       "      <td>Archived</td>\n",
       "      <td>Archived</td>\n",
       "      <td>Africa</td>\n",
       "    </tr>\n",
       "  </tbody>\n",
       "</table>\n",
       "<p>2 rows × 39 columns</p>\n",
       "</div>"
      ],
      "text/plain": [
       "   Incident ID  Year  Month Country Code   Country            Region District  \\\n",
       "0            1  1997      1           KH  Cambodia  Banteay Meanchey  Unknown   \n",
       "1            2  1997      1           RW    Rwanda          Northern  Musanze   \n",
       "\n",
       "        City  UN  INGO  ...  Means of attack  Attack context         Location  \\\n",
       "0    Unknown   0     0  ...          Unknown         Unknown          Unknown   \n",
       "1  Ruhengeri   0     4  ...         Shooting            Raid  Office/compound   \n",
       "\n",
       "    Motive  Actor type  Actor name  \\\n",
       "0  Unknown     Unknown     Unknown   \n",
       "1  Unknown     Unknown     Unknown   \n",
       "\n",
       "                                             Details  Verified    Source  \\\n",
       "0  1 ICRC national staff killed while working in ...  Archived  Archived   \n",
       "1  3 INGO international (Spanish) staff killed, 1...  Archived  Archived   \n",
       "\n",
       "    Group  \n",
       "0    Asia  \n",
       "1  Africa  \n",
       "\n",
       "[2 rows x 39 columns]"
      ]
     },
     "execution_count": 8,
     "metadata": {},
     "output_type": "execute_result"
    }
   ],
   "source": [
    "security_incidents_clean.head(2)"
   ]
  },
  {
   "cell_type": "markdown",
   "metadata": {},
   "source": [
    "# Total affected across the world"
   ]
  },
  {
   "cell_type": "code",
   "execution_count": 276,
   "metadata": {},
   "outputs": [
    {
     "name": "stderr",
     "output_type": "stream",
     "text": [
      "/Users/nandinikodali/miniforge3/lib/python3.10/site-packages/altair/utils/core.py:384: FutureWarning:\n",
      "\n",
      "the convert_dtype parameter is deprecated and will be removed in a future version.  Do ``ser.astype(object).apply()`` instead if you want ``convert_dtype=False``.\n",
      "\n",
      "/Users/nandinikodali/miniforge3/lib/python3.10/site-packages/altair/utils/core.py:384: FutureWarning:\n",
      "\n",
      "the convert_dtype parameter is deprecated and will be removed in a future version.  Do ``ser.astype(object).apply()`` instead if you want ``convert_dtype=False``.\n",
      "\n"
     ]
    },
    {
     "data": {
      "text/html": [
       "\n",
       "<div id=\"altair-viz-6062e1d8bd354023a91d780e6c0ea595\"></div>\n",
       "<script type=\"text/javascript\">\n",
       "  var VEGA_DEBUG = (typeof VEGA_DEBUG == \"undefined\") ? {} : VEGA_DEBUG;\n",
       "  (function(spec, embedOpt){\n",
       "    let outputDiv = document.currentScript.previousElementSibling;\n",
       "    if (outputDiv.id !== \"altair-viz-6062e1d8bd354023a91d780e6c0ea595\") {\n",
       "      outputDiv = document.getElementById(\"altair-viz-6062e1d8bd354023a91d780e6c0ea595\");\n",
       "    }\n",
       "    const paths = {\n",
       "      \"vega\": \"https://cdn.jsdelivr.net/npm//vega@5?noext\",\n",
       "      \"vega-lib\": \"https://cdn.jsdelivr.net/npm//vega-lib?noext\",\n",
       "      \"vega-lite\": \"https://cdn.jsdelivr.net/npm//vega-lite@4.17.0?noext\",\n",
       "      \"vega-embed\": \"https://cdn.jsdelivr.net/npm//vega-embed@6?noext\",\n",
       "    };\n",
       "\n",
       "    function maybeLoadScript(lib, version) {\n",
       "      var key = `${lib.replace(\"-\", \"\")}_version`;\n",
       "      return (VEGA_DEBUG[key] == version) ?\n",
       "        Promise.resolve(paths[lib]) :\n",
       "        new Promise(function(resolve, reject) {\n",
       "          var s = document.createElement('script');\n",
       "          document.getElementsByTagName(\"head\")[0].appendChild(s);\n",
       "          s.async = true;\n",
       "          s.onload = () => {\n",
       "            VEGA_DEBUG[key] = version;\n",
       "            return resolve(paths[lib]);\n",
       "          };\n",
       "          s.onerror = () => reject(`Error loading script: ${paths[lib]}`);\n",
       "          s.src = paths[lib];\n",
       "        });\n",
       "    }\n",
       "\n",
       "    function showError(err) {\n",
       "      outputDiv.innerHTML = `<div class=\"error\" style=\"color:red;\">${err}</div>`;\n",
       "      throw err;\n",
       "    }\n",
       "\n",
       "    function displayChart(vegaEmbed) {\n",
       "      vegaEmbed(outputDiv, spec, embedOpt)\n",
       "        .catch(err => showError(`Javascript Error: ${err.message}<br>This usually means there's a typo in your chart specification. See the javascript console for the full traceback.`));\n",
       "    }\n",
       "\n",
       "    if(typeof define === \"function\" && define.amd) {\n",
       "      requirejs.config({paths});\n",
       "      require([\"vega-embed\"], displayChart, err => showError(`Error loading script: ${err.message}`));\n",
       "    } else {\n",
       "      maybeLoadScript(\"vega\", \"5\")\n",
       "        .then(() => maybeLoadScript(\"vega-lite\", \"4.17.0\"))\n",
       "        .then(() => maybeLoadScript(\"vega-embed\", \"6\"))\n",
       "        .catch(showError)\n",
       "        .then(() => displayChart(vegaEmbed));\n",
       "    }\n",
       "  })({\"config\": {\"view\": {\"continuousWidth\": 400, \"continuousHeight\": 300, \"stroke\": null}, \"axis\": {\"titleFont\": \"Courier New\", \"titleFontSize\": 16}, \"title\": {\"font\": \"Courier New\", \"fontSize\": 18}}, \"layer\": [{\"mark\": {\"type\": \"line\", \"color\": \"red\"}, \"encoding\": {\"tooltip\": [{\"field\": \"Year\", \"type\": \"nominal\"}, {\"field\": \"Total affected\", \"type\": \"quantitative\"}], \"x\": {\"axis\": {\"labelAngle\": 0, \"labelFont\": \"Courier New\", \"labelFontSize\": 14, \"values\": [\"1997\", \"2000\", \"2003\", \"2006\", \"2009\", \"2012\", \"2015\", \"2018\", \"2021\", \"2024\"]}, \"field\": \"Year\", \"title\": \"Year\", \"type\": \"nominal\"}, \"y\": {\"axis\": {\"grid\": false, \"labelFont\": \"Courier New\", \"labelFontSize\": 14}, \"field\": \"Total affected\", \"title\": \"Total Affected\", \"type\": \"quantitative\"}}, \"height\": 400, \"selection\": {\"selector101\": {\"type\": \"interval\", \"bind\": \"scales\", \"encodings\": [\"x\", \"y\"]}}, \"title\": \"Total Aid Workers Affected Over Time\", \"width\": 700}, {\"mark\": {\"type\": \"point\", \"color\": \"red\", \"filled\": true, \"size\": 80}, \"encoding\": {\"tooltip\": [{\"field\": \"Year\", \"type\": \"nominal\"}, {\"field\": \"Total affected\", \"type\": \"quantitative\"}], \"x\": {\"field\": \"Year\", \"type\": \"nominal\"}, \"y\": {\"field\": \"Total affected\", \"type\": \"quantitative\"}}}], \"data\": {\"name\": \"data-6dc790915d3f8c7ae15d33d90bf8ecca\"}, \"$schema\": \"https://vega.github.io/schema/vega-lite/v4.17.0.json\", \"datasets\": {\"data-6dc790915d3f8c7ae15d33d90bf8ecca\": [{\"Year\": \"1997\", \"Total affected\": 48}, {\"Year\": \"1998\", \"Total affected\": 52}, {\"Year\": \"1999\", \"Total affected\": 62}, {\"Year\": \"2000\", \"Total affected\": 80}, {\"Year\": \"2001\", \"Total affected\": 70}, {\"Year\": \"2002\", \"Total affected\": 60}, {\"Year\": \"2003\", \"Total affected\": 119}, {\"Year\": \"2004\", \"Total affected\": 116}, {\"Year\": \"2005\", \"Total affected\": 163}, {\"Year\": \"2006\", \"Total affected\": 227}, {\"Year\": \"2007\", \"Total affected\": 217}, {\"Year\": \"2008\", \"Total affected\": 267}, {\"Year\": \"2009\", \"Total affected\": 264}, {\"Year\": \"2010\", \"Total affected\": 228}, {\"Year\": \"2011\", \"Total affected\": 284}, {\"Year\": \"2012\", \"Total affected\": 267}, {\"Year\": \"2013\", \"Total affected\": 461}, {\"Year\": \"2014\", \"Total affected\": 313}, {\"Year\": \"2015\", \"Total affected\": 259}, {\"Year\": \"2016\", \"Total affected\": 273}, {\"Year\": \"2017\", \"Total affected\": 302}, {\"Year\": \"2018\", \"Total affected\": 358}, {\"Year\": \"2019\", \"Total affected\": 422}, {\"Year\": \"2020\", \"Total affected\": 439}, {\"Year\": \"2021\", \"Total affected\": 430}, {\"Year\": \"2022\", \"Total affected\": 415}, {\"Year\": \"2023\", \"Total affected\": 358}, {\"Year\": \"2024\", \"Total affected\": 428}, {\"Year\": \"2025\", \"Total affected\": 41}]}}, {\"mode\": \"vega-lite\"});\n",
       "</script>"
      ],
      "text/plain": [
       "alt.LayerChart(...)"
      ]
     },
     "execution_count": 276,
     "metadata": {},
     "output_type": "execute_result"
    }
   ],
   "source": [
    "# Convert Year to string (Altair handles x-axis better this way)\n",
    "security_incidents_clean['Year'] = security_incidents_clean['Year'].astype(str)\n",
    "\n",
    "# Group by year\n",
    "yearly = security_incidents_clean.groupby('Year')['Total affected'].sum().reset_index()\n",
    "\n",
    "# Get tick labels for every 3rd year\n",
    "tick_values = yearly['Year'][::3].tolist()\n",
    "\n",
    "# Line chart\n",
    "line = alt.Chart(yearly).mark_line(\n",
    "    color='red'\n",
    ").encode(\n",
    "    x=alt.X('Year:N', title='Year', axis=alt.Axis(values=tick_values, labelAngle=0, \n",
    "                labelFont='Courier New',\n",
    "                labelFontSize=14)),\n",
    "    y=alt.Y('Total affected:Q', title='Total Affected', axis=alt.Axis(grid=False, \n",
    "                labelFont='Courier New',\n",
    "                labelFontSize=14)),\n",
    "    tooltip=[\n",
    "        alt.Tooltip('Year:N'),\n",
    "        alt.Tooltip('Total affected:Q')\n",
    "    ]\n",
    ").properties(\n",
    "    title='Total Aid Workers Affected Over Time',\n",
    "    width=700,\n",
    "    height=400\n",
    ")\n",
    "\n",
    "# Red markers\n",
    "points = alt.Chart(yearly).mark_point(\n",
    "    color='red',\n",
    "    filled=True,\n",
    "    size=80\n",
    ").encode(\n",
    "    x='Year:N',\n",
    "    y='Total affected:Q',\n",
    "    tooltip=[\n",
    "        alt.Tooltip('Year:N'),\n",
    "        alt.Tooltip('Total affected:Q')\n",
    "    ]\n",
    ")\n",
    "\n",
    "final_chart = (line + points).interactive().configure_axis(\n",
    "    titleFont='Courier New',\n",
    "    titleFontSize=16\n",
    ").configure_view(\n",
    "    stroke=None\n",
    ").configure_title(\n",
    "    font='Courier New',\n",
    "    fontSize=18\n",
    ")\n",
    "final_chart.save('../plots/total_affected_over_time.html')\n",
    "final_chart\n"
   ]
  },
  {
   "cell_type": "markdown",
   "metadata": {},
   "source": [
    "# Group wise total affected"
   ]
  },
  {
   "cell_type": "code",
   "execution_count": 267,
   "metadata": {},
   "outputs": [],
   "source": [
    "security_incidents_clean['Year'] = security_incidents_clean['Year'].astype(str)"
   ]
  },
  {
   "cell_type": "code",
   "execution_count": 268,
   "metadata": {},
   "outputs": [
    {
     "name": "stderr",
     "output_type": "stream",
     "text": [
      "/Users/nandinikodali/miniforge3/lib/python3.10/site-packages/altair/utils/core.py:384: FutureWarning:\n",
      "\n",
      "the convert_dtype parameter is deprecated and will be removed in a future version.  Do ``ser.astype(object).apply()`` instead if you want ``convert_dtype=False``.\n",
      "\n",
      "/Users/nandinikodali/miniforge3/lib/python3.10/site-packages/altair/utils/core.py:384: FutureWarning:\n",
      "\n",
      "the convert_dtype parameter is deprecated and will be removed in a future version.  Do ``ser.astype(object).apply()`` instead if you want ``convert_dtype=False``.\n",
      "\n"
     ]
    },
    {
     "data": {
      "text/html": [
       "\n",
       "<div id=\"altair-viz-615439791c7641848eeb4624e751d49f\"></div>\n",
       "<script type=\"text/javascript\">\n",
       "  var VEGA_DEBUG = (typeof VEGA_DEBUG == \"undefined\") ? {} : VEGA_DEBUG;\n",
       "  (function(spec, embedOpt){\n",
       "    let outputDiv = document.currentScript.previousElementSibling;\n",
       "    if (outputDiv.id !== \"altair-viz-615439791c7641848eeb4624e751d49f\") {\n",
       "      outputDiv = document.getElementById(\"altair-viz-615439791c7641848eeb4624e751d49f\");\n",
       "    }\n",
       "    const paths = {\n",
       "      \"vega\": \"https://cdn.jsdelivr.net/npm//vega@5?noext\",\n",
       "      \"vega-lib\": \"https://cdn.jsdelivr.net/npm//vega-lib?noext\",\n",
       "      \"vega-lite\": \"https://cdn.jsdelivr.net/npm//vega-lite@4.17.0?noext\",\n",
       "      \"vega-embed\": \"https://cdn.jsdelivr.net/npm//vega-embed@6?noext\",\n",
       "    };\n",
       "\n",
       "    function maybeLoadScript(lib, version) {\n",
       "      var key = `${lib.replace(\"-\", \"\")}_version`;\n",
       "      return (VEGA_DEBUG[key] == version) ?\n",
       "        Promise.resolve(paths[lib]) :\n",
       "        new Promise(function(resolve, reject) {\n",
       "          var s = document.createElement('script');\n",
       "          document.getElementsByTagName(\"head\")[0].appendChild(s);\n",
       "          s.async = true;\n",
       "          s.onload = () => {\n",
       "            VEGA_DEBUG[key] = version;\n",
       "            return resolve(paths[lib]);\n",
       "          };\n",
       "          s.onerror = () => reject(`Error loading script: ${paths[lib]}`);\n",
       "          s.src = paths[lib];\n",
       "        });\n",
       "    }\n",
       "\n",
       "    function showError(err) {\n",
       "      outputDiv.innerHTML = `<div class=\"error\" style=\"color:red;\">${err}</div>`;\n",
       "      throw err;\n",
       "    }\n",
       "\n",
       "    function displayChart(vegaEmbed) {\n",
       "      vegaEmbed(outputDiv, spec, embedOpt)\n",
       "        .catch(err => showError(`Javascript Error: ${err.message}<br>This usually means there's a typo in your chart specification. See the javascript console for the full traceback.`));\n",
       "    }\n",
       "\n",
       "    if(typeof define === \"function\" && define.amd) {\n",
       "      requirejs.config({paths});\n",
       "      require([\"vega-embed\"], displayChart, err => showError(`Error loading script: ${err.message}`));\n",
       "    } else {\n",
       "      maybeLoadScript(\"vega\", \"5\")\n",
       "        .then(() => maybeLoadScript(\"vega-lite\", \"4.17.0\"))\n",
       "        .then(() => maybeLoadScript(\"vega-embed\", \"6\"))\n",
       "        .catch(showError)\n",
       "        .then(() => displayChart(vegaEmbed));\n",
       "    }\n",
       "  })({\"config\": {\"view\": {\"continuousWidth\": 400, \"continuousHeight\": 300, \"stroke\": null}, \"axis\": {\"titleFont\": \"Courier New\", \"titleFontSize\": 16}, \"title\": {\"font\": \"Courier New\", \"fontSize\": 18}}, \"layer\": [{\"mark\": {\"type\": \"line\", \"color\": \"red\"}, \"encoding\": {\"tooltip\": [{\"field\": \"Year\", \"type\": \"nominal\"}, {\"field\": \"Total affected\", \"type\": \"quantitative\"}], \"x\": {\"axis\": {\"labelAngle\": 0, \"labelFont\": \"Courier New\", \"labelFontSize\": 14, \"values\": [\"1997\", \"2000\", \"2003\", \"2006\", \"2009\", \"2012\", \"2015\", \"2018\", \"2021\", \"2024\"]}, \"field\": \"Year\", \"title\": \"Year\", \"type\": \"nominal\"}, \"y\": {\"axis\": {\"grid\": false, \"labelFont\": \"Courier New\", \"labelFontSize\": 14}, \"field\": \"Total affected\", \"title\": \"Total Affected\", \"type\": \"quantitative\"}}, \"height\": 400, \"selection\": {\"selector089\": {\"type\": \"interval\", \"bind\": \"scales\", \"encodings\": [\"x\", \"y\"]}}, \"title\": \"Africa: Total Aid Workers Affected Over Time\", \"width\": 700}, {\"mark\": {\"type\": \"point\", \"color\": \"red\", \"filled\": true, \"size\": 80}, \"encoding\": {\"tooltip\": [{\"field\": \"Year\", \"type\": \"nominal\"}, {\"field\": \"Total affected\", \"type\": \"quantitative\"}], \"x\": {\"field\": \"Year\", \"type\": \"nominal\"}, \"y\": {\"field\": \"Total affected\", \"type\": \"quantitative\"}}}], \"data\": {\"name\": \"data-0c61203f305fb9a3d32113b7515e7bb7\"}, \"$schema\": \"https://vega.github.io/schema/vega-lite/v4.17.0.json\", \"datasets\": {\"data-0c61203f305fb9a3d32113b7515e7bb7\": [{\"Year\": \"1997\", \"Total affected\": 37}, {\"Year\": \"1998\", \"Total affected\": 48}, {\"Year\": \"1999\", \"Total affected\": 48}, {\"Year\": \"2000\", \"Total affected\": 49}, {\"Year\": \"2001\", \"Total affected\": 46}, {\"Year\": \"2002\", \"Total affected\": 42}, {\"Year\": \"2003\", \"Total affected\": 47}, {\"Year\": \"2004\", \"Total affected\": 39}, {\"Year\": \"2005\", \"Total affected\": 111}, {\"Year\": \"2006\", \"Total affected\": 120}, {\"Year\": \"2007\", \"Total affected\": 95}, {\"Year\": \"2008\", \"Total affected\": 155}, {\"Year\": \"2009\", \"Total affected\": 106}, {\"Year\": \"2010\", \"Total affected\": 51}, {\"Year\": \"2011\", \"Total affected\": 143}, {\"Year\": \"2012\", \"Total affected\": 96}, {\"Year\": \"2013\", \"Total affected\": 143}, {\"Year\": \"2014\", \"Total affected\": 111}, {\"Year\": \"2015\", \"Total affected\": 115}, {\"Year\": \"2016\", \"Total affected\": 144}, {\"Year\": \"2017\", \"Total affected\": 192}, {\"Year\": \"2018\", \"Total affected\": 209}, {\"Year\": \"2019\", \"Total affected\": 230}, {\"Year\": \"2020\", \"Total affected\": 287}, {\"Year\": \"2021\", \"Total affected\": 250}, {\"Year\": \"2022\", \"Total affected\": 237}, {\"Year\": \"2023\", \"Total affected\": 267}, {\"Year\": \"2024\", \"Total affected\": 275}, {\"Year\": \"2025\", \"Total affected\": 27}]}}, {\"mode\": \"vega-lite\"});\n",
       "</script>"
      ],
      "text/plain": [
       "alt.LayerChart(...)"
      ]
     },
     "execution_count": 268,
     "metadata": {},
     "output_type": "execute_result"
    }
   ],
   "source": [
    "# Africa\n",
    "africa = security_incidents_clean[security_incidents_clean['Group'] == 'Africa']\n",
    "africa_grouped = africa.groupby('Year')['Total affected'].sum().reset_index()\n",
    "tick_values = africa_grouped['Year'][::3].tolist()\n",
    "\n",
    "africa_chart = (\n",
    "    alt.Chart(africa_grouped).mark_line(color='red')\n",
    "    .encode(\n",
    "        x=alt.X('Year:N',\n",
    "            axis=alt.Axis(\n",
    "                values=tick_values,\n",
    "                labelAngle=0,\n",
    "                labelFont='Courier New',\n",
    "                labelFontSize=14\n",
    "            ),\n",
    "            title='Year'\n",
    "        ),\n",
    "        y=alt.Y('Total affected:Q',\n",
    "            axis=alt.Axis(\n",
    "                grid=False,\n",
    "                labelFont='Courier New',\n",
    "                labelFontSize=14\n",
    "            ),\n",
    "            title='Total Affected'\n",
    "        ),\n",
    "        tooltip=['Year:N', 'Total affected:Q']\n",
    "    )\n",
    "    .properties(\n",
    "        title='Africa: Total Aid Workers Affected Over Time',\n",
    "        width=700,\n",
    "        height=400\n",
    "    )\n",
    "    + alt.Chart(africa_grouped).mark_point(color='red', filled=True, size=80)\n",
    "    .encode(\n",
    "        x='Year:N',\n",
    "        y='Total affected:Q',\n",
    "        tooltip=['Year:N', 'Total affected:Q']\n",
    "    )\n",
    ").interactive().configure_view(\n",
    "    stroke=None\n",
    ").configure_title(\n",
    "    font='Courier New',\n",
    "    fontSize=18,\n",
    "    anchor='start'\n",
    ").configure_axis(\n",
    "    titleFont='Courier New',\n",
    "    titleFontSize=16\n",
    ").configure_title(\n",
    "    font='Courier New',\n",
    "    fontSize=18\n",
    ")\n",
    "\n",
    "africa_chart.save(\"../plots/africa_total_affected.html\")\n",
    "africa_chart\n"
   ]
  },
  {
   "cell_type": "code",
   "execution_count": 269,
   "metadata": {},
   "outputs": [
    {
     "name": "stderr",
     "output_type": "stream",
     "text": [
      "/Users/nandinikodali/miniforge3/lib/python3.10/site-packages/altair/utils/core.py:384: FutureWarning:\n",
      "\n",
      "the convert_dtype parameter is deprecated and will be removed in a future version.  Do ``ser.astype(object).apply()`` instead if you want ``convert_dtype=False``.\n",
      "\n",
      "/Users/nandinikodali/miniforge3/lib/python3.10/site-packages/altair/utils/core.py:384: FutureWarning:\n",
      "\n",
      "the convert_dtype parameter is deprecated and will be removed in a future version.  Do ``ser.astype(object).apply()`` instead if you want ``convert_dtype=False``.\n",
      "\n"
     ]
    },
    {
     "data": {
      "text/html": [
       "\n",
       "<div id=\"altair-viz-d99e58e899494580a2006fe63c7108e8\"></div>\n",
       "<script type=\"text/javascript\">\n",
       "  var VEGA_DEBUG = (typeof VEGA_DEBUG == \"undefined\") ? {} : VEGA_DEBUG;\n",
       "  (function(spec, embedOpt){\n",
       "    let outputDiv = document.currentScript.previousElementSibling;\n",
       "    if (outputDiv.id !== \"altair-viz-d99e58e899494580a2006fe63c7108e8\") {\n",
       "      outputDiv = document.getElementById(\"altair-viz-d99e58e899494580a2006fe63c7108e8\");\n",
       "    }\n",
       "    const paths = {\n",
       "      \"vega\": \"https://cdn.jsdelivr.net/npm//vega@5?noext\",\n",
       "      \"vega-lib\": \"https://cdn.jsdelivr.net/npm//vega-lib?noext\",\n",
       "      \"vega-lite\": \"https://cdn.jsdelivr.net/npm//vega-lite@4.17.0?noext\",\n",
       "      \"vega-embed\": \"https://cdn.jsdelivr.net/npm//vega-embed@6?noext\",\n",
       "    };\n",
       "\n",
       "    function maybeLoadScript(lib, version) {\n",
       "      var key = `${lib.replace(\"-\", \"\")}_version`;\n",
       "      return (VEGA_DEBUG[key] == version) ?\n",
       "        Promise.resolve(paths[lib]) :\n",
       "        new Promise(function(resolve, reject) {\n",
       "          var s = document.createElement('script');\n",
       "          document.getElementsByTagName(\"head\")[0].appendChild(s);\n",
       "          s.async = true;\n",
       "          s.onload = () => {\n",
       "            VEGA_DEBUG[key] = version;\n",
       "            return resolve(paths[lib]);\n",
       "          };\n",
       "          s.onerror = () => reject(`Error loading script: ${paths[lib]}`);\n",
       "          s.src = paths[lib];\n",
       "        });\n",
       "    }\n",
       "\n",
       "    function showError(err) {\n",
       "      outputDiv.innerHTML = `<div class=\"error\" style=\"color:red;\">${err}</div>`;\n",
       "      throw err;\n",
       "    }\n",
       "\n",
       "    function displayChart(vegaEmbed) {\n",
       "      vegaEmbed(outputDiv, spec, embedOpt)\n",
       "        .catch(err => showError(`Javascript Error: ${err.message}<br>This usually means there's a typo in your chart specification. See the javascript console for the full traceback.`));\n",
       "    }\n",
       "\n",
       "    if(typeof define === \"function\" && define.amd) {\n",
       "      requirejs.config({paths});\n",
       "      require([\"vega-embed\"], displayChart, err => showError(`Error loading script: ${err.message}`));\n",
       "    } else {\n",
       "      maybeLoadScript(\"vega\", \"5\")\n",
       "        .then(() => maybeLoadScript(\"vega-lite\", \"4.17.0\"))\n",
       "        .then(() => maybeLoadScript(\"vega-embed\", \"6\"))\n",
       "        .catch(showError)\n",
       "        .then(() => displayChart(vegaEmbed));\n",
       "    }\n",
       "  })({\"config\": {\"view\": {\"continuousWidth\": 400, \"continuousHeight\": 300, \"stroke\": null}, \"axis\": {\"titleFont\": \"Courier New\", \"titleFontSize\": 16}, \"title\": {\"font\": \"Courier New\", \"fontSize\": 18}}, \"layer\": [{\"mark\": {\"type\": \"line\", \"color\": \"red\"}, \"encoding\": {\"tooltip\": [{\"field\": \"Year\", \"type\": \"nominal\"}, {\"field\": \"Total affected\", \"type\": \"quantitative\"}], \"x\": {\"axis\": {\"labelAngle\": 0, \"labelFont\": \"Courier New\", \"labelFontSize\": 14, \"values\": [\"1997\", \"2000\", \"2003\", \"2006\", \"2009\", \"2012\", \"2015\", \"2018\", \"2021\", \"2024\"]}, \"field\": \"Year\", \"title\": \"Year\", \"type\": \"nominal\"}, \"y\": {\"axis\": {\"grid\": false, \"labelFont\": \"Courier New\", \"labelFontSize\": 14}, \"field\": \"Total affected\", \"title\": \"Total Affected\", \"type\": \"quantitative\"}}, \"height\": 400, \"selection\": {\"selector090\": {\"type\": \"interval\", \"bind\": \"scales\", \"encodings\": [\"x\", \"y\"]}}, \"title\": \"Asia: Total Aid Workers Affected Over Time\", \"width\": 700}, {\"mark\": {\"type\": \"point\", \"color\": \"red\", \"filled\": true, \"size\": 80}, \"encoding\": {\"tooltip\": [{\"field\": \"Year\", \"type\": \"nominal\"}, {\"field\": \"Total affected\", \"type\": \"quantitative\"}], \"x\": {\"field\": \"Year\", \"type\": \"nominal\"}, \"y\": {\"field\": \"Total affected\", \"type\": \"quantitative\"}}}], \"data\": {\"name\": \"data-d913af3297ebb9660d82e9007900e87e\"}, \"$schema\": \"https://vega.github.io/schema/vega-lite/v4.17.0.json\", \"datasets\": {\"data-d913af3297ebb9660d82e9007900e87e\": [{\"Year\": \"1997\", \"Total affected\": 11}, {\"Year\": \"1998\", \"Total affected\": 4}, {\"Year\": \"1999\", \"Total affected\": 13}, {\"Year\": \"2000\", \"Total affected\": 30}, {\"Year\": \"2001\", \"Total affected\": 23}, {\"Year\": \"2002\", \"Total affected\": 14}, {\"Year\": \"2003\", \"Total affected\": 72}, {\"Year\": \"2004\", \"Total affected\": 74}, {\"Year\": \"2005\", \"Total affected\": 48}, {\"Year\": \"2006\", \"Total affected\": 99}, {\"Year\": \"2007\", \"Total affected\": 115}, {\"Year\": \"2008\", \"Total affected\": 107}, {\"Year\": \"2009\", \"Total affected\": 157}, {\"Year\": \"2010\", \"Total affected\": 164}, {\"Year\": \"2011\", \"Total affected\": 133}, {\"Year\": \"2012\", \"Total affected\": 168}, {\"Year\": \"2013\", \"Total affected\": 314}, {\"Year\": \"2014\", \"Total affected\": 200}, {\"Year\": \"2015\", \"Total affected\": 141}, {\"Year\": \"2016\", \"Total affected\": 124}, {\"Year\": \"2017\", \"Total affected\": 106}, {\"Year\": \"2018\", \"Total affected\": 138}, {\"Year\": \"2019\", \"Total affected\": 180}, {\"Year\": \"2020\", \"Total affected\": 135}, {\"Year\": \"2021\", \"Total affected\": 158}, {\"Year\": \"2022\", \"Total affected\": 91}, {\"Year\": \"2023\", \"Total affected\": 52}, {\"Year\": \"2024\", \"Total affected\": 113}, {\"Year\": \"2025\", \"Total affected\": 12}]}}, {\"mode\": \"vega-lite\"});\n",
       "</script>"
      ],
      "text/plain": [
       "alt.LayerChart(...)"
      ]
     },
     "execution_count": 269,
     "metadata": {},
     "output_type": "execute_result"
    }
   ],
   "source": [
    "# Asia\n",
    "asia = security_incidents_clean[security_incidents_clean['Group'] == 'Asia']\n",
    "asia_grouped = asia.groupby('Year')['Total affected'].sum().reset_index()\n",
    "tick_values = asia_grouped['Year'][::3].tolist()\n",
    "\n",
    "asia_chart = (\n",
    "    alt.Chart(asia_grouped).mark_line(color='red')\n",
    "    .encode(\n",
    "        x=alt.X('Year:N', axis=alt.Axis(values=tick_values, labelAngle=0, labelFont='Courier New', labelFontSize=14), title='Year'),\n",
    "        y=alt.Y('Total affected:Q', axis=alt.Axis(grid=False, labelFont='Courier New', labelFontSize=14), title='Total Affected'),\n",
    "        tooltip=['Year:N', 'Total affected:Q']\n",
    "    )\n",
    "    .properties(title='Asia: Total Aid Workers Affected Over Time', width=700, height=400)\n",
    "    + alt.Chart(asia_grouped).mark_point(color='red', filled=True, size=80)\n",
    "    .encode(x='Year:N', y='Total affected:Q', tooltip=['Year:N', 'Total affected:Q'])\n",
    ").interactive().configure_view(stroke=None\n",
    ").configure_title(\n",
    "    font='Courier New',\n",
    "    fontSize=18,\n",
    "    anchor='start'\n",
    ").configure_axis(\n",
    "    titleFont='Courier New',\n",
    "    titleFontSize=16\n",
    ").configure_title(\n",
    "    font='Courier New',\n",
    "    fontSize=18\n",
    ")\n",
    "\n",
    "asia_chart.save(\"../plots/asia_total_affected.html\")\n",
    "asia_chart\n"
   ]
  },
  {
   "cell_type": "code",
   "execution_count": 275,
   "metadata": {},
   "outputs": [
    {
     "name": "stderr",
     "output_type": "stream",
     "text": [
      "/Users/nandinikodali/miniforge3/lib/python3.10/site-packages/altair/utils/core.py:384: FutureWarning:\n",
      "\n",
      "the convert_dtype parameter is deprecated and will be removed in a future version.  Do ``ser.astype(object).apply()`` instead if you want ``convert_dtype=False``.\n",
      "\n",
      "/Users/nandinikodali/miniforge3/lib/python3.10/site-packages/altair/utils/core.py:384: FutureWarning:\n",
      "\n",
      "the convert_dtype parameter is deprecated and will be removed in a future version.  Do ``ser.astype(object).apply()`` instead if you want ``convert_dtype=False``.\n",
      "\n",
      "/Users/nandinikodali/miniforge3/lib/python3.10/site-packages/altair/utils/core.py:384: FutureWarning:\n",
      "\n",
      "the convert_dtype parameter is deprecated and will be removed in a future version.  Do ``ser.astype(object).apply()`` instead if you want ``convert_dtype=False``.\n",
      "\n",
      "/Users/nandinikodali/miniforge3/lib/python3.10/site-packages/altair/utils/core.py:384: FutureWarning:\n",
      "\n",
      "the convert_dtype parameter is deprecated and will be removed in a future version.  Do ``ser.astype(object).apply()`` instead if you want ``convert_dtype=False``.\n",
      "\n",
      "/Users/nandinikodali/miniforge3/lib/python3.10/site-packages/altair/utils/core.py:384: FutureWarning:\n",
      "\n",
      "the convert_dtype parameter is deprecated and will be removed in a future version.  Do ``ser.astype(object).apply()`` instead if you want ``convert_dtype=False``.\n",
      "\n",
      "/Users/nandinikodali/miniforge3/lib/python3.10/site-packages/altair/utils/core.py:384: FutureWarning:\n",
      "\n",
      "the convert_dtype parameter is deprecated and will be removed in a future version.  Do ``ser.astype(object).apply()`` instead if you want ``convert_dtype=False``.\n",
      "\n"
     ]
    }
   ],
   "source": [
    "import altair as alt\n",
    "import os\n",
    "\n",
    "# Ensure plots directory exists\n",
    "os.makedirs(\"../plots\", exist_ok=True)\n",
    "\n",
    "security_incidents_clean['Group'] = security_incidents_clean['Group'].str.strip().str.replace('\\u00A0', ' ', regex=True)\n",
    "\n",
    "\n",
    "# Convert Year to string for Altair axis\n",
    "security_incidents_clean['Year'] = security_incidents_clean['Year'].astype(str)\n",
    "\n",
    "# Loop through each region (Group)\n",
    "for group_name in security_incidents_clean['Group'].unique():\n",
    "    group_df = security_incidents_clean[security_incidents_clean['Group'] == group_name]\n",
    "    grouped = group_df.groupby('Year')['Total affected'].sum().reset_index()\n",
    "    tick_values = grouped['Year'][::3].tolist()\n",
    "\n",
    "    # Create the chart\n",
    "    chart = (\n",
    "        alt.Chart(grouped).mark_line(color='red')\n",
    "        .encode(\n",
    "            x=alt.X('Year:N',\n",
    "                title='Year',\n",
    "                axis=alt.Axis(\n",
    "                    values=tick_values,\n",
    "                    labelAngle=0,\n",
    "                    labelFont='Courier New',\n",
    "                    labelFontSize=14\n",
    "                )\n",
    "            ),\n",
    "            y=alt.Y('Total affected:Q',\n",
    "                title='Total Affected',\n",
    "                axis=alt.Axis(\n",
    "                    grid=False,\n",
    "                    labelFont='Courier New',\n",
    "                    labelFontSize=14\n",
    "                )\n",
    "            ),\n",
    "            tooltip=['Year:N', 'Total affected:Q']\n",
    "        )\n",
    "        .properties(\n",
    "            title=f'{group_name}: Total Aid Workers Affected Over Time',\n",
    "            width=700,\n",
    "            height=400\n",
    "        )\n",
    "        + alt.Chart(grouped).mark_point(color='red', filled=True, size=80)\n",
    "        .encode(\n",
    "            x='Year:N',\n",
    "            y='Total affected:Q',\n",
    "            tooltip=['Year:N', 'Total affected:Q']\n",
    "        )\n",
    "    ).interactive().configure_view(\n",
    "        stroke=None\n",
    "    ).configure_title(\n",
    "        font='Courier New',\n",
    "        fontSize=18\n",
    "    ).configure_axis(\n",
    "        titleFont='Courier New',\n",
    "        titleFontSize=16\n",
    "    )\n",
    "\n",
    "    # Clean file name (lowercase, no spaces)\n",
    "    file_name = group_name.lower().replace(\" \", \"_\") + \"_total_affected.html\"\n",
    "    chart.save(f\"../plots/{file_name}\")\n",
    "    chart"
   ]
  },
  {
   "cell_type": "code",
   "execution_count": 274,
   "metadata": {},
   "outputs": [
    {
     "ename": "KeyError",
     "evalue": "'Group'",
     "output_type": "error",
     "traceback": [
      "\u001b[0;31m---------------------------------------------------------------------------\u001b[0m",
      "\u001b[0;31mKeyError\u001b[0m                                  Traceback (most recent call last)",
      "File \u001b[0;32m~/miniforge3/lib/python3.10/site-packages/pandas/core/indexes/base.py:3791\u001b[0m, in \u001b[0;36mIndex.get_loc\u001b[0;34m(self, key)\u001b[0m\n\u001b[1;32m   3790\u001b[0m \u001b[38;5;28;01mtry\u001b[39;00m:\n\u001b[0;32m-> 3791\u001b[0m     \u001b[38;5;28;01mreturn\u001b[39;00m \u001b[38;5;28;43mself\u001b[39;49m\u001b[38;5;241;43m.\u001b[39;49m\u001b[43m_engine\u001b[49m\u001b[38;5;241;43m.\u001b[39;49m\u001b[43mget_loc\u001b[49m\u001b[43m(\u001b[49m\u001b[43mcasted_key\u001b[49m\u001b[43m)\u001b[49m\n\u001b[1;32m   3792\u001b[0m \u001b[38;5;28;01mexcept\u001b[39;00m \u001b[38;5;167;01mKeyError\u001b[39;00m \u001b[38;5;28;01mas\u001b[39;00m err:\n",
      "File \u001b[0;32mindex.pyx:152\u001b[0m, in \u001b[0;36mpandas._libs.index.IndexEngine.get_loc\u001b[0;34m()\u001b[0m\n",
      "File \u001b[0;32mindex.pyx:181\u001b[0m, in \u001b[0;36mpandas._libs.index.IndexEngine.get_loc\u001b[0;34m()\u001b[0m\n",
      "File \u001b[0;32mpandas/_libs/hashtable_class_helper.pxi:7080\u001b[0m, in \u001b[0;36mpandas._libs.hashtable.PyObjectHashTable.get_item\u001b[0;34m()\u001b[0m\n",
      "File \u001b[0;32mpandas/_libs/hashtable_class_helper.pxi:7088\u001b[0m, in \u001b[0;36mpandas._libs.hashtable.PyObjectHashTable.get_item\u001b[0;34m()\u001b[0m\n",
      "\u001b[0;31mKeyError\u001b[0m: 'Group'",
      "\nThe above exception was the direct cause of the following exception:\n",
      "\u001b[0;31mKeyError\u001b[0m                                  Traceback (most recent call last)",
      "Cell \u001b[0;32mIn[274], line 2\u001b[0m\n\u001b[1;32m      1\u001b[0m \u001b[38;5;66;03m#\u001b[39;00m\n\u001b[0;32m----> 2\u001b[0m df[\u001b[38;5;124m'\u001b[39m\u001b[38;5;124mGroup\u001b[39m\u001b[38;5;124m'\u001b[39m] \u001b[38;5;241m=\u001b[39m \u001b[43mdf\u001b[49m\u001b[43m[\u001b[49m\u001b[38;5;124;43m'\u001b[39;49m\u001b[38;5;124;43mGroup\u001b[39;49m\u001b[38;5;124;43m'\u001b[39;49m\u001b[43m]\u001b[49m\u001b[38;5;241m.\u001b[39mstr\u001b[38;5;241m.\u001b[39mstrip()\n\u001b[1;32m      4\u001b[0m me \u001b[38;5;241m=\u001b[39m security_incidents_clean[security_incidents_clean[\u001b[38;5;124m'\u001b[39m\u001b[38;5;124mGroup\u001b[39m\u001b[38;5;124m'\u001b[39m] \u001b[38;5;241m==\u001b[39m \u001b[38;5;124m'\u001b[39m\u001b[38;5;124mMiddle East\u001b[39m\u001b[38;5;124m'\u001b[39m]\n\u001b[1;32m      5\u001b[0m me_grouped \u001b[38;5;241m=\u001b[39m me\u001b[38;5;241m.\u001b[39mgroupby(\u001b[38;5;124m'\u001b[39m\u001b[38;5;124mYear\u001b[39m\u001b[38;5;124m'\u001b[39m)[\u001b[38;5;124m'\u001b[39m\u001b[38;5;124mTotal affected\u001b[39m\u001b[38;5;124m'\u001b[39m]\u001b[38;5;241m.\u001b[39msum()\u001b[38;5;241m.\u001b[39mreset_index()\n",
      "File \u001b[0;32m~/miniforge3/lib/python3.10/site-packages/pandas/core/frame.py:3893\u001b[0m, in \u001b[0;36mDataFrame.__getitem__\u001b[0;34m(self, key)\u001b[0m\n\u001b[1;32m   3891\u001b[0m \u001b[38;5;28;01mif\u001b[39;00m \u001b[38;5;28mself\u001b[39m\u001b[38;5;241m.\u001b[39mcolumns\u001b[38;5;241m.\u001b[39mnlevels \u001b[38;5;241m>\u001b[39m \u001b[38;5;241m1\u001b[39m:\n\u001b[1;32m   3892\u001b[0m     \u001b[38;5;28;01mreturn\u001b[39;00m \u001b[38;5;28mself\u001b[39m\u001b[38;5;241m.\u001b[39m_getitem_multilevel(key)\n\u001b[0;32m-> 3893\u001b[0m indexer \u001b[38;5;241m=\u001b[39m \u001b[38;5;28;43mself\u001b[39;49m\u001b[38;5;241;43m.\u001b[39;49m\u001b[43mcolumns\u001b[49m\u001b[38;5;241;43m.\u001b[39;49m\u001b[43mget_loc\u001b[49m\u001b[43m(\u001b[49m\u001b[43mkey\u001b[49m\u001b[43m)\u001b[49m\n\u001b[1;32m   3894\u001b[0m \u001b[38;5;28;01mif\u001b[39;00m is_integer(indexer):\n\u001b[1;32m   3895\u001b[0m     indexer \u001b[38;5;241m=\u001b[39m [indexer]\n",
      "File \u001b[0;32m~/miniforge3/lib/python3.10/site-packages/pandas/core/indexes/base.py:3798\u001b[0m, in \u001b[0;36mIndex.get_loc\u001b[0;34m(self, key)\u001b[0m\n\u001b[1;32m   3793\u001b[0m     \u001b[38;5;28;01mif\u001b[39;00m \u001b[38;5;28misinstance\u001b[39m(casted_key, \u001b[38;5;28mslice\u001b[39m) \u001b[38;5;129;01mor\u001b[39;00m (\n\u001b[1;32m   3794\u001b[0m         \u001b[38;5;28misinstance\u001b[39m(casted_key, abc\u001b[38;5;241m.\u001b[39mIterable)\n\u001b[1;32m   3795\u001b[0m         \u001b[38;5;129;01mand\u001b[39;00m \u001b[38;5;28many\u001b[39m(\u001b[38;5;28misinstance\u001b[39m(x, \u001b[38;5;28mslice\u001b[39m) \u001b[38;5;28;01mfor\u001b[39;00m x \u001b[38;5;129;01min\u001b[39;00m casted_key)\n\u001b[1;32m   3796\u001b[0m     ):\n\u001b[1;32m   3797\u001b[0m         \u001b[38;5;28;01mraise\u001b[39;00m InvalidIndexError(key)\n\u001b[0;32m-> 3798\u001b[0m     \u001b[38;5;28;01mraise\u001b[39;00m \u001b[38;5;167;01mKeyError\u001b[39;00m(key) \u001b[38;5;28;01mfrom\u001b[39;00m \u001b[38;5;21;01merr\u001b[39;00m\n\u001b[1;32m   3799\u001b[0m \u001b[38;5;28;01mexcept\u001b[39;00m \u001b[38;5;167;01mTypeError\u001b[39;00m:\n\u001b[1;32m   3800\u001b[0m     \u001b[38;5;66;03m# If we have a listlike key, _check_indexing_error will raise\u001b[39;00m\n\u001b[1;32m   3801\u001b[0m     \u001b[38;5;66;03m#  InvalidIndexError. Otherwise we fall through and re-raise\u001b[39;00m\n\u001b[1;32m   3802\u001b[0m     \u001b[38;5;66;03m#  the TypeError.\u001b[39;00m\n\u001b[1;32m   3803\u001b[0m     \u001b[38;5;28mself\u001b[39m\u001b[38;5;241m.\u001b[39m_check_indexing_error(key)\n",
      "\u001b[0;31mKeyError\u001b[0m: 'Group'"
     ]
    }
   ],
   "source": [
    "#\n",
    "\n",
    "me = security_incidents_clean[security_incidents_clean['Group'] == 'Middle East']\n",
    "me_grouped = me.groupby('Year')['Total affected'].sum().reset_index()\n",
    "tick_values = me_grouped['Year'][::3].tolist()\n",
    "\n",
    "me_chart = (\n",
    "    alt.Chart(me_grouped).mark_line(color='red')\n",
    "    .encode(\n",
    "        x=alt.X('Year:N', axis=alt.Axis(values=tick_values, labelAngle=0), title='Year'),\n",
    "        y=alt.Y('Total affected:Q', axis=alt.Axis(grid=False), title='Total Affected'),\n",
    "        tooltip=['Year:N', 'Total affected:Q']\n",
    "    )\n",
    "    .properties(title='Middle East: Total Aid Workers Affected Over Time', width=700, height=400)\n",
    "    + alt.Chart(me_grouped).mark_point(color='red', filled=True, size=80)\n",
    "    .encode(x='Year:N', y='Total affected:Q', tooltip=['Year:N', 'Total affected:Q'])\n",
    ").interactive().configure_view(stroke=None)\n",
    "me_chart.save(\"../plots/middle_east_total_affected.html\")\n",
    "me_chart"
   ]
  },
  {
   "cell_type": "code",
   "execution_count": 271,
   "metadata": {},
   "outputs": [
    {
     "name": "stderr",
     "output_type": "stream",
     "text": [
      "/Users/nandinikodali/miniforge3/lib/python3.10/site-packages/altair/utils/core.py:384: FutureWarning:\n",
      "\n",
      "the convert_dtype parameter is deprecated and will be removed in a future version.  Do ``ser.astype(object).apply()`` instead if you want ``convert_dtype=False``.\n",
      "\n",
      "/Users/nandinikodali/miniforge3/lib/python3.10/site-packages/altair/utils/core.py:384: FutureWarning:\n",
      "\n",
      "the convert_dtype parameter is deprecated and will be removed in a future version.  Do ``ser.astype(object).apply()`` instead if you want ``convert_dtype=False``.\n",
      "\n"
     ]
    },
    {
     "data": {
      "text/html": [
       "\n",
       "<div id=\"altair-viz-ca232bfb4daf4f79a7ce4adb616ab4cb\"></div>\n",
       "<script type=\"text/javascript\">\n",
       "  var VEGA_DEBUG = (typeof VEGA_DEBUG == \"undefined\") ? {} : VEGA_DEBUG;\n",
       "  (function(spec, embedOpt){\n",
       "    let outputDiv = document.currentScript.previousElementSibling;\n",
       "    if (outputDiv.id !== \"altair-viz-ca232bfb4daf4f79a7ce4adb616ab4cb\") {\n",
       "      outputDiv = document.getElementById(\"altair-viz-ca232bfb4daf4f79a7ce4adb616ab4cb\");\n",
       "    }\n",
       "    const paths = {\n",
       "      \"vega\": \"https://cdn.jsdelivr.net/npm//vega@5?noext\",\n",
       "      \"vega-lib\": \"https://cdn.jsdelivr.net/npm//vega-lib?noext\",\n",
       "      \"vega-lite\": \"https://cdn.jsdelivr.net/npm//vega-lite@4.17.0?noext\",\n",
       "      \"vega-embed\": \"https://cdn.jsdelivr.net/npm//vega-embed@6?noext\",\n",
       "    };\n",
       "\n",
       "    function maybeLoadScript(lib, version) {\n",
       "      var key = `${lib.replace(\"-\", \"\")}_version`;\n",
       "      return (VEGA_DEBUG[key] == version) ?\n",
       "        Promise.resolve(paths[lib]) :\n",
       "        new Promise(function(resolve, reject) {\n",
       "          var s = document.createElement('script');\n",
       "          document.getElementsByTagName(\"head\")[0].appendChild(s);\n",
       "          s.async = true;\n",
       "          s.onload = () => {\n",
       "            VEGA_DEBUG[key] = version;\n",
       "            return resolve(paths[lib]);\n",
       "          };\n",
       "          s.onerror = () => reject(`Error loading script: ${paths[lib]}`);\n",
       "          s.src = paths[lib];\n",
       "        });\n",
       "    }\n",
       "\n",
       "    function showError(err) {\n",
       "      outputDiv.innerHTML = `<div class=\"error\" style=\"color:red;\">${err}</div>`;\n",
       "      throw err;\n",
       "    }\n",
       "\n",
       "    function displayChart(vegaEmbed) {\n",
       "      vegaEmbed(outputDiv, spec, embedOpt)\n",
       "        .catch(err => showError(`Javascript Error: ${err.message}<br>This usually means there's a typo in your chart specification. See the javascript console for the full traceback.`));\n",
       "    }\n",
       "\n",
       "    if(typeof define === \"function\" && define.amd) {\n",
       "      requirejs.config({paths});\n",
       "      require([\"vega-embed\"], displayChart, err => showError(`Error loading script: ${err.message}`));\n",
       "    } else {\n",
       "      maybeLoadScript(\"vega\", \"5\")\n",
       "        .then(() => maybeLoadScript(\"vega-lite\", \"4.17.0\"))\n",
       "        .then(() => maybeLoadScript(\"vega-embed\", \"6\"))\n",
       "        .catch(showError)\n",
       "        .then(() => displayChart(vegaEmbed));\n",
       "    }\n",
       "  })({\"config\": {\"view\": {\"continuousWidth\": 400, \"continuousHeight\": 300, \"stroke\": null}}, \"layer\": [{\"mark\": {\"type\": \"line\", \"color\": \"red\"}, \"encoding\": {\"tooltip\": [{\"field\": \"Year\", \"type\": \"nominal\"}, {\"field\": \"Total affected\", \"type\": \"quantitative\"}], \"x\": {\"axis\": {\"labelAngle\": 0, \"values\": [\"2004\", \"2007\", \"2010\", \"2013\", \"2017\", \"2020\", \"2023\"]}, \"field\": \"Year\", \"title\": \"Year\", \"type\": \"nominal\"}, \"y\": {\"axis\": {\"grid\": false}, \"field\": \"Total affected\", \"title\": \"Total Affected\", \"type\": \"quantitative\"}}, \"height\": 400, \"selection\": {\"selector092\": {\"type\": \"interval\", \"bind\": \"scales\", \"encodings\": [\"x\", \"y\"]}}, \"title\": \"North America: Total Aid Workers Affected Over Time\", \"width\": 700}, {\"mark\": {\"type\": \"point\", \"color\": \"red\", \"filled\": true, \"size\": 80}, \"encoding\": {\"tooltip\": [{\"field\": \"Year\", \"type\": \"nominal\"}, {\"field\": \"Total affected\", \"type\": \"quantitative\"}], \"x\": {\"field\": \"Year\", \"type\": \"nominal\"}, \"y\": {\"field\": \"Total affected\", \"type\": \"quantitative\"}}}], \"data\": {\"name\": \"data-bf62148f56a3d039d0738feb822eba1d\"}, \"$schema\": \"https://vega.github.io/schema/vega-lite/v4.17.0.json\", \"datasets\": {\"data-bf62148f56a3d039d0738feb822eba1d\": [{\"Year\": \"2004\", \"Total affected\": 1}, {\"Year\": \"2005\", \"Total affected\": 1}, {\"Year\": \"2006\", \"Total affected\": 6}, {\"Year\": \"2007\", \"Total affected\": 2}, {\"Year\": \"2008\", \"Total affected\": 5}, {\"Year\": \"2009\", \"Total affected\": 1}, {\"Year\": \"2010\", \"Total affected\": 13}, {\"Year\": \"2011\", \"Total affected\": 6}, {\"Year\": \"2012\", \"Total affected\": 3}, {\"Year\": \"2013\", \"Total affected\": 3}, {\"Year\": \"2015\", \"Total affected\": 3}, {\"Year\": \"2016\", \"Total affected\": 5}, {\"Year\": \"2017\", \"Total affected\": 4}, {\"Year\": \"2018\", \"Total affected\": 9}, {\"Year\": \"2019\", \"Total affected\": 8}, {\"Year\": \"2020\", \"Total affected\": 9}, {\"Year\": \"2021\", \"Total affected\": 20}, {\"Year\": \"2022\", \"Total affected\": 20}, {\"Year\": \"2023\", \"Total affected\": 9}, {\"Year\": \"2024\", \"Total affected\": 5}]}}, {\"mode\": \"vega-lite\"});\n",
       "</script>"
      ],
      "text/plain": [
       "alt.LayerChart(...)"
      ]
     },
     "execution_count": 271,
     "metadata": {},
     "output_type": "execute_result"
    }
   ],
   "source": [
    "# North America\n",
    "americas = security_incidents_clean[security_incidents_clean['Group'] == 'North America']\n",
    "americas_grouped = americas.groupby('Year')['Total affected'].sum().reset_index()\n",
    "tick_values = americas_grouped['Year'][::3].tolist()\n",
    "\n",
    "americas_chart = (\n",
    "    alt.Chart(americas_grouped).mark_line(color='red')\n",
    "    .encode(\n",
    "        x=alt.X('Year:N', axis=alt.Axis(values=tick_values, labelAngle=0), title='Year'),\n",
    "        y=alt.Y('Total affected:Q', axis=alt.Axis(grid=False), title='Total Affected'),\n",
    "        tooltip=['Year:N', 'Total affected:Q']\n",
    "    )\n",
    "    .properties(title='North America: Total Aid Workers Affected Over Time', width=700, height=400)\n",
    "    + alt.Chart(americas_grouped).mark_point(color='red', filled=True, size=80)\n",
    "    .encode(x='Year:N', y='Total affected:Q', tooltip=['Year:N', 'Total affected:Q'])\n",
    ").interactive().configure_view(stroke=None)\n",
    "\n",
    "americas_chart.save(\"../plots/northamerica_total_affected.html\")\n",
    "americas_chart\n"
   ]
  },
  {
   "cell_type": "code",
   "execution_count": 272,
   "metadata": {},
   "outputs": [
    {
     "name": "stderr",
     "output_type": "stream",
     "text": [
      "/Users/nandinikodali/miniforge3/lib/python3.10/site-packages/altair/utils/core.py:384: FutureWarning:\n",
      "\n",
      "the convert_dtype parameter is deprecated and will be removed in a future version.  Do ``ser.astype(object).apply()`` instead if you want ``convert_dtype=False``.\n",
      "\n",
      "/Users/nandinikodali/miniforge3/lib/python3.10/site-packages/altair/utils/core.py:384: FutureWarning:\n",
      "\n",
      "the convert_dtype parameter is deprecated and will be removed in a future version.  Do ``ser.astype(object).apply()`` instead if you want ``convert_dtype=False``.\n",
      "\n"
     ]
    },
    {
     "data": {
      "text/html": [
       "\n",
       "<div id=\"altair-viz-7c8627c5deb34da3b117b39357a62931\"></div>\n",
       "<script type=\"text/javascript\">\n",
       "  var VEGA_DEBUG = (typeof VEGA_DEBUG == \"undefined\") ? {} : VEGA_DEBUG;\n",
       "  (function(spec, embedOpt){\n",
       "    let outputDiv = document.currentScript.previousElementSibling;\n",
       "    if (outputDiv.id !== \"altair-viz-7c8627c5deb34da3b117b39357a62931\") {\n",
       "      outputDiv = document.getElementById(\"altair-viz-7c8627c5deb34da3b117b39357a62931\");\n",
       "    }\n",
       "    const paths = {\n",
       "      \"vega\": \"https://cdn.jsdelivr.net/npm//vega@5?noext\",\n",
       "      \"vega-lib\": \"https://cdn.jsdelivr.net/npm//vega-lib?noext\",\n",
       "      \"vega-lite\": \"https://cdn.jsdelivr.net/npm//vega-lite@4.17.0?noext\",\n",
       "      \"vega-embed\": \"https://cdn.jsdelivr.net/npm//vega-embed@6?noext\",\n",
       "    };\n",
       "\n",
       "    function maybeLoadScript(lib, version) {\n",
       "      var key = `${lib.replace(\"-\", \"\")}_version`;\n",
       "      return (VEGA_DEBUG[key] == version) ?\n",
       "        Promise.resolve(paths[lib]) :\n",
       "        new Promise(function(resolve, reject) {\n",
       "          var s = document.createElement('script');\n",
       "          document.getElementsByTagName(\"head\")[0].appendChild(s);\n",
       "          s.async = true;\n",
       "          s.onload = () => {\n",
       "            VEGA_DEBUG[key] = version;\n",
       "            return resolve(paths[lib]);\n",
       "          };\n",
       "          s.onerror = () => reject(`Error loading script: ${paths[lib]}`);\n",
       "          s.src = paths[lib];\n",
       "        });\n",
       "    }\n",
       "\n",
       "    function showError(err) {\n",
       "      outputDiv.innerHTML = `<div class=\"error\" style=\"color:red;\">${err}</div>`;\n",
       "      throw err;\n",
       "    }\n",
       "\n",
       "    function displayChart(vegaEmbed) {\n",
       "      vegaEmbed(outputDiv, spec, embedOpt)\n",
       "        .catch(err => showError(`Javascript Error: ${err.message}<br>This usually means there's a typo in your chart specification. See the javascript console for the full traceback.`));\n",
       "    }\n",
       "\n",
       "    if(typeof define === \"function\" && define.amd) {\n",
       "      requirejs.config({paths});\n",
       "      require([\"vega-embed\"], displayChart, err => showError(`Error loading script: ${err.message}`));\n",
       "    } else {\n",
       "      maybeLoadScript(\"vega\", \"5\")\n",
       "        .then(() => maybeLoadScript(\"vega-lite\", \"4.17.0\"))\n",
       "        .then(() => maybeLoadScript(\"vega-embed\", \"6\"))\n",
       "        .catch(showError)\n",
       "        .then(() => displayChart(vegaEmbed));\n",
       "    }\n",
       "  })({\"config\": {\"view\": {\"continuousWidth\": 400, \"continuousHeight\": 300, \"stroke\": null}}, \"layer\": [{\"mark\": {\"type\": \"line\", \"color\": \"red\"}, \"encoding\": {\"tooltip\": [{\"field\": \"Year\", \"type\": \"nominal\"}, {\"field\": \"Total affected\", \"type\": \"quantitative\"}], \"x\": {\"axis\": {\"labelAngle\": 0, \"values\": [\"1999\", \"2004\", \"2011\", \"2020\", \"2023\"]}, \"field\": \"Year\", \"title\": \"Year\", \"type\": \"nominal\"}, \"y\": {\"axis\": {\"grid\": false}, \"field\": \"Total affected\", \"title\": \"Total Affected\", \"type\": \"quantitative\"}}, \"height\": 400, \"selection\": {\"selector093\": {\"type\": \"interval\", \"bind\": \"scales\", \"encodings\": [\"x\", \"y\"]}}, \"title\": \"South America: Total Aid Workers Affected Over Time\", \"width\": 700}, {\"mark\": {\"type\": \"point\", \"color\": \"red\", \"filled\": true, \"size\": 80}, \"encoding\": {\"tooltip\": [{\"field\": \"Year\", \"type\": \"nominal\"}, {\"field\": \"Total affected\", \"type\": \"quantitative\"}], \"x\": {\"field\": \"Year\", \"type\": \"nominal\"}, \"y\": {\"field\": \"Total affected\", \"type\": \"quantitative\"}}}], \"data\": {\"name\": \"data-33e2d23465c1675057237057d6a632b4\"}, \"$schema\": \"https://vega.github.io/schema/vega-lite/v4.17.0.json\", \"datasets\": {\"data-33e2d23465c1675057237057d6a632b4\": [{\"Year\": \"1999\", \"Total affected\": 1}, {\"Year\": \"2000\", \"Total affected\": 1}, {\"Year\": \"2002\", \"Total affected\": 4}, {\"Year\": \"2004\", \"Total affected\": 2}, {\"Year\": \"2005\", \"Total affected\": 3}, {\"Year\": \"2006\", \"Total affected\": 2}, {\"Year\": \"2011\", \"Total affected\": 1}, {\"Year\": \"2013\", \"Total affected\": 1}, {\"Year\": \"2019\", \"Total affected\": 2}, {\"Year\": \"2020\", \"Total affected\": 6}, {\"Year\": \"2021\", \"Total affected\": 2}, {\"Year\": \"2022\", \"Total affected\": 3}, {\"Year\": \"2023\", \"Total affected\": 2}, {\"Year\": \"2024\", \"Total affected\": 3}]}}, {\"mode\": \"vega-lite\"});\n",
       "</script>"
      ],
      "text/plain": [
       "alt.LayerChart(...)"
      ]
     },
     "execution_count": 272,
     "metadata": {},
     "output_type": "execute_result"
    }
   ],
   "source": [
    "# South America\n",
    "americas = security_incidents_clean[security_incidents_clean['Group'] == 'South America']\n",
    "americas_grouped = americas.groupby('Year')['Total affected'].sum().reset_index()\n",
    "tick_values = americas_grouped['Year'][::3].tolist()\n",
    "\n",
    "americas_chart = (\n",
    "    alt.Chart(americas_grouped).mark_line(color='red')\n",
    "    .encode(\n",
    "        x=alt.X('Year:N', axis=alt.Axis(values=tick_values, labelAngle=0), title='Year'),\n",
    "        y=alt.Y('Total affected:Q', axis=alt.Axis(grid=False), title='Total Affected'),\n",
    "        tooltip=['Year:N', 'Total affected:Q']\n",
    "    )\n",
    "    .properties(title='South America: Total Aid Workers Affected Over Time', width=700, height=400)\n",
    "    + alt.Chart(americas_grouped).mark_point(color='red', filled=True, size=80)\n",
    "    .encode(x='Year:N', y='Total affected:Q', tooltip=['Year:N', 'Total affected:Q'])\n",
    ").interactive().configure_view(stroke=None)\n",
    "\n",
    "americas_chart.save(\"../plots/southamerica_total_affected.html\")\n",
    "americas_chart\n"
   ]
  },
  {
   "cell_type": "code",
   "execution_count": 273,
   "metadata": {},
   "outputs": [
    {
     "name": "stderr",
     "output_type": "stream",
     "text": [
      "/Users/nandinikodali/miniforge3/lib/python3.10/site-packages/altair/utils/core.py:384: FutureWarning:\n",
      "\n",
      "the convert_dtype parameter is deprecated and will be removed in a future version.  Do ``ser.astype(object).apply()`` instead if you want ``convert_dtype=False``.\n",
      "\n",
      "/Users/nandinikodali/miniforge3/lib/python3.10/site-packages/altair/utils/core.py:384: FutureWarning:\n",
      "\n",
      "the convert_dtype parameter is deprecated and will be removed in a future version.  Do ``ser.astype(object).apply()`` instead if you want ``convert_dtype=False``.\n",
      "\n"
     ]
    },
    {
     "data": {
      "text/html": [
       "\n",
       "<div id=\"altair-viz-706889fb88824eb8a49ca029560b757b\"></div>\n",
       "<script type=\"text/javascript\">\n",
       "  var VEGA_DEBUG = (typeof VEGA_DEBUG == \"undefined\") ? {} : VEGA_DEBUG;\n",
       "  (function(spec, embedOpt){\n",
       "    let outputDiv = document.currentScript.previousElementSibling;\n",
       "    if (outputDiv.id !== \"altair-viz-706889fb88824eb8a49ca029560b757b\") {\n",
       "      outputDiv = document.getElementById(\"altair-viz-706889fb88824eb8a49ca029560b757b\");\n",
       "    }\n",
       "    const paths = {\n",
       "      \"vega\": \"https://cdn.jsdelivr.net/npm//vega@5?noext\",\n",
       "      \"vega-lib\": \"https://cdn.jsdelivr.net/npm//vega-lib?noext\",\n",
       "      \"vega-lite\": \"https://cdn.jsdelivr.net/npm//vega-lite@4.17.0?noext\",\n",
       "      \"vega-embed\": \"https://cdn.jsdelivr.net/npm//vega-embed@6?noext\",\n",
       "    };\n",
       "\n",
       "    function maybeLoadScript(lib, version) {\n",
       "      var key = `${lib.replace(\"-\", \"\")}_version`;\n",
       "      return (VEGA_DEBUG[key] == version) ?\n",
       "        Promise.resolve(paths[lib]) :\n",
       "        new Promise(function(resolve, reject) {\n",
       "          var s = document.createElement('script');\n",
       "          document.getElementsByTagName(\"head\")[0].appendChild(s);\n",
       "          s.async = true;\n",
       "          s.onload = () => {\n",
       "            VEGA_DEBUG[key] = version;\n",
       "            return resolve(paths[lib]);\n",
       "          };\n",
       "          s.onerror = () => reject(`Error loading script: ${paths[lib]}`);\n",
       "          s.src = paths[lib];\n",
       "        });\n",
       "    }\n",
       "\n",
       "    function showError(err) {\n",
       "      outputDiv.innerHTML = `<div class=\"error\" style=\"color:red;\">${err}</div>`;\n",
       "      throw err;\n",
       "    }\n",
       "\n",
       "    function displayChart(vegaEmbed) {\n",
       "      vegaEmbed(outputDiv, spec, embedOpt)\n",
       "        .catch(err => showError(`Javascript Error: ${err.message}<br>This usually means there's a typo in your chart specification. See the javascript console for the full traceback.`));\n",
       "    }\n",
       "\n",
       "    if(typeof define === \"function\" && define.amd) {\n",
       "      requirejs.config({paths});\n",
       "      require([\"vega-embed\"], displayChart, err => showError(`Error loading script: ${err.message}`));\n",
       "    } else {\n",
       "      maybeLoadScript(\"vega\", \"5\")\n",
       "        .then(() => maybeLoadScript(\"vega-lite\", \"4.17.0\"))\n",
       "        .then(() => maybeLoadScript(\"vega-embed\", \"6\"))\n",
       "        .catch(showError)\n",
       "        .then(() => displayChart(vegaEmbed));\n",
       "    }\n",
       "  })({\"config\": {\"view\": {\"continuousWidth\": 400, \"continuousHeight\": 300, \"stroke\": null}}, \"layer\": [{\"mark\": {\"type\": \"line\", \"color\": \"red\"}, \"encoding\": {\"tooltip\": [{\"field\": \"Year\", \"type\": \"nominal\"}, {\"field\": \"Total affected\", \"type\": \"quantitative\"}], \"x\": {\"axis\": {\"labelAngle\": 0, \"values\": [\"2014\", \"2023\"]}, \"field\": \"Year\", \"title\": \"Year\", \"type\": \"nominal\"}, \"y\": {\"axis\": {\"grid\": false}, \"field\": \"Total affected\", \"title\": \"Total Affected\", \"type\": \"quantitative\"}}, \"height\": 400, \"selection\": {\"selector094\": {\"type\": \"interval\", \"bind\": \"scales\", \"encodings\": [\"x\", \"y\"]}}, \"title\": \"Europe: Total Aid Workers Affected Over Time\", \"width\": 700}, {\"mark\": {\"type\": \"point\", \"color\": \"red\", \"filled\": true, \"size\": 80}, \"encoding\": {\"tooltip\": [{\"field\": \"Year\", \"type\": \"nominal\"}, {\"field\": \"Total affected\", \"type\": \"quantitative\"}], \"x\": {\"field\": \"Year\", \"type\": \"nominal\"}, \"y\": {\"field\": \"Total affected\", \"type\": \"quantitative\"}}}], \"data\": {\"name\": \"data-68356e052ed6b3664232b6efb867ea82\"}, \"$schema\": \"https://vega.github.io/schema/vega-lite/v4.17.0.json\", \"datasets\": {\"data-68356e052ed6b3664232b6efb867ea82\": [{\"Year\": \"2014\", \"Total affected\": 2}, {\"Year\": \"2019\", \"Total affected\": 1}, {\"Year\": \"2022\", \"Total affected\": 62}, {\"Year\": \"2023\", \"Total affected\": 28}, {\"Year\": \"2024\", \"Total affected\": 32}, {\"Year\": \"2025\", \"Total affected\": 2}]}}, {\"mode\": \"vega-lite\"});\n",
       "</script>"
      ],
      "text/plain": [
       "alt.LayerChart(...)"
      ]
     },
     "execution_count": 273,
     "metadata": {},
     "output_type": "execute_result"
    }
   ],
   "source": [
    "# europe\n",
    "europe = security_incidents_clean[security_incidents_clean['Group'] == 'Europe']\n",
    "europe_grouped = europe.groupby('Year')['Total affected'].sum().reset_index()\n",
    "tick_values = europe_grouped['Year'][::3].tolist()\n",
    "\n",
    "europe_chart = (\n",
    "    alt.Chart(europe_grouped).mark_line(color='red')\n",
    "    .encode(\n",
    "        x=alt.X('Year:N', axis=alt.Axis(values=tick_values, labelAngle=0), title='Year'),\n",
    "        y=alt.Y('Total affected:Q', axis=alt.Axis(grid=False), title='Total Affected'),\n",
    "        tooltip=['Year:N', 'Total affected:Q']\n",
    "    )\n",
    "    .properties(title='Europe: Total Aid Workers Affected Over Time', width=700, height=400)\n",
    "    + alt.Chart(europe_grouped).mark_point(color='red', filled=True, size=80)\n",
    "    .encode(x='Year:N', y='Total affected:Q', tooltip=['Year:N', 'Total affected:Q'])\n",
    ").interactive().configure_view(stroke=None)\n",
    "europe_chart.save(\"../plots/europe_total_affected.html\")\n",
    "europe_chart"
   ]
  },
  {
   "cell_type": "code",
   "execution_count": 36,
   "metadata": {},
   "outputs": [
    {
     "name": "stderr",
     "output_type": "stream",
     "text": [
      "/Users/nandinikodali/miniforge3/lib/python3.10/site-packages/altair/utils/core.py:384: FutureWarning: the convert_dtype parameter is deprecated and will be removed in a future version.  Do ``ser.astype(object).apply()`` instead if you want ``convert_dtype=False``.\n",
      "  col = df[col_name].apply(to_list_if_array, convert_dtype=False)\n",
      "/Users/nandinikodali/miniforge3/lib/python3.10/site-packages/altair/utils/core.py:384: FutureWarning: the convert_dtype parameter is deprecated and will be removed in a future version.  Do ``ser.astype(object).apply()`` instead if you want ``convert_dtype=False``.\n",
      "  col = df[col_name].apply(to_list_if_array, convert_dtype=False)\n"
     ]
    },
    {
     "data": {
      "text/html": [
       "\n",
       "<div id=\"altair-viz-d9a5e77ded994371a7034ce1bfb71339\"></div>\n",
       "<script type=\"text/javascript\">\n",
       "  var VEGA_DEBUG = (typeof VEGA_DEBUG == \"undefined\") ? {} : VEGA_DEBUG;\n",
       "  (function(spec, embedOpt){\n",
       "    let outputDiv = document.currentScript.previousElementSibling;\n",
       "    if (outputDiv.id !== \"altair-viz-d9a5e77ded994371a7034ce1bfb71339\") {\n",
       "      outputDiv = document.getElementById(\"altair-viz-d9a5e77ded994371a7034ce1bfb71339\");\n",
       "    }\n",
       "    const paths = {\n",
       "      \"vega\": \"https://cdn.jsdelivr.net/npm//vega@5?noext\",\n",
       "      \"vega-lib\": \"https://cdn.jsdelivr.net/npm//vega-lib?noext\",\n",
       "      \"vega-lite\": \"https://cdn.jsdelivr.net/npm//vega-lite@4.17.0?noext\",\n",
       "      \"vega-embed\": \"https://cdn.jsdelivr.net/npm//vega-embed@6?noext\",\n",
       "    };\n",
       "\n",
       "    function maybeLoadScript(lib, version) {\n",
       "      var key = `${lib.replace(\"-\", \"\")}_version`;\n",
       "      return (VEGA_DEBUG[key] == version) ?\n",
       "        Promise.resolve(paths[lib]) :\n",
       "        new Promise(function(resolve, reject) {\n",
       "          var s = document.createElement('script');\n",
       "          document.getElementsByTagName(\"head\")[0].appendChild(s);\n",
       "          s.async = true;\n",
       "          s.onload = () => {\n",
       "            VEGA_DEBUG[key] = version;\n",
       "            return resolve(paths[lib]);\n",
       "          };\n",
       "          s.onerror = () => reject(`Error loading script: ${paths[lib]}`);\n",
       "          s.src = paths[lib];\n",
       "        });\n",
       "    }\n",
       "\n",
       "    function showError(err) {\n",
       "      outputDiv.innerHTML = `<div class=\"error\" style=\"color:red;\">${err}</div>`;\n",
       "      throw err;\n",
       "    }\n",
       "\n",
       "    function displayChart(vegaEmbed) {\n",
       "      vegaEmbed(outputDiv, spec, embedOpt)\n",
       "        .catch(err => showError(`Javascript Error: ${err.message}<br>This usually means there's a typo in your chart specification. See the javascript console for the full traceback.`));\n",
       "    }\n",
       "\n",
       "    if(typeof define === \"function\" && define.amd) {\n",
       "      requirejs.config({paths});\n",
       "      require([\"vega-embed\"], displayChart, err => showError(`Error loading script: ${err.message}`));\n",
       "    } else {\n",
       "      maybeLoadScript(\"vega\", \"5\")\n",
       "        .then(() => maybeLoadScript(\"vega-lite\", \"4.17.0\"))\n",
       "        .then(() => maybeLoadScript(\"vega-embed\", \"6\"))\n",
       "        .catch(showError)\n",
       "        .then(() => displayChart(vegaEmbed));\n",
       "    }\n",
       "  })({\"config\": {\"view\": {\"continuousWidth\": 400, \"continuousHeight\": 300, \"stroke\": null}}, \"layer\": [{\"mark\": {\"type\": \"line\", \"color\": \"red\"}, \"encoding\": {\"tooltip\": [{\"field\": \"Year\", \"type\": \"nominal\"}, {\"field\": \"Total affected\", \"type\": \"quantitative\"}], \"x\": {\"axis\": {\"labelAngle\": 0, \"values\": [\"2001\", \"2018\", \"2022\"]}, \"field\": \"Year\", \"title\": \"Year\", \"type\": \"nominal\"}, \"y\": {\"axis\": {\"grid\": false}, \"field\": \"Total affected\", \"title\": \"Total Affected\", \"type\": \"quantitative\"}}, \"height\": 400, \"selection\": {\"selector030\": {\"type\": \"interval\", \"bind\": \"scales\", \"encodings\": [\"x\", \"y\"]}}, \"title\": \"Oceania: Total Aid Workers Affected Over Time\", \"width\": 700}, {\"mark\": {\"type\": \"point\", \"color\": \"red\", \"filled\": true, \"size\": 80}, \"encoding\": {\"tooltip\": [{\"field\": \"Year\", \"type\": \"nominal\"}, {\"field\": \"Total affected\", \"type\": \"quantitative\"}], \"x\": {\"field\": \"Year\", \"type\": \"nominal\"}, \"y\": {\"field\": \"Total affected\", \"type\": \"quantitative\"}}}], \"data\": {\"name\": \"data-cd901c995d04cc06404ca58f997de395\"}, \"$schema\": \"https://vega.github.io/schema/vega-lite/v4.17.0.json\", \"datasets\": {\"data-cd901c995d04cc06404ca58f997de395\": [{\"Year\": \"2001\", \"Total affected\": 1}, {\"Year\": \"2007\", \"Total affected\": 5}, {\"Year\": \"2011\", \"Total affected\": 1}, {\"Year\": \"2018\", \"Total affected\": 2}, {\"Year\": \"2019\", \"Total affected\": 1}, {\"Year\": \"2020\", \"Total affected\": 2}, {\"Year\": \"2022\", \"Total affected\": 2}]}}, {\"mode\": \"vega-lite\"});\n",
       "</script>"
      ],
      "text/plain": [
       "alt.LayerChart(...)"
      ]
     },
     "execution_count": 36,
     "metadata": {},
     "output_type": "execute_result"
    }
   ],
   "source": [
    "# Oceania\n",
    "europe = security_incidents_clean[security_incidents_clean['Group'] == 'Oceania']\n",
    "europe_grouped = europe.groupby('Year')['Total affected'].sum().reset_index()\n",
    "tick_values = europe_grouped['Year'][::3].tolist()\n",
    "\n",
    "europe_chart = (\n",
    "    alt.Chart(europe_grouped).mark_line(color='red')\n",
    "    .encode(\n",
    "        x=alt.X('Year:N', axis=alt.Axis(values=tick_values, labelAngle=0), title='Year'),\n",
    "        y=alt.Y('Total affected:Q', axis=alt.Axis(grid=False), title='Total Affected'),\n",
    "        tooltip=['Year:N', 'Total affected:Q']\n",
    "    )\n",
    "    .properties(title='Oceania: Total Aid Workers Affected Over Time', width=700, height=400)\n",
    "    + alt.Chart(europe_grouped).mark_point(color='red', filled=True, size=80)\n",
    "    .encode(x='Year:N', y='Total affected:Q', tooltip=['Year:N', 'Total affected:Q'])\n",
    ").interactive().configure_view(stroke=None)\n",
    "europe_chart.save(\"../plots/oceania_total_affected.html\")\n",
    "europe_chart"
   ]
  },
  {
   "cell_type": "markdown",
   "metadata": {},
   "source": [
    "# World map with total affected"
   ]
  },
  {
   "cell_type": "code",
   "execution_count": 40,
   "metadata": {},
   "outputs": [],
   "source": [
    "from pycountry_convert import country_alpha2_to_continent_code, country_name_to_country_alpha2\n",
    "import pandas as pd\n",
    "\n",
    "# Function to get country code and continent\n",
    "def get_continent(col):\n",
    "    try:\n",
    "        cn_a2_code = country_name_to_country_alpha2(col)\n",
    "        cn_continent = country_alpha2_to_continent_code(cn_a2_code)\n",
    "        return pd.Series([cn_a2_code, cn_continent])\n",
    "    except:\n",
    "        return pd.Series([None, None])\n"
   ]
  },
  {
   "cell_type": "code",
   "execution_count": 221,
   "metadata": {},
   "outputs": [
    {
     "data": {
      "application/vnd.plotly.v1+json": {
       "config": {
        "plotlyServerURL": "https://plot.ly"
       },
       "data": [
        {
         "customdata": [
          [
           "1997",
           1
          ],
          [
           "1997",
           3
          ],
          [
           "1997",
           1
          ],
          [
           "1997",
           1
          ],
          [
           "1997",
           15
          ],
          [
           "1997",
           3
          ],
          [
           "1997",
           10
          ],
          [
           "1997",
           2
          ],
          [
           "1997",
           10
          ],
          [
           "1997",
           3
          ],
          [
           "1997",
           15
          ],
          [
           "1997",
           1
          ],
          [
           "1997",
           8
          ]
         ],
         "geo": "geo",
         "hovertemplate": "<b>%{hovertext}</b><br><br>Year=%{customdata[0]}<br>TotalAffected=%{customdata[1]}<br>Country=%{location}<extra></extra>",
         "hovertext": [
          "Afghanistan",
          "Angola",
          "Bangladesh",
          "Cambodia",
          "Chechnya",
          "Congo",
          "DR Congo",
          "Ethiopia",
          "Rwanda",
          "Sierra Leone",
          "Somalia",
          "South Sudan",
          "Tajikistan"
         ],
         "legendgroup": "",
         "locationmode": "country names",
         "locations": [
          "Afghanistan",
          "Angola",
          "Bangladesh",
          "Cambodia",
          "Chechnya",
          "Congo",
          "DR Congo",
          "Ethiopia",
          "Rwanda",
          "Sierra Leone",
          "Somalia",
          "South Sudan",
          "Tajikistan"
         ],
         "marker": {
          "color": "red",
          "opacity": 0.5,
          "size": {
           "bdata": "AQMBAQ8DCgIKAw8BCA==",
           "dtype": "i1"
          },
          "sizemode": "area",
          "sizeref": 0.106,
          "symbol": "circle"
         },
         "mode": "markers",
         "name": "",
         "showlegend": false,
         "type": "scattergeo"
        }
       ],
       "frames": [
        {
         "data": [
          {
           "customdata": [
            [
             "1997",
             1
            ],
            [
             "1997",
             3
            ],
            [
             "1997",
             1
            ],
            [
             "1997",
             1
            ],
            [
             "1997",
             15
            ],
            [
             "1997",
             3
            ],
            [
             "1997",
             10
            ],
            [
             "1997",
             2
            ],
            [
             "1997",
             10
            ],
            [
             "1997",
             3
            ],
            [
             "1997",
             15
            ],
            [
             "1997",
             1
            ],
            [
             "1997",
             8
            ]
           ],
           "geo": "geo",
           "hovertemplate": "<b>%{hovertext}</b><br><br>Year=%{customdata[0]}<br>TotalAffected=%{customdata[1]}<br>Country=%{location}<extra></extra>",
           "hovertext": [
            "Afghanistan",
            "Angola",
            "Bangladesh",
            "Cambodia",
            "Chechnya",
            "Congo",
            "DR Congo",
            "Ethiopia",
            "Rwanda",
            "Sierra Leone",
            "Somalia",
            "South Sudan",
            "Tajikistan"
           ],
           "legendgroup": "",
           "locationmode": "country names",
           "locations": [
            "Afghanistan",
            "Angola",
            "Bangladesh",
            "Cambodia",
            "Chechnya",
            "Congo",
            "DR Congo",
            "Ethiopia",
            "Rwanda",
            "Sierra Leone",
            "Somalia",
            "South Sudan",
            "Tajikistan"
           ],
           "marker": {
            "color": "red",
            "opacity": 0.5,
            "size": {
             "bdata": "AQMBAQ8DCgIKAw8BCA==",
             "dtype": "i1"
            },
            "sizemode": "area",
            "sizeref": 0.106,
            "symbol": "circle"
           },
           "mode": "markers",
           "name": "",
           "showlegend": false,
           "type": "scattergeo"
          }
         ],
         "name": "1997"
        },
        {
         "data": [
          {
           "customdata": [
            [
             "1998",
             3
            ],
            [
             "1998",
             5
            ],
            [
             "1998",
             6
            ],
            [
             "1998",
             2
            ],
            [
             "1998",
             1
            ],
            [
             "1998",
             6
            ],
            [
             "1998",
             7
            ],
            [
             "1998",
             3
            ],
            [
             "1998",
             1
            ],
            [
             "1998",
             18
            ],
            [
             "1998",
             1
            ],
            [
             "1998",
             7
            ],
            [
             "1998",
             2
            ]
           ],
           "geo": "geo",
           "hovertemplate": "<b>%{hovertext}</b><br><br>Year=%{customdata[0]}<br>TotalAffected=%{customdata[1]}<br>Country=%{location}<extra></extra>",
           "hovertext": [
            "Afghanistan",
            "Angola",
            "Burundi",
            "Chechnya",
            "DR Congo",
            "Ethiopia",
            "Kosovo",
            "Rwanda",
            "Sierra Leone",
            "Somalia",
            "Sri Lanka",
            "Sudan",
            "Uganda"
           ],
           "legendgroup": "",
           "locationmode": "country names",
           "locations": [
            "Afghanistan",
            "Angola",
            "Burundi",
            "Chechnya",
            "DR Congo",
            "Ethiopia",
            "Kosovo",
            "Rwanda",
            "Sierra Leone",
            "Somalia",
            "Sri Lanka",
            "Sudan",
            "Uganda"
           ],
           "marker": {
            "color": "red",
            "opacity": 0.5,
            "size": {
             "bdata": "AwUGAgEGBwMBEgEHAg==",
             "dtype": "i1"
            },
            "sizemode": "area",
            "sizeref": 0.106,
            "symbol": "circle"
           },
           "mode": "markers",
           "name": "",
           "showlegend": false,
           "type": "scattergeo"
          }
         ],
         "layout": {
          "annotations": [
           {
            "bgcolor": "rgba(255, 255, 255, 0.7)",
            "bordercolor": "black",
            "borderwidth": 1,
            "font": {
             "color": "black",
             "family": "Courier New, monospace",
             "size": 16
            },
            "showarrow": false,
            "text": "Second Congo War",
            "x": 0.5,
            "xref": "paper",
            "y": 0.95,
            "yref": "paper"
           }
          ]
         },
         "name": "1998"
        },
        {
         "data": [
          {
           "customdata": [
            [
             "1999",
             1
            ],
            [
             "1999",
             13
            ],
            [
             "1999",
             5
            ],
            [
             "1999",
             4
            ],
            [
             "1999",
             1
            ],
            [
             "1999",
             1
            ],
            [
             "1999",
             7
            ],
            [
             "1999",
             1
            ],
            [
             "1999",
             6
            ],
            [
             "1999",
             3
            ],
            [
             "1999",
             10
            ],
            [
             "1999",
             9
            ],
            [
             "1999",
             1
            ],
            [
             "1999",
             4
            ]
           ],
           "geo": "geo",
           "hovertemplate": "<b>%{hovertext}</b><br><br>Year=%{customdata[0]}<br>TotalAffected=%{customdata[1]}<br>Country=%{location}<extra></extra>",
           "hovertext": [
            "Afghanistan",
            "Angola",
            "Burundi",
            "Chechnya",
            "Colombia",
            "Ethiopia",
            "Indonesia",
            "Kenya",
            "Liberia",
            "Sierra Leone",
            "Somalia",
            "Sudan",
            "Tajikistan",
            "Yemen"
           ],
           "legendgroup": "",
           "locationmode": "country names",
           "locations": [
            "Afghanistan",
            "Angola",
            "Burundi",
            "Chechnya",
            "Colombia",
            "Ethiopia",
            "Indonesia",
            "Kenya",
            "Liberia",
            "Sierra Leone",
            "Somalia",
            "Sudan",
            "Tajikistan",
            "Yemen"
           ],
           "marker": {
            "color": "red",
            "opacity": 0.5,
            "size": {
             "bdata": "AQ0FBAEBBwEGAwoJAQQ=",
             "dtype": "i1"
            },
            "sizemode": "area",
            "sizeref": 0.106,
            "symbol": "circle"
           },
           "mode": "markers",
           "name": "",
           "showlegend": false,
           "type": "scattergeo"
          }
         ],
         "layout": {
          "annotations": [
           {
            "bgcolor": "rgba(255, 255, 255, 0.7)",
            "bordercolor": "black",
            "borderwidth": 1,
            "font": {
             "color": "black",
             "family": "Courier New, monospace",
             "size": 16
            },
            "showarrow": false,
            "text": "Second Congo War",
            "x": 0.5,
            "xref": "paper",
            "y": 0.95,
            "yref": "paper"
           }
          ]
         },
         "name": "1999"
        },
        {
         "data": [
          {
           "customdata": [
            [
             "2000",
             9
            ],
            [
             "2000",
             7
            ],
            [
             "2000",
             1
            ],
            [
             "2000",
             1
            ],
            [
             "2000",
             6
            ],
            [
             "2000",
             2
            ],
            [
             "2000",
             3
            ],
            [
             "2000",
             4
            ],
            [
             "2000",
             10
            ],
            [
             "2000",
             8
            ],
            [
             "2000",
             1
            ],
            [
             "2000",
             1
            ],
            [
             "2000",
             1
            ],
            [
             "2000",
             1
            ],
            [
             "2000",
             1
            ],
            [
             "2000",
             16
            ],
            [
             "2000",
             15
            ]
           ],
           "geo": "geo",
           "hovertemplate": "<b>%{hovertext}</b><br><br>Year=%{customdata[0]}<br>TotalAffected=%{customdata[1]}<br>Country=%{location}<extra></extra>",
           "hovertext": [
            "Afghanistan",
            "Angola",
            "Burundi",
            "Colombia",
            "DR Congo",
            "Ethiopia",
            "Georgia",
            "Guinea",
            "Indonesia",
            "Iraq",
            "Kenya",
            "Kosovo",
            "Mozambique",
            "Rwanda",
            "Sierra Leone",
            "Somalia",
            "Sudan"
           ],
           "legendgroup": "",
           "locationmode": "country names",
           "locations": [
            "Afghanistan",
            "Angola",
            "Burundi",
            "Colombia",
            "DR Congo",
            "Ethiopia",
            "Georgia",
            "Guinea",
            "Indonesia",
            "Iraq",
            "Kenya",
            "Kosovo",
            "Mozambique",
            "Rwanda",
            "Sierra Leone",
            "Somalia",
            "Sudan"
           ],
           "marker": {
            "color": "red",
            "opacity": 0.5,
            "size": {
             "bdata": "CQcBAQYCAwQKCAEBAQEBEA8=",
             "dtype": "i1"
            },
            "sizemode": "area",
            "sizeref": 0.106,
            "symbol": "circle"
           },
           "mode": "markers",
           "name": "",
           "showlegend": false,
           "type": "scattergeo"
          }
         ],
         "name": "2000"
        },
        {
         "data": [
          {
           "customdata": [
            [
             "2001",
             6
            ],
            [
             "2001",
             3
            ],
            [
             "2001",
             15
            ],
            [
             "2001",
             1
            ],
            [
             "2001",
             1
            ],
            [
             "2001",
             4
            ],
            [
             "2001",
             10
            ],
            [
             "2001",
             1
            ],
            [
             "2001",
             1
            ],
            [
             "2001",
             2
            ],
            [
             "2001",
             1
            ],
            [
             "2001",
             1
            ],
            [
             "2001",
             19
            ],
            [
             "2001",
             6
            ],
            [
             "2001",
             15
            ]
           ],
           "geo": "geo",
           "hovertemplate": "<b>%{hovertext}</b><br><br>Year=%{customdata[0]}<br>TotalAffected=%{customdata[1]}<br>Country=%{location}<extra></extra>",
           "hovertext": [
            "Afghanistan",
            "Angola",
            "Burundi",
            "Cameroon",
            "Central African Republic",
            "Chechnya",
            "DR Congo",
            "Fiji",
            "Indonesia",
            "Kosovo",
            "Madagascar",
            "Pakistan",
            "Somalia",
            "Sudan",
            "Tajikistan"
           ],
           "legendgroup": "",
           "locationmode": "country names",
           "locations": [
            "Afghanistan",
            "Angola",
            "Burundi",
            "Cameroon",
            "Central African Republic",
            "Chechnya",
            "DR Congo",
            "Fiji",
            "Indonesia",
            "Kosovo",
            "Madagascar",
            "Pakistan",
            "Somalia",
            "Sudan",
            "Tajikistan"
           ],
           "marker": {
            "color": "red",
            "opacity": 0.5,
            "size": {
             "bdata": "BgMPAQEECgEBAgEBEwYP",
             "dtype": "i1"
            },
            "sizemode": "area",
            "sizeref": 0.106,
            "symbol": "circle"
           },
           "mode": "markers",
           "name": "",
           "showlegend": false,
           "type": "scattergeo"
          }
         ],
         "layout": {
          "annotations": [
           {
            "bgcolor": "rgba(255, 255, 255, 0.7)",
            "bordercolor": "black",
            "borderwidth": 1,
            "font": {
             "color": "black",
             "family": "Courier New, monospace",
             "size": 16
            },
            "showarrow": false,
            "text": "Invasion of Afghanistan",
            "x": 0.5,
            "xref": "paper",
            "y": 0.95,
            "yref": "paper"
           }
          ]
         },
         "name": "2001"
        },
        {
         "data": [
          {
           "customdata": [
            [
             "2002",
             8
            ],
            [
             "2002",
             14
            ],
            [
             "2002",
             3
            ],
            [
             "2002",
             11
            ],
            [
             "2002",
             4
            ],
            [
             "2002",
             2
            ],
            [
             "2002",
             4
            ],
            [
             "2002",
             1
            ],
            [
             "2002",
             2
            ],
            [
             "2002",
             1
            ],
            [
             "2002",
             10
            ],
            [
             "2002",
             8
            ],
            [
             "2002",
             1
            ],
            [
             "2002",
             4
            ],
            [
             "2002",
             2
            ],
            [
             "2002",
             7
            ],
            [
             "2002",
             3
            ]
           ],
           "geo": "geo",
           "hovertemplate": "<b>%{hovertext}</b><br><br>Year=%{customdata[0]}<br>TotalAffected=%{customdata[1]}<br>Country=%{location}<extra></extra>",
           "hovertext": [
            "Afghanistan",
            "Angola",
            "Burundi",
            "Chechnya",
            "Colombia",
            "Congo",
            "DR Congo",
            "Iraq",
            "Jordan",
            "Liberia",
            "Occupied Palestinian Territories",
            "Somalia",
            "South Africa",
            "South Sudan",
            "Sudan",
            "Uganda",
            "Yemen"
           ],
           "legendgroup": "",
           "locationmode": "country names",
           "locations": [
            "Afghanistan",
            "Angola",
            "Burundi",
            "Chechnya",
            "Colombia",
            "Congo",
            "DR Congo",
            "Iraq",
            "Jordan",
            "Liberia",
            "Occupied Palestinian Territories",
            "Somalia",
            "South Africa",
            "South Sudan",
            "Sudan",
            "Uganda",
            "Yemen"
           ],
           "marker": {
            "color": "red",
            "opacity": 0.5,
            "size": {
             "bdata": "CA4DCwQCBAECAQoIAQQCBwM=",
             "dtype": "i1"
            },
            "sizemode": "area",
            "sizeref": 0.106,
            "symbol": "circle"
           },
           "mode": "markers",
           "name": "",
           "showlegend": false,
           "type": "scattergeo"
          }
         ],
         "layout": {
          "annotations": [
           {
            "bgcolor": "rgba(255, 255, 255, 0.7)",
            "bordercolor": "black",
            "borderwidth": 1,
            "font": {
             "color": "black",
             "family": "Courier New, monospace",
             "size": 16
            },
            "showarrow": false,
            "text": "Invasion of Afghanistan",
            "x": 0.5,
            "xref": "paper",
            "y": 0.95,
            "yref": "paper"
           }
          ]
         },
         "name": "2002"
        },
        {
         "data": [
          {
           "customdata": [
            [
             "2003",
             22
            ],
            [
             "2003",
             7
            ],
            [
             "2003",
             4
            ],
            [
             "2003",
             4
            ],
            [
             "2003",
             5
            ],
            [
             "2003",
             10
            ],
            [
             "2003",
             3
            ],
            [
             "2003",
             49
            ],
            [
             "2003",
             1
            ],
            [
             "2003",
             1
            ],
            [
             "2003",
             7
            ],
            [
             "2003",
             3
            ],
            [
             "2003",
             1
            ],
            [
             "2003",
             2
            ],
            [
             "2003",
             8
            ],
            [
             "2003",
             1
            ],
            [
             "2003",
             1
            ],
            [
             "2003",
             11
            ],
            [
             "2003",
             2
            ]
           ],
           "geo": "geo",
           "hovertemplate": "<b>%{hovertext}</b><br><br>Year=%{customdata[0]}<br>TotalAffected=%{customdata[1]}<br>Country=%{location}<extra></extra>",
           "hovertext": [
            "Afghanistan",
            "Angola",
            "Burundi",
            "Chechnya",
            "Cote D'Ivoire",
            "DR Congo",
            "Eritrea",
            "Iraq",
            "Kashmir",
            "Kenya",
            "Liberia",
            "Occupied Palestinian Territories",
            "Philippines",
            "Senegal",
            "Somalia",
            "South Africa",
            "South Sudan",
            "Sudan",
            "Uganda"
           ],
           "legendgroup": "",
           "locationmode": "country names",
           "locations": [
            "Afghanistan",
            "Angola",
            "Burundi",
            "Chechnya",
            "Cote D'Ivoire",
            "DR Congo",
            "Eritrea",
            "Iraq",
            "Kashmir",
            "Kenya",
            "Liberia",
            "Occupied Palestinian Territories",
            "Philippines",
            "Senegal",
            "Somalia",
            "South Africa",
            "South Sudan",
            "Sudan",
            "Uganda"
           ],
           "marker": {
            "color": "red",
            "opacity": 0.5,
            "size": {
             "bdata": "FgcEBAUKAzEBAQcDAQIIAQELAg==",
             "dtype": "i1"
            },
            "sizemode": "area",
            "sizeref": 0.106,
            "symbol": "circle"
           },
           "mode": "markers",
           "name": "",
           "showlegend": false,
           "type": "scattergeo"
          }
         ],
         "layout": {
          "annotations": [
           {
            "bgcolor": "rgba(255, 255, 255, 0.7)",
            "bordercolor": "black",
            "borderwidth": 1,
            "font": {
             "color": "black",
             "family": "Courier New, monospace",
             "size": 16
            },
            "showarrow": false,
            "text": "Invasion of Iraq",
            "x": 0.5,
            "xref": "paper",
            "y": 0.95,
            "yref": "paper"
           }
          ]
         },
         "name": "2003"
        },
        {
         "data": [
          {
           "customdata": [
            [
             "2004",
             40
            ],
            [
             "2004",
             2
            ],
            [
             "2004",
             2
            ],
            [
             "2004",
             1
            ],
            [
             "2004",
             6
            ],
            [
             "2004",
             1
            ],
            [
             "2004",
             32
            ],
            [
             "2004",
             3
            ],
            [
             "2004",
             3
            ],
            [
             "2004",
             2
            ],
            [
             "2004",
             2
            ],
            [
             "2004",
             7
            ],
            [
             "2004",
             23
            ],
            [
             "2004",
             3
            ]
           ],
           "geo": "geo",
           "hovertemplate": "<b>%{hovertext}</b><br><br>Year=%{customdata[0]}<br>TotalAffected=%{customdata[1]}<br>Country=%{location}<extra></extra>",
           "hovertext": [
            "Afghanistan",
            "Chechnya",
            "Colombia",
            "Cote D'Ivoire",
            "DR Congo",
            "Haiti",
            "Iraq",
            "Kenya",
            "Nigeria",
            "Occupied Palestinian Territories",
            "Pakistan",
            "Somalia",
            "Sudan",
            "Uganda"
           ],
           "legendgroup": "",
           "locationmode": "country names",
           "locations": [
            "Afghanistan",
            "Chechnya",
            "Colombia",
            "Cote D'Ivoire",
            "DR Congo",
            "Haiti",
            "Iraq",
            "Kenya",
            "Nigeria",
            "Occupied Palestinian Territories",
            "Pakistan",
            "Somalia",
            "Sudan",
            "Uganda"
           ],
           "marker": {
            "color": "red",
            "opacity": 0.5,
            "size": {
             "bdata": "KAICAQYBIAMDAgIHFwM=",
             "dtype": "i1"
            },
            "sizemode": "area",
            "sizeref": 0.106,
            "symbol": "circle"
           },
           "mode": "markers",
           "name": "",
           "showlegend": false,
           "type": "scattergeo"
          }
         ],
         "layout": {
          "annotations": [
           {
            "bgcolor": "rgba(255, 255, 255, 0.7)",
            "bordercolor": "black",
            "borderwidth": 1,
            "font": {
             "color": "black",
             "family": "Courier New, monospace",
             "size": 16
            },
            "showarrow": false,
            "text": "Invasion of Iraq",
            "x": 0.5,
            "xref": "paper",
            "y": 0.95,
            "yref": "paper"
           }
          ]
         },
         "name": "2004"
        },
        {
         "data": [
          {
           "customdata": [
            [
             "2005",
             35
            ],
            [
             "2005",
             7
            ],
            [
             "2005",
             1
            ],
            [
             "2005",
             2
            ],
            [
             "2005",
             7
            ],
            [
             "2005",
             1
            ],
            [
             "2005",
             1
            ],
            [
             "2005",
             2
            ],
            [
             "2005",
             9
            ],
            [
             "2005",
             3
            ],
            [
             "2005",
             1
            ],
            [
             "2005",
             3
            ],
            [
             "2005",
             2
            ],
            [
             "2005",
             1
            ],
            [
             "2005",
             12
            ],
            [
             "2005",
             3
            ],
            [
             "2005",
             73
            ],
            [
             "2005",
             8
            ],
            [
             "2005",
             1
            ]
           ],
           "geo": "geo",
           "hovertemplate": "<b>%{hovertext}</b><br><br>Year=%{customdata[0]}<br>TotalAffected=%{customdata[1]}<br>Country=%{location}<extra></extra>",
           "hovertext": [
            "Afghanistan",
            "Chad",
            "Chechnya",
            "Colombia",
            "DR Congo",
            "Guyana",
            "Haiti",
            "Indonesia",
            "Iraq",
            "Kenya",
            "Madagascar",
            "Malawi",
            "Nepal",
            "Occupied Palestinian Territories",
            "Somalia",
            "South Sudan",
            "Sudan",
            "Uganda",
            "Zimbabwe"
           ],
           "legendgroup": "",
           "locationmode": "country names",
           "locations": [
            "Afghanistan",
            "Chad",
            "Chechnya",
            "Colombia",
            "DR Congo",
            "Guyana",
            "Haiti",
            "Indonesia",
            "Iraq",
            "Kenya",
            "Madagascar",
            "Malawi",
            "Nepal",
            "Occupied Palestinian Territories",
            "Somalia",
            "South Sudan",
            "Sudan",
            "Uganda",
            "Zimbabwe"
           ],
           "marker": {
            "color": "red",
            "opacity": 0.5,
            "size": {
             "bdata": "IwcBAgcBAQIJAwEDAgEMA0kIAQ==",
             "dtype": "i1"
            },
            "sizemode": "area",
            "sizeref": 0.106,
            "symbol": "circle"
           },
           "mode": "markers",
           "name": "",
           "showlegend": false,
           "type": "scattergeo"
          }
         ],
         "name": "2005"
        },
        {
         "data": [
          {
           "customdata": [
            [
             "2006",
             55
            ],
            [
             "2006",
             3
            ],
            [
             "2006",
             5
            ],
            [
             "2006",
             2
            ],
            [
             "2006",
             7
            ],
            [
             "2006",
             1
            ],
            [
             "2006",
             2
            ],
            [
             "2006",
             2
            ],
            [
             "2006",
             1
            ],
            [
             "2006",
             4
            ],
            [
             "2006",
             1
            ],
            [
             "2006",
             18
            ],
            [
             "2006",
             1
            ],
            [
             "2006",
             1
            ],
            [
             "2006",
             6
            ],
            [
             "2006",
             4
            ],
            [
             "2006",
             14
            ],
            [
             "2006",
             1
            ],
            [
             "2006",
             25
            ],
            [
             "2006",
             87
            ]
           ],
           "geo": "geo",
           "hovertemplate": "<b>%{hovertext}</b><br><br>Year=%{customdata[0]}<br>TotalAffected=%{customdata[1]}<br>Country=%{location}<extra></extra>",
           "hovertext": [
            "Afghanistan",
            "Central African Republic",
            "Chad",
            "Colombia",
            "DR Congo",
            "El Salvador",
            "Eritrea",
            "Ethiopia",
            "Guatemala",
            "Haiti",
            "India",
            "Iraq",
            "Lesotho",
            "Malawi",
            "Occupied Palestinian Territories",
            "Senegal",
            "Somalia",
            "South Africa",
            "Sri Lanka",
            "Sudan"
           ],
           "legendgroup": "",
           "locationmode": "country names",
           "locations": [
            "Afghanistan",
            "Central African Republic",
            "Chad",
            "Colombia",
            "DR Congo",
            "El Salvador",
            "Eritrea",
            "Ethiopia",
            "Guatemala",
            "Haiti",
            "India",
            "Iraq",
            "Lesotho",
            "Malawi",
            "Occupied Palestinian Territories",
            "Senegal",
            "Somalia",
            "South Africa",
            "Sri Lanka",
            "Sudan"
           ],
           "marker": {
            "color": "red",
            "opacity": 0.5,
            "size": {
             "bdata": "NwMFAgcBAgIBBAESAQEGBA4BGVc=",
             "dtype": "i1"
            },
            "sizemode": "area",
            "sizeref": 0.106,
            "symbol": "circle"
           },
           "mode": "markers",
           "name": "",
           "showlegend": false,
           "type": "scattergeo"
          }
         ],
         "name": "2006"
        },
        {
         "data": [
          {
           "customdata": [
            [
             "2007",
             48
            ],
            [
             "2007",
             11
            ],
            [
             "2007",
             2
            ],
            [
             "2007",
             2
            ],
            [
             "2007",
             3
            ],
            [
             "2007",
             10
            ],
            [
             "2007",
             3
            ],
            [
             "2007",
             2
            ],
            [
             "2007",
             3
            ],
            [
             "2007",
             7
            ],
            [
             "2007",
             1
            ],
            [
             "2007",
             2
            ],
            [
             "2007",
             2
            ],
            [
             "2007",
             3
            ],
            [
             "2007",
             4
            ],
            [
             "2007",
             20
            ],
            [
             "2007",
             2
            ],
            [
             "2007",
             20
            ],
            [
             "2007",
             25
            ],
            [
             "2007",
             37
            ],
            [
             "2007",
             1
            ],
            [
             "2007",
             5
            ],
            [
             "2007",
             5
            ],
            [
             "2007",
             1
            ],
            [
             "2007",
             2
            ]
           ],
           "geo": "geo",
           "hovertemplate": "<b>%{hovertext}</b><br><br>Year=%{customdata[0]}<br>TotalAffected=%{customdata[1]}<br>Country=%{location}<extra></extra>",
           "hovertext": [
            "Afghanistan",
            "Algeria",
            "Bangladesh",
            "Burundi",
            "Central African Republic",
            "Chad",
            "Fiji",
            "Haiti",
            "Indonesia",
            "Iraq",
            "Kenya",
            "Lebanon",
            "Malawi",
            "Mali",
            "Occupied Palestinian Territories",
            "Pakistan",
            "Papua New Guinea",
            "Somalia",
            "Sri Lanka",
            "Sudan",
            "Tanzania",
            "Thailand",
            "Uganda",
            "Vietnam",
            "Yemen"
           ],
           "legendgroup": "",
           "locationmode": "country names",
           "locations": [
            "Afghanistan",
            "Algeria",
            "Bangladesh",
            "Burundi",
            "Central African Republic",
            "Chad",
            "Fiji",
            "Haiti",
            "Indonesia",
            "Iraq",
            "Kenya",
            "Lebanon",
            "Malawi",
            "Mali",
            "Occupied Palestinian Territories",
            "Pakistan",
            "Papua New Guinea",
            "Somalia",
            "Sri Lanka",
            "Sudan",
            "Tanzania",
            "Thailand",
            "Uganda",
            "Vietnam",
            "Yemen"
           ],
           "marker": {
            "color": "red",
            "opacity": 0.5,
            "size": {
             "bdata": "MAsCAgMKAwIDBwECAgMEFAIUGSUBBQUBAg==",
             "dtype": "i1"
            },
            "sizemode": "area",
            "sizeref": 0.106,
            "symbol": "circle"
           },
           "mode": "markers",
           "name": "",
           "showlegend": false,
           "type": "scattergeo"
          }
         ],
         "name": "2007"
        },
        {
         "data": [
          {
           "customdata": [
            [
             "2008",
             63
            ],
            [
             "2008",
             3
            ],
            [
             "2008",
             1
            ],
            [
             "2008",
             10
            ],
            [
             "2008",
             9
            ],
            [
             "2008",
             1
            ],
            [
             "2008",
             4
            ],
            [
             "2008",
             3
            ],
            [
             "2008",
             4
            ],
            [
             "2008",
             2
            ],
            [
             "2008",
             2
            ],
            [
             "2008",
             3
            ],
            [
             "2008",
             1
            ],
            [
             "2008",
             1
            ],
            [
             "2008",
             2
            ],
            [
             "2008",
             28
            ],
            [
             "2008",
             3
            ],
            [
             "2008",
             1
            ],
            [
             "2008",
             86
            ],
            [
             "2008",
             7
            ],
            [
             "2008",
             42
            ],
            [
             "2008",
             1
            ],
            [
             "2008",
             1
            ]
           ],
           "geo": "geo",
           "hovertemplate": "<b>%{hovertext}</b><br><br>Year=%{customdata[0]}<br>TotalAffected=%{customdata[1]}<br>Country=%{location}<extra></extra>",
           "hovertext": [
            "Afghanistan",
            "Burundi",
            "Cameroon",
            "Chad",
            "DR Congo",
            "El Salvador",
            "Ethiopia",
            "Haiti",
            "Indonesia",
            "Kenya",
            "Malawi",
            "Mozambique",
            "Nepal",
            "Nicaragua",
            "Occupied Palestinian Territories",
            "Pakistan",
            "Philippines",
            "Sierra Leone",
            "Somalia",
            "Sri Lanka",
            "Sudan",
            "Tanzania",
            "Yemen"
           ],
           "legendgroup": "",
           "locationmode": "country names",
           "locations": [
            "Afghanistan",
            "Burundi",
            "Cameroon",
            "Chad",
            "DR Congo",
            "El Salvador",
            "Ethiopia",
            "Haiti",
            "Indonesia",
            "Kenya",
            "Malawi",
            "Mozambique",
            "Nepal",
            "Nicaragua",
            "Occupied Palestinian Territories",
            "Pakistan",
            "Philippines",
            "Sierra Leone",
            "Somalia",
            "Sri Lanka",
            "Sudan",
            "Tanzania",
            "Yemen"
           ],
           "marker": {
            "color": "red",
            "opacity": 0.5,
            "size": {
             "bdata": "PwMBCgkBBAMEAgIDAQECHAMBVgcqAQE=",
             "dtype": "i1"
            },
            "sizemode": "area",
            "sizeref": 0.106,
            "symbol": "circle"
           },
           "mode": "markers",
           "name": "",
           "showlegend": false,
           "type": "scattergeo"
          }
         ],
         "name": "2008"
        },
        {
         "data": [
          {
           "customdata": [
            [
             "2009",
             62
            ],
            [
             "2009",
             1
            ],
            [
             "2009",
             1
            ],
            [
             "2009",
             11
            ],
            [
             "2009",
             6
            ],
            [
             "2009",
             1
            ],
            [
             "2009",
             18
            ],
            [
             "2009",
             1
            ],
            [
             "2009",
             1
            ],
            [
             "2009",
             2
            ],
            [
             "2009",
             1
            ],
            [
             "2009",
             7
            ],
            [
             "2009",
             1
            ],
            [
             "2009",
             1
            ],
            [
             "2009",
             4
            ],
            [
             "2009",
             3
            ],
            [
             "2009",
             17
            ],
            [
             "2009",
             40
            ],
            [
             "2009",
             4
            ],
            [
             "2009",
             33
            ],
            [
             "2009",
             26
            ],
            [
             "2009",
             35
            ],
            [
             "2009",
             3
            ],
            [
             "2009",
             20
            ],
            [
             "2009",
             1
            ]
           ],
           "geo": "geo",
           "hovertemplate": "<b>%{hovertext}</b><br><br>Year=%{customdata[0]}<br>TotalAffected=%{customdata[1]}<br>Country=%{location}<extra></extra>",
           "hovertext": [
            "Afghanistan",
            "Bangladesh",
            "Cambodia",
            "Central African Republic",
            "Chad",
            "Chechnya",
            "DR Congo",
            "Ethiopia",
            "Haiti",
            "Indonesia",
            "Iraq",
            "Kenya",
            "Liberia",
            "Mali",
            "Mauritania",
            "Mozambique",
            "Occupied Palestinian Territories",
            "Pakistan",
            "Philippines",
            "Somalia",
            "Sri Lanka",
            "Sudan",
            "Uganda",
            "Yemen",
            "Zambia"
           ],
           "legendgroup": "",
           "locationmode": "country names",
           "locations": [
            "Afghanistan",
            "Bangladesh",
            "Cambodia",
            "Central African Republic",
            "Chad",
            "Chechnya",
            "DR Congo",
            "Ethiopia",
            "Haiti",
            "Indonesia",
            "Iraq",
            "Kenya",
            "Liberia",
            "Mali",
            "Mauritania",
            "Mozambique",
            "Occupied Palestinian Territories",
            "Pakistan",
            "Philippines",
            "Somalia",
            "Sri Lanka",
            "Sudan",
            "Uganda",
            "Yemen",
            "Zambia"
           ],
           "marker": {
            "color": "red",
            "opacity": 0.5,
            "size": {
             "bdata": "PgEBCwYBEgEBAgEHAQEEAxEoBCEaIwMUAQ==",
             "dtype": "i1"
            },
            "sizemode": "area",
            "sizeref": 0.106,
            "symbol": "circle"
           },
           "mode": "markers",
           "name": "",
           "showlegend": false,
           "type": "scattergeo"
          }
         ],
         "name": "2009"
        },
        {
         "data": [
          {
           "customdata": [
            [
             "2010",
             120
            ],
            [
             "2010",
             1
            ],
            [
             "2010",
             1
            ],
            [
             "2010",
             2
            ],
            [
             "2010",
             15
            ],
            [
             "2010",
             4
            ],
            [
             "2010",
             12
            ],
            [
             "2010",
             9
            ],
            [
             "2010",
             2
            ],
            [
             "2010",
             1
            ],
            [
             "2010",
             9
            ],
            [
             "2010",
             2
            ],
            [
             "2010",
             3
            ],
            [
             "2010",
             1
            ],
            [
             "2010",
             1
            ],
            [
             "2010",
             29
            ],
            [
             "2010",
             1
            ],
            [
             "2010",
             1
            ],
            [
             "2010",
             11
            ],
            [
             "2010",
             20
            ],
            [
             "2010",
             4
            ],
            [
             "2010",
             3
            ]
           ],
           "geo": "geo",
           "hovertemplate": "<b>%{hovertext}</b><br><br>Year=%{customdata[0]}<br>TotalAffected=%{customdata[1]}<br>Country=%{location}<extra></extra>",
           "hovertext": [
            "Afghanistan",
            "Bangladesh",
            "Cameroon",
            "Chad",
            "DR Congo",
            "Ethiopia",
            "Haiti",
            "Iraq",
            "Kenya",
            "Kyrgyzstan",
            "Libyan Arab Jamahiriya",
            "Madagascar",
            "Malawi",
            "Nicaragua",
            "Niger",
            "Pakistan",
            "Philippines",
            "Sierra Leone",
            "Somalia",
            "Sudan",
            "Uganda",
            "Yemen"
           ],
           "legendgroup": "",
           "locationmode": "country names",
           "locations": [
            "Afghanistan",
            "Bangladesh",
            "Cameroon",
            "Chad",
            "DR Congo",
            "Ethiopia",
            "Haiti",
            "Iraq",
            "Kenya",
            "Kyrgyzstan",
            "Libyan Arab Jamahiriya",
            "Madagascar",
            "Malawi",
            "Nicaragua",
            "Niger",
            "Pakistan",
            "Philippines",
            "Sierra Leone",
            "Somalia",
            "Sudan",
            "Uganda",
            "Yemen"
           ],
           "marker": {
            "color": "red",
            "opacity": 0.5,
            "size": {
             "bdata": "eAEBAg8EDAkCAQkCAwEBHQEBCxQEAw==",
             "dtype": "i1"
            },
            "sizemode": "area",
            "sizeref": 0.106,
            "symbol": "circle"
           },
           "mode": "markers",
           "name": "",
           "showlegend": false,
           "type": "scattergeo"
          }
         ],
         "name": "2010"
        },
        {
         "data": [
          {
           "customdata": [
            [
             "2011",
             92
            ],
            [
             "2011",
             1
            ],
            [
             "2011",
             10
            ],
            [
             "2011",
             1
            ],
            [
             "2011",
             1
            ],
            [
             "2011",
             2
            ],
            [
             "2011",
             17
            ],
            [
             "2011",
             2
            ],
            [
             "2011",
             5
            ],
            [
             "2011",
             2
            ],
            [
             "2011",
             2
            ],
            [
             "2011",
             8
            ],
            [
             "2011",
             2
            ],
            [
             "2011",
             1
            ],
            [
             "2011",
             1
            ],
            [
             "2011",
             46
            ],
            [
             "2011",
             29
            ],
            [
             "2011",
             1
            ],
            [
             "2011",
             1
            ],
            [
             "2011",
             23
            ],
            [
             "2011",
             20
            ],
            [
             "2011",
             25
            ],
            [
             "2011",
             3
            ],
            [
             "2011",
             1
            ],
            [
             "2011",
             2
            ],
            [
             "2011",
             4
            ],
            [
             "2011",
             7
            ]
           ],
           "geo": "geo",
           "hovertemplate": "<b>%{hovertext}</b><br><br>Year=%{customdata[0]}<br>TotalAffected=%{customdata[1]}<br>Country=%{location}<extra></extra>",
           "hovertext": [
            "Afghanistan",
            "Burundi",
            "Central African Republic",
            "Chad",
            "Colombia",
            "Cote D'Ivoire",
            "DR Congo",
            "El Salvador",
            "Ethiopia",
            "Haiti",
            "Honduras",
            "Kenya",
            "Libyan Arab Jamahiriya",
            "Myanmar",
            "Niger",
            "Nigeria",
            "Pakistan",
            "Papua New Guinea",
            "Philippines",
            "Somalia",
            "South Sudan",
            "Sudan",
            "Syrian Arab Republic",
            "Tanzania",
            "Uganda",
            "Western Sahara",
            "Yemen"
           ],
           "legendgroup": "",
           "locationmode": "country names",
           "locations": [
            "Afghanistan",
            "Burundi",
            "Central African Republic",
            "Chad",
            "Colombia",
            "Cote D'Ivoire",
            "DR Congo",
            "El Salvador",
            "Ethiopia",
            "Haiti",
            "Honduras",
            "Kenya",
            "Libyan Arab Jamahiriya",
            "Myanmar",
            "Niger",
            "Nigeria",
            "Pakistan",
            "Papua New Guinea",
            "Philippines",
            "Somalia",
            "South Sudan",
            "Sudan",
            "Syrian Arab Republic",
            "Tanzania",
            "Uganda",
            "Western Sahara",
            "Yemen"
           ],
           "marker": {
            "color": "red",
            "opacity": 0.5,
            "size": {
             "bdata": "XAEKAQECEQIFAgIIAgEBLh0BARcUGQMBAgQH",
             "dtype": "i1"
            },
            "sizemode": "area",
            "sizeref": 0.106,
            "symbol": "circle"
           },
           "mode": "markers",
           "name": "",
           "showlegend": false,
           "type": "scattergeo"
          }
         ],
         "name": "2011"
        },
        {
         "data": [
          {
           "customdata": [
            [
             "2012",
             105
            ],
            [
             "2012",
             2
            ],
            [
             "2012",
             3
            ],
            [
             "2012",
             1
            ],
            [
             "2012",
             1
            ],
            [
             "2012",
             3
            ],
            [
             "2012",
             17
            ],
            [
             "2012",
             9
            ],
            [
             "2012",
             7
            ],
            [
             "2012",
             25
            ],
            [
             "2012",
             1
            ],
            [
             "2012",
             1
            ],
            [
             "2012",
             32
            ],
            [
             "2012",
             25
            ],
            [
             "2012",
             1
            ],
            [
             "2012",
             6
            ],
            [
             "2012",
             25
            ],
            [
             "2012",
             2
            ],
            [
             "2012",
             11
            ]
           ],
           "geo": "geo",
           "hovertemplate": "<b>%{hovertext}</b><br><br>Year=%{customdata[0]}<br>TotalAffected=%{customdata[1]}<br>Country=%{location}<extra></extra>",
           "hovertext": [
            "Afghanistan",
            "Cameroon",
            "Chad",
            "DR Congo",
            "Ethiopia",
            "Haiti",
            "Kenya",
            "Libyan Arab Jamahiriya",
            "Niger",
            "Pakistan",
            "Philippines",
            "Senegal",
            "Somalia",
            "South Sudan",
            "Sri Lanka",
            "Sudan",
            "Syrian Arab Republic",
            "Tunisia",
            "Yemen"
           ],
           "legendgroup": "",
           "locationmode": "country names",
           "locations": [
            "Afghanistan",
            "Cameroon",
            "Chad",
            "DR Congo",
            "Ethiopia",
            "Haiti",
            "Kenya",
            "Libyan Arab Jamahiriya",
            "Niger",
            "Pakistan",
            "Philippines",
            "Senegal",
            "Somalia",
            "South Sudan",
            "Sri Lanka",
            "Sudan",
            "Syrian Arab Republic",
            "Tunisia",
            "Yemen"
           ],
           "marker": {
            "color": "red",
            "opacity": 0.5,
            "size": {
             "bdata": "aQIDAQEDEQkHGQEBIBkBBhkCCw==",
             "dtype": "i1"
            },
            "sizemode": "area",
            "sizeref": 0.106,
            "symbol": "circle"
           },
           "mode": "markers",
           "name": "",
           "showlegend": false,
           "type": "scattergeo"
          }
         ],
         "name": "2012"
        },
        {
         "data": [
          {
           "customdata": [
            [
             "2013",
             167
            ],
            [
             "2013",
             1
            ],
            [
             "2013",
             1
            ],
            [
             "2013",
             7
            ],
            [
             "2013",
             11
            ],
            [
             "2013",
             1
            ],
            [
             "2013",
             2
            ],
            [
             "2013",
             2
            ],
            [
             "2013",
             2
            ],
            [
             "2013",
             1
            ],
            [
             "2013",
             1
            ],
            [
             "2013",
             10
            ],
            [
             "2013",
             10
            ],
            [
             "2013",
             1
            ],
            [
             "2013",
             1
            ],
            [
             "2013",
             1
            ],
            [
             "2013",
             1
            ],
            [
             "2013",
             1
            ],
            [
             "2013",
             9
            ],
            [
             "2013",
             1
            ],
            [
             "2013",
             41
            ],
            [
             "2013",
             6
            ],
            [
             "2013",
             1
            ],
            [
             "2013",
             40
            ],
            [
             "2013",
             46
            ],
            [
             "2013",
             25
            ],
            [
             "2013",
             70
            ],
            [
             "2013",
             2
            ],
            [
             "2013",
             1
            ],
            [
             "2013",
             11
            ]
           ],
           "geo": "geo",
           "hovertemplate": "<b>%{hovertext}</b><br><br>Year=%{customdata[0]}<br>TotalAffected=%{customdata[1]}<br>Country=%{location}<extra></extra>",
           "hovertext": [
            "Afghanistan",
            "Argentina",
            "Armenia",
            "Central African Republic",
            "DR Congo",
            "El Salvador",
            "Ethiopia",
            "Haiti",
            "India",
            "Indonesia",
            "Iraq",
            "Jordan",
            "Kenya",
            "Kyrgyzstan",
            "Libyan Arab Jamahiriya",
            "Mali",
            "Mauritania",
            "Myanmar",
            "Nigeria",
            "Occupied Palestinian Territories",
            "Pakistan",
            "Philippines",
            "Senegal",
            "Somalia",
            "South Sudan",
            "Sudan",
            "Syrian Arab Republic",
            "Turkey",
            "Uganda",
            "Yemen"
           ],
           "legendgroup": "",
           "locationmode": "country names",
           "locations": [
            "Afghanistan",
            "Argentina",
            "Armenia",
            "Central African Republic",
            "DR Congo",
            "El Salvador",
            "Ethiopia",
            "Haiti",
            "India",
            "Indonesia",
            "Iraq",
            "Jordan",
            "Kenya",
            "Kyrgyzstan",
            "Libyan Arab Jamahiriya",
            "Mali",
            "Mauritania",
            "Myanmar",
            "Nigeria",
            "Occupied Palestinian Territories",
            "Pakistan",
            "Philippines",
            "Senegal",
            "Somalia",
            "South Sudan",
            "Sudan",
            "Syrian Arab Republic",
            "Turkey",
            "Uganda",
            "Yemen"
           ],
           "marker": {
            "color": "red",
            "opacity": 0.5,
            "size": {
             "bdata": "pwABAAEABwALAAEAAgACAAIAAQABAAoACgABAAEAAQABAAEACQABACkABgABACgALgAZAEYAAgABAAsA",
             "dtype": "i2"
            },
            "sizemode": "area",
            "sizeref": 0.106,
            "symbol": "circle"
           },
           "mode": "markers",
           "name": "",
           "showlegend": false,
           "type": "scattergeo"
          }
         ],
         "layout": {
          "annotations": [
           {
            "bgcolor": "rgba(255, 255, 255, 0.7)",
            "bordercolor": "black",
            "borderwidth": 1,
            "font": {
             "color": "black",
             "family": "Courier New, monospace",
             "size": 16
            },
            "showarrow": false,
            "text": "South Sudanese Civil War",
            "x": 0.5,
            "xref": "paper",
            "y": 0.95,
            "yref": "paper"
           }
          ]
         },
         "name": "2013"
        },
        {
         "data": [
          {
           "customdata": [
            [
             "2014",
             127
            ],
            [
             "2014",
             1
            ],
            [
             "2014",
             1
            ],
            [
             "2014",
             2
            ],
            [
             "2014",
             25
            ],
            [
             "2014",
             2
            ],
            [
             "2014",
             9
            ],
            [
             "2014",
             4
            ],
            [
             "2014",
             3
            ],
            [
             "2014",
             1
            ],
            [
             "2014",
             1
            ],
            [
             "2014",
             5
            ],
            [
             "2014",
             1
            ],
            [
             "2014",
             1
            ],
            [
             "2014",
             10
            ],
            [
             "2014",
             1
            ],
            [
             "2014",
             1
            ],
            [
             "2014",
             17
            ],
            [
             "2014",
             18
            ],
            [
             "2014",
             2
            ],
            [
             "2014",
             13
            ],
            [
             "2014",
             23
            ],
            [
             "2014",
             21
            ],
            [
             "2014",
             45
            ],
            [
             "2014",
             1
            ],
            [
             "2014",
             1
            ],
            [
             "2014",
             2
            ],
            [
             "2014",
             2
            ]
           ],
           "geo": "geo",
           "hovertemplate": "<b>%{hovertext}</b><br><br>Year=%{customdata[0]}<br>TotalAffected=%{customdata[1]}<br>Country=%{location}<extra></extra>",
           "hovertext": [
            "Afghanistan",
            "Benin",
            "Cambodia",
            "Cameroon",
            "Central African Republic",
            "Chad",
            "DR Congo",
            "Ethiopia",
            "Guinea",
            "Iraq",
            "Israel",
            "Kenya",
            "Lebanon",
            "Libyan Arab Jamahiriya",
            "Mali",
            "Myanmar",
            "Nepal",
            "Occupied Palestinian Territories",
            "Pakistan",
            "Philippines",
            "Somalia",
            "South Sudan",
            "Sudan",
            "Syrian Arab Republic",
            "Tanzania",
            "Uganda",
            "Ukraine",
            "Yemen"
           ],
           "legendgroup": "",
           "locationmode": "country names",
           "locations": [
            "Afghanistan",
            "Benin",
            "Cambodia",
            "Cameroon",
            "Central African Republic",
            "Chad",
            "DR Congo",
            "Ethiopia",
            "Guinea",
            "Iraq",
            "Israel",
            "Kenya",
            "Lebanon",
            "Libyan Arab Jamahiriya",
            "Mali",
            "Myanmar",
            "Nepal",
            "Occupied Palestinian Territories",
            "Pakistan",
            "Philippines",
            "Somalia",
            "South Sudan",
            "Sudan",
            "Syrian Arab Republic",
            "Tanzania",
            "Uganda",
            "Ukraine",
            "Yemen"
           ],
           "marker": {
            "color": "red",
            "opacity": 0.5,
            "size": {
             "bdata": "fwEBAhkCCQQDAQEFAQEKAQEREgINFxUtAQECAg==",
             "dtype": "i1"
            },
            "sizemode": "area",
            "sizeref": 0.106,
            "symbol": "circle"
           },
           "mode": "markers",
           "name": "",
           "showlegend": false,
           "type": "scattergeo"
          }
         ],
         "layout": {
          "annotations": [
           {
            "bgcolor": "rgba(255, 255, 255, 0.7)",
            "bordercolor": "black",
            "borderwidth": 1,
            "font": {
             "color": "black",
             "family": "Courier New, monospace",
             "size": 16
            },
            "showarrow": false,
            "text": "South Sudanese Civil War",
            "x": 0.5,
            "xref": "paper",
            "y": 0.95,
            "yref": "paper"
           }
          ]
         },
         "name": "2014"
        },
        {
         "data": [
          {
           "customdata": [
            [
             "2015",
             101
            ],
            [
             "2015",
             1
            ],
            [
             "2015",
             3
            ],
            [
             "2015",
             3
            ],
            [
             "2015",
             14
            ],
            [
             "2015",
             28
            ],
            [
             "2015",
             2
            ],
            [
             "2015",
             2
            ],
            [
             "2015",
             1
            ],
            [
             "2015",
             1
            ],
            [
             "2015",
             1
            ],
            [
             "2015",
             2
            ],
            [
             "2015",
             3
            ],
            [
             "2015",
             6
            ],
            [
             "2015",
             3
            ],
            [
             "2015",
             1
            ],
            [
             "2015",
             1
            ],
            [
             "2015",
             26
            ],
            [
             "2015",
             1
            ],
            [
             "2015",
             42
            ],
            [
             "2015",
             12
            ],
            [
             "2015",
             14
            ],
            [
             "2015",
             3
            ],
            [
             "2015",
             1
            ],
            [
             "2015",
             17
            ],
            [
             "2015",
             1
            ]
           ],
           "geo": "geo",
           "hovertemplate": "<b>%{hovertext}</b><br><br>Year=%{customdata[0]}<br>TotalAffected=%{customdata[1]}<br>Country=%{location}<extra></extra>",
           "hovertext": [
            "Afghanistan",
            "Bangladesh",
            "Burundi",
            "Cameroon",
            "Central African Republic",
            "DR Congo",
            "Ethiopia",
            "Guatemala",
            "Guinea",
            "Haiti",
            "Iraq",
            "Kenya",
            "Libyan Arab Jamahiriya",
            "Mali",
            "Myanmar",
            "Pakistan",
            "Sierra Leone",
            "Somalia",
            "South Africa",
            "South Sudan",
            "Sudan",
            "Syrian Arab Republic",
            "Turkey",
            "Uganda",
            "Yemen",
            "Zambia"
           ],
           "legendgroup": "",
           "locationmode": "country names",
           "locations": [
            "Afghanistan",
            "Bangladesh",
            "Burundi",
            "Cameroon",
            "Central African Republic",
            "DR Congo",
            "Ethiopia",
            "Guatemala",
            "Guinea",
            "Haiti",
            "Iraq",
            "Kenya",
            "Libyan Arab Jamahiriya",
            "Mali",
            "Myanmar",
            "Pakistan",
            "Sierra Leone",
            "Somalia",
            "South Africa",
            "South Sudan",
            "Sudan",
            "Syrian Arab Republic",
            "Turkey",
            "Uganda",
            "Yemen",
            "Zambia"
           ],
           "marker": {
            "color": "red",
            "opacity": 0.5,
            "size": {
             "bdata": "ZQEDAw4cAgIBAQECAwYDAQEaASoMDgMBEQE=",
             "dtype": "i1"
            },
            "sizemode": "area",
            "sizeref": 0.106,
            "symbol": "circle"
           },
           "mode": "markers",
           "name": "",
           "showlegend": false,
           "type": "scattergeo"
          }
         ],
         "name": "2015"
        },
        {
         "data": [
          {
           "customdata": [
            [
             "2016",
             63
            ],
            [
             "2016",
             1
            ],
            [
             "2016",
             3
            ],
            [
             "2016",
             2
            ],
            [
             "2016",
             7
            ],
            [
             "2016",
             22
            ],
            [
             "2016",
             1
            ],
            [
             "2016",
             1
            ],
            [
             "2016",
             2
            ],
            [
             "2016",
             1
            ],
            [
             "2016",
             2
            ],
            [
             "2016",
             5
            ],
            [
             "2016",
             1
            ],
            [
             "2016",
             2
            ],
            [
             "2016",
             3
            ],
            [
             "2016",
             1
            ],
            [
             "2016",
             1
            ],
            [
             "2016",
             17
            ],
            [
             "2016",
             98
            ],
            [
             "2016",
             7
            ],
            [
             "2016",
             43
            ],
            [
             "2016",
             13
            ]
           ],
           "geo": "geo",
           "hovertemplate": "<b>%{hovertext}</b><br><br>Year=%{customdata[0]}<br>TotalAffected=%{customdata[1]}<br>Country=%{location}<extra></extra>",
           "hovertext": [
            "Afghanistan",
            "Angola",
            "Bangladesh",
            "Burkina Faso",
            "Central African Republic",
            "DR Congo",
            "El Salvador",
            "Haiti",
            "Honduras",
            "Iraq",
            "Kenya",
            "Mali",
            "Nicaragua",
            "Niger",
            "Nigeria",
            "Occupied Palestinian Territories",
            "Pakistan",
            "Somalia",
            "South Sudan",
            "Sudan",
            "Syrian Arab Republic",
            "Yemen"
           ],
           "legendgroup": "",
           "locationmode": "country names",
           "locations": [
            "Afghanistan",
            "Angola",
            "Bangladesh",
            "Burkina Faso",
            "Central African Republic",
            "DR Congo",
            "El Salvador",
            "Haiti",
            "Honduras",
            "Iraq",
            "Kenya",
            "Mali",
            "Nicaragua",
            "Niger",
            "Nigeria",
            "Occupied Palestinian Territories",
            "Pakistan",
            "Somalia",
            "South Sudan",
            "Sudan",
            "Syrian Arab Republic",
            "Yemen"
           ],
           "marker": {
            "color": "red",
            "opacity": 0.5,
            "size": {
             "bdata": "PwEDAgcWAQECAQIFAQIDAQERYgcrDQ==",
             "dtype": "i1"
            },
            "sizemode": "area",
            "sizeref": 0.106,
            "symbol": "circle"
           },
           "mode": "markers",
           "name": "",
           "showlegend": false,
           "type": "scattergeo"
          }
         ],
         "name": "2016"
        },
        {
         "data": [
          {
           "customdata": [
            [
             "2017",
             31
            ],
            [
             "2017",
             23
            ],
            [
             "2017",
             1
            ],
            [
             "2017",
             10
            ],
            [
             "2017",
             1
            ],
            [
             "2017",
             3
            ],
            [
             "2017",
             4
            ],
            [
             "2017",
             3
            ],
            [
             "2017",
             1
            ],
            [
             "2017",
             10
            ],
            [
             "2017",
             1
            ],
            [
             "2017",
             3
            ],
            [
             "2017",
             1
            ],
            [
             "2017",
             31
            ],
            [
             "2017",
             5
            ],
            [
             "2017",
             1
            ],
            [
             "2017",
             36
            ],
            [
             "2017",
             79
            ],
            [
             "2017",
             4
            ],
            [
             "2017",
             53
            ],
            [
             "2017",
             1
            ],
            [
             "2017",
             13
            ]
           ],
           "geo": "geo",
           "hovertemplate": "<b>%{hovertext}</b><br><br>Year=%{customdata[0]}<br>TotalAffected=%{customdata[1]}<br>Country=%{location}<extra></extra>",
           "hovertext": [
            "Afghanistan",
            "Central African Republic",
            "Chad",
            "DR Congo",
            "Haiti",
            "Iraq",
            "Kenya",
            "Libyan Arab Jamahiriya",
            "Madagascar",
            "Mali",
            "Mauritius",
            "Mexico",
            "Myanmar",
            "Nigeria",
            "Pakistan",
            "Sierra Leone",
            "Somalia",
            "South Sudan",
            "Sudan",
            "Syrian Arab Republic",
            "Uganda",
            "Yemen"
           ],
           "legendgroup": "",
           "locationmode": "country names",
           "locations": [
            "Afghanistan",
            "Central African Republic",
            "Chad",
            "DR Congo",
            "Haiti",
            "Iraq",
            "Kenya",
            "Libyan Arab Jamahiriya",
            "Madagascar",
            "Mali",
            "Mauritius",
            "Mexico",
            "Myanmar",
            "Nigeria",
            "Pakistan",
            "Sierra Leone",
            "Somalia",
            "South Sudan",
            "Sudan",
            "Syrian Arab Republic",
            "Uganda",
            "Yemen"
           ],
           "marker": {
            "color": "red",
            "opacity": 0.5,
            "size": {
             "bdata": "HxcBCgEDBAMBCgEDAR8FASRPBDUBDQ==",
             "dtype": "i1"
            },
            "sizemode": "area",
            "sizeref": 0.106,
            "symbol": "circle"
           },
           "mode": "markers",
           "name": "",
           "showlegend": false,
           "type": "scattergeo"
          }
         ],
         "name": "2017"
        },
        {
         "data": [
          {
           "customdata": [
            [
             "2018",
             47
            ],
            [
             "2018",
             1
            ],
            [
             "2018",
             5
            ],
            [
             "2018",
             3
            ],
            [
             "2018",
             2
            ],
            [
             "2018",
             21
            ],
            [
             "2018",
             43
            ],
            [
             "2018",
             1
            ],
            [
             "2018",
             3
            ],
            [
             "2018",
             2
            ],
            [
             "2018",
             1
            ],
            [
             "2018",
             1
            ],
            [
             "2018",
             3
            ],
            [
             "2018",
             6
            ],
            [
             "2018",
             5
            ],
            [
             "2018",
             22
            ],
            [
             "2018",
             4
            ],
            [
             "2018",
             1
            ],
            [
             "2018",
             1
            ],
            [
             "2018",
             1
            ],
            [
             "2018",
             12
            ],
            [
             "2018",
             3
            ],
            [
             "2018",
             1
            ],
            [
             "2018",
             2
            ],
            [
             "2018",
             1
            ],
            [
             "2018",
             1
            ],
            [
             "2018",
             1
            ],
            [
             "2018",
             12
            ],
            [
             "2018",
             111
            ],
            [
             "2018",
             1
            ],
            [
             "2018",
             9
            ],
            [
             "2018",
             68
            ],
            [
             "2018",
             2
            ],
            [
             "2018",
             1
            ],
            [
             "2018",
             4
            ],
            [
             "2018",
             7
            ]
           ],
           "geo": "geo",
           "hovertemplate": "<b>%{hovertext}</b><br><br>Year=%{customdata[0]}<br>TotalAffected=%{customdata[1]}<br>Country=%{location}<extra></extra>",
           "hovertext": [
            "Afghanistan",
            "Algeria",
            "Azerbaijan",
            "Bangladesh",
            "Cameroon",
            "Central African Republic",
            "DR Congo",
            "El Salvador",
            "Ethiopia",
            "Guatemala",
            "Guinea",
            "Haiti",
            "Iraq",
            "Kenya",
            "Libyan Arab Jamahiriya",
            "Mali",
            "Mexico",
            "Myanmar",
            "Nicaragua",
            "Niger",
            "Nigeria",
            "Occupied Palestinian Territories",
            "Pakistan",
            "Papua New Guinea",
            "Philippines",
            "Saudi Arabia",
            "Sierra Leone",
            "Somalia",
            "South Sudan",
            "Sri Lanka",
            "Sudan",
            "Syrian Arab Republic",
            "Tanzania",
            "Tunisia",
            "Uganda",
            "Yemen"
           ],
           "legendgroup": "",
           "locationmode": "country names",
           "locations": [
            "Afghanistan",
            "Algeria",
            "Azerbaijan",
            "Bangladesh",
            "Cameroon",
            "Central African Republic",
            "DR Congo",
            "El Salvador",
            "Ethiopia",
            "Guatemala",
            "Guinea",
            "Haiti",
            "Iraq",
            "Kenya",
            "Libyan Arab Jamahiriya",
            "Mali",
            "Mexico",
            "Myanmar",
            "Nicaragua",
            "Niger",
            "Nigeria",
            "Occupied Palestinian Territories",
            "Pakistan",
            "Papua New Guinea",
            "Philippines",
            "Saudi Arabia",
            "Sierra Leone",
            "Somalia",
            "South Sudan",
            "Sri Lanka",
            "Sudan",
            "Syrian Arab Republic",
            "Tanzania",
            "Tunisia",
            "Uganda",
            "Yemen"
           ],
           "marker": {
            "color": "red",
            "opacity": 0.5,
            "size": {
             "bdata": "LwEFAwIVKwEDAgEBAwYFFgQBAQEMAwECAQEBDG8BCUQCAQQH",
             "dtype": "i1"
            },
            "sizemode": "area",
            "sizeref": 0.106,
            "symbol": "circle"
           },
           "mode": "markers",
           "name": "",
           "showlegend": false,
           "type": "scattergeo"
          }
         ],
         "name": "2018"
        },
        {
         "data": [
          {
           "customdata": [
            [
             "2019",
             50
            ],
            [
             "2019",
             6
            ],
            [
             "2019",
             1
            ],
            [
             "2019",
             8
            ],
            [
             "2019",
             1
            ],
            [
             "2019",
             1
            ],
            [
             "2019",
             19
            ],
            [
             "2019",
             24
            ],
            [
             "2019",
             2
            ],
            [
             "2019",
             1
            ],
            [
             "2019",
             48
            ],
            [
             "2019",
             1
            ],
            [
             "2019",
             13
            ],
            [
             "2019",
             2
            ],
            [
             "2019",
             4
            ],
            [
             "2019",
             1
            ],
            [
             "2019",
             3
            ],
            [
             "2019",
             2
            ],
            [
             "2019",
             2
            ],
            [
             "2019",
             3
            ],
            [
             "2019",
             29
            ],
            [
             "2019",
             2
            ],
            [
             "2019",
             1
            ],
            [
             "2019",
             3
            ],
            [
             "2019",
             4
            ],
            [
             "2019",
             23
            ],
            [
             "2019",
             8
            ],
            [
             "2019",
             5
            ],
            [
             "2019",
             1
            ],
            [
             "2019",
             3
            ],
            [
             "2019",
             1
            ],
            [
             "2019",
             15
            ],
            [
             "2019",
             62
            ],
            [
             "2019",
             3
            ],
            [
             "2019",
             9
            ],
            [
             "2019",
             86
            ],
            [
             "2019",
             3
            ],
            [
             "2019",
             1
            ],
            [
             "2019",
             10
            ],
            [
             "2019",
             1
            ],
            [
             "2019",
             19
            ]
           ],
           "geo": "geo",
           "hovertemplate": "<b>%{hovertext}</b><br><br>Year=%{customdata[0]}<br>TotalAffected=%{customdata[1]}<br>Country=%{location}<extra></extra>",
           "hovertext": [
            "Afghanistan",
            "Bangladesh",
            "Bolivia",
            "Burkina Faso",
            "Burundi",
            "Cambodia",
            "Cameroon",
            "Central African Republic",
            "Chad",
            "Cote D'Ivoire",
            "DR Congo",
            "Ecuador",
            "Ethiopia",
            "Guatemala",
            "Haiti",
            "Iraq",
            "Jordan",
            "Kenya",
            "Libyan Arab Jamahiriya",
            "Malawi",
            "Mali",
            "Mexico",
            "Mozambique",
            "Myanmar",
            "Niger",
            "Nigeria",
            "Occupied Palestinian Territories",
            "Pakistan",
            "Papua New Guinea",
            "Philippines",
            "Senegal",
            "Somalia",
            "South Sudan",
            "Sri Lanka",
            "Sudan",
            "Syrian Arab Republic",
            "Tanzania",
            "Tunisia",
            "Uganda",
            "Ukraine",
            "Yemen"
           ],
           "legendgroup": "",
           "locationmode": "country names",
           "locations": [
            "Afghanistan",
            "Bangladesh",
            "Bolivia",
            "Burkina Faso",
            "Burundi",
            "Cambodia",
            "Cameroon",
            "Central African Republic",
            "Chad",
            "Cote D'Ivoire",
            "DR Congo",
            "Ecuador",
            "Ethiopia",
            "Guatemala",
            "Haiti",
            "Iraq",
            "Jordan",
            "Kenya",
            "Libyan Arab Jamahiriya",
            "Malawi",
            "Mali",
            "Mexico",
            "Mozambique",
            "Myanmar",
            "Niger",
            "Nigeria",
            "Occupied Palestinian Territories",
            "Pakistan",
            "Papua New Guinea",
            "Philippines",
            "Senegal",
            "Somalia",
            "South Sudan",
            "Sri Lanka",
            "Sudan",
            "Syrian Arab Republic",
            "Tanzania",
            "Tunisia",
            "Uganda",
            "Ukraine",
            "Yemen"
           ],
           "marker": {
            "color": "red",
            "opacity": 0.5,
            "size": {
             "bdata": "MgYBCAEBExgCATABDQIEAQMCAgMdAgEDBBcIBQEDAQ8+AwlWAwEKARM=",
             "dtype": "i1"
            },
            "sizemode": "area",
            "sizeref": 0.106,
            "symbol": "circle"
           },
           "mode": "markers",
           "name": "",
           "showlegend": false,
           "type": "scattergeo"
          }
         ],
         "name": "2019"
        },
        {
         "data": [
          {
           "customdata": [
            [
             "2020",
             17
            ],
            [
             "2020",
             2
            ],
            [
             "2020",
             1
            ],
            [
             "2020",
             7
            ],
            [
             "2020",
             1
            ],
            [
             "2020",
             21
            ],
            [
             "2020",
             31
            ],
            [
             "2020",
             1
            ],
            [
             "2020",
             3
            ],
            [
             "2020",
             2
            ],
            [
             "2020",
             1
            ],
            [
             "2020",
             41
            ],
            [
             "2020",
             21
            ],
            [
             "2020",
             1
            ],
            [
             "2020",
             4
            ],
            [
             "2020",
             2
            ],
            [
             "2020",
             9
            ],
            [
             "2020",
             1
            ],
            [
             "2020",
             1
            ],
            [
             "2020",
             1
            ],
            [
             "2020",
             3
            ],
            [
             "2020",
             1
            ],
            [
             "2020",
             39
            ],
            [
             "2020",
             5
            ],
            [
             "2020",
             6
            ],
            [
             "2020",
             1
            ],
            [
             "2020",
             20
            ],
            [
             "2020",
             17
            ],
            [
             "2020",
             3
            ],
            [
             "2020",
             1
            ],
            [
             "2020",
             1
            ],
            [
             "2020",
             25
            ],
            [
             "2020",
             76
            ],
            [
             "2020",
             6
            ],
            [
             "2020",
             85
            ],
            [
             "2020",
             2
            ],
            [
             "2020",
             10
            ],
            [
             "2020",
             1
            ],
            [
             "2020",
             12
            ],
            [
             "2020",
             1
            ],
            [
             "2020",
             1
            ]
           ],
           "geo": "geo",
           "hovertemplate": "<b>%{hovertext}</b><br><br>Year=%{customdata[0]}<br>TotalAffected=%{customdata[1]}<br>Country=%{location}<extra></extra>",
           "hovertext": [
            "Afghanistan",
            "Bangladesh",
            "Botswana",
            "Burkina Faso",
            "Burundi",
            "Cameroon",
            "Central African Republic",
            "Chile",
            "Colombia",
            "Congo",
            "Cote D'Ivoire",
            "DR Congo",
            "Ethiopia",
            "Fiji",
            "Haiti",
            "India",
            "Iraq",
            "Jordan",
            "Kenya",
            "Kyrgyzstan",
            "Libyan Arab Jamahiriya",
            "Madagascar",
            "Mali",
            "Mexico",
            "Mozambique",
            "Myanmar",
            "Niger",
            "Nigeria",
            "Pakistan",
            "Papua New Guinea",
            "Peru",
            "Somalia",
            "South Sudan",
            "Sudan",
            "Syrian Arab Republic",
            "Turkey",
            "Uganda",
            "Uruguay",
            "Yemen",
            "Zambia",
            "Zimbabwe"
           ],
           "legendgroup": "",
           "locationmode": "country names",
           "locations": [
            "Afghanistan",
            "Bangladesh",
            "Botswana",
            "Burkina Faso",
            "Burundi",
            "Cameroon",
            "Central African Republic",
            "Chile",
            "Colombia",
            "Congo",
            "Cote D'Ivoire",
            "DR Congo",
            "Ethiopia",
            "Fiji",
            "Haiti",
            "India",
            "Iraq",
            "Jordan",
            "Kenya",
            "Kyrgyzstan",
            "Libyan Arab Jamahiriya",
            "Madagascar",
            "Mali",
            "Mexico",
            "Mozambique",
            "Myanmar",
            "Niger",
            "Nigeria",
            "Pakistan",
            "Papua New Guinea",
            "Peru",
            "Somalia",
            "South Sudan",
            "Sudan",
            "Syrian Arab Republic",
            "Turkey",
            "Uganda",
            "Uruguay",
            "Yemen",
            "Zambia",
            "Zimbabwe"
           ],
           "marker": {
            "color": "red",
            "opacity": 0.5,
            "size": {
             "bdata": "EQIBBwEVHwEDAgEpFQEEAgkBAQEDAScFBgEUEQMBARlMBlUCCgEMAQE=",
             "dtype": "i1"
            },
            "sizemode": "area",
            "sizeref": 0.106,
            "symbol": "circle"
           },
           "mode": "markers",
           "name": "",
           "showlegend": false,
           "type": "scattergeo"
          }
         ],
         "name": "2020"
        },
        {
         "data": [
          {
           "customdata": [
            [
             "2021",
             61
            ],
            [
             "2021",
             1
            ],
            [
             "2021",
             1
            ],
            [
             "2021",
             6
            ],
            [
             "2021",
             17
            ],
            [
             "2021",
             21
            ],
            [
             "2021",
             1
            ],
            [
             "2021",
             1
            ],
            [
             "2021",
             32
            ],
            [
             "2021",
             2
            ],
            [
             "2021",
             24
            ],
            [
             "2021",
             1
            ],
            [
             "2021",
             18
            ],
            [
             "2021",
             1
            ],
            [
             "2021",
             1
            ],
            [
             "2021",
             2
            ],
            [
             "2021",
             1
            ],
            [
             "2021",
             2
            ],
            [
             "2021",
             47
            ],
            [
             "2021",
             29
            ],
            [
             "2021",
             1
            ],
            [
             "2021",
             1
            ],
            [
             "2021",
             13
            ],
            [
             "2021",
             3
            ],
            [
             "2021",
             5
            ],
            [
             "2021",
             1
            ],
            [
             "2021",
             6
            ],
            [
             "2021",
             93
            ],
            [
             "2021",
             1
            ],
            [
             "2021",
             9
            ],
            [
             "2021",
             1
            ],
            [
             "2021",
             52
            ],
            [
             "2021",
             2
            ],
            [
             "2021",
             9
            ]
           ],
           "geo": "geo",
           "hovertemplate": "<b>%{hovertext}</b><br><br>Year=%{customdata[0]}<br>TotalAffected=%{customdata[1]}<br>Country=%{location}<extra></extra>",
           "hovertext": [
            "Afghanistan",
            "Bangladesh",
            "Bolivia",
            "Burkina Faso",
            "Cameroon",
            "Central African Republic",
            "Chad",
            "Colombia",
            "DR Congo",
            "El Salvador",
            "Ethiopia",
            "Guinea-Bissau",
            "Haiti",
            "Kenya",
            "Lesotho",
            "Liberia",
            "Libyan Arab Jamahiriya",
            "Madagascar",
            "Mali",
            "Myanmar",
            "Namibia",
            "Niger",
            "Nigeria",
            "Occupied Palestinian Territories",
            "Pakistan",
            "Sierra Leone",
            "Somalia",
            "South Sudan",
            "Sri Lanka",
            "Sudan",
            "Swaziland",
            "Syrian Arab Republic",
            "Uganda",
            "Yemen"
           ],
           "legendgroup": "",
           "locationmode": "country names",
           "locations": [
            "Afghanistan",
            "Bangladesh",
            "Bolivia",
            "Burkina Faso",
            "Cameroon",
            "Central African Republic",
            "Chad",
            "Colombia",
            "DR Congo",
            "El Salvador",
            "Ethiopia",
            "Guinea-Bissau",
            "Haiti",
            "Kenya",
            "Lesotho",
            "Liberia",
            "Libyan Arab Jamahiriya",
            "Madagascar",
            "Mali",
            "Myanmar",
            "Namibia",
            "Niger",
            "Nigeria",
            "Occupied Palestinian Territories",
            "Pakistan",
            "Sierra Leone",
            "Somalia",
            "South Sudan",
            "Sri Lanka",
            "Sudan",
            "Swaziland",
            "Syrian Arab Republic",
            "Uganda",
            "Yemen"
           ],
           "marker": {
            "color": "red",
            "opacity": 0.5,
            "size": {
             "bdata": "PQEBBhEVAQEgAhgBEgEBAgECLx0BAQ0DBQEGXQEJATQCCQ==",
             "dtype": "i1"
            },
            "sizemode": "area",
            "sizeref": 0.106,
            "symbol": "circle"
           },
           "mode": "markers",
           "name": "",
           "showlegend": false,
           "type": "scattergeo"
          }
         ],
         "name": "2021"
        },
        {
         "data": [
          {
           "customdata": [
            [
             "2022",
             11
            ],
            [
             "2022",
             8
            ],
            [
             "2022",
             16
            ],
            [
             "2022",
             13
            ],
            [
             "2022",
             27
            ],
            [
             "2022",
             2
            ],
            [
             "2022",
             33
            ],
            [
             "2022",
             1
            ],
            [
             "2022",
             1
            ],
            [
             "2022",
             20
            ],
            [
             "2022",
             19
            ],
            [
             "2022",
             2
            ],
            [
             "2022",
             8
            ],
            [
             "2022",
             1
            ],
            [
             "2022",
             1
            ],
            [
             "2022",
             39
            ],
            [
             "2022",
             4
            ],
            [
             "2022",
             30
            ],
            [
             "2022",
             7
            ],
            [
             "2022",
             15
            ],
            [
             "2022",
             1
            ],
            [
             "2022",
             2
            ],
            [
             "2022",
             2
            ],
            [
             "2022",
             1
            ],
            [
             "2022",
             18
            ],
            [
             "2022",
             62
            ],
            [
             "2022",
             11
            ],
            [
             "2022",
             18
            ],
            [
             "2022",
             1
            ],
            [
             "2022",
             1
            ],
            [
             "2022",
             1
            ],
            [
             "2022",
             61
            ],
            [
             "2022",
             1
            ],
            [
             "2022",
             11
            ]
           ],
           "geo": "geo",
           "hovertemplate": "<b>%{hovertext}</b><br><br>Year=%{customdata[0]}<br>TotalAffected=%{customdata[1]}<br>Country=%{location}<extra></extra>",
           "hovertext": [
            "Afghanistan",
            "Bangladesh",
            "Burkina Faso",
            "Cameroon",
            "Central African Republic",
            "Colombia",
            "DR Congo",
            "Dominican Republic",
            "Egypt",
            "Ethiopia",
            "Haiti",
            "Iran, Islamic Republic of",
            "Iraq",
            "Kenya",
            "Lebanon",
            "Mali",
            "Mozambique",
            "Myanmar",
            "Niger",
            "Nigeria",
            "Occupied Palestinian Territories",
            "Pakistan",
            "Papua New Guinea",
            "Poland",
            "Somalia",
            "South Sudan",
            "Sudan",
            "Syrian Arab Republic",
            "Tanzania",
            "Tunisia",
            "Uganda",
            "Ukraine",
            "Venezuela",
            "Yemen"
           ],
           "legendgroup": "",
           "locationmode": "country names",
           "locations": [
            "Afghanistan",
            "Bangladesh",
            "Burkina Faso",
            "Cameroon",
            "Central African Republic",
            "Colombia",
            "DR Congo",
            "Dominican Republic",
            "Egypt",
            "Ethiopia",
            "Haiti",
            "Iran, Islamic Republic of",
            "Iraq",
            "Kenya",
            "Lebanon",
            "Mali",
            "Mozambique",
            "Myanmar",
            "Niger",
            "Nigeria",
            "Occupied Palestinian Territories",
            "Pakistan",
            "Papua New Guinea",
            "Poland",
            "Somalia",
            "South Sudan",
            "Sudan",
            "Syrian Arab Republic",
            "Tanzania",
            "Tunisia",
            "Uganda",
            "Ukraine",
            "Venezuela",
            "Yemen"
           ],
           "marker": {
            "color": "red",
            "opacity": 0.5,
            "size": {
             "bdata": "CwgQDRsCIQEBFBMCCAEBJwQeBw8BAgIBEj4LEgEBAT0BCw==",
             "dtype": "i1"
            },
            "sizemode": "area",
            "sizeref": 0.106,
            "symbol": "circle"
           },
           "mode": "markers",
           "name": "",
           "showlegend": false,
           "type": "scattergeo"
          }
         ],
         "layout": {
          "annotations": [
           {
            "bgcolor": "rgba(255, 255, 255, 0.7)",
            "bordercolor": "black",
            "borderwidth": 1,
            "font": {
             "color": "black",
             "family": "Courier New, monospace",
             "size": 16
            },
            "showarrow": false,
            "text": "Invasion of Ukraine",
            "x": 0.5,
            "xref": "paper",
            "y": 0.95,
            "yref": "paper"
           }
          ]
         },
         "name": "2022"
        },
        {
         "data": [
          {
           "customdata": [
            [
             "2023",
             3
            ],
            [
             "2023",
             4
            ],
            [
             "2023",
             4
            ],
            [
             "2023",
             9
            ],
            [
             "2023",
             2
            ],
            [
             "2023",
             22
            ],
            [
             "2023",
             22
            ],
            [
             "2023",
             1
            ],
            [
             "2023",
             1
            ],
            [
             "2023",
             8
            ],
            [
             "2023",
             1
            ],
            [
             "2023",
             7
            ],
            [
             "2023",
             1
            ],
            [
             "2023",
             1
            ],
            [
             "2023",
             1
            ],
            [
             "2023",
             28
            ],
            [
             "2023",
             2
            ],
            [
             "2023",
             13
            ],
            [
             "2023",
             1
            ],
            [
             "2023",
             8
            ],
            [
             "2023",
             214
            ],
            [
             "2023",
             1
            ],
            [
             "2023",
             1
            ],
            [
             "2023",
             2
            ],
            [
             "2023",
             26
            ],
            [
             "2023",
             1
            ],
            [
             "2023",
             93
            ],
            [
             "2023",
             1
            ],
            [
             "2023",
             64
            ],
            [
             "2023",
             14
            ],
            [
             "2023",
             3
            ],
            [
             "2023",
             28
            ],
            [
             "2023",
             7
            ]
           ],
           "geo": "geo",
           "hovertemplate": "<b>%{hovertext}</b><br><br>Year=%{customdata[0]}<br>TotalAffected=%{customdata[1]}<br>Country=%{location}<extra></extra>",
           "hovertext": [
            "Afghanistan",
            "Bangladesh",
            "Burkina Faso",
            "Central African Republic",
            "Colombia",
            "DR Congo",
            "Ethiopia",
            "Guatemala",
            "Guinea-Bissau",
            "Haiti",
            "India",
            "Israel",
            "Kenya",
            "Lebanon",
            "Lesotho",
            "Mali",
            "Mozambique",
            "Myanmar",
            "Niger",
            "Nigeria",
            "Occupied Palestinian Territories",
            "Pakistan",
            "Rwanda",
            "Sierra Leone",
            "Somalia",
            "South Africa",
            "South Sudan",
            "Sri Lanka",
            "Sudan",
            "Syrian Arab Republic",
            "Tanzania",
            "Ukraine",
            "Yemen"
           ],
           "legendgroup": "",
           "locationmode": "country names",
           "locations": [
            "Afghanistan",
            "Bangladesh",
            "Burkina Faso",
            "Central African Republic",
            "Colombia",
            "DR Congo",
            "Ethiopia",
            "Guatemala",
            "Guinea-Bissau",
            "Haiti",
            "India",
            "Israel",
            "Kenya",
            "Lebanon",
            "Lesotho",
            "Mali",
            "Mozambique",
            "Myanmar",
            "Niger",
            "Nigeria",
            "Occupied Palestinian Territories",
            "Pakistan",
            "Rwanda",
            "Sierra Leone",
            "Somalia",
            "South Africa",
            "South Sudan",
            "Sri Lanka",
            "Sudan",
            "Syrian Arab Republic",
            "Tanzania",
            "Ukraine",
            "Yemen"
           ],
           "marker": {
            "color": "red",
            "opacity": 0.5,
            "size": {
             "bdata": "AwAEAAQACQACABYAFgABAAEACAABAAcAAQABAAEAHAACAA0AAQAIANYAAQABAAIAGgABAF0AAQBAAA4AAwAcAAcA",
             "dtype": "i2"
            },
            "sizemode": "area",
            "sizeref": 0.106,
            "symbol": "circle"
           },
           "mode": "markers",
           "name": "",
           "showlegend": false,
           "type": "scattergeo"
          }
         ],
         "layout": {
          "annotations": [
           {
            "bgcolor": "rgba(255, 255, 255, 0.7)",
            "bordercolor": "black",
            "borderwidth": 1,
            "font": {
             "color": "black",
             "family": "Courier New, monospace",
             "size": 16
            },
            "showarrow": false,
            "text": "Invasion of Ukraine",
            "x": 0.5,
            "xref": "paper",
            "y": 0.95,
            "yref": "paper"
           }
          ]
         },
         "name": "2023"
        },
        {
         "data": [
          {
           "customdata": [
            [
             "2024",
             4
            ],
            [
             "2024",
             1
            ],
            [
             "2024",
             12
            ],
            [
             "2024",
             1
            ],
            [
             "2024",
             20
            ],
            [
             "2024",
             9
            ],
            [
             "2024",
             4
            ],
            [
             "2024",
             1
            ],
            [
             "2024",
             2
            ],
            [
             "2024",
             21
            ],
            [
             "2024",
             14
            ],
            [
             "2024",
             1
            ],
            [
             "2024",
             4
            ],
            [
             "2024",
             1
            ],
            [
             "2024",
             1
            ],
            [
             "2024",
             3
            ],
            [
             "2024",
             41
            ],
            [
             "2024",
             17
            ],
            [
             "2024",
             5
            ],
            [
             "2024",
             16
            ],
            [
             "2024",
             2
            ],
            [
             "2024",
             44
            ],
            [
             "2024",
             265
            ],
            [
             "2024",
             1
            ],
            [
             "2024",
             1
            ],
            [
             "2024",
             19
            ],
            [
             "2024",
             44
            ],
            [
             "2024",
             79
            ],
            [
             "2024",
             26
            ],
            [
             "2024",
             31
            ],
            [
             "2024",
             24
            ]
           ],
           "geo": "geo",
           "hovertemplate": "<b>%{hovertext}</b><br><br>Year=%{customdata[0]}<br>TotalAffected=%{customdata[1]}<br>Country=%{location}<extra></extra>",
           "hovertext": [
            "Afghanistan",
            "Angola",
            "Burkina Faso",
            "Burundi",
            "Cameroon",
            "Central African Republic",
            "Chad",
            "Chile",
            "Colombia",
            "DR Congo",
            "Ethiopia",
            "Guinea",
            "Haiti",
            "Iraq",
            "Jamaica",
            "Kenya",
            "Lebanon",
            "Mali",
            "Mozambique",
            "Myanmar",
            "Niger",
            "Nigeria",
            "Occupied Palestinian Territories",
            "Pakistan",
            "Poland",
            "Somalia",
            "South Sudan",
            "Sudan",
            "Syrian Arab Republic",
            "Ukraine",
            "Yemen"
           ],
           "legendgroup": "",
           "locationmode": "country names",
           "locations": [
            "Afghanistan",
            "Angola",
            "Burkina Faso",
            "Burundi",
            "Cameroon",
            "Central African Republic",
            "Chad",
            "Chile",
            "Colombia",
            "DR Congo",
            "Ethiopia",
            "Guinea",
            "Haiti",
            "Iraq",
            "Jamaica",
            "Kenya",
            "Lebanon",
            "Mali",
            "Mozambique",
            "Myanmar",
            "Niger",
            "Nigeria",
            "Occupied Palestinian Territories",
            "Pakistan",
            "Poland",
            "Somalia",
            "South Sudan",
            "Sudan",
            "Syrian Arab Republic",
            "Ukraine",
            "Yemen"
           ],
           "marker": {
            "color": "red",
            "opacity": 0.5,
            "size": {
             "bdata": "BAABAAwAAQAUAAkABAABAAIAFQAOAAEABAABAAEAAwApABEABQAQAAIALAAJAQEAAQATACwATwAaAB8AGAA=",
             "dtype": "i2"
            },
            "sizemode": "area",
            "sizeref": 0.106,
            "symbol": "circle"
           },
           "mode": "markers",
           "name": "",
           "showlegend": false,
           "type": "scattergeo"
          }
         ],
         "name": "2024"
        },
        {
         "data": [
          {
           "customdata": [
            [
             "2025",
             1
            ],
            [
             "2025",
             7
            ],
            [
             "2025",
             2
            ],
            [
             "2025",
             3
            ],
            [
             "2025",
             5
            ],
            [
             "2025",
             20
            ],
            [
             "2025",
             1
            ],
            [
             "2025",
             7
            ],
            [
             "2025",
             13
            ],
            [
             "2025",
             6
            ],
            [
             "2025",
             2
            ],
            [
             "2025",
             1
            ]
           ],
           "geo": "geo",
           "hovertemplate": "<b>%{hovertext}</b><br><br>Year=%{customdata[0]}<br>TotalAffected=%{customdata[1]}<br>Country=%{location}<extra></extra>",
           "hovertext": [
            "Afghanistan",
            "DR Congo",
            "Mali",
            "Myanmar",
            "Nigeria",
            "Occupied Palestinian Territories",
            "Pakistan",
            "South Sudan",
            "Sudan",
            "Syrian Arab Republic",
            "Ukraine",
            "Yemen"
           ],
           "legendgroup": "",
           "locationmode": "country names",
           "locations": [
            "Afghanistan",
            "DR Congo",
            "Mali",
            "Myanmar",
            "Nigeria",
            "Occupied Palestinian Territories",
            "Pakistan",
            "South Sudan",
            "Sudan",
            "Syrian Arab Republic",
            "Ukraine",
            "Yemen"
           ],
           "marker": {
            "color": "red",
            "opacity": 0.5,
            "size": {
             "bdata": "AQcCAwUUAQcNBgIB",
             "dtype": "i1"
            },
            "sizemode": "area",
            "sizeref": 0.106,
            "symbol": "circle"
           },
           "mode": "markers",
           "name": "",
           "showlegend": false,
           "type": "scattergeo"
          }
         ],
         "name": "2025"
        }
       ],
       "layout": {
        "geo": {
         "center": {},
         "domain": {
          "x": [
           0,
           1
          ],
          "y": [
           0,
           1
          ]
         },
         "projection": {
          "type": "natural earth"
         },
         "showcoastlines": true,
         "showframe": false
        },
        "legend": {
         "itemsizing": "constant",
         "tracegroupgap": 0
        },
        "margin": {
         "b": 0,
         "l": 0,
         "r": 0,
         "t": 100
        },
        "sliders": [
         {
          "active": 0,
          "currentvalue": {
           "prefix": "Year=",
           "visible": false
          },
          "len": 0.4,
          "pad": {
           "b": 1,
           "t": 60
          },
          "steps": [
           {
            "args": [
             [
              "1997"
             ],
             {
              "frame": {
               "duration": 0,
               "redraw": true
              },
              "mode": "immediate",
              "transition": {
               "duration": 2
              }
             }
            ],
            "label": "1997",
            "method": "animate"
           },
           {
            "args": [
             [
              "1998"
             ],
             {
              "frame": {
               "duration": 0,
               "redraw": true
              },
              "mode": "immediate",
              "transition": {
               "duration": 2
              }
             }
            ],
            "label": "1998",
            "method": "animate"
           },
           {
            "args": [
             [
              "1999"
             ],
             {
              "frame": {
               "duration": 0,
               "redraw": true
              },
              "mode": "immediate",
              "transition": {
               "duration": 2
              }
             }
            ],
            "label": "1999",
            "method": "animate"
           },
           {
            "args": [
             [
              "2000"
             ],
             {
              "frame": {
               "duration": 0,
               "redraw": true
              },
              "mode": "immediate",
              "transition": {
               "duration": 2
              }
             }
            ],
            "label": "2000",
            "method": "animate"
           },
           {
            "args": [
             [
              "2001"
             ],
             {
              "frame": {
               "duration": 0,
               "redraw": true
              },
              "mode": "immediate",
              "transition": {
               "duration": 2
              }
             }
            ],
            "label": "2001",
            "method": "animate"
           },
           {
            "args": [
             [
              "2002"
             ],
             {
              "frame": {
               "duration": 0,
               "redraw": true
              },
              "mode": "immediate",
              "transition": {
               "duration": 2
              }
             }
            ],
            "label": "2002",
            "method": "animate"
           },
           {
            "args": [
             [
              "2003"
             ],
             {
              "frame": {
               "duration": 0,
               "redraw": true
              },
              "mode": "immediate",
              "transition": {
               "duration": 2
              }
             }
            ],
            "label": "2003",
            "method": "animate"
           },
           {
            "args": [
             [
              "2004"
             ],
             {
              "frame": {
               "duration": 0,
               "redraw": true
              },
              "mode": "immediate",
              "transition": {
               "duration": 2
              }
             }
            ],
            "label": "2004",
            "method": "animate"
           },
           {
            "args": [
             [
              "2005"
             ],
             {
              "frame": {
               "duration": 0,
               "redraw": true
              },
              "mode": "immediate",
              "transition": {
               "duration": 2
              }
             }
            ],
            "label": "2005",
            "method": "animate"
           },
           {
            "args": [
             [
              "2006"
             ],
             {
              "frame": {
               "duration": 0,
               "redraw": true
              },
              "mode": "immediate",
              "transition": {
               "duration": 2
              }
             }
            ],
            "label": "2006",
            "method": "animate"
           },
           {
            "args": [
             [
              "2007"
             ],
             {
              "frame": {
               "duration": 0,
               "redraw": true
              },
              "mode": "immediate",
              "transition": {
               "duration": 2
              }
             }
            ],
            "label": "2007",
            "method": "animate"
           },
           {
            "args": [
             [
              "2008"
             ],
             {
              "frame": {
               "duration": 0,
               "redraw": true
              },
              "mode": "immediate",
              "transition": {
               "duration": 2
              }
             }
            ],
            "label": "2008",
            "method": "animate"
           },
           {
            "args": [
             [
              "2009"
             ],
             {
              "frame": {
               "duration": 0,
               "redraw": true
              },
              "mode": "immediate",
              "transition": {
               "duration": 2
              }
             }
            ],
            "label": "2009",
            "method": "animate"
           },
           {
            "args": [
             [
              "2010"
             ],
             {
              "frame": {
               "duration": 0,
               "redraw": true
              },
              "mode": "immediate",
              "transition": {
               "duration": 2
              }
             }
            ],
            "label": "2010",
            "method": "animate"
           },
           {
            "args": [
             [
              "2011"
             ],
             {
              "frame": {
               "duration": 0,
               "redraw": true
              },
              "mode": "immediate",
              "transition": {
               "duration": 2
              }
             }
            ],
            "label": "2011",
            "method": "animate"
           },
           {
            "args": [
             [
              "2012"
             ],
             {
              "frame": {
               "duration": 0,
               "redraw": true
              },
              "mode": "immediate",
              "transition": {
               "duration": 2
              }
             }
            ],
            "label": "2012",
            "method": "animate"
           },
           {
            "args": [
             [
              "2013"
             ],
             {
              "frame": {
               "duration": 0,
               "redraw": true
              },
              "mode": "immediate",
              "transition": {
               "duration": 2
              }
             }
            ],
            "label": "2013",
            "method": "animate"
           },
           {
            "args": [
             [
              "2014"
             ],
             {
              "frame": {
               "duration": 0,
               "redraw": true
              },
              "mode": "immediate",
              "transition": {
               "duration": 2
              }
             }
            ],
            "label": "2014",
            "method": "animate"
           },
           {
            "args": [
             [
              "2015"
             ],
             {
              "frame": {
               "duration": 0,
               "redraw": true
              },
              "mode": "immediate",
              "transition": {
               "duration": 2
              }
             }
            ],
            "label": "2015",
            "method": "animate"
           },
           {
            "args": [
             [
              "2016"
             ],
             {
              "frame": {
               "duration": 0,
               "redraw": true
              },
              "mode": "immediate",
              "transition": {
               "duration": 2
              }
             }
            ],
            "label": "2016",
            "method": "animate"
           },
           {
            "args": [
             [
              "2017"
             ],
             {
              "frame": {
               "duration": 0,
               "redraw": true
              },
              "mode": "immediate",
              "transition": {
               "duration": 2
              }
             }
            ],
            "label": "2017",
            "method": "animate"
           },
           {
            "args": [
             [
              "2018"
             ],
             {
              "frame": {
               "duration": 0,
               "redraw": true
              },
              "mode": "immediate",
              "transition": {
               "duration": 2
              }
             }
            ],
            "label": "2018",
            "method": "animate"
           },
           {
            "args": [
             [
              "2019"
             ],
             {
              "frame": {
               "duration": 0,
               "redraw": true
              },
              "mode": "immediate",
              "transition": {
               "duration": 2
              }
             }
            ],
            "label": "2019",
            "method": "animate"
           },
           {
            "args": [
             [
              "2020"
             ],
             {
              "frame": {
               "duration": 0,
               "redraw": true
              },
              "mode": "immediate",
              "transition": {
               "duration": 2
              }
             }
            ],
            "label": "2020",
            "method": "animate"
           },
           {
            "args": [
             [
              "2021"
             ],
             {
              "frame": {
               "duration": 0,
               "redraw": true
              },
              "mode": "immediate",
              "transition": {
               "duration": 2
              }
             }
            ],
            "label": "2021",
            "method": "animate"
           },
           {
            "args": [
             [
              "2022"
             ],
             {
              "frame": {
               "duration": 0,
               "redraw": true
              },
              "mode": "immediate",
              "transition": {
               "duration": 2
              }
             }
            ],
            "label": "2022",
            "method": "animate"
           },
           {
            "args": [
             [
              "2023"
             ],
             {
              "frame": {
               "duration": 0,
               "redraw": true
              },
              "mode": "immediate",
              "transition": {
               "duration": 2
              }
             }
            ],
            "label": "2023",
            "method": "animate"
           },
           {
            "args": [
             [
              "2024"
             ],
             {
              "frame": {
               "duration": 0,
               "redraw": true
              },
              "mode": "immediate",
              "transition": {
               "duration": 2
              }
             }
            ],
            "label": "2024",
            "method": "animate"
           },
           {
            "args": [
             [
              "2025"
             ],
             {
              "frame": {
               "duration": 0,
               "redraw": true
              },
              "mode": "immediate",
              "transition": {
               "duration": 2
              }
             }
            ],
            "label": "2025",
            "method": "animate"
           }
          ],
          "transition": {
           "duration": 500,
           "easing": "linear"
          },
          "x": 0.3,
          "xanchor": "left",
          "y": 0.22,
          "yanchor": "top"
         }
        ],
        "template": {
         "data": {
          "bar": [
           {
            "error_x": {
             "color": "#2a3f5f"
            },
            "error_y": {
             "color": "#2a3f5f"
            },
            "marker": {
             "line": {
              "color": "#E5ECF6",
              "width": 0.5
             },
             "pattern": {
              "fillmode": "overlay",
              "size": 10,
              "solidity": 0.2
             }
            },
            "type": "bar"
           }
          ],
          "barpolar": [
           {
            "marker": {
             "line": {
              "color": "#E5ECF6",
              "width": 0.5
             },
             "pattern": {
              "fillmode": "overlay",
              "size": 10,
              "solidity": 0.2
             }
            },
            "type": "barpolar"
           }
          ],
          "carpet": [
           {
            "aaxis": {
             "endlinecolor": "#2a3f5f",
             "gridcolor": "white",
             "linecolor": "white",
             "minorgridcolor": "white",
             "startlinecolor": "#2a3f5f"
            },
            "baxis": {
             "endlinecolor": "#2a3f5f",
             "gridcolor": "white",
             "linecolor": "white",
             "minorgridcolor": "white",
             "startlinecolor": "#2a3f5f"
            },
            "type": "carpet"
           }
          ],
          "choropleth": [
           {
            "colorbar": {
             "outlinewidth": 0,
             "ticks": ""
            },
            "type": "choropleth"
           }
          ],
          "contour": [
           {
            "colorbar": {
             "outlinewidth": 0,
             "ticks": ""
            },
            "colorscale": [
             [
              0,
              "#0d0887"
             ],
             [
              0.1111111111111111,
              "#46039f"
             ],
             [
              0.2222222222222222,
              "#7201a8"
             ],
             [
              0.3333333333333333,
              "#9c179e"
             ],
             [
              0.4444444444444444,
              "#bd3786"
             ],
             [
              0.5555555555555556,
              "#d8576b"
             ],
             [
              0.6666666666666666,
              "#ed7953"
             ],
             [
              0.7777777777777778,
              "#fb9f3a"
             ],
             [
              0.8888888888888888,
              "#fdca26"
             ],
             [
              1,
              "#f0f921"
             ]
            ],
            "type": "contour"
           }
          ],
          "contourcarpet": [
           {
            "colorbar": {
             "outlinewidth": 0,
             "ticks": ""
            },
            "type": "contourcarpet"
           }
          ],
          "heatmap": [
           {
            "colorbar": {
             "outlinewidth": 0,
             "ticks": ""
            },
            "colorscale": [
             [
              0,
              "#0d0887"
             ],
             [
              0.1111111111111111,
              "#46039f"
             ],
             [
              0.2222222222222222,
              "#7201a8"
             ],
             [
              0.3333333333333333,
              "#9c179e"
             ],
             [
              0.4444444444444444,
              "#bd3786"
             ],
             [
              0.5555555555555556,
              "#d8576b"
             ],
             [
              0.6666666666666666,
              "#ed7953"
             ],
             [
              0.7777777777777778,
              "#fb9f3a"
             ],
             [
              0.8888888888888888,
              "#fdca26"
             ],
             [
              1,
              "#f0f921"
             ]
            ],
            "type": "heatmap"
           }
          ],
          "histogram": [
           {
            "marker": {
             "pattern": {
              "fillmode": "overlay",
              "size": 10,
              "solidity": 0.2
             }
            },
            "type": "histogram"
           }
          ],
          "histogram2d": [
           {
            "colorbar": {
             "outlinewidth": 0,
             "ticks": ""
            },
            "colorscale": [
             [
              0,
              "#0d0887"
             ],
             [
              0.1111111111111111,
              "#46039f"
             ],
             [
              0.2222222222222222,
              "#7201a8"
             ],
             [
              0.3333333333333333,
              "#9c179e"
             ],
             [
              0.4444444444444444,
              "#bd3786"
             ],
             [
              0.5555555555555556,
              "#d8576b"
             ],
             [
              0.6666666666666666,
              "#ed7953"
             ],
             [
              0.7777777777777778,
              "#fb9f3a"
             ],
             [
              0.8888888888888888,
              "#fdca26"
             ],
             [
              1,
              "#f0f921"
             ]
            ],
            "type": "histogram2d"
           }
          ],
          "histogram2dcontour": [
           {
            "colorbar": {
             "outlinewidth": 0,
             "ticks": ""
            },
            "colorscale": [
             [
              0,
              "#0d0887"
             ],
             [
              0.1111111111111111,
              "#46039f"
             ],
             [
              0.2222222222222222,
              "#7201a8"
             ],
             [
              0.3333333333333333,
              "#9c179e"
             ],
             [
              0.4444444444444444,
              "#bd3786"
             ],
             [
              0.5555555555555556,
              "#d8576b"
             ],
             [
              0.6666666666666666,
              "#ed7953"
             ],
             [
              0.7777777777777778,
              "#fb9f3a"
             ],
             [
              0.8888888888888888,
              "#fdca26"
             ],
             [
              1,
              "#f0f921"
             ]
            ],
            "type": "histogram2dcontour"
           }
          ],
          "mesh3d": [
           {
            "colorbar": {
             "outlinewidth": 0,
             "ticks": ""
            },
            "type": "mesh3d"
           }
          ],
          "parcoords": [
           {
            "line": {
             "colorbar": {
              "outlinewidth": 0,
              "ticks": ""
             }
            },
            "type": "parcoords"
           }
          ],
          "pie": [
           {
            "automargin": true,
            "type": "pie"
           }
          ],
          "scatter": [
           {
            "fillpattern": {
             "fillmode": "overlay",
             "size": 10,
             "solidity": 0.2
            },
            "type": "scatter"
           }
          ],
          "scatter3d": [
           {
            "line": {
             "colorbar": {
              "outlinewidth": 0,
              "ticks": ""
             }
            },
            "marker": {
             "colorbar": {
              "outlinewidth": 0,
              "ticks": ""
             }
            },
            "type": "scatter3d"
           }
          ],
          "scattercarpet": [
           {
            "marker": {
             "colorbar": {
              "outlinewidth": 0,
              "ticks": ""
             }
            },
            "type": "scattercarpet"
           }
          ],
          "scattergeo": [
           {
            "marker": {
             "colorbar": {
              "outlinewidth": 0,
              "ticks": ""
             }
            },
            "type": "scattergeo"
           }
          ],
          "scattergl": [
           {
            "marker": {
             "colorbar": {
              "outlinewidth": 0,
              "ticks": ""
             }
            },
            "type": "scattergl"
           }
          ],
          "scattermap": [
           {
            "marker": {
             "colorbar": {
              "outlinewidth": 0,
              "ticks": ""
             }
            },
            "type": "scattermap"
           }
          ],
          "scattermapbox": [
           {
            "marker": {
             "colorbar": {
              "outlinewidth": 0,
              "ticks": ""
             }
            },
            "type": "scattermapbox"
           }
          ],
          "scatterpolar": [
           {
            "marker": {
             "colorbar": {
              "outlinewidth": 0,
              "ticks": ""
             }
            },
            "type": "scatterpolar"
           }
          ],
          "scatterpolargl": [
           {
            "marker": {
             "colorbar": {
              "outlinewidth": 0,
              "ticks": ""
             }
            },
            "type": "scatterpolargl"
           }
          ],
          "scatterternary": [
           {
            "marker": {
             "colorbar": {
              "outlinewidth": 0,
              "ticks": ""
             }
            },
            "type": "scatterternary"
           }
          ],
          "surface": [
           {
            "colorbar": {
             "outlinewidth": 0,
             "ticks": ""
            },
            "colorscale": [
             [
              0,
              "#0d0887"
             ],
             [
              0.1111111111111111,
              "#46039f"
             ],
             [
              0.2222222222222222,
              "#7201a8"
             ],
             [
              0.3333333333333333,
              "#9c179e"
             ],
             [
              0.4444444444444444,
              "#bd3786"
             ],
             [
              0.5555555555555556,
              "#d8576b"
             ],
             [
              0.6666666666666666,
              "#ed7953"
             ],
             [
              0.7777777777777778,
              "#fb9f3a"
             ],
             [
              0.8888888888888888,
              "#fdca26"
             ],
             [
              1,
              "#f0f921"
             ]
            ],
            "type": "surface"
           }
          ],
          "table": [
           {
            "cells": {
             "fill": {
              "color": "#EBF0F8"
             },
             "line": {
              "color": "white"
             }
            },
            "header": {
             "fill": {
              "color": "#C8D4E3"
             },
             "line": {
              "color": "white"
             }
            },
            "type": "table"
           }
          ]
         },
         "layout": {
          "annotationdefaults": {
           "arrowcolor": "#2a3f5f",
           "arrowhead": 0,
           "arrowwidth": 1
          },
          "autotypenumbers": "strict",
          "coloraxis": {
           "colorbar": {
            "outlinewidth": 0,
            "ticks": ""
           }
          },
          "colorscale": {
           "diverging": [
            [
             0,
             "#8e0152"
            ],
            [
             0.1,
             "#c51b7d"
            ],
            [
             0.2,
             "#de77ae"
            ],
            [
             0.3,
             "#f1b6da"
            ],
            [
             0.4,
             "#fde0ef"
            ],
            [
             0.5,
             "#f7f7f7"
            ],
            [
             0.6,
             "#e6f5d0"
            ],
            [
             0.7,
             "#b8e186"
            ],
            [
             0.8,
             "#7fbc41"
            ],
            [
             0.9,
             "#4d9221"
            ],
            [
             1,
             "#276419"
            ]
           ],
           "sequential": [
            [
             0,
             "#0d0887"
            ],
            [
             0.1111111111111111,
             "#46039f"
            ],
            [
             0.2222222222222222,
             "#7201a8"
            ],
            [
             0.3333333333333333,
             "#9c179e"
            ],
            [
             0.4444444444444444,
             "#bd3786"
            ],
            [
             0.5555555555555556,
             "#d8576b"
            ],
            [
             0.6666666666666666,
             "#ed7953"
            ],
            [
             0.7777777777777778,
             "#fb9f3a"
            ],
            [
             0.8888888888888888,
             "#fdca26"
            ],
            [
             1,
             "#f0f921"
            ]
           ],
           "sequentialminus": [
            [
             0,
             "#0d0887"
            ],
            [
             0.1111111111111111,
             "#46039f"
            ],
            [
             0.2222222222222222,
             "#7201a8"
            ],
            [
             0.3333333333333333,
             "#9c179e"
            ],
            [
             0.4444444444444444,
             "#bd3786"
            ],
            [
             0.5555555555555556,
             "#d8576b"
            ],
            [
             0.6666666666666666,
             "#ed7953"
            ],
            [
             0.7777777777777778,
             "#fb9f3a"
            ],
            [
             0.8888888888888888,
             "#fdca26"
            ],
            [
             1,
             "#f0f921"
            ]
           ]
          },
          "colorway": [
           "#636efa",
           "#EF553B",
           "#00cc96",
           "#ab63fa",
           "#FFA15A",
           "#19d3f3",
           "#FF6692",
           "#B6E880",
           "#FF97FF",
           "#FECB52"
          ],
          "font": {
           "color": "#2a3f5f"
          },
          "geo": {
           "bgcolor": "white",
           "lakecolor": "white",
           "landcolor": "#E5ECF6",
           "showlakes": true,
           "showland": true,
           "subunitcolor": "white"
          },
          "hoverlabel": {
           "align": "left"
          },
          "hovermode": "closest",
          "mapbox": {
           "style": "light"
          },
          "paper_bgcolor": "white",
          "plot_bgcolor": "#E5ECF6",
          "polar": {
           "angularaxis": {
            "gridcolor": "white",
            "linecolor": "white",
            "ticks": ""
           },
           "bgcolor": "#E5ECF6",
           "radialaxis": {
            "gridcolor": "white",
            "linecolor": "white",
            "ticks": ""
           }
          },
          "scene": {
           "xaxis": {
            "backgroundcolor": "#E5ECF6",
            "gridcolor": "white",
            "gridwidth": 2,
            "linecolor": "white",
            "showbackground": true,
            "ticks": "",
            "zerolinecolor": "white"
           },
           "yaxis": {
            "backgroundcolor": "#E5ECF6",
            "gridcolor": "white",
            "gridwidth": 2,
            "linecolor": "white",
            "showbackground": true,
            "ticks": "",
            "zerolinecolor": "white"
           },
           "zaxis": {
            "backgroundcolor": "#E5ECF6",
            "gridcolor": "white",
            "gridwidth": 2,
            "linecolor": "white",
            "showbackground": true,
            "ticks": "",
            "zerolinecolor": "white"
           }
          },
          "shapedefaults": {
           "line": {
            "color": "#2a3f5f"
           }
          },
          "ternary": {
           "aaxis": {
            "gridcolor": "white",
            "linecolor": "white",
            "ticks": ""
           },
           "baxis": {
            "gridcolor": "white",
            "linecolor": "white",
            "ticks": ""
           },
           "bgcolor": "#E5ECF6",
           "caxis": {
            "gridcolor": "white",
            "linecolor": "white",
            "ticks": ""
           }
          },
          "title": {
           "x": 0.05
          },
          "xaxis": {
           "automargin": true,
           "gridcolor": "white",
           "linecolor": "white",
           "ticks": "",
           "title": {
            "standoff": 15
           },
           "zerolinecolor": "white",
           "zerolinewidth": 2
          },
          "yaxis": {
           "automargin": true,
           "gridcolor": "white",
           "linecolor": "white",
           "ticks": "",
           "title": {
            "standoff": 15
           },
           "zerolinecolor": "white",
           "zerolinewidth": 2
          }
         }
        },
        "updatemenus": [
         {
          "buttons": [
           {
            "args": [
             null,
             {
              "frame": {
               "duration": 1000,
               "redraw": true
              },
              "fromcurrent": true,
              "loop": true,
              "transition": {
               "duration": 500,
               "easing": "linear"
              }
             }
            ],
            "label": "&#9654;",
            "method": "animate"
           },
           {
            "args": [
             [
              null
             ],
             {
              "frame": {
               "duration": 0,
               "redraw": false
              },
              "mode": "immediate",
              "transition": {
               "duration": 0
              }
             }
            ],
            "label": "&#9724;",
            "method": "animate"
           }
          ],
          "direction": "left",
          "pad": {
           "r": 10,
           "t": 87
          },
          "showactive": false,
          "type": "buttons",
          "x": 0.1,
          "xanchor": "right",
          "y": 0.3,
          "yanchor": "top"
         }
        ]
       }
      }
     },
     "metadata": {},
     "output_type": "display_data"
    }
   ],
   "source": [
    "import pandas as pd\n",
    "import plotly.express as px\n",
    "\n",
    "df = pd.read_csv(\"../data/processed/security_incidents_clean.csv\")\n",
    "\n",
    "# Convert Year to string for animation\n",
    "df['Year'] = df['Year'].astype(str)\n",
    "\n",
    "# Summarize total affected per Country-Year\n",
    "bubble_data = df.groupby(['Country', 'Year'], as_index=False)['Total affected'].sum()\n",
    "\n",
    "# Rename for simplicity\n",
    "bubble_data = bubble_data.rename(columns={'Total affected': 'TotalAffected'})\n",
    "\n",
    "# Create the animated bubble map\n",
    "fig = px.scatter_geo(\n",
    "    bubble_data,\n",
    "    locations='Country',\n",
    "    locationmode='country names',  \n",
    "    size='TotalAffected',\n",
    "    color_discrete_sequence=['red'],\n",
    "    opacity=0.5,\n",
    "    animation_frame='Year',\n",
    "    projection='natural earth',\n",
    "    size_max=50,\n",
    "    hover_name='Country',\n",
    "    hover_data={'Year': True, 'TotalAffected': True}\n",
    ")\n",
    "\n",
    "# Define conflict annotations (start and end years, with text)\n",
    "conflict_annotations = [\n",
    "    {\"start\": 1998, \"end\": 1999, \"text\": \"Second Congo War\"},\n",
    "    {\"start\": 2001, \"end\": 2002, \"text\": \"Invasion of Afghanistan\"},\n",
    "    {\"start\": 2003, \"end\": 2004, \"text\": \"Invasion of Iraq\"},\n",
    "    {\"start\": 2013, \"end\": 2014, \"text\": \"South Sudanese Civil War\"},\n",
    "    {\"start\": 2022, \"end\": 2023, \"text\": \"Invasion of Ukraine\"}\n",
    "]\n",
    "\n",
    "# Add annotations to each existing auto-generated frame\n",
    "for frame in fig.frames:\n",
    "    year = int(frame.name)\n",
    "    annotations = []\n",
    "    for conflict in conflict_annotations:\n",
    "        if conflict[\"start\"] <= year <= conflict[\"end\"]:\n",
    "            annotations.append(dict(\n",
    "                text=conflict[\"text\"],\n",
    "                x=0.5,\n",
    "                y=0.95,\n",
    "                xref=\"paper\",\n",
    "                yref=\"paper\",\n",
    "                showarrow=False,\n",
    "                font=dict(family=\"Courier New, monospace\", size=16, color=\"black\"),\n",
    "                bgcolor=\"rgba(255, 255, 255, 0.7)\",\n",
    "                bordercolor=\"black\",\n",
    "                borderwidth=1\n",
    "            ))\n",
    "    frame.layout.annotations = annotations\n",
    "\n",
    "# Style layout\n",
    "fig.update_layout(\n",
    "    geo=dict(\n",
    "        showframe=False,\n",
    "        showcoastlines=True,\n",
    "        projection_type='natural earth'\n",
    "    ),\n",
    "    margin=dict(l=0, r=0, t=100, b=0),  \n",
    "    updatemenus=[{\n",
    "        \"buttons\": [\n",
    "            {\n",
    "                \"args\": [None, {\n",
    "                    \"frame\": {\"duration\": 1000, \"redraw\": True},\n",
    "                    \"fromcurrent\": True,\n",
    "                    \"transition\": {\"duration\": 500, \"easing\": \"linear\"},\n",
    "                    \"loop\": True\n",
    "                }],\n",
    "                \"method\": \"animate\"\n",
    "            },\n",
    "            {\n",
    "                \"args\": [[None], {\n",
    "                    \"frame\": {\"duration\": 0, \"redraw\": False},\n",
    "                    \"mode\": \"immediate\",\n",
    "                    \"transition\": {\"duration\": 0}\n",
    "                }],\n",
    "                \"method\": \"animate\"\n",
    "            }\n",
    "        ],\n",
    "        \"direction\": \"left\",\n",
    "        \"pad\": {\"r\": 10, \"t\": 87},\n",
    "        \"showactive\": False,\n",
    "        \"type\": \"buttons\",\n",
    "        \"x\": 0.1,\n",
    "        \"xanchor\": \"right\",\n",
    "        \"y\": 0.3,\n",
    "        \"yanchor\": \"top\"\n",
    "    }],\n",
    "    sliders=[{\n",
    "        \"active\": 0,\n",
    "        \"x\": 0.3,\n",
    "        \"len\": 0.4,\n",
    "        \"xanchor\": \"left\",\n",
    "        \"yanchor\": \"top\",\n",
    "        \"y\": 0.22,\n",
    "        \"pad\": {\"b\": 1},\n",
    "        \"transition\": {\"duration\": 500, \"easing\": \"linear\"},\n",
    "        \"currentvalue\": {\"visible\": False},\n",
    "        \"steps\": [\n",
    "            {\n",
    "                \"args\": [[str(year)], {\n",
    "                    \"frame\": {\"duration\": 0, \"redraw\": True},\n",
    "                    \"mode\": \"immediate\",\n",
    "                    \"transition\": {\"duration\": 2}\n",
    "                }],\n",
    "                \"label\": str(year),\n",
    "                \"method\": \"animate\"\n",
    "            }\n",
    "            for year in sorted(df['Year'].unique())\n",
    "        ]\n",
    "    }]\n",
    ")\n",
    "\n",
    "# Save and show\n",
    "fig.write_html(\"../plots/worldmap_totalaffected.html\")\n",
    "fig.show()"
   ]
  },
  {
   "cell_type": "code",
   "execution_count": 215,
   "metadata": {},
   "outputs": [
    {
     "data": {
      "application/vnd.plotly.v1+json": {
       "config": {
        "plotlyServerURL": "https://plot.ly"
       },
       "data": [
        {
         "customdata": [
          [
           "1997",
           1
          ],
          [
           "1997",
           3
          ],
          [
           "1997",
           1
          ],
          [
           "1997",
           1
          ],
          [
           "1997",
           15
          ],
          [
           "1997",
           3
          ],
          [
           "1997",
           10
          ],
          [
           "1997",
           2
          ],
          [
           "1997",
           10
          ],
          [
           "1997",
           3
          ],
          [
           "1997",
           15
          ],
          [
           "1997",
           1
          ],
          [
           "1997",
           8
          ]
         ],
         "geo": "geo",
         "hovertemplate": "<b>%{hovertext}</b><br><br>Year=%{customdata[0]}<br>TotalAffected=%{customdata[1]}<br>Country=%{location}<extra></extra>",
         "hovertext": [
          "Afghanistan",
          "Angola",
          "Bangladesh",
          "Cambodia",
          "Chechnya",
          "Congo",
          "DR Congo",
          "Ethiopia",
          "Rwanda",
          "Sierra Leone",
          "Somalia",
          "South Sudan",
          "Tajikistan"
         ],
         "legendgroup": "",
         "locationmode": "country names",
         "locations": [
          "Afghanistan",
          "Angola",
          "Bangladesh",
          "Cambodia",
          "Chechnya",
          "Congo",
          "DR Congo",
          "Ethiopia",
          "Rwanda",
          "Sierra Leone",
          "Somalia",
          "South Sudan",
          "Tajikistan"
         ],
         "marker": {
          "color": "red",
          "opacity": 0.5,
          "size": {
           "bdata": "AQMBAQ8DCgIKAw8BCA==",
           "dtype": "i1"
          },
          "sizemode": "area",
          "sizeref": 0.106,
          "symbol": "circle"
         },
         "mode": "markers",
         "name": "",
         "showlegend": false,
         "type": "scattergeo"
        }
       ],
       "frames": [
        {
         "name": "1997"
        },
        {
         "layout": {
          "annotations": [
           {
            "bgcolor": "rgba(255, 255, 255, 0.7)",
            "bordercolor": "black",
            "borderwidth": 1,
            "font": {
             "color": "black",
             "size": 16
            },
            "showarrow": false,
            "text": "Second Congo War",
            "x": 0.5,
            "xref": "paper",
            "y": 1.08,
            "yref": "paper"
           }
          ]
         },
         "name": "1998"
        },
        {
         "layout": {
          "annotations": [
           {
            "bgcolor": "rgba(255, 255, 255, 0.7)",
            "bordercolor": "black",
            "borderwidth": 1,
            "font": {
             "color": "black",
             "size": 16
            },
            "showarrow": false,
            "text": "Second Congo War",
            "x": 0.5,
            "xref": "paper",
            "y": 1.08,
            "yref": "paper"
           }
          ]
         },
         "name": "1999"
        },
        {
         "name": "2000"
        },
        {
         "layout": {
          "annotations": [
           {
            "bgcolor": "rgba(255, 255, 255, 0.7)",
            "bordercolor": "black",
            "borderwidth": 1,
            "font": {
             "color": "black",
             "size": 16
            },
            "showarrow": false,
            "text": "Invasion of Afghanistan",
            "x": 0.5,
            "xref": "paper",
            "y": 1.08,
            "yref": "paper"
           }
          ]
         },
         "name": "2001"
        },
        {
         "layout": {
          "annotations": [
           {
            "bgcolor": "rgba(255, 255, 255, 0.7)",
            "bordercolor": "black",
            "borderwidth": 1,
            "font": {
             "color": "black",
             "size": 16
            },
            "showarrow": false,
            "text": "Invasion of Afghanistan",
            "x": 0.5,
            "xref": "paper",
            "y": 1.08,
            "yref": "paper"
           }
          ]
         },
         "name": "2002"
        },
        {
         "layout": {
          "annotations": [
           {
            "bgcolor": "rgba(255, 255, 255, 0.7)",
            "bordercolor": "black",
            "borderwidth": 1,
            "font": {
             "color": "black",
             "size": 16
            },
            "showarrow": false,
            "text": "Invasion of Iraq",
            "x": 0.5,
            "xref": "paper",
            "y": 1.08,
            "yref": "paper"
           }
          ]
         },
         "name": "2003"
        },
        {
         "layout": {
          "annotations": [
           {
            "bgcolor": "rgba(255, 255, 255, 0.7)",
            "bordercolor": "black",
            "borderwidth": 1,
            "font": {
             "color": "black",
             "size": 16
            },
            "showarrow": false,
            "text": "Invasion of Iraq",
            "x": 0.5,
            "xref": "paper",
            "y": 1.08,
            "yref": "paper"
           }
          ]
         },
         "name": "2004"
        },
        {
         "layout": {
          "annotations": [
           {
            "bgcolor": "rgba(255, 255, 255, 0.7)",
            "bordercolor": "black",
            "borderwidth": 1,
            "font": {
             "color": "black",
             "size": 16
            },
            "showarrow": false,
            "text": "Invasion of Iraq",
            "x": 0.5,
            "xref": "paper",
            "y": 1.08,
            "yref": "paper"
           }
          ]
         },
         "name": "2005"
        },
        {
         "layout": {
          "annotations": [
           {
            "bgcolor": "rgba(255, 255, 255, 0.7)",
            "bordercolor": "black",
            "borderwidth": 1,
            "font": {
             "color": "black",
             "size": 16
            },
            "showarrow": false,
            "text": "Invasion of Iraq",
            "x": 0.5,
            "xref": "paper",
            "y": 1.08,
            "yref": "paper"
           }
          ]
         },
         "name": "2006"
        },
        {
         "layout": {
          "annotations": [
           {
            "bgcolor": "rgba(255, 255, 255, 0.7)",
            "bordercolor": "black",
            "borderwidth": 1,
            "font": {
             "color": "black",
             "size": 16
            },
            "showarrow": false,
            "text": "Invasion of Iraq",
            "x": 0.5,
            "xref": "paper",
            "y": 1.08,
            "yref": "paper"
           }
          ]
         },
         "name": "2007"
        },
        {
         "layout": {
          "annotations": [
           {
            "bgcolor": "rgba(255, 255, 255, 0.7)",
            "bordercolor": "black",
            "borderwidth": 1,
            "font": {
             "color": "black",
             "size": 16
            },
            "showarrow": false,
            "text": "Invasion of Iraq",
            "x": 0.5,
            "xref": "paper",
            "y": 1.08,
            "yref": "paper"
           }
          ]
         },
         "name": "2008"
        },
        {
         "layout": {
          "annotations": [
           {
            "bgcolor": "rgba(255, 255, 255, 0.7)",
            "bordercolor": "black",
            "borderwidth": 1,
            "font": {
             "color": "black",
             "size": 16
            },
            "showarrow": false,
            "text": "Invasion of Iraq",
            "x": 0.5,
            "xref": "paper",
            "y": 1.08,
            "yref": "paper"
           }
          ]
         },
         "name": "2009"
        },
        {
         "layout": {
          "annotations": [
           {
            "bgcolor": "rgba(255, 255, 255, 0.7)",
            "bordercolor": "black",
            "borderwidth": 1,
            "font": {
             "color": "black",
             "size": 16
            },
            "showarrow": false,
            "text": "Invasion of Iraq",
            "x": 0.5,
            "xref": "paper",
            "y": 1.08,
            "yref": "paper"
           }
          ]
         },
         "name": "2010"
        },
        {
         "layout": {
          "annotations": [
           {
            "bgcolor": "rgba(255, 255, 255, 0.7)",
            "bordercolor": "black",
            "borderwidth": 1,
            "font": {
             "color": "black",
             "size": 16
            },
            "showarrow": false,
            "text": "Invasion of Iraq",
            "x": 0.5,
            "xref": "paper",
            "y": 1.08,
            "yref": "paper"
           }
          ]
         },
         "name": "2011"
        },
        {
         "name": "2012"
        },
        {
         "layout": {
          "annotations": [
           {
            "bgcolor": "rgba(255, 255, 255, 0.7)",
            "bordercolor": "black",
            "borderwidth": 1,
            "font": {
             "color": "black",
             "size": 16
            },
            "showarrow": false,
            "text": "Outbreak of South Sudanese Civil War",
            "x": 0.5,
            "xref": "paper",
            "y": 1.08,
            "yref": "paper"
           }
          ]
         },
         "name": "2013"
        },
        {
         "layout": {
          "annotations": [
           {
            "bgcolor": "rgba(255, 255, 255, 0.7)",
            "bordercolor": "black",
            "borderwidth": 1,
            "font": {
             "color": "black",
             "size": 16
            },
            "showarrow": false,
            "text": "Outbreak of South Sudanese Civil War",
            "x": 0.5,
            "xref": "paper",
            "y": 1.08,
            "yref": "paper"
           }
          ]
         },
         "name": "2014"
        },
        {
         "name": "2015"
        },
        {
         "name": "2016"
        },
        {
         "name": "2017"
        },
        {
         "name": "2018"
        },
        {
         "name": "2019"
        },
        {
         "name": "2020"
        },
        {
         "name": "2021"
        },
        {
         "layout": {
          "annotations": [
           {
            "bgcolor": "rgba(255, 255, 255, 0.7)",
            "bordercolor": "black",
            "borderwidth": 1,
            "font": {
             "color": "black",
             "size": 16
            },
            "showarrow": false,
            "text": "Invasion of Ukrain",
            "x": 0.5,
            "xref": "paper",
            "y": 1.08,
            "yref": "paper"
           }
          ]
         },
         "name": "2022"
        },
        {
         "layout": {
          "annotations": [
           {
            "bgcolor": "rgba(255, 255, 255, 0.7)",
            "bordercolor": "black",
            "borderwidth": 1,
            "font": {
             "color": "black",
             "size": 16
            },
            "showarrow": false,
            "text": "Invasion of Ukrain",
            "x": 0.5,
            "xref": "paper",
            "y": 1.08,
            "yref": "paper"
           }
          ]
         },
         "name": "2023"
        },
        {
         "name": "2024"
        },
        {
         "name": "2025"
        }
       ],
       "layout": {
        "geo": {
         "center": {},
         "domain": {
          "x": [
           0,
           1
          ],
          "y": [
           0,
           1
          ]
         },
         "projection": {
          "type": "natural earth"
         },
         "showcoastlines": true,
         "showframe": false
        },
        "legend": {
         "itemsizing": "constant",
         "tracegroupgap": 0
        },
        "margin": {
         "b": 0,
         "l": 0,
         "r": 0,
         "t": 50
        },
        "sliders": [
         {
          "active": 0,
          "currentvalue": {
           "prefix": "Year=",
           "visible": false
          },
          "len": 0.4,
          "pad": {
           "b": 1,
           "t": 60
          },
          "steps": [
           {
            "args": [
             [
              "1997"
             ],
             {
              "frame": {
               "duration": 0,
               "redraw": true
              },
              "mode": "immediate",
              "transition": {
               "duration": 2
              }
             }
            ],
            "label": "1997",
            "method": "animate"
           },
           {
            "args": [
             [
              "1998"
             ],
             {
              "frame": {
               "duration": 0,
               "redraw": true
              },
              "mode": "immediate",
              "transition": {
               "duration": 2
              }
             }
            ],
            "label": "1998",
            "method": "animate"
           },
           {
            "args": [
             [
              "1999"
             ],
             {
              "frame": {
               "duration": 0,
               "redraw": true
              },
              "mode": "immediate",
              "transition": {
               "duration": 2
              }
             }
            ],
            "label": "1999",
            "method": "animate"
           },
           {
            "args": [
             [
              "2000"
             ],
             {
              "frame": {
               "duration": 0,
               "redraw": true
              },
              "mode": "immediate",
              "transition": {
               "duration": 2
              }
             }
            ],
            "label": "2000",
            "method": "animate"
           },
           {
            "args": [
             [
              "2001"
             ],
             {
              "frame": {
               "duration": 0,
               "redraw": true
              },
              "mode": "immediate",
              "transition": {
               "duration": 2
              }
             }
            ],
            "label": "2001",
            "method": "animate"
           },
           {
            "args": [
             [
              "2002"
             ],
             {
              "frame": {
               "duration": 0,
               "redraw": true
              },
              "mode": "immediate",
              "transition": {
               "duration": 2
              }
             }
            ],
            "label": "2002",
            "method": "animate"
           },
           {
            "args": [
             [
              "2003"
             ],
             {
              "frame": {
               "duration": 0,
               "redraw": true
              },
              "mode": "immediate",
              "transition": {
               "duration": 2
              }
             }
            ],
            "label": "2003",
            "method": "animate"
           },
           {
            "args": [
             [
              "2004"
             ],
             {
              "frame": {
               "duration": 0,
               "redraw": true
              },
              "mode": "immediate",
              "transition": {
               "duration": 2
              }
             }
            ],
            "label": "2004",
            "method": "animate"
           },
           {
            "args": [
             [
              "2005"
             ],
             {
              "frame": {
               "duration": 0,
               "redraw": true
              },
              "mode": "immediate",
              "transition": {
               "duration": 2
              }
             }
            ],
            "label": "2005",
            "method": "animate"
           },
           {
            "args": [
             [
              "2006"
             ],
             {
              "frame": {
               "duration": 0,
               "redraw": true
              },
              "mode": "immediate",
              "transition": {
               "duration": 2
              }
             }
            ],
            "label": "2006",
            "method": "animate"
           },
           {
            "args": [
             [
              "2007"
             ],
             {
              "frame": {
               "duration": 0,
               "redraw": true
              },
              "mode": "immediate",
              "transition": {
               "duration": 2
              }
             }
            ],
            "label": "2007",
            "method": "animate"
           },
           {
            "args": [
             [
              "2008"
             ],
             {
              "frame": {
               "duration": 0,
               "redraw": true
              },
              "mode": "immediate",
              "transition": {
               "duration": 2
              }
             }
            ],
            "label": "2008",
            "method": "animate"
           },
           {
            "args": [
             [
              "2009"
             ],
             {
              "frame": {
               "duration": 0,
               "redraw": true
              },
              "mode": "immediate",
              "transition": {
               "duration": 2
              }
             }
            ],
            "label": "2009",
            "method": "animate"
           },
           {
            "args": [
             [
              "2010"
             ],
             {
              "frame": {
               "duration": 0,
               "redraw": true
              },
              "mode": "immediate",
              "transition": {
               "duration": 2
              }
             }
            ],
            "label": "2010",
            "method": "animate"
           },
           {
            "args": [
             [
              "2011"
             ],
             {
              "frame": {
               "duration": 0,
               "redraw": true
              },
              "mode": "immediate",
              "transition": {
               "duration": 2
              }
             }
            ],
            "label": "2011",
            "method": "animate"
           },
           {
            "args": [
             [
              "2012"
             ],
             {
              "frame": {
               "duration": 0,
               "redraw": true
              },
              "mode": "immediate",
              "transition": {
               "duration": 2
              }
             }
            ],
            "label": "2012",
            "method": "animate"
           },
           {
            "args": [
             [
              "2013"
             ],
             {
              "frame": {
               "duration": 0,
               "redraw": true
              },
              "mode": "immediate",
              "transition": {
               "duration": 2
              }
             }
            ],
            "label": "2013",
            "method": "animate"
           },
           {
            "args": [
             [
              "2014"
             ],
             {
              "frame": {
               "duration": 0,
               "redraw": true
              },
              "mode": "immediate",
              "transition": {
               "duration": 2
              }
             }
            ],
            "label": "2014",
            "method": "animate"
           },
           {
            "args": [
             [
              "2015"
             ],
             {
              "frame": {
               "duration": 0,
               "redraw": true
              },
              "mode": "immediate",
              "transition": {
               "duration": 2
              }
             }
            ],
            "label": "2015",
            "method": "animate"
           },
           {
            "args": [
             [
              "2016"
             ],
             {
              "frame": {
               "duration": 0,
               "redraw": true
              },
              "mode": "immediate",
              "transition": {
               "duration": 2
              }
             }
            ],
            "label": "2016",
            "method": "animate"
           },
           {
            "args": [
             [
              "2017"
             ],
             {
              "frame": {
               "duration": 0,
               "redraw": true
              },
              "mode": "immediate",
              "transition": {
               "duration": 2
              }
             }
            ],
            "label": "2017",
            "method": "animate"
           },
           {
            "args": [
             [
              "2018"
             ],
             {
              "frame": {
               "duration": 0,
               "redraw": true
              },
              "mode": "immediate",
              "transition": {
               "duration": 2
              }
             }
            ],
            "label": "2018",
            "method": "animate"
           },
           {
            "args": [
             [
              "2019"
             ],
             {
              "frame": {
               "duration": 0,
               "redraw": true
              },
              "mode": "immediate",
              "transition": {
               "duration": 2
              }
             }
            ],
            "label": "2019",
            "method": "animate"
           },
           {
            "args": [
             [
              "2020"
             ],
             {
              "frame": {
               "duration": 0,
               "redraw": true
              },
              "mode": "immediate",
              "transition": {
               "duration": 2
              }
             }
            ],
            "label": "2020",
            "method": "animate"
           },
           {
            "args": [
             [
              "2021"
             ],
             {
              "frame": {
               "duration": 0,
               "redraw": true
              },
              "mode": "immediate",
              "transition": {
               "duration": 2
              }
             }
            ],
            "label": "2021",
            "method": "animate"
           },
           {
            "args": [
             [
              "2022"
             ],
             {
              "frame": {
               "duration": 0,
               "redraw": true
              },
              "mode": "immediate",
              "transition": {
               "duration": 2
              }
             }
            ],
            "label": "2022",
            "method": "animate"
           },
           {
            "args": [
             [
              "2023"
             ],
             {
              "frame": {
               "duration": 0,
               "redraw": true
              },
              "mode": "immediate",
              "transition": {
               "duration": 2
              }
             }
            ],
            "label": "2023",
            "method": "animate"
           },
           {
            "args": [
             [
              "2024"
             ],
             {
              "frame": {
               "duration": 0,
               "redraw": true
              },
              "mode": "immediate",
              "transition": {
               "duration": 2
              }
             }
            ],
            "label": "2024",
            "method": "animate"
           },
           {
            "args": [
             [
              "2025"
             ],
             {
              "frame": {
               "duration": 0,
               "redraw": true
              },
              "mode": "immediate",
              "transition": {
               "duration": 2
              }
             }
            ],
            "label": "2025",
            "method": "animate"
           }
          ],
          "transition": {
           "duration": 500,
           "easing": "linear"
          },
          "x": 0.3,
          "xanchor": "left",
          "y": 0,
          "yanchor": "top"
         }
        ],
        "template": {
         "data": {
          "bar": [
           {
            "error_x": {
             "color": "#2a3f5f"
            },
            "error_y": {
             "color": "#2a3f5f"
            },
            "marker": {
             "line": {
              "color": "#E5ECF6",
              "width": 0.5
             },
             "pattern": {
              "fillmode": "overlay",
              "size": 10,
              "solidity": 0.2
             }
            },
            "type": "bar"
           }
          ],
          "barpolar": [
           {
            "marker": {
             "line": {
              "color": "#E5ECF6",
              "width": 0.5
             },
             "pattern": {
              "fillmode": "overlay",
              "size": 10,
              "solidity": 0.2
             }
            },
            "type": "barpolar"
           }
          ],
          "carpet": [
           {
            "aaxis": {
             "endlinecolor": "#2a3f5f",
             "gridcolor": "white",
             "linecolor": "white",
             "minorgridcolor": "white",
             "startlinecolor": "#2a3f5f"
            },
            "baxis": {
             "endlinecolor": "#2a3f5f",
             "gridcolor": "white",
             "linecolor": "white",
             "minorgridcolor": "white",
             "startlinecolor": "#2a3f5f"
            },
            "type": "carpet"
           }
          ],
          "choropleth": [
           {
            "colorbar": {
             "outlinewidth": 0,
             "ticks": ""
            },
            "type": "choropleth"
           }
          ],
          "contour": [
           {
            "colorbar": {
             "outlinewidth": 0,
             "ticks": ""
            },
            "colorscale": [
             [
              0,
              "#0d0887"
             ],
             [
              0.1111111111111111,
              "#46039f"
             ],
             [
              0.2222222222222222,
              "#7201a8"
             ],
             [
              0.3333333333333333,
              "#9c179e"
             ],
             [
              0.4444444444444444,
              "#bd3786"
             ],
             [
              0.5555555555555556,
              "#d8576b"
             ],
             [
              0.6666666666666666,
              "#ed7953"
             ],
             [
              0.7777777777777778,
              "#fb9f3a"
             ],
             [
              0.8888888888888888,
              "#fdca26"
             ],
             [
              1,
              "#f0f921"
             ]
            ],
            "type": "contour"
           }
          ],
          "contourcarpet": [
           {
            "colorbar": {
             "outlinewidth": 0,
             "ticks": ""
            },
            "type": "contourcarpet"
           }
          ],
          "heatmap": [
           {
            "colorbar": {
             "outlinewidth": 0,
             "ticks": ""
            },
            "colorscale": [
             [
              0,
              "#0d0887"
             ],
             [
              0.1111111111111111,
              "#46039f"
             ],
             [
              0.2222222222222222,
              "#7201a8"
             ],
             [
              0.3333333333333333,
              "#9c179e"
             ],
             [
              0.4444444444444444,
              "#bd3786"
             ],
             [
              0.5555555555555556,
              "#d8576b"
             ],
             [
              0.6666666666666666,
              "#ed7953"
             ],
             [
              0.7777777777777778,
              "#fb9f3a"
             ],
             [
              0.8888888888888888,
              "#fdca26"
             ],
             [
              1,
              "#f0f921"
             ]
            ],
            "type": "heatmap"
           }
          ],
          "histogram": [
           {
            "marker": {
             "pattern": {
              "fillmode": "overlay",
              "size": 10,
              "solidity": 0.2
             }
            },
            "type": "histogram"
           }
          ],
          "histogram2d": [
           {
            "colorbar": {
             "outlinewidth": 0,
             "ticks": ""
            },
            "colorscale": [
             [
              0,
              "#0d0887"
             ],
             [
              0.1111111111111111,
              "#46039f"
             ],
             [
              0.2222222222222222,
              "#7201a8"
             ],
             [
              0.3333333333333333,
              "#9c179e"
             ],
             [
              0.4444444444444444,
              "#bd3786"
             ],
             [
              0.5555555555555556,
              "#d8576b"
             ],
             [
              0.6666666666666666,
              "#ed7953"
             ],
             [
              0.7777777777777778,
              "#fb9f3a"
             ],
             [
              0.8888888888888888,
              "#fdca26"
             ],
             [
              1,
              "#f0f921"
             ]
            ],
            "type": "histogram2d"
           }
          ],
          "histogram2dcontour": [
           {
            "colorbar": {
             "outlinewidth": 0,
             "ticks": ""
            },
            "colorscale": [
             [
              0,
              "#0d0887"
             ],
             [
              0.1111111111111111,
              "#46039f"
             ],
             [
              0.2222222222222222,
              "#7201a8"
             ],
             [
              0.3333333333333333,
              "#9c179e"
             ],
             [
              0.4444444444444444,
              "#bd3786"
             ],
             [
              0.5555555555555556,
              "#d8576b"
             ],
             [
              0.6666666666666666,
              "#ed7953"
             ],
             [
              0.7777777777777778,
              "#fb9f3a"
             ],
             [
              0.8888888888888888,
              "#fdca26"
             ],
             [
              1,
              "#f0f921"
             ]
            ],
            "type": "histogram2dcontour"
           }
          ],
          "mesh3d": [
           {
            "colorbar": {
             "outlinewidth": 0,
             "ticks": ""
            },
            "type": "mesh3d"
           }
          ],
          "parcoords": [
           {
            "line": {
             "colorbar": {
              "outlinewidth": 0,
              "ticks": ""
             }
            },
            "type": "parcoords"
           }
          ],
          "pie": [
           {
            "automargin": true,
            "type": "pie"
           }
          ],
          "scatter": [
           {
            "fillpattern": {
             "fillmode": "overlay",
             "size": 10,
             "solidity": 0.2
            },
            "type": "scatter"
           }
          ],
          "scatter3d": [
           {
            "line": {
             "colorbar": {
              "outlinewidth": 0,
              "ticks": ""
             }
            },
            "marker": {
             "colorbar": {
              "outlinewidth": 0,
              "ticks": ""
             }
            },
            "type": "scatter3d"
           }
          ],
          "scattercarpet": [
           {
            "marker": {
             "colorbar": {
              "outlinewidth": 0,
              "ticks": ""
             }
            },
            "type": "scattercarpet"
           }
          ],
          "scattergeo": [
           {
            "marker": {
             "colorbar": {
              "outlinewidth": 0,
              "ticks": ""
             }
            },
            "type": "scattergeo"
           }
          ],
          "scattergl": [
           {
            "marker": {
             "colorbar": {
              "outlinewidth": 0,
              "ticks": ""
             }
            },
            "type": "scattergl"
           }
          ],
          "scattermap": [
           {
            "marker": {
             "colorbar": {
              "outlinewidth": 0,
              "ticks": ""
             }
            },
            "type": "scattermap"
           }
          ],
          "scattermapbox": [
           {
            "marker": {
             "colorbar": {
              "outlinewidth": 0,
              "ticks": ""
             }
            },
            "type": "scattermapbox"
           }
          ],
          "scatterpolar": [
           {
            "marker": {
             "colorbar": {
              "outlinewidth": 0,
              "ticks": ""
             }
            },
            "type": "scatterpolar"
           }
          ],
          "scatterpolargl": [
           {
            "marker": {
             "colorbar": {
              "outlinewidth": 0,
              "ticks": ""
             }
            },
            "type": "scatterpolargl"
           }
          ],
          "scatterternary": [
           {
            "marker": {
             "colorbar": {
              "outlinewidth": 0,
              "ticks": ""
             }
            },
            "type": "scatterternary"
           }
          ],
          "surface": [
           {
            "colorbar": {
             "outlinewidth": 0,
             "ticks": ""
            },
            "colorscale": [
             [
              0,
              "#0d0887"
             ],
             [
              0.1111111111111111,
              "#46039f"
             ],
             [
              0.2222222222222222,
              "#7201a8"
             ],
             [
              0.3333333333333333,
              "#9c179e"
             ],
             [
              0.4444444444444444,
              "#bd3786"
             ],
             [
              0.5555555555555556,
              "#d8576b"
             ],
             [
              0.6666666666666666,
              "#ed7953"
             ],
             [
              0.7777777777777778,
              "#fb9f3a"
             ],
             [
              0.8888888888888888,
              "#fdca26"
             ],
             [
              1,
              "#f0f921"
             ]
            ],
            "type": "surface"
           }
          ],
          "table": [
           {
            "cells": {
             "fill": {
              "color": "#EBF0F8"
             },
             "line": {
              "color": "white"
             }
            },
            "header": {
             "fill": {
              "color": "#C8D4E3"
             },
             "line": {
              "color": "white"
             }
            },
            "type": "table"
           }
          ]
         },
         "layout": {
          "annotationdefaults": {
           "arrowcolor": "#2a3f5f",
           "arrowhead": 0,
           "arrowwidth": 1
          },
          "autotypenumbers": "strict",
          "coloraxis": {
           "colorbar": {
            "outlinewidth": 0,
            "ticks": ""
           }
          },
          "colorscale": {
           "diverging": [
            [
             0,
             "#8e0152"
            ],
            [
             0.1,
             "#c51b7d"
            ],
            [
             0.2,
             "#de77ae"
            ],
            [
             0.3,
             "#f1b6da"
            ],
            [
             0.4,
             "#fde0ef"
            ],
            [
             0.5,
             "#f7f7f7"
            ],
            [
             0.6,
             "#e6f5d0"
            ],
            [
             0.7,
             "#b8e186"
            ],
            [
             0.8,
             "#7fbc41"
            ],
            [
             0.9,
             "#4d9221"
            ],
            [
             1,
             "#276419"
            ]
           ],
           "sequential": [
            [
             0,
             "#0d0887"
            ],
            [
             0.1111111111111111,
             "#46039f"
            ],
            [
             0.2222222222222222,
             "#7201a8"
            ],
            [
             0.3333333333333333,
             "#9c179e"
            ],
            [
             0.4444444444444444,
             "#bd3786"
            ],
            [
             0.5555555555555556,
             "#d8576b"
            ],
            [
             0.6666666666666666,
             "#ed7953"
            ],
            [
             0.7777777777777778,
             "#fb9f3a"
            ],
            [
             0.8888888888888888,
             "#fdca26"
            ],
            [
             1,
             "#f0f921"
            ]
           ],
           "sequentialminus": [
            [
             0,
             "#0d0887"
            ],
            [
             0.1111111111111111,
             "#46039f"
            ],
            [
             0.2222222222222222,
             "#7201a8"
            ],
            [
             0.3333333333333333,
             "#9c179e"
            ],
            [
             0.4444444444444444,
             "#bd3786"
            ],
            [
             0.5555555555555556,
             "#d8576b"
            ],
            [
             0.6666666666666666,
             "#ed7953"
            ],
            [
             0.7777777777777778,
             "#fb9f3a"
            ],
            [
             0.8888888888888888,
             "#fdca26"
            ],
            [
             1,
             "#f0f921"
            ]
           ]
          },
          "colorway": [
           "#636efa",
           "#EF553B",
           "#00cc96",
           "#ab63fa",
           "#FFA15A",
           "#19d3f3",
           "#FF6692",
           "#B6E880",
           "#FF97FF",
           "#FECB52"
          ],
          "font": {
           "color": "#2a3f5f"
          },
          "geo": {
           "bgcolor": "white",
           "lakecolor": "white",
           "landcolor": "#E5ECF6",
           "showlakes": true,
           "showland": true,
           "subunitcolor": "white"
          },
          "hoverlabel": {
           "align": "left"
          },
          "hovermode": "closest",
          "mapbox": {
           "style": "light"
          },
          "paper_bgcolor": "white",
          "plot_bgcolor": "#E5ECF6",
          "polar": {
           "angularaxis": {
            "gridcolor": "white",
            "linecolor": "white",
            "ticks": ""
           },
           "bgcolor": "#E5ECF6",
           "radialaxis": {
            "gridcolor": "white",
            "linecolor": "white",
            "ticks": ""
           }
          },
          "scene": {
           "xaxis": {
            "backgroundcolor": "#E5ECF6",
            "gridcolor": "white",
            "gridwidth": 2,
            "linecolor": "white",
            "showbackground": true,
            "ticks": "",
            "zerolinecolor": "white"
           },
           "yaxis": {
            "backgroundcolor": "#E5ECF6",
            "gridcolor": "white",
            "gridwidth": 2,
            "linecolor": "white",
            "showbackground": true,
            "ticks": "",
            "zerolinecolor": "white"
           },
           "zaxis": {
            "backgroundcolor": "#E5ECF6",
            "gridcolor": "white",
            "gridwidth": 2,
            "linecolor": "white",
            "showbackground": true,
            "ticks": "",
            "zerolinecolor": "white"
           }
          },
          "shapedefaults": {
           "line": {
            "color": "#2a3f5f"
           }
          },
          "ternary": {
           "aaxis": {
            "gridcolor": "white",
            "linecolor": "white",
            "ticks": ""
           },
           "baxis": {
            "gridcolor": "white",
            "linecolor": "white",
            "ticks": ""
           },
           "bgcolor": "#E5ECF6",
           "caxis": {
            "gridcolor": "white",
            "linecolor": "white",
            "ticks": ""
           }
          },
          "title": {
           "x": 0.05
          },
          "xaxis": {
           "automargin": true,
           "gridcolor": "white",
           "linecolor": "white",
           "ticks": "",
           "title": {
            "standoff": 15
           },
           "zerolinecolor": "white",
           "zerolinewidth": 2
          },
          "yaxis": {
           "automargin": true,
           "gridcolor": "white",
           "linecolor": "white",
           "ticks": "",
           "title": {
            "standoff": 15
           },
           "zerolinecolor": "white",
           "zerolinewidth": 2
          }
         }
        },
        "updatemenus": [
         {
          "buttons": [
           {
            "args": [
             null,
             {
              "frame": {
               "duration": 1000,
               "redraw": true
              },
              "fromcurrent": true,
              "transition": {
               "duration": 500,
               "easing": "linear"
              }
             }
            ],
            "label": "&#9654;",
            "method": "animate"
           },
           {
            "args": [
             [
              null
             ],
             {
              "frame": {
               "duration": 0,
               "redraw": false
              },
              "mode": "immediate",
              "transition": {
               "duration": 0
              }
             }
            ],
            "label": "&#9724;",
            "method": "animate"
           }
          ],
          "direction": "left",
          "pad": {
           "r": 10,
           "t": 87
          },
          "showactive": false,
          "type": "buttons",
          "x": 0.1,
          "xanchor": "right",
          "y": 0,
          "yanchor": "top"
         }
        ]
       }
      }
     },
     "metadata": {},
     "output_type": "display_data"
    }
   ],
   "source": [
    "from plotly.graph_objs import Frame\n",
    "\n",
    "# Define conflicts with start & end years (inclusive)\n",
    "conflict_annotations = [\n",
    "    {\"start\": 1998, \"end\": 1999, \"text\": \"Second Congo War\"},\n",
    "    {\"start\": 2001, \"end\": 2002, \"text\": \"Invasion of Afghanistan\"},\n",
    "    {\"start\": 2003, \"end\": 2011, \"text\": \"Invasion of Iraq\"},\n",
    "    {\"start\": 2013, \"end\": 2014, \"text\": \"Outbreak of South Sudanese Civil War\"},\n",
    "    {\"start\": 2022, \"end\": 2023, \"text\": \"Invasion of Ukrain\"}\n",
    "]\n",
    "\n",
    "# Generate frames with annotations for each year\n",
    "frames = []\n",
    "for year in sorted(df['Year'].unique()):\n",
    "    annotations = []\n",
    "    for conflict in conflict_annotations:\n",
    "        if conflict[\"start\"] <= int(year) <= conflict[\"end\"]:\n",
    "            annotations.append(dict(\n",
    "                text=conflict[\"text\"],\n",
    "                x=0.5,\n",
    "                y=1.08,\n",
    "                xref=\"paper\",\n",
    "                yref=\"paper\",\n",
    "                showarrow=False,\n",
    "                font=dict(size=16, color=\"black\"),\n",
    "                bgcolor=\"rgba(255, 255, 255, 0.7)\",\n",
    "                bordercolor=\"black\",\n",
    "                borderwidth=1\n",
    "            ))\n",
    "\n",
    "    frames.append(Frame(name=str(year), layout={\"annotations\": annotations}))\n",
    "\n",
    "# Assign frames to the figure\n",
    "fig.frames = frames\n",
    "\n",
    "fig.write_html(\"../plots/worldmap_totalaffected.html\")\n",
    "fig.show()"
   ]
  },
  {
   "cell_type": "markdown",
   "metadata": {},
   "source": [
    "# Agencies being attacked"
   ]
  },
  {
   "cell_type": "code",
   "execution_count": 72,
   "metadata": {},
   "outputs": [
    {
     "data": {
      "text/html": [
       "<div>\n",
       "<style scoped>\n",
       "    .dataframe tbody tr th:only-of-type {\n",
       "        vertical-align: middle;\n",
       "    }\n",
       "\n",
       "    .dataframe tbody tr th {\n",
       "        vertical-align: top;\n",
       "    }\n",
       "\n",
       "    .dataframe thead th {\n",
       "        text-align: right;\n",
       "    }\n",
       "</style>\n",
       "<table border=\"1\" class=\"dataframe\">\n",
       "  <thead>\n",
       "    <tr style=\"text-align: right;\">\n",
       "      <th></th>\n",
       "      <th>Year</th>\n",
       "      <th>AgencyType</th>\n",
       "      <th>Count</th>\n",
       "      <th>Cumulative</th>\n",
       "      <th>Rank</th>\n",
       "    </tr>\n",
       "  </thead>\n",
       "  <tbody>\n",
       "    <tr>\n",
       "      <th>0</th>\n",
       "      <td>1997</td>\n",
       "      <td>ICRC</td>\n",
       "      <td>7</td>\n",
       "      <td>7</td>\n",
       "      <td>4.0</td>\n",
       "    </tr>\n",
       "    <tr>\n",
       "      <th>6</th>\n",
       "      <td>1998</td>\n",
       "      <td>ICRC</td>\n",
       "      <td>20</td>\n",
       "      <td>27</td>\n",
       "      <td>3.0</td>\n",
       "    </tr>\n",
       "    <tr>\n",
       "      <th>12</th>\n",
       "      <td>1999</td>\n",
       "      <td>ICRC</td>\n",
       "      <td>5</td>\n",
       "      <td>32</td>\n",
       "      <td>3.0</td>\n",
       "    </tr>\n",
       "    <tr>\n",
       "      <th>18</th>\n",
       "      <td>2000</td>\n",
       "      <td>ICRC</td>\n",
       "      <td>5</td>\n",
       "      <td>37</td>\n",
       "      <td>3.0</td>\n",
       "    </tr>\n",
       "    <tr>\n",
       "      <th>24</th>\n",
       "      <td>2001</td>\n",
       "      <td>ICRC</td>\n",
       "      <td>7</td>\n",
       "      <td>44</td>\n",
       "      <td>3.0</td>\n",
       "    </tr>\n",
       "  </tbody>\n",
       "</table>\n",
       "</div>"
      ],
      "text/plain": [
       "    Year AgencyType  Count  Cumulative  Rank\n",
       "0   1997       ICRC      7           7   4.0\n",
       "6   1998       ICRC     20          27   3.0\n",
       "12  1999       ICRC      5          32   3.0\n",
       "18  2000       ICRC      5          37   3.0\n",
       "24  2001       ICRC      7          44   3.0"
      ]
     },
     "execution_count": 72,
     "metadata": {},
     "output_type": "execute_result"
    }
   ],
   "source": [
    "# Step 1: Aggregate counts per year per agency\n",
    "agg_df = long_df.groupby(['Year', 'AgencyType'], as_index=False)['Count'].sum()\n",
    "\n",
    "# Step 2: Calculate cumulative totals\n",
    "agg_df.sort_values(by=['AgencyType', 'Year'], inplace=True)\n",
    "agg_df['Cumulative'] = agg_df.groupby('AgencyType')['Count'].cumsum()\n",
    "\n",
    "# Step 3: Rank by cumulative within each year\n",
    "agg_df['Rank'] = agg_df.groupby('Year')['Cumulative'].rank(method='min', ascending=False)\n",
    "\n",
    "# Optional: convert Year to string for plotting x-axis\n",
    "agg_df['Year'] = agg_df['Year'].astype(str)\n",
    "\n",
    "# Preview clean data\n",
    "agg_df.head()\n"
   ]
  },
  {
   "cell_type": "code",
   "execution_count": 278,
   "metadata": {},
   "outputs": [
    {
     "data": {
      "application/vnd.plotly.v1+json": {
       "config": {
        "plotlyServerURL": "https://plot.ly"
       },
       "data": [
        {
         "customdata": {
          "bdata": "BwAbACAAJQAsADMAOgA7AD4ASABMAFEAWQBjAGgAawB5AIkAjACWAKQAqQCrALMAuAC4AL4AzADMAA==",
          "dtype": "i2",
          "shape": "29, 1"
         },
         "hovertemplate": "<b>%{text}</b><br>Year: %{x}<br>Rank: %{y}<br>Cumulative Affected: %{customdata[0]}<extra></extra>",
         "line": {
          "shape": "spline",
          "width": 2
         },
         "marker": {
          "size": 6
         },
         "mode": "lines+markers",
         "name": "ICRC",
         "text": [
          "ICRC",
          "ICRC",
          "ICRC",
          "ICRC",
          "ICRC",
          "ICRC",
          "ICRC",
          "ICRC",
          "ICRC",
          "ICRC",
          "ICRC",
          "ICRC",
          "ICRC",
          "ICRC",
          "ICRC",
          "ICRC",
          "ICRC",
          "ICRC",
          "ICRC",
          "ICRC",
          "ICRC",
          "ICRC",
          "ICRC",
          "ICRC",
          "ICRC",
          "ICRC",
          "ICRC",
          "ICRC",
          "ICRC"
         ],
         "type": "scatter",
         "x": [
          "1997",
          "1998",
          "1999",
          "2000",
          "2001",
          "2002",
          "2003",
          "2004",
          "2005",
          "2006",
          "2007",
          "2008",
          "2009",
          "2010",
          "2011",
          "2012",
          "2013",
          "2014",
          "2015",
          "2016",
          "2017",
          "2018",
          "2019",
          "2020",
          "2021",
          "2022",
          "2023",
          "2024",
          "2025"
         ],
         "y": {
          "bdata": "AAAAAAAAEEAAAAAAAAAIQAAAAAAAAAhAAAAAAAAACEAAAAAAAAAIQAAAAAAAAAhAAAAAAAAACEAAAAAAAAAUQAAAAAAAABRAAAAAAAAAFEAAAAAAAAAUQAAAAAAAABRAAAAAAAAAFEAAAAAAAAAUQAAAAAAAABRAAAAAAAAAFEAAAAAAAAAUQAAAAAAAABRAAAAAAAAAFEAAAAAAAAAUQAAAAAAAABRAAAAAAAAAFEAAAAAAAAAUQAAAAAAAABRAAAAAAAAAFEAAAAAAAAAUQAAAAAAAABRAAAAAAAAAFEAAAAAAAAAUQA==",
          "dtype": "f8"
         }
        },
        {
         "customdata": {
          "bdata": "IAArAEoAeACoANkAHgFlAdEBQALFAmMD4wN7BAIFYwXxBYkGNgfXB0QI/ggCCuYKsQtYDAoNmw2pDQ==",
          "dtype": "i2",
          "shape": "29, 1"
         },
         "hovertemplate": "<b>%{text}</b><br>Year: %{x}<br>Rank: %{y}<br>Cumulative Affected: %{customdata[0]}<extra></extra>",
         "line": {
          "shape": "spline",
          "width": 2
         },
         "marker": {
          "size": 6
         },
         "mode": "lines+markers",
         "name": "INGO",
         "text": [
          "INGO",
          "INGO",
          "INGO",
          "INGO",
          "INGO",
          "INGO",
          "INGO",
          "INGO",
          "INGO",
          "INGO",
          "INGO",
          "INGO",
          "INGO",
          "INGO",
          "INGO",
          "INGO",
          "INGO",
          "INGO",
          "INGO",
          "INGO",
          "INGO",
          "INGO",
          "INGO",
          "INGO",
          "INGO",
          "INGO",
          "INGO",
          "INGO",
          "INGO"
         ],
         "type": "scatter",
         "x": [
          "1997",
          "1998",
          "1999",
          "2000",
          "2001",
          "2002",
          "2003",
          "2004",
          "2005",
          "2006",
          "2007",
          "2008",
          "2009",
          "2010",
          "2011",
          "2012",
          "2013",
          "2014",
          "2015",
          "2016",
          "2017",
          "2018",
          "2019",
          "2020",
          "2021",
          "2022",
          "2023",
          "2024",
          "2025"
         ],
         "y": {
          "bdata": "AAAAAAAA8D8AAAAAAAAAQAAAAAAAAPA/AAAAAAAA8D8AAAAAAADwPwAAAAAAAPA/AAAAAAAA8D8AAAAAAADwPwAAAAAAAPA/AAAAAAAA8D8AAAAAAADwPwAAAAAAAPA/AAAAAAAA8D8AAAAAAADwPwAAAAAAAPA/AAAAAAAA8D8AAAAAAADwPwAAAAAAAPA/AAAAAAAA8D8AAAAAAADwPwAAAAAAAPA/AAAAAAAA8D8AAAAAAADwPwAAAAAAAPA/AAAAAAAA8D8AAAAAAADwPwAAAAAAAPA/AAAAAAAA8D8AAAAAAADwPw==",
          "dtype": "f8"
         }
        },
        {
         "customdata": {
          "bdata": "AAADAAkADQANABIAIQBBAFwAgQCcAMcA5gATAVYBsgFDAooCsQLaAi4DrgNIBPAEqwVjBtoG5gcHCA==",
          "dtype": "i2",
          "shape": "29, 1"
         },
         "hovertemplate": "<b>%{text}</b><br>Year: %{x}<br>Rank: %{y}<br>Cumulative Affected: %{customdata[0]}<extra></extra>",
         "line": {
          "shape": "spline",
          "width": 2
         },
         "marker": {
          "size": 6
         },
         "mode": "lines+markers",
         "name": "NNGO",
         "text": [
          "NNGO",
          "NNGO",
          "NNGO",
          "NNGO",
          "NNGO",
          "NNGO",
          "NNGO",
          "NNGO",
          "NNGO",
          "NNGO",
          "NNGO",
          "NNGO",
          "NNGO",
          "NNGO",
          "NNGO",
          "NNGO",
          "NNGO",
          "NNGO",
          "NNGO",
          "NNGO",
          "NNGO",
          "NNGO",
          "NNGO",
          "NNGO",
          "NNGO",
          "NNGO",
          "NNGO",
          "NNGO",
          "NNGO"
         ],
         "type": "scatter",
         "x": [
          "1997",
          "1998",
          "1999",
          "2000",
          "2001",
          "2002",
          "2003",
          "2004",
          "2005",
          "2006",
          "2007",
          "2008",
          "2009",
          "2010",
          "2011",
          "2012",
          "2013",
          "2014",
          "2015",
          "2016",
          "2017",
          "2018",
          "2019",
          "2020",
          "2021",
          "2022",
          "2023",
          "2024",
          "2025"
         ],
         "y": {
          "bdata": "AAAAAAAAGEAAAAAAAAAUQAAAAAAAABRAAAAAAAAAFEAAAAAAAAAUQAAAAAAAABRAAAAAAAAAFEAAAAAAAAAIQAAAAAAAAAhAAAAAAAAACEAAAAAAAAAIQAAAAAAAAAhAAAAAAAAACEAAAAAAAAAIQAAAAAAAAAhAAAAAAAAACEAAAAAAAAAIQAAAAAAAAAhAAAAAAAAACEAAAAAAAAAIQAAAAAAAAAhAAAAAAAAACEAAAAAAAAAIQAAAAAAAAABAAAAAAAAAAEAAAAAAAAAAQAAAAAAAAABAAAAAAAAAAEAAAAAAAAAAQA==",
          "dtype": "f8"
         }
        },
        {
         "customdata": {
          "bdata": "CgARABgAGAAbACAANAA/AEQAVQBdAF8AeAB5AIMAmwDHAOIA/gAJAUUBWQFnAXsBgQGKAbcBBQIJAg==",
          "dtype": "i2",
          "shape": "29, 1"
         },
         "hovertemplate": "<b>%{text}</b><br>Year: %{x}<br>Rank: %{y}<br>Cumulative Affected: %{customdata[0]}<extra></extra>",
         "line": {
          "shape": "spline",
          "width": 2
         },
         "marker": {
          "size": 6
         },
         "mode": "lines+markers",
         "name": "NRCS and IFRC",
         "text": [
          "NRCS and IFRC",
          "NRCS and IFRC",
          "NRCS and IFRC",
          "NRCS and IFRC",
          "NRCS and IFRC",
          "NRCS and IFRC",
          "NRCS and IFRC",
          "NRCS and IFRC",
          "NRCS and IFRC",
          "NRCS and IFRC",
          "NRCS and IFRC",
          "NRCS and IFRC",
          "NRCS and IFRC",
          "NRCS and IFRC",
          "NRCS and IFRC",
          "NRCS and IFRC",
          "NRCS and IFRC",
          "NRCS and IFRC",
          "NRCS and IFRC",
          "NRCS and IFRC",
          "NRCS and IFRC",
          "NRCS and IFRC",
          "NRCS and IFRC",
          "NRCS and IFRC",
          "NRCS and IFRC",
          "NRCS and IFRC",
          "NRCS and IFRC",
          "NRCS and IFRC",
          "NRCS and IFRC"
         ],
         "type": "scatter",
         "x": [
          "1997",
          "1998",
          "1999",
          "2000",
          "2001",
          "2002",
          "2003",
          "2004",
          "2005",
          "2006",
          "2007",
          "2008",
          "2009",
          "2010",
          "2011",
          "2012",
          "2013",
          "2014",
          "2015",
          "2016",
          "2017",
          "2018",
          "2019",
          "2020",
          "2021",
          "2022",
          "2023",
          "2024",
          "2025"
         ],
         "y": {
          "bdata": "AAAAAAAACEAAAAAAAAAQQAAAAAAAABBAAAAAAAAAEEAAAAAAAAAQQAAAAAAAABBAAAAAAAAAEEAAAAAAAAAQQAAAAAAAABBAAAAAAAAAEEAAAAAAAAAQQAAAAAAAABBAAAAAAAAAEEAAAAAAAAAQQAAAAAAAABBAAAAAAAAAEEAAAAAAAAAQQAAAAAAAABBAAAAAAAAAEEAAAAAAAAAQQAAAAAAAABBAAAAAAAAAEEAAAAAAAAAQQAAAAAAAABBAAAAAAAAAEEAAAAAAAAAQQAAAAAAAABBAAAAAAAAAEEAAAAAAAAAQQA==",
          "dtype": "f8"
         }
        },
        {
         "customdata": {
          "bdata": "AQEBAgIDAwQGChQZGRkZJjQ3Ojw8PEpMVmNnaWk=",
          "dtype": "i1",
          "shape": "29, 1"
         },
         "hovertemplate": "<b>%{text}</b><br>Year: %{x}<br>Rank: %{y}<br>Cumulative Affected: %{customdata[0]}<extra></extra>",
         "line": {
          "shape": "spline",
          "width": 2
         },
         "marker": {
          "size": 6
         },
         "mode": "lines+markers",
         "name": "Other",
         "text": [
          "Other",
          "Other",
          "Other",
          "Other",
          "Other",
          "Other",
          "Other",
          "Other",
          "Other",
          "Other",
          "Other",
          "Other",
          "Other",
          "Other",
          "Other",
          "Other",
          "Other",
          "Other",
          "Other",
          "Other",
          "Other",
          "Other",
          "Other",
          "Other",
          "Other",
          "Other",
          "Other",
          "Other",
          "Other"
         ],
         "type": "scatter",
         "x": [
          "1997",
          "1998",
          "1999",
          "2000",
          "2001",
          "2002",
          "2003",
          "2004",
          "2005",
          "2006",
          "2007",
          "2008",
          "2009",
          "2010",
          "2011",
          "2012",
          "2013",
          "2014",
          "2015",
          "2016",
          "2017",
          "2018",
          "2019",
          "2020",
          "2021",
          "2022",
          "2023",
          "2024",
          "2025"
         ],
         "y": {
          "bdata": "AAAAAAAAFEAAAAAAAAAYQAAAAAAAABhAAAAAAAAAGEAAAAAAAAAYQAAAAAAAABhAAAAAAAAAGEAAAAAAAAAYQAAAAAAAABhAAAAAAAAAGEAAAAAAAAAYQAAAAAAAABhAAAAAAAAAGEAAAAAAAAAYQAAAAAAAABhAAAAAAAAAGEAAAAAAAAAYQAAAAAAAABhAAAAAAAAAGEAAAAAAAAAYQAAAAAAAABhAAAAAAAAAGEAAAAAAAAAYQAAAAAAAABhAAAAAAAAAGEAAAAAAAAAYQAAAAAAAABhAAAAAAAAAGEAAAAAAAAAYQA==",
          "dtype": "f8"
         }
        },
        {
         "customdata": {
          "bdata": "FwAsAD0AXAB4AIoAqQC0AM8ADAEzAXQB4AEMAmgCmAILA1IDfgPFA/UDOwRgBJoE0QQdBQ8G3wbvBg==",
          "dtype": "i2",
          "shape": "29, 1"
         },
         "hovertemplate": "<b>%{text}</b><br>Year: %{x}<br>Rank: %{y}<br>Cumulative Affected: %{customdata[0]}<extra></extra>",
         "line": {
          "shape": "spline",
          "width": 2
         },
         "marker": {
          "size": 6
         },
         "mode": "lines+markers",
         "name": "UN",
         "text": [
          "UN",
          "UN",
          "UN",
          "UN",
          "UN",
          "UN",
          "UN",
          "UN",
          "UN",
          "UN",
          "UN",
          "UN",
          "UN",
          "UN",
          "UN",
          "UN",
          "UN",
          "UN",
          "UN",
          "UN",
          "UN",
          "UN",
          "UN",
          "UN",
          "UN",
          "UN",
          "UN",
          "UN",
          "UN"
         ],
         "type": "scatter",
         "x": [
          "1997",
          "1998",
          "1999",
          "2000",
          "2001",
          "2002",
          "2003",
          "2004",
          "2005",
          "2006",
          "2007",
          "2008",
          "2009",
          "2010",
          "2011",
          "2012",
          "2013",
          "2014",
          "2015",
          "2016",
          "2017",
          "2018",
          "2019",
          "2020",
          "2021",
          "2022",
          "2023",
          "2024",
          "2025"
         ],
         "y": {
          "bdata": "AAAAAAAAAEAAAAAAAADwPwAAAAAAAABAAAAAAAAAAEAAAAAAAAAAQAAAAAAAAABAAAAAAAAAAEAAAAAAAAAAQAAAAAAAAABAAAAAAAAAAEAAAAAAAAAAQAAAAAAAAABAAAAAAAAAAEAAAAAAAAAAQAAAAAAAAABAAAAAAAAAAEAAAAAAAAAAQAAAAAAAAABAAAAAAAAAAEAAAAAAAAAAQAAAAAAAAABAAAAAAAAAAEAAAAAAAAAAQAAAAAAAAAhAAAAAAAAACEAAAAAAAAAIQAAAAAAAAAhAAAAAAAAACEAAAAAAAAAIQA==",
          "dtype": "f8"
         }
        }
       ],
       "layout": {
        "font": {
         "color": "black",
         "family": "Courier New, monospace",
         "size": 14
        },
        "margin": {
         "b": 40,
         "l": 40,
         "r": 40,
         "t": 60
        },
        "paper_bgcolor": "white",
        "plot_bgcolor": "white",
        "showlegend": true,
        "template": {
         "data": {
          "bar": [
           {
            "error_x": {
             "color": "#2a3f5f"
            },
            "error_y": {
             "color": "#2a3f5f"
            },
            "marker": {
             "line": {
              "color": "#E5ECF6",
              "width": 0.5
             },
             "pattern": {
              "fillmode": "overlay",
              "size": 10,
              "solidity": 0.2
             }
            },
            "type": "bar"
           }
          ],
          "barpolar": [
           {
            "marker": {
             "line": {
              "color": "#E5ECF6",
              "width": 0.5
             },
             "pattern": {
              "fillmode": "overlay",
              "size": 10,
              "solidity": 0.2
             }
            },
            "type": "barpolar"
           }
          ],
          "carpet": [
           {
            "aaxis": {
             "endlinecolor": "#2a3f5f",
             "gridcolor": "white",
             "linecolor": "white",
             "minorgridcolor": "white",
             "startlinecolor": "#2a3f5f"
            },
            "baxis": {
             "endlinecolor": "#2a3f5f",
             "gridcolor": "white",
             "linecolor": "white",
             "minorgridcolor": "white",
             "startlinecolor": "#2a3f5f"
            },
            "type": "carpet"
           }
          ],
          "choropleth": [
           {
            "colorbar": {
             "outlinewidth": 0,
             "ticks": ""
            },
            "type": "choropleth"
           }
          ],
          "contour": [
           {
            "colorbar": {
             "outlinewidth": 0,
             "ticks": ""
            },
            "colorscale": [
             [
              0,
              "#0d0887"
             ],
             [
              0.1111111111111111,
              "#46039f"
             ],
             [
              0.2222222222222222,
              "#7201a8"
             ],
             [
              0.3333333333333333,
              "#9c179e"
             ],
             [
              0.4444444444444444,
              "#bd3786"
             ],
             [
              0.5555555555555556,
              "#d8576b"
             ],
             [
              0.6666666666666666,
              "#ed7953"
             ],
             [
              0.7777777777777778,
              "#fb9f3a"
             ],
             [
              0.8888888888888888,
              "#fdca26"
             ],
             [
              1,
              "#f0f921"
             ]
            ],
            "type": "contour"
           }
          ],
          "contourcarpet": [
           {
            "colorbar": {
             "outlinewidth": 0,
             "ticks": ""
            },
            "type": "contourcarpet"
           }
          ],
          "heatmap": [
           {
            "colorbar": {
             "outlinewidth": 0,
             "ticks": ""
            },
            "colorscale": [
             [
              0,
              "#0d0887"
             ],
             [
              0.1111111111111111,
              "#46039f"
             ],
             [
              0.2222222222222222,
              "#7201a8"
             ],
             [
              0.3333333333333333,
              "#9c179e"
             ],
             [
              0.4444444444444444,
              "#bd3786"
             ],
             [
              0.5555555555555556,
              "#d8576b"
             ],
             [
              0.6666666666666666,
              "#ed7953"
             ],
             [
              0.7777777777777778,
              "#fb9f3a"
             ],
             [
              0.8888888888888888,
              "#fdca26"
             ],
             [
              1,
              "#f0f921"
             ]
            ],
            "type": "heatmap"
           }
          ],
          "histogram": [
           {
            "marker": {
             "pattern": {
              "fillmode": "overlay",
              "size": 10,
              "solidity": 0.2
             }
            },
            "type": "histogram"
           }
          ],
          "histogram2d": [
           {
            "colorbar": {
             "outlinewidth": 0,
             "ticks": ""
            },
            "colorscale": [
             [
              0,
              "#0d0887"
             ],
             [
              0.1111111111111111,
              "#46039f"
             ],
             [
              0.2222222222222222,
              "#7201a8"
             ],
             [
              0.3333333333333333,
              "#9c179e"
             ],
             [
              0.4444444444444444,
              "#bd3786"
             ],
             [
              0.5555555555555556,
              "#d8576b"
             ],
             [
              0.6666666666666666,
              "#ed7953"
             ],
             [
              0.7777777777777778,
              "#fb9f3a"
             ],
             [
              0.8888888888888888,
              "#fdca26"
             ],
             [
              1,
              "#f0f921"
             ]
            ],
            "type": "histogram2d"
           }
          ],
          "histogram2dcontour": [
           {
            "colorbar": {
             "outlinewidth": 0,
             "ticks": ""
            },
            "colorscale": [
             [
              0,
              "#0d0887"
             ],
             [
              0.1111111111111111,
              "#46039f"
             ],
             [
              0.2222222222222222,
              "#7201a8"
             ],
             [
              0.3333333333333333,
              "#9c179e"
             ],
             [
              0.4444444444444444,
              "#bd3786"
             ],
             [
              0.5555555555555556,
              "#d8576b"
             ],
             [
              0.6666666666666666,
              "#ed7953"
             ],
             [
              0.7777777777777778,
              "#fb9f3a"
             ],
             [
              0.8888888888888888,
              "#fdca26"
             ],
             [
              1,
              "#f0f921"
             ]
            ],
            "type": "histogram2dcontour"
           }
          ],
          "mesh3d": [
           {
            "colorbar": {
             "outlinewidth": 0,
             "ticks": ""
            },
            "type": "mesh3d"
           }
          ],
          "parcoords": [
           {
            "line": {
             "colorbar": {
              "outlinewidth": 0,
              "ticks": ""
             }
            },
            "type": "parcoords"
           }
          ],
          "pie": [
           {
            "automargin": true,
            "type": "pie"
           }
          ],
          "scatter": [
           {
            "fillpattern": {
             "fillmode": "overlay",
             "size": 10,
             "solidity": 0.2
            },
            "type": "scatter"
           }
          ],
          "scatter3d": [
           {
            "line": {
             "colorbar": {
              "outlinewidth": 0,
              "ticks": ""
             }
            },
            "marker": {
             "colorbar": {
              "outlinewidth": 0,
              "ticks": ""
             }
            },
            "type": "scatter3d"
           }
          ],
          "scattercarpet": [
           {
            "marker": {
             "colorbar": {
              "outlinewidth": 0,
              "ticks": ""
             }
            },
            "type": "scattercarpet"
           }
          ],
          "scattergeo": [
           {
            "marker": {
             "colorbar": {
              "outlinewidth": 0,
              "ticks": ""
             }
            },
            "type": "scattergeo"
           }
          ],
          "scattergl": [
           {
            "marker": {
             "colorbar": {
              "outlinewidth": 0,
              "ticks": ""
             }
            },
            "type": "scattergl"
           }
          ],
          "scattermap": [
           {
            "marker": {
             "colorbar": {
              "outlinewidth": 0,
              "ticks": ""
             }
            },
            "type": "scattermap"
           }
          ],
          "scattermapbox": [
           {
            "marker": {
             "colorbar": {
              "outlinewidth": 0,
              "ticks": ""
             }
            },
            "type": "scattermapbox"
           }
          ],
          "scatterpolar": [
           {
            "marker": {
             "colorbar": {
              "outlinewidth": 0,
              "ticks": ""
             }
            },
            "type": "scatterpolar"
           }
          ],
          "scatterpolargl": [
           {
            "marker": {
             "colorbar": {
              "outlinewidth": 0,
              "ticks": ""
             }
            },
            "type": "scatterpolargl"
           }
          ],
          "scatterternary": [
           {
            "marker": {
             "colorbar": {
              "outlinewidth": 0,
              "ticks": ""
             }
            },
            "type": "scatterternary"
           }
          ],
          "surface": [
           {
            "colorbar": {
             "outlinewidth": 0,
             "ticks": ""
            },
            "colorscale": [
             [
              0,
              "#0d0887"
             ],
             [
              0.1111111111111111,
              "#46039f"
             ],
             [
              0.2222222222222222,
              "#7201a8"
             ],
             [
              0.3333333333333333,
              "#9c179e"
             ],
             [
              0.4444444444444444,
              "#bd3786"
             ],
             [
              0.5555555555555556,
              "#d8576b"
             ],
             [
              0.6666666666666666,
              "#ed7953"
             ],
             [
              0.7777777777777778,
              "#fb9f3a"
             ],
             [
              0.8888888888888888,
              "#fdca26"
             ],
             [
              1,
              "#f0f921"
             ]
            ],
            "type": "surface"
           }
          ],
          "table": [
           {
            "cells": {
             "fill": {
              "color": "#EBF0F8"
             },
             "line": {
              "color": "white"
             }
            },
            "header": {
             "fill": {
              "color": "#C8D4E3"
             },
             "line": {
              "color": "white"
             }
            },
            "type": "table"
           }
          ]
         },
         "layout": {
          "annotationdefaults": {
           "arrowcolor": "#2a3f5f",
           "arrowhead": 0,
           "arrowwidth": 1
          },
          "autotypenumbers": "strict",
          "coloraxis": {
           "colorbar": {
            "outlinewidth": 0,
            "ticks": ""
           }
          },
          "colorscale": {
           "diverging": [
            [
             0,
             "#8e0152"
            ],
            [
             0.1,
             "#c51b7d"
            ],
            [
             0.2,
             "#de77ae"
            ],
            [
             0.3,
             "#f1b6da"
            ],
            [
             0.4,
             "#fde0ef"
            ],
            [
             0.5,
             "#f7f7f7"
            ],
            [
             0.6,
             "#e6f5d0"
            ],
            [
             0.7,
             "#b8e186"
            ],
            [
             0.8,
             "#7fbc41"
            ],
            [
             0.9,
             "#4d9221"
            ],
            [
             1,
             "#276419"
            ]
           ],
           "sequential": [
            [
             0,
             "#0d0887"
            ],
            [
             0.1111111111111111,
             "#46039f"
            ],
            [
             0.2222222222222222,
             "#7201a8"
            ],
            [
             0.3333333333333333,
             "#9c179e"
            ],
            [
             0.4444444444444444,
             "#bd3786"
            ],
            [
             0.5555555555555556,
             "#d8576b"
            ],
            [
             0.6666666666666666,
             "#ed7953"
            ],
            [
             0.7777777777777778,
             "#fb9f3a"
            ],
            [
             0.8888888888888888,
             "#fdca26"
            ],
            [
             1,
             "#f0f921"
            ]
           ],
           "sequentialminus": [
            [
             0,
             "#0d0887"
            ],
            [
             0.1111111111111111,
             "#46039f"
            ],
            [
             0.2222222222222222,
             "#7201a8"
            ],
            [
             0.3333333333333333,
             "#9c179e"
            ],
            [
             0.4444444444444444,
             "#bd3786"
            ],
            [
             0.5555555555555556,
             "#d8576b"
            ],
            [
             0.6666666666666666,
             "#ed7953"
            ],
            [
             0.7777777777777778,
             "#fb9f3a"
            ],
            [
             0.8888888888888888,
             "#fdca26"
            ],
            [
             1,
             "#f0f921"
            ]
           ]
          },
          "colorway": [
           "#636efa",
           "#EF553B",
           "#00cc96",
           "#ab63fa",
           "#FFA15A",
           "#19d3f3",
           "#FF6692",
           "#B6E880",
           "#FF97FF",
           "#FECB52"
          ],
          "font": {
           "color": "#2a3f5f"
          },
          "geo": {
           "bgcolor": "white",
           "lakecolor": "white",
           "landcolor": "#E5ECF6",
           "showlakes": true,
           "showland": true,
           "subunitcolor": "white"
          },
          "hoverlabel": {
           "align": "left"
          },
          "hovermode": "closest",
          "mapbox": {
           "style": "light"
          },
          "paper_bgcolor": "white",
          "plot_bgcolor": "#E5ECF6",
          "polar": {
           "angularaxis": {
            "gridcolor": "white",
            "linecolor": "white",
            "ticks": ""
           },
           "bgcolor": "#E5ECF6",
           "radialaxis": {
            "gridcolor": "white",
            "linecolor": "white",
            "ticks": ""
           }
          },
          "scene": {
           "xaxis": {
            "backgroundcolor": "#E5ECF6",
            "gridcolor": "white",
            "gridwidth": 2,
            "linecolor": "white",
            "showbackground": true,
            "ticks": "",
            "zerolinecolor": "white"
           },
           "yaxis": {
            "backgroundcolor": "#E5ECF6",
            "gridcolor": "white",
            "gridwidth": 2,
            "linecolor": "white",
            "showbackground": true,
            "ticks": "",
            "zerolinecolor": "white"
           },
           "zaxis": {
            "backgroundcolor": "#E5ECF6",
            "gridcolor": "white",
            "gridwidth": 2,
            "linecolor": "white",
            "showbackground": true,
            "ticks": "",
            "zerolinecolor": "white"
           }
          },
          "shapedefaults": {
           "line": {
            "color": "#2a3f5f"
           }
          },
          "ternary": {
           "aaxis": {
            "gridcolor": "white",
            "linecolor": "white",
            "ticks": ""
           },
           "baxis": {
            "gridcolor": "white",
            "linecolor": "white",
            "ticks": ""
           },
           "bgcolor": "#E5ECF6",
           "caxis": {
            "gridcolor": "white",
            "linecolor": "white",
            "ticks": ""
           }
          },
          "title": {
           "x": 0.05
          },
          "xaxis": {
           "automargin": true,
           "gridcolor": "white",
           "linecolor": "white",
           "ticks": "",
           "title": {
            "standoff": 15
           },
           "zerolinecolor": "white",
           "zerolinewidth": 2
          },
          "yaxis": {
           "automargin": true,
           "gridcolor": "white",
           "linecolor": "white",
           "ticks": "",
           "title": {
            "standoff": 15
           },
           "zerolinecolor": "white",
           "zerolinewidth": 2
          }
         }
        },
        "title": {
         "x": 0.5
        },
        "xaxis": {
         "tickmode": "array",
         "tickvals": [
          "1997",
          "2000",
          "2003",
          "2006",
          "2009",
          "2012",
          "2015",
          "2018",
          "2021",
          "2024"
         ],
         "title": {
          "text": "Year"
         }
        },
        "yaxis": {
         "autorange": "reversed",
         "dtick": 1,
         "title": {
          "text": "Rank (1 = Most Affected)"
         }
        }
       }
      }
     },
     "metadata": {},
     "output_type": "display_data"
    }
   ],
   "source": [
    "fig = go.Figure()\n",
    "\n",
    "\n",
    "for agency in agg_df['AgencyType'].unique():\n",
    "    df_agency = agg_df[agg_df['AgencyType'] == agency]\n",
    "    \n",
    "    fig.add_trace(go.Scatter(\n",
    "        x=df_agency['Year'],\n",
    "        y=df_agency['Rank'],\n",
    "        mode='lines+markers',\n",
    "        name=agency,\n",
    "        line=dict(width=2, shape='spline'),\n",
    "        marker=dict(size=6),\n",
    "        customdata=df_agency[['Cumulative']],\n",
    "        hovertemplate=\n",
    "            \"<b>%{text}</b><br>\" +\n",
    "            \"Year: %{x}<br>\" +\n",
    "            \"Rank: %{y}<br>\" +\n",
    "            \"Cumulative Affected: %{customdata[0]}<extra></extra>\",\n",
    "        text=[agency] * len(df_agency)\n",
    "    ))\n",
    "\n",
    "year_ticks = sorted(agg_df['Year'].unique())[::3]\n",
    "\n",
    "\n",
    "\n",
    "fig.update_yaxes(autorange='reversed', title='Rank (1 = Most Affected)', dtick=1)\n",
    "\n",
    "fig.update_xaxes(\n",
    "    title='Year',\n",
    "    tickmode='array',\n",
    "    tickvals=year_ticks\n",
    ")\n",
    "\n",
    "fig.update_layout(\n",
    "    title_x=0.5,\n",
    "    plot_bgcolor='white',\n",
    "    paper_bgcolor='white',\n",
    "    margin=dict(l=40, r=40, t=60, b=40),\n",
    "    showlegend=True,\n",
    "    \n",
    "    font=dict(\n",
    "        family='Courier New, monospace',\n",
    "        size=14,\n",
    "        color='black'\n",
    "    )\n",
    ")\n",
    "\n",
    "\n",
    "fig.write_html(\"../plots/bumpchart_totalaffected_agency.html\")\n",
    "fig.show()\n",
    "\n"
   ]
  },
  {
   "cell_type": "markdown",
   "metadata": {},
   "source": [
    "# Attack Context vs Agency Type"
   ]
  },
  {
   "cell_type": "code",
   "execution_count": 31,
   "metadata": {},
   "outputs": [
    {
     "data": {
      "application/vnd.plotly.v1+json": {
       "config": {
        "plotlyServerURL": "https://plot.ly"
       },
       "data": [
        {
         "coloraxis": "coloraxis",
         "histfunc": "sum",
         "hovertemplate": "AgencyType=%{x}<br>Attack context=%{y}<br>sum of Incidents=%{z}<extra></extra>",
         "name": "",
         "textfont": {
          "color": "black",
          "family": "Courier New, monospace",
          "size": 12
         },
         "texttemplate": "%{z}",
         "type": "histogram2d",
         "x": [
          "ICRC",
          "INGO",
          "NNGO",
          "NRCS and IFRC",
          "Other",
          "UN",
          "ICRC",
          "INGO",
          "NNGO",
          "NRCS and IFRC",
          "Other",
          "UN",
          "INGO",
          "NNGO",
          "NRCS and IFRC",
          "UN",
          "ICRC",
          "INGO",
          "NNGO",
          "NRCS and IFRC",
          "Other",
          "UN",
          "ICRC",
          "INGO",
          "NNGO",
          "NRCS and IFRC",
          "Other",
          "UN",
          "ICRC",
          "INGO",
          "NNGO",
          "NRCS and IFRC",
          "Other",
          "UN",
          "ICRC",
          "INGO",
          "NNGO",
          "NRCS and IFRC",
          "Other",
          "UN"
         ],
         "xaxis": "x",
         "xbingroup": "x",
         "y": [
          "Ambush",
          "Ambush",
          "Ambush",
          "Ambush",
          "Ambush",
          "Ambush",
          "Combat/Crossfire",
          "Combat/Crossfire",
          "Combat/Crossfire",
          "Combat/Crossfire",
          "Combat/Crossfire",
          "Combat/Crossfire",
          "Detention",
          "Detention",
          "Detention",
          "Detention",
          "Individual attack",
          "Individual attack",
          "Individual attack",
          "Individual attack",
          "Individual attack",
          "Individual attack",
          "Mob violence",
          "Mob violence",
          "Mob violence",
          "Mob violence",
          "Mob violence",
          "Mob violence",
          "Raid",
          "Raid",
          "Raid",
          "Raid",
          "Raid",
          "Raid",
          "Unknown",
          "Unknown",
          "Unknown",
          "Unknown",
          "Unknown",
          "Unknown"
         ],
         "yaxis": "y",
         "ybingroup": "y",
         "z": {
          "bdata": "JACHAj8BNwASAGEBEgDjAPYAPgAFAHcAIgAQAAIACgAMALcBpQAjABgAxwABADkACAAJAAMAEwAIABYBgAALAAcAWwAZAC8BzQBOAAoAegA=",
          "dtype": "i2"
         }
        }
       ],
       "layout": {
        "coloraxis": {
         "colorbar": {
          "title": {
           "text": "sum of Incidents"
          }
         },
         "colorscale": [
          [
           0,
           "rgb(255,245,240)"
          ],
          [
           0.14285714285714285,
           "rgb(254,224,210)"
          ],
          [
           0.2857142857142857,
           "rgb(252,187,161)"
          ],
          [
           0.42857142857142855,
           "rgb(252,146,114)"
          ],
          [
           0.5714285714285714,
           "rgb(251,106,74)"
          ],
          [
           0.7142857142857143,
           "rgb(239,59,44)"
          ],
          [
           0.8571428571428571,
           "rgb(203,24,29)"
          ],
          [
           1,
           "rgb(165,15,21)"
          ]
         ]
        },
        "font": {
         "color": "black",
         "family": "Courier New, monospace",
         "size": 14
        },
        "legend": {
         "tracegroupgap": 0
        },
        "margin": {
         "b": 40,
         "l": 40,
         "r": 40,
         "t": 60
        },
        "paper_bgcolor": "white",
        "plot_bgcolor": "white",
        "template": {
         "data": {
          "bar": [
           {
            "error_x": {
             "color": "#2a3f5f"
            },
            "error_y": {
             "color": "#2a3f5f"
            },
            "marker": {
             "line": {
              "color": "#E5ECF6",
              "width": 0.5
             },
             "pattern": {
              "fillmode": "overlay",
              "size": 10,
              "solidity": 0.2
             }
            },
            "type": "bar"
           }
          ],
          "barpolar": [
           {
            "marker": {
             "line": {
              "color": "#E5ECF6",
              "width": 0.5
             },
             "pattern": {
              "fillmode": "overlay",
              "size": 10,
              "solidity": 0.2
             }
            },
            "type": "barpolar"
           }
          ],
          "carpet": [
           {
            "aaxis": {
             "endlinecolor": "#2a3f5f",
             "gridcolor": "white",
             "linecolor": "white",
             "minorgridcolor": "white",
             "startlinecolor": "#2a3f5f"
            },
            "baxis": {
             "endlinecolor": "#2a3f5f",
             "gridcolor": "white",
             "linecolor": "white",
             "minorgridcolor": "white",
             "startlinecolor": "#2a3f5f"
            },
            "type": "carpet"
           }
          ],
          "choropleth": [
           {
            "colorbar": {
             "outlinewidth": 0,
             "ticks": ""
            },
            "type": "choropleth"
           }
          ],
          "contour": [
           {
            "colorbar": {
             "outlinewidth": 0,
             "ticks": ""
            },
            "colorscale": [
             [
              0,
              "#0d0887"
             ],
             [
              0.1111111111111111,
              "#46039f"
             ],
             [
              0.2222222222222222,
              "#7201a8"
             ],
             [
              0.3333333333333333,
              "#9c179e"
             ],
             [
              0.4444444444444444,
              "#bd3786"
             ],
             [
              0.5555555555555556,
              "#d8576b"
             ],
             [
              0.6666666666666666,
              "#ed7953"
             ],
             [
              0.7777777777777778,
              "#fb9f3a"
             ],
             [
              0.8888888888888888,
              "#fdca26"
             ],
             [
              1,
              "#f0f921"
             ]
            ],
            "type": "contour"
           }
          ],
          "contourcarpet": [
           {
            "colorbar": {
             "outlinewidth": 0,
             "ticks": ""
            },
            "type": "contourcarpet"
           }
          ],
          "heatmap": [
           {
            "colorbar": {
             "outlinewidth": 0,
             "ticks": ""
            },
            "colorscale": [
             [
              0,
              "#0d0887"
             ],
             [
              0.1111111111111111,
              "#46039f"
             ],
             [
              0.2222222222222222,
              "#7201a8"
             ],
             [
              0.3333333333333333,
              "#9c179e"
             ],
             [
              0.4444444444444444,
              "#bd3786"
             ],
             [
              0.5555555555555556,
              "#d8576b"
             ],
             [
              0.6666666666666666,
              "#ed7953"
             ],
             [
              0.7777777777777778,
              "#fb9f3a"
             ],
             [
              0.8888888888888888,
              "#fdca26"
             ],
             [
              1,
              "#f0f921"
             ]
            ],
            "type": "heatmap"
           }
          ],
          "histogram": [
           {
            "marker": {
             "pattern": {
              "fillmode": "overlay",
              "size": 10,
              "solidity": 0.2
             }
            },
            "type": "histogram"
           }
          ],
          "histogram2d": [
           {
            "colorbar": {
             "outlinewidth": 0,
             "ticks": ""
            },
            "colorscale": [
             [
              0,
              "#0d0887"
             ],
             [
              0.1111111111111111,
              "#46039f"
             ],
             [
              0.2222222222222222,
              "#7201a8"
             ],
             [
              0.3333333333333333,
              "#9c179e"
             ],
             [
              0.4444444444444444,
              "#bd3786"
             ],
             [
              0.5555555555555556,
              "#d8576b"
             ],
             [
              0.6666666666666666,
              "#ed7953"
             ],
             [
              0.7777777777777778,
              "#fb9f3a"
             ],
             [
              0.8888888888888888,
              "#fdca26"
             ],
             [
              1,
              "#f0f921"
             ]
            ],
            "type": "histogram2d"
           }
          ],
          "histogram2dcontour": [
           {
            "colorbar": {
             "outlinewidth": 0,
             "ticks": ""
            },
            "colorscale": [
             [
              0,
              "#0d0887"
             ],
             [
              0.1111111111111111,
              "#46039f"
             ],
             [
              0.2222222222222222,
              "#7201a8"
             ],
             [
              0.3333333333333333,
              "#9c179e"
             ],
             [
              0.4444444444444444,
              "#bd3786"
             ],
             [
              0.5555555555555556,
              "#d8576b"
             ],
             [
              0.6666666666666666,
              "#ed7953"
             ],
             [
              0.7777777777777778,
              "#fb9f3a"
             ],
             [
              0.8888888888888888,
              "#fdca26"
             ],
             [
              1,
              "#f0f921"
             ]
            ],
            "type": "histogram2dcontour"
           }
          ],
          "mesh3d": [
           {
            "colorbar": {
             "outlinewidth": 0,
             "ticks": ""
            },
            "type": "mesh3d"
           }
          ],
          "parcoords": [
           {
            "line": {
             "colorbar": {
              "outlinewidth": 0,
              "ticks": ""
             }
            },
            "type": "parcoords"
           }
          ],
          "pie": [
           {
            "automargin": true,
            "type": "pie"
           }
          ],
          "scatter": [
           {
            "fillpattern": {
             "fillmode": "overlay",
             "size": 10,
             "solidity": 0.2
            },
            "type": "scatter"
           }
          ],
          "scatter3d": [
           {
            "line": {
             "colorbar": {
              "outlinewidth": 0,
              "ticks": ""
             }
            },
            "marker": {
             "colorbar": {
              "outlinewidth": 0,
              "ticks": ""
             }
            },
            "type": "scatter3d"
           }
          ],
          "scattercarpet": [
           {
            "marker": {
             "colorbar": {
              "outlinewidth": 0,
              "ticks": ""
             }
            },
            "type": "scattercarpet"
           }
          ],
          "scattergeo": [
           {
            "marker": {
             "colorbar": {
              "outlinewidth": 0,
              "ticks": ""
             }
            },
            "type": "scattergeo"
           }
          ],
          "scattergl": [
           {
            "marker": {
             "colorbar": {
              "outlinewidth": 0,
              "ticks": ""
             }
            },
            "type": "scattergl"
           }
          ],
          "scattermap": [
           {
            "marker": {
             "colorbar": {
              "outlinewidth": 0,
              "ticks": ""
             }
            },
            "type": "scattermap"
           }
          ],
          "scattermapbox": [
           {
            "marker": {
             "colorbar": {
              "outlinewidth": 0,
              "ticks": ""
             }
            },
            "type": "scattermapbox"
           }
          ],
          "scatterpolar": [
           {
            "marker": {
             "colorbar": {
              "outlinewidth": 0,
              "ticks": ""
             }
            },
            "type": "scatterpolar"
           }
          ],
          "scatterpolargl": [
           {
            "marker": {
             "colorbar": {
              "outlinewidth": 0,
              "ticks": ""
             }
            },
            "type": "scatterpolargl"
           }
          ],
          "scatterternary": [
           {
            "marker": {
             "colorbar": {
              "outlinewidth": 0,
              "ticks": ""
             }
            },
            "type": "scatterternary"
           }
          ],
          "surface": [
           {
            "colorbar": {
             "outlinewidth": 0,
             "ticks": ""
            },
            "colorscale": [
             [
              0,
              "#0d0887"
             ],
             [
              0.1111111111111111,
              "#46039f"
             ],
             [
              0.2222222222222222,
              "#7201a8"
             ],
             [
              0.3333333333333333,
              "#9c179e"
             ],
             [
              0.4444444444444444,
              "#bd3786"
             ],
             [
              0.5555555555555556,
              "#d8576b"
             ],
             [
              0.6666666666666666,
              "#ed7953"
             ],
             [
              0.7777777777777778,
              "#fb9f3a"
             ],
             [
              0.8888888888888888,
              "#fdca26"
             ],
             [
              1,
              "#f0f921"
             ]
            ],
            "type": "surface"
           }
          ],
          "table": [
           {
            "cells": {
             "fill": {
              "color": "#EBF0F8"
             },
             "line": {
              "color": "white"
             }
            },
            "header": {
             "fill": {
              "color": "#C8D4E3"
             },
             "line": {
              "color": "white"
             }
            },
            "type": "table"
           }
          ]
         },
         "layout": {
          "annotationdefaults": {
           "arrowcolor": "#2a3f5f",
           "arrowhead": 0,
           "arrowwidth": 1
          },
          "autotypenumbers": "strict",
          "coloraxis": {
           "colorbar": {
            "outlinewidth": 0,
            "ticks": ""
           }
          },
          "colorscale": {
           "diverging": [
            [
             0,
             "#8e0152"
            ],
            [
             0.1,
             "#c51b7d"
            ],
            [
             0.2,
             "#de77ae"
            ],
            [
             0.3,
             "#f1b6da"
            ],
            [
             0.4,
             "#fde0ef"
            ],
            [
             0.5,
             "#f7f7f7"
            ],
            [
             0.6,
             "#e6f5d0"
            ],
            [
             0.7,
             "#b8e186"
            ],
            [
             0.8,
             "#7fbc41"
            ],
            [
             0.9,
             "#4d9221"
            ],
            [
             1,
             "#276419"
            ]
           ],
           "sequential": [
            [
             0,
             "#0d0887"
            ],
            [
             0.1111111111111111,
             "#46039f"
            ],
            [
             0.2222222222222222,
             "#7201a8"
            ],
            [
             0.3333333333333333,
             "#9c179e"
            ],
            [
             0.4444444444444444,
             "#bd3786"
            ],
            [
             0.5555555555555556,
             "#d8576b"
            ],
            [
             0.6666666666666666,
             "#ed7953"
            ],
            [
             0.7777777777777778,
             "#fb9f3a"
            ],
            [
             0.8888888888888888,
             "#fdca26"
            ],
            [
             1,
             "#f0f921"
            ]
           ],
           "sequentialminus": [
            [
             0,
             "#0d0887"
            ],
            [
             0.1111111111111111,
             "#46039f"
            ],
            [
             0.2222222222222222,
             "#7201a8"
            ],
            [
             0.3333333333333333,
             "#9c179e"
            ],
            [
             0.4444444444444444,
             "#bd3786"
            ],
            [
             0.5555555555555556,
             "#d8576b"
            ],
            [
             0.6666666666666666,
             "#ed7953"
            ],
            [
             0.7777777777777778,
             "#fb9f3a"
            ],
            [
             0.8888888888888888,
             "#fdca26"
            ],
            [
             1,
             "#f0f921"
            ]
           ]
          },
          "colorway": [
           "#636efa",
           "#EF553B",
           "#00cc96",
           "#ab63fa",
           "#FFA15A",
           "#19d3f3",
           "#FF6692",
           "#B6E880",
           "#FF97FF",
           "#FECB52"
          ],
          "font": {
           "color": "#2a3f5f"
          },
          "geo": {
           "bgcolor": "white",
           "lakecolor": "white",
           "landcolor": "#E5ECF6",
           "showlakes": true,
           "showland": true,
           "subunitcolor": "white"
          },
          "hoverlabel": {
           "align": "left"
          },
          "hovermode": "closest",
          "mapbox": {
           "style": "light"
          },
          "paper_bgcolor": "white",
          "plot_bgcolor": "#E5ECF6",
          "polar": {
           "angularaxis": {
            "gridcolor": "white",
            "linecolor": "white",
            "ticks": ""
           },
           "bgcolor": "#E5ECF6",
           "radialaxis": {
            "gridcolor": "white",
            "linecolor": "white",
            "ticks": ""
           }
          },
          "scene": {
           "xaxis": {
            "backgroundcolor": "#E5ECF6",
            "gridcolor": "white",
            "gridwidth": 2,
            "linecolor": "white",
            "showbackground": true,
            "ticks": "",
            "zerolinecolor": "white"
           },
           "yaxis": {
            "backgroundcolor": "#E5ECF6",
            "gridcolor": "white",
            "gridwidth": 2,
            "linecolor": "white",
            "showbackground": true,
            "ticks": "",
            "zerolinecolor": "white"
           },
           "zaxis": {
            "backgroundcolor": "#E5ECF6",
            "gridcolor": "white",
            "gridwidth": 2,
            "linecolor": "white",
            "showbackground": true,
            "ticks": "",
            "zerolinecolor": "white"
           }
          },
          "shapedefaults": {
           "line": {
            "color": "#2a3f5f"
           }
          },
          "ternary": {
           "aaxis": {
            "gridcolor": "white",
            "linecolor": "white",
            "ticks": ""
           },
           "baxis": {
            "gridcolor": "white",
            "linecolor": "white",
            "ticks": ""
           },
           "bgcolor": "#E5ECF6",
           "caxis": {
            "gridcolor": "white",
            "linecolor": "white",
            "ticks": ""
           }
          },
          "title": {
           "x": 0.05
          },
          "xaxis": {
           "automargin": true,
           "gridcolor": "white",
           "linecolor": "white",
           "ticks": "",
           "title": {
            "standoff": 15
           },
           "zerolinecolor": "white",
           "zerolinewidth": 2
          },
          "yaxis": {
           "automargin": true,
           "gridcolor": "white",
           "linecolor": "white",
           "ticks": "",
           "title": {
            "standoff": 15
           },
           "zerolinecolor": "white",
           "zerolinewidth": 2
          }
         }
        },
        "title": {
         "x": 0.5
        },
        "xaxis": {
         "anchor": "y",
         "domain": [
          0,
          1
         ],
         "title": {
          "text": "Agency Type"
         }
        },
        "yaxis": {
         "anchor": "x",
         "domain": [
          0,
          1
         ],
         "title": {
          "text": "Attack context"
         }
        }
       }
      }
     },
     "metadata": {},
     "output_type": "display_data"
    }
   ],
   "source": [
    "# Define agency columns\n",
    "agency_cols = ['UN', 'INGO', 'ICRC', 'NRCS and IFRC', 'NNGO', 'Other']\n",
    "\n",
    "# Melt into long format to count affected agencies per actor type\n",
    "long_df = df.melt(\n",
    "    id_vars=['Attack context'],\n",
    "    value_vars=agency_cols,\n",
    "    var_name='AgencyType',\n",
    "    value_name='Affected'\n",
    ")\n",
    "\n",
    "# Filter out zero or missing values\n",
    "long_df = long_df[long_df['Affected'] > 0]\n",
    "\n",
    "heatmap_df = (\n",
    "    long_df.groupby(['Attack context', 'AgencyType'])\n",
    "    .size()\n",
    "    .reset_index(name='Incidents')\n",
    ")\n",
    "\n",
    "\n",
    "fig = px.density_heatmap(\n",
    "    heatmap_df,\n",
    "    x='AgencyType',\n",
    "    y='Attack context',\n",
    "    z='Incidents',\n",
    "    color_continuous_scale=px.colors.sequential.Reds[:8],  # skips lightest reds\n",
    "    text_auto=True,\n",
    ")\n",
    "\n",
    "# Update layout with monospace font\n",
    "fig.update_layout(\n",
    "    xaxis_title='Agency Type',\n",
    "    yaxis_title='Attack context',\n",
    "    plot_bgcolor='white',\n",
    "    paper_bgcolor='white',\n",
    "    title_x=0.5,\n",
    "    margin=dict(l=40, r=40, t=60, b=40),\n",
    "    font=dict(\n",
    "        family='Courier New, monospace',\n",
    "        size=14,\n",
    "        color='black'\n",
    "    )\n",
    ")\n",
    "\n",
    "# Set monospace for text labels inside the heatmap cells\n",
    "fig.update_traces(\n",
    "    textfont=dict(\n",
    "        family='Courier New, monospace',\n",
    "        size=12,\n",
    "        color='black'\n",
    "    )\n",
    ")\n",
    "\n",
    "\n",
    "fig.write_html(\"../plots/heatmap_attackcontext_agency.html\")\n",
    "fig.show()\n"
   ]
  },
  {
   "cell_type": "code",
   "execution_count": 23,
   "metadata": {},
   "outputs": [
    {
     "name": "stdout",
     "output_type": "stream",
     "text": [
      "count     40.000000\n",
      "mean     110.100000\n",
      "std      144.969104\n",
      "min        1.000000\n",
      "25%       10.750000\n",
      "50%       35.500000\n",
      "75%      173.500000\n",
      "max      647.000000\n",
      "Name: Incidents, dtype: float64\n"
     ]
    }
   ],
   "source": [
    "print(heatmap_df['Incidents'].describe())"
   ]
  },
  {
   "cell_type": "markdown",
   "metadata": {},
   "source": [
    "# Actor Group and Total affected\n",
    "Total Aid Workers Affected by Actor Group"
   ]
  },
  {
   "cell_type": "code",
   "execution_count": 5,
   "metadata": {},
   "outputs": [],
   "source": [
    "df = pd.read_csv(\"../data/processed/security_incidents_clean.csv\")"
   ]
  },
  {
   "cell_type": "code",
   "execution_count": 6,
   "metadata": {},
   "outputs": [],
   "source": [
    "grouped_impact = (\n",
    "    df.groupby('ActorGroup', as_index=False)['Total affected']\n",
    "    .sum()\n",
    "    .dropna()\n",
    "    .sort_values(by='Total affected', ascending=False)\n",
    ")\n"
   ]
  },
  {
   "cell_type": "code",
   "execution_count": 7,
   "metadata": {},
   "outputs": [
    {
     "data": {
      "application/vnd.plotly.v1+json": {
       "config": {
        "plotlyServerURL": "https://plot.ly"
       },
       "data": [
        {
         "domain": {
          "x": [
           0,
           1
          ],
          "y": [
           0,
           1
          ]
         },
         "hovertemplate": "ActorGroup=%{label}<br>Total affected=%{value}<extra></extra>",
         "labels": [
          "Unknown",
          "Non-state Armed Group",
          "State Actor",
          "Individual",
          "Criminal"
         ],
         "legendgroup": "",
         "name": "",
         "pull": [
          0.05,
          0.05,
          0.05,
          0.05,
          0.05
         ],
         "showlegend": true,
         "textinfo": "percent+label",
         "type": "pie",
         "values": {
          "bdata": "YQ/aCSUExQG4AA==",
          "dtype": "i2"
         }
        }
       ],
       "layout": {
        "font": {
         "color": "black",
         "family": "Courier New, monospace",
         "size": 14
        },
        "legend": {
         "tracegroupgap": 0
        },
        "margin": {
         "t": 60
        },
        "paper_bgcolor": "white",
        "piecolorway": [
         "rgb(103,0,13)",
         "rgb(165,15,21)",
         "rgb(203,24,29)",
         "rgb(239,59,44)",
         "rgb(251,106,74)",
         "rgb(252,146,114)",
         "rgb(252,187,161)",
         "rgb(254,224,210)",
         "rgb(255,245,240)"
        ],
        "showlegend": false,
        "template": {
         "data": {
          "bar": [
           {
            "error_x": {
             "color": "#2a3f5f"
            },
            "error_y": {
             "color": "#2a3f5f"
            },
            "marker": {
             "line": {
              "color": "#E5ECF6",
              "width": 0.5
             },
             "pattern": {
              "fillmode": "overlay",
              "size": 10,
              "solidity": 0.2
             }
            },
            "type": "bar"
           }
          ],
          "barpolar": [
           {
            "marker": {
             "line": {
              "color": "#E5ECF6",
              "width": 0.5
             },
             "pattern": {
              "fillmode": "overlay",
              "size": 10,
              "solidity": 0.2
             }
            },
            "type": "barpolar"
           }
          ],
          "carpet": [
           {
            "aaxis": {
             "endlinecolor": "#2a3f5f",
             "gridcolor": "white",
             "linecolor": "white",
             "minorgridcolor": "white",
             "startlinecolor": "#2a3f5f"
            },
            "baxis": {
             "endlinecolor": "#2a3f5f",
             "gridcolor": "white",
             "linecolor": "white",
             "minorgridcolor": "white",
             "startlinecolor": "#2a3f5f"
            },
            "type": "carpet"
           }
          ],
          "choropleth": [
           {
            "colorbar": {
             "outlinewidth": 0,
             "ticks": ""
            },
            "type": "choropleth"
           }
          ],
          "contour": [
           {
            "colorbar": {
             "outlinewidth": 0,
             "ticks": ""
            },
            "colorscale": [
             [
              0,
              "#0d0887"
             ],
             [
              0.1111111111111111,
              "#46039f"
             ],
             [
              0.2222222222222222,
              "#7201a8"
             ],
             [
              0.3333333333333333,
              "#9c179e"
             ],
             [
              0.4444444444444444,
              "#bd3786"
             ],
             [
              0.5555555555555556,
              "#d8576b"
             ],
             [
              0.6666666666666666,
              "#ed7953"
             ],
             [
              0.7777777777777778,
              "#fb9f3a"
             ],
             [
              0.8888888888888888,
              "#fdca26"
             ],
             [
              1,
              "#f0f921"
             ]
            ],
            "type": "contour"
           }
          ],
          "contourcarpet": [
           {
            "colorbar": {
             "outlinewidth": 0,
             "ticks": ""
            },
            "type": "contourcarpet"
           }
          ],
          "heatmap": [
           {
            "colorbar": {
             "outlinewidth": 0,
             "ticks": ""
            },
            "colorscale": [
             [
              0,
              "#0d0887"
             ],
             [
              0.1111111111111111,
              "#46039f"
             ],
             [
              0.2222222222222222,
              "#7201a8"
             ],
             [
              0.3333333333333333,
              "#9c179e"
             ],
             [
              0.4444444444444444,
              "#bd3786"
             ],
             [
              0.5555555555555556,
              "#d8576b"
             ],
             [
              0.6666666666666666,
              "#ed7953"
             ],
             [
              0.7777777777777778,
              "#fb9f3a"
             ],
             [
              0.8888888888888888,
              "#fdca26"
             ],
             [
              1,
              "#f0f921"
             ]
            ],
            "type": "heatmap"
           }
          ],
          "histogram": [
           {
            "marker": {
             "pattern": {
              "fillmode": "overlay",
              "size": 10,
              "solidity": 0.2
             }
            },
            "type": "histogram"
           }
          ],
          "histogram2d": [
           {
            "colorbar": {
             "outlinewidth": 0,
             "ticks": ""
            },
            "colorscale": [
             [
              0,
              "#0d0887"
             ],
             [
              0.1111111111111111,
              "#46039f"
             ],
             [
              0.2222222222222222,
              "#7201a8"
             ],
             [
              0.3333333333333333,
              "#9c179e"
             ],
             [
              0.4444444444444444,
              "#bd3786"
             ],
             [
              0.5555555555555556,
              "#d8576b"
             ],
             [
              0.6666666666666666,
              "#ed7953"
             ],
             [
              0.7777777777777778,
              "#fb9f3a"
             ],
             [
              0.8888888888888888,
              "#fdca26"
             ],
             [
              1,
              "#f0f921"
             ]
            ],
            "type": "histogram2d"
           }
          ],
          "histogram2dcontour": [
           {
            "colorbar": {
             "outlinewidth": 0,
             "ticks": ""
            },
            "colorscale": [
             [
              0,
              "#0d0887"
             ],
             [
              0.1111111111111111,
              "#46039f"
             ],
             [
              0.2222222222222222,
              "#7201a8"
             ],
             [
              0.3333333333333333,
              "#9c179e"
             ],
             [
              0.4444444444444444,
              "#bd3786"
             ],
             [
              0.5555555555555556,
              "#d8576b"
             ],
             [
              0.6666666666666666,
              "#ed7953"
             ],
             [
              0.7777777777777778,
              "#fb9f3a"
             ],
             [
              0.8888888888888888,
              "#fdca26"
             ],
             [
              1,
              "#f0f921"
             ]
            ],
            "type": "histogram2dcontour"
           }
          ],
          "mesh3d": [
           {
            "colorbar": {
             "outlinewidth": 0,
             "ticks": ""
            },
            "type": "mesh3d"
           }
          ],
          "parcoords": [
           {
            "line": {
             "colorbar": {
              "outlinewidth": 0,
              "ticks": ""
             }
            },
            "type": "parcoords"
           }
          ],
          "pie": [
           {
            "automargin": true,
            "type": "pie"
           }
          ],
          "scatter": [
           {
            "fillpattern": {
             "fillmode": "overlay",
             "size": 10,
             "solidity": 0.2
            },
            "type": "scatter"
           }
          ],
          "scatter3d": [
           {
            "line": {
             "colorbar": {
              "outlinewidth": 0,
              "ticks": ""
             }
            },
            "marker": {
             "colorbar": {
              "outlinewidth": 0,
              "ticks": ""
             }
            },
            "type": "scatter3d"
           }
          ],
          "scattercarpet": [
           {
            "marker": {
             "colorbar": {
              "outlinewidth": 0,
              "ticks": ""
             }
            },
            "type": "scattercarpet"
           }
          ],
          "scattergeo": [
           {
            "marker": {
             "colorbar": {
              "outlinewidth": 0,
              "ticks": ""
             }
            },
            "type": "scattergeo"
           }
          ],
          "scattergl": [
           {
            "marker": {
             "colorbar": {
              "outlinewidth": 0,
              "ticks": ""
             }
            },
            "type": "scattergl"
           }
          ],
          "scattermap": [
           {
            "marker": {
             "colorbar": {
              "outlinewidth": 0,
              "ticks": ""
             }
            },
            "type": "scattermap"
           }
          ],
          "scattermapbox": [
           {
            "marker": {
             "colorbar": {
              "outlinewidth": 0,
              "ticks": ""
             }
            },
            "type": "scattermapbox"
           }
          ],
          "scatterpolar": [
           {
            "marker": {
             "colorbar": {
              "outlinewidth": 0,
              "ticks": ""
             }
            },
            "type": "scatterpolar"
           }
          ],
          "scatterpolargl": [
           {
            "marker": {
             "colorbar": {
              "outlinewidth": 0,
              "ticks": ""
             }
            },
            "type": "scatterpolargl"
           }
          ],
          "scatterternary": [
           {
            "marker": {
             "colorbar": {
              "outlinewidth": 0,
              "ticks": ""
             }
            },
            "type": "scatterternary"
           }
          ],
          "surface": [
           {
            "colorbar": {
             "outlinewidth": 0,
             "ticks": ""
            },
            "colorscale": [
             [
              0,
              "#0d0887"
             ],
             [
              0.1111111111111111,
              "#46039f"
             ],
             [
              0.2222222222222222,
              "#7201a8"
             ],
             [
              0.3333333333333333,
              "#9c179e"
             ],
             [
              0.4444444444444444,
              "#bd3786"
             ],
             [
              0.5555555555555556,
              "#d8576b"
             ],
             [
              0.6666666666666666,
              "#ed7953"
             ],
             [
              0.7777777777777778,
              "#fb9f3a"
             ],
             [
              0.8888888888888888,
              "#fdca26"
             ],
             [
              1,
              "#f0f921"
             ]
            ],
            "type": "surface"
           }
          ],
          "table": [
           {
            "cells": {
             "fill": {
              "color": "#EBF0F8"
             },
             "line": {
              "color": "white"
             }
            },
            "header": {
             "fill": {
              "color": "#C8D4E3"
             },
             "line": {
              "color": "white"
             }
            },
            "type": "table"
           }
          ]
         },
         "layout": {
          "annotationdefaults": {
           "arrowcolor": "#2a3f5f",
           "arrowhead": 0,
           "arrowwidth": 1
          },
          "autotypenumbers": "strict",
          "coloraxis": {
           "colorbar": {
            "outlinewidth": 0,
            "ticks": ""
           }
          },
          "colorscale": {
           "diverging": [
            [
             0,
             "#8e0152"
            ],
            [
             0.1,
             "#c51b7d"
            ],
            [
             0.2,
             "#de77ae"
            ],
            [
             0.3,
             "#f1b6da"
            ],
            [
             0.4,
             "#fde0ef"
            ],
            [
             0.5,
             "#f7f7f7"
            ],
            [
             0.6,
             "#e6f5d0"
            ],
            [
             0.7,
             "#b8e186"
            ],
            [
             0.8,
             "#7fbc41"
            ],
            [
             0.9,
             "#4d9221"
            ],
            [
             1,
             "#276419"
            ]
           ],
           "sequential": [
            [
             0,
             "#0d0887"
            ],
            [
             0.1111111111111111,
             "#46039f"
            ],
            [
             0.2222222222222222,
             "#7201a8"
            ],
            [
             0.3333333333333333,
             "#9c179e"
            ],
            [
             0.4444444444444444,
             "#bd3786"
            ],
            [
             0.5555555555555556,
             "#d8576b"
            ],
            [
             0.6666666666666666,
             "#ed7953"
            ],
            [
             0.7777777777777778,
             "#fb9f3a"
            ],
            [
             0.8888888888888888,
             "#fdca26"
            ],
            [
             1,
             "#f0f921"
            ]
           ],
           "sequentialminus": [
            [
             0,
             "#0d0887"
            ],
            [
             0.1111111111111111,
             "#46039f"
            ],
            [
             0.2222222222222222,
             "#7201a8"
            ],
            [
             0.3333333333333333,
             "#9c179e"
            ],
            [
             0.4444444444444444,
             "#bd3786"
            ],
            [
             0.5555555555555556,
             "#d8576b"
            ],
            [
             0.6666666666666666,
             "#ed7953"
            ],
            [
             0.7777777777777778,
             "#fb9f3a"
            ],
            [
             0.8888888888888888,
             "#fdca26"
            ],
            [
             1,
             "#f0f921"
            ]
           ]
          },
          "colorway": [
           "#636efa",
           "#EF553B",
           "#00cc96",
           "#ab63fa",
           "#FFA15A",
           "#19d3f3",
           "#FF6692",
           "#B6E880",
           "#FF97FF",
           "#FECB52"
          ],
          "font": {
           "color": "#2a3f5f"
          },
          "geo": {
           "bgcolor": "white",
           "lakecolor": "white",
           "landcolor": "#E5ECF6",
           "showlakes": true,
           "showland": true,
           "subunitcolor": "white"
          },
          "hoverlabel": {
           "align": "left"
          },
          "hovermode": "closest",
          "mapbox": {
           "style": "light"
          },
          "paper_bgcolor": "white",
          "plot_bgcolor": "#E5ECF6",
          "polar": {
           "angularaxis": {
            "gridcolor": "white",
            "linecolor": "white",
            "ticks": ""
           },
           "bgcolor": "#E5ECF6",
           "radialaxis": {
            "gridcolor": "white",
            "linecolor": "white",
            "ticks": ""
           }
          },
          "scene": {
           "xaxis": {
            "backgroundcolor": "#E5ECF6",
            "gridcolor": "white",
            "gridwidth": 2,
            "linecolor": "white",
            "showbackground": true,
            "ticks": "",
            "zerolinecolor": "white"
           },
           "yaxis": {
            "backgroundcolor": "#E5ECF6",
            "gridcolor": "white",
            "gridwidth": 2,
            "linecolor": "white",
            "showbackground": true,
            "ticks": "",
            "zerolinecolor": "white"
           },
           "zaxis": {
            "backgroundcolor": "#E5ECF6",
            "gridcolor": "white",
            "gridwidth": 2,
            "linecolor": "white",
            "showbackground": true,
            "ticks": "",
            "zerolinecolor": "white"
           }
          },
          "shapedefaults": {
           "line": {
            "color": "#2a3f5f"
           }
          },
          "ternary": {
           "aaxis": {
            "gridcolor": "white",
            "linecolor": "white",
            "ticks": ""
           },
           "baxis": {
            "gridcolor": "white",
            "linecolor": "white",
            "ticks": ""
           },
           "bgcolor": "#E5ECF6",
           "caxis": {
            "gridcolor": "white",
            "linecolor": "white",
            "ticks": ""
           }
          },
          "title": {
           "x": 0.05
          },
          "xaxis": {
           "automargin": true,
           "gridcolor": "white",
           "linecolor": "white",
           "ticks": "",
           "title": {
            "standoff": 15
           },
           "zerolinecolor": "white",
           "zerolinewidth": 2
          },
          "yaxis": {
           "automargin": true,
           "gridcolor": "white",
           "linecolor": "white",
           "ticks": "",
           "title": {
            "standoff": 15
           },
           "zerolinecolor": "white",
           "zerolinewidth": 2
          }
         }
        },
        "title": {
         "x": 0.5
        }
       }
      }
     },
     "metadata": {},
     "output_type": "display_data"
    }
   ],
   "source": [
    "import plotly.express as px\n",
    "\n",
    "fig = px.pie(\n",
    "    grouped_impact,\n",
    "    values='Total affected',\n",
    "    names='ActorGroup',\n",
    "    color_discrete_sequence=px.colors.sequential.Reds[::-1]\n",
    ")\n",
    "\n",
    "# Customize pie slices and labels\n",
    "fig.update_traces(\n",
    "    textinfo='percent+label',\n",
    "    pull=[0.05]*len(grouped_impact)\n",
    ")\n",
    "\n",
    "# Layout: center title, remove legend, monospace font\n",
    "fig.update_layout(\n",
    "    title_x=0.5,\n",
    "    paper_bgcolor='white',\n",
    "    showlegend=False,\n",
    "    font=dict(\n",
    "        family='Courier New, monospace',\n",
    "        size=14,\n",
    "        color='black'\n",
    "    )\n",
    ")\n",
    "\n",
    "fig.write_html(\"../plots/piechart_actorgroups.html\")\n",
    "fig.show()\n"
   ]
  },
  {
   "cell_type": "markdown",
   "metadata": {},
   "source": [
    "# Attack context by actor group"
   ]
  },
  {
   "cell_type": "code",
   "execution_count": 9,
   "metadata": {},
   "outputs": [],
   "source": [
    "context_df = df.dropna(subset=['Attack context', 'ActorGroup'])\n",
    "\n",
    "# Group by ActorGroup and Attack context\n",
    "grouped_context = (\n",
    "    context_df.groupby(['ActorGroup', 'Attack context'])\n",
    "    .size()\n",
    "    .reset_index(name='Count')\n",
    ")\n"
   ]
  },
  {
   "cell_type": "code",
   "execution_count": 14,
   "metadata": {},
   "outputs": [
    {
     "ename": "ValueError",
     "evalue": "\n    Invalid value of type 'builtins.str' received for the 'textposition' property of bar\n        Received value: 'top'\n\n    The 'textposition' property is an enumeration that may be specified as:\n      - One of the following enumeration values:\n            ['inside', 'outside', 'auto', 'none']\n      - A tuple, list, or one-dimensional numpy array of the above",
     "output_type": "error",
     "traceback": [
      "\u001b[0;31m---------------------------------------------------------------------------\u001b[0m",
      "\u001b[0;31mValueError\u001b[0m                                Traceback (most recent call last)",
      "Cell \u001b[0;32mIn[14], line 23\u001b[0m\n\u001b[1;32m     10\u001b[0m df_group \u001b[38;5;241m=\u001b[39m grouped_context[grouped_context[\u001b[38;5;124m'\u001b[39m\u001b[38;5;124mActorGroup\u001b[39m\u001b[38;5;124m'\u001b[39m] \u001b[38;5;241m==\u001b[39m group]\n\u001b[1;32m     12\u001b[0m fig \u001b[38;5;241m=\u001b[39m px\u001b[38;5;241m.\u001b[39mbar(\n\u001b[1;32m     13\u001b[0m     df_group,\n\u001b[1;32m     14\u001b[0m     x\u001b[38;5;241m=\u001b[39m\u001b[38;5;124m'\u001b[39m\u001b[38;5;124mAttack context\u001b[39m\u001b[38;5;124m'\u001b[39m,\n\u001b[0;32m   (...)\u001b[0m\n\u001b[1;32m     20\u001b[0m     text\u001b[38;5;241m=\u001b[39m\u001b[38;5;124m'\u001b[39m\u001b[38;5;124mCount\u001b[39m\u001b[38;5;124m'\u001b[39m  \u001b[38;5;66;03m# ← annotate bar tops\u001b[39;00m\n\u001b[1;32m     21\u001b[0m )\n\u001b[0;32m---> 23\u001b[0m \u001b[43mfig\u001b[49m\u001b[38;5;241;43m.\u001b[39;49m\u001b[43mupdate_traces\u001b[49m\u001b[43m(\u001b[49m\n\u001b[1;32m     24\u001b[0m \u001b[43m\u001b[49m\u001b[43mtextposition\u001b[49m\u001b[38;5;241;43m=\u001b[39;49m\u001b[38;5;124;43m'\u001b[39;49m\u001b[38;5;124;43mtop\u001b[39;49m\u001b[38;5;124;43m'\u001b[39;49m\u001b[43m,\u001b[49m\u001b[43m  \u001b[49m\u001b[38;5;66;43;03m# ← Try this\u001b[39;49;00m\n\u001b[1;32m     25\u001b[0m \u001b[43m\u001b[49m\u001b[43mtextfont\u001b[49m\u001b[38;5;241;43m=\u001b[39;49m\u001b[38;5;28;43mdict\u001b[39;49m\u001b[43m(\u001b[49m\u001b[43mfamily\u001b[49m\u001b[38;5;241;43m=\u001b[39;49m\u001b[38;5;124;43m'\u001b[39;49m\u001b[38;5;124;43mCourier New, monospace\u001b[39;49m\u001b[38;5;124;43m'\u001b[39;49m\u001b[43m,\u001b[49m\u001b[43m \u001b[49m\u001b[43msize\u001b[49m\u001b[38;5;241;43m=\u001b[39;49m\u001b[38;5;241;43m12\u001b[39;49m\u001b[43m)\u001b[49m\n\u001b[1;32m     26\u001b[0m \u001b[43m\u001b[49m\u001b[43m)\u001b[49m\n\u001b[1;32m     28\u001b[0m fig\u001b[38;5;241m.\u001b[39mupdate_layout(\n\u001b[1;32m     29\u001b[0m     title_x\u001b[38;5;241m=\u001b[39m\u001b[38;5;241m0.5\u001b[39m,\n\u001b[1;32m     30\u001b[0m     showlegend\u001b[38;5;241m=\u001b[39m\u001b[38;5;28;01mFalse\u001b[39;00m,\n\u001b[0;32m   (...)\u001b[0m\n\u001b[1;32m     49\u001b[0m uniformtext_mode\u001b[38;5;241m=\u001b[39m\u001b[38;5;124m'\u001b[39m\u001b[38;5;124mshow\u001b[39m\u001b[38;5;124m'\u001b[39m\n\u001b[1;32m     50\u001b[0m )\n\u001b[1;32m     52\u001b[0m \u001b[38;5;66;03m# Clean file name\u001b[39;00m\n",
      "File \u001b[0;32m~/miniforge3/lib/python3.10/site-packages/plotly/graph_objs/_figure.py:757\u001b[0m, in \u001b[0;36mFigure.update_traces\u001b[0;34m(self, patch, selector, row, col, secondary_y, overwrite, **kwargs)\u001b[0m\n\u001b[1;32m    694\u001b[0m \u001b[38;5;28;01mdef\u001b[39;00m \u001b[38;5;21mupdate_traces\u001b[39m(\n\u001b[1;32m    695\u001b[0m     \u001b[38;5;28mself\u001b[39m,\n\u001b[1;32m    696\u001b[0m     patch\u001b[38;5;241m=\u001b[39m\u001b[38;5;28;01mNone\u001b[39;00m,\n\u001b[0;32m   (...)\u001b[0m\n\u001b[1;32m    702\u001b[0m     \u001b[38;5;241m*\u001b[39m\u001b[38;5;241m*\u001b[39mkwargs,\n\u001b[1;32m    703\u001b[0m ) \u001b[38;5;241m-\u001b[39m\u001b[38;5;241m>\u001b[39m \u001b[38;5;124m\"\u001b[39m\u001b[38;5;124mFigure\u001b[39m\u001b[38;5;124m\"\u001b[39m:\n\u001b[1;32m    704\u001b[0m \u001b[38;5;250m    \u001b[39m\u001b[38;5;124;03m\"\"\"\u001b[39;00m\n\u001b[1;32m    705\u001b[0m \n\u001b[1;32m    706\u001b[0m \u001b[38;5;124;03m    Perform a property update operation on all traces that satisfy the\u001b[39;00m\n\u001b[0;32m   (...)\u001b[0m\n\u001b[1;32m    755\u001b[0m \n\u001b[1;32m    756\u001b[0m \u001b[38;5;124;03m    \"\"\"\u001b[39;00m\n\u001b[0;32m--> 757\u001b[0m     \u001b[38;5;28;01mreturn\u001b[39;00m \u001b[38;5;28;43msuper\u001b[39;49m\u001b[43m(\u001b[49m\u001b[43mFigure\u001b[49m\u001b[43m,\u001b[49m\u001b[43m \u001b[49m\u001b[38;5;28;43mself\u001b[39;49m\u001b[43m)\u001b[49m\u001b[38;5;241;43m.\u001b[39;49m\u001b[43mupdate_traces\u001b[49m\u001b[43m(\u001b[49m\n\u001b[1;32m    758\u001b[0m \u001b[43m        \u001b[49m\u001b[43mpatch\u001b[49m\u001b[43m,\u001b[49m\u001b[43m \u001b[49m\u001b[43mselector\u001b[49m\u001b[43m,\u001b[49m\u001b[43m \u001b[49m\u001b[43mrow\u001b[49m\u001b[43m,\u001b[49m\u001b[43m \u001b[49m\u001b[43mcol\u001b[49m\u001b[43m,\u001b[49m\u001b[43m \u001b[49m\u001b[43msecondary_y\u001b[49m\u001b[43m,\u001b[49m\u001b[43m \u001b[49m\u001b[43moverwrite\u001b[49m\u001b[43m,\u001b[49m\u001b[43m \u001b[49m\u001b[38;5;241;43m*\u001b[39;49m\u001b[38;5;241;43m*\u001b[39;49m\u001b[43mkwargs\u001b[49m\n\u001b[1;32m    759\u001b[0m \u001b[43m    \u001b[49m\u001b[43m)\u001b[49m\n",
      "File \u001b[0;32m~/miniforge3/lib/python3.10/site-packages/plotly/basedatatypes.py:1365\u001b[0m, in \u001b[0;36mBaseFigure.update_traces\u001b[0;34m(self, patch, selector, row, col, secondary_y, overwrite, **kwargs)\u001b[0m\n\u001b[1;32m   1311\u001b[0m \u001b[38;5;250m\u001b[39m\u001b[38;5;124;03m\"\"\"\u001b[39;00m\n\u001b[1;32m   1312\u001b[0m \u001b[38;5;124;03mPerform a property update operation on all traces that satisfy the\u001b[39;00m\n\u001b[1;32m   1313\u001b[0m \u001b[38;5;124;03mspecified selection criteria\u001b[39;00m\n\u001b[0;32m   (...)\u001b[0m\n\u001b[1;32m   1360\u001b[0m \u001b[38;5;124;03m    Returns the Figure object that the method was called on\u001b[39;00m\n\u001b[1;32m   1361\u001b[0m \u001b[38;5;124;03m\"\"\"\u001b[39;00m\n\u001b[1;32m   1362\u001b[0m \u001b[38;5;28;01mfor\u001b[39;00m trace \u001b[38;5;129;01min\u001b[39;00m \u001b[38;5;28mself\u001b[39m\u001b[38;5;241m.\u001b[39mselect_traces(\n\u001b[1;32m   1363\u001b[0m     selector\u001b[38;5;241m=\u001b[39mselector, row\u001b[38;5;241m=\u001b[39mrow, col\u001b[38;5;241m=\u001b[39mcol, secondary_y\u001b[38;5;241m=\u001b[39msecondary_y\n\u001b[1;32m   1364\u001b[0m ):\n\u001b[0;32m-> 1365\u001b[0m     \u001b[43mtrace\u001b[49m\u001b[38;5;241;43m.\u001b[39;49m\u001b[43mupdate\u001b[49m\u001b[43m(\u001b[49m\u001b[43mpatch\u001b[49m\u001b[43m,\u001b[49m\u001b[43m \u001b[49m\u001b[43moverwrite\u001b[49m\u001b[38;5;241;43m=\u001b[39;49m\u001b[43moverwrite\u001b[49m\u001b[43m,\u001b[49m\u001b[43m \u001b[49m\u001b[38;5;241;43m*\u001b[39;49m\u001b[38;5;241;43m*\u001b[39;49m\u001b[43mkwargs\u001b[49m\u001b[43m)\u001b[49m\n\u001b[1;32m   1366\u001b[0m \u001b[38;5;28;01mreturn\u001b[39;00m \u001b[38;5;28mself\u001b[39m\n",
      "File \u001b[0;32m~/miniforge3/lib/python3.10/site-packages/plotly/basedatatypes.py:5123\u001b[0m, in \u001b[0;36mBasePlotlyType.update\u001b[0;34m(self, dict1, overwrite, **kwargs)\u001b[0m\n\u001b[1;32m   5121\u001b[0m     \u001b[38;5;28;01mwith\u001b[39;00m \u001b[38;5;28mself\u001b[39m\u001b[38;5;241m.\u001b[39mfigure\u001b[38;5;241m.\u001b[39mbatch_update():\n\u001b[1;32m   5122\u001b[0m         BaseFigure\u001b[38;5;241m.\u001b[39m_perform_update(\u001b[38;5;28mself\u001b[39m, dict1, overwrite\u001b[38;5;241m=\u001b[39moverwrite)\n\u001b[0;32m-> 5123\u001b[0m         \u001b[43mBaseFigure\u001b[49m\u001b[38;5;241;43m.\u001b[39;49m\u001b[43m_perform_update\u001b[49m\u001b[43m(\u001b[49m\u001b[38;5;28;43mself\u001b[39;49m\u001b[43m,\u001b[49m\u001b[43m \u001b[49m\u001b[43mkwargs\u001b[49m\u001b[43m,\u001b[49m\u001b[43m \u001b[49m\u001b[43moverwrite\u001b[49m\u001b[38;5;241;43m=\u001b[39;49m\u001b[43moverwrite\u001b[49m\u001b[43m)\u001b[49m\n\u001b[1;32m   5124\u001b[0m \u001b[38;5;28;01melse\u001b[39;00m:\n\u001b[1;32m   5125\u001b[0m     BaseFigure\u001b[38;5;241m.\u001b[39m_perform_update(\u001b[38;5;28mself\u001b[39m, dict1, overwrite\u001b[38;5;241m=\u001b[39moverwrite)\n",
      "File \u001b[0;32m~/miniforge3/lib/python3.10/site-packages/plotly/basedatatypes.py:3926\u001b[0m, in \u001b[0;36mBaseFigure._perform_update\u001b[0;34m(plotly_obj, update_obj, overwrite)\u001b[0m\n\u001b[1;32m   3923\u001b[0m                 plotly_obj[key] \u001b[38;5;241m=\u001b[39m val\n\u001b[1;32m   3924\u001b[0m         \u001b[38;5;28;01melse\u001b[39;00m:\n\u001b[1;32m   3925\u001b[0m             \u001b[38;5;66;03m# Assign non-compound value\u001b[39;00m\n\u001b[0;32m-> 3926\u001b[0m             \u001b[43mplotly_obj\u001b[49m\u001b[43m[\u001b[49m\u001b[43mkey\u001b[49m\u001b[43m]\u001b[49m \u001b[38;5;241m=\u001b[39m val\n\u001b[1;32m   3928\u001b[0m \u001b[38;5;28;01melif\u001b[39;00m \u001b[38;5;28misinstance\u001b[39m(plotly_obj, \u001b[38;5;28mtuple\u001b[39m):\n\u001b[1;32m   3930\u001b[0m     \u001b[38;5;28;01mif\u001b[39;00m \u001b[38;5;28mlen\u001b[39m(update_obj) \u001b[38;5;241m==\u001b[39m \u001b[38;5;241m0\u001b[39m:\n\u001b[1;32m   3931\u001b[0m         \u001b[38;5;66;03m# Nothing to do\u001b[39;00m\n",
      "File \u001b[0;32m~/miniforge3/lib/python3.10/site-packages/plotly/basedatatypes.py:4860\u001b[0m, in \u001b[0;36mBasePlotlyType.__setitem__\u001b[0;34m(self, prop, value)\u001b[0m\n\u001b[1;32m   4856\u001b[0m         \u001b[38;5;28mself\u001b[39m\u001b[38;5;241m.\u001b[39m_set_array_prop(prop, value)\n\u001b[1;32m   4858\u001b[0m     \u001b[38;5;66;03m# ### Handle simple property ###\u001b[39;00m\n\u001b[1;32m   4859\u001b[0m     \u001b[38;5;28;01melse\u001b[39;00m:\n\u001b[0;32m-> 4860\u001b[0m         \u001b[38;5;28;43mself\u001b[39;49m\u001b[38;5;241;43m.\u001b[39;49m\u001b[43m_set_prop\u001b[49m\u001b[43m(\u001b[49m\u001b[43mprop\u001b[49m\u001b[43m,\u001b[49m\u001b[43m \u001b[49m\u001b[43mvalue\u001b[49m\u001b[43m)\u001b[49m\n\u001b[1;32m   4861\u001b[0m \u001b[38;5;28;01melse\u001b[39;00m:\n\u001b[1;32m   4862\u001b[0m     \u001b[38;5;66;03m# Make sure properties dict is initialized\u001b[39;00m\n\u001b[1;32m   4863\u001b[0m     \u001b[38;5;28mself\u001b[39m\u001b[38;5;241m.\u001b[39m_init_props()\n",
      "File \u001b[0;32m~/miniforge3/lib/python3.10/site-packages/plotly/basedatatypes.py:5204\u001b[0m, in \u001b[0;36mBasePlotlyType._set_prop\u001b[0;34m(self, prop, val)\u001b[0m\n\u001b[1;32m   5202\u001b[0m         \u001b[38;5;28;01mreturn\u001b[39;00m\n\u001b[1;32m   5203\u001b[0m     \u001b[38;5;28;01melse\u001b[39;00m:\n\u001b[0;32m-> 5204\u001b[0m         \u001b[38;5;28;01mraise\u001b[39;00m err\n\u001b[1;32m   5206\u001b[0m \u001b[38;5;66;03m# val is None\u001b[39;00m\n\u001b[1;32m   5207\u001b[0m \u001b[38;5;66;03m# -----------\u001b[39;00m\n\u001b[1;32m   5208\u001b[0m \u001b[38;5;28;01mif\u001b[39;00m val \u001b[38;5;129;01mis\u001b[39;00m \u001b[38;5;28;01mNone\u001b[39;00m:\n\u001b[1;32m   5209\u001b[0m     \u001b[38;5;66;03m# Check if we should send null update\u001b[39;00m\n",
      "File \u001b[0;32m~/miniforge3/lib/python3.10/site-packages/plotly/basedatatypes.py:5199\u001b[0m, in \u001b[0;36mBasePlotlyType._set_prop\u001b[0;34m(self, prop, val)\u001b[0m\n\u001b[1;32m   5196\u001b[0m validator \u001b[38;5;241m=\u001b[39m \u001b[38;5;28mself\u001b[39m\u001b[38;5;241m.\u001b[39m_get_validator(prop)\n\u001b[1;32m   5198\u001b[0m \u001b[38;5;28;01mtry\u001b[39;00m:\n\u001b[0;32m-> 5199\u001b[0m     val \u001b[38;5;241m=\u001b[39m \u001b[43mvalidator\u001b[49m\u001b[38;5;241;43m.\u001b[39;49m\u001b[43mvalidate_coerce\u001b[49m\u001b[43m(\u001b[49m\u001b[43mval\u001b[49m\u001b[43m)\u001b[49m\n\u001b[1;32m   5200\u001b[0m \u001b[38;5;28;01mexcept\u001b[39;00m \u001b[38;5;167;01mValueError\u001b[39;00m \u001b[38;5;28;01mas\u001b[39;00m err:\n\u001b[1;32m   5201\u001b[0m     \u001b[38;5;28;01mif\u001b[39;00m \u001b[38;5;28mself\u001b[39m\u001b[38;5;241m.\u001b[39m_skip_invalid:\n",
      "File \u001b[0;32m~/miniforge3/lib/python3.10/site-packages/_plotly_utils/basevalidators.py:620\u001b[0m, in \u001b[0;36mEnumeratedValidator.validate_coerce\u001b[0;34m(self, v)\u001b[0m\n\u001b[1;32m    618\u001b[0m     v \u001b[38;5;241m=\u001b[39m \u001b[38;5;28mself\u001b[39m\u001b[38;5;241m.\u001b[39mperform_replacemenet(v)\n\u001b[1;32m    619\u001b[0m     \u001b[38;5;28;01mif\u001b[39;00m \u001b[38;5;129;01mnot\u001b[39;00m \u001b[38;5;28mself\u001b[39m\u001b[38;5;241m.\u001b[39min_values(v):\n\u001b[0;32m--> 620\u001b[0m         \u001b[38;5;28;43mself\u001b[39;49m\u001b[38;5;241;43m.\u001b[39;49m\u001b[43mraise_invalid_val\u001b[49m\u001b[43m(\u001b[49m\u001b[43mv\u001b[49m\u001b[43m)\u001b[49m\n\u001b[1;32m    621\u001b[0m \u001b[38;5;28;01mreturn\u001b[39;00m v\n",
      "File \u001b[0;32m~/miniforge3/lib/python3.10/site-packages/_plotly_utils/basevalidators.py:299\u001b[0m, in \u001b[0;36mBaseValidator.raise_invalid_val\u001b[0;34m(self, v, inds)\u001b[0m\n\u001b[1;32m    296\u001b[0m             \u001b[38;5;28;01mfor\u001b[39;00m i \u001b[38;5;129;01min\u001b[39;00m inds:\n\u001b[1;32m    297\u001b[0m                 name \u001b[38;5;241m+\u001b[39m\u001b[38;5;241m=\u001b[39m \u001b[38;5;124m\"\u001b[39m\u001b[38;5;124m[\u001b[39m\u001b[38;5;124m\"\u001b[39m \u001b[38;5;241m+\u001b[39m \u001b[38;5;28mstr\u001b[39m(i) \u001b[38;5;241m+\u001b[39m \u001b[38;5;124m\"\u001b[39m\u001b[38;5;124m]\u001b[39m\u001b[38;5;124m\"\u001b[39m\n\u001b[0;32m--> 299\u001b[0m         \u001b[38;5;28;01mraise\u001b[39;00m \u001b[38;5;167;01mValueError\u001b[39;00m(\n\u001b[1;32m    300\u001b[0m \u001b[38;5;250m            \u001b[39m\u001b[38;5;124;03m\"\"\"\u001b[39;00m\n\u001b[1;32m    301\u001b[0m \u001b[38;5;124;03m    Invalid value of type {typ} received for the '{name}' property of {pname}\u001b[39;00m\n\u001b[1;32m    302\u001b[0m \u001b[38;5;124;03m        Received value: {v}\u001b[39;00m\n\u001b[1;32m    303\u001b[0m \n\u001b[1;32m    304\u001b[0m \u001b[38;5;124;03m{valid_clr_desc}\"\"\"\u001b[39;00m\u001b[38;5;241m.\u001b[39mformat(\n\u001b[1;32m    305\u001b[0m                 name\u001b[38;5;241m=\u001b[39mname,\n\u001b[1;32m    306\u001b[0m                 pname\u001b[38;5;241m=\u001b[39m\u001b[38;5;28mself\u001b[39m\u001b[38;5;241m.\u001b[39mparent_name,\n\u001b[1;32m    307\u001b[0m                 typ\u001b[38;5;241m=\u001b[39mtype_str(v),\n\u001b[1;32m    308\u001b[0m                 v\u001b[38;5;241m=\u001b[39m\u001b[38;5;28mrepr\u001b[39m(v),\n\u001b[1;32m    309\u001b[0m                 valid_clr_desc\u001b[38;5;241m=\u001b[39m\u001b[38;5;28mself\u001b[39m\u001b[38;5;241m.\u001b[39mdescription(),\n\u001b[1;32m    310\u001b[0m             )\n\u001b[1;32m    311\u001b[0m         )\n",
      "\u001b[0;31mValueError\u001b[0m: \n    Invalid value of type 'builtins.str' received for the 'textposition' property of bar\n        Received value: 'top'\n\n    The 'textposition' property is an enumeration that may be specified as:\n      - One of the following enumeration values:\n            ['inside', 'outside', 'auto', 'none']\n      - A tuple, list, or one-dimensional numpy array of the above"
     ]
    }
   ],
   "source": [
    "import os\n",
    "import plotly.express as px\n",
    "\n",
    "# Ensure output folder exists\n",
    "os.makedirs(\"../plots/attack_contexts\", exist_ok=True)\n",
    "\n",
    "unique_groups = grouped_context['ActorGroup'].unique()\n",
    "\n",
    "for group in unique_groups:\n",
    "    df_group = grouped_context[grouped_context['ActorGroup'] == group]\n",
    "\n",
    "    fig = px.bar(\n",
    "        df_group,\n",
    "        x='Attack context',\n",
    "        y='Count',\n",
    "        color='Attack context',\n",
    "        title=f'Attack Contexts for {group}',\n",
    "        labels={'Count': 'Number of Incidents'},\n",
    "        color_discrete_sequence=px.colors.sequential.Reds_r,\n",
    "        text='Count'  # ← annotate bar tops\n",
    "    )\n",
    "\n",
    "    fig.update_traces(\n",
    "    textposition='top',  # ← Try this\n",
    "    textfont=dict(family='Courier New, monospace', size=12)\n",
    "    )\n",
    "\n",
    "    fig.update_layout(\n",
    "        title_x=0.5,\n",
    "        showlegend=False,\n",
    "        plot_bgcolor='white',\n",
    "        paper_bgcolor='white',\n",
    "        font=dict(\n",
    "            family='Courier New, monospace',\n",
    "            size=14,\n",
    "            color='black'\n",
    "        ),\n",
    "        margin=dict(t=60, l=40, r=40, b=40),\n",
    "        yaxis=dict(\n",
    "            showticklabels=False,\n",
    "            showgrid=False,\n",
    "            title=None,\n",
    "            zeroline=False\n",
    "        ),\n",
    "        xaxis=dict(  \n",
    "        tickangle=45\n",
    "    ),\n",
    "    uniformtext_minsize=10,\n",
    "    uniformtext_mode='show'\n",
    "    )\n",
    "\n",
    "    # Clean file name\n",
    "    safe_group_name = group.replace(\" \", \"_\").replace(\":\", \"\").replace(\"/\", \"\")\n",
    "    fig.write_html(f\"../plots/attack_contexts/{safe_group_name}.html\")\n",
    "    fig.show()\n"
   ]
  },
  {
   "cell_type": "code",
   "execution_count": 11,
   "metadata": {},
   "outputs": [
    {
     "data": {
      "application/vnd.plotly.v1+json": {
       "config": {
        "plotlyServerURL": "https://plot.ly"
       },
       "data": [
        {
         "hovertemplate": "ActorGroup=Criminal<br>Attack context=%{x}<br>Number of Incidents=%{y}<extra></extra>",
         "legendgroup": "Criminal",
         "marker": {
          "color": "rgb(103,0,13)",
          "pattern": {
           "shape": ""
          }
         },
         "name": "Criminal",
         "orientation": "v",
         "showlegend": true,
         "textposition": "auto",
         "texttemplate": "%{y}",
         "type": "bar",
         "x": [
          "Ambush",
          "Combat/Crossfire",
          "Detention",
          "Individual attack",
          "Mob violence",
          "Raid",
          "Unknown"
         ],
         "xaxis": "x",
         "y": {
          "bdata": "KgIBNAIWCw==",
          "dtype": "i1"
         },
         "yaxis": "y"
        },
        {
         "hovertemplate": "ActorGroup=Individual<br>Attack context=%{x}<br>Number of Incidents=%{y}<extra></extra>",
         "legendgroup": "Individual",
         "marker": {
          "color": "rgb(165,15,21)",
          "pattern": {
           "shape": ""
          }
         },
         "name": "Individual",
         "orientation": "v",
         "showlegend": true,
         "textposition": "auto",
         "texttemplate": "%{y}",
         "type": "bar",
         "x": [
          "Ambush",
          "Combat/Crossfire",
          "Detention",
          "Individual attack",
          "Mob violence",
          "Raid",
          "Unknown"
         ],
         "xaxis": "x",
         "y": {
          "bdata": "HAAJAAEAsABHABIAEQA=",
          "dtype": "i2"
         },
         "yaxis": "y"
        },
        {
         "hovertemplate": "ActorGroup=Non-state Armed Group<br>Attack context=%{x}<br>Number of Incidents=%{y}<extra></extra>",
         "legendgroup": "Non-state Armed Group",
         "marker": {
          "color": "rgb(203,24,29)",
          "pattern": {
           "shape": ""
          }
         },
         "name": "Non-state Armed Group",
         "orientation": "v",
         "showlegend": true,
         "textposition": "auto",
         "texttemplate": "%{y}",
         "type": "bar",
         "x": [
          "Ambush",
          "Combat/Crossfire",
          "Detention",
          "Individual attack",
          "Mob violence",
          "Raid",
          "Unknown"
         ],
         "xaxis": "x",
         "y": {
          "bdata": "2gGLAAYAbgAEAK8AtAA=",
          "dtype": "i2"
         },
         "yaxis": "y"
        },
        {
         "hovertemplate": "ActorGroup=State Actor<br>Attack context=%{x}<br>Number of Incidents=%{y}<extra></extra>",
         "legendgroup": "State Actor",
         "marker": {
          "color": "rgb(239,59,44)",
          "pattern": {
           "shape": ""
          }
         },
         "name": "State Actor",
         "orientation": "v",
         "showlegend": true,
         "textposition": "auto",
         "texttemplate": "%{y}",
         "type": "bar",
         "x": [
          "Ambush",
          "Combat/Crossfire",
          "Detention",
          "Individual attack",
          "Mob violence",
          "Raid",
          "Unknown"
         ],
         "xaxis": "x",
         "y": {
          "bdata": "MQAtASwAQgABABUAJQA=",
          "dtype": "i2"
         },
         "yaxis": "y"
        },
        {
         "hovertemplate": "ActorGroup=Unknown<br>Attack context=%{x}<br>Number of Incidents=%{y}<extra></extra>",
         "legendgroup": "Unknown",
         "marker": {
          "color": "rgb(251,106,74)",
          "pattern": {
           "shape": ""
          }
         },
         "name": "Unknown",
         "orientation": "v",
         "showlegend": true,
         "textposition": "auto",
         "texttemplate": "%{y}",
         "type": "bar",
         "x": [
          "Ambush",
          "Combat/Crossfire",
          "Detention",
          "Individual attack",
          "Mob violence",
          "Raid",
          "Unknown"
         ],
         "xaxis": "x",
         "y": {
          "bdata": "JgPYAAkA0AEQAA4B5AE=",
          "dtype": "i2"
         },
         "yaxis": "y"
        }
       ],
       "layout": {
        "barmode": "stack",
        "font": {
         "color": "black",
         "family": "Courier New, monospace",
         "size": 14
        },
        "legend": {
         "title": {
          "text": "ActorGroup"
         },
         "tracegroupgap": 0
        },
        "margin": {
         "b": 40,
         "l": 40,
         "r": 40,
         "t": 60
        },
        "paper_bgcolor": "white",
        "plot_bgcolor": "white",
        "template": {
         "data": {
          "bar": [
           {
            "error_x": {
             "color": "#2a3f5f"
            },
            "error_y": {
             "color": "#2a3f5f"
            },
            "marker": {
             "line": {
              "color": "#E5ECF6",
              "width": 0.5
             },
             "pattern": {
              "fillmode": "overlay",
              "size": 10,
              "solidity": 0.2
             }
            },
            "type": "bar"
           }
          ],
          "barpolar": [
           {
            "marker": {
             "line": {
              "color": "#E5ECF6",
              "width": 0.5
             },
             "pattern": {
              "fillmode": "overlay",
              "size": 10,
              "solidity": 0.2
             }
            },
            "type": "barpolar"
           }
          ],
          "carpet": [
           {
            "aaxis": {
             "endlinecolor": "#2a3f5f",
             "gridcolor": "white",
             "linecolor": "white",
             "minorgridcolor": "white",
             "startlinecolor": "#2a3f5f"
            },
            "baxis": {
             "endlinecolor": "#2a3f5f",
             "gridcolor": "white",
             "linecolor": "white",
             "minorgridcolor": "white",
             "startlinecolor": "#2a3f5f"
            },
            "type": "carpet"
           }
          ],
          "choropleth": [
           {
            "colorbar": {
             "outlinewidth": 0,
             "ticks": ""
            },
            "type": "choropleth"
           }
          ],
          "contour": [
           {
            "colorbar": {
             "outlinewidth": 0,
             "ticks": ""
            },
            "colorscale": [
             [
              0,
              "#0d0887"
             ],
             [
              0.1111111111111111,
              "#46039f"
             ],
             [
              0.2222222222222222,
              "#7201a8"
             ],
             [
              0.3333333333333333,
              "#9c179e"
             ],
             [
              0.4444444444444444,
              "#bd3786"
             ],
             [
              0.5555555555555556,
              "#d8576b"
             ],
             [
              0.6666666666666666,
              "#ed7953"
             ],
             [
              0.7777777777777778,
              "#fb9f3a"
             ],
             [
              0.8888888888888888,
              "#fdca26"
             ],
             [
              1,
              "#f0f921"
             ]
            ],
            "type": "contour"
           }
          ],
          "contourcarpet": [
           {
            "colorbar": {
             "outlinewidth": 0,
             "ticks": ""
            },
            "type": "contourcarpet"
           }
          ],
          "heatmap": [
           {
            "colorbar": {
             "outlinewidth": 0,
             "ticks": ""
            },
            "colorscale": [
             [
              0,
              "#0d0887"
             ],
             [
              0.1111111111111111,
              "#46039f"
             ],
             [
              0.2222222222222222,
              "#7201a8"
             ],
             [
              0.3333333333333333,
              "#9c179e"
             ],
             [
              0.4444444444444444,
              "#bd3786"
             ],
             [
              0.5555555555555556,
              "#d8576b"
             ],
             [
              0.6666666666666666,
              "#ed7953"
             ],
             [
              0.7777777777777778,
              "#fb9f3a"
             ],
             [
              0.8888888888888888,
              "#fdca26"
             ],
             [
              1,
              "#f0f921"
             ]
            ],
            "type": "heatmap"
           }
          ],
          "histogram": [
           {
            "marker": {
             "pattern": {
              "fillmode": "overlay",
              "size": 10,
              "solidity": 0.2
             }
            },
            "type": "histogram"
           }
          ],
          "histogram2d": [
           {
            "colorbar": {
             "outlinewidth": 0,
             "ticks": ""
            },
            "colorscale": [
             [
              0,
              "#0d0887"
             ],
             [
              0.1111111111111111,
              "#46039f"
             ],
             [
              0.2222222222222222,
              "#7201a8"
             ],
             [
              0.3333333333333333,
              "#9c179e"
             ],
             [
              0.4444444444444444,
              "#bd3786"
             ],
             [
              0.5555555555555556,
              "#d8576b"
             ],
             [
              0.6666666666666666,
              "#ed7953"
             ],
             [
              0.7777777777777778,
              "#fb9f3a"
             ],
             [
              0.8888888888888888,
              "#fdca26"
             ],
             [
              1,
              "#f0f921"
             ]
            ],
            "type": "histogram2d"
           }
          ],
          "histogram2dcontour": [
           {
            "colorbar": {
             "outlinewidth": 0,
             "ticks": ""
            },
            "colorscale": [
             [
              0,
              "#0d0887"
             ],
             [
              0.1111111111111111,
              "#46039f"
             ],
             [
              0.2222222222222222,
              "#7201a8"
             ],
             [
              0.3333333333333333,
              "#9c179e"
             ],
             [
              0.4444444444444444,
              "#bd3786"
             ],
             [
              0.5555555555555556,
              "#d8576b"
             ],
             [
              0.6666666666666666,
              "#ed7953"
             ],
             [
              0.7777777777777778,
              "#fb9f3a"
             ],
             [
              0.8888888888888888,
              "#fdca26"
             ],
             [
              1,
              "#f0f921"
             ]
            ],
            "type": "histogram2dcontour"
           }
          ],
          "mesh3d": [
           {
            "colorbar": {
             "outlinewidth": 0,
             "ticks": ""
            },
            "type": "mesh3d"
           }
          ],
          "parcoords": [
           {
            "line": {
             "colorbar": {
              "outlinewidth": 0,
              "ticks": ""
             }
            },
            "type": "parcoords"
           }
          ],
          "pie": [
           {
            "automargin": true,
            "type": "pie"
           }
          ],
          "scatter": [
           {
            "fillpattern": {
             "fillmode": "overlay",
             "size": 10,
             "solidity": 0.2
            },
            "type": "scatter"
           }
          ],
          "scatter3d": [
           {
            "line": {
             "colorbar": {
              "outlinewidth": 0,
              "ticks": ""
             }
            },
            "marker": {
             "colorbar": {
              "outlinewidth": 0,
              "ticks": ""
             }
            },
            "type": "scatter3d"
           }
          ],
          "scattercarpet": [
           {
            "marker": {
             "colorbar": {
              "outlinewidth": 0,
              "ticks": ""
             }
            },
            "type": "scattercarpet"
           }
          ],
          "scattergeo": [
           {
            "marker": {
             "colorbar": {
              "outlinewidth": 0,
              "ticks": ""
             }
            },
            "type": "scattergeo"
           }
          ],
          "scattergl": [
           {
            "marker": {
             "colorbar": {
              "outlinewidth": 0,
              "ticks": ""
             }
            },
            "type": "scattergl"
           }
          ],
          "scattermap": [
           {
            "marker": {
             "colorbar": {
              "outlinewidth": 0,
              "ticks": ""
             }
            },
            "type": "scattermap"
           }
          ],
          "scattermapbox": [
           {
            "marker": {
             "colorbar": {
              "outlinewidth": 0,
              "ticks": ""
             }
            },
            "type": "scattermapbox"
           }
          ],
          "scatterpolar": [
           {
            "marker": {
             "colorbar": {
              "outlinewidth": 0,
              "ticks": ""
             }
            },
            "type": "scatterpolar"
           }
          ],
          "scatterpolargl": [
           {
            "marker": {
             "colorbar": {
              "outlinewidth": 0,
              "ticks": ""
             }
            },
            "type": "scatterpolargl"
           }
          ],
          "scatterternary": [
           {
            "marker": {
             "colorbar": {
              "outlinewidth": 0,
              "ticks": ""
             }
            },
            "type": "scatterternary"
           }
          ],
          "surface": [
           {
            "colorbar": {
             "outlinewidth": 0,
             "ticks": ""
            },
            "colorscale": [
             [
              0,
              "#0d0887"
             ],
             [
              0.1111111111111111,
              "#46039f"
             ],
             [
              0.2222222222222222,
              "#7201a8"
             ],
             [
              0.3333333333333333,
              "#9c179e"
             ],
             [
              0.4444444444444444,
              "#bd3786"
             ],
             [
              0.5555555555555556,
              "#d8576b"
             ],
             [
              0.6666666666666666,
              "#ed7953"
             ],
             [
              0.7777777777777778,
              "#fb9f3a"
             ],
             [
              0.8888888888888888,
              "#fdca26"
             ],
             [
              1,
              "#f0f921"
             ]
            ],
            "type": "surface"
           }
          ],
          "table": [
           {
            "cells": {
             "fill": {
              "color": "#EBF0F8"
             },
             "line": {
              "color": "white"
             }
            },
            "header": {
             "fill": {
              "color": "#C8D4E3"
             },
             "line": {
              "color": "white"
             }
            },
            "type": "table"
           }
          ]
         },
         "layout": {
          "annotationdefaults": {
           "arrowcolor": "#2a3f5f",
           "arrowhead": 0,
           "arrowwidth": 1
          },
          "autotypenumbers": "strict",
          "coloraxis": {
           "colorbar": {
            "outlinewidth": 0,
            "ticks": ""
           }
          },
          "colorscale": {
           "diverging": [
            [
             0,
             "#8e0152"
            ],
            [
             0.1,
             "#c51b7d"
            ],
            [
             0.2,
             "#de77ae"
            ],
            [
             0.3,
             "#f1b6da"
            ],
            [
             0.4,
             "#fde0ef"
            ],
            [
             0.5,
             "#f7f7f7"
            ],
            [
             0.6,
             "#e6f5d0"
            ],
            [
             0.7,
             "#b8e186"
            ],
            [
             0.8,
             "#7fbc41"
            ],
            [
             0.9,
             "#4d9221"
            ],
            [
             1,
             "#276419"
            ]
           ],
           "sequential": [
            [
             0,
             "#0d0887"
            ],
            [
             0.1111111111111111,
             "#46039f"
            ],
            [
             0.2222222222222222,
             "#7201a8"
            ],
            [
             0.3333333333333333,
             "#9c179e"
            ],
            [
             0.4444444444444444,
             "#bd3786"
            ],
            [
             0.5555555555555556,
             "#d8576b"
            ],
            [
             0.6666666666666666,
             "#ed7953"
            ],
            [
             0.7777777777777778,
             "#fb9f3a"
            ],
            [
             0.8888888888888888,
             "#fdca26"
            ],
            [
             1,
             "#f0f921"
            ]
           ],
           "sequentialminus": [
            [
             0,
             "#0d0887"
            ],
            [
             0.1111111111111111,
             "#46039f"
            ],
            [
             0.2222222222222222,
             "#7201a8"
            ],
            [
             0.3333333333333333,
             "#9c179e"
            ],
            [
             0.4444444444444444,
             "#bd3786"
            ],
            [
             0.5555555555555556,
             "#d8576b"
            ],
            [
             0.6666666666666666,
             "#ed7953"
            ],
            [
             0.7777777777777778,
             "#fb9f3a"
            ],
            [
             0.8888888888888888,
             "#fdca26"
            ],
            [
             1,
             "#f0f921"
            ]
           ]
          },
          "colorway": [
           "#636efa",
           "#EF553B",
           "#00cc96",
           "#ab63fa",
           "#FFA15A",
           "#19d3f3",
           "#FF6692",
           "#B6E880",
           "#FF97FF",
           "#FECB52"
          ],
          "font": {
           "color": "#2a3f5f"
          },
          "geo": {
           "bgcolor": "white",
           "lakecolor": "white",
           "landcolor": "#E5ECF6",
           "showlakes": true,
           "showland": true,
           "subunitcolor": "white"
          },
          "hoverlabel": {
           "align": "left"
          },
          "hovermode": "closest",
          "mapbox": {
           "style": "light"
          },
          "paper_bgcolor": "white",
          "plot_bgcolor": "#E5ECF6",
          "polar": {
           "angularaxis": {
            "gridcolor": "white",
            "linecolor": "white",
            "ticks": ""
           },
           "bgcolor": "#E5ECF6",
           "radialaxis": {
            "gridcolor": "white",
            "linecolor": "white",
            "ticks": ""
           }
          },
          "scene": {
           "xaxis": {
            "backgroundcolor": "#E5ECF6",
            "gridcolor": "white",
            "gridwidth": 2,
            "linecolor": "white",
            "showbackground": true,
            "ticks": "",
            "zerolinecolor": "white"
           },
           "yaxis": {
            "backgroundcolor": "#E5ECF6",
            "gridcolor": "white",
            "gridwidth": 2,
            "linecolor": "white",
            "showbackground": true,
            "ticks": "",
            "zerolinecolor": "white"
           },
           "zaxis": {
            "backgroundcolor": "#E5ECF6",
            "gridcolor": "white",
            "gridwidth": 2,
            "linecolor": "white",
            "showbackground": true,
            "ticks": "",
            "zerolinecolor": "white"
           }
          },
          "shapedefaults": {
           "line": {
            "color": "#2a3f5f"
           }
          },
          "ternary": {
           "aaxis": {
            "gridcolor": "white",
            "linecolor": "white",
            "ticks": ""
           },
           "baxis": {
            "gridcolor": "white",
            "linecolor": "white",
            "ticks": ""
           },
           "bgcolor": "#E5ECF6",
           "caxis": {
            "gridcolor": "white",
            "linecolor": "white",
            "ticks": ""
           }
          },
          "title": {
           "x": 0.05
          },
          "xaxis": {
           "automargin": true,
           "gridcolor": "white",
           "linecolor": "white",
           "ticks": "",
           "title": {
            "standoff": 15
           },
           "zerolinecolor": "white",
           "zerolinewidth": 2
          },
          "yaxis": {
           "automargin": true,
           "gridcolor": "white",
           "linecolor": "white",
           "ticks": "",
           "title": {
            "standoff": 15
           },
           "zerolinecolor": "white",
           "zerolinewidth": 2
          }
         }
        },
        "title": {
         "text": "Attack Contexts by Actor Group",
         "x": 0.5
        },
        "xaxis": {
         "anchor": "y",
         "domain": [
          0,
          1
         ],
         "tickfont": {
          "family": "Courier New, monospace",
          "size": 12
         },
         "title": {
          "text": "Attack context"
         }
        },
        "yaxis": {
         "anchor": "x",
         "domain": [
          0,
          1
         ],
         "showgrid": false,
         "tickfont": {
          "family": "Courier New, monospace",
          "size": 12
         },
         "ticks": "outside",
         "title": {
          "text": "Number of Incidents"
         }
        }
       }
      }
     },
     "metadata": {},
     "output_type": "display_data"
    }
   ],
   "source": [
    "import plotly.express as px\n",
    "\n",
    "fig = px.bar(\n",
    "    grouped_context,\n",
    "    x='Attack context',\n",
    "    y='Count',\n",
    "    color='ActorGroup',\n",
    "    title='Attack Contexts by Actor Group',\n",
    "    labels={'Count': 'Number of Incidents'},\n",
    "    color_discrete_sequence=px.colors.sequential.Reds_r,\n",
    "    text_auto=True  # Optional: auto display values in the segments\n",
    ")\n",
    "\n",
    "fig.update_layout(\n",
    "    barmode='stack',  # ← Stacked bars\n",
    "    title_x=0.5,\n",
    "    plot_bgcolor='white',\n",
    "    paper_bgcolor='white',\n",
    "    font=dict(\n",
    "        family='Courier New, monospace',\n",
    "        size=14,\n",
    "        color='black'\n",
    "    ),\n",
    "    margin=dict(t=60, l=40, r=40, b=40)\n",
    ")\n",
    "\n",
    "# Optional: remove y-axis grid/ticks\n",
    "fig.update_yaxes(\n",
    "    showgrid=False,\n",
    "    ticks='outside',\n",
    "    tickfont=dict(family='Courier New, monospace', size=12)\n",
    ")\n",
    "\n",
    "# Optional: adjust x-axis label font\n",
    "fig.update_xaxes(\n",
    "    tickfont=dict(family='Courier New, monospace', size=12)\n",
    ")\n",
    "\n",
    "# Save and show\n",
    "\n",
    "fig.show()\n"
   ]
  },
  {
   "cell_type": "markdown",
   "metadata": {},
   "source": [
    "# Most affected by country"
   ]
  },
  {
   "cell_type": "code",
   "execution_count": 33,
   "metadata": {},
   "outputs": [
    {
     "data": {
      "text/html": [
       "<div>\n",
       "<style scoped>\n",
       "    .dataframe tbody tr th:only-of-type {\n",
       "        vertical-align: middle;\n",
       "    }\n",
       "\n",
       "    .dataframe tbody tr th {\n",
       "        vertical-align: top;\n",
       "    }\n",
       "\n",
       "    .dataframe thead th {\n",
       "        text-align: right;\n",
       "    }\n",
       "</style>\n",
       "<table border=\"1\" class=\"dataframe\">\n",
       "  <thead>\n",
       "    <tr style=\"text-align: right;\">\n",
       "      <th></th>\n",
       "      <th>Country</th>\n",
       "      <th>Total affected</th>\n",
       "    </tr>\n",
       "  </thead>\n",
       "  <tbody>\n",
       "    <tr>\n",
       "      <th>0</th>\n",
       "      <td>Afghanistan</td>\n",
       "      <td>1353</td>\n",
       "    </tr>\n",
       "    <tr>\n",
       "      <th>76</th>\n",
       "      <td>South Sudan</td>\n",
       "      <td>890</td>\n",
       "    </tr>\n",
       "    <tr>\n",
       "      <th>78</th>\n",
       "      <td>Sudan</td>\n",
       "      <td>667</td>\n",
       "    </tr>\n",
       "    <tr>\n",
       "      <th>80</th>\n",
       "      <td>Syrian Arab Republic</td>\n",
       "      <td>608</td>\n",
       "    </tr>\n",
       "    <tr>\n",
       "      <th>74</th>\n",
       "      <td>Somalia</td>\n",
       "      <td>585</td>\n",
       "    </tr>\n",
       "    <tr>\n",
       "      <th>64</th>\n",
       "      <td>Occupied Palestinian Territories</td>\n",
       "      <td>578</td>\n",
       "    </tr>\n",
       "    <tr>\n",
       "      <th>21</th>\n",
       "      <td>DR Congo</td>\n",
       "      <td>448</td>\n",
       "    </tr>\n",
       "  </tbody>\n",
       "</table>\n",
       "</div>"
      ],
      "text/plain": [
       "                             Country  Total affected\n",
       "0                        Afghanistan            1353\n",
       "76                       South Sudan             890\n",
       "78                             Sudan             667\n",
       "80              Syrian Arab Republic             608\n",
       "74                           Somalia             585\n",
       "64  Occupied Palestinian Territories             578\n",
       "21                          DR Congo             448"
      ]
     },
     "execution_count": 33,
     "metadata": {},
     "output_type": "execute_result"
    }
   ],
   "source": [
    "top_countries = (\n",
    "    df.groupby('Country', as_index=False)['Total affected']\n",
    "    .sum()\n",
    "    .sort_values(by='Total affected', ascending=False)\n",
    "    .head(7)\n",
    ")\n",
    "top_countries"
   ]
  },
  {
   "cell_type": "code",
   "execution_count": 36,
   "metadata": {},
   "outputs": [
    {
     "data": {
      "application/vnd.plotly.v1+json": {
       "config": {
        "plotlyServerURL": "https://plot.ly"
       },
       "data": [
        {
         "hovertemplate": "Country=%{y}<br>Total affected=%{text}<extra></extra>",
         "legendgroup": "Afghanistan",
         "marker": {
          "color": "rgb(103,0,13)",
          "pattern": {
           "shape": ""
          }
         },
         "name": "Afghanistan",
         "orientation": "h",
         "showlegend": true,
         "text": {
          "bdata": "AAAAAAAklUA=",
          "dtype": "f8"
         },
         "textposition": "auto",
         "type": "bar",
         "x": {
          "bdata": "SQU=",
          "dtype": "i2"
         },
         "xaxis": "x",
         "y": [
          "Afghanistan"
         ],
         "yaxis": "y"
        },
        {
         "hovertemplate": "Country=%{y}<br>Total affected=%{text}<extra></extra>",
         "legendgroup": "South Sudan",
         "marker": {
          "color": "rgb(165,15,21)",
          "pattern": {
           "shape": ""
          }
         },
         "name": "South Sudan",
         "orientation": "h",
         "showlegend": true,
         "text": {
          "bdata": "AAAAAADQi0A=",
          "dtype": "f8"
         },
         "textposition": "auto",
         "type": "bar",
         "x": {
          "bdata": "egM=",
          "dtype": "i2"
         },
         "xaxis": "x",
         "y": [
          "South Sudan"
         ],
         "yaxis": "y"
        },
        {
         "hovertemplate": "Country=%{y}<br>Total affected=%{text}<extra></extra>",
         "legendgroup": "Sudan",
         "marker": {
          "color": "rgb(203,24,29)",
          "pattern": {
           "shape": ""
          }
         },
         "name": "Sudan",
         "orientation": "h",
         "showlegend": true,
         "text": {
          "bdata": "AAAAAADYhEA=",
          "dtype": "f8"
         },
         "textposition": "auto",
         "type": "bar",
         "x": {
          "bdata": "mwI=",
          "dtype": "i2"
         },
         "xaxis": "x",
         "y": [
          "Sudan"
         ],
         "yaxis": "y"
        },
        {
         "hovertemplate": "Country=%{y}<br>Total affected=%{text}<extra></extra>",
         "legendgroup": "Syrian Arab Republic",
         "marker": {
          "color": "rgb(239,59,44)",
          "pattern": {
           "shape": ""
          }
         },
         "name": "Syrian Arab Republic",
         "orientation": "h",
         "showlegend": true,
         "text": {
          "bdata": "AAAAAAAAg0A=",
          "dtype": "f8"
         },
         "textposition": "auto",
         "type": "bar",
         "x": {
          "bdata": "YAI=",
          "dtype": "i2"
         },
         "xaxis": "x",
         "y": [
          "Syrian Arab Republic"
         ],
         "yaxis": "y"
        },
        {
         "hovertemplate": "Country=%{y}<br>Total affected=%{text}<extra></extra>",
         "legendgroup": "Somalia",
         "marker": {
          "color": "rgb(251,106,74)",
          "pattern": {
           "shape": ""
          }
         },
         "name": "Somalia",
         "orientation": "h",
         "showlegend": true,
         "text": {
          "bdata": "AAAAAABIgkA=",
          "dtype": "f8"
         },
         "textposition": "auto",
         "type": "bar",
         "x": {
          "bdata": "SQI=",
          "dtype": "i2"
         },
         "xaxis": "x",
         "y": [
          "Somalia"
         ],
         "yaxis": "y"
        },
        {
         "hovertemplate": "Country=%{y}<br>Total affected=%{text}<extra></extra>",
         "legendgroup": "Occupied Palestinian Territories",
         "marker": {
          "color": "rgb(252,146,114)",
          "pattern": {
           "shape": ""
          }
         },
         "name": "Occupied Palestinian Territories",
         "orientation": "h",
         "showlegend": true,
         "text": {
          "bdata": "AAAAAAAQgkA=",
          "dtype": "f8"
         },
         "textposition": "auto",
         "type": "bar",
         "x": {
          "bdata": "QgI=",
          "dtype": "i2"
         },
         "xaxis": "x",
         "y": [
          "Occupied Palestinian Territories"
         ],
         "yaxis": "y"
        },
        {
         "hovertemplate": "Country=%{y}<br>Total affected=%{text}<extra></extra>",
         "legendgroup": "DR Congo",
         "marker": {
          "color": "rgb(252,187,161)",
          "pattern": {
           "shape": ""
          }
         },
         "name": "DR Congo",
         "orientation": "h",
         "showlegend": true,
         "text": {
          "bdata": "AAAAAAAAfEA=",
          "dtype": "f8"
         },
         "textposition": "auto",
         "type": "bar",
         "x": {
          "bdata": "wAE=",
          "dtype": "i2"
         },
         "xaxis": "x",
         "y": [
          "DR Congo"
         ],
         "yaxis": "y"
        }
       ],
       "layout": {
        "barmode": "relative",
        "font": {
         "color": "black",
         "family": "Courier New, monospace",
         "size": 14
        },
        "legend": {
         "title": {
          "text": "Country"
         },
         "tracegroupgap": 0
        },
        "margin": {
         "t": 60
        },
        "paper_bgcolor": "white",
        "plot_bgcolor": "white",
        "showlegend": false,
        "template": {
         "data": {
          "bar": [
           {
            "error_x": {
             "color": "#2a3f5f"
            },
            "error_y": {
             "color": "#2a3f5f"
            },
            "marker": {
             "line": {
              "color": "#E5ECF6",
              "width": 0.5
             },
             "pattern": {
              "fillmode": "overlay",
              "size": 10,
              "solidity": 0.2
             }
            },
            "type": "bar"
           }
          ],
          "barpolar": [
           {
            "marker": {
             "line": {
              "color": "#E5ECF6",
              "width": 0.5
             },
             "pattern": {
              "fillmode": "overlay",
              "size": 10,
              "solidity": 0.2
             }
            },
            "type": "barpolar"
           }
          ],
          "carpet": [
           {
            "aaxis": {
             "endlinecolor": "#2a3f5f",
             "gridcolor": "white",
             "linecolor": "white",
             "minorgridcolor": "white",
             "startlinecolor": "#2a3f5f"
            },
            "baxis": {
             "endlinecolor": "#2a3f5f",
             "gridcolor": "white",
             "linecolor": "white",
             "minorgridcolor": "white",
             "startlinecolor": "#2a3f5f"
            },
            "type": "carpet"
           }
          ],
          "choropleth": [
           {
            "colorbar": {
             "outlinewidth": 0,
             "ticks": ""
            },
            "type": "choropleth"
           }
          ],
          "contour": [
           {
            "colorbar": {
             "outlinewidth": 0,
             "ticks": ""
            },
            "colorscale": [
             [
              0,
              "#0d0887"
             ],
             [
              0.1111111111111111,
              "#46039f"
             ],
             [
              0.2222222222222222,
              "#7201a8"
             ],
             [
              0.3333333333333333,
              "#9c179e"
             ],
             [
              0.4444444444444444,
              "#bd3786"
             ],
             [
              0.5555555555555556,
              "#d8576b"
             ],
             [
              0.6666666666666666,
              "#ed7953"
             ],
             [
              0.7777777777777778,
              "#fb9f3a"
             ],
             [
              0.8888888888888888,
              "#fdca26"
             ],
             [
              1,
              "#f0f921"
             ]
            ],
            "type": "contour"
           }
          ],
          "contourcarpet": [
           {
            "colorbar": {
             "outlinewidth": 0,
             "ticks": ""
            },
            "type": "contourcarpet"
           }
          ],
          "heatmap": [
           {
            "colorbar": {
             "outlinewidth": 0,
             "ticks": ""
            },
            "colorscale": [
             [
              0,
              "#0d0887"
             ],
             [
              0.1111111111111111,
              "#46039f"
             ],
             [
              0.2222222222222222,
              "#7201a8"
             ],
             [
              0.3333333333333333,
              "#9c179e"
             ],
             [
              0.4444444444444444,
              "#bd3786"
             ],
             [
              0.5555555555555556,
              "#d8576b"
             ],
             [
              0.6666666666666666,
              "#ed7953"
             ],
             [
              0.7777777777777778,
              "#fb9f3a"
             ],
             [
              0.8888888888888888,
              "#fdca26"
             ],
             [
              1,
              "#f0f921"
             ]
            ],
            "type": "heatmap"
           }
          ],
          "histogram": [
           {
            "marker": {
             "pattern": {
              "fillmode": "overlay",
              "size": 10,
              "solidity": 0.2
             }
            },
            "type": "histogram"
           }
          ],
          "histogram2d": [
           {
            "colorbar": {
             "outlinewidth": 0,
             "ticks": ""
            },
            "colorscale": [
             [
              0,
              "#0d0887"
             ],
             [
              0.1111111111111111,
              "#46039f"
             ],
             [
              0.2222222222222222,
              "#7201a8"
             ],
             [
              0.3333333333333333,
              "#9c179e"
             ],
             [
              0.4444444444444444,
              "#bd3786"
             ],
             [
              0.5555555555555556,
              "#d8576b"
             ],
             [
              0.6666666666666666,
              "#ed7953"
             ],
             [
              0.7777777777777778,
              "#fb9f3a"
             ],
             [
              0.8888888888888888,
              "#fdca26"
             ],
             [
              1,
              "#f0f921"
             ]
            ],
            "type": "histogram2d"
           }
          ],
          "histogram2dcontour": [
           {
            "colorbar": {
             "outlinewidth": 0,
             "ticks": ""
            },
            "colorscale": [
             [
              0,
              "#0d0887"
             ],
             [
              0.1111111111111111,
              "#46039f"
             ],
             [
              0.2222222222222222,
              "#7201a8"
             ],
             [
              0.3333333333333333,
              "#9c179e"
             ],
             [
              0.4444444444444444,
              "#bd3786"
             ],
             [
              0.5555555555555556,
              "#d8576b"
             ],
             [
              0.6666666666666666,
              "#ed7953"
             ],
             [
              0.7777777777777778,
              "#fb9f3a"
             ],
             [
              0.8888888888888888,
              "#fdca26"
             ],
             [
              1,
              "#f0f921"
             ]
            ],
            "type": "histogram2dcontour"
           }
          ],
          "mesh3d": [
           {
            "colorbar": {
             "outlinewidth": 0,
             "ticks": ""
            },
            "type": "mesh3d"
           }
          ],
          "parcoords": [
           {
            "line": {
             "colorbar": {
              "outlinewidth": 0,
              "ticks": ""
             }
            },
            "type": "parcoords"
           }
          ],
          "pie": [
           {
            "automargin": true,
            "type": "pie"
           }
          ],
          "scatter": [
           {
            "fillpattern": {
             "fillmode": "overlay",
             "size": 10,
             "solidity": 0.2
            },
            "type": "scatter"
           }
          ],
          "scatter3d": [
           {
            "line": {
             "colorbar": {
              "outlinewidth": 0,
              "ticks": ""
             }
            },
            "marker": {
             "colorbar": {
              "outlinewidth": 0,
              "ticks": ""
             }
            },
            "type": "scatter3d"
           }
          ],
          "scattercarpet": [
           {
            "marker": {
             "colorbar": {
              "outlinewidth": 0,
              "ticks": ""
             }
            },
            "type": "scattercarpet"
           }
          ],
          "scattergeo": [
           {
            "marker": {
             "colorbar": {
              "outlinewidth": 0,
              "ticks": ""
             }
            },
            "type": "scattergeo"
           }
          ],
          "scattergl": [
           {
            "marker": {
             "colorbar": {
              "outlinewidth": 0,
              "ticks": ""
             }
            },
            "type": "scattergl"
           }
          ],
          "scattermap": [
           {
            "marker": {
             "colorbar": {
              "outlinewidth": 0,
              "ticks": ""
             }
            },
            "type": "scattermap"
           }
          ],
          "scattermapbox": [
           {
            "marker": {
             "colorbar": {
              "outlinewidth": 0,
              "ticks": ""
             }
            },
            "type": "scattermapbox"
           }
          ],
          "scatterpolar": [
           {
            "marker": {
             "colorbar": {
              "outlinewidth": 0,
              "ticks": ""
             }
            },
            "type": "scatterpolar"
           }
          ],
          "scatterpolargl": [
           {
            "marker": {
             "colorbar": {
              "outlinewidth": 0,
              "ticks": ""
             }
            },
            "type": "scatterpolargl"
           }
          ],
          "scatterternary": [
           {
            "marker": {
             "colorbar": {
              "outlinewidth": 0,
              "ticks": ""
             }
            },
            "type": "scatterternary"
           }
          ],
          "surface": [
           {
            "colorbar": {
             "outlinewidth": 0,
             "ticks": ""
            },
            "colorscale": [
             [
              0,
              "#0d0887"
             ],
             [
              0.1111111111111111,
              "#46039f"
             ],
             [
              0.2222222222222222,
              "#7201a8"
             ],
             [
              0.3333333333333333,
              "#9c179e"
             ],
             [
              0.4444444444444444,
              "#bd3786"
             ],
             [
              0.5555555555555556,
              "#d8576b"
             ],
             [
              0.6666666666666666,
              "#ed7953"
             ],
             [
              0.7777777777777778,
              "#fb9f3a"
             ],
             [
              0.8888888888888888,
              "#fdca26"
             ],
             [
              1,
              "#f0f921"
             ]
            ],
            "type": "surface"
           }
          ],
          "table": [
           {
            "cells": {
             "fill": {
              "color": "#EBF0F8"
             },
             "line": {
              "color": "white"
             }
            },
            "header": {
             "fill": {
              "color": "#C8D4E3"
             },
             "line": {
              "color": "white"
             }
            },
            "type": "table"
           }
          ]
         },
         "layout": {
          "annotationdefaults": {
           "arrowcolor": "#2a3f5f",
           "arrowhead": 0,
           "arrowwidth": 1
          },
          "autotypenumbers": "strict",
          "coloraxis": {
           "colorbar": {
            "outlinewidth": 0,
            "ticks": ""
           }
          },
          "colorscale": {
           "diverging": [
            [
             0,
             "#8e0152"
            ],
            [
             0.1,
             "#c51b7d"
            ],
            [
             0.2,
             "#de77ae"
            ],
            [
             0.3,
             "#f1b6da"
            ],
            [
             0.4,
             "#fde0ef"
            ],
            [
             0.5,
             "#f7f7f7"
            ],
            [
             0.6,
             "#e6f5d0"
            ],
            [
             0.7,
             "#b8e186"
            ],
            [
             0.8,
             "#7fbc41"
            ],
            [
             0.9,
             "#4d9221"
            ],
            [
             1,
             "#276419"
            ]
           ],
           "sequential": [
            [
             0,
             "#0d0887"
            ],
            [
             0.1111111111111111,
             "#46039f"
            ],
            [
             0.2222222222222222,
             "#7201a8"
            ],
            [
             0.3333333333333333,
             "#9c179e"
            ],
            [
             0.4444444444444444,
             "#bd3786"
            ],
            [
             0.5555555555555556,
             "#d8576b"
            ],
            [
             0.6666666666666666,
             "#ed7953"
            ],
            [
             0.7777777777777778,
             "#fb9f3a"
            ],
            [
             0.8888888888888888,
             "#fdca26"
            ],
            [
             1,
             "#f0f921"
            ]
           ],
           "sequentialminus": [
            [
             0,
             "#0d0887"
            ],
            [
             0.1111111111111111,
             "#46039f"
            ],
            [
             0.2222222222222222,
             "#7201a8"
            ],
            [
             0.3333333333333333,
             "#9c179e"
            ],
            [
             0.4444444444444444,
             "#bd3786"
            ],
            [
             0.5555555555555556,
             "#d8576b"
            ],
            [
             0.6666666666666666,
             "#ed7953"
            ],
            [
             0.7777777777777778,
             "#fb9f3a"
            ],
            [
             0.8888888888888888,
             "#fdca26"
            ],
            [
             1,
             "#f0f921"
            ]
           ]
          },
          "colorway": [
           "#636efa",
           "#EF553B",
           "#00cc96",
           "#ab63fa",
           "#FFA15A",
           "#19d3f3",
           "#FF6692",
           "#B6E880",
           "#FF97FF",
           "#FECB52"
          ],
          "font": {
           "color": "#2a3f5f"
          },
          "geo": {
           "bgcolor": "white",
           "lakecolor": "white",
           "landcolor": "#E5ECF6",
           "showlakes": true,
           "showland": true,
           "subunitcolor": "white"
          },
          "hoverlabel": {
           "align": "left"
          },
          "hovermode": "closest",
          "mapbox": {
           "style": "light"
          },
          "paper_bgcolor": "white",
          "plot_bgcolor": "#E5ECF6",
          "polar": {
           "angularaxis": {
            "gridcolor": "white",
            "linecolor": "white",
            "ticks": ""
           },
           "bgcolor": "#E5ECF6",
           "radialaxis": {
            "gridcolor": "white",
            "linecolor": "white",
            "ticks": ""
           }
          },
          "scene": {
           "xaxis": {
            "backgroundcolor": "#E5ECF6",
            "gridcolor": "white",
            "gridwidth": 2,
            "linecolor": "white",
            "showbackground": true,
            "ticks": "",
            "zerolinecolor": "white"
           },
           "yaxis": {
            "backgroundcolor": "#E5ECF6",
            "gridcolor": "white",
            "gridwidth": 2,
            "linecolor": "white",
            "showbackground": true,
            "ticks": "",
            "zerolinecolor": "white"
           },
           "zaxis": {
            "backgroundcolor": "#E5ECF6",
            "gridcolor": "white",
            "gridwidth": 2,
            "linecolor": "white",
            "showbackground": true,
            "ticks": "",
            "zerolinecolor": "white"
           }
          },
          "shapedefaults": {
           "line": {
            "color": "#2a3f5f"
           }
          },
          "ternary": {
           "aaxis": {
            "gridcolor": "white",
            "linecolor": "white",
            "ticks": ""
           },
           "baxis": {
            "gridcolor": "white",
            "linecolor": "white",
            "ticks": ""
           },
           "bgcolor": "#E5ECF6",
           "caxis": {
            "gridcolor": "white",
            "linecolor": "white",
            "ticks": ""
           }
          },
          "title": {
           "x": 0.05
          },
          "xaxis": {
           "automargin": true,
           "gridcolor": "white",
           "linecolor": "white",
           "ticks": "",
           "title": {
            "standoff": 15
           },
           "zerolinecolor": "white",
           "zerolinewidth": 2
          },
          "yaxis": {
           "automargin": true,
           "gridcolor": "white",
           "linecolor": "white",
           "ticks": "",
           "title": {
            "standoff": 15
           },
           "zerolinecolor": "white",
           "zerolinewidth": 2
          }
         }
        },
        "title": {
         "x": 0.5
        },
        "xaxis": {
         "anchor": "y",
         "domain": [
          0,
          1
         ],
         "showgrid": false,
         "showticklabels": false,
         "title": {
          "text": "Total affected"
         }
        },
        "yaxis": {
         "anchor": "x",
         "categoryarray": [
          "DR Congo",
          "Occupied Palestinian Territories",
          "Somalia",
          "Syrian Arab Republic",
          "Sudan",
          "South Sudan",
          "Afghanistan"
         ],
         "categoryorder": "total ascending",
         "domain": [
          0,
          1
         ],
         "title": {
          "text": "Country"
         }
        }
       }
      }
     },
     "metadata": {},
     "output_type": "display_data"
    }
   ],
   "source": [
    "import plotly.express as px\n",
    "\n",
    "fig = px.bar(\n",
    "    top_countries,\n",
    "    x='Total affected',\n",
    "    y='Country',\n",
    "    orientation='h',\n",
    "    text='Total affected',\n",
    "    color='Country',\n",
    "    color_discrete_sequence=px.colors.sequential.Reds_r\n",
    ")\n",
    "\n",
    "fig.update_layout(\n",
    "    title_x=0.5,\n",
    "    yaxis=dict(categoryorder='total ascending'),\n",
    "    plot_bgcolor='white',\n",
    "    paper_bgcolor='white',\n",
    "    showlegend=False,\n",
    "    font=dict(\n",
    "        family='Courier New, monospace',\n",
    "        size=14,\n",
    "        color='black'\n",
    "    ),\n",
    "    xaxis=dict(\n",
    "        showticklabels=False,  \n",
    "        showgrid=False        \n",
    "    )\n",
    ")\n",
    "\n",
    "\n",
    "fig.show()\n"
   ]
  },
  {
   "cell_type": "code",
   "execution_count": 145,
   "metadata": {},
   "outputs": [],
   "source": [
    "top7 = (\n",
    "    df.groupby('Country', as_index=False)['Total affected']\n",
    "    .sum()\n",
    "    .sort_values(by='Total affected', ascending=False)\n",
    "    .head(7)['Country']\n",
    "    .tolist()\n",
    ")\n"
   ]
  },
  {
   "cell_type": "code",
   "execution_count": 146,
   "metadata": {},
   "outputs": [],
   "source": [
    "# Filter data to top 7 countries\n",
    "subset = df[df['Country'].isin(top7)]\n",
    "\n",
    "# Drop missing actor or context\n",
    "subset = subset.dropna(subset=['ActorGroup', 'Attack context'])\n",
    "\n",
    "# Group data\n",
    "grouped = (\n",
    "    subset.groupby(['Country', 'ActorGroup', 'Attack context'])\n",
    "    .size()\n",
    "    .reset_index(name='Count')\n",
    ")\n"
   ]
  },
  {
   "cell_type": "code",
   "execution_count": 148,
   "metadata": {},
   "outputs": [
    {
     "data": {
      "application/vnd.plotly.v1+json": {
       "config": {
        "plotlyServerURL": "https://plot.ly"
       },
       "data": [
        {
         "alignmentgroup": "True",
         "hovertemplate": "Attack context=Ambush<br>Actor Group=%{x}<br>Number of Incidents=%{y}<extra></extra>",
         "legendgroup": "Ambush",
         "marker": {
          "color": "rgb(103,0,13)",
          "pattern": {
           "shape": ""
          }
         },
         "name": "Ambush",
         "offsetgroup": "Ambush",
         "orientation": "v",
         "showlegend": true,
         "textposition": "auto",
         "type": "bar",
         "x": [
          "Criminal",
          "Individual",
          "Non-state Armed Group",
          "State Actor",
          "Unknown"
         ],
         "xaxis": "x",
         "y": {
          "bdata": "AQF4Ang=",
          "dtype": "i1"
         },
         "yaxis": "y"
        },
        {
         "alignmentgroup": "True",
         "hovertemplate": "Attack context=Individual attack<br>Actor Group=%{x}<br>Number of Incidents=%{y}<extra></extra>",
         "legendgroup": "Individual attack",
         "marker": {
          "color": "rgb(165,15,21)",
          "pattern": {
           "shape": ""
          }
         },
         "name": "Individual attack",
         "offsetgroup": "Individual attack",
         "orientation": "v",
         "showlegend": true,
         "textposition": "auto",
         "type": "bar",
         "x": [
          "Criminal",
          "Individual",
          "Non-state Armed Group",
          "State Actor",
          "Unknown"
         ],
         "xaxis": "x",
         "y": {
          "bdata": "ARgeAzc=",
          "dtype": "i1"
         },
         "yaxis": "y"
        },
        {
         "alignmentgroup": "True",
         "hovertemplate": "Attack context=Raid<br>Actor Group=%{x}<br>Number of Incidents=%{y}<extra></extra>",
         "legendgroup": "Raid",
         "marker": {
          "color": "rgb(203,24,29)",
          "pattern": {
           "shape": ""
          }
         },
         "name": "Raid",
         "offsetgroup": "Raid",
         "orientation": "v",
         "showlegend": true,
         "textposition": "auto",
         "type": "bar",
         "x": [
          "Criminal",
          "Non-state Armed Group",
          "State Actor",
          "Unknown"
         ],
         "xaxis": "x",
         "y": {
          "bdata": "ASUCIA==",
          "dtype": "i1"
         },
         "yaxis": "y"
        },
        {
         "alignmentgroup": "True",
         "hovertemplate": "Attack context=Unknown<br>Actor Group=%{x}<br>Number of Incidents=%{y}<extra></extra>",
         "legendgroup": "Unknown",
         "marker": {
          "color": "rgb(239,59,44)",
          "pattern": {
           "shape": ""
          }
         },
         "name": "Unknown",
         "offsetgroup": "Unknown",
         "orientation": "v",
         "showlegend": true,
         "textposition": "auto",
         "type": "bar",
         "x": [
          "Criminal",
          "Non-state Armed Group",
          "State Actor",
          "Unknown"
         ],
         "xaxis": "x",
         "y": {
          "bdata": "AS4DSQ==",
          "dtype": "i1"
         },
         "yaxis": "y"
        },
        {
         "alignmentgroup": "True",
         "hovertemplate": "Attack context=Mob violence<br>Actor Group=%{x}<br>Number of Incidents=%{y}<extra></extra>",
         "legendgroup": "Mob violence",
         "marker": {
          "color": "rgb(251,106,74)",
          "pattern": {
           "shape": ""
          }
         },
         "name": "Mob violence",
         "offsetgroup": "Mob violence",
         "orientation": "v",
         "showlegend": true,
         "textposition": "auto",
         "type": "bar",
         "x": [
          "Individual"
         ],
         "xaxis": "x",
         "y": {
          "bdata": "BA==",
          "dtype": "i1"
         },
         "yaxis": "y"
        },
        {
         "alignmentgroup": "True",
         "hovertemplate": "Attack context=Combat/Crossfire<br>Actor Group=%{x}<br>Number of Incidents=%{y}<extra></extra>",
         "legendgroup": "Combat/Crossfire",
         "marker": {
          "color": "rgb(252,146,114)",
          "pattern": {
           "shape": ""
          }
         },
         "name": "Combat/Crossfire",
         "offsetgroup": "Combat/Crossfire",
         "orientation": "v",
         "showlegend": true,
         "textposition": "auto",
         "type": "bar",
         "x": [
          "Non-state Armed Group",
          "State Actor",
          "Unknown"
         ],
         "xaxis": "x",
         "y": {
          "bdata": "HQwL",
          "dtype": "i1"
         },
         "yaxis": "y"
        },
        {
         "alignmentgroup": "True",
         "hovertemplate": "Attack context=Detention<br>Actor Group=%{x}<br>Number of Incidents=%{y}<extra></extra>",
         "legendgroup": "Detention",
         "marker": {
          "color": "rgb(252,187,161)",
          "pattern": {
           "shape": ""
          }
         },
         "name": "Detention",
         "offsetgroup": "Detention",
         "orientation": "v",
         "showlegend": true,
         "textposition": "auto",
         "type": "bar",
         "x": [
          "State Actor"
         ],
         "xaxis": "x",
         "y": {
          "bdata": "AQ==",
          "dtype": "i1"
         },
         "yaxis": "y"
        }
       ],
       "layout": {
        "barmode": "group",
        "legend": {
         "title": {
          "text": "Attack context"
         },
         "tracegroupgap": 0
        },
        "margin": {
         "b": 40,
         "l": 40,
         "r": 40,
         "t": 60
        },
        "paper_bgcolor": "white",
        "plot_bgcolor": "white",
        "template": {
         "data": {
          "bar": [
           {
            "error_x": {
             "color": "#2a3f5f"
            },
            "error_y": {
             "color": "#2a3f5f"
            },
            "marker": {
             "line": {
              "color": "#E5ECF6",
              "width": 0.5
             },
             "pattern": {
              "fillmode": "overlay",
              "size": 10,
              "solidity": 0.2
             }
            },
            "type": "bar"
           }
          ],
          "barpolar": [
           {
            "marker": {
             "line": {
              "color": "#E5ECF6",
              "width": 0.5
             },
             "pattern": {
              "fillmode": "overlay",
              "size": 10,
              "solidity": 0.2
             }
            },
            "type": "barpolar"
           }
          ],
          "carpet": [
           {
            "aaxis": {
             "endlinecolor": "#2a3f5f",
             "gridcolor": "white",
             "linecolor": "white",
             "minorgridcolor": "white",
             "startlinecolor": "#2a3f5f"
            },
            "baxis": {
             "endlinecolor": "#2a3f5f",
             "gridcolor": "white",
             "linecolor": "white",
             "minorgridcolor": "white",
             "startlinecolor": "#2a3f5f"
            },
            "type": "carpet"
           }
          ],
          "choropleth": [
           {
            "colorbar": {
             "outlinewidth": 0,
             "ticks": ""
            },
            "type": "choropleth"
           }
          ],
          "contour": [
           {
            "colorbar": {
             "outlinewidth": 0,
             "ticks": ""
            },
            "colorscale": [
             [
              0,
              "#0d0887"
             ],
             [
              0.1111111111111111,
              "#46039f"
             ],
             [
              0.2222222222222222,
              "#7201a8"
             ],
             [
              0.3333333333333333,
              "#9c179e"
             ],
             [
              0.4444444444444444,
              "#bd3786"
             ],
             [
              0.5555555555555556,
              "#d8576b"
             ],
             [
              0.6666666666666666,
              "#ed7953"
             ],
             [
              0.7777777777777778,
              "#fb9f3a"
             ],
             [
              0.8888888888888888,
              "#fdca26"
             ],
             [
              1,
              "#f0f921"
             ]
            ],
            "type": "contour"
           }
          ],
          "contourcarpet": [
           {
            "colorbar": {
             "outlinewidth": 0,
             "ticks": ""
            },
            "type": "contourcarpet"
           }
          ],
          "heatmap": [
           {
            "colorbar": {
             "outlinewidth": 0,
             "ticks": ""
            },
            "colorscale": [
             [
              0,
              "#0d0887"
             ],
             [
              0.1111111111111111,
              "#46039f"
             ],
             [
              0.2222222222222222,
              "#7201a8"
             ],
             [
              0.3333333333333333,
              "#9c179e"
             ],
             [
              0.4444444444444444,
              "#bd3786"
             ],
             [
              0.5555555555555556,
              "#d8576b"
             ],
             [
              0.6666666666666666,
              "#ed7953"
             ],
             [
              0.7777777777777778,
              "#fb9f3a"
             ],
             [
              0.8888888888888888,
              "#fdca26"
             ],
             [
              1,
              "#f0f921"
             ]
            ],
            "type": "heatmap"
           }
          ],
          "histogram": [
           {
            "marker": {
             "pattern": {
              "fillmode": "overlay",
              "size": 10,
              "solidity": 0.2
             }
            },
            "type": "histogram"
           }
          ],
          "histogram2d": [
           {
            "colorbar": {
             "outlinewidth": 0,
             "ticks": ""
            },
            "colorscale": [
             [
              0,
              "#0d0887"
             ],
             [
              0.1111111111111111,
              "#46039f"
             ],
             [
              0.2222222222222222,
              "#7201a8"
             ],
             [
              0.3333333333333333,
              "#9c179e"
             ],
             [
              0.4444444444444444,
              "#bd3786"
             ],
             [
              0.5555555555555556,
              "#d8576b"
             ],
             [
              0.6666666666666666,
              "#ed7953"
             ],
             [
              0.7777777777777778,
              "#fb9f3a"
             ],
             [
              0.8888888888888888,
              "#fdca26"
             ],
             [
              1,
              "#f0f921"
             ]
            ],
            "type": "histogram2d"
           }
          ],
          "histogram2dcontour": [
           {
            "colorbar": {
             "outlinewidth": 0,
             "ticks": ""
            },
            "colorscale": [
             [
              0,
              "#0d0887"
             ],
             [
              0.1111111111111111,
              "#46039f"
             ],
             [
              0.2222222222222222,
              "#7201a8"
             ],
             [
              0.3333333333333333,
              "#9c179e"
             ],
             [
              0.4444444444444444,
              "#bd3786"
             ],
             [
              0.5555555555555556,
              "#d8576b"
             ],
             [
              0.6666666666666666,
              "#ed7953"
             ],
             [
              0.7777777777777778,
              "#fb9f3a"
             ],
             [
              0.8888888888888888,
              "#fdca26"
             ],
             [
              1,
              "#f0f921"
             ]
            ],
            "type": "histogram2dcontour"
           }
          ],
          "mesh3d": [
           {
            "colorbar": {
             "outlinewidth": 0,
             "ticks": ""
            },
            "type": "mesh3d"
           }
          ],
          "parcoords": [
           {
            "line": {
             "colorbar": {
              "outlinewidth": 0,
              "ticks": ""
             }
            },
            "type": "parcoords"
           }
          ],
          "pie": [
           {
            "automargin": true,
            "type": "pie"
           }
          ],
          "scatter": [
           {
            "fillpattern": {
             "fillmode": "overlay",
             "size": 10,
             "solidity": 0.2
            },
            "type": "scatter"
           }
          ],
          "scatter3d": [
           {
            "line": {
             "colorbar": {
              "outlinewidth": 0,
              "ticks": ""
             }
            },
            "marker": {
             "colorbar": {
              "outlinewidth": 0,
              "ticks": ""
             }
            },
            "type": "scatter3d"
           }
          ],
          "scattercarpet": [
           {
            "marker": {
             "colorbar": {
              "outlinewidth": 0,
              "ticks": ""
             }
            },
            "type": "scattercarpet"
           }
          ],
          "scattergeo": [
           {
            "marker": {
             "colorbar": {
              "outlinewidth": 0,
              "ticks": ""
             }
            },
            "type": "scattergeo"
           }
          ],
          "scattergl": [
           {
            "marker": {
             "colorbar": {
              "outlinewidth": 0,
              "ticks": ""
             }
            },
            "type": "scattergl"
           }
          ],
          "scattermap": [
           {
            "marker": {
             "colorbar": {
              "outlinewidth": 0,
              "ticks": ""
             }
            },
            "type": "scattermap"
           }
          ],
          "scattermapbox": [
           {
            "marker": {
             "colorbar": {
              "outlinewidth": 0,
              "ticks": ""
             }
            },
            "type": "scattermapbox"
           }
          ],
          "scatterpolar": [
           {
            "marker": {
             "colorbar": {
              "outlinewidth": 0,
              "ticks": ""
             }
            },
            "type": "scatterpolar"
           }
          ],
          "scatterpolargl": [
           {
            "marker": {
             "colorbar": {
              "outlinewidth": 0,
              "ticks": ""
             }
            },
            "type": "scatterpolargl"
           }
          ],
          "scatterternary": [
           {
            "marker": {
             "colorbar": {
              "outlinewidth": 0,
              "ticks": ""
             }
            },
            "type": "scatterternary"
           }
          ],
          "surface": [
           {
            "colorbar": {
             "outlinewidth": 0,
             "ticks": ""
            },
            "colorscale": [
             [
              0,
              "#0d0887"
             ],
             [
              0.1111111111111111,
              "#46039f"
             ],
             [
              0.2222222222222222,
              "#7201a8"
             ],
             [
              0.3333333333333333,
              "#9c179e"
             ],
             [
              0.4444444444444444,
              "#bd3786"
             ],
             [
              0.5555555555555556,
              "#d8576b"
             ],
             [
              0.6666666666666666,
              "#ed7953"
             ],
             [
              0.7777777777777778,
              "#fb9f3a"
             ],
             [
              0.8888888888888888,
              "#fdca26"
             ],
             [
              1,
              "#f0f921"
             ]
            ],
            "type": "surface"
           }
          ],
          "table": [
           {
            "cells": {
             "fill": {
              "color": "#EBF0F8"
             },
             "line": {
              "color": "white"
             }
            },
            "header": {
             "fill": {
              "color": "#C8D4E3"
             },
             "line": {
              "color": "white"
             }
            },
            "type": "table"
           }
          ]
         },
         "layout": {
          "annotationdefaults": {
           "arrowcolor": "#2a3f5f",
           "arrowhead": 0,
           "arrowwidth": 1
          },
          "autotypenumbers": "strict",
          "coloraxis": {
           "colorbar": {
            "outlinewidth": 0,
            "ticks": ""
           }
          },
          "colorscale": {
           "diverging": [
            [
             0,
             "#8e0152"
            ],
            [
             0.1,
             "#c51b7d"
            ],
            [
             0.2,
             "#de77ae"
            ],
            [
             0.3,
             "#f1b6da"
            ],
            [
             0.4,
             "#fde0ef"
            ],
            [
             0.5,
             "#f7f7f7"
            ],
            [
             0.6,
             "#e6f5d0"
            ],
            [
             0.7,
             "#b8e186"
            ],
            [
             0.8,
             "#7fbc41"
            ],
            [
             0.9,
             "#4d9221"
            ],
            [
             1,
             "#276419"
            ]
           ],
           "sequential": [
            [
             0,
             "#0d0887"
            ],
            [
             0.1111111111111111,
             "#46039f"
            ],
            [
             0.2222222222222222,
             "#7201a8"
            ],
            [
             0.3333333333333333,
             "#9c179e"
            ],
            [
             0.4444444444444444,
             "#bd3786"
            ],
            [
             0.5555555555555556,
             "#d8576b"
            ],
            [
             0.6666666666666666,
             "#ed7953"
            ],
            [
             0.7777777777777778,
             "#fb9f3a"
            ],
            [
             0.8888888888888888,
             "#fdca26"
            ],
            [
             1,
             "#f0f921"
            ]
           ],
           "sequentialminus": [
            [
             0,
             "#0d0887"
            ],
            [
             0.1111111111111111,
             "#46039f"
            ],
            [
             0.2222222222222222,
             "#7201a8"
            ],
            [
             0.3333333333333333,
             "#9c179e"
            ],
            [
             0.4444444444444444,
             "#bd3786"
            ],
            [
             0.5555555555555556,
             "#d8576b"
            ],
            [
             0.6666666666666666,
             "#ed7953"
            ],
            [
             0.7777777777777778,
             "#fb9f3a"
            ],
            [
             0.8888888888888888,
             "#fdca26"
            ],
            [
             1,
             "#f0f921"
            ]
           ]
          },
          "colorway": [
           "#636efa",
           "#EF553B",
           "#00cc96",
           "#ab63fa",
           "#FFA15A",
           "#19d3f3",
           "#FF6692",
           "#B6E880",
           "#FF97FF",
           "#FECB52"
          ],
          "font": {
           "color": "#2a3f5f"
          },
          "geo": {
           "bgcolor": "white",
           "lakecolor": "white",
           "landcolor": "#E5ECF6",
           "showlakes": true,
           "showland": true,
           "subunitcolor": "white"
          },
          "hoverlabel": {
           "align": "left"
          },
          "hovermode": "closest",
          "mapbox": {
           "style": "light"
          },
          "paper_bgcolor": "white",
          "plot_bgcolor": "#E5ECF6",
          "polar": {
           "angularaxis": {
            "gridcolor": "white",
            "linecolor": "white",
            "ticks": ""
           },
           "bgcolor": "#E5ECF6",
           "radialaxis": {
            "gridcolor": "white",
            "linecolor": "white",
            "ticks": ""
           }
          },
          "scene": {
           "xaxis": {
            "backgroundcolor": "#E5ECF6",
            "gridcolor": "white",
            "gridwidth": 2,
            "linecolor": "white",
            "showbackground": true,
            "ticks": "",
            "zerolinecolor": "white"
           },
           "yaxis": {
            "backgroundcolor": "#E5ECF6",
            "gridcolor": "white",
            "gridwidth": 2,
            "linecolor": "white",
            "showbackground": true,
            "ticks": "",
            "zerolinecolor": "white"
           },
           "zaxis": {
            "backgroundcolor": "#E5ECF6",
            "gridcolor": "white",
            "gridwidth": 2,
            "linecolor": "white",
            "showbackground": true,
            "ticks": "",
            "zerolinecolor": "white"
           }
          },
          "shapedefaults": {
           "line": {
            "color": "#2a3f5f"
           }
          },
          "ternary": {
           "aaxis": {
            "gridcolor": "white",
            "linecolor": "white",
            "ticks": ""
           },
           "baxis": {
            "gridcolor": "white",
            "linecolor": "white",
            "ticks": ""
           },
           "bgcolor": "#E5ECF6",
           "caxis": {
            "gridcolor": "white",
            "linecolor": "white",
            "ticks": ""
           }
          },
          "title": {
           "x": 0.05
          },
          "xaxis": {
           "automargin": true,
           "gridcolor": "white",
           "linecolor": "white",
           "ticks": "",
           "title": {
            "standoff": 15
           },
           "zerolinecolor": "white",
           "zerolinewidth": 2
          },
          "yaxis": {
           "automargin": true,
           "gridcolor": "white",
           "linecolor": "white",
           "ticks": "",
           "title": {
            "standoff": 15
           },
           "zerolinecolor": "white",
           "zerolinewidth": 2
          }
         }
        },
        "title": {
         "text": "Actor Group vs Attack Context in Afghanistan",
         "x": 0.5
        },
        "xaxis": {
         "anchor": "y",
         "domain": [
          0,
          1
         ],
         "tickangle": -30,
         "title": {
          "text": "Actor Group"
         }
        },
        "yaxis": {
         "anchor": "x",
         "domain": [
          0,
          1
         ],
         "title": {
          "text": "Number of Incidents"
         }
        }
       }
      }
     },
     "metadata": {},
     "output_type": "display_data"
    },
    {
     "data": {
      "application/vnd.plotly.v1+json": {
       "config": {
        "plotlyServerURL": "https://plot.ly"
       },
       "data": [
        {
         "alignmentgroup": "True",
         "hovertemplate": "Attack context=Ambush<br>Actor Group=%{x}<br>Number of Incidents=%{y}<extra></extra>",
         "legendgroup": "Ambush",
         "marker": {
          "color": "rgb(103,0,13)",
          "pattern": {
           "shape": ""
          }
         },
         "name": "Ambush",
         "offsetgroup": "Ambush",
         "orientation": "v",
         "showlegend": true,
         "textposition": "auto",
         "type": "bar",
         "x": [
          "Criminal",
          "Individual",
          "Non-state Armed Group",
          "State Actor",
          "Unknown"
         ],
         "xaxis": "x",
         "y": {
          "bdata": "BwAOAEEABgCDAA==",
          "dtype": "i2"
         },
         "yaxis": "y"
        },
        {
         "alignmentgroup": "True",
         "hovertemplate": "Attack context=Individual attack<br>Actor Group=%{x}<br>Number of Incidents=%{y}<extra></extra>",
         "legendgroup": "Individual attack",
         "marker": {
          "color": "rgb(165,15,21)",
          "pattern": {
           "shape": ""
          }
         },
         "name": "Individual attack",
         "offsetgroup": "Individual attack",
         "orientation": "v",
         "showlegend": true,
         "textposition": "auto",
         "type": "bar",
         "x": [
          "Criminal",
          "Individual",
          "Non-state Armed Group",
          "State Actor",
          "Unknown"
         ],
         "xaxis": "x",
         "y": {
          "bdata": "DjcOCEA=",
          "dtype": "i1"
         },
         "yaxis": "y"
        },
        {
         "alignmentgroup": "True",
         "hovertemplate": "Attack context=Raid<br>Actor Group=%{x}<br>Number of Incidents=%{y}<extra></extra>",
         "legendgroup": "Raid",
         "marker": {
          "color": "rgb(203,24,29)",
          "pattern": {
           "shape": ""
          }
         },
         "name": "Raid",
         "offsetgroup": "Raid",
         "orientation": "v",
         "showlegend": true,
         "textposition": "auto",
         "type": "bar",
         "x": [
          "Criminal",
          "Individual",
          "Non-state Armed Group",
          "State Actor",
          "Unknown"
         ],
         "xaxis": "x",
         "y": {
          "bdata": "BAgPAjU=",
          "dtype": "i1"
         },
         "yaxis": "y"
        },
        {
         "alignmentgroup": "True",
         "hovertemplate": "Attack context=Unknown<br>Actor Group=%{x}<br>Number of Incidents=%{y}<extra></extra>",
         "legendgroup": "Unknown",
         "marker": {
          "color": "rgb(239,59,44)",
          "pattern": {
           "shape": ""
          }
         },
         "name": "Unknown",
         "offsetgroup": "Unknown",
         "orientation": "v",
         "showlegend": true,
         "textposition": "auto",
         "type": "bar",
         "x": [
          "Criminal",
          "Individual",
          "Non-state Armed Group",
          "Unknown"
         ],
         "xaxis": "x",
         "y": {
          "bdata": "AQYLHw==",
          "dtype": "i1"
         },
         "yaxis": "y"
        },
        {
         "alignmentgroup": "True",
         "hovertemplate": "Attack context=Combat/Crossfire<br>Actor Group=%{x}<br>Number of Incidents=%{y}<extra></extra>",
         "legendgroup": "Combat/Crossfire",
         "marker": {
          "color": "rgb(251,106,74)",
          "pattern": {
           "shape": ""
          }
         },
         "name": "Combat/Crossfire",
         "offsetgroup": "Combat/Crossfire",
         "orientation": "v",
         "showlegend": true,
         "textposition": "auto",
         "type": "bar",
         "x": [
          "Individual",
          "Non-state Armed Group",
          "State Actor",
          "Unknown"
         ],
         "xaxis": "x",
         "y": {
          "bdata": "BRcBDQ==",
          "dtype": "i1"
         },
         "yaxis": "y"
        },
        {
         "alignmentgroup": "True",
         "hovertemplate": "Attack context=Mob violence<br>Actor Group=%{x}<br>Number of Incidents=%{y}<extra></extra>",
         "legendgroup": "Mob violence",
         "marker": {
          "color": "rgb(252,146,114)",
          "pattern": {
           "shape": ""
          }
         },
         "name": "Mob violence",
         "offsetgroup": "Mob violence",
         "orientation": "v",
         "showlegend": true,
         "textposition": "auto",
         "type": "bar",
         "x": [
          "Individual",
          "Non-state Armed Group",
          "State Actor"
         ],
         "xaxis": "x",
         "y": {
          "bdata": "EwIB",
          "dtype": "i1"
         },
         "yaxis": "y"
        },
        {
         "alignmentgroup": "True",
         "hovertemplate": "Attack context=Detention<br>Actor Group=%{x}<br>Number of Incidents=%{y}<extra></extra>",
         "legendgroup": "Detention",
         "marker": {
          "color": "rgb(252,187,161)",
          "pattern": {
           "shape": ""
          }
         },
         "name": "Detention",
         "offsetgroup": "Detention",
         "orientation": "v",
         "showlegend": true,
         "textposition": "auto",
         "type": "bar",
         "x": [
          "State Actor"
         ],
         "xaxis": "x",
         "y": {
          "bdata": "CQ==",
          "dtype": "i1"
         },
         "yaxis": "y"
        }
       ],
       "layout": {
        "barmode": "group",
        "legend": {
         "title": {
          "text": "Attack context"
         },
         "tracegroupgap": 0
        },
        "margin": {
         "b": 40,
         "l": 40,
         "r": 40,
         "t": 60
        },
        "paper_bgcolor": "white",
        "plot_bgcolor": "white",
        "template": {
         "data": {
          "bar": [
           {
            "error_x": {
             "color": "#2a3f5f"
            },
            "error_y": {
             "color": "#2a3f5f"
            },
            "marker": {
             "line": {
              "color": "#E5ECF6",
              "width": 0.5
             },
             "pattern": {
              "fillmode": "overlay",
              "size": 10,
              "solidity": 0.2
             }
            },
            "type": "bar"
           }
          ],
          "barpolar": [
           {
            "marker": {
             "line": {
              "color": "#E5ECF6",
              "width": 0.5
             },
             "pattern": {
              "fillmode": "overlay",
              "size": 10,
              "solidity": 0.2
             }
            },
            "type": "barpolar"
           }
          ],
          "carpet": [
           {
            "aaxis": {
             "endlinecolor": "#2a3f5f",
             "gridcolor": "white",
             "linecolor": "white",
             "minorgridcolor": "white",
             "startlinecolor": "#2a3f5f"
            },
            "baxis": {
             "endlinecolor": "#2a3f5f",
             "gridcolor": "white",
             "linecolor": "white",
             "minorgridcolor": "white",
             "startlinecolor": "#2a3f5f"
            },
            "type": "carpet"
           }
          ],
          "choropleth": [
           {
            "colorbar": {
             "outlinewidth": 0,
             "ticks": ""
            },
            "type": "choropleth"
           }
          ],
          "contour": [
           {
            "colorbar": {
             "outlinewidth": 0,
             "ticks": ""
            },
            "colorscale": [
             [
              0,
              "#0d0887"
             ],
             [
              0.1111111111111111,
              "#46039f"
             ],
             [
              0.2222222222222222,
              "#7201a8"
             ],
             [
              0.3333333333333333,
              "#9c179e"
             ],
             [
              0.4444444444444444,
              "#bd3786"
             ],
             [
              0.5555555555555556,
              "#d8576b"
             ],
             [
              0.6666666666666666,
              "#ed7953"
             ],
             [
              0.7777777777777778,
              "#fb9f3a"
             ],
             [
              0.8888888888888888,
              "#fdca26"
             ],
             [
              1,
              "#f0f921"
             ]
            ],
            "type": "contour"
           }
          ],
          "contourcarpet": [
           {
            "colorbar": {
             "outlinewidth": 0,
             "ticks": ""
            },
            "type": "contourcarpet"
           }
          ],
          "heatmap": [
           {
            "colorbar": {
             "outlinewidth": 0,
             "ticks": ""
            },
            "colorscale": [
             [
              0,
              "#0d0887"
             ],
             [
              0.1111111111111111,
              "#46039f"
             ],
             [
              0.2222222222222222,
              "#7201a8"
             ],
             [
              0.3333333333333333,
              "#9c179e"
             ],
             [
              0.4444444444444444,
              "#bd3786"
             ],
             [
              0.5555555555555556,
              "#d8576b"
             ],
             [
              0.6666666666666666,
              "#ed7953"
             ],
             [
              0.7777777777777778,
              "#fb9f3a"
             ],
             [
              0.8888888888888888,
              "#fdca26"
             ],
             [
              1,
              "#f0f921"
             ]
            ],
            "type": "heatmap"
           }
          ],
          "histogram": [
           {
            "marker": {
             "pattern": {
              "fillmode": "overlay",
              "size": 10,
              "solidity": 0.2
             }
            },
            "type": "histogram"
           }
          ],
          "histogram2d": [
           {
            "colorbar": {
             "outlinewidth": 0,
             "ticks": ""
            },
            "colorscale": [
             [
              0,
              "#0d0887"
             ],
             [
              0.1111111111111111,
              "#46039f"
             ],
             [
              0.2222222222222222,
              "#7201a8"
             ],
             [
              0.3333333333333333,
              "#9c179e"
             ],
             [
              0.4444444444444444,
              "#bd3786"
             ],
             [
              0.5555555555555556,
              "#d8576b"
             ],
             [
              0.6666666666666666,
              "#ed7953"
             ],
             [
              0.7777777777777778,
              "#fb9f3a"
             ],
             [
              0.8888888888888888,
              "#fdca26"
             ],
             [
              1,
              "#f0f921"
             ]
            ],
            "type": "histogram2d"
           }
          ],
          "histogram2dcontour": [
           {
            "colorbar": {
             "outlinewidth": 0,
             "ticks": ""
            },
            "colorscale": [
             [
              0,
              "#0d0887"
             ],
             [
              0.1111111111111111,
              "#46039f"
             ],
             [
              0.2222222222222222,
              "#7201a8"
             ],
             [
              0.3333333333333333,
              "#9c179e"
             ],
             [
              0.4444444444444444,
              "#bd3786"
             ],
             [
              0.5555555555555556,
              "#d8576b"
             ],
             [
              0.6666666666666666,
              "#ed7953"
             ],
             [
              0.7777777777777778,
              "#fb9f3a"
             ],
             [
              0.8888888888888888,
              "#fdca26"
             ],
             [
              1,
              "#f0f921"
             ]
            ],
            "type": "histogram2dcontour"
           }
          ],
          "mesh3d": [
           {
            "colorbar": {
             "outlinewidth": 0,
             "ticks": ""
            },
            "type": "mesh3d"
           }
          ],
          "parcoords": [
           {
            "line": {
             "colorbar": {
              "outlinewidth": 0,
              "ticks": ""
             }
            },
            "type": "parcoords"
           }
          ],
          "pie": [
           {
            "automargin": true,
            "type": "pie"
           }
          ],
          "scatter": [
           {
            "fillpattern": {
             "fillmode": "overlay",
             "size": 10,
             "solidity": 0.2
            },
            "type": "scatter"
           }
          ],
          "scatter3d": [
           {
            "line": {
             "colorbar": {
              "outlinewidth": 0,
              "ticks": ""
             }
            },
            "marker": {
             "colorbar": {
              "outlinewidth": 0,
              "ticks": ""
             }
            },
            "type": "scatter3d"
           }
          ],
          "scattercarpet": [
           {
            "marker": {
             "colorbar": {
              "outlinewidth": 0,
              "ticks": ""
             }
            },
            "type": "scattercarpet"
           }
          ],
          "scattergeo": [
           {
            "marker": {
             "colorbar": {
              "outlinewidth": 0,
              "ticks": ""
             }
            },
            "type": "scattergeo"
           }
          ],
          "scattergl": [
           {
            "marker": {
             "colorbar": {
              "outlinewidth": 0,
              "ticks": ""
             }
            },
            "type": "scattergl"
           }
          ],
          "scattermap": [
           {
            "marker": {
             "colorbar": {
              "outlinewidth": 0,
              "ticks": ""
             }
            },
            "type": "scattermap"
           }
          ],
          "scattermapbox": [
           {
            "marker": {
             "colorbar": {
              "outlinewidth": 0,
              "ticks": ""
             }
            },
            "type": "scattermapbox"
           }
          ],
          "scatterpolar": [
           {
            "marker": {
             "colorbar": {
              "outlinewidth": 0,
              "ticks": ""
             }
            },
            "type": "scatterpolar"
           }
          ],
          "scatterpolargl": [
           {
            "marker": {
             "colorbar": {
              "outlinewidth": 0,
              "ticks": ""
             }
            },
            "type": "scatterpolargl"
           }
          ],
          "scatterternary": [
           {
            "marker": {
             "colorbar": {
              "outlinewidth": 0,
              "ticks": ""
             }
            },
            "type": "scatterternary"
           }
          ],
          "surface": [
           {
            "colorbar": {
             "outlinewidth": 0,
             "ticks": ""
            },
            "colorscale": [
             [
              0,
              "#0d0887"
             ],
             [
              0.1111111111111111,
              "#46039f"
             ],
             [
              0.2222222222222222,
              "#7201a8"
             ],
             [
              0.3333333333333333,
              "#9c179e"
             ],
             [
              0.4444444444444444,
              "#bd3786"
             ],
             [
              0.5555555555555556,
              "#d8576b"
             ],
             [
              0.6666666666666666,
              "#ed7953"
             ],
             [
              0.7777777777777778,
              "#fb9f3a"
             ],
             [
              0.8888888888888888,
              "#fdca26"
             ],
             [
              1,
              "#f0f921"
             ]
            ],
            "type": "surface"
           }
          ],
          "table": [
           {
            "cells": {
             "fill": {
              "color": "#EBF0F8"
             },
             "line": {
              "color": "white"
             }
            },
            "header": {
             "fill": {
              "color": "#C8D4E3"
             },
             "line": {
              "color": "white"
             }
            },
            "type": "table"
           }
          ]
         },
         "layout": {
          "annotationdefaults": {
           "arrowcolor": "#2a3f5f",
           "arrowhead": 0,
           "arrowwidth": 1
          },
          "autotypenumbers": "strict",
          "coloraxis": {
           "colorbar": {
            "outlinewidth": 0,
            "ticks": ""
           }
          },
          "colorscale": {
           "diverging": [
            [
             0,
             "#8e0152"
            ],
            [
             0.1,
             "#c51b7d"
            ],
            [
             0.2,
             "#de77ae"
            ],
            [
             0.3,
             "#f1b6da"
            ],
            [
             0.4,
             "#fde0ef"
            ],
            [
             0.5,
             "#f7f7f7"
            ],
            [
             0.6,
             "#e6f5d0"
            ],
            [
             0.7,
             "#b8e186"
            ],
            [
             0.8,
             "#7fbc41"
            ],
            [
             0.9,
             "#4d9221"
            ],
            [
             1,
             "#276419"
            ]
           ],
           "sequential": [
            [
             0,
             "#0d0887"
            ],
            [
             0.1111111111111111,
             "#46039f"
            ],
            [
             0.2222222222222222,
             "#7201a8"
            ],
            [
             0.3333333333333333,
             "#9c179e"
            ],
            [
             0.4444444444444444,
             "#bd3786"
            ],
            [
             0.5555555555555556,
             "#d8576b"
            ],
            [
             0.6666666666666666,
             "#ed7953"
            ],
            [
             0.7777777777777778,
             "#fb9f3a"
            ],
            [
             0.8888888888888888,
             "#fdca26"
            ],
            [
             1,
             "#f0f921"
            ]
           ],
           "sequentialminus": [
            [
             0,
             "#0d0887"
            ],
            [
             0.1111111111111111,
             "#46039f"
            ],
            [
             0.2222222222222222,
             "#7201a8"
            ],
            [
             0.3333333333333333,
             "#9c179e"
            ],
            [
             0.4444444444444444,
             "#bd3786"
            ],
            [
             0.5555555555555556,
             "#d8576b"
            ],
            [
             0.6666666666666666,
             "#ed7953"
            ],
            [
             0.7777777777777778,
             "#fb9f3a"
            ],
            [
             0.8888888888888888,
             "#fdca26"
            ],
            [
             1,
             "#f0f921"
            ]
           ]
          },
          "colorway": [
           "#636efa",
           "#EF553B",
           "#00cc96",
           "#ab63fa",
           "#FFA15A",
           "#19d3f3",
           "#FF6692",
           "#B6E880",
           "#FF97FF",
           "#FECB52"
          ],
          "font": {
           "color": "#2a3f5f"
          },
          "geo": {
           "bgcolor": "white",
           "lakecolor": "white",
           "landcolor": "#E5ECF6",
           "showlakes": true,
           "showland": true,
           "subunitcolor": "white"
          },
          "hoverlabel": {
           "align": "left"
          },
          "hovermode": "closest",
          "mapbox": {
           "style": "light"
          },
          "paper_bgcolor": "white",
          "plot_bgcolor": "#E5ECF6",
          "polar": {
           "angularaxis": {
            "gridcolor": "white",
            "linecolor": "white",
            "ticks": ""
           },
           "bgcolor": "#E5ECF6",
           "radialaxis": {
            "gridcolor": "white",
            "linecolor": "white",
            "ticks": ""
           }
          },
          "scene": {
           "xaxis": {
            "backgroundcolor": "#E5ECF6",
            "gridcolor": "white",
            "gridwidth": 2,
            "linecolor": "white",
            "showbackground": true,
            "ticks": "",
            "zerolinecolor": "white"
           },
           "yaxis": {
            "backgroundcolor": "#E5ECF6",
            "gridcolor": "white",
            "gridwidth": 2,
            "linecolor": "white",
            "showbackground": true,
            "ticks": "",
            "zerolinecolor": "white"
           },
           "zaxis": {
            "backgroundcolor": "#E5ECF6",
            "gridcolor": "white",
            "gridwidth": 2,
            "linecolor": "white",
            "showbackground": true,
            "ticks": "",
            "zerolinecolor": "white"
           }
          },
          "shapedefaults": {
           "line": {
            "color": "#2a3f5f"
           }
          },
          "ternary": {
           "aaxis": {
            "gridcolor": "white",
            "linecolor": "white",
            "ticks": ""
           },
           "baxis": {
            "gridcolor": "white",
            "linecolor": "white",
            "ticks": ""
           },
           "bgcolor": "#E5ECF6",
           "caxis": {
            "gridcolor": "white",
            "linecolor": "white",
            "ticks": ""
           }
          },
          "title": {
           "x": 0.05
          },
          "xaxis": {
           "automargin": true,
           "gridcolor": "white",
           "linecolor": "white",
           "ticks": "",
           "title": {
            "standoff": 15
           },
           "zerolinecolor": "white",
           "zerolinewidth": 2
          },
          "yaxis": {
           "automargin": true,
           "gridcolor": "white",
           "linecolor": "white",
           "ticks": "",
           "title": {
            "standoff": 15
           },
           "zerolinecolor": "white",
           "zerolinewidth": 2
          }
         }
        },
        "title": {
         "text": "Actor Group vs Attack Context in South Sudan",
         "x": 0.5
        },
        "xaxis": {
         "anchor": "y",
         "domain": [
          0,
          1
         ],
         "tickangle": -30,
         "title": {
          "text": "Actor Group"
         }
        },
        "yaxis": {
         "anchor": "x",
         "domain": [
          0,
          1
         ],
         "title": {
          "text": "Number of Incidents"
         }
        }
       }
      }
     },
     "metadata": {},
     "output_type": "display_data"
    },
    {
     "data": {
      "application/vnd.plotly.v1+json": {
       "config": {
        "plotlyServerURL": "https://plot.ly"
       },
       "data": [
        {
         "alignmentgroup": "True",
         "hovertemplate": "Attack context=Ambush<br>Actor Group=%{x}<br>Number of Incidents=%{y}<extra></extra>",
         "legendgroup": "Ambush",
         "marker": {
          "color": "rgb(103,0,13)",
          "pattern": {
           "shape": ""
          }
         },
         "name": "Ambush",
         "offsetgroup": "Ambush",
         "orientation": "v",
         "showlegend": true,
         "textposition": "auto",
         "type": "bar",
         "x": [
          "Criminal",
          "Non-state Armed Group",
          "State Actor",
          "Unknown"
         ],
         "xaxis": "x",
         "y": {
          "bdata": "ARYDcQ==",
          "dtype": "i1"
         },
         "yaxis": "y"
        },
        {
         "alignmentgroup": "True",
         "hovertemplate": "Attack context=Raid<br>Actor Group=%{x}<br>Number of Incidents=%{y}<extra></extra>",
         "legendgroup": "Raid",
         "marker": {
          "color": "rgb(165,15,21)",
          "pattern": {
           "shape": ""
          }
         },
         "name": "Raid",
         "offsetgroup": "Raid",
         "orientation": "v",
         "showlegend": true,
         "textposition": "auto",
         "type": "bar",
         "x": [
          "Criminal",
          "Non-state Armed Group",
          "State Actor",
          "Unknown"
         ],
         "xaxis": "x",
         "y": {
          "bdata": "AREDJA==",
          "dtype": "i1"
         },
         "yaxis": "y"
        },
        {
         "alignmentgroup": "True",
         "hovertemplate": "Attack context=Unknown<br>Actor Group=%{x}<br>Number of Incidents=%{y}<extra></extra>",
         "legendgroup": "Unknown",
         "marker": {
          "color": "rgb(203,24,29)",
          "pattern": {
           "shape": ""
          }
         },
         "name": "Unknown",
         "offsetgroup": "Unknown",
         "orientation": "v",
         "showlegend": true,
         "textposition": "auto",
         "type": "bar",
         "x": [
          "Criminal",
          "Non-state Armed Group",
          "State Actor",
          "Unknown"
         ],
         "xaxis": "x",
         "y": {
          "bdata": "ARADKQ==",
          "dtype": "i1"
         },
         "yaxis": "y"
        },
        {
         "alignmentgroup": "True",
         "hovertemplate": "Attack context=Combat/Crossfire<br>Actor Group=%{x}<br>Number of Incidents=%{y}<extra></extra>",
         "legendgroup": "Combat/Crossfire",
         "marker": {
          "color": "rgb(239,59,44)",
          "pattern": {
           "shape": ""
          }
         },
         "name": "Combat/Crossfire",
         "offsetgroup": "Combat/Crossfire",
         "orientation": "v",
         "showlegend": true,
         "textposition": "auto",
         "type": "bar",
         "x": [
          "Individual",
          "Non-state Armed Group",
          "State Actor",
          "Unknown"
         ],
         "xaxis": "x",
         "y": {
          "bdata": "AQ4NIA==",
          "dtype": "i1"
         },
         "yaxis": "y"
        },
        {
         "alignmentgroup": "True",
         "hovertemplate": "Attack context=Individual attack<br>Actor Group=%{x}<br>Number of Incidents=%{y}<extra></extra>",
         "legendgroup": "Individual attack",
         "marker": {
          "color": "rgb(251,106,74)",
          "pattern": {
           "shape": ""
          }
         },
         "name": "Individual attack",
         "offsetgroup": "Individual attack",
         "orientation": "v",
         "showlegend": true,
         "textposition": "auto",
         "type": "bar",
         "x": [
          "Individual",
          "Non-state Armed Group",
          "State Actor",
          "Unknown"
         ],
         "xaxis": "x",
         "y": {
          "bdata": "BAYEJA==",
          "dtype": "i1"
         },
         "yaxis": "y"
        },
        {
         "alignmentgroup": "True",
         "hovertemplate": "Attack context=Mob violence<br>Actor Group=%{x}<br>Number of Incidents=%{y}<extra></extra>",
         "legendgroup": "Mob violence",
         "marker": {
          "color": "rgb(252,146,114)",
          "pattern": {
           "shape": ""
          }
         },
         "name": "Mob violence",
         "offsetgroup": "Mob violence",
         "orientation": "v",
         "showlegend": true,
         "textposition": "auto",
         "type": "bar",
         "x": [
          "Individual",
          "Non-state Armed Group",
          "Unknown"
         ],
         "xaxis": "x",
         "y": {
          "bdata": "BAEB",
          "dtype": "i1"
         },
         "yaxis": "y"
        },
        {
         "alignmentgroup": "True",
         "hovertemplate": "Attack context=Detention<br>Actor Group=%{x}<br>Number of Incidents=%{y}<extra></extra>",
         "legendgroup": "Detention",
         "marker": {
          "color": "rgb(252,187,161)",
          "pattern": {
           "shape": ""
          }
         },
         "name": "Detention",
         "offsetgroup": "Detention",
         "orientation": "v",
         "showlegend": true,
         "textposition": "auto",
         "type": "bar",
         "x": [
          "Non-state Armed Group",
          "State Actor",
          "Unknown"
         ],
         "xaxis": "x",
         "y": {
          "bdata": "AwMC",
          "dtype": "i1"
         },
         "yaxis": "y"
        }
       ],
       "layout": {
        "barmode": "group",
        "legend": {
         "title": {
          "text": "Attack context"
         },
         "tracegroupgap": 0
        },
        "margin": {
         "b": 40,
         "l": 40,
         "r": 40,
         "t": 60
        },
        "paper_bgcolor": "white",
        "plot_bgcolor": "white",
        "template": {
         "data": {
          "bar": [
           {
            "error_x": {
             "color": "#2a3f5f"
            },
            "error_y": {
             "color": "#2a3f5f"
            },
            "marker": {
             "line": {
              "color": "#E5ECF6",
              "width": 0.5
             },
             "pattern": {
              "fillmode": "overlay",
              "size": 10,
              "solidity": 0.2
             }
            },
            "type": "bar"
           }
          ],
          "barpolar": [
           {
            "marker": {
             "line": {
              "color": "#E5ECF6",
              "width": 0.5
             },
             "pattern": {
              "fillmode": "overlay",
              "size": 10,
              "solidity": 0.2
             }
            },
            "type": "barpolar"
           }
          ],
          "carpet": [
           {
            "aaxis": {
             "endlinecolor": "#2a3f5f",
             "gridcolor": "white",
             "linecolor": "white",
             "minorgridcolor": "white",
             "startlinecolor": "#2a3f5f"
            },
            "baxis": {
             "endlinecolor": "#2a3f5f",
             "gridcolor": "white",
             "linecolor": "white",
             "minorgridcolor": "white",
             "startlinecolor": "#2a3f5f"
            },
            "type": "carpet"
           }
          ],
          "choropleth": [
           {
            "colorbar": {
             "outlinewidth": 0,
             "ticks": ""
            },
            "type": "choropleth"
           }
          ],
          "contour": [
           {
            "colorbar": {
             "outlinewidth": 0,
             "ticks": ""
            },
            "colorscale": [
             [
              0,
              "#0d0887"
             ],
             [
              0.1111111111111111,
              "#46039f"
             ],
             [
              0.2222222222222222,
              "#7201a8"
             ],
             [
              0.3333333333333333,
              "#9c179e"
             ],
             [
              0.4444444444444444,
              "#bd3786"
             ],
             [
              0.5555555555555556,
              "#d8576b"
             ],
             [
              0.6666666666666666,
              "#ed7953"
             ],
             [
              0.7777777777777778,
              "#fb9f3a"
             ],
             [
              0.8888888888888888,
              "#fdca26"
             ],
             [
              1,
              "#f0f921"
             ]
            ],
            "type": "contour"
           }
          ],
          "contourcarpet": [
           {
            "colorbar": {
             "outlinewidth": 0,
             "ticks": ""
            },
            "type": "contourcarpet"
           }
          ],
          "heatmap": [
           {
            "colorbar": {
             "outlinewidth": 0,
             "ticks": ""
            },
            "colorscale": [
             [
              0,
              "#0d0887"
             ],
             [
              0.1111111111111111,
              "#46039f"
             ],
             [
              0.2222222222222222,
              "#7201a8"
             ],
             [
              0.3333333333333333,
              "#9c179e"
             ],
             [
              0.4444444444444444,
              "#bd3786"
             ],
             [
              0.5555555555555556,
              "#d8576b"
             ],
             [
              0.6666666666666666,
              "#ed7953"
             ],
             [
              0.7777777777777778,
              "#fb9f3a"
             ],
             [
              0.8888888888888888,
              "#fdca26"
             ],
             [
              1,
              "#f0f921"
             ]
            ],
            "type": "heatmap"
           }
          ],
          "histogram": [
           {
            "marker": {
             "pattern": {
              "fillmode": "overlay",
              "size": 10,
              "solidity": 0.2
             }
            },
            "type": "histogram"
           }
          ],
          "histogram2d": [
           {
            "colorbar": {
             "outlinewidth": 0,
             "ticks": ""
            },
            "colorscale": [
             [
              0,
              "#0d0887"
             ],
             [
              0.1111111111111111,
              "#46039f"
             ],
             [
              0.2222222222222222,
              "#7201a8"
             ],
             [
              0.3333333333333333,
              "#9c179e"
             ],
             [
              0.4444444444444444,
              "#bd3786"
             ],
             [
              0.5555555555555556,
              "#d8576b"
             ],
             [
              0.6666666666666666,
              "#ed7953"
             ],
             [
              0.7777777777777778,
              "#fb9f3a"
             ],
             [
              0.8888888888888888,
              "#fdca26"
             ],
             [
              1,
              "#f0f921"
             ]
            ],
            "type": "histogram2d"
           }
          ],
          "histogram2dcontour": [
           {
            "colorbar": {
             "outlinewidth": 0,
             "ticks": ""
            },
            "colorscale": [
             [
              0,
              "#0d0887"
             ],
             [
              0.1111111111111111,
              "#46039f"
             ],
             [
              0.2222222222222222,
              "#7201a8"
             ],
             [
              0.3333333333333333,
              "#9c179e"
             ],
             [
              0.4444444444444444,
              "#bd3786"
             ],
             [
              0.5555555555555556,
              "#d8576b"
             ],
             [
              0.6666666666666666,
              "#ed7953"
             ],
             [
              0.7777777777777778,
              "#fb9f3a"
             ],
             [
              0.8888888888888888,
              "#fdca26"
             ],
             [
              1,
              "#f0f921"
             ]
            ],
            "type": "histogram2dcontour"
           }
          ],
          "mesh3d": [
           {
            "colorbar": {
             "outlinewidth": 0,
             "ticks": ""
            },
            "type": "mesh3d"
           }
          ],
          "parcoords": [
           {
            "line": {
             "colorbar": {
              "outlinewidth": 0,
              "ticks": ""
             }
            },
            "type": "parcoords"
           }
          ],
          "pie": [
           {
            "automargin": true,
            "type": "pie"
           }
          ],
          "scatter": [
           {
            "fillpattern": {
             "fillmode": "overlay",
             "size": 10,
             "solidity": 0.2
            },
            "type": "scatter"
           }
          ],
          "scatter3d": [
           {
            "line": {
             "colorbar": {
              "outlinewidth": 0,
              "ticks": ""
             }
            },
            "marker": {
             "colorbar": {
              "outlinewidth": 0,
              "ticks": ""
             }
            },
            "type": "scatter3d"
           }
          ],
          "scattercarpet": [
           {
            "marker": {
             "colorbar": {
              "outlinewidth": 0,
              "ticks": ""
             }
            },
            "type": "scattercarpet"
           }
          ],
          "scattergeo": [
           {
            "marker": {
             "colorbar": {
              "outlinewidth": 0,
              "ticks": ""
             }
            },
            "type": "scattergeo"
           }
          ],
          "scattergl": [
           {
            "marker": {
             "colorbar": {
              "outlinewidth": 0,
              "ticks": ""
             }
            },
            "type": "scattergl"
           }
          ],
          "scattermap": [
           {
            "marker": {
             "colorbar": {
              "outlinewidth": 0,
              "ticks": ""
             }
            },
            "type": "scattermap"
           }
          ],
          "scattermapbox": [
           {
            "marker": {
             "colorbar": {
              "outlinewidth": 0,
              "ticks": ""
             }
            },
            "type": "scattermapbox"
           }
          ],
          "scatterpolar": [
           {
            "marker": {
             "colorbar": {
              "outlinewidth": 0,
              "ticks": ""
             }
            },
            "type": "scatterpolar"
           }
          ],
          "scatterpolargl": [
           {
            "marker": {
             "colorbar": {
              "outlinewidth": 0,
              "ticks": ""
             }
            },
            "type": "scatterpolargl"
           }
          ],
          "scatterternary": [
           {
            "marker": {
             "colorbar": {
              "outlinewidth": 0,
              "ticks": ""
             }
            },
            "type": "scatterternary"
           }
          ],
          "surface": [
           {
            "colorbar": {
             "outlinewidth": 0,
             "ticks": ""
            },
            "colorscale": [
             [
              0,
              "#0d0887"
             ],
             [
              0.1111111111111111,
              "#46039f"
             ],
             [
              0.2222222222222222,
              "#7201a8"
             ],
             [
              0.3333333333333333,
              "#9c179e"
             ],
             [
              0.4444444444444444,
              "#bd3786"
             ],
             [
              0.5555555555555556,
              "#d8576b"
             ],
             [
              0.6666666666666666,
              "#ed7953"
             ],
             [
              0.7777777777777778,
              "#fb9f3a"
             ],
             [
              0.8888888888888888,
              "#fdca26"
             ],
             [
              1,
              "#f0f921"
             ]
            ],
            "type": "surface"
           }
          ],
          "table": [
           {
            "cells": {
             "fill": {
              "color": "#EBF0F8"
             },
             "line": {
              "color": "white"
             }
            },
            "header": {
             "fill": {
              "color": "#C8D4E3"
             },
             "line": {
              "color": "white"
             }
            },
            "type": "table"
           }
          ]
         },
         "layout": {
          "annotationdefaults": {
           "arrowcolor": "#2a3f5f",
           "arrowhead": 0,
           "arrowwidth": 1
          },
          "autotypenumbers": "strict",
          "coloraxis": {
           "colorbar": {
            "outlinewidth": 0,
            "ticks": ""
           }
          },
          "colorscale": {
           "diverging": [
            [
             0,
             "#8e0152"
            ],
            [
             0.1,
             "#c51b7d"
            ],
            [
             0.2,
             "#de77ae"
            ],
            [
             0.3,
             "#f1b6da"
            ],
            [
             0.4,
             "#fde0ef"
            ],
            [
             0.5,
             "#f7f7f7"
            ],
            [
             0.6,
             "#e6f5d0"
            ],
            [
             0.7,
             "#b8e186"
            ],
            [
             0.8,
             "#7fbc41"
            ],
            [
             0.9,
             "#4d9221"
            ],
            [
             1,
             "#276419"
            ]
           ],
           "sequential": [
            [
             0,
             "#0d0887"
            ],
            [
             0.1111111111111111,
             "#46039f"
            ],
            [
             0.2222222222222222,
             "#7201a8"
            ],
            [
             0.3333333333333333,
             "#9c179e"
            ],
            [
             0.4444444444444444,
             "#bd3786"
            ],
            [
             0.5555555555555556,
             "#d8576b"
            ],
            [
             0.6666666666666666,
             "#ed7953"
            ],
            [
             0.7777777777777778,
             "#fb9f3a"
            ],
            [
             0.8888888888888888,
             "#fdca26"
            ],
            [
             1,
             "#f0f921"
            ]
           ],
           "sequentialminus": [
            [
             0,
             "#0d0887"
            ],
            [
             0.1111111111111111,
             "#46039f"
            ],
            [
             0.2222222222222222,
             "#7201a8"
            ],
            [
             0.3333333333333333,
             "#9c179e"
            ],
            [
             0.4444444444444444,
             "#bd3786"
            ],
            [
             0.5555555555555556,
             "#d8576b"
            ],
            [
             0.6666666666666666,
             "#ed7953"
            ],
            [
             0.7777777777777778,
             "#fb9f3a"
            ],
            [
             0.8888888888888888,
             "#fdca26"
            ],
            [
             1,
             "#f0f921"
            ]
           ]
          },
          "colorway": [
           "#636efa",
           "#EF553B",
           "#00cc96",
           "#ab63fa",
           "#FFA15A",
           "#19d3f3",
           "#FF6692",
           "#B6E880",
           "#FF97FF",
           "#FECB52"
          ],
          "font": {
           "color": "#2a3f5f"
          },
          "geo": {
           "bgcolor": "white",
           "lakecolor": "white",
           "landcolor": "#E5ECF6",
           "showlakes": true,
           "showland": true,
           "subunitcolor": "white"
          },
          "hoverlabel": {
           "align": "left"
          },
          "hovermode": "closest",
          "mapbox": {
           "style": "light"
          },
          "paper_bgcolor": "white",
          "plot_bgcolor": "#E5ECF6",
          "polar": {
           "angularaxis": {
            "gridcolor": "white",
            "linecolor": "white",
            "ticks": ""
           },
           "bgcolor": "#E5ECF6",
           "radialaxis": {
            "gridcolor": "white",
            "linecolor": "white",
            "ticks": ""
           }
          },
          "scene": {
           "xaxis": {
            "backgroundcolor": "#E5ECF6",
            "gridcolor": "white",
            "gridwidth": 2,
            "linecolor": "white",
            "showbackground": true,
            "ticks": "",
            "zerolinecolor": "white"
           },
           "yaxis": {
            "backgroundcolor": "#E5ECF6",
            "gridcolor": "white",
            "gridwidth": 2,
            "linecolor": "white",
            "showbackground": true,
            "ticks": "",
            "zerolinecolor": "white"
           },
           "zaxis": {
            "backgroundcolor": "#E5ECF6",
            "gridcolor": "white",
            "gridwidth": 2,
            "linecolor": "white",
            "showbackground": true,
            "ticks": "",
            "zerolinecolor": "white"
           }
          },
          "shapedefaults": {
           "line": {
            "color": "#2a3f5f"
           }
          },
          "ternary": {
           "aaxis": {
            "gridcolor": "white",
            "linecolor": "white",
            "ticks": ""
           },
           "baxis": {
            "gridcolor": "white",
            "linecolor": "white",
            "ticks": ""
           },
           "bgcolor": "#E5ECF6",
           "caxis": {
            "gridcolor": "white",
            "linecolor": "white",
            "ticks": ""
           }
          },
          "title": {
           "x": 0.05
          },
          "xaxis": {
           "automargin": true,
           "gridcolor": "white",
           "linecolor": "white",
           "ticks": "",
           "title": {
            "standoff": 15
           },
           "zerolinecolor": "white",
           "zerolinewidth": 2
          },
          "yaxis": {
           "automargin": true,
           "gridcolor": "white",
           "linecolor": "white",
           "ticks": "",
           "title": {
            "standoff": 15
           },
           "zerolinecolor": "white",
           "zerolinewidth": 2
          }
         }
        },
        "title": {
         "text": "Actor Group vs Attack Context in Sudan",
         "x": 0.5
        },
        "xaxis": {
         "anchor": "y",
         "domain": [
          0,
          1
         ],
         "tickangle": -30,
         "title": {
          "text": "Actor Group"
         }
        },
        "yaxis": {
         "anchor": "x",
         "domain": [
          0,
          1
         ],
         "title": {
          "text": "Number of Incidents"
         }
        }
       }
      }
     },
     "metadata": {},
     "output_type": "display_data"
    },
    {
     "data": {
      "application/vnd.plotly.v1+json": {
       "config": {
        "plotlyServerURL": "https://plot.ly"
       },
       "data": [
        {
         "alignmentgroup": "True",
         "hovertemplate": "Attack context=Combat/Crossfire<br>Actor Group=%{x}<br>Number of Incidents=%{y}<extra></extra>",
         "legendgroup": "Combat/Crossfire",
         "marker": {
          "color": "rgb(103,0,13)",
          "pattern": {
           "shape": ""
          }
         },
         "name": "Combat/Crossfire",
         "offsetgroup": "Combat/Crossfire",
         "orientation": "v",
         "showlegend": true,
         "textposition": "auto",
         "type": "bar",
         "x": [
          "Individual",
          "Non-state Armed Group",
          "State Actor",
          "Unknown"
         ],
         "xaxis": "x",
         "y": {
          "bdata": "Agt/OA==",
          "dtype": "i1"
         },
         "yaxis": "y"
        },
        {
         "alignmentgroup": "True",
         "hovertemplate": "Attack context=Individual attack<br>Actor Group=%{x}<br>Number of Incidents=%{y}<extra></extra>",
         "legendgroup": "Individual attack",
         "marker": {
          "color": "rgb(165,15,21)",
          "pattern": {
           "shape": ""
          }
         },
         "name": "Individual attack",
         "offsetgroup": "Individual attack",
         "orientation": "v",
         "showlegend": true,
         "textposition": "auto",
         "type": "bar",
         "x": [
          "Individual",
          "Non-state Armed Group",
          "State Actor",
          "Unknown"
         ],
         "xaxis": "x",
         "y": {
          "bdata": "BgsIEg==",
          "dtype": "i1"
         },
         "yaxis": "y"
        },
        {
         "alignmentgroup": "True",
         "hovertemplate": "Attack context=Mob violence<br>Actor Group=%{x}<br>Number of Incidents=%{y}<extra></extra>",
         "legendgroup": "Mob violence",
         "marker": {
          "color": "rgb(203,24,29)",
          "pattern": {
           "shape": ""
          }
         },
         "name": "Mob violence",
         "offsetgroup": "Mob violence",
         "orientation": "v",
         "showlegend": true,
         "textposition": "auto",
         "type": "bar",
         "x": [
          "Individual"
         ],
         "xaxis": "x",
         "y": {
          "bdata": "Ag==",
          "dtype": "i1"
         },
         "yaxis": "y"
        },
        {
         "alignmentgroup": "True",
         "hovertemplate": "Attack context=Ambush<br>Actor Group=%{x}<br>Number of Incidents=%{y}<extra></extra>",
         "legendgroup": "Ambush",
         "marker": {
          "color": "rgb(239,59,44)",
          "pattern": {
           "shape": ""
          }
         },
         "name": "Ambush",
         "offsetgroup": "Ambush",
         "orientation": "v",
         "showlegend": true,
         "textposition": "auto",
         "type": "bar",
         "x": [
          "Non-state Armed Group",
          "State Actor",
          "Unknown"
         ],
         "xaxis": "x",
         "y": {
          "bdata": "FAIR",
          "dtype": "i1"
         },
         "yaxis": "y"
        },
        {
         "alignmentgroup": "True",
         "hovertemplate": "Attack context=Raid<br>Actor Group=%{x}<br>Number of Incidents=%{y}<extra></extra>",
         "legendgroup": "Raid",
         "marker": {
          "color": "rgb(251,106,74)",
          "pattern": {
           "shape": ""
          }
         },
         "name": "Raid",
         "offsetgroup": "Raid",
         "orientation": "v",
         "showlegend": true,
         "textposition": "auto",
         "type": "bar",
         "x": [
          "Non-state Armed Group",
          "State Actor",
          "Unknown"
         ],
         "xaxis": "x",
         "y": {
          "bdata": "CAIE",
          "dtype": "i1"
         },
         "yaxis": "y"
        },
        {
         "alignmentgroup": "True",
         "hovertemplate": "Attack context=Unknown<br>Actor Group=%{x}<br>Number of Incidents=%{y}<extra></extra>",
         "legendgroup": "Unknown",
         "marker": {
          "color": "rgb(252,146,114)",
          "pattern": {
           "shape": ""
          }
         },
         "name": "Unknown",
         "offsetgroup": "Unknown",
         "orientation": "v",
         "showlegend": true,
         "textposition": "auto",
         "type": "bar",
         "x": [
          "Non-state Armed Group",
          "State Actor",
          "Unknown"
         ],
         "xaxis": "x",
         "y": {
          "bdata": "Cgc1",
          "dtype": "i1"
         },
         "yaxis": "y"
        },
        {
         "alignmentgroup": "True",
         "hovertemplate": "Attack context=Detention<br>Actor Group=%{x}<br>Number of Incidents=%{y}<extra></extra>",
         "legendgroup": "Detention",
         "marker": {
          "color": "rgb(252,187,161)",
          "pattern": {
           "shape": ""
          }
         },
         "name": "Detention",
         "offsetgroup": "Detention",
         "orientation": "v",
         "showlegend": true,
         "textposition": "auto",
         "type": "bar",
         "x": [
          "State Actor",
          "Unknown"
         ],
         "xaxis": "x",
         "y": {
          "bdata": "AgI=",
          "dtype": "i1"
         },
         "yaxis": "y"
        }
       ],
       "layout": {
        "barmode": "group",
        "legend": {
         "title": {
          "text": "Attack context"
         },
         "tracegroupgap": 0
        },
        "margin": {
         "b": 40,
         "l": 40,
         "r": 40,
         "t": 60
        },
        "paper_bgcolor": "white",
        "plot_bgcolor": "white",
        "template": {
         "data": {
          "bar": [
           {
            "error_x": {
             "color": "#2a3f5f"
            },
            "error_y": {
             "color": "#2a3f5f"
            },
            "marker": {
             "line": {
              "color": "#E5ECF6",
              "width": 0.5
             },
             "pattern": {
              "fillmode": "overlay",
              "size": 10,
              "solidity": 0.2
             }
            },
            "type": "bar"
           }
          ],
          "barpolar": [
           {
            "marker": {
             "line": {
              "color": "#E5ECF6",
              "width": 0.5
             },
             "pattern": {
              "fillmode": "overlay",
              "size": 10,
              "solidity": 0.2
             }
            },
            "type": "barpolar"
           }
          ],
          "carpet": [
           {
            "aaxis": {
             "endlinecolor": "#2a3f5f",
             "gridcolor": "white",
             "linecolor": "white",
             "minorgridcolor": "white",
             "startlinecolor": "#2a3f5f"
            },
            "baxis": {
             "endlinecolor": "#2a3f5f",
             "gridcolor": "white",
             "linecolor": "white",
             "minorgridcolor": "white",
             "startlinecolor": "#2a3f5f"
            },
            "type": "carpet"
           }
          ],
          "choropleth": [
           {
            "colorbar": {
             "outlinewidth": 0,
             "ticks": ""
            },
            "type": "choropleth"
           }
          ],
          "contour": [
           {
            "colorbar": {
             "outlinewidth": 0,
             "ticks": ""
            },
            "colorscale": [
             [
              0,
              "#0d0887"
             ],
             [
              0.1111111111111111,
              "#46039f"
             ],
             [
              0.2222222222222222,
              "#7201a8"
             ],
             [
              0.3333333333333333,
              "#9c179e"
             ],
             [
              0.4444444444444444,
              "#bd3786"
             ],
             [
              0.5555555555555556,
              "#d8576b"
             ],
             [
              0.6666666666666666,
              "#ed7953"
             ],
             [
              0.7777777777777778,
              "#fb9f3a"
             ],
             [
              0.8888888888888888,
              "#fdca26"
             ],
             [
              1,
              "#f0f921"
             ]
            ],
            "type": "contour"
           }
          ],
          "contourcarpet": [
           {
            "colorbar": {
             "outlinewidth": 0,
             "ticks": ""
            },
            "type": "contourcarpet"
           }
          ],
          "heatmap": [
           {
            "colorbar": {
             "outlinewidth": 0,
             "ticks": ""
            },
            "colorscale": [
             [
              0,
              "#0d0887"
             ],
             [
              0.1111111111111111,
              "#46039f"
             ],
             [
              0.2222222222222222,
              "#7201a8"
             ],
             [
              0.3333333333333333,
              "#9c179e"
             ],
             [
              0.4444444444444444,
              "#bd3786"
             ],
             [
              0.5555555555555556,
              "#d8576b"
             ],
             [
              0.6666666666666666,
              "#ed7953"
             ],
             [
              0.7777777777777778,
              "#fb9f3a"
             ],
             [
              0.8888888888888888,
              "#fdca26"
             ],
             [
              1,
              "#f0f921"
             ]
            ],
            "type": "heatmap"
           }
          ],
          "histogram": [
           {
            "marker": {
             "pattern": {
              "fillmode": "overlay",
              "size": 10,
              "solidity": 0.2
             }
            },
            "type": "histogram"
           }
          ],
          "histogram2d": [
           {
            "colorbar": {
             "outlinewidth": 0,
             "ticks": ""
            },
            "colorscale": [
             [
              0,
              "#0d0887"
             ],
             [
              0.1111111111111111,
              "#46039f"
             ],
             [
              0.2222222222222222,
              "#7201a8"
             ],
             [
              0.3333333333333333,
              "#9c179e"
             ],
             [
              0.4444444444444444,
              "#bd3786"
             ],
             [
              0.5555555555555556,
              "#d8576b"
             ],
             [
              0.6666666666666666,
              "#ed7953"
             ],
             [
              0.7777777777777778,
              "#fb9f3a"
             ],
             [
              0.8888888888888888,
              "#fdca26"
             ],
             [
              1,
              "#f0f921"
             ]
            ],
            "type": "histogram2d"
           }
          ],
          "histogram2dcontour": [
           {
            "colorbar": {
             "outlinewidth": 0,
             "ticks": ""
            },
            "colorscale": [
             [
              0,
              "#0d0887"
             ],
             [
              0.1111111111111111,
              "#46039f"
             ],
             [
              0.2222222222222222,
              "#7201a8"
             ],
             [
              0.3333333333333333,
              "#9c179e"
             ],
             [
              0.4444444444444444,
              "#bd3786"
             ],
             [
              0.5555555555555556,
              "#d8576b"
             ],
             [
              0.6666666666666666,
              "#ed7953"
             ],
             [
              0.7777777777777778,
              "#fb9f3a"
             ],
             [
              0.8888888888888888,
              "#fdca26"
             ],
             [
              1,
              "#f0f921"
             ]
            ],
            "type": "histogram2dcontour"
           }
          ],
          "mesh3d": [
           {
            "colorbar": {
             "outlinewidth": 0,
             "ticks": ""
            },
            "type": "mesh3d"
           }
          ],
          "parcoords": [
           {
            "line": {
             "colorbar": {
              "outlinewidth": 0,
              "ticks": ""
             }
            },
            "type": "parcoords"
           }
          ],
          "pie": [
           {
            "automargin": true,
            "type": "pie"
           }
          ],
          "scatter": [
           {
            "fillpattern": {
             "fillmode": "overlay",
             "size": 10,
             "solidity": 0.2
            },
            "type": "scatter"
           }
          ],
          "scatter3d": [
           {
            "line": {
             "colorbar": {
              "outlinewidth": 0,
              "ticks": ""
             }
            },
            "marker": {
             "colorbar": {
              "outlinewidth": 0,
              "ticks": ""
             }
            },
            "type": "scatter3d"
           }
          ],
          "scattercarpet": [
           {
            "marker": {
             "colorbar": {
              "outlinewidth": 0,
              "ticks": ""
             }
            },
            "type": "scattercarpet"
           }
          ],
          "scattergeo": [
           {
            "marker": {
             "colorbar": {
              "outlinewidth": 0,
              "ticks": ""
             }
            },
            "type": "scattergeo"
           }
          ],
          "scattergl": [
           {
            "marker": {
             "colorbar": {
              "outlinewidth": 0,
              "ticks": ""
             }
            },
            "type": "scattergl"
           }
          ],
          "scattermap": [
           {
            "marker": {
             "colorbar": {
              "outlinewidth": 0,
              "ticks": ""
             }
            },
            "type": "scattermap"
           }
          ],
          "scattermapbox": [
           {
            "marker": {
             "colorbar": {
              "outlinewidth": 0,
              "ticks": ""
             }
            },
            "type": "scattermapbox"
           }
          ],
          "scatterpolar": [
           {
            "marker": {
             "colorbar": {
              "outlinewidth": 0,
              "ticks": ""
             }
            },
            "type": "scatterpolar"
           }
          ],
          "scatterpolargl": [
           {
            "marker": {
             "colorbar": {
              "outlinewidth": 0,
              "ticks": ""
             }
            },
            "type": "scatterpolargl"
           }
          ],
          "scatterternary": [
           {
            "marker": {
             "colorbar": {
              "outlinewidth": 0,
              "ticks": ""
             }
            },
            "type": "scatterternary"
           }
          ],
          "surface": [
           {
            "colorbar": {
             "outlinewidth": 0,
             "ticks": ""
            },
            "colorscale": [
             [
              0,
              "#0d0887"
             ],
             [
              0.1111111111111111,
              "#46039f"
             ],
             [
              0.2222222222222222,
              "#7201a8"
             ],
             [
              0.3333333333333333,
              "#9c179e"
             ],
             [
              0.4444444444444444,
              "#bd3786"
             ],
             [
              0.5555555555555556,
              "#d8576b"
             ],
             [
              0.6666666666666666,
              "#ed7953"
             ],
             [
              0.7777777777777778,
              "#fb9f3a"
             ],
             [
              0.8888888888888888,
              "#fdca26"
             ],
             [
              1,
              "#f0f921"
             ]
            ],
            "type": "surface"
           }
          ],
          "table": [
           {
            "cells": {
             "fill": {
              "color": "#EBF0F8"
             },
             "line": {
              "color": "white"
             }
            },
            "header": {
             "fill": {
              "color": "#C8D4E3"
             },
             "line": {
              "color": "white"
             }
            },
            "type": "table"
           }
          ]
         },
         "layout": {
          "annotationdefaults": {
           "arrowcolor": "#2a3f5f",
           "arrowhead": 0,
           "arrowwidth": 1
          },
          "autotypenumbers": "strict",
          "coloraxis": {
           "colorbar": {
            "outlinewidth": 0,
            "ticks": ""
           }
          },
          "colorscale": {
           "diverging": [
            [
             0,
             "#8e0152"
            ],
            [
             0.1,
             "#c51b7d"
            ],
            [
             0.2,
             "#de77ae"
            ],
            [
             0.3,
             "#f1b6da"
            ],
            [
             0.4,
             "#fde0ef"
            ],
            [
             0.5,
             "#f7f7f7"
            ],
            [
             0.6,
             "#e6f5d0"
            ],
            [
             0.7,
             "#b8e186"
            ],
            [
             0.8,
             "#7fbc41"
            ],
            [
             0.9,
             "#4d9221"
            ],
            [
             1,
             "#276419"
            ]
           ],
           "sequential": [
            [
             0,
             "#0d0887"
            ],
            [
             0.1111111111111111,
             "#46039f"
            ],
            [
             0.2222222222222222,
             "#7201a8"
            ],
            [
             0.3333333333333333,
             "#9c179e"
            ],
            [
             0.4444444444444444,
             "#bd3786"
            ],
            [
             0.5555555555555556,
             "#d8576b"
            ],
            [
             0.6666666666666666,
             "#ed7953"
            ],
            [
             0.7777777777777778,
             "#fb9f3a"
            ],
            [
             0.8888888888888888,
             "#fdca26"
            ],
            [
             1,
             "#f0f921"
            ]
           ],
           "sequentialminus": [
            [
             0,
             "#0d0887"
            ],
            [
             0.1111111111111111,
             "#46039f"
            ],
            [
             0.2222222222222222,
             "#7201a8"
            ],
            [
             0.3333333333333333,
             "#9c179e"
            ],
            [
             0.4444444444444444,
             "#bd3786"
            ],
            [
             0.5555555555555556,
             "#d8576b"
            ],
            [
             0.6666666666666666,
             "#ed7953"
            ],
            [
             0.7777777777777778,
             "#fb9f3a"
            ],
            [
             0.8888888888888888,
             "#fdca26"
            ],
            [
             1,
             "#f0f921"
            ]
           ]
          },
          "colorway": [
           "#636efa",
           "#EF553B",
           "#00cc96",
           "#ab63fa",
           "#FFA15A",
           "#19d3f3",
           "#FF6692",
           "#B6E880",
           "#FF97FF",
           "#FECB52"
          ],
          "font": {
           "color": "#2a3f5f"
          },
          "geo": {
           "bgcolor": "white",
           "lakecolor": "white",
           "landcolor": "#E5ECF6",
           "showlakes": true,
           "showland": true,
           "subunitcolor": "white"
          },
          "hoverlabel": {
           "align": "left"
          },
          "hovermode": "closest",
          "mapbox": {
           "style": "light"
          },
          "paper_bgcolor": "white",
          "plot_bgcolor": "#E5ECF6",
          "polar": {
           "angularaxis": {
            "gridcolor": "white",
            "linecolor": "white",
            "ticks": ""
           },
           "bgcolor": "#E5ECF6",
           "radialaxis": {
            "gridcolor": "white",
            "linecolor": "white",
            "ticks": ""
           }
          },
          "scene": {
           "xaxis": {
            "backgroundcolor": "#E5ECF6",
            "gridcolor": "white",
            "gridwidth": 2,
            "linecolor": "white",
            "showbackground": true,
            "ticks": "",
            "zerolinecolor": "white"
           },
           "yaxis": {
            "backgroundcolor": "#E5ECF6",
            "gridcolor": "white",
            "gridwidth": 2,
            "linecolor": "white",
            "showbackground": true,
            "ticks": "",
            "zerolinecolor": "white"
           },
           "zaxis": {
            "backgroundcolor": "#E5ECF6",
            "gridcolor": "white",
            "gridwidth": 2,
            "linecolor": "white",
            "showbackground": true,
            "ticks": "",
            "zerolinecolor": "white"
           }
          },
          "shapedefaults": {
           "line": {
            "color": "#2a3f5f"
           }
          },
          "ternary": {
           "aaxis": {
            "gridcolor": "white",
            "linecolor": "white",
            "ticks": ""
           },
           "baxis": {
            "gridcolor": "white",
            "linecolor": "white",
            "ticks": ""
           },
           "bgcolor": "#E5ECF6",
           "caxis": {
            "gridcolor": "white",
            "linecolor": "white",
            "ticks": ""
           }
          },
          "title": {
           "x": 0.05
          },
          "xaxis": {
           "automargin": true,
           "gridcolor": "white",
           "linecolor": "white",
           "ticks": "",
           "title": {
            "standoff": 15
           },
           "zerolinecolor": "white",
           "zerolinewidth": 2
          },
          "yaxis": {
           "automargin": true,
           "gridcolor": "white",
           "linecolor": "white",
           "ticks": "",
           "title": {
            "standoff": 15
           },
           "zerolinecolor": "white",
           "zerolinewidth": 2
          }
         }
        },
        "title": {
         "text": "Actor Group vs Attack Context in Syrian Arab Republic",
         "x": 0.5
        },
        "xaxis": {
         "anchor": "y",
         "domain": [
          0,
          1
         ],
         "tickangle": -30,
         "title": {
          "text": "Actor Group"
         }
        },
        "yaxis": {
         "anchor": "x",
         "domain": [
          0,
          1
         ],
         "title": {
          "text": "Number of Incidents"
         }
        }
       }
      }
     },
     "metadata": {},
     "output_type": "display_data"
    },
    {
     "data": {
      "application/vnd.plotly.v1+json": {
       "config": {
        "plotlyServerURL": "https://plot.ly"
       },
       "data": [
        {
         "alignmentgroup": "True",
         "hovertemplate": "Attack context=Raid<br>Actor Group=%{x}<br>Number of Incidents=%{y}<extra></extra>",
         "legendgroup": "Raid",
         "marker": {
          "color": "rgb(103,0,13)",
          "pattern": {
           "shape": ""
          }
         },
         "name": "Raid",
         "offsetgroup": "Raid",
         "orientation": "v",
         "showlegend": true,
         "textposition": "auto",
         "type": "bar",
         "x": [
          "Criminal",
          "Individual",
          "Non-state Armed Group",
          "State Actor",
          "Unknown"
         ],
         "xaxis": "x",
         "y": {
          "bdata": "AQIUARQ=",
          "dtype": "i1"
         },
         "yaxis": "y"
        },
        {
         "alignmentgroup": "True",
         "hovertemplate": "Attack context=Ambush<br>Actor Group=%{x}<br>Number of Incidents=%{y}<extra></extra>",
         "legendgroup": "Ambush",
         "marker": {
          "color": "rgb(165,15,21)",
          "pattern": {
           "shape": ""
          }
         },
         "name": "Ambush",
         "offsetgroup": "Ambush",
         "orientation": "v",
         "showlegend": true,
         "textposition": "auto",
         "type": "bar",
         "x": [
          "Individual",
          "Non-state Armed Group",
          "State Actor",
          "Unknown"
         ],
         "xaxis": "x",
         "y": {
          "bdata": "Ah8FMg==",
          "dtype": "i1"
         },
         "yaxis": "y"
        },
        {
         "alignmentgroup": "True",
         "hovertemplate": "Attack context=Individual attack<br>Actor Group=%{x}<br>Number of Incidents=%{y}<extra></extra>",
         "legendgroup": "Individual attack",
         "marker": {
          "color": "rgb(203,24,29)",
          "pattern": {
           "shape": ""
          }
         },
         "name": "Individual attack",
         "offsetgroup": "Individual attack",
         "orientation": "v",
         "showlegend": true,
         "textposition": "auto",
         "type": "bar",
         "x": [
          "Individual",
          "Non-state Armed Group",
          "State Actor",
          "Unknown"
         ],
         "xaxis": "x",
         "y": {
          "bdata": "DBEGLw==",
          "dtype": "i1"
         },
         "yaxis": "y"
        },
        {
         "alignmentgroup": "True",
         "hovertemplate": "Attack context=Mob violence<br>Actor Group=%{x}<br>Number of Incidents=%{y}<extra></extra>",
         "legendgroup": "Mob violence",
         "marker": {
          "color": "rgb(239,59,44)",
          "pattern": {
           "shape": ""
          }
         },
         "name": "Mob violence",
         "offsetgroup": "Mob violence",
         "orientation": "v",
         "showlegend": true,
         "textposition": "auto",
         "type": "bar",
         "x": [
          "Individual"
         ],
         "xaxis": "x",
         "y": {
          "bdata": "Aw==",
          "dtype": "i1"
         },
         "yaxis": "y"
        },
        {
         "alignmentgroup": "True",
         "hovertemplate": "Attack context=Unknown<br>Actor Group=%{x}<br>Number of Incidents=%{y}<extra></extra>",
         "legendgroup": "Unknown",
         "marker": {
          "color": "rgb(251,106,74)",
          "pattern": {
           "shape": ""
          }
         },
         "name": "Unknown",
         "offsetgroup": "Unknown",
         "orientation": "v",
         "showlegend": true,
         "textposition": "auto",
         "type": "bar",
         "x": [
          "Individual",
          "Non-state Armed Group",
          "State Actor",
          "Unknown"
         ],
         "xaxis": "x",
         "y": {
          "bdata": "AxcEHw==",
          "dtype": "i1"
         },
         "yaxis": "y"
        },
        {
         "alignmentgroup": "True",
         "hovertemplate": "Attack context=Combat/Crossfire<br>Actor Group=%{x}<br>Number of Incidents=%{y}<extra></extra>",
         "legendgroup": "Combat/Crossfire",
         "marker": {
          "color": "rgb(252,146,114)",
          "pattern": {
           "shape": ""
          }
         },
         "name": "Combat/Crossfire",
         "offsetgroup": "Combat/Crossfire",
         "orientation": "v",
         "showlegend": true,
         "textposition": "auto",
         "type": "bar",
         "x": [
          "Non-state Armed Group",
          "State Actor",
          "Unknown"
         ],
         "xaxis": "x",
         "y": {
          "bdata": "FQML",
          "dtype": "i1"
         },
         "yaxis": "y"
        },
        {
         "alignmentgroup": "True",
         "hovertemplate": "Attack context=Detention<br>Actor Group=%{x}<br>Number of Incidents=%{y}<extra></extra>",
         "legendgroup": "Detention",
         "marker": {
          "color": "rgb(252,187,161)",
          "pattern": {
           "shape": ""
          }
         },
         "name": "Detention",
         "offsetgroup": "Detention",
         "orientation": "v",
         "showlegend": true,
         "textposition": "auto",
         "type": "bar",
         "x": [
          "State Actor",
          "Unknown"
         ],
         "xaxis": "x",
         "y": {
          "bdata": "AQE=",
          "dtype": "i1"
         },
         "yaxis": "y"
        }
       ],
       "layout": {
        "barmode": "group",
        "legend": {
         "title": {
          "text": "Attack context"
         },
         "tracegroupgap": 0
        },
        "margin": {
         "b": 40,
         "l": 40,
         "r": 40,
         "t": 60
        },
        "paper_bgcolor": "white",
        "plot_bgcolor": "white",
        "template": {
         "data": {
          "bar": [
           {
            "error_x": {
             "color": "#2a3f5f"
            },
            "error_y": {
             "color": "#2a3f5f"
            },
            "marker": {
             "line": {
              "color": "#E5ECF6",
              "width": 0.5
             },
             "pattern": {
              "fillmode": "overlay",
              "size": 10,
              "solidity": 0.2
             }
            },
            "type": "bar"
           }
          ],
          "barpolar": [
           {
            "marker": {
             "line": {
              "color": "#E5ECF6",
              "width": 0.5
             },
             "pattern": {
              "fillmode": "overlay",
              "size": 10,
              "solidity": 0.2
             }
            },
            "type": "barpolar"
           }
          ],
          "carpet": [
           {
            "aaxis": {
             "endlinecolor": "#2a3f5f",
             "gridcolor": "white",
             "linecolor": "white",
             "minorgridcolor": "white",
             "startlinecolor": "#2a3f5f"
            },
            "baxis": {
             "endlinecolor": "#2a3f5f",
             "gridcolor": "white",
             "linecolor": "white",
             "minorgridcolor": "white",
             "startlinecolor": "#2a3f5f"
            },
            "type": "carpet"
           }
          ],
          "choropleth": [
           {
            "colorbar": {
             "outlinewidth": 0,
             "ticks": ""
            },
            "type": "choropleth"
           }
          ],
          "contour": [
           {
            "colorbar": {
             "outlinewidth": 0,
             "ticks": ""
            },
            "colorscale": [
             [
              0,
              "#0d0887"
             ],
             [
              0.1111111111111111,
              "#46039f"
             ],
             [
              0.2222222222222222,
              "#7201a8"
             ],
             [
              0.3333333333333333,
              "#9c179e"
             ],
             [
              0.4444444444444444,
              "#bd3786"
             ],
             [
              0.5555555555555556,
              "#d8576b"
             ],
             [
              0.6666666666666666,
              "#ed7953"
             ],
             [
              0.7777777777777778,
              "#fb9f3a"
             ],
             [
              0.8888888888888888,
              "#fdca26"
             ],
             [
              1,
              "#f0f921"
             ]
            ],
            "type": "contour"
           }
          ],
          "contourcarpet": [
           {
            "colorbar": {
             "outlinewidth": 0,
             "ticks": ""
            },
            "type": "contourcarpet"
           }
          ],
          "heatmap": [
           {
            "colorbar": {
             "outlinewidth": 0,
             "ticks": ""
            },
            "colorscale": [
             [
              0,
              "#0d0887"
             ],
             [
              0.1111111111111111,
              "#46039f"
             ],
             [
              0.2222222222222222,
              "#7201a8"
             ],
             [
              0.3333333333333333,
              "#9c179e"
             ],
             [
              0.4444444444444444,
              "#bd3786"
             ],
             [
              0.5555555555555556,
              "#d8576b"
             ],
             [
              0.6666666666666666,
              "#ed7953"
             ],
             [
              0.7777777777777778,
              "#fb9f3a"
             ],
             [
              0.8888888888888888,
              "#fdca26"
             ],
             [
              1,
              "#f0f921"
             ]
            ],
            "type": "heatmap"
           }
          ],
          "histogram": [
           {
            "marker": {
             "pattern": {
              "fillmode": "overlay",
              "size": 10,
              "solidity": 0.2
             }
            },
            "type": "histogram"
           }
          ],
          "histogram2d": [
           {
            "colorbar": {
             "outlinewidth": 0,
             "ticks": ""
            },
            "colorscale": [
             [
              0,
              "#0d0887"
             ],
             [
              0.1111111111111111,
              "#46039f"
             ],
             [
              0.2222222222222222,
              "#7201a8"
             ],
             [
              0.3333333333333333,
              "#9c179e"
             ],
             [
              0.4444444444444444,
              "#bd3786"
             ],
             [
              0.5555555555555556,
              "#d8576b"
             ],
             [
              0.6666666666666666,
              "#ed7953"
             ],
             [
              0.7777777777777778,
              "#fb9f3a"
             ],
             [
              0.8888888888888888,
              "#fdca26"
             ],
             [
              1,
              "#f0f921"
             ]
            ],
            "type": "histogram2d"
           }
          ],
          "histogram2dcontour": [
           {
            "colorbar": {
             "outlinewidth": 0,
             "ticks": ""
            },
            "colorscale": [
             [
              0,
              "#0d0887"
             ],
             [
              0.1111111111111111,
              "#46039f"
             ],
             [
              0.2222222222222222,
              "#7201a8"
             ],
             [
              0.3333333333333333,
              "#9c179e"
             ],
             [
              0.4444444444444444,
              "#bd3786"
             ],
             [
              0.5555555555555556,
              "#d8576b"
             ],
             [
              0.6666666666666666,
              "#ed7953"
             ],
             [
              0.7777777777777778,
              "#fb9f3a"
             ],
             [
              0.8888888888888888,
              "#fdca26"
             ],
             [
              1,
              "#f0f921"
             ]
            ],
            "type": "histogram2dcontour"
           }
          ],
          "mesh3d": [
           {
            "colorbar": {
             "outlinewidth": 0,
             "ticks": ""
            },
            "type": "mesh3d"
           }
          ],
          "parcoords": [
           {
            "line": {
             "colorbar": {
              "outlinewidth": 0,
              "ticks": ""
             }
            },
            "type": "parcoords"
           }
          ],
          "pie": [
           {
            "automargin": true,
            "type": "pie"
           }
          ],
          "scatter": [
           {
            "fillpattern": {
             "fillmode": "overlay",
             "size": 10,
             "solidity": 0.2
            },
            "type": "scatter"
           }
          ],
          "scatter3d": [
           {
            "line": {
             "colorbar": {
              "outlinewidth": 0,
              "ticks": ""
             }
            },
            "marker": {
             "colorbar": {
              "outlinewidth": 0,
              "ticks": ""
             }
            },
            "type": "scatter3d"
           }
          ],
          "scattercarpet": [
           {
            "marker": {
             "colorbar": {
              "outlinewidth": 0,
              "ticks": ""
             }
            },
            "type": "scattercarpet"
           }
          ],
          "scattergeo": [
           {
            "marker": {
             "colorbar": {
              "outlinewidth": 0,
              "ticks": ""
             }
            },
            "type": "scattergeo"
           }
          ],
          "scattergl": [
           {
            "marker": {
             "colorbar": {
              "outlinewidth": 0,
              "ticks": ""
             }
            },
            "type": "scattergl"
           }
          ],
          "scattermap": [
           {
            "marker": {
             "colorbar": {
              "outlinewidth": 0,
              "ticks": ""
             }
            },
            "type": "scattermap"
           }
          ],
          "scattermapbox": [
           {
            "marker": {
             "colorbar": {
              "outlinewidth": 0,
              "ticks": ""
             }
            },
            "type": "scattermapbox"
           }
          ],
          "scatterpolar": [
           {
            "marker": {
             "colorbar": {
              "outlinewidth": 0,
              "ticks": ""
             }
            },
            "type": "scatterpolar"
           }
          ],
          "scatterpolargl": [
           {
            "marker": {
             "colorbar": {
              "outlinewidth": 0,
              "ticks": ""
             }
            },
            "type": "scatterpolargl"
           }
          ],
          "scatterternary": [
           {
            "marker": {
             "colorbar": {
              "outlinewidth": 0,
              "ticks": ""
             }
            },
            "type": "scatterternary"
           }
          ],
          "surface": [
           {
            "colorbar": {
             "outlinewidth": 0,
             "ticks": ""
            },
            "colorscale": [
             [
              0,
              "#0d0887"
             ],
             [
              0.1111111111111111,
              "#46039f"
             ],
             [
              0.2222222222222222,
              "#7201a8"
             ],
             [
              0.3333333333333333,
              "#9c179e"
             ],
             [
              0.4444444444444444,
              "#bd3786"
             ],
             [
              0.5555555555555556,
              "#d8576b"
             ],
             [
              0.6666666666666666,
              "#ed7953"
             ],
             [
              0.7777777777777778,
              "#fb9f3a"
             ],
             [
              0.8888888888888888,
              "#fdca26"
             ],
             [
              1,
              "#f0f921"
             ]
            ],
            "type": "surface"
           }
          ],
          "table": [
           {
            "cells": {
             "fill": {
              "color": "#EBF0F8"
             },
             "line": {
              "color": "white"
             }
            },
            "header": {
             "fill": {
              "color": "#C8D4E3"
             },
             "line": {
              "color": "white"
             }
            },
            "type": "table"
           }
          ]
         },
         "layout": {
          "annotationdefaults": {
           "arrowcolor": "#2a3f5f",
           "arrowhead": 0,
           "arrowwidth": 1
          },
          "autotypenumbers": "strict",
          "coloraxis": {
           "colorbar": {
            "outlinewidth": 0,
            "ticks": ""
           }
          },
          "colorscale": {
           "diverging": [
            [
             0,
             "#8e0152"
            ],
            [
             0.1,
             "#c51b7d"
            ],
            [
             0.2,
             "#de77ae"
            ],
            [
             0.3,
             "#f1b6da"
            ],
            [
             0.4,
             "#fde0ef"
            ],
            [
             0.5,
             "#f7f7f7"
            ],
            [
             0.6,
             "#e6f5d0"
            ],
            [
             0.7,
             "#b8e186"
            ],
            [
             0.8,
             "#7fbc41"
            ],
            [
             0.9,
             "#4d9221"
            ],
            [
             1,
             "#276419"
            ]
           ],
           "sequential": [
            [
             0,
             "#0d0887"
            ],
            [
             0.1111111111111111,
             "#46039f"
            ],
            [
             0.2222222222222222,
             "#7201a8"
            ],
            [
             0.3333333333333333,
             "#9c179e"
            ],
            [
             0.4444444444444444,
             "#bd3786"
            ],
            [
             0.5555555555555556,
             "#d8576b"
            ],
            [
             0.6666666666666666,
             "#ed7953"
            ],
            [
             0.7777777777777778,
             "#fb9f3a"
            ],
            [
             0.8888888888888888,
             "#fdca26"
            ],
            [
             1,
             "#f0f921"
            ]
           ],
           "sequentialminus": [
            [
             0,
             "#0d0887"
            ],
            [
             0.1111111111111111,
             "#46039f"
            ],
            [
             0.2222222222222222,
             "#7201a8"
            ],
            [
             0.3333333333333333,
             "#9c179e"
            ],
            [
             0.4444444444444444,
             "#bd3786"
            ],
            [
             0.5555555555555556,
             "#d8576b"
            ],
            [
             0.6666666666666666,
             "#ed7953"
            ],
            [
             0.7777777777777778,
             "#fb9f3a"
            ],
            [
             0.8888888888888888,
             "#fdca26"
            ],
            [
             1,
             "#f0f921"
            ]
           ]
          },
          "colorway": [
           "#636efa",
           "#EF553B",
           "#00cc96",
           "#ab63fa",
           "#FFA15A",
           "#19d3f3",
           "#FF6692",
           "#B6E880",
           "#FF97FF",
           "#FECB52"
          ],
          "font": {
           "color": "#2a3f5f"
          },
          "geo": {
           "bgcolor": "white",
           "lakecolor": "white",
           "landcolor": "#E5ECF6",
           "showlakes": true,
           "showland": true,
           "subunitcolor": "white"
          },
          "hoverlabel": {
           "align": "left"
          },
          "hovermode": "closest",
          "mapbox": {
           "style": "light"
          },
          "paper_bgcolor": "white",
          "plot_bgcolor": "#E5ECF6",
          "polar": {
           "angularaxis": {
            "gridcolor": "white",
            "linecolor": "white",
            "ticks": ""
           },
           "bgcolor": "#E5ECF6",
           "radialaxis": {
            "gridcolor": "white",
            "linecolor": "white",
            "ticks": ""
           }
          },
          "scene": {
           "xaxis": {
            "backgroundcolor": "#E5ECF6",
            "gridcolor": "white",
            "gridwidth": 2,
            "linecolor": "white",
            "showbackground": true,
            "ticks": "",
            "zerolinecolor": "white"
           },
           "yaxis": {
            "backgroundcolor": "#E5ECF6",
            "gridcolor": "white",
            "gridwidth": 2,
            "linecolor": "white",
            "showbackground": true,
            "ticks": "",
            "zerolinecolor": "white"
           },
           "zaxis": {
            "backgroundcolor": "#E5ECF6",
            "gridcolor": "white",
            "gridwidth": 2,
            "linecolor": "white",
            "showbackground": true,
            "ticks": "",
            "zerolinecolor": "white"
           }
          },
          "shapedefaults": {
           "line": {
            "color": "#2a3f5f"
           }
          },
          "ternary": {
           "aaxis": {
            "gridcolor": "white",
            "linecolor": "white",
            "ticks": ""
           },
           "baxis": {
            "gridcolor": "white",
            "linecolor": "white",
            "ticks": ""
           },
           "bgcolor": "#E5ECF6",
           "caxis": {
            "gridcolor": "white",
            "linecolor": "white",
            "ticks": ""
           }
          },
          "title": {
           "x": 0.05
          },
          "xaxis": {
           "automargin": true,
           "gridcolor": "white",
           "linecolor": "white",
           "ticks": "",
           "title": {
            "standoff": 15
           },
           "zerolinecolor": "white",
           "zerolinewidth": 2
          },
          "yaxis": {
           "automargin": true,
           "gridcolor": "white",
           "linecolor": "white",
           "ticks": "",
           "title": {
            "standoff": 15
           },
           "zerolinecolor": "white",
           "zerolinewidth": 2
          }
         }
        },
        "title": {
         "text": "Actor Group vs Attack Context in Somalia",
         "x": 0.5
        },
        "xaxis": {
         "anchor": "y",
         "domain": [
          0,
          1
         ],
         "tickangle": -30,
         "title": {
          "text": "Actor Group"
         }
        },
        "yaxis": {
         "anchor": "x",
         "domain": [
          0,
          1
         ],
         "title": {
          "text": "Number of Incidents"
         }
        }
       }
      }
     },
     "metadata": {},
     "output_type": "display_data"
    },
    {
     "data": {
      "application/vnd.plotly.v1+json": {
       "config": {
        "plotlyServerURL": "https://plot.ly"
       },
       "data": [
        {
         "alignmentgroup": "True",
         "hovertemplate": "Attack context=Individual attack<br>Actor Group=%{x}<br>Number of Incidents=%{y}<extra></extra>",
         "legendgroup": "Individual attack",
         "marker": {
          "color": "rgb(103,0,13)",
          "pattern": {
           "shape": ""
          }
         },
         "name": "Individual attack",
         "offsetgroup": "Individual attack",
         "orientation": "v",
         "showlegend": true,
         "textposition": "auto",
         "type": "bar",
         "x": [
          "Criminal",
          "Individual",
          "Non-state Armed Group",
          "State Actor",
          "Unknown"
         ],
         "xaxis": "x",
         "y": {
          "bdata": "AQMBCwI=",
          "dtype": "i1"
         },
         "yaxis": "y"
        },
        {
         "alignmentgroup": "True",
         "hovertemplate": "Attack context=Raid<br>Actor Group=%{x}<br>Number of Incidents=%{y}<extra></extra>",
         "legendgroup": "Raid",
         "marker": {
          "color": "rgb(165,15,21)",
          "pattern": {
           "shape": ""
          }
         },
         "name": "Raid",
         "offsetgroup": "Raid",
         "orientation": "v",
         "showlegend": true,
         "textposition": "auto",
         "type": "bar",
         "x": [
          "Criminal",
          "State Actor",
          "Unknown"
         ],
         "xaxis": "x",
         "y": {
          "bdata": "AQEB",
          "dtype": "i1"
         },
         "yaxis": "y"
        },
        {
         "alignmentgroup": "True",
         "hovertemplate": "Attack context=Ambush<br>Actor Group=%{x}<br>Number of Incidents=%{y}<extra></extra>",
         "legendgroup": "Ambush",
         "marker": {
          "color": "rgb(203,24,29)",
          "pattern": {
           "shape": ""
          }
         },
         "name": "Ambush",
         "offsetgroup": "Ambush",
         "orientation": "v",
         "showlegend": true,
         "textposition": "auto",
         "type": "bar",
         "x": [
          "State Actor",
          "Unknown"
         ],
         "xaxis": "x",
         "y": {
          "bdata": "BQI=",
          "dtype": "i1"
         },
         "yaxis": "y"
        },
        {
         "alignmentgroup": "True",
         "hovertemplate": "Attack context=Combat/Crossfire<br>Actor Group=%{x}<br>Number of Incidents=%{y}<extra></extra>",
         "legendgroup": "Combat/Crossfire",
         "marker": {
          "color": "rgb(239,59,44)",
          "pattern": {
           "shape": ""
          }
         },
         "name": "Combat/Crossfire",
         "offsetgroup": "Combat/Crossfire",
         "orientation": "v",
         "showlegend": true,
         "textposition": "auto",
         "type": "bar",
         "x": [
          "State Actor",
          "Unknown"
         ],
         "xaxis": "x",
         "y": {
          "bdata": "TSM=",
          "dtype": "i1"
         },
         "yaxis": "y"
        },
        {
         "alignmentgroup": "True",
         "hovertemplate": "Attack context=Detention<br>Actor Group=%{x}<br>Number of Incidents=%{y}<extra></extra>",
         "legendgroup": "Detention",
         "marker": {
          "color": "rgb(251,106,74)",
          "pattern": {
           "shape": ""
          }
         },
         "name": "Detention",
         "offsetgroup": "Detention",
         "orientation": "v",
         "showlegend": true,
         "textposition": "auto",
         "type": "bar",
         "x": [
          "State Actor"
         ],
         "xaxis": "x",
         "y": {
          "bdata": "AQ==",
          "dtype": "i1"
         },
         "yaxis": "y"
        },
        {
         "alignmentgroup": "True",
         "hovertemplate": "Attack context=Unknown<br>Actor Group=%{x}<br>Number of Incidents=%{y}<extra></extra>",
         "legendgroup": "Unknown",
         "marker": {
          "color": "rgb(252,146,114)",
          "pattern": {
           "shape": ""
          }
         },
         "name": "Unknown",
         "offsetgroup": "Unknown",
         "orientation": "v",
         "showlegend": true,
         "textposition": "auto",
         "type": "bar",
         "x": [
          "State Actor",
          "Unknown"
         ],
         "xaxis": "x",
         "y": {
          "bdata": "BQs=",
          "dtype": "i1"
         },
         "yaxis": "y"
        }
       ],
       "layout": {
        "barmode": "group",
        "legend": {
         "title": {
          "text": "Attack context"
         },
         "tracegroupgap": 0
        },
        "margin": {
         "b": 40,
         "l": 40,
         "r": 40,
         "t": 60
        },
        "paper_bgcolor": "white",
        "plot_bgcolor": "white",
        "template": {
         "data": {
          "bar": [
           {
            "error_x": {
             "color": "#2a3f5f"
            },
            "error_y": {
             "color": "#2a3f5f"
            },
            "marker": {
             "line": {
              "color": "#E5ECF6",
              "width": 0.5
             },
             "pattern": {
              "fillmode": "overlay",
              "size": 10,
              "solidity": 0.2
             }
            },
            "type": "bar"
           }
          ],
          "barpolar": [
           {
            "marker": {
             "line": {
              "color": "#E5ECF6",
              "width": 0.5
             },
             "pattern": {
              "fillmode": "overlay",
              "size": 10,
              "solidity": 0.2
             }
            },
            "type": "barpolar"
           }
          ],
          "carpet": [
           {
            "aaxis": {
             "endlinecolor": "#2a3f5f",
             "gridcolor": "white",
             "linecolor": "white",
             "minorgridcolor": "white",
             "startlinecolor": "#2a3f5f"
            },
            "baxis": {
             "endlinecolor": "#2a3f5f",
             "gridcolor": "white",
             "linecolor": "white",
             "minorgridcolor": "white",
             "startlinecolor": "#2a3f5f"
            },
            "type": "carpet"
           }
          ],
          "choropleth": [
           {
            "colorbar": {
             "outlinewidth": 0,
             "ticks": ""
            },
            "type": "choropleth"
           }
          ],
          "contour": [
           {
            "colorbar": {
             "outlinewidth": 0,
             "ticks": ""
            },
            "colorscale": [
             [
              0,
              "#0d0887"
             ],
             [
              0.1111111111111111,
              "#46039f"
             ],
             [
              0.2222222222222222,
              "#7201a8"
             ],
             [
              0.3333333333333333,
              "#9c179e"
             ],
             [
              0.4444444444444444,
              "#bd3786"
             ],
             [
              0.5555555555555556,
              "#d8576b"
             ],
             [
              0.6666666666666666,
              "#ed7953"
             ],
             [
              0.7777777777777778,
              "#fb9f3a"
             ],
             [
              0.8888888888888888,
              "#fdca26"
             ],
             [
              1,
              "#f0f921"
             ]
            ],
            "type": "contour"
           }
          ],
          "contourcarpet": [
           {
            "colorbar": {
             "outlinewidth": 0,
             "ticks": ""
            },
            "type": "contourcarpet"
           }
          ],
          "heatmap": [
           {
            "colorbar": {
             "outlinewidth": 0,
             "ticks": ""
            },
            "colorscale": [
             [
              0,
              "#0d0887"
             ],
             [
              0.1111111111111111,
              "#46039f"
             ],
             [
              0.2222222222222222,
              "#7201a8"
             ],
             [
              0.3333333333333333,
              "#9c179e"
             ],
             [
              0.4444444444444444,
              "#bd3786"
             ],
             [
              0.5555555555555556,
              "#d8576b"
             ],
             [
              0.6666666666666666,
              "#ed7953"
             ],
             [
              0.7777777777777778,
              "#fb9f3a"
             ],
             [
              0.8888888888888888,
              "#fdca26"
             ],
             [
              1,
              "#f0f921"
             ]
            ],
            "type": "heatmap"
           }
          ],
          "histogram": [
           {
            "marker": {
             "pattern": {
              "fillmode": "overlay",
              "size": 10,
              "solidity": 0.2
             }
            },
            "type": "histogram"
           }
          ],
          "histogram2d": [
           {
            "colorbar": {
             "outlinewidth": 0,
             "ticks": ""
            },
            "colorscale": [
             [
              0,
              "#0d0887"
             ],
             [
              0.1111111111111111,
              "#46039f"
             ],
             [
              0.2222222222222222,
              "#7201a8"
             ],
             [
              0.3333333333333333,
              "#9c179e"
             ],
             [
              0.4444444444444444,
              "#bd3786"
             ],
             [
              0.5555555555555556,
              "#d8576b"
             ],
             [
              0.6666666666666666,
              "#ed7953"
             ],
             [
              0.7777777777777778,
              "#fb9f3a"
             ],
             [
              0.8888888888888888,
              "#fdca26"
             ],
             [
              1,
              "#f0f921"
             ]
            ],
            "type": "histogram2d"
           }
          ],
          "histogram2dcontour": [
           {
            "colorbar": {
             "outlinewidth": 0,
             "ticks": ""
            },
            "colorscale": [
             [
              0,
              "#0d0887"
             ],
             [
              0.1111111111111111,
              "#46039f"
             ],
             [
              0.2222222222222222,
              "#7201a8"
             ],
             [
              0.3333333333333333,
              "#9c179e"
             ],
             [
              0.4444444444444444,
              "#bd3786"
             ],
             [
              0.5555555555555556,
              "#d8576b"
             ],
             [
              0.6666666666666666,
              "#ed7953"
             ],
             [
              0.7777777777777778,
              "#fb9f3a"
             ],
             [
              0.8888888888888888,
              "#fdca26"
             ],
             [
              1,
              "#f0f921"
             ]
            ],
            "type": "histogram2dcontour"
           }
          ],
          "mesh3d": [
           {
            "colorbar": {
             "outlinewidth": 0,
             "ticks": ""
            },
            "type": "mesh3d"
           }
          ],
          "parcoords": [
           {
            "line": {
             "colorbar": {
              "outlinewidth": 0,
              "ticks": ""
             }
            },
            "type": "parcoords"
           }
          ],
          "pie": [
           {
            "automargin": true,
            "type": "pie"
           }
          ],
          "scatter": [
           {
            "fillpattern": {
             "fillmode": "overlay",
             "size": 10,
             "solidity": 0.2
            },
            "type": "scatter"
           }
          ],
          "scatter3d": [
           {
            "line": {
             "colorbar": {
              "outlinewidth": 0,
              "ticks": ""
             }
            },
            "marker": {
             "colorbar": {
              "outlinewidth": 0,
              "ticks": ""
             }
            },
            "type": "scatter3d"
           }
          ],
          "scattercarpet": [
           {
            "marker": {
             "colorbar": {
              "outlinewidth": 0,
              "ticks": ""
             }
            },
            "type": "scattercarpet"
           }
          ],
          "scattergeo": [
           {
            "marker": {
             "colorbar": {
              "outlinewidth": 0,
              "ticks": ""
             }
            },
            "type": "scattergeo"
           }
          ],
          "scattergl": [
           {
            "marker": {
             "colorbar": {
              "outlinewidth": 0,
              "ticks": ""
             }
            },
            "type": "scattergl"
           }
          ],
          "scattermap": [
           {
            "marker": {
             "colorbar": {
              "outlinewidth": 0,
              "ticks": ""
             }
            },
            "type": "scattermap"
           }
          ],
          "scattermapbox": [
           {
            "marker": {
             "colorbar": {
              "outlinewidth": 0,
              "ticks": ""
             }
            },
            "type": "scattermapbox"
           }
          ],
          "scatterpolar": [
           {
            "marker": {
             "colorbar": {
              "outlinewidth": 0,
              "ticks": ""
             }
            },
            "type": "scatterpolar"
           }
          ],
          "scatterpolargl": [
           {
            "marker": {
             "colorbar": {
              "outlinewidth": 0,
              "ticks": ""
             }
            },
            "type": "scatterpolargl"
           }
          ],
          "scatterternary": [
           {
            "marker": {
             "colorbar": {
              "outlinewidth": 0,
              "ticks": ""
             }
            },
            "type": "scatterternary"
           }
          ],
          "surface": [
           {
            "colorbar": {
             "outlinewidth": 0,
             "ticks": ""
            },
            "colorscale": [
             [
              0,
              "#0d0887"
             ],
             [
              0.1111111111111111,
              "#46039f"
             ],
             [
              0.2222222222222222,
              "#7201a8"
             ],
             [
              0.3333333333333333,
              "#9c179e"
             ],
             [
              0.4444444444444444,
              "#bd3786"
             ],
             [
              0.5555555555555556,
              "#d8576b"
             ],
             [
              0.6666666666666666,
              "#ed7953"
             ],
             [
              0.7777777777777778,
              "#fb9f3a"
             ],
             [
              0.8888888888888888,
              "#fdca26"
             ],
             [
              1,
              "#f0f921"
             ]
            ],
            "type": "surface"
           }
          ],
          "table": [
           {
            "cells": {
             "fill": {
              "color": "#EBF0F8"
             },
             "line": {
              "color": "white"
             }
            },
            "header": {
             "fill": {
              "color": "#C8D4E3"
             },
             "line": {
              "color": "white"
             }
            },
            "type": "table"
           }
          ]
         },
         "layout": {
          "annotationdefaults": {
           "arrowcolor": "#2a3f5f",
           "arrowhead": 0,
           "arrowwidth": 1
          },
          "autotypenumbers": "strict",
          "coloraxis": {
           "colorbar": {
            "outlinewidth": 0,
            "ticks": ""
           }
          },
          "colorscale": {
           "diverging": [
            [
             0,
             "#8e0152"
            ],
            [
             0.1,
             "#c51b7d"
            ],
            [
             0.2,
             "#de77ae"
            ],
            [
             0.3,
             "#f1b6da"
            ],
            [
             0.4,
             "#fde0ef"
            ],
            [
             0.5,
             "#f7f7f7"
            ],
            [
             0.6,
             "#e6f5d0"
            ],
            [
             0.7,
             "#b8e186"
            ],
            [
             0.8,
             "#7fbc41"
            ],
            [
             0.9,
             "#4d9221"
            ],
            [
             1,
             "#276419"
            ]
           ],
           "sequential": [
            [
             0,
             "#0d0887"
            ],
            [
             0.1111111111111111,
             "#46039f"
            ],
            [
             0.2222222222222222,
             "#7201a8"
            ],
            [
             0.3333333333333333,
             "#9c179e"
            ],
            [
             0.4444444444444444,
             "#bd3786"
            ],
            [
             0.5555555555555556,
             "#d8576b"
            ],
            [
             0.6666666666666666,
             "#ed7953"
            ],
            [
             0.7777777777777778,
             "#fb9f3a"
            ],
            [
             0.8888888888888888,
             "#fdca26"
            ],
            [
             1,
             "#f0f921"
            ]
           ],
           "sequentialminus": [
            [
             0,
             "#0d0887"
            ],
            [
             0.1111111111111111,
             "#46039f"
            ],
            [
             0.2222222222222222,
             "#7201a8"
            ],
            [
             0.3333333333333333,
             "#9c179e"
            ],
            [
             0.4444444444444444,
             "#bd3786"
            ],
            [
             0.5555555555555556,
             "#d8576b"
            ],
            [
             0.6666666666666666,
             "#ed7953"
            ],
            [
             0.7777777777777778,
             "#fb9f3a"
            ],
            [
             0.8888888888888888,
             "#fdca26"
            ],
            [
             1,
             "#f0f921"
            ]
           ]
          },
          "colorway": [
           "#636efa",
           "#EF553B",
           "#00cc96",
           "#ab63fa",
           "#FFA15A",
           "#19d3f3",
           "#FF6692",
           "#B6E880",
           "#FF97FF",
           "#FECB52"
          ],
          "font": {
           "color": "#2a3f5f"
          },
          "geo": {
           "bgcolor": "white",
           "lakecolor": "white",
           "landcolor": "#E5ECF6",
           "showlakes": true,
           "showland": true,
           "subunitcolor": "white"
          },
          "hoverlabel": {
           "align": "left"
          },
          "hovermode": "closest",
          "mapbox": {
           "style": "light"
          },
          "paper_bgcolor": "white",
          "plot_bgcolor": "#E5ECF6",
          "polar": {
           "angularaxis": {
            "gridcolor": "white",
            "linecolor": "white",
            "ticks": ""
           },
           "bgcolor": "#E5ECF6",
           "radialaxis": {
            "gridcolor": "white",
            "linecolor": "white",
            "ticks": ""
           }
          },
          "scene": {
           "xaxis": {
            "backgroundcolor": "#E5ECF6",
            "gridcolor": "white",
            "gridwidth": 2,
            "linecolor": "white",
            "showbackground": true,
            "ticks": "",
            "zerolinecolor": "white"
           },
           "yaxis": {
            "backgroundcolor": "#E5ECF6",
            "gridcolor": "white",
            "gridwidth": 2,
            "linecolor": "white",
            "showbackground": true,
            "ticks": "",
            "zerolinecolor": "white"
           },
           "zaxis": {
            "backgroundcolor": "#E5ECF6",
            "gridcolor": "white",
            "gridwidth": 2,
            "linecolor": "white",
            "showbackground": true,
            "ticks": "",
            "zerolinecolor": "white"
           }
          },
          "shapedefaults": {
           "line": {
            "color": "#2a3f5f"
           }
          },
          "ternary": {
           "aaxis": {
            "gridcolor": "white",
            "linecolor": "white",
            "ticks": ""
           },
           "baxis": {
            "gridcolor": "white",
            "linecolor": "white",
            "ticks": ""
           },
           "bgcolor": "#E5ECF6",
           "caxis": {
            "gridcolor": "white",
            "linecolor": "white",
            "ticks": ""
           }
          },
          "title": {
           "x": 0.05
          },
          "xaxis": {
           "automargin": true,
           "gridcolor": "white",
           "linecolor": "white",
           "ticks": "",
           "title": {
            "standoff": 15
           },
           "zerolinecolor": "white",
           "zerolinewidth": 2
          },
          "yaxis": {
           "automargin": true,
           "gridcolor": "white",
           "linecolor": "white",
           "ticks": "",
           "title": {
            "standoff": 15
           },
           "zerolinecolor": "white",
           "zerolinewidth": 2
          }
         }
        },
        "title": {
         "text": "Actor Group vs Attack Context in Occupied Palestinian Territories",
         "x": 0.5
        },
        "xaxis": {
         "anchor": "y",
         "domain": [
          0,
          1
         ],
         "tickangle": -30,
         "title": {
          "text": "Actor Group"
         }
        },
        "yaxis": {
         "anchor": "x",
         "domain": [
          0,
          1
         ],
         "title": {
          "text": "Number of Incidents"
         }
        }
       }
      }
     },
     "metadata": {},
     "output_type": "display_data"
    },
    {
     "data": {
      "application/vnd.plotly.v1+json": {
       "config": {
        "plotlyServerURL": "https://plot.ly"
       },
       "data": [
        {
         "alignmentgroup": "True",
         "hovertemplate": "Attack context=Ambush<br>Actor Group=%{x}<br>Number of Incidents=%{y}<extra></extra>",
         "legendgroup": "Ambush",
         "marker": {
          "color": "rgb(103,0,13)",
          "pattern": {
           "shape": ""
          }
         },
         "name": "Ambush",
         "offsetgroup": "Ambush",
         "orientation": "v",
         "showlegend": true,
         "textposition": "auto",
         "type": "bar",
         "x": [
          "Criminal",
          "Individual",
          "Non-state Armed Group",
          "State Actor",
          "Unknown"
         ],
         "xaxis": "x",
         "y": {
          "bdata": "AwMhBDc=",
          "dtype": "i1"
         },
         "yaxis": "y"
        },
        {
         "alignmentgroup": "True",
         "hovertemplate": "Attack context=Detention<br>Actor Group=%{x}<br>Number of Incidents=%{y}<extra></extra>",
         "legendgroup": "Detention",
         "marker": {
          "color": "rgb(165,15,21)",
          "pattern": {
           "shape": ""
          }
         },
         "name": "Detention",
         "offsetgroup": "Detention",
         "orientation": "v",
         "showlegend": true,
         "textposition": "auto",
         "type": "bar",
         "x": [
          "Criminal",
          "State Actor",
          "Unknown"
         ],
         "xaxis": "x",
         "y": {
          "bdata": "AQMB",
          "dtype": "i1"
         },
         "yaxis": "y"
        },
        {
         "alignmentgroup": "True",
         "hovertemplate": "Attack context=Individual attack<br>Actor Group=%{x}<br>Number of Incidents=%{y}<extra></extra>",
         "legendgroup": "Individual attack",
         "marker": {
          "color": "rgb(203,24,29)",
          "pattern": {
           "shape": ""
          }
         },
         "name": "Individual attack",
         "offsetgroup": "Individual attack",
         "orientation": "v",
         "showlegend": true,
         "textposition": "auto",
         "type": "bar",
         "x": [
          "Criminal",
          "Individual",
          "Non-state Armed Group",
          "State Actor",
          "Unknown"
         ],
         "xaxis": "x",
         "y": {
          "bdata": "BAMCAhY=",
          "dtype": "i1"
         },
         "yaxis": "y"
        },
        {
         "alignmentgroup": "True",
         "hovertemplate": "Attack context=Raid<br>Actor Group=%{x}<br>Number of Incidents=%{y}<extra></extra>",
         "legendgroup": "Raid",
         "marker": {
          "color": "rgb(239,59,44)",
          "pattern": {
           "shape": ""
          }
         },
         "name": "Raid",
         "offsetgroup": "Raid",
         "orientation": "v",
         "showlegend": true,
         "textposition": "auto",
         "type": "bar",
         "x": [
          "Criminal",
          "Non-state Armed Group",
          "State Actor",
          "Unknown"
         ],
         "xaxis": "x",
         "y": {
          "bdata": "AwgBEA==",
          "dtype": "i1"
         },
         "yaxis": "y"
        },
        {
         "alignmentgroup": "True",
         "hovertemplate": "Attack context=Mob violence<br>Actor Group=%{x}<br>Number of Incidents=%{y}<extra></extra>",
         "legendgroup": "Mob violence",
         "marker": {
          "color": "rgb(251,106,74)",
          "pattern": {
           "shape": ""
          }
         },
         "name": "Mob violence",
         "offsetgroup": "Mob violence",
         "orientation": "v",
         "showlegend": true,
         "textposition": "auto",
         "type": "bar",
         "x": [
          "Individual",
          "Non-state Armed Group"
         ],
         "xaxis": "x",
         "y": {
          "bdata": "CQE=",
          "dtype": "i1"
         },
         "yaxis": "y"
        },
        {
         "alignmentgroup": "True",
         "hovertemplate": "Attack context=Unknown<br>Actor Group=%{x}<br>Number of Incidents=%{y}<extra></extra>",
         "legendgroup": "Unknown",
         "marker": {
          "color": "rgb(252,146,114)",
          "pattern": {
           "shape": ""
          }
         },
         "name": "Unknown",
         "offsetgroup": "Unknown",
         "orientation": "v",
         "showlegend": true,
         "textposition": "auto",
         "type": "bar",
         "x": [
          "Individual",
          "Non-state Armed Group",
          "State Actor",
          "Unknown"
         ],
         "xaxis": "x",
         "y": {
          "bdata": "ARMCHg==",
          "dtype": "i1"
         },
         "yaxis": "y"
        },
        {
         "alignmentgroup": "True",
         "hovertemplate": "Attack context=Combat/Crossfire<br>Actor Group=%{x}<br>Number of Incidents=%{y}<extra></extra>",
         "legendgroup": "Combat/Crossfire",
         "marker": {
          "color": "rgb(252,187,161)",
          "pattern": {
           "shape": ""
          }
         },
         "name": "Combat/Crossfire",
         "offsetgroup": "Combat/Crossfire",
         "orientation": "v",
         "showlegend": true,
         "textposition": "auto",
         "type": "bar",
         "x": [
          "Non-state Armed Group",
          "Unknown"
         ],
         "xaxis": "x",
         "y": {
          "bdata": "BQI=",
          "dtype": "i1"
         },
         "yaxis": "y"
        }
       ],
       "layout": {
        "barmode": "group",
        "legend": {
         "title": {
          "text": "Attack context"
         },
         "tracegroupgap": 0
        },
        "margin": {
         "b": 40,
         "l": 40,
         "r": 40,
         "t": 60
        },
        "paper_bgcolor": "white",
        "plot_bgcolor": "white",
        "template": {
         "data": {
          "bar": [
           {
            "error_x": {
             "color": "#2a3f5f"
            },
            "error_y": {
             "color": "#2a3f5f"
            },
            "marker": {
             "line": {
              "color": "#E5ECF6",
              "width": 0.5
             },
             "pattern": {
              "fillmode": "overlay",
              "size": 10,
              "solidity": 0.2
             }
            },
            "type": "bar"
           }
          ],
          "barpolar": [
           {
            "marker": {
             "line": {
              "color": "#E5ECF6",
              "width": 0.5
             },
             "pattern": {
              "fillmode": "overlay",
              "size": 10,
              "solidity": 0.2
             }
            },
            "type": "barpolar"
           }
          ],
          "carpet": [
           {
            "aaxis": {
             "endlinecolor": "#2a3f5f",
             "gridcolor": "white",
             "linecolor": "white",
             "minorgridcolor": "white",
             "startlinecolor": "#2a3f5f"
            },
            "baxis": {
             "endlinecolor": "#2a3f5f",
             "gridcolor": "white",
             "linecolor": "white",
             "minorgridcolor": "white",
             "startlinecolor": "#2a3f5f"
            },
            "type": "carpet"
           }
          ],
          "choropleth": [
           {
            "colorbar": {
             "outlinewidth": 0,
             "ticks": ""
            },
            "type": "choropleth"
           }
          ],
          "contour": [
           {
            "colorbar": {
             "outlinewidth": 0,
             "ticks": ""
            },
            "colorscale": [
             [
              0,
              "#0d0887"
             ],
             [
              0.1111111111111111,
              "#46039f"
             ],
             [
              0.2222222222222222,
              "#7201a8"
             ],
             [
              0.3333333333333333,
              "#9c179e"
             ],
             [
              0.4444444444444444,
              "#bd3786"
             ],
             [
              0.5555555555555556,
              "#d8576b"
             ],
             [
              0.6666666666666666,
              "#ed7953"
             ],
             [
              0.7777777777777778,
              "#fb9f3a"
             ],
             [
              0.8888888888888888,
              "#fdca26"
             ],
             [
              1,
              "#f0f921"
             ]
            ],
            "type": "contour"
           }
          ],
          "contourcarpet": [
           {
            "colorbar": {
             "outlinewidth": 0,
             "ticks": ""
            },
            "type": "contourcarpet"
           }
          ],
          "heatmap": [
           {
            "colorbar": {
             "outlinewidth": 0,
             "ticks": ""
            },
            "colorscale": [
             [
              0,
              "#0d0887"
             ],
             [
              0.1111111111111111,
              "#46039f"
             ],
             [
              0.2222222222222222,
              "#7201a8"
             ],
             [
              0.3333333333333333,
              "#9c179e"
             ],
             [
              0.4444444444444444,
              "#bd3786"
             ],
             [
              0.5555555555555556,
              "#d8576b"
             ],
             [
              0.6666666666666666,
              "#ed7953"
             ],
             [
              0.7777777777777778,
              "#fb9f3a"
             ],
             [
              0.8888888888888888,
              "#fdca26"
             ],
             [
              1,
              "#f0f921"
             ]
            ],
            "type": "heatmap"
           }
          ],
          "histogram": [
           {
            "marker": {
             "pattern": {
              "fillmode": "overlay",
              "size": 10,
              "solidity": 0.2
             }
            },
            "type": "histogram"
           }
          ],
          "histogram2d": [
           {
            "colorbar": {
             "outlinewidth": 0,
             "ticks": ""
            },
            "colorscale": [
             [
              0,
              "#0d0887"
             ],
             [
              0.1111111111111111,
              "#46039f"
             ],
             [
              0.2222222222222222,
              "#7201a8"
             ],
             [
              0.3333333333333333,
              "#9c179e"
             ],
             [
              0.4444444444444444,
              "#bd3786"
             ],
             [
              0.5555555555555556,
              "#d8576b"
             ],
             [
              0.6666666666666666,
              "#ed7953"
             ],
             [
              0.7777777777777778,
              "#fb9f3a"
             ],
             [
              0.8888888888888888,
              "#fdca26"
             ],
             [
              1,
              "#f0f921"
             ]
            ],
            "type": "histogram2d"
           }
          ],
          "histogram2dcontour": [
           {
            "colorbar": {
             "outlinewidth": 0,
             "ticks": ""
            },
            "colorscale": [
             [
              0,
              "#0d0887"
             ],
             [
              0.1111111111111111,
              "#46039f"
             ],
             [
              0.2222222222222222,
              "#7201a8"
             ],
             [
              0.3333333333333333,
              "#9c179e"
             ],
             [
              0.4444444444444444,
              "#bd3786"
             ],
             [
              0.5555555555555556,
              "#d8576b"
             ],
             [
              0.6666666666666666,
              "#ed7953"
             ],
             [
              0.7777777777777778,
              "#fb9f3a"
             ],
             [
              0.8888888888888888,
              "#fdca26"
             ],
             [
              1,
              "#f0f921"
             ]
            ],
            "type": "histogram2dcontour"
           }
          ],
          "mesh3d": [
           {
            "colorbar": {
             "outlinewidth": 0,
             "ticks": ""
            },
            "type": "mesh3d"
           }
          ],
          "parcoords": [
           {
            "line": {
             "colorbar": {
              "outlinewidth": 0,
              "ticks": ""
             }
            },
            "type": "parcoords"
           }
          ],
          "pie": [
           {
            "automargin": true,
            "type": "pie"
           }
          ],
          "scatter": [
           {
            "fillpattern": {
             "fillmode": "overlay",
             "size": 10,
             "solidity": 0.2
            },
            "type": "scatter"
           }
          ],
          "scatter3d": [
           {
            "line": {
             "colorbar": {
              "outlinewidth": 0,
              "ticks": ""
             }
            },
            "marker": {
             "colorbar": {
              "outlinewidth": 0,
              "ticks": ""
             }
            },
            "type": "scatter3d"
           }
          ],
          "scattercarpet": [
           {
            "marker": {
             "colorbar": {
              "outlinewidth": 0,
              "ticks": ""
             }
            },
            "type": "scattercarpet"
           }
          ],
          "scattergeo": [
           {
            "marker": {
             "colorbar": {
              "outlinewidth": 0,
              "ticks": ""
             }
            },
            "type": "scattergeo"
           }
          ],
          "scattergl": [
           {
            "marker": {
             "colorbar": {
              "outlinewidth": 0,
              "ticks": ""
             }
            },
            "type": "scattergl"
           }
          ],
          "scattermap": [
           {
            "marker": {
             "colorbar": {
              "outlinewidth": 0,
              "ticks": ""
             }
            },
            "type": "scattermap"
           }
          ],
          "scattermapbox": [
           {
            "marker": {
             "colorbar": {
              "outlinewidth": 0,
              "ticks": ""
             }
            },
            "type": "scattermapbox"
           }
          ],
          "scatterpolar": [
           {
            "marker": {
             "colorbar": {
              "outlinewidth": 0,
              "ticks": ""
             }
            },
            "type": "scatterpolar"
           }
          ],
          "scatterpolargl": [
           {
            "marker": {
             "colorbar": {
              "outlinewidth": 0,
              "ticks": ""
             }
            },
            "type": "scatterpolargl"
           }
          ],
          "scatterternary": [
           {
            "marker": {
             "colorbar": {
              "outlinewidth": 0,
              "ticks": ""
             }
            },
            "type": "scatterternary"
           }
          ],
          "surface": [
           {
            "colorbar": {
             "outlinewidth": 0,
             "ticks": ""
            },
            "colorscale": [
             [
              0,
              "#0d0887"
             ],
             [
              0.1111111111111111,
              "#46039f"
             ],
             [
              0.2222222222222222,
              "#7201a8"
             ],
             [
              0.3333333333333333,
              "#9c179e"
             ],
             [
              0.4444444444444444,
              "#bd3786"
             ],
             [
              0.5555555555555556,
              "#d8576b"
             ],
             [
              0.6666666666666666,
              "#ed7953"
             ],
             [
              0.7777777777777778,
              "#fb9f3a"
             ],
             [
              0.8888888888888888,
              "#fdca26"
             ],
             [
              1,
              "#f0f921"
             ]
            ],
            "type": "surface"
           }
          ],
          "table": [
           {
            "cells": {
             "fill": {
              "color": "#EBF0F8"
             },
             "line": {
              "color": "white"
             }
            },
            "header": {
             "fill": {
              "color": "#C8D4E3"
             },
             "line": {
              "color": "white"
             }
            },
            "type": "table"
           }
          ]
         },
         "layout": {
          "annotationdefaults": {
           "arrowcolor": "#2a3f5f",
           "arrowhead": 0,
           "arrowwidth": 1
          },
          "autotypenumbers": "strict",
          "coloraxis": {
           "colorbar": {
            "outlinewidth": 0,
            "ticks": ""
           }
          },
          "colorscale": {
           "diverging": [
            [
             0,
             "#8e0152"
            ],
            [
             0.1,
             "#c51b7d"
            ],
            [
             0.2,
             "#de77ae"
            ],
            [
             0.3,
             "#f1b6da"
            ],
            [
             0.4,
             "#fde0ef"
            ],
            [
             0.5,
             "#f7f7f7"
            ],
            [
             0.6,
             "#e6f5d0"
            ],
            [
             0.7,
             "#b8e186"
            ],
            [
             0.8,
             "#7fbc41"
            ],
            [
             0.9,
             "#4d9221"
            ],
            [
             1,
             "#276419"
            ]
           ],
           "sequential": [
            [
             0,
             "#0d0887"
            ],
            [
             0.1111111111111111,
             "#46039f"
            ],
            [
             0.2222222222222222,
             "#7201a8"
            ],
            [
             0.3333333333333333,
             "#9c179e"
            ],
            [
             0.4444444444444444,
             "#bd3786"
            ],
            [
             0.5555555555555556,
             "#d8576b"
            ],
            [
             0.6666666666666666,
             "#ed7953"
            ],
            [
             0.7777777777777778,
             "#fb9f3a"
            ],
            [
             0.8888888888888888,
             "#fdca26"
            ],
            [
             1,
             "#f0f921"
            ]
           ],
           "sequentialminus": [
            [
             0,
             "#0d0887"
            ],
            [
             0.1111111111111111,
             "#46039f"
            ],
            [
             0.2222222222222222,
             "#7201a8"
            ],
            [
             0.3333333333333333,
             "#9c179e"
            ],
            [
             0.4444444444444444,
             "#bd3786"
            ],
            [
             0.5555555555555556,
             "#d8576b"
            ],
            [
             0.6666666666666666,
             "#ed7953"
            ],
            [
             0.7777777777777778,
             "#fb9f3a"
            ],
            [
             0.8888888888888888,
             "#fdca26"
            ],
            [
             1,
             "#f0f921"
            ]
           ]
          },
          "colorway": [
           "#636efa",
           "#EF553B",
           "#00cc96",
           "#ab63fa",
           "#FFA15A",
           "#19d3f3",
           "#FF6692",
           "#B6E880",
           "#FF97FF",
           "#FECB52"
          ],
          "font": {
           "color": "#2a3f5f"
          },
          "geo": {
           "bgcolor": "white",
           "lakecolor": "white",
           "landcolor": "#E5ECF6",
           "showlakes": true,
           "showland": true,
           "subunitcolor": "white"
          },
          "hoverlabel": {
           "align": "left"
          },
          "hovermode": "closest",
          "mapbox": {
           "style": "light"
          },
          "paper_bgcolor": "white",
          "plot_bgcolor": "#E5ECF6",
          "polar": {
           "angularaxis": {
            "gridcolor": "white",
            "linecolor": "white",
            "ticks": ""
           },
           "bgcolor": "#E5ECF6",
           "radialaxis": {
            "gridcolor": "white",
            "linecolor": "white",
            "ticks": ""
           }
          },
          "scene": {
           "xaxis": {
            "backgroundcolor": "#E5ECF6",
            "gridcolor": "white",
            "gridwidth": 2,
            "linecolor": "white",
            "showbackground": true,
            "ticks": "",
            "zerolinecolor": "white"
           },
           "yaxis": {
            "backgroundcolor": "#E5ECF6",
            "gridcolor": "white",
            "gridwidth": 2,
            "linecolor": "white",
            "showbackground": true,
            "ticks": "",
            "zerolinecolor": "white"
           },
           "zaxis": {
            "backgroundcolor": "#E5ECF6",
            "gridcolor": "white",
            "gridwidth": 2,
            "linecolor": "white",
            "showbackground": true,
            "ticks": "",
            "zerolinecolor": "white"
           }
          },
          "shapedefaults": {
           "line": {
            "color": "#2a3f5f"
           }
          },
          "ternary": {
           "aaxis": {
            "gridcolor": "white",
            "linecolor": "white",
            "ticks": ""
           },
           "baxis": {
            "gridcolor": "white",
            "linecolor": "white",
            "ticks": ""
           },
           "bgcolor": "#E5ECF6",
           "caxis": {
            "gridcolor": "white",
            "linecolor": "white",
            "ticks": ""
           }
          },
          "title": {
           "x": 0.05
          },
          "xaxis": {
           "automargin": true,
           "gridcolor": "white",
           "linecolor": "white",
           "ticks": "",
           "title": {
            "standoff": 15
           },
           "zerolinecolor": "white",
           "zerolinewidth": 2
          },
          "yaxis": {
           "automargin": true,
           "gridcolor": "white",
           "linecolor": "white",
           "ticks": "",
           "title": {
            "standoff": 15
           },
           "zerolinecolor": "white",
           "zerolinewidth": 2
          }
         }
        },
        "title": {
         "text": "Actor Group vs Attack Context in DR Congo",
         "x": 0.5
        },
        "xaxis": {
         "anchor": "y",
         "domain": [
          0,
          1
         ],
         "tickangle": -30,
         "title": {
          "text": "Actor Group"
         }
        },
        "yaxis": {
         "anchor": "x",
         "domain": [
          0,
          1
         ],
         "title": {
          "text": "Number of Incidents"
         }
        }
       }
      }
     },
     "metadata": {},
     "output_type": "display_data"
    }
   ],
   "source": [
    "for country in top7:\n",
    "    data = grouped[grouped['Country'] == country]\n",
    "\n",
    "    fig = px.bar(\n",
    "        data,\n",
    "        x='ActorGroup',\n",
    "        y='Count',\n",
    "        color='Attack context',\n",
    "        barmode='group',\n",
    "        title=f'Actor Group vs Attack Context in {country}',\n",
    "        labels={'ActorGroup': 'Actor Group', 'Count': 'Number of Incidents'},\n",
    "        color_discrete_sequence=px.colors.sequential.Reds_r\n",
    "    )\n",
    "\n",
    "    fig.update_layout(\n",
    "        title_x=0.5,\n",
    "        plot_bgcolor='white',\n",
    "        paper_bgcolor='white',\n",
    "        margin=dict(t=60, l=40, r=40, b=40),\n",
    "        xaxis_tickangle=-30\n",
    "    )\n",
    "\n",
    "    fig.show()\n"
   ]
  },
  {
   "cell_type": "code",
   "execution_count": 153,
   "metadata": {},
   "outputs": [
    {
     "name": "stderr",
     "output_type": "stream",
     "text": [
      "/var/folders/gc/drvvdqb93dqg4y0zt5zljf5w0000gn/T/ipykernel_12211/3983831610.py:19: FutureWarning:\n",
      "\n",
      "unique with argument that is not not a Series, Index, ExtensionArray, or np.ndarray is deprecated and will raise in a future version.\n",
      "\n"
     ]
    },
    {
     "data": {
      "application/vnd.plotly.v1+json": {
       "config": {
        "plotlyServerURL": "https://plot.ly"
       },
       "data": [
        {
         "link": {
          "source": {
           "bdata": "AAAAAAEBAQICAgICAwMDAwMDBAQEBAQ=",
           "dtype": "i1"
          },
          "target": {
           "bdata": "BQYHBAUGCAUJBgcEBQkKBgcEBQkGBwQ=",
           "dtype": "i1"
          },
          "value": {
           "bdata": "AQEBAQEYBHgdHiUuAgwBAwIDeAs3IEk=",
           "dtype": "i1"
          }
         },
         "node": {
          "color": "red",
          "label": [
           "Criminal",
           "Individual",
           "Non-state Armed Group",
           "State Actor",
           "Unknown",
           "Ambush",
           "Individual attack",
           "Raid",
           "Mob violence",
           "Combat/Crossfire",
           "Detention"
          ],
          "line": {
           "color": "black",
           "width": 0.5
          },
          "pad": 15,
          "thickness": 20
         },
         "type": "sankey"
        }
       ],
       "layout": {
        "font": {
         "size": 12
        },
        "height": 600,
        "template": {
         "data": {
          "bar": [
           {
            "error_x": {
             "color": "#2a3f5f"
            },
            "error_y": {
             "color": "#2a3f5f"
            },
            "marker": {
             "line": {
              "color": "#E5ECF6",
              "width": 0.5
             },
             "pattern": {
              "fillmode": "overlay",
              "size": 10,
              "solidity": 0.2
             }
            },
            "type": "bar"
           }
          ],
          "barpolar": [
           {
            "marker": {
             "line": {
              "color": "#E5ECF6",
              "width": 0.5
             },
             "pattern": {
              "fillmode": "overlay",
              "size": 10,
              "solidity": 0.2
             }
            },
            "type": "barpolar"
           }
          ],
          "carpet": [
           {
            "aaxis": {
             "endlinecolor": "#2a3f5f",
             "gridcolor": "white",
             "linecolor": "white",
             "minorgridcolor": "white",
             "startlinecolor": "#2a3f5f"
            },
            "baxis": {
             "endlinecolor": "#2a3f5f",
             "gridcolor": "white",
             "linecolor": "white",
             "minorgridcolor": "white",
             "startlinecolor": "#2a3f5f"
            },
            "type": "carpet"
           }
          ],
          "choropleth": [
           {
            "colorbar": {
             "outlinewidth": 0,
             "ticks": ""
            },
            "type": "choropleth"
           }
          ],
          "contour": [
           {
            "colorbar": {
             "outlinewidth": 0,
             "ticks": ""
            },
            "colorscale": [
             [
              0,
              "#0d0887"
             ],
             [
              0.1111111111111111,
              "#46039f"
             ],
             [
              0.2222222222222222,
              "#7201a8"
             ],
             [
              0.3333333333333333,
              "#9c179e"
             ],
             [
              0.4444444444444444,
              "#bd3786"
             ],
             [
              0.5555555555555556,
              "#d8576b"
             ],
             [
              0.6666666666666666,
              "#ed7953"
             ],
             [
              0.7777777777777778,
              "#fb9f3a"
             ],
             [
              0.8888888888888888,
              "#fdca26"
             ],
             [
              1,
              "#f0f921"
             ]
            ],
            "type": "contour"
           }
          ],
          "contourcarpet": [
           {
            "colorbar": {
             "outlinewidth": 0,
             "ticks": ""
            },
            "type": "contourcarpet"
           }
          ],
          "heatmap": [
           {
            "colorbar": {
             "outlinewidth": 0,
             "ticks": ""
            },
            "colorscale": [
             [
              0,
              "#0d0887"
             ],
             [
              0.1111111111111111,
              "#46039f"
             ],
             [
              0.2222222222222222,
              "#7201a8"
             ],
             [
              0.3333333333333333,
              "#9c179e"
             ],
             [
              0.4444444444444444,
              "#bd3786"
             ],
             [
              0.5555555555555556,
              "#d8576b"
             ],
             [
              0.6666666666666666,
              "#ed7953"
             ],
             [
              0.7777777777777778,
              "#fb9f3a"
             ],
             [
              0.8888888888888888,
              "#fdca26"
             ],
             [
              1,
              "#f0f921"
             ]
            ],
            "type": "heatmap"
           }
          ],
          "histogram": [
           {
            "marker": {
             "pattern": {
              "fillmode": "overlay",
              "size": 10,
              "solidity": 0.2
             }
            },
            "type": "histogram"
           }
          ],
          "histogram2d": [
           {
            "colorbar": {
             "outlinewidth": 0,
             "ticks": ""
            },
            "colorscale": [
             [
              0,
              "#0d0887"
             ],
             [
              0.1111111111111111,
              "#46039f"
             ],
             [
              0.2222222222222222,
              "#7201a8"
             ],
             [
              0.3333333333333333,
              "#9c179e"
             ],
             [
              0.4444444444444444,
              "#bd3786"
             ],
             [
              0.5555555555555556,
              "#d8576b"
             ],
             [
              0.6666666666666666,
              "#ed7953"
             ],
             [
              0.7777777777777778,
              "#fb9f3a"
             ],
             [
              0.8888888888888888,
              "#fdca26"
             ],
             [
              1,
              "#f0f921"
             ]
            ],
            "type": "histogram2d"
           }
          ],
          "histogram2dcontour": [
           {
            "colorbar": {
             "outlinewidth": 0,
             "ticks": ""
            },
            "colorscale": [
             [
              0,
              "#0d0887"
             ],
             [
              0.1111111111111111,
              "#46039f"
             ],
             [
              0.2222222222222222,
              "#7201a8"
             ],
             [
              0.3333333333333333,
              "#9c179e"
             ],
             [
              0.4444444444444444,
              "#bd3786"
             ],
             [
              0.5555555555555556,
              "#d8576b"
             ],
             [
              0.6666666666666666,
              "#ed7953"
             ],
             [
              0.7777777777777778,
              "#fb9f3a"
             ],
             [
              0.8888888888888888,
              "#fdca26"
             ],
             [
              1,
              "#f0f921"
             ]
            ],
            "type": "histogram2dcontour"
           }
          ],
          "mesh3d": [
           {
            "colorbar": {
             "outlinewidth": 0,
             "ticks": ""
            },
            "type": "mesh3d"
           }
          ],
          "parcoords": [
           {
            "line": {
             "colorbar": {
              "outlinewidth": 0,
              "ticks": ""
             }
            },
            "type": "parcoords"
           }
          ],
          "pie": [
           {
            "automargin": true,
            "type": "pie"
           }
          ],
          "scatter": [
           {
            "fillpattern": {
             "fillmode": "overlay",
             "size": 10,
             "solidity": 0.2
            },
            "type": "scatter"
           }
          ],
          "scatter3d": [
           {
            "line": {
             "colorbar": {
              "outlinewidth": 0,
              "ticks": ""
             }
            },
            "marker": {
             "colorbar": {
              "outlinewidth": 0,
              "ticks": ""
             }
            },
            "type": "scatter3d"
           }
          ],
          "scattercarpet": [
           {
            "marker": {
             "colorbar": {
              "outlinewidth": 0,
              "ticks": ""
             }
            },
            "type": "scattercarpet"
           }
          ],
          "scattergeo": [
           {
            "marker": {
             "colorbar": {
              "outlinewidth": 0,
              "ticks": ""
             }
            },
            "type": "scattergeo"
           }
          ],
          "scattergl": [
           {
            "marker": {
             "colorbar": {
              "outlinewidth": 0,
              "ticks": ""
             }
            },
            "type": "scattergl"
           }
          ],
          "scattermap": [
           {
            "marker": {
             "colorbar": {
              "outlinewidth": 0,
              "ticks": ""
             }
            },
            "type": "scattermap"
           }
          ],
          "scattermapbox": [
           {
            "marker": {
             "colorbar": {
              "outlinewidth": 0,
              "ticks": ""
             }
            },
            "type": "scattermapbox"
           }
          ],
          "scatterpolar": [
           {
            "marker": {
             "colorbar": {
              "outlinewidth": 0,
              "ticks": ""
             }
            },
            "type": "scatterpolar"
           }
          ],
          "scatterpolargl": [
           {
            "marker": {
             "colorbar": {
              "outlinewidth": 0,
              "ticks": ""
             }
            },
            "type": "scatterpolargl"
           }
          ],
          "scatterternary": [
           {
            "marker": {
             "colorbar": {
              "outlinewidth": 0,
              "ticks": ""
             }
            },
            "type": "scatterternary"
           }
          ],
          "surface": [
           {
            "colorbar": {
             "outlinewidth": 0,
             "ticks": ""
            },
            "colorscale": [
             [
              0,
              "#0d0887"
             ],
             [
              0.1111111111111111,
              "#46039f"
             ],
             [
              0.2222222222222222,
              "#7201a8"
             ],
             [
              0.3333333333333333,
              "#9c179e"
             ],
             [
              0.4444444444444444,
              "#bd3786"
             ],
             [
              0.5555555555555556,
              "#d8576b"
             ],
             [
              0.6666666666666666,
              "#ed7953"
             ],
             [
              0.7777777777777778,
              "#fb9f3a"
             ],
             [
              0.8888888888888888,
              "#fdca26"
             ],
             [
              1,
              "#f0f921"
             ]
            ],
            "type": "surface"
           }
          ],
          "table": [
           {
            "cells": {
             "fill": {
              "color": "#EBF0F8"
             },
             "line": {
              "color": "white"
             }
            },
            "header": {
             "fill": {
              "color": "#C8D4E3"
             },
             "line": {
              "color": "white"
             }
            },
            "type": "table"
           }
          ]
         },
         "layout": {
          "annotationdefaults": {
           "arrowcolor": "#2a3f5f",
           "arrowhead": 0,
           "arrowwidth": 1
          },
          "autotypenumbers": "strict",
          "coloraxis": {
           "colorbar": {
            "outlinewidth": 0,
            "ticks": ""
           }
          },
          "colorscale": {
           "diverging": [
            [
             0,
             "#8e0152"
            ],
            [
             0.1,
             "#c51b7d"
            ],
            [
             0.2,
             "#de77ae"
            ],
            [
             0.3,
             "#f1b6da"
            ],
            [
             0.4,
             "#fde0ef"
            ],
            [
             0.5,
             "#f7f7f7"
            ],
            [
             0.6,
             "#e6f5d0"
            ],
            [
             0.7,
             "#b8e186"
            ],
            [
             0.8,
             "#7fbc41"
            ],
            [
             0.9,
             "#4d9221"
            ],
            [
             1,
             "#276419"
            ]
           ],
           "sequential": [
            [
             0,
             "#0d0887"
            ],
            [
             0.1111111111111111,
             "#46039f"
            ],
            [
             0.2222222222222222,
             "#7201a8"
            ],
            [
             0.3333333333333333,
             "#9c179e"
            ],
            [
             0.4444444444444444,
             "#bd3786"
            ],
            [
             0.5555555555555556,
             "#d8576b"
            ],
            [
             0.6666666666666666,
             "#ed7953"
            ],
            [
             0.7777777777777778,
             "#fb9f3a"
            ],
            [
             0.8888888888888888,
             "#fdca26"
            ],
            [
             1,
             "#f0f921"
            ]
           ],
           "sequentialminus": [
            [
             0,
             "#0d0887"
            ],
            [
             0.1111111111111111,
             "#46039f"
            ],
            [
             0.2222222222222222,
             "#7201a8"
            ],
            [
             0.3333333333333333,
             "#9c179e"
            ],
            [
             0.4444444444444444,
             "#bd3786"
            ],
            [
             0.5555555555555556,
             "#d8576b"
            ],
            [
             0.6666666666666666,
             "#ed7953"
            ],
            [
             0.7777777777777778,
             "#fb9f3a"
            ],
            [
             0.8888888888888888,
             "#fdca26"
            ],
            [
             1,
             "#f0f921"
            ]
           ]
          },
          "colorway": [
           "#636efa",
           "#EF553B",
           "#00cc96",
           "#ab63fa",
           "#FFA15A",
           "#19d3f3",
           "#FF6692",
           "#B6E880",
           "#FF97FF",
           "#FECB52"
          ],
          "font": {
           "color": "#2a3f5f"
          },
          "geo": {
           "bgcolor": "white",
           "lakecolor": "white",
           "landcolor": "#E5ECF6",
           "showlakes": true,
           "showland": true,
           "subunitcolor": "white"
          },
          "hoverlabel": {
           "align": "left"
          },
          "hovermode": "closest",
          "mapbox": {
           "style": "light"
          },
          "paper_bgcolor": "white",
          "plot_bgcolor": "#E5ECF6",
          "polar": {
           "angularaxis": {
            "gridcolor": "white",
            "linecolor": "white",
            "ticks": ""
           },
           "bgcolor": "#E5ECF6",
           "radialaxis": {
            "gridcolor": "white",
            "linecolor": "white",
            "ticks": ""
           }
          },
          "scene": {
           "xaxis": {
            "backgroundcolor": "#E5ECF6",
            "gridcolor": "white",
            "gridwidth": 2,
            "linecolor": "white",
            "showbackground": true,
            "ticks": "",
            "zerolinecolor": "white"
           },
           "yaxis": {
            "backgroundcolor": "#E5ECF6",
            "gridcolor": "white",
            "gridwidth": 2,
            "linecolor": "white",
            "showbackground": true,
            "ticks": "",
            "zerolinecolor": "white"
           },
           "zaxis": {
            "backgroundcolor": "#E5ECF6",
            "gridcolor": "white",
            "gridwidth": 2,
            "linecolor": "white",
            "showbackground": true,
            "ticks": "",
            "zerolinecolor": "white"
           }
          },
          "shapedefaults": {
           "line": {
            "color": "#2a3f5f"
           }
          },
          "ternary": {
           "aaxis": {
            "gridcolor": "white",
            "linecolor": "white",
            "ticks": ""
           },
           "baxis": {
            "gridcolor": "white",
            "linecolor": "white",
            "ticks": ""
           },
           "bgcolor": "#E5ECF6",
           "caxis": {
            "gridcolor": "white",
            "linecolor": "white",
            "ticks": ""
           }
          },
          "title": {
           "x": 0.05
          },
          "xaxis": {
           "automargin": true,
           "gridcolor": "white",
           "linecolor": "white",
           "ticks": "",
           "title": {
            "standoff": 15
           },
           "zerolinecolor": "white",
           "zerolinewidth": 2
          },
          "yaxis": {
           "automargin": true,
           "gridcolor": "white",
           "linecolor": "white",
           "ticks": "",
           "title": {
            "standoff": 15
           },
           "zerolinecolor": "white",
           "zerolinewidth": 2
          }
         }
        },
        "title": {
         "text": "Actor Groups vs Attack Contexts in Afghanistan",
         "x": 0.5
        }
       }
      }
     },
     "metadata": {},
     "output_type": "display_data"
    }
   ],
   "source": [
    "# Pick one country, e.g., Afghanistan\n",
    "country = \"Afghanistan\"\n",
    "\n",
    "# Filter and drop nulls\n",
    "sankey_df = df[\n",
    "    (df['Country'] == country) &\n",
    "    (df['ActorGroup'].notna()) &\n",
    "    (df['Attack context'].notna())\n",
    "]\n",
    "\n",
    "# Group by ActorGroup and Attack context\n",
    "grouped = (\n",
    "    sankey_df.groupby(['ActorGroup', 'Attack context'])\n",
    "    .size()\n",
    "    .reset_index(name='Count')\n",
    ")\n",
    "\n",
    "# Combine all unique labels (actor + context)\n",
    "all_labels = pd.unique(grouped['ActorGroup'].tolist() + grouped['Attack context'].tolist())\n",
    "label_to_index = {label: i for i, label in enumerate(all_labels)}\n",
    "\n",
    "# Create Sankey link structure\n",
    "source = grouped['ActorGroup'].map(label_to_index)\n",
    "target = grouped['Attack context'].map(label_to_index)\n",
    "value  = grouped['Count']\n",
    "\n",
    "\n",
    "fig = go.Figure(data=[go.Sankey(\n",
    "    node=dict(\n",
    "        pad=15,\n",
    "        thickness=20,\n",
    "        line=dict(color=\"black\", width=0.5),\n",
    "        label=all_labels,\n",
    "        color=\"red\"\n",
    "    ),\n",
    "    link=dict(\n",
    "        source=source,\n",
    "        target=target,\n",
    "        value=value\n",
    "    )\n",
    ")])\n",
    "\n",
    "fig.update_layout(\n",
    "    title_text=f\"Actor Groups vs Attack Contexts in {country}\",\n",
    "    title_x=0.5,\n",
    "    font=dict(size=12),\n",
    "    height=600\n",
    ")\n",
    "\n",
    "fig.show()"
   ]
  },
  {
   "cell_type": "code",
   "execution_count": 171,
   "metadata": {},
   "outputs": [
    {
     "name": "stderr",
     "output_type": "stream",
     "text": [
      "/var/folders/gc/drvvdqb93dqg4y0zt5zljf5w0000gn/T/ipykernel_12211/1418143702.py:34: FutureWarning:\n",
      "\n",
      "unique with argument that is not not a Series, Index, ExtensionArray, or np.ndarray is deprecated and will raise in a future version.\n",
      "\n"
     ]
    },
    {
     "data": {
      "application/vnd.plotly.v1+json": {
       "config": {
        "plotlyServerURL": "https://plot.ly"
       },
       "data": [
        {
         "link": {
          "color": [
           "rgb(252,187,161)",
           "rgb(252,187,161)",
           "rgb(252,187,161)",
           "rgb(252,187,161)",
           "rgb(252,187,161)",
           "rgb(252,146,114)",
           "rgb(252,187,161)",
           "rgb(103,0,13)",
           "rgb(252,146,114)",
           "rgb(252,146,114)",
           "rgb(252,146,114)",
           "rgb(251,106,74)",
           "rgb(252,187,161)",
           "rgb(252,187,161)",
           "rgb(252,187,161)",
           "rgb(252,187,161)",
           "rgb(252,187,161)",
           "rgb(252,187,161)",
           "rgb(103,0,13)",
           "rgb(252,187,161)",
           "rgb(251,106,74)",
           "rgb(252,146,114)",
           "rgb(239,59,44)"
          ],
          "source": {
           "bdata": "AAAAAAEBAQICAgICAwMDAwMDBAQEBAQ=",
           "dtype": "i1"
          },
          "target": {
           "bdata": "BQYHBAUGCAUJBgcEBQkKBgcEBQkGBwQ=",
           "dtype": "i1"
          },
          "value": {
           "bdata": "AQEBAQEYBHgdHiUuAgwBAwIDeAs3IEk=",
           "dtype": "i1"
          }
         },
         "node": {
          "color": "lightgray",
          "label": [
           "Criminal",
           "Individual",
           "Non-state Armed Group",
           "State Actor",
           "Unknown",
           "Ambush",
           "Individual attack",
           "Raid",
           "Mob violence",
           "Combat/Crossfire",
           "Detention"
          ],
          "line": {
           "color": "black",
           "width": 0.5
          },
          "pad": 15,
          "thickness": 20
         },
         "type": "sankey"
        }
       ],
       "layout": {
        "font": {
         "size": 12
        },
        "height": 600,
        "template": {
         "data": {
          "bar": [
           {
            "error_x": {
             "color": "#2a3f5f"
            },
            "error_y": {
             "color": "#2a3f5f"
            },
            "marker": {
             "line": {
              "color": "#E5ECF6",
              "width": 0.5
             },
             "pattern": {
              "fillmode": "overlay",
              "size": 10,
              "solidity": 0.2
             }
            },
            "type": "bar"
           }
          ],
          "barpolar": [
           {
            "marker": {
             "line": {
              "color": "#E5ECF6",
              "width": 0.5
             },
             "pattern": {
              "fillmode": "overlay",
              "size": 10,
              "solidity": 0.2
             }
            },
            "type": "barpolar"
           }
          ],
          "carpet": [
           {
            "aaxis": {
             "endlinecolor": "#2a3f5f",
             "gridcolor": "white",
             "linecolor": "white",
             "minorgridcolor": "white",
             "startlinecolor": "#2a3f5f"
            },
            "baxis": {
             "endlinecolor": "#2a3f5f",
             "gridcolor": "white",
             "linecolor": "white",
             "minorgridcolor": "white",
             "startlinecolor": "#2a3f5f"
            },
            "type": "carpet"
           }
          ],
          "choropleth": [
           {
            "colorbar": {
             "outlinewidth": 0,
             "ticks": ""
            },
            "type": "choropleth"
           }
          ],
          "contour": [
           {
            "colorbar": {
             "outlinewidth": 0,
             "ticks": ""
            },
            "colorscale": [
             [
              0,
              "#0d0887"
             ],
             [
              0.1111111111111111,
              "#46039f"
             ],
             [
              0.2222222222222222,
              "#7201a8"
             ],
             [
              0.3333333333333333,
              "#9c179e"
             ],
             [
              0.4444444444444444,
              "#bd3786"
             ],
             [
              0.5555555555555556,
              "#d8576b"
             ],
             [
              0.6666666666666666,
              "#ed7953"
             ],
             [
              0.7777777777777778,
              "#fb9f3a"
             ],
             [
              0.8888888888888888,
              "#fdca26"
             ],
             [
              1,
              "#f0f921"
             ]
            ],
            "type": "contour"
           }
          ],
          "contourcarpet": [
           {
            "colorbar": {
             "outlinewidth": 0,
             "ticks": ""
            },
            "type": "contourcarpet"
           }
          ],
          "heatmap": [
           {
            "colorbar": {
             "outlinewidth": 0,
             "ticks": ""
            },
            "colorscale": [
             [
              0,
              "#0d0887"
             ],
             [
              0.1111111111111111,
              "#46039f"
             ],
             [
              0.2222222222222222,
              "#7201a8"
             ],
             [
              0.3333333333333333,
              "#9c179e"
             ],
             [
              0.4444444444444444,
              "#bd3786"
             ],
             [
              0.5555555555555556,
              "#d8576b"
             ],
             [
              0.6666666666666666,
              "#ed7953"
             ],
             [
              0.7777777777777778,
              "#fb9f3a"
             ],
             [
              0.8888888888888888,
              "#fdca26"
             ],
             [
              1,
              "#f0f921"
             ]
            ],
            "type": "heatmap"
           }
          ],
          "histogram": [
           {
            "marker": {
             "pattern": {
              "fillmode": "overlay",
              "size": 10,
              "solidity": 0.2
             }
            },
            "type": "histogram"
           }
          ],
          "histogram2d": [
           {
            "colorbar": {
             "outlinewidth": 0,
             "ticks": ""
            },
            "colorscale": [
             [
              0,
              "#0d0887"
             ],
             [
              0.1111111111111111,
              "#46039f"
             ],
             [
              0.2222222222222222,
              "#7201a8"
             ],
             [
              0.3333333333333333,
              "#9c179e"
             ],
             [
              0.4444444444444444,
              "#bd3786"
             ],
             [
              0.5555555555555556,
              "#d8576b"
             ],
             [
              0.6666666666666666,
              "#ed7953"
             ],
             [
              0.7777777777777778,
              "#fb9f3a"
             ],
             [
              0.8888888888888888,
              "#fdca26"
             ],
             [
              1,
              "#f0f921"
             ]
            ],
            "type": "histogram2d"
           }
          ],
          "histogram2dcontour": [
           {
            "colorbar": {
             "outlinewidth": 0,
             "ticks": ""
            },
            "colorscale": [
             [
              0,
              "#0d0887"
             ],
             [
              0.1111111111111111,
              "#46039f"
             ],
             [
              0.2222222222222222,
              "#7201a8"
             ],
             [
              0.3333333333333333,
              "#9c179e"
             ],
             [
              0.4444444444444444,
              "#bd3786"
             ],
             [
              0.5555555555555556,
              "#d8576b"
             ],
             [
              0.6666666666666666,
              "#ed7953"
             ],
             [
              0.7777777777777778,
              "#fb9f3a"
             ],
             [
              0.8888888888888888,
              "#fdca26"
             ],
             [
              1,
              "#f0f921"
             ]
            ],
            "type": "histogram2dcontour"
           }
          ],
          "mesh3d": [
           {
            "colorbar": {
             "outlinewidth": 0,
             "ticks": ""
            },
            "type": "mesh3d"
           }
          ],
          "parcoords": [
           {
            "line": {
             "colorbar": {
              "outlinewidth": 0,
              "ticks": ""
             }
            },
            "type": "parcoords"
           }
          ],
          "pie": [
           {
            "automargin": true,
            "type": "pie"
           }
          ],
          "scatter": [
           {
            "fillpattern": {
             "fillmode": "overlay",
             "size": 10,
             "solidity": 0.2
            },
            "type": "scatter"
           }
          ],
          "scatter3d": [
           {
            "line": {
             "colorbar": {
              "outlinewidth": 0,
              "ticks": ""
             }
            },
            "marker": {
             "colorbar": {
              "outlinewidth": 0,
              "ticks": ""
             }
            },
            "type": "scatter3d"
           }
          ],
          "scattercarpet": [
           {
            "marker": {
             "colorbar": {
              "outlinewidth": 0,
              "ticks": ""
             }
            },
            "type": "scattercarpet"
           }
          ],
          "scattergeo": [
           {
            "marker": {
             "colorbar": {
              "outlinewidth": 0,
              "ticks": ""
             }
            },
            "type": "scattergeo"
           }
          ],
          "scattergl": [
           {
            "marker": {
             "colorbar": {
              "outlinewidth": 0,
              "ticks": ""
             }
            },
            "type": "scattergl"
           }
          ],
          "scattermap": [
           {
            "marker": {
             "colorbar": {
              "outlinewidth": 0,
              "ticks": ""
             }
            },
            "type": "scattermap"
           }
          ],
          "scattermapbox": [
           {
            "marker": {
             "colorbar": {
              "outlinewidth": 0,
              "ticks": ""
             }
            },
            "type": "scattermapbox"
           }
          ],
          "scatterpolar": [
           {
            "marker": {
             "colorbar": {
              "outlinewidth": 0,
              "ticks": ""
             }
            },
            "type": "scatterpolar"
           }
          ],
          "scatterpolargl": [
           {
            "marker": {
             "colorbar": {
              "outlinewidth": 0,
              "ticks": ""
             }
            },
            "type": "scatterpolargl"
           }
          ],
          "scatterternary": [
           {
            "marker": {
             "colorbar": {
              "outlinewidth": 0,
              "ticks": ""
             }
            },
            "type": "scatterternary"
           }
          ],
          "surface": [
           {
            "colorbar": {
             "outlinewidth": 0,
             "ticks": ""
            },
            "colorscale": [
             [
              0,
              "#0d0887"
             ],
             [
              0.1111111111111111,
              "#46039f"
             ],
             [
              0.2222222222222222,
              "#7201a8"
             ],
             [
              0.3333333333333333,
              "#9c179e"
             ],
             [
              0.4444444444444444,
              "#bd3786"
             ],
             [
              0.5555555555555556,
              "#d8576b"
             ],
             [
              0.6666666666666666,
              "#ed7953"
             ],
             [
              0.7777777777777778,
              "#fb9f3a"
             ],
             [
              0.8888888888888888,
              "#fdca26"
             ],
             [
              1,
              "#f0f921"
             ]
            ],
            "type": "surface"
           }
          ],
          "table": [
           {
            "cells": {
             "fill": {
              "color": "#EBF0F8"
             },
             "line": {
              "color": "white"
             }
            },
            "header": {
             "fill": {
              "color": "#C8D4E3"
             },
             "line": {
              "color": "white"
             }
            },
            "type": "table"
           }
          ]
         },
         "layout": {
          "annotationdefaults": {
           "arrowcolor": "#2a3f5f",
           "arrowhead": 0,
           "arrowwidth": 1
          },
          "autotypenumbers": "strict",
          "coloraxis": {
           "colorbar": {
            "outlinewidth": 0,
            "ticks": ""
           }
          },
          "colorscale": {
           "diverging": [
            [
             0,
             "#8e0152"
            ],
            [
             0.1,
             "#c51b7d"
            ],
            [
             0.2,
             "#de77ae"
            ],
            [
             0.3,
             "#f1b6da"
            ],
            [
             0.4,
             "#fde0ef"
            ],
            [
             0.5,
             "#f7f7f7"
            ],
            [
             0.6,
             "#e6f5d0"
            ],
            [
             0.7,
             "#b8e186"
            ],
            [
             0.8,
             "#7fbc41"
            ],
            [
             0.9,
             "#4d9221"
            ],
            [
             1,
             "#276419"
            ]
           ],
           "sequential": [
            [
             0,
             "#0d0887"
            ],
            [
             0.1111111111111111,
             "#46039f"
            ],
            [
             0.2222222222222222,
             "#7201a8"
            ],
            [
             0.3333333333333333,
             "#9c179e"
            ],
            [
             0.4444444444444444,
             "#bd3786"
            ],
            [
             0.5555555555555556,
             "#d8576b"
            ],
            [
             0.6666666666666666,
             "#ed7953"
            ],
            [
             0.7777777777777778,
             "#fb9f3a"
            ],
            [
             0.8888888888888888,
             "#fdca26"
            ],
            [
             1,
             "#f0f921"
            ]
           ],
           "sequentialminus": [
            [
             0,
             "#0d0887"
            ],
            [
             0.1111111111111111,
             "#46039f"
            ],
            [
             0.2222222222222222,
             "#7201a8"
            ],
            [
             0.3333333333333333,
             "#9c179e"
            ],
            [
             0.4444444444444444,
             "#bd3786"
            ],
            [
             0.5555555555555556,
             "#d8576b"
            ],
            [
             0.6666666666666666,
             "#ed7953"
            ],
            [
             0.7777777777777778,
             "#fb9f3a"
            ],
            [
             0.8888888888888888,
             "#fdca26"
            ],
            [
             1,
             "#f0f921"
            ]
           ]
          },
          "colorway": [
           "#636efa",
           "#EF553B",
           "#00cc96",
           "#ab63fa",
           "#FFA15A",
           "#19d3f3",
           "#FF6692",
           "#B6E880",
           "#FF97FF",
           "#FECB52"
          ],
          "font": {
           "color": "#2a3f5f"
          },
          "geo": {
           "bgcolor": "white",
           "lakecolor": "white",
           "landcolor": "#E5ECF6",
           "showlakes": true,
           "showland": true,
           "subunitcolor": "white"
          },
          "hoverlabel": {
           "align": "left"
          },
          "hovermode": "closest",
          "mapbox": {
           "style": "light"
          },
          "paper_bgcolor": "white",
          "plot_bgcolor": "#E5ECF6",
          "polar": {
           "angularaxis": {
            "gridcolor": "white",
            "linecolor": "white",
            "ticks": ""
           },
           "bgcolor": "#E5ECF6",
           "radialaxis": {
            "gridcolor": "white",
            "linecolor": "white",
            "ticks": ""
           }
          },
          "scene": {
           "xaxis": {
            "backgroundcolor": "#E5ECF6",
            "gridcolor": "white",
            "gridwidth": 2,
            "linecolor": "white",
            "showbackground": true,
            "ticks": "",
            "zerolinecolor": "white"
           },
           "yaxis": {
            "backgroundcolor": "#E5ECF6",
            "gridcolor": "white",
            "gridwidth": 2,
            "linecolor": "white",
            "showbackground": true,
            "ticks": "",
            "zerolinecolor": "white"
           },
           "zaxis": {
            "backgroundcolor": "#E5ECF6",
            "gridcolor": "white",
            "gridwidth": 2,
            "linecolor": "white",
            "showbackground": true,
            "ticks": "",
            "zerolinecolor": "white"
           }
          },
          "shapedefaults": {
           "line": {
            "color": "#2a3f5f"
           }
          },
          "ternary": {
           "aaxis": {
            "gridcolor": "white",
            "linecolor": "white",
            "ticks": ""
           },
           "baxis": {
            "gridcolor": "white",
            "linecolor": "white",
            "ticks": ""
           },
           "bgcolor": "#E5ECF6",
           "caxis": {
            "gridcolor": "white",
            "linecolor": "white",
            "ticks": ""
           }
          },
          "title": {
           "x": 0.05
          },
          "xaxis": {
           "automargin": true,
           "gridcolor": "white",
           "linecolor": "white",
           "ticks": "",
           "title": {
            "standoff": 15
           },
           "zerolinecolor": "white",
           "zerolinewidth": 2
          },
          "yaxis": {
           "automargin": true,
           "gridcolor": "white",
           "linecolor": "white",
           "ticks": "",
           "title": {
            "standoff": 15
           },
           "zerolinecolor": "white",
           "zerolinewidth": 2
          }
         }
        },
        "title": {
         "text": "Actor Groups vs Attack Contexts in Afghanistan",
         "x": 0.5
        }
       }
      }
     },
     "metadata": {},
     "output_type": "display_data"
    }
   ],
   "source": [
    "# Normalize count values to [0, 1] for color scaling\n",
    "normalized = (value - value.min()) / (value.max() - value.min())\n",
    "\n",
    "# Get the Reds_r color scale\n",
    "colors = px.colors.sequential.Reds[2:]\n",
    "\n",
    "# Interpolate colors from the scale based on normalized values\n",
    "def interpolate_color(val):\n",
    "    # Use index to pick from color scale\n",
    "    idx = int(val * (len(colors) - 1))\n",
    "    return colors[idx]\n",
    "\n",
    "link_colors = [interpolate_color(v) for v in normalized]\n",
    "\n",
    "\n",
    "\n",
    "country = \"Afghanistan\"\n",
    "\n",
    "# Filter and drop nulls\n",
    "sankey_df = df[\n",
    "    (df['Country'] == country) &\n",
    "    (df['ActorGroup'].notna()) &\n",
    "    (df['Attack context'].notna())\n",
    "]\n",
    "\n",
    "# Group by ActorGroup and Attack context\n",
    "grouped = (\n",
    "    sankey_df.groupby(['ActorGroup', 'Attack context'])\n",
    "    .size()\n",
    "    .reset_index(name='Count')\n",
    ")\n",
    "\n",
    "# Combine all unique labels (actor + context)\n",
    "all_labels = pd.unique(grouped['ActorGroup'].tolist() + grouped['Attack context'].tolist())\n",
    "label_to_index = {label: i for i, label in enumerate(all_labels)}\n",
    "\n",
    "# Create Sankey link structure\n",
    "source = grouped['ActorGroup'].map(label_to_index)\n",
    "target = grouped['Attack context'].map(label_to_index)\n",
    "value  = grouped['Count']\n",
    "\n",
    "\n",
    "fig = go.Figure(data=[go.Sankey(\n",
    "    node=dict(\n",
    "        pad=15,\n",
    "        thickness=20,\n",
    "        line=dict(color=\"black\", width=0.5),\n",
    "        label=all_labels,\n",
    "        color=\"lightgray\"  # node color\n",
    "    ),\n",
    "    link=dict(\n",
    "        source=source,\n",
    "        target=target,\n",
    "        value=value,\n",
    "        color=link_colors  # 🎨 color based on value\n",
    "    )\n",
    ")])\n",
    "\n",
    "fig.update_layout(\n",
    "    title_text=f\"Actor Groups vs Attack Contexts in {country}\",\n",
    "    title_x=0.5,\n",
    "    font=dict(size=12),\n",
    "    height=600\n",
    ")\n",
    "\n",
    "fig.show()\n"
   ]
  },
  {
   "cell_type": "code",
   "execution_count": 173,
   "metadata": {},
   "outputs": [
    {
     "name": "stderr",
     "output_type": "stream",
     "text": [
      "/var/folders/gc/drvvdqb93dqg4y0zt5zljf5w0000gn/T/ipykernel_12211/4277488772.py:39: FutureWarning:\n",
      "\n",
      "unique with argument that is not not a Series, Index, ExtensionArray, or np.ndarray is deprecated and will raise in a future version.\n",
      "\n"
     ]
    },
    {
     "data": {
      "application/vnd.plotly.v1+json": {
       "config": {
        "plotlyServerURL": "https://plot.ly"
       },
       "data": [
        {
         "link": {
          "color": [
           "rgb(252,187,161)",
           "rgb(252,187,161)",
           "rgb(252,187,161)",
           "rgb(252,187,161)",
           "rgb(252,187,161)",
           "rgb(252,146,114)",
           "rgb(252,187,161)",
           "rgb(103,0,13)",
           "rgb(252,146,114)",
           "rgb(252,146,114)",
           "rgb(252,146,114)",
           "rgb(251,106,74)",
           "rgb(252,187,161)",
           "rgb(252,187,161)",
           "rgb(252,187,161)",
           "rgb(252,187,161)",
           "rgb(252,187,161)",
           "rgb(252,187,161)",
           "rgb(103,0,13)",
           "rgb(252,187,161)",
           "rgb(251,106,74)",
           "rgb(252,146,114)",
           "rgb(239,59,44)"
          ],
          "source": {
           "bdata": "AAAAAAEBAQICAgICAwMDAwMDBAQEBAQ=",
           "dtype": "i1"
          },
          "target": {
           "bdata": "BQYHCAUGCQUKBgcIBQoLBgcIBQoGBwg=",
           "dtype": "i1"
          },
          "value": {
           "bdata": "AQEBAQEYBHgdHiUuAgwBAwIDeAs3IEk=",
           "dtype": "i1"
          }
         },
         "node": {
          "color": "lightgray",
          "label": [
           "Criminal",
           "Individual",
           "Non-state Armed Group",
           "State Actor",
           "Unknown (Actor)",
           "Ambush",
           "Individual attack",
           "Raid",
           "Unknown (Context)",
           "Mob violence",
           "Combat/Crossfire",
           "Detention"
          ],
          "line": {
           "color": "black",
           "width": 0.5
          },
          "pad": 15,
          "thickness": 20
         },
         "type": "sankey"
        }
       ],
       "layout": {
        "font": {
         "size": 12
        },
        "height": 600,
        "template": {
         "data": {
          "bar": [
           {
            "error_x": {
             "color": "#2a3f5f"
            },
            "error_y": {
             "color": "#2a3f5f"
            },
            "marker": {
             "line": {
              "color": "#E5ECF6",
              "width": 0.5
             },
             "pattern": {
              "fillmode": "overlay",
              "size": 10,
              "solidity": 0.2
             }
            },
            "type": "bar"
           }
          ],
          "barpolar": [
           {
            "marker": {
             "line": {
              "color": "#E5ECF6",
              "width": 0.5
             },
             "pattern": {
              "fillmode": "overlay",
              "size": 10,
              "solidity": 0.2
             }
            },
            "type": "barpolar"
           }
          ],
          "carpet": [
           {
            "aaxis": {
             "endlinecolor": "#2a3f5f",
             "gridcolor": "white",
             "linecolor": "white",
             "minorgridcolor": "white",
             "startlinecolor": "#2a3f5f"
            },
            "baxis": {
             "endlinecolor": "#2a3f5f",
             "gridcolor": "white",
             "linecolor": "white",
             "minorgridcolor": "white",
             "startlinecolor": "#2a3f5f"
            },
            "type": "carpet"
           }
          ],
          "choropleth": [
           {
            "colorbar": {
             "outlinewidth": 0,
             "ticks": ""
            },
            "type": "choropleth"
           }
          ],
          "contour": [
           {
            "colorbar": {
             "outlinewidth": 0,
             "ticks": ""
            },
            "colorscale": [
             [
              0,
              "#0d0887"
             ],
             [
              0.1111111111111111,
              "#46039f"
             ],
             [
              0.2222222222222222,
              "#7201a8"
             ],
             [
              0.3333333333333333,
              "#9c179e"
             ],
             [
              0.4444444444444444,
              "#bd3786"
             ],
             [
              0.5555555555555556,
              "#d8576b"
             ],
             [
              0.6666666666666666,
              "#ed7953"
             ],
             [
              0.7777777777777778,
              "#fb9f3a"
             ],
             [
              0.8888888888888888,
              "#fdca26"
             ],
             [
              1,
              "#f0f921"
             ]
            ],
            "type": "contour"
           }
          ],
          "contourcarpet": [
           {
            "colorbar": {
             "outlinewidth": 0,
             "ticks": ""
            },
            "type": "contourcarpet"
           }
          ],
          "heatmap": [
           {
            "colorbar": {
             "outlinewidth": 0,
             "ticks": ""
            },
            "colorscale": [
             [
              0,
              "#0d0887"
             ],
             [
              0.1111111111111111,
              "#46039f"
             ],
             [
              0.2222222222222222,
              "#7201a8"
             ],
             [
              0.3333333333333333,
              "#9c179e"
             ],
             [
              0.4444444444444444,
              "#bd3786"
             ],
             [
              0.5555555555555556,
              "#d8576b"
             ],
             [
              0.6666666666666666,
              "#ed7953"
             ],
             [
              0.7777777777777778,
              "#fb9f3a"
             ],
             [
              0.8888888888888888,
              "#fdca26"
             ],
             [
              1,
              "#f0f921"
             ]
            ],
            "type": "heatmap"
           }
          ],
          "histogram": [
           {
            "marker": {
             "pattern": {
              "fillmode": "overlay",
              "size": 10,
              "solidity": 0.2
             }
            },
            "type": "histogram"
           }
          ],
          "histogram2d": [
           {
            "colorbar": {
             "outlinewidth": 0,
             "ticks": ""
            },
            "colorscale": [
             [
              0,
              "#0d0887"
             ],
             [
              0.1111111111111111,
              "#46039f"
             ],
             [
              0.2222222222222222,
              "#7201a8"
             ],
             [
              0.3333333333333333,
              "#9c179e"
             ],
             [
              0.4444444444444444,
              "#bd3786"
             ],
             [
              0.5555555555555556,
              "#d8576b"
             ],
             [
              0.6666666666666666,
              "#ed7953"
             ],
             [
              0.7777777777777778,
              "#fb9f3a"
             ],
             [
              0.8888888888888888,
              "#fdca26"
             ],
             [
              1,
              "#f0f921"
             ]
            ],
            "type": "histogram2d"
           }
          ],
          "histogram2dcontour": [
           {
            "colorbar": {
             "outlinewidth": 0,
             "ticks": ""
            },
            "colorscale": [
             [
              0,
              "#0d0887"
             ],
             [
              0.1111111111111111,
              "#46039f"
             ],
             [
              0.2222222222222222,
              "#7201a8"
             ],
             [
              0.3333333333333333,
              "#9c179e"
             ],
             [
              0.4444444444444444,
              "#bd3786"
             ],
             [
              0.5555555555555556,
              "#d8576b"
             ],
             [
              0.6666666666666666,
              "#ed7953"
             ],
             [
              0.7777777777777778,
              "#fb9f3a"
             ],
             [
              0.8888888888888888,
              "#fdca26"
             ],
             [
              1,
              "#f0f921"
             ]
            ],
            "type": "histogram2dcontour"
           }
          ],
          "mesh3d": [
           {
            "colorbar": {
             "outlinewidth": 0,
             "ticks": ""
            },
            "type": "mesh3d"
           }
          ],
          "parcoords": [
           {
            "line": {
             "colorbar": {
              "outlinewidth": 0,
              "ticks": ""
             }
            },
            "type": "parcoords"
           }
          ],
          "pie": [
           {
            "automargin": true,
            "type": "pie"
           }
          ],
          "scatter": [
           {
            "fillpattern": {
             "fillmode": "overlay",
             "size": 10,
             "solidity": 0.2
            },
            "type": "scatter"
           }
          ],
          "scatter3d": [
           {
            "line": {
             "colorbar": {
              "outlinewidth": 0,
              "ticks": ""
             }
            },
            "marker": {
             "colorbar": {
              "outlinewidth": 0,
              "ticks": ""
             }
            },
            "type": "scatter3d"
           }
          ],
          "scattercarpet": [
           {
            "marker": {
             "colorbar": {
              "outlinewidth": 0,
              "ticks": ""
             }
            },
            "type": "scattercarpet"
           }
          ],
          "scattergeo": [
           {
            "marker": {
             "colorbar": {
              "outlinewidth": 0,
              "ticks": ""
             }
            },
            "type": "scattergeo"
           }
          ],
          "scattergl": [
           {
            "marker": {
             "colorbar": {
              "outlinewidth": 0,
              "ticks": ""
             }
            },
            "type": "scattergl"
           }
          ],
          "scattermap": [
           {
            "marker": {
             "colorbar": {
              "outlinewidth": 0,
              "ticks": ""
             }
            },
            "type": "scattermap"
           }
          ],
          "scattermapbox": [
           {
            "marker": {
             "colorbar": {
              "outlinewidth": 0,
              "ticks": ""
             }
            },
            "type": "scattermapbox"
           }
          ],
          "scatterpolar": [
           {
            "marker": {
             "colorbar": {
              "outlinewidth": 0,
              "ticks": ""
             }
            },
            "type": "scatterpolar"
           }
          ],
          "scatterpolargl": [
           {
            "marker": {
             "colorbar": {
              "outlinewidth": 0,
              "ticks": ""
             }
            },
            "type": "scatterpolargl"
           }
          ],
          "scatterternary": [
           {
            "marker": {
             "colorbar": {
              "outlinewidth": 0,
              "ticks": ""
             }
            },
            "type": "scatterternary"
           }
          ],
          "surface": [
           {
            "colorbar": {
             "outlinewidth": 0,
             "ticks": ""
            },
            "colorscale": [
             [
              0,
              "#0d0887"
             ],
             [
              0.1111111111111111,
              "#46039f"
             ],
             [
              0.2222222222222222,
              "#7201a8"
             ],
             [
              0.3333333333333333,
              "#9c179e"
             ],
             [
              0.4444444444444444,
              "#bd3786"
             ],
             [
              0.5555555555555556,
              "#d8576b"
             ],
             [
              0.6666666666666666,
              "#ed7953"
             ],
             [
              0.7777777777777778,
              "#fb9f3a"
             ],
             [
              0.8888888888888888,
              "#fdca26"
             ],
             [
              1,
              "#f0f921"
             ]
            ],
            "type": "surface"
           }
          ],
          "table": [
           {
            "cells": {
             "fill": {
              "color": "#EBF0F8"
             },
             "line": {
              "color": "white"
             }
            },
            "header": {
             "fill": {
              "color": "#C8D4E3"
             },
             "line": {
              "color": "white"
             }
            },
            "type": "table"
           }
          ]
         },
         "layout": {
          "annotationdefaults": {
           "arrowcolor": "#2a3f5f",
           "arrowhead": 0,
           "arrowwidth": 1
          },
          "autotypenumbers": "strict",
          "coloraxis": {
           "colorbar": {
            "outlinewidth": 0,
            "ticks": ""
           }
          },
          "colorscale": {
           "diverging": [
            [
             0,
             "#8e0152"
            ],
            [
             0.1,
             "#c51b7d"
            ],
            [
             0.2,
             "#de77ae"
            ],
            [
             0.3,
             "#f1b6da"
            ],
            [
             0.4,
             "#fde0ef"
            ],
            [
             0.5,
             "#f7f7f7"
            ],
            [
             0.6,
             "#e6f5d0"
            ],
            [
             0.7,
             "#b8e186"
            ],
            [
             0.8,
             "#7fbc41"
            ],
            [
             0.9,
             "#4d9221"
            ],
            [
             1,
             "#276419"
            ]
           ],
           "sequential": [
            [
             0,
             "#0d0887"
            ],
            [
             0.1111111111111111,
             "#46039f"
            ],
            [
             0.2222222222222222,
             "#7201a8"
            ],
            [
             0.3333333333333333,
             "#9c179e"
            ],
            [
             0.4444444444444444,
             "#bd3786"
            ],
            [
             0.5555555555555556,
             "#d8576b"
            ],
            [
             0.6666666666666666,
             "#ed7953"
            ],
            [
             0.7777777777777778,
             "#fb9f3a"
            ],
            [
             0.8888888888888888,
             "#fdca26"
            ],
            [
             1,
             "#f0f921"
            ]
           ],
           "sequentialminus": [
            [
             0,
             "#0d0887"
            ],
            [
             0.1111111111111111,
             "#46039f"
            ],
            [
             0.2222222222222222,
             "#7201a8"
            ],
            [
             0.3333333333333333,
             "#9c179e"
            ],
            [
             0.4444444444444444,
             "#bd3786"
            ],
            [
             0.5555555555555556,
             "#d8576b"
            ],
            [
             0.6666666666666666,
             "#ed7953"
            ],
            [
             0.7777777777777778,
             "#fb9f3a"
            ],
            [
             0.8888888888888888,
             "#fdca26"
            ],
            [
             1,
             "#f0f921"
            ]
           ]
          },
          "colorway": [
           "#636efa",
           "#EF553B",
           "#00cc96",
           "#ab63fa",
           "#FFA15A",
           "#19d3f3",
           "#FF6692",
           "#B6E880",
           "#FF97FF",
           "#FECB52"
          ],
          "font": {
           "color": "#2a3f5f"
          },
          "geo": {
           "bgcolor": "white",
           "lakecolor": "white",
           "landcolor": "#E5ECF6",
           "showlakes": true,
           "showland": true,
           "subunitcolor": "white"
          },
          "hoverlabel": {
           "align": "left"
          },
          "hovermode": "closest",
          "mapbox": {
           "style": "light"
          },
          "paper_bgcolor": "white",
          "plot_bgcolor": "#E5ECF6",
          "polar": {
           "angularaxis": {
            "gridcolor": "white",
            "linecolor": "white",
            "ticks": ""
           },
           "bgcolor": "#E5ECF6",
           "radialaxis": {
            "gridcolor": "white",
            "linecolor": "white",
            "ticks": ""
           }
          },
          "scene": {
           "xaxis": {
            "backgroundcolor": "#E5ECF6",
            "gridcolor": "white",
            "gridwidth": 2,
            "linecolor": "white",
            "showbackground": true,
            "ticks": "",
            "zerolinecolor": "white"
           },
           "yaxis": {
            "backgroundcolor": "#E5ECF6",
            "gridcolor": "white",
            "gridwidth": 2,
            "linecolor": "white",
            "showbackground": true,
            "ticks": "",
            "zerolinecolor": "white"
           },
           "zaxis": {
            "backgroundcolor": "#E5ECF6",
            "gridcolor": "white",
            "gridwidth": 2,
            "linecolor": "white",
            "showbackground": true,
            "ticks": "",
            "zerolinecolor": "white"
           }
          },
          "shapedefaults": {
           "line": {
            "color": "#2a3f5f"
           }
          },
          "ternary": {
           "aaxis": {
            "gridcolor": "white",
            "linecolor": "white",
            "ticks": ""
           },
           "baxis": {
            "gridcolor": "white",
            "linecolor": "white",
            "ticks": ""
           },
           "bgcolor": "#E5ECF6",
           "caxis": {
            "gridcolor": "white",
            "linecolor": "white",
            "ticks": ""
           }
          },
          "title": {
           "x": 0.05
          },
          "xaxis": {
           "automargin": true,
           "gridcolor": "white",
           "linecolor": "white",
           "ticks": "",
           "title": {
            "standoff": 15
           },
           "zerolinecolor": "white",
           "zerolinewidth": 2
          },
          "yaxis": {
           "automargin": true,
           "gridcolor": "white",
           "linecolor": "white",
           "ticks": "",
           "title": {
            "standoff": 15
           },
           "zerolinecolor": "white",
           "zerolinewidth": 2
          }
         }
        },
        "title": {
         "text": "Actor Groups vs Attack Contexts in Afghanistan",
         "x": 0.5
        }
       }
      }
     },
     "metadata": {},
     "output_type": "display_data"
    },
    {
     "name": "stderr",
     "output_type": "stream",
     "text": [
      "/var/folders/gc/drvvdqb93dqg4y0zt5zljf5w0000gn/T/ipykernel_12211/4277488772.py:39: FutureWarning:\n",
      "\n",
      "unique with argument that is not not a Series, Index, ExtensionArray, or np.ndarray is deprecated and will raise in a future version.\n",
      "\n"
     ]
    },
    {
     "data": {
      "application/vnd.plotly.v1+json": {
       "config": {
        "plotlyServerURL": "https://plot.ly"
       },
       "data": [
        {
         "link": {
          "color": [
           "rgb(252,187,161)",
           "rgb(252,187,161)",
           "rgb(252,187,161)",
           "rgb(252,187,161)",
           "rgb(252,187,161)",
           "rgb(252,187,161)",
           "rgb(251,106,74)",
           "rgb(252,187,161)",
           "rgb(252,187,161)",
           "rgb(252,187,161)",
           "rgb(251,106,74)",
           "rgb(252,146,114)",
           "rgb(252,187,161)",
           "rgb(252,187,161)",
           "rgb(252,187,161)",
           "rgb(252,187,161)",
           "rgb(252,187,161)",
           "rgb(252,187,161)",
           "rgb(252,187,161)",
           "rgb(252,187,161)",
           "rgb(252,187,161)",
           "rgb(252,187,161)",
           "rgb(103,0,13)",
           "rgb(252,187,161)",
           "rgb(251,106,74)",
           "rgb(251,106,74)",
           "rgb(252,146,114)"
          ],
          "source": {
           "bdata": "AAAAAAEBAQEBAQICAgICAgMDAwMDAwQEBAQE",
           "dtype": "i1"
          },
          "target": {
           "bdata": "BQYHCAUJBgoHCAUJBgoHCAUJCwYKBwUJBgcI",
           "dtype": "i1"
          },
          "value": {
           "bdata": "BwAOAAQAAQAOAAUANwATAAgABgBBABcADgACAA8ACwAGAAEACQAIAAEAAgCDAA0AQAA1AB8A",
           "dtype": "i2"
          }
         },
         "node": {
          "color": "lightgray",
          "label": [
           "Criminal",
           "Individual",
           "Non-state Armed Group",
           "State Actor",
           "Unknown (Actor)",
           "Ambush",
           "Individual attack",
           "Raid",
           "Unknown (Context)",
           "Combat/Crossfire",
           "Mob violence",
           "Detention"
          ],
          "line": {
           "color": "black",
           "width": 0.5
          },
          "pad": 15,
          "thickness": 20
         },
         "type": "sankey"
        }
       ],
       "layout": {
        "font": {
         "size": 12
        },
        "height": 600,
        "template": {
         "data": {
          "bar": [
           {
            "error_x": {
             "color": "#2a3f5f"
            },
            "error_y": {
             "color": "#2a3f5f"
            },
            "marker": {
             "line": {
              "color": "#E5ECF6",
              "width": 0.5
             },
             "pattern": {
              "fillmode": "overlay",
              "size": 10,
              "solidity": 0.2
             }
            },
            "type": "bar"
           }
          ],
          "barpolar": [
           {
            "marker": {
             "line": {
              "color": "#E5ECF6",
              "width": 0.5
             },
             "pattern": {
              "fillmode": "overlay",
              "size": 10,
              "solidity": 0.2
             }
            },
            "type": "barpolar"
           }
          ],
          "carpet": [
           {
            "aaxis": {
             "endlinecolor": "#2a3f5f",
             "gridcolor": "white",
             "linecolor": "white",
             "minorgridcolor": "white",
             "startlinecolor": "#2a3f5f"
            },
            "baxis": {
             "endlinecolor": "#2a3f5f",
             "gridcolor": "white",
             "linecolor": "white",
             "minorgridcolor": "white",
             "startlinecolor": "#2a3f5f"
            },
            "type": "carpet"
           }
          ],
          "choropleth": [
           {
            "colorbar": {
             "outlinewidth": 0,
             "ticks": ""
            },
            "type": "choropleth"
           }
          ],
          "contour": [
           {
            "colorbar": {
             "outlinewidth": 0,
             "ticks": ""
            },
            "colorscale": [
             [
              0,
              "#0d0887"
             ],
             [
              0.1111111111111111,
              "#46039f"
             ],
             [
              0.2222222222222222,
              "#7201a8"
             ],
             [
              0.3333333333333333,
              "#9c179e"
             ],
             [
              0.4444444444444444,
              "#bd3786"
             ],
             [
              0.5555555555555556,
              "#d8576b"
             ],
             [
              0.6666666666666666,
              "#ed7953"
             ],
             [
              0.7777777777777778,
              "#fb9f3a"
             ],
             [
              0.8888888888888888,
              "#fdca26"
             ],
             [
              1,
              "#f0f921"
             ]
            ],
            "type": "contour"
           }
          ],
          "contourcarpet": [
           {
            "colorbar": {
             "outlinewidth": 0,
             "ticks": ""
            },
            "type": "contourcarpet"
           }
          ],
          "heatmap": [
           {
            "colorbar": {
             "outlinewidth": 0,
             "ticks": ""
            },
            "colorscale": [
             [
              0,
              "#0d0887"
             ],
             [
              0.1111111111111111,
              "#46039f"
             ],
             [
              0.2222222222222222,
              "#7201a8"
             ],
             [
              0.3333333333333333,
              "#9c179e"
             ],
             [
              0.4444444444444444,
              "#bd3786"
             ],
             [
              0.5555555555555556,
              "#d8576b"
             ],
             [
              0.6666666666666666,
              "#ed7953"
             ],
             [
              0.7777777777777778,
              "#fb9f3a"
             ],
             [
              0.8888888888888888,
              "#fdca26"
             ],
             [
              1,
              "#f0f921"
             ]
            ],
            "type": "heatmap"
           }
          ],
          "histogram": [
           {
            "marker": {
             "pattern": {
              "fillmode": "overlay",
              "size": 10,
              "solidity": 0.2
             }
            },
            "type": "histogram"
           }
          ],
          "histogram2d": [
           {
            "colorbar": {
             "outlinewidth": 0,
             "ticks": ""
            },
            "colorscale": [
             [
              0,
              "#0d0887"
             ],
             [
              0.1111111111111111,
              "#46039f"
             ],
             [
              0.2222222222222222,
              "#7201a8"
             ],
             [
              0.3333333333333333,
              "#9c179e"
             ],
             [
              0.4444444444444444,
              "#bd3786"
             ],
             [
              0.5555555555555556,
              "#d8576b"
             ],
             [
              0.6666666666666666,
              "#ed7953"
             ],
             [
              0.7777777777777778,
              "#fb9f3a"
             ],
             [
              0.8888888888888888,
              "#fdca26"
             ],
             [
              1,
              "#f0f921"
             ]
            ],
            "type": "histogram2d"
           }
          ],
          "histogram2dcontour": [
           {
            "colorbar": {
             "outlinewidth": 0,
             "ticks": ""
            },
            "colorscale": [
             [
              0,
              "#0d0887"
             ],
             [
              0.1111111111111111,
              "#46039f"
             ],
             [
              0.2222222222222222,
              "#7201a8"
             ],
             [
              0.3333333333333333,
              "#9c179e"
             ],
             [
              0.4444444444444444,
              "#bd3786"
             ],
             [
              0.5555555555555556,
              "#d8576b"
             ],
             [
              0.6666666666666666,
              "#ed7953"
             ],
             [
              0.7777777777777778,
              "#fb9f3a"
             ],
             [
              0.8888888888888888,
              "#fdca26"
             ],
             [
              1,
              "#f0f921"
             ]
            ],
            "type": "histogram2dcontour"
           }
          ],
          "mesh3d": [
           {
            "colorbar": {
             "outlinewidth": 0,
             "ticks": ""
            },
            "type": "mesh3d"
           }
          ],
          "parcoords": [
           {
            "line": {
             "colorbar": {
              "outlinewidth": 0,
              "ticks": ""
             }
            },
            "type": "parcoords"
           }
          ],
          "pie": [
           {
            "automargin": true,
            "type": "pie"
           }
          ],
          "scatter": [
           {
            "fillpattern": {
             "fillmode": "overlay",
             "size": 10,
             "solidity": 0.2
            },
            "type": "scatter"
           }
          ],
          "scatter3d": [
           {
            "line": {
             "colorbar": {
              "outlinewidth": 0,
              "ticks": ""
             }
            },
            "marker": {
             "colorbar": {
              "outlinewidth": 0,
              "ticks": ""
             }
            },
            "type": "scatter3d"
           }
          ],
          "scattercarpet": [
           {
            "marker": {
             "colorbar": {
              "outlinewidth": 0,
              "ticks": ""
             }
            },
            "type": "scattercarpet"
           }
          ],
          "scattergeo": [
           {
            "marker": {
             "colorbar": {
              "outlinewidth": 0,
              "ticks": ""
             }
            },
            "type": "scattergeo"
           }
          ],
          "scattergl": [
           {
            "marker": {
             "colorbar": {
              "outlinewidth": 0,
              "ticks": ""
             }
            },
            "type": "scattergl"
           }
          ],
          "scattermap": [
           {
            "marker": {
             "colorbar": {
              "outlinewidth": 0,
              "ticks": ""
             }
            },
            "type": "scattermap"
           }
          ],
          "scattermapbox": [
           {
            "marker": {
             "colorbar": {
              "outlinewidth": 0,
              "ticks": ""
             }
            },
            "type": "scattermapbox"
           }
          ],
          "scatterpolar": [
           {
            "marker": {
             "colorbar": {
              "outlinewidth": 0,
              "ticks": ""
             }
            },
            "type": "scatterpolar"
           }
          ],
          "scatterpolargl": [
           {
            "marker": {
             "colorbar": {
              "outlinewidth": 0,
              "ticks": ""
             }
            },
            "type": "scatterpolargl"
           }
          ],
          "scatterternary": [
           {
            "marker": {
             "colorbar": {
              "outlinewidth": 0,
              "ticks": ""
             }
            },
            "type": "scatterternary"
           }
          ],
          "surface": [
           {
            "colorbar": {
             "outlinewidth": 0,
             "ticks": ""
            },
            "colorscale": [
             [
              0,
              "#0d0887"
             ],
             [
              0.1111111111111111,
              "#46039f"
             ],
             [
              0.2222222222222222,
              "#7201a8"
             ],
             [
              0.3333333333333333,
              "#9c179e"
             ],
             [
              0.4444444444444444,
              "#bd3786"
             ],
             [
              0.5555555555555556,
              "#d8576b"
             ],
             [
              0.6666666666666666,
              "#ed7953"
             ],
             [
              0.7777777777777778,
              "#fb9f3a"
             ],
             [
              0.8888888888888888,
              "#fdca26"
             ],
             [
              1,
              "#f0f921"
             ]
            ],
            "type": "surface"
           }
          ],
          "table": [
           {
            "cells": {
             "fill": {
              "color": "#EBF0F8"
             },
             "line": {
              "color": "white"
             }
            },
            "header": {
             "fill": {
              "color": "#C8D4E3"
             },
             "line": {
              "color": "white"
             }
            },
            "type": "table"
           }
          ]
         },
         "layout": {
          "annotationdefaults": {
           "arrowcolor": "#2a3f5f",
           "arrowhead": 0,
           "arrowwidth": 1
          },
          "autotypenumbers": "strict",
          "coloraxis": {
           "colorbar": {
            "outlinewidth": 0,
            "ticks": ""
           }
          },
          "colorscale": {
           "diverging": [
            [
             0,
             "#8e0152"
            ],
            [
             0.1,
             "#c51b7d"
            ],
            [
             0.2,
             "#de77ae"
            ],
            [
             0.3,
             "#f1b6da"
            ],
            [
             0.4,
             "#fde0ef"
            ],
            [
             0.5,
             "#f7f7f7"
            ],
            [
             0.6,
             "#e6f5d0"
            ],
            [
             0.7,
             "#b8e186"
            ],
            [
             0.8,
             "#7fbc41"
            ],
            [
             0.9,
             "#4d9221"
            ],
            [
             1,
             "#276419"
            ]
           ],
           "sequential": [
            [
             0,
             "#0d0887"
            ],
            [
             0.1111111111111111,
             "#46039f"
            ],
            [
             0.2222222222222222,
             "#7201a8"
            ],
            [
             0.3333333333333333,
             "#9c179e"
            ],
            [
             0.4444444444444444,
             "#bd3786"
            ],
            [
             0.5555555555555556,
             "#d8576b"
            ],
            [
             0.6666666666666666,
             "#ed7953"
            ],
            [
             0.7777777777777778,
             "#fb9f3a"
            ],
            [
             0.8888888888888888,
             "#fdca26"
            ],
            [
             1,
             "#f0f921"
            ]
           ],
           "sequentialminus": [
            [
             0,
             "#0d0887"
            ],
            [
             0.1111111111111111,
             "#46039f"
            ],
            [
             0.2222222222222222,
             "#7201a8"
            ],
            [
             0.3333333333333333,
             "#9c179e"
            ],
            [
             0.4444444444444444,
             "#bd3786"
            ],
            [
             0.5555555555555556,
             "#d8576b"
            ],
            [
             0.6666666666666666,
             "#ed7953"
            ],
            [
             0.7777777777777778,
             "#fb9f3a"
            ],
            [
             0.8888888888888888,
             "#fdca26"
            ],
            [
             1,
             "#f0f921"
            ]
           ]
          },
          "colorway": [
           "#636efa",
           "#EF553B",
           "#00cc96",
           "#ab63fa",
           "#FFA15A",
           "#19d3f3",
           "#FF6692",
           "#B6E880",
           "#FF97FF",
           "#FECB52"
          ],
          "font": {
           "color": "#2a3f5f"
          },
          "geo": {
           "bgcolor": "white",
           "lakecolor": "white",
           "landcolor": "#E5ECF6",
           "showlakes": true,
           "showland": true,
           "subunitcolor": "white"
          },
          "hoverlabel": {
           "align": "left"
          },
          "hovermode": "closest",
          "mapbox": {
           "style": "light"
          },
          "paper_bgcolor": "white",
          "plot_bgcolor": "#E5ECF6",
          "polar": {
           "angularaxis": {
            "gridcolor": "white",
            "linecolor": "white",
            "ticks": ""
           },
           "bgcolor": "#E5ECF6",
           "radialaxis": {
            "gridcolor": "white",
            "linecolor": "white",
            "ticks": ""
           }
          },
          "scene": {
           "xaxis": {
            "backgroundcolor": "#E5ECF6",
            "gridcolor": "white",
            "gridwidth": 2,
            "linecolor": "white",
            "showbackground": true,
            "ticks": "",
            "zerolinecolor": "white"
           },
           "yaxis": {
            "backgroundcolor": "#E5ECF6",
            "gridcolor": "white",
            "gridwidth": 2,
            "linecolor": "white",
            "showbackground": true,
            "ticks": "",
            "zerolinecolor": "white"
           },
           "zaxis": {
            "backgroundcolor": "#E5ECF6",
            "gridcolor": "white",
            "gridwidth": 2,
            "linecolor": "white",
            "showbackground": true,
            "ticks": "",
            "zerolinecolor": "white"
           }
          },
          "shapedefaults": {
           "line": {
            "color": "#2a3f5f"
           }
          },
          "ternary": {
           "aaxis": {
            "gridcolor": "white",
            "linecolor": "white",
            "ticks": ""
           },
           "baxis": {
            "gridcolor": "white",
            "linecolor": "white",
            "ticks": ""
           },
           "bgcolor": "#E5ECF6",
           "caxis": {
            "gridcolor": "white",
            "linecolor": "white",
            "ticks": ""
           }
          },
          "title": {
           "x": 0.05
          },
          "xaxis": {
           "automargin": true,
           "gridcolor": "white",
           "linecolor": "white",
           "ticks": "",
           "title": {
            "standoff": 15
           },
           "zerolinecolor": "white",
           "zerolinewidth": 2
          },
          "yaxis": {
           "automargin": true,
           "gridcolor": "white",
           "linecolor": "white",
           "ticks": "",
           "title": {
            "standoff": 15
           },
           "zerolinecolor": "white",
           "zerolinewidth": 2
          }
         }
        },
        "title": {
         "text": "Actor Groups vs Attack Contexts in South Sudan",
         "x": 0.5
        }
       }
      }
     },
     "metadata": {},
     "output_type": "display_data"
    },
    {
     "name": "stderr",
     "output_type": "stream",
     "text": [
      "/var/folders/gc/drvvdqb93dqg4y0zt5zljf5w0000gn/T/ipykernel_12211/4277488772.py:39: FutureWarning:\n",
      "\n",
      "unique with argument that is not not a Series, Index, ExtensionArray, or np.ndarray is deprecated and will raise in a future version.\n",
      "\n"
     ]
    },
    {
     "data": {
      "application/vnd.plotly.v1+json": {
       "config": {
        "plotlyServerURL": "https://plot.ly"
       },
       "data": [
        {
         "link": {
          "color": [
           "rgb(252,187,161)",
           "rgb(252,187,161)",
           "rgb(252,187,161)",
           "rgb(252,187,161)",
           "rgb(252,187,161)",
           "rgb(252,187,161)",
           "rgb(252,146,114)",
           "rgb(252,187,161)",
           "rgb(252,187,161)",
           "rgb(252,187,161)",
           "rgb(252,187,161)",
           "rgb(252,187,161)",
           "rgb(252,187,161)",
           "rgb(252,187,161)",
           "rgb(252,187,161)",
           "rgb(252,187,161)",
           "rgb(252,187,161)",
           "rgb(252,187,161)",
           "rgb(252,187,161)",
           "rgb(103,0,13)",
           "rgb(252,146,114)",
           "rgb(252,187,161)",
           "rgb(252,146,114)",
           "rgb(252,187,161)",
           "rgb(252,146,114)",
           "rgb(251,106,74)"
          ],
          "source": {
           "bdata": "AAAAAQEBAgICAgICAgMDAwMDAwQEBAQEBAQ=",
           "dtype": "i1"
          },
          "target": {
           "bdata": "BQYHCAkKBQgLCQoGBwUICwkGBwUICwkKBgc=",
           "dtype": "i1"
          },
          "value": {
           "bdata": "AQEBAQQEFg4DBgEREAMNAwQDA3EgAiQBJCk=",
           "dtype": "i1"
          }
         },
         "node": {
          "color": "lightgray",
          "label": [
           "Criminal",
           "Individual",
           "Non-state Armed Group",
           "State Actor",
           "Unknown (Actor)",
           "Ambush",
           "Raid",
           "Unknown (Context)",
           "Combat/Crossfire",
           "Individual attack",
           "Mob violence",
           "Detention"
          ],
          "line": {
           "color": "black",
           "width": 0.5
          },
          "pad": 15,
          "thickness": 20
         },
         "type": "sankey"
        }
       ],
       "layout": {
        "font": {
         "size": 12
        },
        "height": 600,
        "template": {
         "data": {
          "bar": [
           {
            "error_x": {
             "color": "#2a3f5f"
            },
            "error_y": {
             "color": "#2a3f5f"
            },
            "marker": {
             "line": {
              "color": "#E5ECF6",
              "width": 0.5
             },
             "pattern": {
              "fillmode": "overlay",
              "size": 10,
              "solidity": 0.2
             }
            },
            "type": "bar"
           }
          ],
          "barpolar": [
           {
            "marker": {
             "line": {
              "color": "#E5ECF6",
              "width": 0.5
             },
             "pattern": {
              "fillmode": "overlay",
              "size": 10,
              "solidity": 0.2
             }
            },
            "type": "barpolar"
           }
          ],
          "carpet": [
           {
            "aaxis": {
             "endlinecolor": "#2a3f5f",
             "gridcolor": "white",
             "linecolor": "white",
             "minorgridcolor": "white",
             "startlinecolor": "#2a3f5f"
            },
            "baxis": {
             "endlinecolor": "#2a3f5f",
             "gridcolor": "white",
             "linecolor": "white",
             "minorgridcolor": "white",
             "startlinecolor": "#2a3f5f"
            },
            "type": "carpet"
           }
          ],
          "choropleth": [
           {
            "colorbar": {
             "outlinewidth": 0,
             "ticks": ""
            },
            "type": "choropleth"
           }
          ],
          "contour": [
           {
            "colorbar": {
             "outlinewidth": 0,
             "ticks": ""
            },
            "colorscale": [
             [
              0,
              "#0d0887"
             ],
             [
              0.1111111111111111,
              "#46039f"
             ],
             [
              0.2222222222222222,
              "#7201a8"
             ],
             [
              0.3333333333333333,
              "#9c179e"
             ],
             [
              0.4444444444444444,
              "#bd3786"
             ],
             [
              0.5555555555555556,
              "#d8576b"
             ],
             [
              0.6666666666666666,
              "#ed7953"
             ],
             [
              0.7777777777777778,
              "#fb9f3a"
             ],
             [
              0.8888888888888888,
              "#fdca26"
             ],
             [
              1,
              "#f0f921"
             ]
            ],
            "type": "contour"
           }
          ],
          "contourcarpet": [
           {
            "colorbar": {
             "outlinewidth": 0,
             "ticks": ""
            },
            "type": "contourcarpet"
           }
          ],
          "heatmap": [
           {
            "colorbar": {
             "outlinewidth": 0,
             "ticks": ""
            },
            "colorscale": [
             [
              0,
              "#0d0887"
             ],
             [
              0.1111111111111111,
              "#46039f"
             ],
             [
              0.2222222222222222,
              "#7201a8"
             ],
             [
              0.3333333333333333,
              "#9c179e"
             ],
             [
              0.4444444444444444,
              "#bd3786"
             ],
             [
              0.5555555555555556,
              "#d8576b"
             ],
             [
              0.6666666666666666,
              "#ed7953"
             ],
             [
              0.7777777777777778,
              "#fb9f3a"
             ],
             [
              0.8888888888888888,
              "#fdca26"
             ],
             [
              1,
              "#f0f921"
             ]
            ],
            "type": "heatmap"
           }
          ],
          "histogram": [
           {
            "marker": {
             "pattern": {
              "fillmode": "overlay",
              "size": 10,
              "solidity": 0.2
             }
            },
            "type": "histogram"
           }
          ],
          "histogram2d": [
           {
            "colorbar": {
             "outlinewidth": 0,
             "ticks": ""
            },
            "colorscale": [
             [
              0,
              "#0d0887"
             ],
             [
              0.1111111111111111,
              "#46039f"
             ],
             [
              0.2222222222222222,
              "#7201a8"
             ],
             [
              0.3333333333333333,
              "#9c179e"
             ],
             [
              0.4444444444444444,
              "#bd3786"
             ],
             [
              0.5555555555555556,
              "#d8576b"
             ],
             [
              0.6666666666666666,
              "#ed7953"
             ],
             [
              0.7777777777777778,
              "#fb9f3a"
             ],
             [
              0.8888888888888888,
              "#fdca26"
             ],
             [
              1,
              "#f0f921"
             ]
            ],
            "type": "histogram2d"
           }
          ],
          "histogram2dcontour": [
           {
            "colorbar": {
             "outlinewidth": 0,
             "ticks": ""
            },
            "colorscale": [
             [
              0,
              "#0d0887"
             ],
             [
              0.1111111111111111,
              "#46039f"
             ],
             [
              0.2222222222222222,
              "#7201a8"
             ],
             [
              0.3333333333333333,
              "#9c179e"
             ],
             [
              0.4444444444444444,
              "#bd3786"
             ],
             [
              0.5555555555555556,
              "#d8576b"
             ],
             [
              0.6666666666666666,
              "#ed7953"
             ],
             [
              0.7777777777777778,
              "#fb9f3a"
             ],
             [
              0.8888888888888888,
              "#fdca26"
             ],
             [
              1,
              "#f0f921"
             ]
            ],
            "type": "histogram2dcontour"
           }
          ],
          "mesh3d": [
           {
            "colorbar": {
             "outlinewidth": 0,
             "ticks": ""
            },
            "type": "mesh3d"
           }
          ],
          "parcoords": [
           {
            "line": {
             "colorbar": {
              "outlinewidth": 0,
              "ticks": ""
             }
            },
            "type": "parcoords"
           }
          ],
          "pie": [
           {
            "automargin": true,
            "type": "pie"
           }
          ],
          "scatter": [
           {
            "fillpattern": {
             "fillmode": "overlay",
             "size": 10,
             "solidity": 0.2
            },
            "type": "scatter"
           }
          ],
          "scatter3d": [
           {
            "line": {
             "colorbar": {
              "outlinewidth": 0,
              "ticks": ""
             }
            },
            "marker": {
             "colorbar": {
              "outlinewidth": 0,
              "ticks": ""
             }
            },
            "type": "scatter3d"
           }
          ],
          "scattercarpet": [
           {
            "marker": {
             "colorbar": {
              "outlinewidth": 0,
              "ticks": ""
             }
            },
            "type": "scattercarpet"
           }
          ],
          "scattergeo": [
           {
            "marker": {
             "colorbar": {
              "outlinewidth": 0,
              "ticks": ""
             }
            },
            "type": "scattergeo"
           }
          ],
          "scattergl": [
           {
            "marker": {
             "colorbar": {
              "outlinewidth": 0,
              "ticks": ""
             }
            },
            "type": "scattergl"
           }
          ],
          "scattermap": [
           {
            "marker": {
             "colorbar": {
              "outlinewidth": 0,
              "ticks": ""
             }
            },
            "type": "scattermap"
           }
          ],
          "scattermapbox": [
           {
            "marker": {
             "colorbar": {
              "outlinewidth": 0,
              "ticks": ""
             }
            },
            "type": "scattermapbox"
           }
          ],
          "scatterpolar": [
           {
            "marker": {
             "colorbar": {
              "outlinewidth": 0,
              "ticks": ""
             }
            },
            "type": "scatterpolar"
           }
          ],
          "scatterpolargl": [
           {
            "marker": {
             "colorbar": {
              "outlinewidth": 0,
              "ticks": ""
             }
            },
            "type": "scatterpolargl"
           }
          ],
          "scatterternary": [
           {
            "marker": {
             "colorbar": {
              "outlinewidth": 0,
              "ticks": ""
             }
            },
            "type": "scatterternary"
           }
          ],
          "surface": [
           {
            "colorbar": {
             "outlinewidth": 0,
             "ticks": ""
            },
            "colorscale": [
             [
              0,
              "#0d0887"
             ],
             [
              0.1111111111111111,
              "#46039f"
             ],
             [
              0.2222222222222222,
              "#7201a8"
             ],
             [
              0.3333333333333333,
              "#9c179e"
             ],
             [
              0.4444444444444444,
              "#bd3786"
             ],
             [
              0.5555555555555556,
              "#d8576b"
             ],
             [
              0.6666666666666666,
              "#ed7953"
             ],
             [
              0.7777777777777778,
              "#fb9f3a"
             ],
             [
              0.8888888888888888,
              "#fdca26"
             ],
             [
              1,
              "#f0f921"
             ]
            ],
            "type": "surface"
           }
          ],
          "table": [
           {
            "cells": {
             "fill": {
              "color": "#EBF0F8"
             },
             "line": {
              "color": "white"
             }
            },
            "header": {
             "fill": {
              "color": "#C8D4E3"
             },
             "line": {
              "color": "white"
             }
            },
            "type": "table"
           }
          ]
         },
         "layout": {
          "annotationdefaults": {
           "arrowcolor": "#2a3f5f",
           "arrowhead": 0,
           "arrowwidth": 1
          },
          "autotypenumbers": "strict",
          "coloraxis": {
           "colorbar": {
            "outlinewidth": 0,
            "ticks": ""
           }
          },
          "colorscale": {
           "diverging": [
            [
             0,
             "#8e0152"
            ],
            [
             0.1,
             "#c51b7d"
            ],
            [
             0.2,
             "#de77ae"
            ],
            [
             0.3,
             "#f1b6da"
            ],
            [
             0.4,
             "#fde0ef"
            ],
            [
             0.5,
             "#f7f7f7"
            ],
            [
             0.6,
             "#e6f5d0"
            ],
            [
             0.7,
             "#b8e186"
            ],
            [
             0.8,
             "#7fbc41"
            ],
            [
             0.9,
             "#4d9221"
            ],
            [
             1,
             "#276419"
            ]
           ],
           "sequential": [
            [
             0,
             "#0d0887"
            ],
            [
             0.1111111111111111,
             "#46039f"
            ],
            [
             0.2222222222222222,
             "#7201a8"
            ],
            [
             0.3333333333333333,
             "#9c179e"
            ],
            [
             0.4444444444444444,
             "#bd3786"
            ],
            [
             0.5555555555555556,
             "#d8576b"
            ],
            [
             0.6666666666666666,
             "#ed7953"
            ],
            [
             0.7777777777777778,
             "#fb9f3a"
            ],
            [
             0.8888888888888888,
             "#fdca26"
            ],
            [
             1,
             "#f0f921"
            ]
           ],
           "sequentialminus": [
            [
             0,
             "#0d0887"
            ],
            [
             0.1111111111111111,
             "#46039f"
            ],
            [
             0.2222222222222222,
             "#7201a8"
            ],
            [
             0.3333333333333333,
             "#9c179e"
            ],
            [
             0.4444444444444444,
             "#bd3786"
            ],
            [
             0.5555555555555556,
             "#d8576b"
            ],
            [
             0.6666666666666666,
             "#ed7953"
            ],
            [
             0.7777777777777778,
             "#fb9f3a"
            ],
            [
             0.8888888888888888,
             "#fdca26"
            ],
            [
             1,
             "#f0f921"
            ]
           ]
          },
          "colorway": [
           "#636efa",
           "#EF553B",
           "#00cc96",
           "#ab63fa",
           "#FFA15A",
           "#19d3f3",
           "#FF6692",
           "#B6E880",
           "#FF97FF",
           "#FECB52"
          ],
          "font": {
           "color": "#2a3f5f"
          },
          "geo": {
           "bgcolor": "white",
           "lakecolor": "white",
           "landcolor": "#E5ECF6",
           "showlakes": true,
           "showland": true,
           "subunitcolor": "white"
          },
          "hoverlabel": {
           "align": "left"
          },
          "hovermode": "closest",
          "mapbox": {
           "style": "light"
          },
          "paper_bgcolor": "white",
          "plot_bgcolor": "#E5ECF6",
          "polar": {
           "angularaxis": {
            "gridcolor": "white",
            "linecolor": "white",
            "ticks": ""
           },
           "bgcolor": "#E5ECF6",
           "radialaxis": {
            "gridcolor": "white",
            "linecolor": "white",
            "ticks": ""
           }
          },
          "scene": {
           "xaxis": {
            "backgroundcolor": "#E5ECF6",
            "gridcolor": "white",
            "gridwidth": 2,
            "linecolor": "white",
            "showbackground": true,
            "ticks": "",
            "zerolinecolor": "white"
           },
           "yaxis": {
            "backgroundcolor": "#E5ECF6",
            "gridcolor": "white",
            "gridwidth": 2,
            "linecolor": "white",
            "showbackground": true,
            "ticks": "",
            "zerolinecolor": "white"
           },
           "zaxis": {
            "backgroundcolor": "#E5ECF6",
            "gridcolor": "white",
            "gridwidth": 2,
            "linecolor": "white",
            "showbackground": true,
            "ticks": "",
            "zerolinecolor": "white"
           }
          },
          "shapedefaults": {
           "line": {
            "color": "#2a3f5f"
           }
          },
          "ternary": {
           "aaxis": {
            "gridcolor": "white",
            "linecolor": "white",
            "ticks": ""
           },
           "baxis": {
            "gridcolor": "white",
            "linecolor": "white",
            "ticks": ""
           },
           "bgcolor": "#E5ECF6",
           "caxis": {
            "gridcolor": "white",
            "linecolor": "white",
            "ticks": ""
           }
          },
          "title": {
           "x": 0.05
          },
          "xaxis": {
           "automargin": true,
           "gridcolor": "white",
           "linecolor": "white",
           "ticks": "",
           "title": {
            "standoff": 15
           },
           "zerolinecolor": "white",
           "zerolinewidth": 2
          },
          "yaxis": {
           "automargin": true,
           "gridcolor": "white",
           "linecolor": "white",
           "ticks": "",
           "title": {
            "standoff": 15
           },
           "zerolinecolor": "white",
           "zerolinewidth": 2
          }
         }
        },
        "title": {
         "text": "Actor Groups vs Attack Contexts in Sudan",
         "x": 0.5
        }
       }
      }
     },
     "metadata": {},
     "output_type": "display_data"
    },
    {
     "name": "stderr",
     "output_type": "stream",
     "text": [
      "/var/folders/gc/drvvdqb93dqg4y0zt5zljf5w0000gn/T/ipykernel_12211/4277488772.py:39: FutureWarning:\n",
      "\n",
      "unique with argument that is not not a Series, Index, ExtensionArray, or np.ndarray is deprecated and will raise in a future version.\n",
      "\n"
     ]
    },
    {
     "data": {
      "application/vnd.plotly.v1+json": {
       "config": {
        "plotlyServerURL": "https://plot.ly"
       },
       "data": [
        {
         "link": {
          "color": [
           "rgb(252,187,161)",
           "rgb(252,187,161)",
           "rgb(252,187,161)",
           "rgb(252,187,161)",
           "rgb(252,187,161)",
           "rgb(252,187,161)",
           "rgb(252,187,161)",
           "rgb(252,187,161)",
           "rgb(252,187,161)",
           "rgb(103,0,13)",
           "rgb(252,187,161)",
           "rgb(252,187,161)",
           "rgb(252,187,161)",
           "rgb(252,187,161)",
           "rgb(252,187,161)",
           "rgb(251,106,74)",
           "rgb(252,187,161)",
           "rgb(252,187,161)",
           "rgb(252,187,161)",
           "rgb(251,106,74)"
          ],
          "source": {
           "bdata": "AAAAAQEBAQECAgICAgIDAwMDAwM=",
           "dtype": "i1"
          },
          "target": {
           "bdata": "BAUGBwQFCAkHBAoFCAkHBAoFCAk=",
           "dtype": "i1"
          },
          "value": {
           "bdata": "AgYCFAsLCAoCfwIIAgcROAISBDU=",
           "dtype": "i1"
          }
         },
         "node": {
          "color": "lightgray",
          "label": [
           "Individual",
           "Non-state Armed Group",
           "State Actor",
           "Unknown (Actor)",
           "Combat/Crossfire",
           "Individual attack",
           "Mob violence",
           "Ambush",
           "Raid",
           "Unknown (Context)",
           "Detention"
          ],
          "line": {
           "color": "black",
           "width": 0.5
          },
          "pad": 15,
          "thickness": 20
         },
         "type": "sankey"
        }
       ],
       "layout": {
        "font": {
         "size": 12
        },
        "height": 600,
        "template": {
         "data": {
          "bar": [
           {
            "error_x": {
             "color": "#2a3f5f"
            },
            "error_y": {
             "color": "#2a3f5f"
            },
            "marker": {
             "line": {
              "color": "#E5ECF6",
              "width": 0.5
             },
             "pattern": {
              "fillmode": "overlay",
              "size": 10,
              "solidity": 0.2
             }
            },
            "type": "bar"
           }
          ],
          "barpolar": [
           {
            "marker": {
             "line": {
              "color": "#E5ECF6",
              "width": 0.5
             },
             "pattern": {
              "fillmode": "overlay",
              "size": 10,
              "solidity": 0.2
             }
            },
            "type": "barpolar"
           }
          ],
          "carpet": [
           {
            "aaxis": {
             "endlinecolor": "#2a3f5f",
             "gridcolor": "white",
             "linecolor": "white",
             "minorgridcolor": "white",
             "startlinecolor": "#2a3f5f"
            },
            "baxis": {
             "endlinecolor": "#2a3f5f",
             "gridcolor": "white",
             "linecolor": "white",
             "minorgridcolor": "white",
             "startlinecolor": "#2a3f5f"
            },
            "type": "carpet"
           }
          ],
          "choropleth": [
           {
            "colorbar": {
             "outlinewidth": 0,
             "ticks": ""
            },
            "type": "choropleth"
           }
          ],
          "contour": [
           {
            "colorbar": {
             "outlinewidth": 0,
             "ticks": ""
            },
            "colorscale": [
             [
              0,
              "#0d0887"
             ],
             [
              0.1111111111111111,
              "#46039f"
             ],
             [
              0.2222222222222222,
              "#7201a8"
             ],
             [
              0.3333333333333333,
              "#9c179e"
             ],
             [
              0.4444444444444444,
              "#bd3786"
             ],
             [
              0.5555555555555556,
              "#d8576b"
             ],
             [
              0.6666666666666666,
              "#ed7953"
             ],
             [
              0.7777777777777778,
              "#fb9f3a"
             ],
             [
              0.8888888888888888,
              "#fdca26"
             ],
             [
              1,
              "#f0f921"
             ]
            ],
            "type": "contour"
           }
          ],
          "contourcarpet": [
           {
            "colorbar": {
             "outlinewidth": 0,
             "ticks": ""
            },
            "type": "contourcarpet"
           }
          ],
          "heatmap": [
           {
            "colorbar": {
             "outlinewidth": 0,
             "ticks": ""
            },
            "colorscale": [
             [
              0,
              "#0d0887"
             ],
             [
              0.1111111111111111,
              "#46039f"
             ],
             [
              0.2222222222222222,
              "#7201a8"
             ],
             [
              0.3333333333333333,
              "#9c179e"
             ],
             [
              0.4444444444444444,
              "#bd3786"
             ],
             [
              0.5555555555555556,
              "#d8576b"
             ],
             [
              0.6666666666666666,
              "#ed7953"
             ],
             [
              0.7777777777777778,
              "#fb9f3a"
             ],
             [
              0.8888888888888888,
              "#fdca26"
             ],
             [
              1,
              "#f0f921"
             ]
            ],
            "type": "heatmap"
           }
          ],
          "histogram": [
           {
            "marker": {
             "pattern": {
              "fillmode": "overlay",
              "size": 10,
              "solidity": 0.2
             }
            },
            "type": "histogram"
           }
          ],
          "histogram2d": [
           {
            "colorbar": {
             "outlinewidth": 0,
             "ticks": ""
            },
            "colorscale": [
             [
              0,
              "#0d0887"
             ],
             [
              0.1111111111111111,
              "#46039f"
             ],
             [
              0.2222222222222222,
              "#7201a8"
             ],
             [
              0.3333333333333333,
              "#9c179e"
             ],
             [
              0.4444444444444444,
              "#bd3786"
             ],
             [
              0.5555555555555556,
              "#d8576b"
             ],
             [
              0.6666666666666666,
              "#ed7953"
             ],
             [
              0.7777777777777778,
              "#fb9f3a"
             ],
             [
              0.8888888888888888,
              "#fdca26"
             ],
             [
              1,
              "#f0f921"
             ]
            ],
            "type": "histogram2d"
           }
          ],
          "histogram2dcontour": [
           {
            "colorbar": {
             "outlinewidth": 0,
             "ticks": ""
            },
            "colorscale": [
             [
              0,
              "#0d0887"
             ],
             [
              0.1111111111111111,
              "#46039f"
             ],
             [
              0.2222222222222222,
              "#7201a8"
             ],
             [
              0.3333333333333333,
              "#9c179e"
             ],
             [
              0.4444444444444444,
              "#bd3786"
             ],
             [
              0.5555555555555556,
              "#d8576b"
             ],
             [
              0.6666666666666666,
              "#ed7953"
             ],
             [
              0.7777777777777778,
              "#fb9f3a"
             ],
             [
              0.8888888888888888,
              "#fdca26"
             ],
             [
              1,
              "#f0f921"
             ]
            ],
            "type": "histogram2dcontour"
           }
          ],
          "mesh3d": [
           {
            "colorbar": {
             "outlinewidth": 0,
             "ticks": ""
            },
            "type": "mesh3d"
           }
          ],
          "parcoords": [
           {
            "line": {
             "colorbar": {
              "outlinewidth": 0,
              "ticks": ""
             }
            },
            "type": "parcoords"
           }
          ],
          "pie": [
           {
            "automargin": true,
            "type": "pie"
           }
          ],
          "scatter": [
           {
            "fillpattern": {
             "fillmode": "overlay",
             "size": 10,
             "solidity": 0.2
            },
            "type": "scatter"
           }
          ],
          "scatter3d": [
           {
            "line": {
             "colorbar": {
              "outlinewidth": 0,
              "ticks": ""
             }
            },
            "marker": {
             "colorbar": {
              "outlinewidth": 0,
              "ticks": ""
             }
            },
            "type": "scatter3d"
           }
          ],
          "scattercarpet": [
           {
            "marker": {
             "colorbar": {
              "outlinewidth": 0,
              "ticks": ""
             }
            },
            "type": "scattercarpet"
           }
          ],
          "scattergeo": [
           {
            "marker": {
             "colorbar": {
              "outlinewidth": 0,
              "ticks": ""
             }
            },
            "type": "scattergeo"
           }
          ],
          "scattergl": [
           {
            "marker": {
             "colorbar": {
              "outlinewidth": 0,
              "ticks": ""
             }
            },
            "type": "scattergl"
           }
          ],
          "scattermap": [
           {
            "marker": {
             "colorbar": {
              "outlinewidth": 0,
              "ticks": ""
             }
            },
            "type": "scattermap"
           }
          ],
          "scattermapbox": [
           {
            "marker": {
             "colorbar": {
              "outlinewidth": 0,
              "ticks": ""
             }
            },
            "type": "scattermapbox"
           }
          ],
          "scatterpolar": [
           {
            "marker": {
             "colorbar": {
              "outlinewidth": 0,
              "ticks": ""
             }
            },
            "type": "scatterpolar"
           }
          ],
          "scatterpolargl": [
           {
            "marker": {
             "colorbar": {
              "outlinewidth": 0,
              "ticks": ""
             }
            },
            "type": "scatterpolargl"
           }
          ],
          "scatterternary": [
           {
            "marker": {
             "colorbar": {
              "outlinewidth": 0,
              "ticks": ""
             }
            },
            "type": "scatterternary"
           }
          ],
          "surface": [
           {
            "colorbar": {
             "outlinewidth": 0,
             "ticks": ""
            },
            "colorscale": [
             [
              0,
              "#0d0887"
             ],
             [
              0.1111111111111111,
              "#46039f"
             ],
             [
              0.2222222222222222,
              "#7201a8"
             ],
             [
              0.3333333333333333,
              "#9c179e"
             ],
             [
              0.4444444444444444,
              "#bd3786"
             ],
             [
              0.5555555555555556,
              "#d8576b"
             ],
             [
              0.6666666666666666,
              "#ed7953"
             ],
             [
              0.7777777777777778,
              "#fb9f3a"
             ],
             [
              0.8888888888888888,
              "#fdca26"
             ],
             [
              1,
              "#f0f921"
             ]
            ],
            "type": "surface"
           }
          ],
          "table": [
           {
            "cells": {
             "fill": {
              "color": "#EBF0F8"
             },
             "line": {
              "color": "white"
             }
            },
            "header": {
             "fill": {
              "color": "#C8D4E3"
             },
             "line": {
              "color": "white"
             }
            },
            "type": "table"
           }
          ]
         },
         "layout": {
          "annotationdefaults": {
           "arrowcolor": "#2a3f5f",
           "arrowhead": 0,
           "arrowwidth": 1
          },
          "autotypenumbers": "strict",
          "coloraxis": {
           "colorbar": {
            "outlinewidth": 0,
            "ticks": ""
           }
          },
          "colorscale": {
           "diverging": [
            [
             0,
             "#8e0152"
            ],
            [
             0.1,
             "#c51b7d"
            ],
            [
             0.2,
             "#de77ae"
            ],
            [
             0.3,
             "#f1b6da"
            ],
            [
             0.4,
             "#fde0ef"
            ],
            [
             0.5,
             "#f7f7f7"
            ],
            [
             0.6,
             "#e6f5d0"
            ],
            [
             0.7,
             "#b8e186"
            ],
            [
             0.8,
             "#7fbc41"
            ],
            [
             0.9,
             "#4d9221"
            ],
            [
             1,
             "#276419"
            ]
           ],
           "sequential": [
            [
             0,
             "#0d0887"
            ],
            [
             0.1111111111111111,
             "#46039f"
            ],
            [
             0.2222222222222222,
             "#7201a8"
            ],
            [
             0.3333333333333333,
             "#9c179e"
            ],
            [
             0.4444444444444444,
             "#bd3786"
            ],
            [
             0.5555555555555556,
             "#d8576b"
            ],
            [
             0.6666666666666666,
             "#ed7953"
            ],
            [
             0.7777777777777778,
             "#fb9f3a"
            ],
            [
             0.8888888888888888,
             "#fdca26"
            ],
            [
             1,
             "#f0f921"
            ]
           ],
           "sequentialminus": [
            [
             0,
             "#0d0887"
            ],
            [
             0.1111111111111111,
             "#46039f"
            ],
            [
             0.2222222222222222,
             "#7201a8"
            ],
            [
             0.3333333333333333,
             "#9c179e"
            ],
            [
             0.4444444444444444,
             "#bd3786"
            ],
            [
             0.5555555555555556,
             "#d8576b"
            ],
            [
             0.6666666666666666,
             "#ed7953"
            ],
            [
             0.7777777777777778,
             "#fb9f3a"
            ],
            [
             0.8888888888888888,
             "#fdca26"
            ],
            [
             1,
             "#f0f921"
            ]
           ]
          },
          "colorway": [
           "#636efa",
           "#EF553B",
           "#00cc96",
           "#ab63fa",
           "#FFA15A",
           "#19d3f3",
           "#FF6692",
           "#B6E880",
           "#FF97FF",
           "#FECB52"
          ],
          "font": {
           "color": "#2a3f5f"
          },
          "geo": {
           "bgcolor": "white",
           "lakecolor": "white",
           "landcolor": "#E5ECF6",
           "showlakes": true,
           "showland": true,
           "subunitcolor": "white"
          },
          "hoverlabel": {
           "align": "left"
          },
          "hovermode": "closest",
          "mapbox": {
           "style": "light"
          },
          "paper_bgcolor": "white",
          "plot_bgcolor": "#E5ECF6",
          "polar": {
           "angularaxis": {
            "gridcolor": "white",
            "linecolor": "white",
            "ticks": ""
           },
           "bgcolor": "#E5ECF6",
           "radialaxis": {
            "gridcolor": "white",
            "linecolor": "white",
            "ticks": ""
           }
          },
          "scene": {
           "xaxis": {
            "backgroundcolor": "#E5ECF6",
            "gridcolor": "white",
            "gridwidth": 2,
            "linecolor": "white",
            "showbackground": true,
            "ticks": "",
            "zerolinecolor": "white"
           },
           "yaxis": {
            "backgroundcolor": "#E5ECF6",
            "gridcolor": "white",
            "gridwidth": 2,
            "linecolor": "white",
            "showbackground": true,
            "ticks": "",
            "zerolinecolor": "white"
           },
           "zaxis": {
            "backgroundcolor": "#E5ECF6",
            "gridcolor": "white",
            "gridwidth": 2,
            "linecolor": "white",
            "showbackground": true,
            "ticks": "",
            "zerolinecolor": "white"
           }
          },
          "shapedefaults": {
           "line": {
            "color": "#2a3f5f"
           }
          },
          "ternary": {
           "aaxis": {
            "gridcolor": "white",
            "linecolor": "white",
            "ticks": ""
           },
           "baxis": {
            "gridcolor": "white",
            "linecolor": "white",
            "ticks": ""
           },
           "bgcolor": "#E5ECF6",
           "caxis": {
            "gridcolor": "white",
            "linecolor": "white",
            "ticks": ""
           }
          },
          "title": {
           "x": 0.05
          },
          "xaxis": {
           "automargin": true,
           "gridcolor": "white",
           "linecolor": "white",
           "ticks": "",
           "title": {
            "standoff": 15
           },
           "zerolinecolor": "white",
           "zerolinewidth": 2
          },
          "yaxis": {
           "automargin": true,
           "gridcolor": "white",
           "linecolor": "white",
           "ticks": "",
           "title": {
            "standoff": 15
           },
           "zerolinecolor": "white",
           "zerolinewidth": 2
          }
         }
        },
        "title": {
         "text": "Actor Groups vs Attack Contexts in Syrian Arab Republic",
         "x": 0.5
        }
       }
      }
     },
     "metadata": {},
     "output_type": "display_data"
    },
    {
     "name": "stderr",
     "output_type": "stream",
     "text": [
      "/var/folders/gc/drvvdqb93dqg4y0zt5zljf5w0000gn/T/ipykernel_12211/4277488772.py:39: FutureWarning:\n",
      "\n",
      "unique with argument that is not not a Series, Index, ExtensionArray, or np.ndarray is deprecated and will raise in a future version.\n",
      "\n"
     ]
    },
    {
     "data": {
      "application/vnd.plotly.v1+json": {
       "config": {
        "plotlyServerURL": "https://plot.ly"
       },
       "data": [
        {
         "link": {
          "color": [
           "rgb(252,187,161)",
           "rgb(252,187,161)",
           "rgb(252,146,114)",
           "rgb(252,187,161)",
           "rgb(252,187,161)",
           "rgb(252,187,161)",
           "rgb(239,59,44)",
           "rgb(251,106,74)",
           "rgb(252,146,114)",
           "rgb(251,106,74)",
           "rgb(251,106,74)",
           "rgb(252,187,161)",
           "rgb(252,187,161)",
           "rgb(252,187,161)",
           "rgb(252,187,161)",
           "rgb(252,187,161)",
           "rgb(252,187,161)",
           "rgb(103,0,13)",
           "rgb(252,146,114)",
           "rgb(252,187,161)",
           "rgb(165,15,21)",
           "rgb(251,106,74)",
           "rgb(239,59,44)"
          ],
          "source": {
           "bdata": "AAEBAQEBAgICAgIDAwMDAwMEBAQEBAQ=",
           "dtype": "i1"
          },
          "target": {
           "bdata": "BQYHCAUJBgoHBQkGCgsHBQkGCgsHBQk=",
           "dtype": "i1"
          },
          "value": {
           "bdata": "AQIMAwIDHxURFBcFAwEGAQQyCwEvFB8=",
           "dtype": "i1"
          }
         },
         "node": {
          "color": "lightgray",
          "label": [
           "Criminal",
           "Individual",
           "Non-state Armed Group",
           "State Actor",
           "Unknown (Actor)",
           "Raid",
           "Ambush",
           "Individual attack",
           "Mob violence",
           "Unknown (Context)",
           "Combat/Crossfire",
           "Detention"
          ],
          "line": {
           "color": "black",
           "width": 0.5
          },
          "pad": 15,
          "thickness": 20
         },
         "type": "sankey"
        }
       ],
       "layout": {
        "font": {
         "size": 12
        },
        "height": 600,
        "template": {
         "data": {
          "bar": [
           {
            "error_x": {
             "color": "#2a3f5f"
            },
            "error_y": {
             "color": "#2a3f5f"
            },
            "marker": {
             "line": {
              "color": "#E5ECF6",
              "width": 0.5
             },
             "pattern": {
              "fillmode": "overlay",
              "size": 10,
              "solidity": 0.2
             }
            },
            "type": "bar"
           }
          ],
          "barpolar": [
           {
            "marker": {
             "line": {
              "color": "#E5ECF6",
              "width": 0.5
             },
             "pattern": {
              "fillmode": "overlay",
              "size": 10,
              "solidity": 0.2
             }
            },
            "type": "barpolar"
           }
          ],
          "carpet": [
           {
            "aaxis": {
             "endlinecolor": "#2a3f5f",
             "gridcolor": "white",
             "linecolor": "white",
             "minorgridcolor": "white",
             "startlinecolor": "#2a3f5f"
            },
            "baxis": {
             "endlinecolor": "#2a3f5f",
             "gridcolor": "white",
             "linecolor": "white",
             "minorgridcolor": "white",
             "startlinecolor": "#2a3f5f"
            },
            "type": "carpet"
           }
          ],
          "choropleth": [
           {
            "colorbar": {
             "outlinewidth": 0,
             "ticks": ""
            },
            "type": "choropleth"
           }
          ],
          "contour": [
           {
            "colorbar": {
             "outlinewidth": 0,
             "ticks": ""
            },
            "colorscale": [
             [
              0,
              "#0d0887"
             ],
             [
              0.1111111111111111,
              "#46039f"
             ],
             [
              0.2222222222222222,
              "#7201a8"
             ],
             [
              0.3333333333333333,
              "#9c179e"
             ],
             [
              0.4444444444444444,
              "#bd3786"
             ],
             [
              0.5555555555555556,
              "#d8576b"
             ],
             [
              0.6666666666666666,
              "#ed7953"
             ],
             [
              0.7777777777777778,
              "#fb9f3a"
             ],
             [
              0.8888888888888888,
              "#fdca26"
             ],
             [
              1,
              "#f0f921"
             ]
            ],
            "type": "contour"
           }
          ],
          "contourcarpet": [
           {
            "colorbar": {
             "outlinewidth": 0,
             "ticks": ""
            },
            "type": "contourcarpet"
           }
          ],
          "heatmap": [
           {
            "colorbar": {
             "outlinewidth": 0,
             "ticks": ""
            },
            "colorscale": [
             [
              0,
              "#0d0887"
             ],
             [
              0.1111111111111111,
              "#46039f"
             ],
             [
              0.2222222222222222,
              "#7201a8"
             ],
             [
              0.3333333333333333,
              "#9c179e"
             ],
             [
              0.4444444444444444,
              "#bd3786"
             ],
             [
              0.5555555555555556,
              "#d8576b"
             ],
             [
              0.6666666666666666,
              "#ed7953"
             ],
             [
              0.7777777777777778,
              "#fb9f3a"
             ],
             [
              0.8888888888888888,
              "#fdca26"
             ],
             [
              1,
              "#f0f921"
             ]
            ],
            "type": "heatmap"
           }
          ],
          "histogram": [
           {
            "marker": {
             "pattern": {
              "fillmode": "overlay",
              "size": 10,
              "solidity": 0.2
             }
            },
            "type": "histogram"
           }
          ],
          "histogram2d": [
           {
            "colorbar": {
             "outlinewidth": 0,
             "ticks": ""
            },
            "colorscale": [
             [
              0,
              "#0d0887"
             ],
             [
              0.1111111111111111,
              "#46039f"
             ],
             [
              0.2222222222222222,
              "#7201a8"
             ],
             [
              0.3333333333333333,
              "#9c179e"
             ],
             [
              0.4444444444444444,
              "#bd3786"
             ],
             [
              0.5555555555555556,
              "#d8576b"
             ],
             [
              0.6666666666666666,
              "#ed7953"
             ],
             [
              0.7777777777777778,
              "#fb9f3a"
             ],
             [
              0.8888888888888888,
              "#fdca26"
             ],
             [
              1,
              "#f0f921"
             ]
            ],
            "type": "histogram2d"
           }
          ],
          "histogram2dcontour": [
           {
            "colorbar": {
             "outlinewidth": 0,
             "ticks": ""
            },
            "colorscale": [
             [
              0,
              "#0d0887"
             ],
             [
              0.1111111111111111,
              "#46039f"
             ],
             [
              0.2222222222222222,
              "#7201a8"
             ],
             [
              0.3333333333333333,
              "#9c179e"
             ],
             [
              0.4444444444444444,
              "#bd3786"
             ],
             [
              0.5555555555555556,
              "#d8576b"
             ],
             [
              0.6666666666666666,
              "#ed7953"
             ],
             [
              0.7777777777777778,
              "#fb9f3a"
             ],
             [
              0.8888888888888888,
              "#fdca26"
             ],
             [
              1,
              "#f0f921"
             ]
            ],
            "type": "histogram2dcontour"
           }
          ],
          "mesh3d": [
           {
            "colorbar": {
             "outlinewidth": 0,
             "ticks": ""
            },
            "type": "mesh3d"
           }
          ],
          "parcoords": [
           {
            "line": {
             "colorbar": {
              "outlinewidth": 0,
              "ticks": ""
             }
            },
            "type": "parcoords"
           }
          ],
          "pie": [
           {
            "automargin": true,
            "type": "pie"
           }
          ],
          "scatter": [
           {
            "fillpattern": {
             "fillmode": "overlay",
             "size": 10,
             "solidity": 0.2
            },
            "type": "scatter"
           }
          ],
          "scatter3d": [
           {
            "line": {
             "colorbar": {
              "outlinewidth": 0,
              "ticks": ""
             }
            },
            "marker": {
             "colorbar": {
              "outlinewidth": 0,
              "ticks": ""
             }
            },
            "type": "scatter3d"
           }
          ],
          "scattercarpet": [
           {
            "marker": {
             "colorbar": {
              "outlinewidth": 0,
              "ticks": ""
             }
            },
            "type": "scattercarpet"
           }
          ],
          "scattergeo": [
           {
            "marker": {
             "colorbar": {
              "outlinewidth": 0,
              "ticks": ""
             }
            },
            "type": "scattergeo"
           }
          ],
          "scattergl": [
           {
            "marker": {
             "colorbar": {
              "outlinewidth": 0,
              "ticks": ""
             }
            },
            "type": "scattergl"
           }
          ],
          "scattermap": [
           {
            "marker": {
             "colorbar": {
              "outlinewidth": 0,
              "ticks": ""
             }
            },
            "type": "scattermap"
           }
          ],
          "scattermapbox": [
           {
            "marker": {
             "colorbar": {
              "outlinewidth": 0,
              "ticks": ""
             }
            },
            "type": "scattermapbox"
           }
          ],
          "scatterpolar": [
           {
            "marker": {
             "colorbar": {
              "outlinewidth": 0,
              "ticks": ""
             }
            },
            "type": "scatterpolar"
           }
          ],
          "scatterpolargl": [
           {
            "marker": {
             "colorbar": {
              "outlinewidth": 0,
              "ticks": ""
             }
            },
            "type": "scatterpolargl"
           }
          ],
          "scatterternary": [
           {
            "marker": {
             "colorbar": {
              "outlinewidth": 0,
              "ticks": ""
             }
            },
            "type": "scatterternary"
           }
          ],
          "surface": [
           {
            "colorbar": {
             "outlinewidth": 0,
             "ticks": ""
            },
            "colorscale": [
             [
              0,
              "#0d0887"
             ],
             [
              0.1111111111111111,
              "#46039f"
             ],
             [
              0.2222222222222222,
              "#7201a8"
             ],
             [
              0.3333333333333333,
              "#9c179e"
             ],
             [
              0.4444444444444444,
              "#bd3786"
             ],
             [
              0.5555555555555556,
              "#d8576b"
             ],
             [
              0.6666666666666666,
              "#ed7953"
             ],
             [
              0.7777777777777778,
              "#fb9f3a"
             ],
             [
              0.8888888888888888,
              "#fdca26"
             ],
             [
              1,
              "#f0f921"
             ]
            ],
            "type": "surface"
           }
          ],
          "table": [
           {
            "cells": {
             "fill": {
              "color": "#EBF0F8"
             },
             "line": {
              "color": "white"
             }
            },
            "header": {
             "fill": {
              "color": "#C8D4E3"
             },
             "line": {
              "color": "white"
             }
            },
            "type": "table"
           }
          ]
         },
         "layout": {
          "annotationdefaults": {
           "arrowcolor": "#2a3f5f",
           "arrowhead": 0,
           "arrowwidth": 1
          },
          "autotypenumbers": "strict",
          "coloraxis": {
           "colorbar": {
            "outlinewidth": 0,
            "ticks": ""
           }
          },
          "colorscale": {
           "diverging": [
            [
             0,
             "#8e0152"
            ],
            [
             0.1,
             "#c51b7d"
            ],
            [
             0.2,
             "#de77ae"
            ],
            [
             0.3,
             "#f1b6da"
            ],
            [
             0.4,
             "#fde0ef"
            ],
            [
             0.5,
             "#f7f7f7"
            ],
            [
             0.6,
             "#e6f5d0"
            ],
            [
             0.7,
             "#b8e186"
            ],
            [
             0.8,
             "#7fbc41"
            ],
            [
             0.9,
             "#4d9221"
            ],
            [
             1,
             "#276419"
            ]
           ],
           "sequential": [
            [
             0,
             "#0d0887"
            ],
            [
             0.1111111111111111,
             "#46039f"
            ],
            [
             0.2222222222222222,
             "#7201a8"
            ],
            [
             0.3333333333333333,
             "#9c179e"
            ],
            [
             0.4444444444444444,
             "#bd3786"
            ],
            [
             0.5555555555555556,
             "#d8576b"
            ],
            [
             0.6666666666666666,
             "#ed7953"
            ],
            [
             0.7777777777777778,
             "#fb9f3a"
            ],
            [
             0.8888888888888888,
             "#fdca26"
            ],
            [
             1,
             "#f0f921"
            ]
           ],
           "sequentialminus": [
            [
             0,
             "#0d0887"
            ],
            [
             0.1111111111111111,
             "#46039f"
            ],
            [
             0.2222222222222222,
             "#7201a8"
            ],
            [
             0.3333333333333333,
             "#9c179e"
            ],
            [
             0.4444444444444444,
             "#bd3786"
            ],
            [
             0.5555555555555556,
             "#d8576b"
            ],
            [
             0.6666666666666666,
             "#ed7953"
            ],
            [
             0.7777777777777778,
             "#fb9f3a"
            ],
            [
             0.8888888888888888,
             "#fdca26"
            ],
            [
             1,
             "#f0f921"
            ]
           ]
          },
          "colorway": [
           "#636efa",
           "#EF553B",
           "#00cc96",
           "#ab63fa",
           "#FFA15A",
           "#19d3f3",
           "#FF6692",
           "#B6E880",
           "#FF97FF",
           "#FECB52"
          ],
          "font": {
           "color": "#2a3f5f"
          },
          "geo": {
           "bgcolor": "white",
           "lakecolor": "white",
           "landcolor": "#E5ECF6",
           "showlakes": true,
           "showland": true,
           "subunitcolor": "white"
          },
          "hoverlabel": {
           "align": "left"
          },
          "hovermode": "closest",
          "mapbox": {
           "style": "light"
          },
          "paper_bgcolor": "white",
          "plot_bgcolor": "#E5ECF6",
          "polar": {
           "angularaxis": {
            "gridcolor": "white",
            "linecolor": "white",
            "ticks": ""
           },
           "bgcolor": "#E5ECF6",
           "radialaxis": {
            "gridcolor": "white",
            "linecolor": "white",
            "ticks": ""
           }
          },
          "scene": {
           "xaxis": {
            "backgroundcolor": "#E5ECF6",
            "gridcolor": "white",
            "gridwidth": 2,
            "linecolor": "white",
            "showbackground": true,
            "ticks": "",
            "zerolinecolor": "white"
           },
           "yaxis": {
            "backgroundcolor": "#E5ECF6",
            "gridcolor": "white",
            "gridwidth": 2,
            "linecolor": "white",
            "showbackground": true,
            "ticks": "",
            "zerolinecolor": "white"
           },
           "zaxis": {
            "backgroundcolor": "#E5ECF6",
            "gridcolor": "white",
            "gridwidth": 2,
            "linecolor": "white",
            "showbackground": true,
            "ticks": "",
            "zerolinecolor": "white"
           }
          },
          "shapedefaults": {
           "line": {
            "color": "#2a3f5f"
           }
          },
          "ternary": {
           "aaxis": {
            "gridcolor": "white",
            "linecolor": "white",
            "ticks": ""
           },
           "baxis": {
            "gridcolor": "white",
            "linecolor": "white",
            "ticks": ""
           },
           "bgcolor": "#E5ECF6",
           "caxis": {
            "gridcolor": "white",
            "linecolor": "white",
            "ticks": ""
           }
          },
          "title": {
           "x": 0.05
          },
          "xaxis": {
           "automargin": true,
           "gridcolor": "white",
           "linecolor": "white",
           "ticks": "",
           "title": {
            "standoff": 15
           },
           "zerolinecolor": "white",
           "zerolinewidth": 2
          },
          "yaxis": {
           "automargin": true,
           "gridcolor": "white",
           "linecolor": "white",
           "ticks": "",
           "title": {
            "standoff": 15
           },
           "zerolinecolor": "white",
           "zerolinewidth": 2
          }
         }
        },
        "title": {
         "text": "Actor Groups vs Attack Contexts in Somalia",
         "x": 0.5
        }
       }
      }
     },
     "metadata": {},
     "output_type": "display_data"
    },
    {
     "name": "stderr",
     "output_type": "stream",
     "text": [
      "/var/folders/gc/drvvdqb93dqg4y0zt5zljf5w0000gn/T/ipykernel_12211/4277488772.py:39: FutureWarning:\n",
      "\n",
      "unique with argument that is not not a Series, Index, ExtensionArray, or np.ndarray is deprecated and will raise in a future version.\n",
      "\n"
     ]
    },
    {
     "data": {
      "application/vnd.plotly.v1+json": {
       "config": {
        "plotlyServerURL": "https://plot.ly"
       },
       "data": [
        {
         "link": {
          "color": [
           "rgb(252,187,161)",
           "rgb(252,187,161)",
           "rgb(252,187,161)",
           "rgb(252,187,161)",
           "rgb(252,187,161)",
           "rgb(103,0,13)",
           "rgb(252,187,161)",
           "rgb(252,187,161)",
           "rgb(252,187,161)",
           "rgb(252,187,161)",
           "rgb(252,187,161)",
           "rgb(251,106,74)",
           "rgb(252,187,161)",
           "rgb(252,187,161)",
           "rgb(252,187,161)"
          ],
          "source": {
           "bdata": "AAABAgMDAwMDAwQEBAQE",
           "dtype": "i1"
          },
          "target": {
           "bdata": "BQYFBQcICQUGCgcIBQYK",
           "dtype": "i1"
          },
          "value": {
           "bdata": "AQEDAQVNAQsBBQIjAgEL",
           "dtype": "i1"
          }
         },
         "node": {
          "color": "lightgray",
          "label": [
           "Criminal",
           "Individual",
           "Non-state Armed Group",
           "State Actor",
           "Unknown (Actor)",
           "Individual attack",
           "Raid",
           "Ambush",
           "Combat/Crossfire",
           "Detention",
           "Unknown (Context)"
          ],
          "line": {
           "color": "black",
           "width": 0.5
          },
          "pad": 15,
          "thickness": 20
         },
         "type": "sankey"
        }
       ],
       "layout": {
        "font": {
         "size": 12
        },
        "height": 600,
        "template": {
         "data": {
          "bar": [
           {
            "error_x": {
             "color": "#2a3f5f"
            },
            "error_y": {
             "color": "#2a3f5f"
            },
            "marker": {
             "line": {
              "color": "#E5ECF6",
              "width": 0.5
             },
             "pattern": {
              "fillmode": "overlay",
              "size": 10,
              "solidity": 0.2
             }
            },
            "type": "bar"
           }
          ],
          "barpolar": [
           {
            "marker": {
             "line": {
              "color": "#E5ECF6",
              "width": 0.5
             },
             "pattern": {
              "fillmode": "overlay",
              "size": 10,
              "solidity": 0.2
             }
            },
            "type": "barpolar"
           }
          ],
          "carpet": [
           {
            "aaxis": {
             "endlinecolor": "#2a3f5f",
             "gridcolor": "white",
             "linecolor": "white",
             "minorgridcolor": "white",
             "startlinecolor": "#2a3f5f"
            },
            "baxis": {
             "endlinecolor": "#2a3f5f",
             "gridcolor": "white",
             "linecolor": "white",
             "minorgridcolor": "white",
             "startlinecolor": "#2a3f5f"
            },
            "type": "carpet"
           }
          ],
          "choropleth": [
           {
            "colorbar": {
             "outlinewidth": 0,
             "ticks": ""
            },
            "type": "choropleth"
           }
          ],
          "contour": [
           {
            "colorbar": {
             "outlinewidth": 0,
             "ticks": ""
            },
            "colorscale": [
             [
              0,
              "#0d0887"
             ],
             [
              0.1111111111111111,
              "#46039f"
             ],
             [
              0.2222222222222222,
              "#7201a8"
             ],
             [
              0.3333333333333333,
              "#9c179e"
             ],
             [
              0.4444444444444444,
              "#bd3786"
             ],
             [
              0.5555555555555556,
              "#d8576b"
             ],
             [
              0.6666666666666666,
              "#ed7953"
             ],
             [
              0.7777777777777778,
              "#fb9f3a"
             ],
             [
              0.8888888888888888,
              "#fdca26"
             ],
             [
              1,
              "#f0f921"
             ]
            ],
            "type": "contour"
           }
          ],
          "contourcarpet": [
           {
            "colorbar": {
             "outlinewidth": 0,
             "ticks": ""
            },
            "type": "contourcarpet"
           }
          ],
          "heatmap": [
           {
            "colorbar": {
             "outlinewidth": 0,
             "ticks": ""
            },
            "colorscale": [
             [
              0,
              "#0d0887"
             ],
             [
              0.1111111111111111,
              "#46039f"
             ],
             [
              0.2222222222222222,
              "#7201a8"
             ],
             [
              0.3333333333333333,
              "#9c179e"
             ],
             [
              0.4444444444444444,
              "#bd3786"
             ],
             [
              0.5555555555555556,
              "#d8576b"
             ],
             [
              0.6666666666666666,
              "#ed7953"
             ],
             [
              0.7777777777777778,
              "#fb9f3a"
             ],
             [
              0.8888888888888888,
              "#fdca26"
             ],
             [
              1,
              "#f0f921"
             ]
            ],
            "type": "heatmap"
           }
          ],
          "histogram": [
           {
            "marker": {
             "pattern": {
              "fillmode": "overlay",
              "size": 10,
              "solidity": 0.2
             }
            },
            "type": "histogram"
           }
          ],
          "histogram2d": [
           {
            "colorbar": {
             "outlinewidth": 0,
             "ticks": ""
            },
            "colorscale": [
             [
              0,
              "#0d0887"
             ],
             [
              0.1111111111111111,
              "#46039f"
             ],
             [
              0.2222222222222222,
              "#7201a8"
             ],
             [
              0.3333333333333333,
              "#9c179e"
             ],
             [
              0.4444444444444444,
              "#bd3786"
             ],
             [
              0.5555555555555556,
              "#d8576b"
             ],
             [
              0.6666666666666666,
              "#ed7953"
             ],
             [
              0.7777777777777778,
              "#fb9f3a"
             ],
             [
              0.8888888888888888,
              "#fdca26"
             ],
             [
              1,
              "#f0f921"
             ]
            ],
            "type": "histogram2d"
           }
          ],
          "histogram2dcontour": [
           {
            "colorbar": {
             "outlinewidth": 0,
             "ticks": ""
            },
            "colorscale": [
             [
              0,
              "#0d0887"
             ],
             [
              0.1111111111111111,
              "#46039f"
             ],
             [
              0.2222222222222222,
              "#7201a8"
             ],
             [
              0.3333333333333333,
              "#9c179e"
             ],
             [
              0.4444444444444444,
              "#bd3786"
             ],
             [
              0.5555555555555556,
              "#d8576b"
             ],
             [
              0.6666666666666666,
              "#ed7953"
             ],
             [
              0.7777777777777778,
              "#fb9f3a"
             ],
             [
              0.8888888888888888,
              "#fdca26"
             ],
             [
              1,
              "#f0f921"
             ]
            ],
            "type": "histogram2dcontour"
           }
          ],
          "mesh3d": [
           {
            "colorbar": {
             "outlinewidth": 0,
             "ticks": ""
            },
            "type": "mesh3d"
           }
          ],
          "parcoords": [
           {
            "line": {
             "colorbar": {
              "outlinewidth": 0,
              "ticks": ""
             }
            },
            "type": "parcoords"
           }
          ],
          "pie": [
           {
            "automargin": true,
            "type": "pie"
           }
          ],
          "scatter": [
           {
            "fillpattern": {
             "fillmode": "overlay",
             "size": 10,
             "solidity": 0.2
            },
            "type": "scatter"
           }
          ],
          "scatter3d": [
           {
            "line": {
             "colorbar": {
              "outlinewidth": 0,
              "ticks": ""
             }
            },
            "marker": {
             "colorbar": {
              "outlinewidth": 0,
              "ticks": ""
             }
            },
            "type": "scatter3d"
           }
          ],
          "scattercarpet": [
           {
            "marker": {
             "colorbar": {
              "outlinewidth": 0,
              "ticks": ""
             }
            },
            "type": "scattercarpet"
           }
          ],
          "scattergeo": [
           {
            "marker": {
             "colorbar": {
              "outlinewidth": 0,
              "ticks": ""
             }
            },
            "type": "scattergeo"
           }
          ],
          "scattergl": [
           {
            "marker": {
             "colorbar": {
              "outlinewidth": 0,
              "ticks": ""
             }
            },
            "type": "scattergl"
           }
          ],
          "scattermap": [
           {
            "marker": {
             "colorbar": {
              "outlinewidth": 0,
              "ticks": ""
             }
            },
            "type": "scattermap"
           }
          ],
          "scattermapbox": [
           {
            "marker": {
             "colorbar": {
              "outlinewidth": 0,
              "ticks": ""
             }
            },
            "type": "scattermapbox"
           }
          ],
          "scatterpolar": [
           {
            "marker": {
             "colorbar": {
              "outlinewidth": 0,
              "ticks": ""
             }
            },
            "type": "scatterpolar"
           }
          ],
          "scatterpolargl": [
           {
            "marker": {
             "colorbar": {
              "outlinewidth": 0,
              "ticks": ""
             }
            },
            "type": "scatterpolargl"
           }
          ],
          "scatterternary": [
           {
            "marker": {
             "colorbar": {
              "outlinewidth": 0,
              "ticks": ""
             }
            },
            "type": "scatterternary"
           }
          ],
          "surface": [
           {
            "colorbar": {
             "outlinewidth": 0,
             "ticks": ""
            },
            "colorscale": [
             [
              0,
              "#0d0887"
             ],
             [
              0.1111111111111111,
              "#46039f"
             ],
             [
              0.2222222222222222,
              "#7201a8"
             ],
             [
              0.3333333333333333,
              "#9c179e"
             ],
             [
              0.4444444444444444,
              "#bd3786"
             ],
             [
              0.5555555555555556,
              "#d8576b"
             ],
             [
              0.6666666666666666,
              "#ed7953"
             ],
             [
              0.7777777777777778,
              "#fb9f3a"
             ],
             [
              0.8888888888888888,
              "#fdca26"
             ],
             [
              1,
              "#f0f921"
             ]
            ],
            "type": "surface"
           }
          ],
          "table": [
           {
            "cells": {
             "fill": {
              "color": "#EBF0F8"
             },
             "line": {
              "color": "white"
             }
            },
            "header": {
             "fill": {
              "color": "#C8D4E3"
             },
             "line": {
              "color": "white"
             }
            },
            "type": "table"
           }
          ]
         },
         "layout": {
          "annotationdefaults": {
           "arrowcolor": "#2a3f5f",
           "arrowhead": 0,
           "arrowwidth": 1
          },
          "autotypenumbers": "strict",
          "coloraxis": {
           "colorbar": {
            "outlinewidth": 0,
            "ticks": ""
           }
          },
          "colorscale": {
           "diverging": [
            [
             0,
             "#8e0152"
            ],
            [
             0.1,
             "#c51b7d"
            ],
            [
             0.2,
             "#de77ae"
            ],
            [
             0.3,
             "#f1b6da"
            ],
            [
             0.4,
             "#fde0ef"
            ],
            [
             0.5,
             "#f7f7f7"
            ],
            [
             0.6,
             "#e6f5d0"
            ],
            [
             0.7,
             "#b8e186"
            ],
            [
             0.8,
             "#7fbc41"
            ],
            [
             0.9,
             "#4d9221"
            ],
            [
             1,
             "#276419"
            ]
           ],
           "sequential": [
            [
             0,
             "#0d0887"
            ],
            [
             0.1111111111111111,
             "#46039f"
            ],
            [
             0.2222222222222222,
             "#7201a8"
            ],
            [
             0.3333333333333333,
             "#9c179e"
            ],
            [
             0.4444444444444444,
             "#bd3786"
            ],
            [
             0.5555555555555556,
             "#d8576b"
            ],
            [
             0.6666666666666666,
             "#ed7953"
            ],
            [
             0.7777777777777778,
             "#fb9f3a"
            ],
            [
             0.8888888888888888,
             "#fdca26"
            ],
            [
             1,
             "#f0f921"
            ]
           ],
           "sequentialminus": [
            [
             0,
             "#0d0887"
            ],
            [
             0.1111111111111111,
             "#46039f"
            ],
            [
             0.2222222222222222,
             "#7201a8"
            ],
            [
             0.3333333333333333,
             "#9c179e"
            ],
            [
             0.4444444444444444,
             "#bd3786"
            ],
            [
             0.5555555555555556,
             "#d8576b"
            ],
            [
             0.6666666666666666,
             "#ed7953"
            ],
            [
             0.7777777777777778,
             "#fb9f3a"
            ],
            [
             0.8888888888888888,
             "#fdca26"
            ],
            [
             1,
             "#f0f921"
            ]
           ]
          },
          "colorway": [
           "#636efa",
           "#EF553B",
           "#00cc96",
           "#ab63fa",
           "#FFA15A",
           "#19d3f3",
           "#FF6692",
           "#B6E880",
           "#FF97FF",
           "#FECB52"
          ],
          "font": {
           "color": "#2a3f5f"
          },
          "geo": {
           "bgcolor": "white",
           "lakecolor": "white",
           "landcolor": "#E5ECF6",
           "showlakes": true,
           "showland": true,
           "subunitcolor": "white"
          },
          "hoverlabel": {
           "align": "left"
          },
          "hovermode": "closest",
          "mapbox": {
           "style": "light"
          },
          "paper_bgcolor": "white",
          "plot_bgcolor": "#E5ECF6",
          "polar": {
           "angularaxis": {
            "gridcolor": "white",
            "linecolor": "white",
            "ticks": ""
           },
           "bgcolor": "#E5ECF6",
           "radialaxis": {
            "gridcolor": "white",
            "linecolor": "white",
            "ticks": ""
           }
          },
          "scene": {
           "xaxis": {
            "backgroundcolor": "#E5ECF6",
            "gridcolor": "white",
            "gridwidth": 2,
            "linecolor": "white",
            "showbackground": true,
            "ticks": "",
            "zerolinecolor": "white"
           },
           "yaxis": {
            "backgroundcolor": "#E5ECF6",
            "gridcolor": "white",
            "gridwidth": 2,
            "linecolor": "white",
            "showbackground": true,
            "ticks": "",
            "zerolinecolor": "white"
           },
           "zaxis": {
            "backgroundcolor": "#E5ECF6",
            "gridcolor": "white",
            "gridwidth": 2,
            "linecolor": "white",
            "showbackground": true,
            "ticks": "",
            "zerolinecolor": "white"
           }
          },
          "shapedefaults": {
           "line": {
            "color": "#2a3f5f"
           }
          },
          "ternary": {
           "aaxis": {
            "gridcolor": "white",
            "linecolor": "white",
            "ticks": ""
           },
           "baxis": {
            "gridcolor": "white",
            "linecolor": "white",
            "ticks": ""
           },
           "bgcolor": "#E5ECF6",
           "caxis": {
            "gridcolor": "white",
            "linecolor": "white",
            "ticks": ""
           }
          },
          "title": {
           "x": 0.05
          },
          "xaxis": {
           "automargin": true,
           "gridcolor": "white",
           "linecolor": "white",
           "ticks": "",
           "title": {
            "standoff": 15
           },
           "zerolinecolor": "white",
           "zerolinewidth": 2
          },
          "yaxis": {
           "automargin": true,
           "gridcolor": "white",
           "linecolor": "white",
           "ticks": "",
           "title": {
            "standoff": 15
           },
           "zerolinecolor": "white",
           "zerolinewidth": 2
          }
         }
        },
        "title": {
         "text": "Actor Groups vs Attack Contexts in Occupied Palestinian Territories",
         "x": 0.5
        }
       }
      }
     },
     "metadata": {},
     "output_type": "display_data"
    },
    {
     "name": "stderr",
     "output_type": "stream",
     "text": [
      "/var/folders/gc/drvvdqb93dqg4y0zt5zljf5w0000gn/T/ipykernel_12211/4277488772.py:39: FutureWarning:\n",
      "\n",
      "unique with argument that is not not a Series, Index, ExtensionArray, or np.ndarray is deprecated and will raise in a future version.\n",
      "\n"
     ]
    },
    {
     "data": {
      "application/vnd.plotly.v1+json": {
       "config": {
        "plotlyServerURL": "https://plot.ly"
       },
       "data": [
        {
         "link": {
          "color": [
           "rgb(252,187,161)",
           "rgb(252,187,161)",
           "rgb(252,187,161)",
           "rgb(252,187,161)",
           "rgb(252,187,161)",
           "rgb(252,187,161)",
           "rgb(252,187,161)",
           "rgb(252,187,161)",
           "rgb(239,59,44)",
           "rgb(252,187,161)",
           "rgb(252,187,161)",
           "rgb(252,187,161)",
           "rgb(252,187,161)",
           "rgb(251,106,74)",
           "rgb(252,187,161)",
           "rgb(252,187,161)",
           "rgb(252,187,161)",
           "rgb(252,187,161)",
           "rgb(252,187,161)",
           "rgb(103,0,13)",
           "rgb(252,187,161)",
           "rgb(252,187,161)",
           "rgb(251,106,74)",
           "rgb(252,146,114)",
           "rgb(239,59,44)"
          ],
          "source": {
           "bdata": "AAAAAAEBAQECAgICAgIDAwMDAwQEBAQEBA==",
           "dtype": "i1"
          },
          "target": {
           "bdata": "BQYHCAUHCQoFCwcJCAoFBgcICgULBgcICg==",
           "dtype": "i1"
          },
          "value": {
           "bdata": "AwEEAwMDCQEhBQIBCBMEAwIBAjcCARYQHg==",
           "dtype": "i1"
          }
         },
         "node": {
          "color": "lightgray",
          "label": [
           "Criminal",
           "Individual",
           "Non-state Armed Group",
           "State Actor",
           "Unknown (Actor)",
           "Ambush",
           "Detention",
           "Individual attack",
           "Raid",
           "Mob violence",
           "Unknown (Context)",
           "Combat/Crossfire"
          ],
          "line": {
           "color": "black",
           "width": 0.5
          },
          "pad": 15,
          "thickness": 20
         },
         "type": "sankey"
        }
       ],
       "layout": {
        "font": {
         "size": 12
        },
        "height": 600,
        "template": {
         "data": {
          "bar": [
           {
            "error_x": {
             "color": "#2a3f5f"
            },
            "error_y": {
             "color": "#2a3f5f"
            },
            "marker": {
             "line": {
              "color": "#E5ECF6",
              "width": 0.5
             },
             "pattern": {
              "fillmode": "overlay",
              "size": 10,
              "solidity": 0.2
             }
            },
            "type": "bar"
           }
          ],
          "barpolar": [
           {
            "marker": {
             "line": {
              "color": "#E5ECF6",
              "width": 0.5
             },
             "pattern": {
              "fillmode": "overlay",
              "size": 10,
              "solidity": 0.2
             }
            },
            "type": "barpolar"
           }
          ],
          "carpet": [
           {
            "aaxis": {
             "endlinecolor": "#2a3f5f",
             "gridcolor": "white",
             "linecolor": "white",
             "minorgridcolor": "white",
             "startlinecolor": "#2a3f5f"
            },
            "baxis": {
             "endlinecolor": "#2a3f5f",
             "gridcolor": "white",
             "linecolor": "white",
             "minorgridcolor": "white",
             "startlinecolor": "#2a3f5f"
            },
            "type": "carpet"
           }
          ],
          "choropleth": [
           {
            "colorbar": {
             "outlinewidth": 0,
             "ticks": ""
            },
            "type": "choropleth"
           }
          ],
          "contour": [
           {
            "colorbar": {
             "outlinewidth": 0,
             "ticks": ""
            },
            "colorscale": [
             [
              0,
              "#0d0887"
             ],
             [
              0.1111111111111111,
              "#46039f"
             ],
             [
              0.2222222222222222,
              "#7201a8"
             ],
             [
              0.3333333333333333,
              "#9c179e"
             ],
             [
              0.4444444444444444,
              "#bd3786"
             ],
             [
              0.5555555555555556,
              "#d8576b"
             ],
             [
              0.6666666666666666,
              "#ed7953"
             ],
             [
              0.7777777777777778,
              "#fb9f3a"
             ],
             [
              0.8888888888888888,
              "#fdca26"
             ],
             [
              1,
              "#f0f921"
             ]
            ],
            "type": "contour"
           }
          ],
          "contourcarpet": [
           {
            "colorbar": {
             "outlinewidth": 0,
             "ticks": ""
            },
            "type": "contourcarpet"
           }
          ],
          "heatmap": [
           {
            "colorbar": {
             "outlinewidth": 0,
             "ticks": ""
            },
            "colorscale": [
             [
              0,
              "#0d0887"
             ],
             [
              0.1111111111111111,
              "#46039f"
             ],
             [
              0.2222222222222222,
              "#7201a8"
             ],
             [
              0.3333333333333333,
              "#9c179e"
             ],
             [
              0.4444444444444444,
              "#bd3786"
             ],
             [
              0.5555555555555556,
              "#d8576b"
             ],
             [
              0.6666666666666666,
              "#ed7953"
             ],
             [
              0.7777777777777778,
              "#fb9f3a"
             ],
             [
              0.8888888888888888,
              "#fdca26"
             ],
             [
              1,
              "#f0f921"
             ]
            ],
            "type": "heatmap"
           }
          ],
          "histogram": [
           {
            "marker": {
             "pattern": {
              "fillmode": "overlay",
              "size": 10,
              "solidity": 0.2
             }
            },
            "type": "histogram"
           }
          ],
          "histogram2d": [
           {
            "colorbar": {
             "outlinewidth": 0,
             "ticks": ""
            },
            "colorscale": [
             [
              0,
              "#0d0887"
             ],
             [
              0.1111111111111111,
              "#46039f"
             ],
             [
              0.2222222222222222,
              "#7201a8"
             ],
             [
              0.3333333333333333,
              "#9c179e"
             ],
             [
              0.4444444444444444,
              "#bd3786"
             ],
             [
              0.5555555555555556,
              "#d8576b"
             ],
             [
              0.6666666666666666,
              "#ed7953"
             ],
             [
              0.7777777777777778,
              "#fb9f3a"
             ],
             [
              0.8888888888888888,
              "#fdca26"
             ],
             [
              1,
              "#f0f921"
             ]
            ],
            "type": "histogram2d"
           }
          ],
          "histogram2dcontour": [
           {
            "colorbar": {
             "outlinewidth": 0,
             "ticks": ""
            },
            "colorscale": [
             [
              0,
              "#0d0887"
             ],
             [
              0.1111111111111111,
              "#46039f"
             ],
             [
              0.2222222222222222,
              "#7201a8"
             ],
             [
              0.3333333333333333,
              "#9c179e"
             ],
             [
              0.4444444444444444,
              "#bd3786"
             ],
             [
              0.5555555555555556,
              "#d8576b"
             ],
             [
              0.6666666666666666,
              "#ed7953"
             ],
             [
              0.7777777777777778,
              "#fb9f3a"
             ],
             [
              0.8888888888888888,
              "#fdca26"
             ],
             [
              1,
              "#f0f921"
             ]
            ],
            "type": "histogram2dcontour"
           }
          ],
          "mesh3d": [
           {
            "colorbar": {
             "outlinewidth": 0,
             "ticks": ""
            },
            "type": "mesh3d"
           }
          ],
          "parcoords": [
           {
            "line": {
             "colorbar": {
              "outlinewidth": 0,
              "ticks": ""
             }
            },
            "type": "parcoords"
           }
          ],
          "pie": [
           {
            "automargin": true,
            "type": "pie"
           }
          ],
          "scatter": [
           {
            "fillpattern": {
             "fillmode": "overlay",
             "size": 10,
             "solidity": 0.2
            },
            "type": "scatter"
           }
          ],
          "scatter3d": [
           {
            "line": {
             "colorbar": {
              "outlinewidth": 0,
              "ticks": ""
             }
            },
            "marker": {
             "colorbar": {
              "outlinewidth": 0,
              "ticks": ""
             }
            },
            "type": "scatter3d"
           }
          ],
          "scattercarpet": [
           {
            "marker": {
             "colorbar": {
              "outlinewidth": 0,
              "ticks": ""
             }
            },
            "type": "scattercarpet"
           }
          ],
          "scattergeo": [
           {
            "marker": {
             "colorbar": {
              "outlinewidth": 0,
              "ticks": ""
             }
            },
            "type": "scattergeo"
           }
          ],
          "scattergl": [
           {
            "marker": {
             "colorbar": {
              "outlinewidth": 0,
              "ticks": ""
             }
            },
            "type": "scattergl"
           }
          ],
          "scattermap": [
           {
            "marker": {
             "colorbar": {
              "outlinewidth": 0,
              "ticks": ""
             }
            },
            "type": "scattermap"
           }
          ],
          "scattermapbox": [
           {
            "marker": {
             "colorbar": {
              "outlinewidth": 0,
              "ticks": ""
             }
            },
            "type": "scattermapbox"
           }
          ],
          "scatterpolar": [
           {
            "marker": {
             "colorbar": {
              "outlinewidth": 0,
              "ticks": ""
             }
            },
            "type": "scatterpolar"
           }
          ],
          "scatterpolargl": [
           {
            "marker": {
             "colorbar": {
              "outlinewidth": 0,
              "ticks": ""
             }
            },
            "type": "scatterpolargl"
           }
          ],
          "scatterternary": [
           {
            "marker": {
             "colorbar": {
              "outlinewidth": 0,
              "ticks": ""
             }
            },
            "type": "scatterternary"
           }
          ],
          "surface": [
           {
            "colorbar": {
             "outlinewidth": 0,
             "ticks": ""
            },
            "colorscale": [
             [
              0,
              "#0d0887"
             ],
             [
              0.1111111111111111,
              "#46039f"
             ],
             [
              0.2222222222222222,
              "#7201a8"
             ],
             [
              0.3333333333333333,
              "#9c179e"
             ],
             [
              0.4444444444444444,
              "#bd3786"
             ],
             [
              0.5555555555555556,
              "#d8576b"
             ],
             [
              0.6666666666666666,
              "#ed7953"
             ],
             [
              0.7777777777777778,
              "#fb9f3a"
             ],
             [
              0.8888888888888888,
              "#fdca26"
             ],
             [
              1,
              "#f0f921"
             ]
            ],
            "type": "surface"
           }
          ],
          "table": [
           {
            "cells": {
             "fill": {
              "color": "#EBF0F8"
             },
             "line": {
              "color": "white"
             }
            },
            "header": {
             "fill": {
              "color": "#C8D4E3"
             },
             "line": {
              "color": "white"
             }
            },
            "type": "table"
           }
          ]
         },
         "layout": {
          "annotationdefaults": {
           "arrowcolor": "#2a3f5f",
           "arrowhead": 0,
           "arrowwidth": 1
          },
          "autotypenumbers": "strict",
          "coloraxis": {
           "colorbar": {
            "outlinewidth": 0,
            "ticks": ""
           }
          },
          "colorscale": {
           "diverging": [
            [
             0,
             "#8e0152"
            ],
            [
             0.1,
             "#c51b7d"
            ],
            [
             0.2,
             "#de77ae"
            ],
            [
             0.3,
             "#f1b6da"
            ],
            [
             0.4,
             "#fde0ef"
            ],
            [
             0.5,
             "#f7f7f7"
            ],
            [
             0.6,
             "#e6f5d0"
            ],
            [
             0.7,
             "#b8e186"
            ],
            [
             0.8,
             "#7fbc41"
            ],
            [
             0.9,
             "#4d9221"
            ],
            [
             1,
             "#276419"
            ]
           ],
           "sequential": [
            [
             0,
             "#0d0887"
            ],
            [
             0.1111111111111111,
             "#46039f"
            ],
            [
             0.2222222222222222,
             "#7201a8"
            ],
            [
             0.3333333333333333,
             "#9c179e"
            ],
            [
             0.4444444444444444,
             "#bd3786"
            ],
            [
             0.5555555555555556,
             "#d8576b"
            ],
            [
             0.6666666666666666,
             "#ed7953"
            ],
            [
             0.7777777777777778,
             "#fb9f3a"
            ],
            [
             0.8888888888888888,
             "#fdca26"
            ],
            [
             1,
             "#f0f921"
            ]
           ],
           "sequentialminus": [
            [
             0,
             "#0d0887"
            ],
            [
             0.1111111111111111,
             "#46039f"
            ],
            [
             0.2222222222222222,
             "#7201a8"
            ],
            [
             0.3333333333333333,
             "#9c179e"
            ],
            [
             0.4444444444444444,
             "#bd3786"
            ],
            [
             0.5555555555555556,
             "#d8576b"
            ],
            [
             0.6666666666666666,
             "#ed7953"
            ],
            [
             0.7777777777777778,
             "#fb9f3a"
            ],
            [
             0.8888888888888888,
             "#fdca26"
            ],
            [
             1,
             "#f0f921"
            ]
           ]
          },
          "colorway": [
           "#636efa",
           "#EF553B",
           "#00cc96",
           "#ab63fa",
           "#FFA15A",
           "#19d3f3",
           "#FF6692",
           "#B6E880",
           "#FF97FF",
           "#FECB52"
          ],
          "font": {
           "color": "#2a3f5f"
          },
          "geo": {
           "bgcolor": "white",
           "lakecolor": "white",
           "landcolor": "#E5ECF6",
           "showlakes": true,
           "showland": true,
           "subunitcolor": "white"
          },
          "hoverlabel": {
           "align": "left"
          },
          "hovermode": "closest",
          "mapbox": {
           "style": "light"
          },
          "paper_bgcolor": "white",
          "plot_bgcolor": "#E5ECF6",
          "polar": {
           "angularaxis": {
            "gridcolor": "white",
            "linecolor": "white",
            "ticks": ""
           },
           "bgcolor": "#E5ECF6",
           "radialaxis": {
            "gridcolor": "white",
            "linecolor": "white",
            "ticks": ""
           }
          },
          "scene": {
           "xaxis": {
            "backgroundcolor": "#E5ECF6",
            "gridcolor": "white",
            "gridwidth": 2,
            "linecolor": "white",
            "showbackground": true,
            "ticks": "",
            "zerolinecolor": "white"
           },
           "yaxis": {
            "backgroundcolor": "#E5ECF6",
            "gridcolor": "white",
            "gridwidth": 2,
            "linecolor": "white",
            "showbackground": true,
            "ticks": "",
            "zerolinecolor": "white"
           },
           "zaxis": {
            "backgroundcolor": "#E5ECF6",
            "gridcolor": "white",
            "gridwidth": 2,
            "linecolor": "white",
            "showbackground": true,
            "ticks": "",
            "zerolinecolor": "white"
           }
          },
          "shapedefaults": {
           "line": {
            "color": "#2a3f5f"
           }
          },
          "ternary": {
           "aaxis": {
            "gridcolor": "white",
            "linecolor": "white",
            "ticks": ""
           },
           "baxis": {
            "gridcolor": "white",
            "linecolor": "white",
            "ticks": ""
           },
           "bgcolor": "#E5ECF6",
           "caxis": {
            "gridcolor": "white",
            "linecolor": "white",
            "ticks": ""
           }
          },
          "title": {
           "x": 0.05
          },
          "xaxis": {
           "automargin": true,
           "gridcolor": "white",
           "linecolor": "white",
           "ticks": "",
           "title": {
            "standoff": 15
           },
           "zerolinecolor": "white",
           "zerolinewidth": 2
          },
          "yaxis": {
           "automargin": true,
           "gridcolor": "white",
           "linecolor": "white",
           "ticks": "",
           "title": {
            "standoff": 15
           },
           "zerolinecolor": "white",
           "zerolinewidth": 2
          }
         }
        },
        "title": {
         "text": "Actor Groups vs Attack Contexts in DR Congo",
         "x": 0.5
        }
       }
      }
     },
     "metadata": {},
     "output_type": "display_data"
    }
   ],
   "source": [
    "# Make sure the folder exists\n",
    "os.makedirs(\"../plots/grp_context_top7\", exist_ok=True)\n",
    "\n",
    "# Define the top 7 countries\n",
    "top_countries = [\n",
    "    \"Afghanistan\",\n",
    "    \"South Sudan\",\n",
    "    \"Sudan\",\n",
    "    \"Syrian Arab Republic\",\n",
    "    \"Somalia\",\n",
    "    \"Occupied Palestinian Territories\",\n",
    "    \"DR Congo\"\n",
    "]\n",
    "\n",
    "for country in top_countries:\n",
    "    # Filter and drop nulls\n",
    "    sankey_df = df[\n",
    "        (df['Country'] == country) &\n",
    "        (df['ActorGroup'].notna()) &\n",
    "        (df['Attack context'].notna())\n",
    "    ].copy()\n",
    "\n",
    "    # Optional: Distinguish unknown source vs target if needed\n",
    "    sankey_df['ActorGroup_Sankey'] = sankey_df['ActorGroup'].replace({'Unknown': 'Unknown (Actor)'})\n",
    "    sankey_df['AttackContext_Sankey'] = sankey_df['Attack context'].replace({'Unknown': 'Unknown (Context)'})\n",
    "\n",
    "    # Group by ActorGroup and Attack context\n",
    "    grouped = (\n",
    "        sankey_df.groupby(['ActorGroup_Sankey', 'AttackContext_Sankey'])\n",
    "        .size()\n",
    "        .reset_index(name='Count')\n",
    "    )\n",
    "\n",
    "    # Skip if there's no data\n",
    "    if grouped.empty:\n",
    "        continue\n",
    "\n",
    "    # Combine all unique labels (actor + context)\n",
    "    all_labels = pd.unique(grouped['ActorGroup_Sankey'].tolist() + grouped['AttackContext_Sankey'].tolist())\n",
    "    label_to_index = {label: i for i, label in enumerate(all_labels)}\n",
    "\n",
    "    # Create link structure\n",
    "    source = grouped['ActorGroup_Sankey'].map(label_to_index)\n",
    "    target = grouped['AttackContext_Sankey'].map(label_to_index)\n",
    "    value = grouped['Count']\n",
    "\n",
    "    # Normalize and generate dark-red colors\n",
    "    normalized = (value - value.min()) / (value.max() - value.min())\n",
    "    reds = px.colors.sequential.Reds[2:]  # Skip lightest 2\n",
    "    def interpolate_color(val):\n",
    "        idx = int(val * (len(reds) - 1))\n",
    "        return reds[idx]\n",
    "    link_colors = [interpolate_color(v) for v in normalized]\n",
    "\n",
    "    # Plot\n",
    "    fig = go.Figure(data=[go.Sankey(\n",
    "        node=dict(\n",
    "            pad=15,\n",
    "            thickness=20,\n",
    "            line=dict(color=\"black\", width=0.5),\n",
    "            label=all_labels,\n",
    "            color=\"lightgray\"\n",
    "        ),\n",
    "        link=dict(\n",
    "            source=source,\n",
    "            target=target,\n",
    "            value=value,\n",
    "            color=link_colors\n",
    "        )\n",
    "    )])\n",
    "\n",
    "    fig.update_layout(\n",
    "        title_text=f\"Actor Groups vs Attack Contexts in {country}\",\n",
    "        title_x=0.5,\n",
    "        font=dict(size=12),\n",
    "        height=600\n",
    "    )\n",
    "\n",
    "    # Save HTML\n",
    "    filename = f\"../plots/grp_context_top7/{country.replace(' ', '_')}.html\"\n",
    "    fig.write_html(filename)\n",
    "    fig.show()"
   ]
  },
  {
   "cell_type": "code",
   "execution_count": 193,
   "metadata": {},
   "outputs": [],
   "source": [
    "os.makedirs(\"../plots/circlular_bar_charts\", exist_ok=True)\n",
    "\n",
    "# Top 7 countries\n",
    "top_countries = [\n",
    "    \"Afghanistan\",\n",
    "    \"South Sudan\",\n",
    "    \"Sudan\",\n",
    "    \"Syrian Arab Republic\",\n",
    "    \"Somalia\",\n",
    "    \"Occupied Palestinian Territories\",\n",
    "    \"DR Congo\"\n",
    "]\n",
    "\n",
    "# Agency columns\n",
    "agency_cols = ['UN', 'INGO', 'ICRC', 'NRCS and IFRC', 'NNGO', 'Other']\n",
    "\n",
    "# Loop through each country\n",
    "for country in top_countries:\n",
    "    # Filter & reshape\n",
    "    country_df = df[df['Country'] == country].copy()\n",
    "    long_df = country_df.melt(\n",
    "        id_vars=['Total affected'],\n",
    "        value_vars=agency_cols,\n",
    "        var_name='AgencyType',\n",
    "        value_name='Presence'\n",
    "    )\n",
    "    long_df = long_df[long_df['Presence'] > 0]\n",
    "\n",
    "    # Aggregate\n",
    "    agg = long_df.groupby('AgencyType', as_index=False)['Total affected'].sum()\n",
    "    if agg.empty:\n",
    "        continue\n",
    "    agg['Percentage'] = (agg['Total affected'] / agg['Total affected'].sum()) * 100\n",
    "    agg = agg.sort_values('Percentage', ascending=True)\n",
    "\n",
    "    # Setup\n",
    "    N = len(agg)\n",
    "    radii = np.arange(1, N + 1)\n",
    "    theta = 2 * np.pi * agg['Percentage'] / 100\n",
    "    colors = cm.Reds(np.linspace(0.3, 1, N))  # Red gradient\n",
    "\n",
    "    # Plot\n",
    "    fig, ax = plt.subplots(figsize=(8, 8), subplot_kw={'projection': 'polar'})\n",
    "    ax.set_facecolor(\"white\")\n",
    "    fig.patch.set_facecolor(\"white\")\n",
    "    ax.set_theta_zero_location('N')  # 12 o'clock\n",
    "    ax.set_theta_direction(1)        # Clockwise\n",
    "    ax.set_xticks([])\n",
    "    ax.set_yticks([])\n",
    "    ax.grid(False)\n",
    "    ax.spines['polar'].set_visible(False)\n",
    "\n",
    "    # Draw radial bars\n",
    "    for i in range(N):\n",
    "        ax.barh(\n",
    "            y=radii[i],\n",
    "            width=theta.iloc[i],\n",
    "            left=0,\n",
    "            height=0.9,\n",
    "            color=colors[i],\n",
    "            edgecolor='white'\n",
    "        )\n",
    "\n",
    "    # Annotate labels on the right\n",
    "    for i in range(N):\n",
    "        label = f\"{agg['AgencyType'].iloc[i]} {agg['Percentage'].iloc[i]:.1f}%\"\n",
    "        ax.text(\n",
    "            x=np.radians(-1),  # Slightly to the right of 12 o'clock\n",
    "            y=radii[i],\n",
    "            s=label,\n",
    "            ha='left',\n",
    "            va='center',\n",
    "            fontsize=10\n",
    "        )\n",
    "\n",
    "    # Save as transparent PNG\n",
    "    filename = f\"../plots/circlular_bar_charts/{country.replace(' ', '_')}.png\"\n",
    "    plt.tight_layout()\n",
    "    plt.savefig(filename, dpi=300, transparent=True)\n",
    "    plt.close()\n"
   ]
  },
  {
   "cell_type": "code",
   "execution_count": null,
   "metadata": {},
   "outputs": [],
   "source": []
  }
 ],
 "metadata": {
  "kernelspec": {
   "display_name": "base",
   "language": "python",
   "name": "python3"
  },
  "language_info": {
   "codemirror_mode": {
    "name": "ipython",
    "version": 3
   },
   "file_extension": ".py",
   "mimetype": "text/x-python",
   "name": "python",
   "nbconvert_exporter": "python",
   "pygments_lexer": "ipython3",
   "version": "3.10.6"
  }
 },
 "nbformat": 4,
 "nbformat_minor": 2
}
