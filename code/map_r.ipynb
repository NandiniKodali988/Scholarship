{
 "cells": [
  {
   "cell_type": "code",
   "execution_count": 11,
   "metadata": {
    "vscode": {
     "languageId": "r"
    }
   },
   "outputs": [
    {
     "name": "stderr",
     "output_type": "stream",
     "text": [
      "Warning message:\n",
      "\"package 'gifski' was built under R version 4.4.1\"\n"
     ]
    }
   ],
   "source": [
    "library(ggplot2)\n",
    "library(gganimate)\n",
    "library(rnaturalearth)\n",
    "library(rnaturalearthdata)\n",
    "library(dplyr)\n",
    "library(sf)\n",
    "library(gifski)\n",
    "library(IRdisplay)"
   ]
  },
  {
   "cell_type": "code",
   "execution_count": 3,
   "metadata": {
    "vscode": {
     "languageId": "r"
    }
   },
   "outputs": [],
   "source": [
    "security_incidents_clean <- read.csv(\"../data/processed/security_incidents_clean.csv\")"
   ]
  },
  {
   "cell_type": "code",
   "execution_count": 4,
   "metadata": {
    "vscode": {
     "languageId": "r"
    }
   },
   "outputs": [
    {
     "data": {
      "text/html": [
       "<table class=\"dataframe\">\n",
       "<caption>A data.frame: 6 x 39</caption>\n",
       "<thead>\n",
       "\t<tr><th></th><th scope=col>Incident.ID</th><th scope=col>Year</th><th scope=col>Month</th><th scope=col>Country.Code</th><th scope=col>Country</th><th scope=col>Region</th><th scope=col>District</th><th scope=col>City</th><th scope=col>UN</th><th scope=col>INGO</th><th scope=col>...</th><th scope=col>Means.of.attack</th><th scope=col>Attack.context</th><th scope=col>Location</th><th scope=col>Motive</th><th scope=col>Actor.type</th><th scope=col>Actor.name</th><th scope=col>Details</th><th scope=col>Verified</th><th scope=col>Source</th><th scope=col>Group</th></tr>\n",
       "\t<tr><th></th><th scope=col>&lt;int&gt;</th><th scope=col>&lt;int&gt;</th><th scope=col>&lt;int&gt;</th><th scope=col>&lt;chr&gt;</th><th scope=col>&lt;chr&gt;</th><th scope=col>&lt;chr&gt;</th><th scope=col>&lt;chr&gt;</th><th scope=col>&lt;chr&gt;</th><th scope=col>&lt;int&gt;</th><th scope=col>&lt;int&gt;</th><th scope=col>...</th><th scope=col>&lt;chr&gt;</th><th scope=col>&lt;chr&gt;</th><th scope=col>&lt;chr&gt;</th><th scope=col>&lt;chr&gt;</th><th scope=col>&lt;chr&gt;</th><th scope=col>&lt;chr&gt;</th><th scope=col>&lt;chr&gt;</th><th scope=col>&lt;chr&gt;</th><th scope=col>&lt;chr&gt;</th><th scope=col>&lt;chr&gt;</th></tr>\n",
       "</thead>\n",
       "<tbody>\n",
       "\t<tr><th scope=row>1</th><td>1</td><td>1997</td><td>1</td><td>KH</td><td>Cambodia  </td><td>Banteay Meanchey</td><td>Unknown</td><td>Unknown  </td><td>0</td><td>0</td><td>...</td><td>Unknown   </td><td>Unknown          </td><td>Unknown        </td><td>Unknown   </td><td>Unknown                        </td><td>Unknown                                                               </td><td>1 ICRC national staff killed while working in Banteay Meanchey province.                                                                                                                                                  </td><td>Archived</td><td>Archived</td><td>Asia  </td></tr>\n",
       "\t<tr><th scope=row>2</th><td>2</td><td>1997</td><td>1</td><td>RW</td><td>Rwanda    </td><td>Northern        </td><td>Musanze</td><td>Ruhengeri</td><td>0</td><td>4</td><td>...</td><td>Shooting  </td><td>Raid             </td><td>Office/compound</td><td>Unknown   </td><td>Unknown                        </td><td>Unknown                                                               </td><td>3 INGO international (Spanish) staff killed, 1 INGO international (US) staff gravely wounded during armed raid on INGO compound in Ruhengeri, Rwanda.                                                                     </td><td>Archived</td><td>Archived</td><td>Africa</td></tr>\n",
       "\t<tr><th scope=row>3</th><td>3</td><td>1997</td><td>2</td><td>TJ</td><td>Tajikistan</td><td>Unknown         </td><td>Unknown</td><td>Unknown  </td><td>4</td><td>0</td><td>...</td><td>Kidnapping</td><td>Unknown          </td><td>Unknown        </td><td>Unknown   </td><td>Unknown                        </td><td>Unknown                                                               </td><td>3 UN national staff, 1 UN international (Nigerian) staff, 1 ICRC international staff and 1 ICRC national staff kidnapped along with other (not included) UN staff, journalist and Tajik govt rep; released 48 hours later.</td><td>Archived</td><td>Archived</td><td>Asia  </td></tr>\n",
       "\t<tr><th scope=row>4</th><td>4</td><td>1997</td><td>2</td><td>SO</td><td>Somalia   </td><td>Lower Juba      </td><td>Kismayo</td><td>Kismayo  </td><td>0</td><td>1</td><td>...</td><td>Unknown   </td><td>Unknown          </td><td>Unknown        </td><td>Political </td><td>Non-state armed group: Regional</td><td>Al-Itihaad al-Islamiya                                                </td><td>1 INGO international staff killed by Al ittihad militia in Kismayo.                                                                                                                                                       </td><td>Archived</td><td>Archived</td><td>Africa</td></tr>\n",
       "\t<tr><th scope=row>5</th><td>5</td><td>1997</td><td>2</td><td>RW</td><td>Rwanda    </td><td>Kigali          </td><td>Kigali </td><td>Kigali   </td><td>1</td><td>0</td><td>...</td><td>Shooting  </td><td>Individual attack</td><td>Unknown        </td><td>Political </td><td>Unknown                        </td><td>Unknown                                                               </td><td>1 UN national staff shot and killed in Kigali Feb 14.                                                                                                                                                                     </td><td>Archived</td><td>Archived</td><td>Africa</td></tr>\n",
       "\t<tr><th scope=row>6</th><td>7</td><td>1997</td><td>5</td><td>CD</td><td>DR Congo  </td><td>Unknown         </td><td>Unknown</td><td>Unknown  </td><td>0</td><td>0</td><td>...</td><td>Unknown   </td><td>Combat/Crossfire </td><td>Unknown        </td><td>Incidental</td><td>Non-state armed group: National</td><td>Alliance of Democratic Forces for the Liberation of Congo-Zaire (ADFL)</td><td>10 NRCS staff first aid workers killed in fighting between Zairean troops and rebels from the Alliance of Democratic Forces for the Liberation of Congo-Zaire (ADFL).                                                     </td><td>Archived</td><td>Archived</td><td>Africa</td></tr>\n",
       "</tbody>\n",
       "</table>\n"
      ],
      "text/latex": [
       "A data.frame: 6 x 39\n",
       "\\begin{tabular}{r|lllllllllllllllllllll}\n",
       "  & Incident.ID & Year & Month & Country.Code & Country & Region & District & City & UN & INGO & ... & Means.of.attack & Attack.context & Location & Motive & Actor.type & Actor.name & Details & Verified & Source & Group\\\\\n",
       "  & <int> & <int> & <int> & <chr> & <chr> & <chr> & <chr> & <chr> & <int> & <int> & ... & <chr> & <chr> & <chr> & <chr> & <chr> & <chr> & <chr> & <chr> & <chr> & <chr>\\\\\n",
       "\\hline\n",
       "\t1 & 1 & 1997 & 1 & KH & Cambodia   & Banteay Meanchey & Unknown & Unknown   & 0 & 0 & ... & Unknown    & Unknown           & Unknown         & Unknown    & Unknown                         & Unknown                                                                & 1 ICRC national staff killed while working in Banteay Meanchey province.                                                                                                                                                   & Archived & Archived & Asia  \\\\\n",
       "\t2 & 2 & 1997 & 1 & RW & Rwanda     & Northern         & Musanze & Ruhengeri & 0 & 4 & ... & Shooting   & Raid              & Office/compound & Unknown    & Unknown                         & Unknown                                                                & 3 INGO international (Spanish) staff killed, 1 INGO international (US) staff gravely wounded during armed raid on INGO compound in Ruhengeri, Rwanda.                                                                      & Archived & Archived & Africa\\\\\n",
       "\t3 & 3 & 1997 & 2 & TJ & Tajikistan & Unknown          & Unknown & Unknown   & 4 & 0 & ... & Kidnapping & Unknown           & Unknown         & Unknown    & Unknown                         & Unknown                                                                & 3 UN national staff, 1 UN international (Nigerian) staff, 1 ICRC international staff and 1 ICRC national staff kidnapped along with other (not included) UN staff, journalist and Tajik govt rep; released 48 hours later. & Archived & Archived & Asia  \\\\\n",
       "\t4 & 4 & 1997 & 2 & SO & Somalia    & Lower Juba       & Kismayo & Kismayo   & 0 & 1 & ... & Unknown    & Unknown           & Unknown         & Political  & Non-state armed group: Regional & Al-Itihaad al-Islamiya                                                 & 1 INGO international staff killed by Al ittihad militia in Kismayo.                                                                                                                                                        & Archived & Archived & Africa\\\\\n",
       "\t5 & 5 & 1997 & 2 & RW & Rwanda     & Kigali           & Kigali  & Kigali    & 1 & 0 & ... & Shooting   & Individual attack & Unknown         & Political  & Unknown                         & Unknown                                                                & 1 UN national staff shot and killed in Kigali Feb 14.                                                                                                                                                                      & Archived & Archived & Africa\\\\\n",
       "\t6 & 7 & 1997 & 5 & CD & DR Congo   & Unknown          & Unknown & Unknown   & 0 & 0 & ... & Unknown    & Combat/Crossfire  & Unknown         & Incidental & Non-state armed group: National & Alliance of Democratic Forces for the Liberation of Congo-Zaire (ADFL) & 10 NRCS staff first aid workers killed in fighting between Zairean troops and rebels from the Alliance of Democratic Forces for the Liberation of Congo-Zaire (ADFL).                                                      & Archived & Archived & Africa\\\\\n",
       "\\end{tabular}\n"
      ],
      "text/markdown": [
       "\n",
       "A data.frame: 6 x 39\n",
       "\n",
       "| <!--/--> | Incident.ID &lt;int&gt; | Year &lt;int&gt; | Month &lt;int&gt; | Country.Code &lt;chr&gt; | Country &lt;chr&gt; | Region &lt;chr&gt; | District &lt;chr&gt; | City &lt;chr&gt; | UN &lt;int&gt; | INGO &lt;int&gt; | ... ... | Means.of.attack &lt;chr&gt; | Attack.context &lt;chr&gt; | Location &lt;chr&gt; | Motive &lt;chr&gt; | Actor.type &lt;chr&gt; | Actor.name &lt;chr&gt; | Details &lt;chr&gt; | Verified &lt;chr&gt; | Source &lt;chr&gt; | Group &lt;chr&gt; |\n",
       "|---|---|---|---|---|---|---|---|---|---|---|---|---|---|---|---|---|---|---|---|---|---|\n",
       "| 1 | 1 | 1997 | 1 | KH | Cambodia   | Banteay Meanchey | Unknown | Unknown   | 0 | 0 | ... | Unknown    | Unknown           | Unknown         | Unknown    | Unknown                         | Unknown                                                                | 1 ICRC national staff killed while working in Banteay Meanchey province.                                                                                                                                                   | Archived | Archived | Asia   |\n",
       "| 2 | 2 | 1997 | 1 | RW | Rwanda     | Northern         | Musanze | Ruhengeri | 0 | 4 | ... | Shooting   | Raid              | Office/compound | Unknown    | Unknown                         | Unknown                                                                | 3 INGO international (Spanish) staff killed, 1 INGO international (US) staff gravely wounded during armed raid on INGO compound in Ruhengeri, Rwanda.                                                                      | Archived | Archived | Africa |\n",
       "| 3 | 3 | 1997 | 2 | TJ | Tajikistan | Unknown          | Unknown | Unknown   | 4 | 0 | ... | Kidnapping | Unknown           | Unknown         | Unknown    | Unknown                         | Unknown                                                                | 3 UN national staff, 1 UN international (Nigerian) staff, 1 ICRC international staff and 1 ICRC national staff kidnapped along with other (not included) UN staff, journalist and Tajik govt rep; released 48 hours later. | Archived | Archived | Asia   |\n",
       "| 4 | 4 | 1997 | 2 | SO | Somalia    | Lower Juba       | Kismayo | Kismayo   | 0 | 1 | ... | Unknown    | Unknown           | Unknown         | Political  | Non-state armed group: Regional | Al-Itihaad al-Islamiya                                                 | 1 INGO international staff killed by Al ittihad militia in Kismayo.                                                                                                                                                        | Archived | Archived | Africa |\n",
       "| 5 | 5 | 1997 | 2 | RW | Rwanda     | Kigali           | Kigali  | Kigali    | 1 | 0 | ... | Shooting   | Individual attack | Unknown         | Political  | Unknown                         | Unknown                                                                | 1 UN national staff shot and killed in Kigali Feb 14.                                                                                                                                                                      | Archived | Archived | Africa |\n",
       "| 6 | 7 | 1997 | 5 | CD | DR Congo   | Unknown          | Unknown | Unknown   | 0 | 0 | ... | Unknown    | Combat/Crossfire  | Unknown         | Incidental | Non-state armed group: National | Alliance of Democratic Forces for the Liberation of Congo-Zaire (ADFL) | 10 NRCS staff first aid workers killed in fighting between Zairean troops and rebels from the Alliance of Democratic Forces for the Liberation of Congo-Zaire (ADFL).                                                      | Archived | Archived | Africa |\n",
       "\n"
      ],
      "text/plain": [
       "  Incident.ID Year Month Country.Code Country    Region           District\n",
       "1 1           1997 1     KH           Cambodia   Banteay Meanchey Unknown \n",
       "2 2           1997 1     RW           Rwanda     Northern         Musanze \n",
       "3 3           1997 2     TJ           Tajikistan Unknown          Unknown \n",
       "4 4           1997 2     SO           Somalia    Lower Juba       Kismayo \n",
       "5 5           1997 2     RW           Rwanda     Kigali           Kigali  \n",
       "6 7           1997 5     CD           DR Congo   Unknown          Unknown \n",
       "  City      UN INGO ... Means.of.attack Attack.context    Location       \n",
       "1 Unknown   0  0    ... Unknown         Unknown           Unknown        \n",
       "2 Ruhengeri 0  4    ... Shooting        Raid              Office/compound\n",
       "3 Unknown   4  0    ... Kidnapping      Unknown           Unknown        \n",
       "4 Kismayo   0  1    ... Unknown         Unknown           Unknown        \n",
       "5 Kigali    1  0    ... Shooting        Individual attack Unknown        \n",
       "6 Unknown   0  0    ... Unknown         Combat/Crossfire  Unknown        \n",
       "  Motive     Actor.type                     \n",
       "1 Unknown    Unknown                        \n",
       "2 Unknown    Unknown                        \n",
       "3 Unknown    Unknown                        \n",
       "4 Political  Non-state armed group: Regional\n",
       "5 Political  Unknown                        \n",
       "6 Incidental Non-state armed group: National\n",
       "  Actor.name                                                            \n",
       "1 Unknown                                                               \n",
       "2 Unknown                                                               \n",
       "3 Unknown                                                               \n",
       "4 Al-Itihaad al-Islamiya                                                \n",
       "5 Unknown                                                               \n",
       "6 Alliance of Democratic Forces for the Liberation of Congo-Zaire (ADFL)\n",
       "  Details                                                                                                                                                                                                                   \n",
       "1 1 ICRC national staff killed while working in Banteay Meanchey province.                                                                                                                                                  \n",
       "2 3 INGO international (Spanish) staff killed, 1 INGO international (US) staff gravely wounded during armed raid on INGO compound in Ruhengeri, Rwanda.                                                                     \n",
       "3 3 UN national staff, 1 UN international (Nigerian) staff, 1 ICRC international staff and 1 ICRC national staff kidnapped along with other (not included) UN staff, journalist and Tajik govt rep; released 48 hours later.\n",
       "4 1 INGO international staff killed by Al ittihad militia in Kismayo.                                                                                                                                                       \n",
       "5 1 UN national staff shot and killed in Kigali Feb 14.                                                                                                                                                                     \n",
       "6 10 NRCS staff first aid workers killed in fighting between Zairean troops and rebels from the Alliance of Democratic Forces for the Liberation of Congo-Zaire (ADFL).                                                     \n",
       "  Verified Source   Group \n",
       "1 Archived Archived Asia  \n",
       "2 Archived Archived Africa\n",
       "3 Archived Archived Asia  \n",
       "4 Archived Archived Africa\n",
       "5 Archived Archived Africa\n",
       "6 Archived Archived Africa"
      ]
     },
     "metadata": {},
     "output_type": "display_data"
    }
   ],
   "source": [
    "head(security_incidents_clean)"
   ]
  },
  {
   "cell_type": "code",
   "execution_count": 7,
   "metadata": {
    "vscode": {
     "languageId": "r"
    }
   },
   "outputs": [
    {
     "data": {
      "text/html": [
       "<style>\n",
       ".list-inline {list-style: none; margin:0; padding: 0}\n",
       ".list-inline>li {display: inline-block}\n",
       ".list-inline>li:not(:last-child)::after {content: \"\\00b7\"; padding: 0 .5ex}\n",
       "</style>\n",
       "<ol class=list-inline><li>'Incident.ID'</li><li>'Year'</li><li>'Month'</li><li>'Country.Code'</li><li>'Country'</li><li>'Region'</li><li>'District'</li><li>'City'</li><li>'UN'</li><li>'INGO'</li><li>'ICRC'</li><li>'NRCS.and.IFRC'</li><li>'NNGO'</li><li>'Other'</li><li>'Nationals.killed'</li><li>'Nationals.wounded'</li><li>'Nationals.kidnapped'</li><li>'Total.nationals'</li><li>'Internationals.killed'</li><li>'Internationals.wounded'</li><li>'Internationals.kidnapped'</li><li>'Total.internationals'</li><li>'Total.killed'</li><li>'Total.wounded'</li><li>'Total.kidnapped'</li><li>'Total.affected'</li><li>'Gender.Male'</li><li>'Gender.Female'</li><li>'Gender.Unknown'</li><li>'Means.of.attack'</li><li>'Attack.context'</li><li>'Location'</li><li>'Motive'</li><li>'Actor.type'</li><li>'Actor.name'</li><li>'Details'</li><li>'Verified'</li><li>'Source'</li><li>'Group'</li></ol>\n"
      ],
      "text/latex": [
       "\\begin{enumerate*}\n",
       "\\item 'Incident.ID'\n",
       "\\item 'Year'\n",
       "\\item 'Month'\n",
       "\\item 'Country.Code'\n",
       "\\item 'Country'\n",
       "\\item 'Region'\n",
       "\\item 'District'\n",
       "\\item 'City'\n",
       "\\item 'UN'\n",
       "\\item 'INGO'\n",
       "\\item 'ICRC'\n",
       "\\item 'NRCS.and.IFRC'\n",
       "\\item 'NNGO'\n",
       "\\item 'Other'\n",
       "\\item 'Nationals.killed'\n",
       "\\item 'Nationals.wounded'\n",
       "\\item 'Nationals.kidnapped'\n",
       "\\item 'Total.nationals'\n",
       "\\item 'Internationals.killed'\n",
       "\\item 'Internationals.wounded'\n",
       "\\item 'Internationals.kidnapped'\n",
       "\\item 'Total.internationals'\n",
       "\\item 'Total.killed'\n",
       "\\item 'Total.wounded'\n",
       "\\item 'Total.kidnapped'\n",
       "\\item 'Total.affected'\n",
       "\\item 'Gender.Male'\n",
       "\\item 'Gender.Female'\n",
       "\\item 'Gender.Unknown'\n",
       "\\item 'Means.of.attack'\n",
       "\\item 'Attack.context'\n",
       "\\item 'Location'\n",
       "\\item 'Motive'\n",
       "\\item 'Actor.type'\n",
       "\\item 'Actor.name'\n",
       "\\item 'Details'\n",
       "\\item 'Verified'\n",
       "\\item 'Source'\n",
       "\\item 'Group'\n",
       "\\end{enumerate*}\n"
      ],
      "text/markdown": [
       "1. 'Incident.ID'\n",
       "2. 'Year'\n",
       "3. 'Month'\n",
       "4. 'Country.Code'\n",
       "5. 'Country'\n",
       "6. 'Region'\n",
       "7. 'District'\n",
       "8. 'City'\n",
       "9. 'UN'\n",
       "10. 'INGO'\n",
       "11. 'ICRC'\n",
       "12. 'NRCS.and.IFRC'\n",
       "13. 'NNGO'\n",
       "14. 'Other'\n",
       "15. 'Nationals.killed'\n",
       "16. 'Nationals.wounded'\n",
       "17. 'Nationals.kidnapped'\n",
       "18. 'Total.nationals'\n",
       "19. 'Internationals.killed'\n",
       "20. 'Internationals.wounded'\n",
       "21. 'Internationals.kidnapped'\n",
       "22. 'Total.internationals'\n",
       "23. 'Total.killed'\n",
       "24. 'Total.wounded'\n",
       "25. 'Total.kidnapped'\n",
       "26. 'Total.affected'\n",
       "27. 'Gender.Male'\n",
       "28. 'Gender.Female'\n",
       "29. 'Gender.Unknown'\n",
       "30. 'Means.of.attack'\n",
       "31. 'Attack.context'\n",
       "32. 'Location'\n",
       "33. 'Motive'\n",
       "34. 'Actor.type'\n",
       "35. 'Actor.name'\n",
       "36. 'Details'\n",
       "37. 'Verified'\n",
       "38. 'Source'\n",
       "39. 'Group'\n",
       "\n",
       "\n"
      ],
      "text/plain": [
       " [1] \"Incident.ID\"              \"Year\"                    \n",
       " [3] \"Month\"                    \"Country.Code\"            \n",
       " [5] \"Country\"                  \"Region\"                  \n",
       " [7] \"District\"                 \"City\"                    \n",
       " [9] \"UN\"                       \"INGO\"                    \n",
       "[11] \"ICRC\"                     \"NRCS.and.IFRC\"           \n",
       "[13] \"NNGO\"                     \"Other\"                   \n",
       "[15] \"Nationals.killed\"         \"Nationals.wounded\"       \n",
       "[17] \"Nationals.kidnapped\"      \"Total.nationals\"         \n",
       "[19] \"Internationals.killed\"    \"Internationals.wounded\"  \n",
       "[21] \"Internationals.kidnapped\" \"Total.internationals\"    \n",
       "[23] \"Total.killed\"             \"Total.wounded\"           \n",
       "[25] \"Total.kidnapped\"          \"Total.affected\"          \n",
       "[27] \"Gender.Male\"              \"Gender.Female\"           \n",
       "[29] \"Gender.Unknown\"           \"Means.of.attack\"         \n",
       "[31] \"Attack.context\"           \"Location\"                \n",
       "[33] \"Motive\"                   \"Actor.type\"              \n",
       "[35] \"Actor.name\"               \"Details\"                 \n",
       "[37] \"Verified\"                 \"Source\"                  \n",
       "[39] \"Group\"                   "
      ]
     },
     "metadata": {},
     "output_type": "display_data"
    }
   ],
   "source": [
    "colnames(security_incidents_clean)\n"
   ]
  },
  {
   "cell_type": "code",
   "execution_count": 8,
   "metadata": {
    "vscode": {
     "languageId": "r"
    }
   },
   "outputs": [],
   "source": [
    "# Group by Country and Year, sum Total.affected\n",
    "country_year_data <- security_incidents_clean |>\n",
    "  group_by(Country, Year) |>\n",
    "  summarise(TotalAffected = sum(Total.affected, na.rm = TRUE), .groups = \"drop\") |>\n",
    "  filter(!is.na(TotalAffected) & TotalAffected > 0)\n"
   ]
  },
  {
   "cell_type": "code",
   "execution_count": 9,
   "metadata": {
    "vscode": {
     "languageId": "r"
    }
   },
   "outputs": [],
   "source": [
    "# Load world shapefile\n",
    "world <- ne_countries(scale = \"medium\", returnclass = \"sf\")\n",
    "\n",
    "# Join your summarized data with map data\n",
    "world_data <- left_join(world, country_year_data, by = c(\"name\" = \"Country\"))"
   ]
  },
  {
   "cell_type": "code",
   "execution_count": 10,
   "metadata": {
    "vscode": {
     "languageId": "r"
    }
   },
   "outputs": [],
   "source": [
    "p <- ggplot(world_data) +\n",
    "  geom_sf(fill = \"gray90\", color = \"white\") +\n",
    "  geom_sf(aes(size = TotalAffected), color = \"red\", alpha = 0.6) +\n",
    "  scale_size_continuous(range = c(1, 20), breaks = c(10, 50, 100, 200)) +\n",
    "  labs(\n",
    "    title = 'Year: {closest_state}',\n",
    "    size = 'Total Affected'\n",
    "  ) +\n",
    "  theme_minimal() +\n",
    "  transition_states(Year, transition_length = 2, state_length = 1) +\n",
    "  ease_aes('linear')\n"
   ]
  },
  {
   "cell_type": "code",
   "execution_count": null,
   "metadata": {
    "vscode": {
     "languageId": "r"
    }
   },
   "outputs": [],
   "source": []
  }
 ],
 "metadata": {
  "kernelspec": {
   "display_name": "R",
   "language": "R",
   "name": "ir"
  },
  "language_info": {
   "codemirror_mode": "r",
   "file_extension": ".r",
   "mimetype": "text/x-r-source",
   "name": "R",
   "pygments_lexer": "r",
   "version": "4.4.0"
  }
 },
 "nbformat": 4,
 "nbformat_minor": 2
}
